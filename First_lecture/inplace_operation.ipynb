{
 "cells": [
  {
   "cell_type": "code",
   "execution_count": 1,
   "id": "f4909f71",
   "metadata": {},
   "outputs": [
    {
     "name": "stdout",
     "output_type": "stream",
     "text": [
      "tensor([[0.3965, 0.5525, 0.9104],\n",
      "        [0.0705, 0.2943, 0.6548]])\n",
      "tensor([[0.0348, 0.5703, 0.8162],\n",
      "        [0.4004, 0.4481, 0.4400]])\n"
     ]
    }
   ],
   "source": [
    "import torch\n",
    "\n",
    "m=torch.rand(2,3)\n",
    "n=torch.rand(2,3)\n",
    "\n",
    "print(m)\n",
    "print(n)\n"
   ]
  },
  {
   "cell_type": "code",
   "execution_count": 2,
   "id": "be9afa5a",
   "metadata": {},
   "outputs": [
    {
     "data": {
      "text/plain": [
       "tensor([[0.4313, 1.1229, 1.7266],\n",
       "        [0.4708, 0.7424, 1.0948]])"
      ]
     },
     "execution_count": 2,
     "metadata": {},
     "output_type": "execute_result"
    }
   ],
   "source": [
    "m+n"
   ]
  },
  {
   "cell_type": "code",
   "execution_count": 3,
   "id": "c86e37e8",
   "metadata": {},
   "outputs": [
    {
     "name": "stdout",
     "output_type": "stream",
     "text": [
      "tensor([[0.4313, 1.1229, 1.7266],\n",
      "        [0.4708, 0.7424, 1.0948]])\n"
     ]
    }
   ],
   "source": [
    "# Thhat is small but we work on big project then is change in\n",
    "\n",
    "m.add_(n)\n",
    "print(m)\n"
   ]
  },
  {
   "cell_type": "code",
   "execution_count": 4,
   "id": "5f9ba63b",
   "metadata": {},
   "outputs": [
    {
     "name": "stdout",
     "output_type": "stream",
     "text": [
      "tensor([[0.0348, 0.5703, 0.8162],\n",
      "        [0.4004, 0.4481, 0.4400]])\n"
     ]
    }
   ],
   "source": [
    "print(n)"
   ]
  },
  {
   "cell_type": "code",
   "execution_count": 5,
   "id": "f600a94b",
   "metadata": {},
   "outputs": [
    {
     "data": {
      "text/plain": [
       "tensor([[0.4313, 1.1229, 1.7266],\n",
       "        [0.4708, 0.7424, 1.0948]])"
      ]
     },
     "execution_count": 5,
     "metadata": {},
     "output_type": "execute_result"
    }
   ],
   "source": [
    "torch.relu(m)"
   ]
  },
  {
   "cell_type": "code",
   "execution_count": 6,
   "id": "411d1336",
   "metadata": {},
   "outputs": [
    {
     "data": {
      "text/plain": [
       "tensor([[0.4313, 1.1229, 1.7266],\n",
       "        [0.4708, 0.7424, 1.0948]])"
      ]
     },
     "execution_count": 6,
     "metadata": {},
     "output_type": "execute_result"
    }
   ],
   "source": [
    "m.relu_()"
   ]
  },
  {
   "cell_type": "code",
   "execution_count": 7,
   "id": "11bcfbbd",
   "metadata": {},
   "outputs": [
    {
     "data": {
      "text/plain": [
       "tensor([[0.6062, 0.7545, 0.8490],\n",
       "        [0.6156, 0.6775, 0.7493]])"
      ]
     },
     "execution_count": 7,
     "metadata": {},
     "output_type": "execute_result"
    }
   ],
   "source": [
    "m.sigmoid_()"
   ]
  },
  {
   "cell_type": "code",
   "execution_count": 8,
   "id": "501c235c",
   "metadata": {},
   "outputs": [
    {
     "data": {
      "text/plain": [
       "tensor([[0.5414, 0.6378, 0.6905],\n",
       "        [0.5480, 0.5899, 0.6347]])"
      ]
     },
     "execution_count": 8,
     "metadata": {},
     "output_type": "execute_result"
    }
   ],
   "source": [
    "m.tanh_()"
   ]
  },
  {
   "cell_type": "code",
   "execution_count": 9,
   "id": "5c21c2b3",
   "metadata": {},
   "outputs": [],
   "source": [
    "# Aap inplace operation ko use karein because ther is no need to create new memory its very fast"
   ]
  },
  {
   "cell_type": "markdown",
   "id": "93047c70",
   "metadata": {},
   "source": [
    "Cpying a tensor"
   ]
  },
  {
   "cell_type": "code",
   "execution_count": 10,
   "id": "64bc8d44",
   "metadata": {},
   "outputs": [
    {
     "name": "stdout",
     "output_type": "stream",
     "text": [
      "tensor([[0.3980, 0.0804, 0.4488],\n",
      "        [0.9306, 0.9123, 0.2169]])\n",
      "tensor([[0.2693, 0.2687, 0.1231],\n",
      "        [0.8654, 0.9840, 0.5901]])\n"
     ]
    }
   ],
   "source": [
    "A=torch.rand(2,3)\n",
    "B=torch.rand(2,3)\n",
    "\n",
    "\n",
    "print(A)\n",
    "print(B)\n"
   ]
  },
  {
   "cell_type": "code",
   "execution_count": 11,
   "id": "2a4ed7a9",
   "metadata": {},
   "outputs": [],
   "source": [
    "A=B"
   ]
  },
  {
   "cell_type": "code",
   "execution_count": 12,
   "id": "07a9948e",
   "metadata": {},
   "outputs": [
    {
     "data": {
      "text/plain": [
       "tensor([[0.2693, 0.2687, 0.1231],\n",
       "        [0.8654, 0.9840, 0.5901]])"
      ]
     },
     "execution_count": 12,
     "metadata": {},
     "output_type": "execute_result"
    }
   ],
   "source": [
    "A"
   ]
  },
  {
   "cell_type": "code",
   "execution_count": 13,
   "id": "eaeab912",
   "metadata": {},
   "outputs": [
    {
     "data": {
      "text/plain": [
       "tensor([[10.0000,  0.2687,  0.1231],\n",
       "        [ 0.8654,  0.9840,  0.5901]])"
      ]
     },
     "execution_count": 13,
     "metadata": {},
     "output_type": "execute_result"
    }
   ],
   "source": [
    "A[0][0]=10\n",
    "A"
   ]
  },
  {
   "cell_type": "code",
   "execution_count": 14,
   "id": "d27252f7",
   "metadata": {},
   "outputs": [
    {
     "data": {
      "text/plain": [
       "tensor([[10.0000,  0.2687,  0.1231],\n",
       "        [ 0.8654,  0.9840,  0.5901]])"
      ]
     },
     "execution_count": 14,
     "metadata": {},
     "output_type": "execute_result"
    }
   ],
   "source": [
    "B"
   ]
  },
  {
   "cell_type": "code",
   "execution_count": 15,
   "id": "07f261dc",
   "metadata": {},
   "outputs": [],
   "source": [
    "# That is not desireable "
   ]
  },
  {
   "cell_type": "code",
   "execution_count": 16,
   "id": "c54c6c82",
   "metadata": {},
   "outputs": [
    {
     "data": {
      "text/plain": [
       "2028706308768"
      ]
     },
     "execution_count": 16,
     "metadata": {},
     "output_type": "execute_result"
    }
   ],
   "source": [
    "id(B)\n"
   ]
  },
  {
   "cell_type": "code",
   "execution_count": 17,
   "id": "edc85422",
   "metadata": {},
   "outputs": [
    {
     "data": {
      "text/plain": [
       "2028706308768"
      ]
     },
     "execution_count": 17,
     "metadata": {},
     "output_type": "execute_result"
    }
   ],
   "source": [
    "id(A)"
   ]
  },
  {
   "cell_type": "code",
   "execution_count": 18,
   "id": "28d0bb86",
   "metadata": {},
   "outputs": [
    {
     "data": {
      "text/plain": [
       "tensor([[10.0000,  0.2687,  0.1231],\n",
       "        [ 0.8654,  0.9840,  0.5901]])"
      ]
     },
     "execution_count": 18,
     "metadata": {},
     "output_type": "execute_result"
    }
   ],
   "source": [
    "A=B.clone()\n",
    "A"
   ]
  },
  {
   "cell_type": "code",
   "execution_count": 19,
   "id": "a26e4794",
   "metadata": {},
   "outputs": [
    {
     "data": {
      "text/plain": [
       "tensor([[ 10.0000,   0.2687,   0.1231],\n",
       "        [  0.8654, 100.0000,   0.5901]])"
      ]
     },
     "execution_count": 19,
     "metadata": {},
     "output_type": "execute_result"
    }
   ],
   "source": [
    "A[1][1]=100\n",
    "A"
   ]
  },
  {
   "cell_type": "code",
   "execution_count": 20,
   "id": "680cb535",
   "metadata": {},
   "outputs": [
    {
     "data": {
      "text/plain": [
       "tensor([[10.0000,  0.2687,  0.1231],\n",
       "        [ 0.8654,  0.9840,  0.5901]])"
      ]
     },
     "execution_count": 20,
     "metadata": {},
     "output_type": "execute_result"
    }
   ],
   "source": [
    "B"
   ]
  },
  {
   "cell_type": "code",
   "execution_count": 21,
   "id": "bd252dbb",
   "metadata": {},
   "outputs": [
    {
     "data": {
      "text/plain": [
       "2028706678160"
      ]
     },
     "execution_count": 21,
     "metadata": {},
     "output_type": "execute_result"
    }
   ],
   "source": [
    "id(A)"
   ]
  },
  {
   "cell_type": "code",
   "execution_count": 22,
   "id": "cc861f6d",
   "metadata": {},
   "outputs": [
    {
     "data": {
      "text/plain": [
       "2028706308768"
      ]
     },
     "execution_count": 22,
     "metadata": {},
     "output_type": "execute_result"
    }
   ],
   "source": [
    "id(B)"
   ]
  },
  {
   "cell_type": "markdown",
   "id": "612b3a74",
   "metadata": {},
   "source": [
    "Tensor on GPU "
   ]
  },
  {
   "cell_type": "code",
   "execution_count": 23,
   "id": "dbf1b57e",
   "metadata": {},
   "outputs": [
    {
     "name": "stdout",
     "output_type": "stream",
     "text": [
      "GPU is available\n",
      "cuda\n"
     ]
    }
   ],
   "source": [
    "if torch.cuda.is_available():\n",
    "    print(\"GPU is available\")\n",
    "    device = \"cuda\"\n",
    "    \n",
    "else:\n",
    "    device = \"cpu\"\n",
    "\n",
    "print(device)"
   ]
  },
  {
   "cell_type": "code",
   "execution_count": 24,
   "id": "02a53597",
   "metadata": {},
   "outputs": [],
   "source": [
    "device=torch.device('cuda')\n"
   ]
  },
  {
   "cell_type": "code",
   "execution_count": 25,
   "id": "5c89aa2d",
   "metadata": {},
   "outputs": [
    {
     "data": {
      "text/plain": [
       "tensor([[0.2252, 0.7331, 0.4943],\n",
       "        [0.3346, 0.8685, 0.8487],\n",
       "        [0.8300, 0.6162, 0.5628]], device='cuda:0')"
      ]
     },
     "execution_count": 25,
     "metadata": {},
     "output_type": "execute_result"
    }
   ],
   "source": [
    "x=torch.rand(3,3)\n",
    "x=x.to(device)\n",
    "x"
   ]
  },
  {
   "cell_type": "code",
   "execution_count": 26,
   "id": "de8e5572",
   "metadata": {},
   "outputs": [
    {
     "data": {
      "text/plain": [
       "tensor([[5.2252, 5.7331, 5.4943],\n",
       "        [5.3346, 5.8685, 5.8487],\n",
       "        [5.8300, 5.6162, 5.5628]], device='cuda:0')"
      ]
     },
     "execution_count": 26,
     "metadata": {},
     "output_type": "execute_result"
    }
   ],
   "source": [
    "x+5"
   ]
  },
  {
   "cell_type": "code",
   "execution_count": 27,
   "id": "fb5fc281",
   "metadata": {},
   "outputs": [
    {
     "name": "stdout",
     "output_type": "stream",
     "text": [
      "Time taken to perform matrix multiplication: 2.178166151046753 seconds\n"
     ]
    }
   ],
   "source": [
    "import time\n",
    "#Define the size of the matrix\n",
    "N=10000\n",
    "\n",
    "#Create two random matrics\n",
    "\n",
    "A=torch.randn(N,N)\n",
    "B=torch.randn(N,N)\n",
    "\n",
    "#Measure the time taken to perform matrix multiplication\n",
    "start_time=time.time()\n",
    "C=torch.mm(A,B)\n",
    "end_time=time.time()\n",
    "\n",
    "print(f\"Time taken to perform matrix multiplication: {end_time-start_time} seconds\")\n"
   ]
  },
  {
   "cell_type": "code",
   "execution_count": 28,
   "id": "35ae40c2",
   "metadata": {},
   "outputs": [
    {
     "data": {
      "text/plain": [
       "tensor([[  85.6553,   17.5693, -114.1959,  ..., -111.6714,  -28.5966,\n",
       "          -71.6181],\n",
       "        [  79.9320,   26.6717,   19.3235,  ..., -120.0914,   54.1370,\n",
       "          -38.1170],\n",
       "        [ 100.0046,  -91.6877,  -25.9487,  ...,  -73.2044,   92.5110,\n",
       "           99.3663],\n",
       "        ...,\n",
       "        [  65.4676,   68.7367,   81.3956,  ..., -103.5152, -117.1153,\n",
       "          274.8927],\n",
       "        [  47.9742,   -1.3852,  -23.8910,  ..., -101.3387,   35.7062,\n",
       "           37.6353],\n",
       "        [  31.1878,  -42.0753,  -55.4663,  ..., -186.8930,  -35.3568,\n",
       "          -50.8281]])"
      ]
     },
     "execution_count": 28,
     "metadata": {},
     "output_type": "execute_result"
    }
   ],
   "source": [
    "C"
   ]
  },
  {
   "cell_type": "code",
   "execution_count": 29,
   "id": "c82abac2",
   "metadata": {},
   "outputs": [
    {
     "name": "stdout",
     "output_type": "stream",
     "text": [
      "Time taken to perform matrix multiplication: 0.0253298282623291 seconds\n"
     ]
    }
   ],
   "source": [
    "# An now we give to the GPU\n",
    "A=A.to(device)\n",
    "B=B.to(device)\n",
    "\n",
    "#Measure the time taken to perform matrix multiplication\n",
    "start_time=time.time()\n",
    "C=torch.mm(A,B)\n",
    "end_time=time.time()\n",
    "\n",
    "print(f\"Time taken to perform matrix multiplication: {end_time-start_time} seconds\")"
   ]
  },
  {
   "cell_type": "markdown",
   "id": "b2df34c1",
   "metadata": {},
   "source": [
    "Reshaping the tensor"
   ]
  },
  {
   "cell_type": "code",
   "execution_count": 30,
   "id": "2799e404",
   "metadata": {},
   "outputs": [],
   "source": [
    "K=torch.rand(3,3)"
   ]
  },
  {
   "cell_type": "code",
   "execution_count": 31,
   "id": "10f00d3b",
   "metadata": {},
   "outputs": [
    {
     "name": "stdout",
     "output_type": "stream",
     "text": [
      "tensor([[1., 1., 1., 1.],\n",
      "        [1., 1., 1., 1.],\n",
      "        [1., 1., 1., 1.],\n",
      "        [1., 1., 1., 1.]])\n"
     ]
    }
   ],
   "source": [
    "L=torch.ones(4,4)\n",
    "print(L)"
   ]
  },
  {
   "cell_type": "code",
   "execution_count": 32,
   "id": "05829de8",
   "metadata": {},
   "outputs": [
    {
     "data": {
      "text/plain": [
       "tensor([[[[1., 1.],\n",
       "          [1., 1.]],\n",
       "\n",
       "         [[1., 1.],\n",
       "          [1., 1.]]],\n",
       "\n",
       "\n",
       "        [[[1., 1.],\n",
       "          [1., 1.]],\n",
       "\n",
       "         [[1., 1.],\n",
       "          [1., 1.]]]])"
      ]
     },
     "execution_count": 32,
     "metadata": {},
     "output_type": "execute_result"
    }
   ],
   "source": [
    "L.reshape(2,2,2,2)"
   ]
  },
  {
   "cell_type": "code",
   "execution_count": 33,
   "id": "42279adb",
   "metadata": {},
   "outputs": [
    {
     "data": {
      "text/plain": [
       "tensor([1., 1., 1., 1., 1., 1., 1., 1., 1., 1., 1., 1., 1., 1., 1., 1.])"
      ]
     },
     "execution_count": 33,
     "metadata": {},
     "output_type": "execute_result"
    }
   ],
   "source": [
    "L.flatten()"
   ]
  },
  {
   "cell_type": "code",
   "execution_count": null,
   "id": "6a40a08a",
   "metadata": {},
   "outputs": [],
   "source": []
  }
 ],
 "metadata": {
  "kernelspec": {
   "display_name": ".env",
   "language": "python",
   "name": "python3"
  },
  "language_info": {
   "codemirror_mode": {
    "name": "ipython",
    "version": 3
   },
   "file_extension": ".py",
   "mimetype": "text/x-python",
   "name": "python",
   "nbconvert_exporter": "python",
   "pygments_lexer": "ipython3",
   "version": "3.10.11"
  }
 },
 "nbformat": 4,
 "nbformat_minor": 5
}
