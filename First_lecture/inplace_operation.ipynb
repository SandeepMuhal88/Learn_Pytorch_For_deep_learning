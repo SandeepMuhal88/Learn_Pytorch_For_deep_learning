{
 "cells": [
  {
   "cell_type": "code",
   "execution_count": 1,
   "id": "f4909f71",
   "metadata": {},
   "outputs": [
    {
     "name": "stdout",
     "output_type": "stream",
     "text": [
      "tensor([[0.6349, 0.1441, 0.2312],\n",
      "        [0.3402, 0.2047, 0.0806]])\n",
      "tensor([[0.0326, 0.6077, 0.7814],\n",
      "        [0.6368, 0.0518, 0.7972]])\n"
     ]
    }
   ],
   "source": [
    "import torch\n",
    "\n",
    "m=torch.rand(2,3)\n",
    "n=torch.rand(2,3)\n",
    "\n",
    "print(m)\n",
    "print(n)\n"
   ]
  },
  {
   "cell_type": "code",
   "execution_count": 2,
   "id": "be9afa5a",
   "metadata": {},
   "outputs": [
    {
     "data": {
      "text/plain": [
       "tensor([[0.6675, 0.7518, 1.0126],\n",
       "        [0.9770, 0.2566, 0.8778]])"
      ]
     },
     "execution_count": 2,
     "metadata": {},
     "output_type": "execute_result"
    }
   ],
   "source": [
    "m+n"
   ]
  },
  {
   "cell_type": "code",
   "execution_count": 3,
   "id": "c86e37e8",
   "metadata": {},
   "outputs": [
    {
     "name": "stdout",
     "output_type": "stream",
     "text": [
      "tensor([[0.6675, 0.7518, 1.0126],\n",
      "        [0.9770, 0.2566, 0.8778]])\n"
     ]
    }
   ],
   "source": [
    "# Thhat is small but we work on big project then is change in\n",
    "\n",
    "m.add_(n)\n",
    "print(m)\n"
   ]
  },
  {
   "cell_type": "code",
   "execution_count": 4,
   "id": "5f9ba63b",
   "metadata": {},
   "outputs": [
    {
     "name": "stdout",
     "output_type": "stream",
     "text": [
      "tensor([[0.0326, 0.6077, 0.7814],\n",
      "        [0.6368, 0.0518, 0.7972]])\n"
     ]
    }
   ],
   "source": [
    "print(n)"
   ]
  },
  {
   "cell_type": "code",
   "execution_count": 5,
   "id": "f600a94b",
   "metadata": {},
   "outputs": [
    {
     "data": {
      "text/plain": [
       "tensor([[0.6675, 0.7518, 1.0126],\n",
       "        [0.9770, 0.2566, 0.8778]])"
      ]
     },
     "execution_count": 5,
     "metadata": {},
     "output_type": "execute_result"
    }
   ],
   "source": [
    "torch.relu(m)"
   ]
  },
  {
   "cell_type": "code",
   "execution_count": 6,
   "id": "411d1336",
   "metadata": {},
   "outputs": [
    {
     "data": {
      "text/plain": [
       "tensor([[0.6675, 0.7518, 1.0126],\n",
       "        [0.9770, 0.2566, 0.8778]])"
      ]
     },
     "execution_count": 6,
     "metadata": {},
     "output_type": "execute_result"
    }
   ],
   "source": [
    "m.relu_()"
   ]
  },
  {
   "cell_type": "code",
   "execution_count": 7,
   "id": "11bcfbbd",
   "metadata": {},
   "outputs": [
    {
     "data": {
      "text/plain": [
       "tensor([[0.6609, 0.6796, 0.7335],\n",
       "        [0.7265, 0.5638, 0.7064]])"
      ]
     },
     "execution_count": 7,
     "metadata": {},
     "output_type": "execute_result"
    }
   ],
   "source": [
    "m.sigmoid_()"
   ]
  },
  {
   "cell_type": "code",
   "execution_count": 8,
   "id": "501c235c",
   "metadata": {},
   "outputs": [
    {
     "data": {
      "text/plain": [
       "tensor([[0.5790, 0.5912, 0.6252],\n",
       "        [0.6209, 0.5108, 0.6084]])"
      ]
     },
     "execution_count": 8,
     "metadata": {},
     "output_type": "execute_result"
    }
   ],
   "source": [
    "m.tanh_()"
   ]
  },
  {
   "cell_type": "code",
   "execution_count": 9,
   "id": "5c21c2b3",
   "metadata": {},
   "outputs": [],
   "source": [
    "# Aap inplace operation ko use karein because ther is no need to create new memory its very fast"
   ]
  },
  {
   "cell_type": "markdown",
   "id": "93047c70",
   "metadata": {},
   "source": [
    "Cpying a tensor"
   ]
  },
  {
   "cell_type": "code",
   "execution_count": 10,
   "id": "64bc8d44",
   "metadata": {},
   "outputs": [
    {
     "name": "stdout",
     "output_type": "stream",
     "text": [
      "tensor([[0.3661, 0.6805, 0.4207],\n",
      "        [0.5703, 0.0712, 0.9452]])\n",
      "tensor([[0.1768, 0.2626, 0.3839],\n",
      "        [0.1593, 0.2525, 0.6423]])\n"
     ]
    }
   ],
   "source": [
    "A=torch.rand(2,3)\n",
    "B=torch.rand(2,3)\n",
    "\n",
    "\n",
    "print(A)\n",
    "print(B)\n"
   ]
  },
  {
   "cell_type": "code",
   "execution_count": 11,
   "id": "2a4ed7a9",
   "metadata": {},
   "outputs": [],
   "source": [
    "A=B"
   ]
  },
  {
   "cell_type": "code",
   "execution_count": 12,
   "id": "07a9948e",
   "metadata": {},
   "outputs": [
    {
     "data": {
      "text/plain": [
       "tensor([[0.1768, 0.2626, 0.3839],\n",
       "        [0.1593, 0.2525, 0.6423]])"
      ]
     },
     "execution_count": 12,
     "metadata": {},
     "output_type": "execute_result"
    }
   ],
   "source": [
    "A"
   ]
  },
  {
   "cell_type": "code",
   "execution_count": 13,
   "id": "eaeab912",
   "metadata": {},
   "outputs": [
    {
     "data": {
      "text/plain": [
       "tensor([[10.0000,  0.2626,  0.3839],\n",
       "        [ 0.1593,  0.2525,  0.6423]])"
      ]
     },
     "execution_count": 13,
     "metadata": {},
     "output_type": "execute_result"
    }
   ],
   "source": [
    "A[0][0]=10\n",
    "A"
   ]
  },
  {
   "cell_type": "code",
   "execution_count": 14,
   "id": "d27252f7",
   "metadata": {},
   "outputs": [
    {
     "data": {
      "text/plain": [
       "tensor([[10.0000,  0.2626,  0.3839],\n",
       "        [ 0.1593,  0.2525,  0.6423]])"
      ]
     },
     "execution_count": 14,
     "metadata": {},
     "output_type": "execute_result"
    }
   ],
   "source": [
    "B"
   ]
  },
  {
   "cell_type": "code",
   "execution_count": 15,
   "id": "07f261dc",
   "metadata": {},
   "outputs": [],
   "source": [
    "# That is not desireable "
   ]
  },
  {
   "cell_type": "code",
   "execution_count": 16,
   "id": "c54c6c82",
   "metadata": {},
   "outputs": [
    {
     "data": {
      "text/plain": [
       "2180827131200"
      ]
     },
     "execution_count": 16,
     "metadata": {},
     "output_type": "execute_result"
    }
   ],
   "source": [
    "id(B)\n"
   ]
  },
  {
   "cell_type": "code",
   "execution_count": 17,
   "id": "edc85422",
   "metadata": {},
   "outputs": [
    {
     "data": {
      "text/plain": [
       "2180827131200"
      ]
     },
     "execution_count": 17,
     "metadata": {},
     "output_type": "execute_result"
    }
   ],
   "source": [
    "id(A)"
   ]
  },
  {
   "cell_type": "code",
   "execution_count": 18,
   "id": "28d0bb86",
   "metadata": {},
   "outputs": [
    {
     "data": {
      "text/plain": [
       "tensor([[10.0000,  0.2626,  0.3839],\n",
       "        [ 0.1593,  0.2525,  0.6423]])"
      ]
     },
     "execution_count": 18,
     "metadata": {},
     "output_type": "execute_result"
    }
   ],
   "source": [
    "A=B.clone()\n",
    "A"
   ]
  },
  {
   "cell_type": "code",
   "execution_count": 19,
   "id": "a26e4794",
   "metadata": {},
   "outputs": [
    {
     "data": {
      "text/plain": [
       "tensor([[ 10.0000,   0.2626,   0.3839],\n",
       "        [  0.1593, 100.0000,   0.6423]])"
      ]
     },
     "execution_count": 19,
     "metadata": {},
     "output_type": "execute_result"
    }
   ],
   "source": [
    "A[1][1]=100\n",
    "A"
   ]
  },
  {
   "cell_type": "code",
   "execution_count": 20,
   "id": "680cb535",
   "metadata": {},
   "outputs": [
    {
     "data": {
      "text/plain": [
       "tensor([[10.0000,  0.2626,  0.3839],\n",
       "        [ 0.1593,  0.2525,  0.6423]])"
      ]
     },
     "execution_count": 20,
     "metadata": {},
     "output_type": "execute_result"
    }
   ],
   "source": [
    "B"
   ]
  },
  {
   "cell_type": "code",
   "execution_count": 21,
   "id": "bd252dbb",
   "metadata": {},
   "outputs": [
    {
     "data": {
      "text/plain": [
       "2180827133760"
      ]
     },
     "execution_count": 21,
     "metadata": {},
     "output_type": "execute_result"
    }
   ],
   "source": [
    "id(A)"
   ]
  },
  {
   "cell_type": "code",
   "execution_count": 22,
   "id": "cc861f6d",
   "metadata": {},
   "outputs": [
    {
     "data": {
      "text/plain": [
       "2180827131200"
      ]
     },
     "execution_count": 22,
     "metadata": {},
     "output_type": "execute_result"
    }
   ],
   "source": [
    "id(B)"
   ]
  },
  {
   "cell_type": "markdown",
   "id": "612b3a74",
   "metadata": {},
   "source": [
    "Tensor on GPU "
   ]
  },
  {
   "cell_type": "code",
   "execution_count": 23,
   "id": "dbf1b57e",
   "metadata": {},
   "outputs": [
    {
     "name": "stdout",
     "output_type": "stream",
     "text": [
      "GPU is available\n",
      "cuda\n"
     ]
    }
   ],
   "source": [
    "if torch.cuda.is_available():\n",
    "    print(\"GPU is available\")\n",
    "    device = \"cuda\"\n",
    "    \n",
    "else:\n",
    "    device = \"cpu\"\n",
    "\n",
    "print(device)"
   ]
  },
  {
   "cell_type": "code",
   "execution_count": 24,
   "id": "02a53597",
   "metadata": {},
   "outputs": [],
   "source": [
    "device=torch.device('cuda')\n"
   ]
  },
  {
   "cell_type": "code",
   "execution_count": 25,
   "id": "5c89aa2d",
   "metadata": {},
   "outputs": [
    {
     "data": {
      "text/plain": [
       "tensor([[0.0495, 0.3093, 0.4895],\n",
       "        [0.2875, 0.7820, 0.1484],\n",
       "        [0.4981, 0.9941, 0.5012]], device='cuda:0')"
      ]
     },
     "execution_count": 25,
     "metadata": {},
     "output_type": "execute_result"
    }
   ],
   "source": [
    "x=torch.rand(3,3)\n",
    "x=x.to(device)\n",
    "x"
   ]
  },
  {
   "cell_type": "code",
   "execution_count": 26,
   "id": "de8e5572",
   "metadata": {},
   "outputs": [
    {
     "data": {
      "text/plain": [
       "tensor([[5.0495, 5.3094, 5.4895],\n",
       "        [5.2875, 5.7820, 5.1484],\n",
       "        [5.4981, 5.9941, 5.5012]], device='cuda:0')"
      ]
     },
     "execution_count": 26,
     "metadata": {},
     "output_type": "execute_result"
    }
   ],
   "source": [
    "x+5"
   ]
  },
  {
   "cell_type": "code",
   "execution_count": 27,
   "id": "fb5fc281",
   "metadata": {},
   "outputs": [
    {
     "name": "stdout",
     "output_type": "stream",
     "text": [
      "Time taken to perform matrix multiplication: 2.237299919128418 seconds\n"
     ]
    }
   ],
   "source": [
    "import time\n",
    "#Define the size of the matrix\n",
    "N=10000\n",
    "\n",
    "#Create two random matrics\n",
    "\n",
    "A=torch.randn(N,N)\n",
    "B=torch.randn(N,N)\n",
    "\n",
    "#Measure the time taken to perform matrix multiplication\n",
    "start_time=time.time()\n",
    "C=torch.mm(A,B)\n",
    "end_time=time.time()\n",
    "\n",
    "print(f\"Time taken to perform matrix multiplication: {end_time-start_time} seconds\")\n"
   ]
  },
  {
   "cell_type": "code",
   "execution_count": 28,
   "id": "35ae40c2",
   "metadata": {},
   "outputs": [
    {
     "data": {
      "text/plain": [
       "tensor([[-122.5106,  166.1505,   81.6667,  ..., -134.8629, -126.0051,\n",
       "          185.5637],\n",
       "        [ -32.2349,  188.0105,  -96.2330,  ..., -129.3192,  142.3066,\n",
       "          249.9092],\n",
       "        [ 141.9147,   60.8028, -110.5351,  ...,  -31.3398,    8.0568,\n",
       "           91.7938],\n",
       "        ...,\n",
       "        [  31.1934,  158.6312,    5.1709,  ...,    5.8461,   40.6396,\n",
       "          191.7314],\n",
       "        [ -69.5720,  135.7299, -170.7188,  ...,   39.5754,   74.2484,\n",
       "           80.7343],\n",
       "        [ 102.9053,   94.7918,  -81.4477,  ...,    0.6674,  -17.0175,\n",
       "           39.8702]])"
      ]
     },
     "execution_count": 28,
     "metadata": {},
     "output_type": "execute_result"
    }
   ],
   "source": [
    "C"
   ]
  },
  {
   "cell_type": "code",
   "execution_count": 29,
   "id": "c82abac2",
   "metadata": {},
   "outputs": [
    {
     "name": "stdout",
     "output_type": "stream",
     "text": [
      "Time taken to perform matrix multiplication: 0.1474010944366455 seconds\n"
     ]
    }
   ],
   "source": [
    "# An now we give to the GPU\n",
    "A=A.to(device)\n",
    "B=B.to(device)\n",
    "\n",
    "#Measure the time taken to perform matrix multiplication\n",
    "start_time=time.time()\n",
    "C=torch.mm(A,B)\n",
    "end_time=time.time()\n",
    "\n",
    "print(f\"Time taken to perform matrix multiplication: {end_time-start_time} seconds\")"
   ]
  },
  {
   "cell_type": "markdown",
   "id": "b2df34c1",
   "metadata": {},
   "source": [
    "Reshaping the tensor"
   ]
  },
  {
   "cell_type": "code",
   "execution_count": 30,
   "id": "2799e404",
   "metadata": {},
   "outputs": [],
   "source": [
    "K=torch.rand(3,3)"
   ]
  },
  {
   "cell_type": "code",
   "execution_count": 31,
   "id": "10f00d3b",
   "metadata": {},
   "outputs": [
    {
     "name": "stdout",
     "output_type": "stream",
     "text": [
      "tensor([[1., 1., 1., 1.],\n",
      "        [1., 1., 1., 1.],\n",
      "        [1., 1., 1., 1.],\n",
      "        [1., 1., 1., 1.]])\n"
     ]
    }
   ],
   "source": [
    "L=torch.ones(4,4)\n",
    "print(L)"
   ]
  },
  {
   "cell_type": "code",
   "execution_count": 32,
   "id": "05829de8",
   "metadata": {},
   "outputs": [
    {
     "data": {
      "text/plain": [
       "tensor([[[[1., 1.],\n",
       "          [1., 1.]],\n",
       "\n",
       "         [[1., 1.],\n",
       "          [1., 1.]]],\n",
       "\n",
       "\n",
       "        [[[1., 1.],\n",
       "          [1., 1.]],\n",
       "\n",
       "         [[1., 1.],\n",
       "          [1., 1.]]]])"
      ]
     },
     "execution_count": 32,
     "metadata": {},
     "output_type": "execute_result"
    }
   ],
   "source": [
    "L.reshape(2,2,2,2)"
   ]
  },
  {
   "cell_type": "code",
   "execution_count": 33,
   "id": "42279adb",
   "metadata": {},
   "outputs": [
    {
     "data": {
      "text/plain": [
       "tensor([1., 1., 1., 1., 1., 1., 1., 1., 1., 1., 1., 1., 1., 1., 1., 1.])"
      ]
     },
     "execution_count": 33,
     "metadata": {},
     "output_type": "execute_result"
    }
   ],
   "source": [
    "L.flatten()"
   ]
  },
  {
   "cell_type": "code",
   "execution_count": null,
   "id": "6a40a08a",
   "metadata": {},
   "outputs": [],
   "source": []
  }
 ],
 "metadata": {
  "kernelspec": {
   "display_name": ".env",
   "language": "python",
   "name": "python3"
  },
  "language_info": {
   "codemirror_mode": {
    "name": "ipython",
    "version": 3
   },
   "file_extension": ".py",
   "mimetype": "text/x-python",
   "name": "python",
   "nbconvert_exporter": "python",
   "pygments_lexer": "ipython3",
   "version": "3.10.11"
  }
 },
 "nbformat": 4,
 "nbformat_minor": 5
}
