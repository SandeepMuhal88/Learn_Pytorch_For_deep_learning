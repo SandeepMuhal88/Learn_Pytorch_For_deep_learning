{
 "cells": [
  {
   "cell_type": "code",
   "execution_count": 22,
   "id": "ac5b92e6",
   "metadata": {},
   "outputs": [
    {
     "name": "stdout",
     "output_type": "stream",
     "text": [
      "2.5.1+cu118\n"
     ]
    }
   ],
   "source": [
    "import torch\n",
    "print(torch.__version__)"
   ]
  },
  {
   "cell_type": "markdown",
   "id": "16e90386",
   "metadata": {},
   "source": [
    "Check the GPU in system"
   ]
  },
  {
   "cell_type": "code",
   "execution_count": 23,
   "id": "39a441aa",
   "metadata": {},
   "outputs": [
    {
     "name": "stdout",
     "output_type": "stream",
     "text": [
      "GPU is available\n",
      "NVIDIA GeForce RTX 4060 Laptop GPU\n"
     ]
    }
   ],
   "source": [
    "if torch.cuda.is_available():\n",
    "    device = torch.device(\"cuda\")\n",
    "    print(\"GPU is available\")\n",
    "    print(torch.cuda.get_device_name(0))\n",
    "else:\n",
    "    device = torch.device(\"cpu\")\n",
    "    print(\"GPU is not available\")\n",
    "\n",
    "# print(device)"
   ]
  },
  {
   "cell_type": "markdown",
   "id": "74654bdc",
   "metadata": {},
   "source": [
    "##### Using Pytorch make empty tensor"
   ]
  },
  {
   "cell_type": "code",
   "execution_count": 24,
   "id": "7cabc60e",
   "metadata": {},
   "outputs": [
    {
     "data": {
      "text/plain": [
       "tensor([[6.1175e+31, 8.1976e-43, 2.3694e-38, 2.3694e-38],\n",
       "        [0.0000e+00, 0.0000e+00, 0.0000e+00, 0.0000e+00],\n",
       "        [0.0000e+00, 0.0000e+00, 0.0000e+00, 0.0000e+00],\n",
       "        [0.0000e+00, 0.0000e+00, 0.0000e+00, 0.0000e+00],\n",
       "        [0.0000e+00, 0.0000e+00, 0.0000e+00, 0.0000e+00]])"
      ]
     },
     "execution_count": 24,
     "metadata": {},
     "output_type": "execute_result"
    }
   ],
   "source": [
    "torch.empty(5,4)"
   ]
  },
  {
   "cell_type": "code",
   "execution_count": 25,
   "id": "8acd5b01",
   "metadata": {},
   "outputs": [
    {
     "name": "stdout",
     "output_type": "stream",
     "text": [
      "<class 'torch.Tensor'>\n"
     ]
    }
   ],
   "source": [
    "a=torch.empty(5,4)\n",
    "print(type(a))"
   ]
  },
  {
   "cell_type": "code",
   "execution_count": 26,
   "id": "439e7663",
   "metadata": {},
   "outputs": [
    {
     "data": {
      "text/plain": [
       "tensor([[0., 0., 0.],\n",
       "        [0., 0., 0.]])"
      ]
     },
     "execution_count": 26,
     "metadata": {},
     "output_type": "execute_result"
    }
   ],
   "source": [
    "torch.zeros(2,3)"
   ]
  },
  {
   "cell_type": "code",
   "execution_count": 27,
   "id": "96928571",
   "metadata": {},
   "outputs": [
    {
     "data": {
      "text/plain": [
       "tensor([[1., 1., 1., 1., 1.],\n",
       "        [1., 1., 1., 1., 1.],\n",
       "        [1., 1., 1., 1., 1.],\n",
       "        [1., 1., 1., 1., 1.],\n",
       "        [1., 1., 1., 1., 1.]])"
      ]
     },
     "execution_count": 27,
     "metadata": {},
     "output_type": "execute_result"
    }
   ],
   "source": [
    "torch.ones(5,5)"
   ]
  },
  {
   "cell_type": "code",
   "execution_count": 28,
   "id": "996e0041",
   "metadata": {},
   "outputs": [
    {
     "data": {
      "text/plain": [
       "tensor([[0.2566, 0.7936, 0.9408, 0.1332],\n",
       "        [0.9346, 0.5936, 0.8694, 0.5677],\n",
       "        [0.7411, 0.4294, 0.8854, 0.5739],\n",
       "        [0.2666, 0.6274, 0.2696, 0.4414]])"
      ]
     },
     "execution_count": 28,
     "metadata": {},
     "output_type": "execute_result"
    }
   ],
   "source": [
    "torch.rand(4,4)"
   ]
  },
  {
   "cell_type": "code",
   "execution_count": 29,
   "id": "dda3fb54",
   "metadata": {},
   "outputs": [
    {
     "data": {
      "text/plain": [
       "tensor([[0.2969, 0.8317, 0.1053, 0.2695],\n",
       "        [0.3588, 0.1994, 0.5472, 0.0062],\n",
       "        [0.9516, 0.0753, 0.8860, 0.5832],\n",
       "        [0.3376, 0.8090, 0.5779, 0.9040]])"
      ]
     },
     "execution_count": 29,
     "metadata": {},
     "output_type": "execute_result"
    }
   ],
   "source": [
    "torch.rand(4,4)\n",
    "# there are same code the random value assign"
   ]
  },
  {
   "cell_type": "code",
   "execution_count": 33,
   "id": "8f0235f3",
   "metadata": {},
   "outputs": [
    {
     "data": {
      "text/plain": [
       "tensor([[0.3659, 0.7025],\n",
       "        [0.3104, 0.0097],\n",
       "        [0.6577, 0.1947]])"
      ]
     },
     "execution_count": 33,
     "metadata": {},
     "output_type": "execute_result"
    }
   ],
   "source": [
    "#manual_Seed\n",
    "\n",
    "torch.manual_seed(22)\n",
    "\n",
    "torch.rand(3,2)"
   ]
  },
  {
   "cell_type": "code",
   "execution_count": 35,
   "id": "45c0c7bc",
   "metadata": {},
   "outputs": [
    {
     "data": {
      "text/plain": [
       "tensor([[0.3659, 0.7025],\n",
       "        [0.3104, 0.0097],\n",
       "        [0.6577, 0.1947]])"
      ]
     },
     "execution_count": 35,
     "metadata": {},
     "output_type": "execute_result"
    }
   ],
   "source": [
    "torch.manual_seed(22)\n",
    "torch.rand(3,2)"
   ]
  },
  {
   "cell_type": "code",
   "execution_count": 32,
   "id": "2c4c959f",
   "metadata": {},
   "outputs": [
    {
     "name": "stdout",
     "output_type": "stream",
     "text": [
      "tensor([0.8823, 0.9150, 0.3829])\n",
      "tensor([0.8823, 0.9150, 0.3829])\n"
     ]
    }
   ],
   "source": [
    "import torch\n",
    "\n",
    "# same seed\n",
    "torch.manual_seed(42)\n",
    "print(torch.rand(3))\n",
    "\n",
    "torch.manual_seed(42)\n",
    "print(torch.rand(3))\n"
   ]
  },
  {
   "cell_type": "code",
   "execution_count": 36,
   "id": "3a873e94",
   "metadata": {},
   "outputs": [
    {
     "name": "stdout",
     "output_type": "stream",
     "text": [
      "tensor([0.1117, 0.8158, 0.2626])\n"
     ]
    }
   ],
   "source": [
    "\n",
    "torch.manual_seed(100)\n",
    "print(torch.rand(3))"
   ]
  }
 ],
 "metadata": {
  "kernelspec": {
   "display_name": ".env",
   "language": "python",
   "name": "python3"
  },
  "language_info": {
   "codemirror_mode": {
    "name": "ipython",
    "version": 3
   },
   "file_extension": ".py",
   "mimetype": "text/x-python",
   "name": "python",
   "nbconvert_exporter": "python",
   "pygments_lexer": "ipython3",
   "version": "3.10.11"
  }
 },
 "nbformat": 4,
 "nbformat_minor": 5
}
