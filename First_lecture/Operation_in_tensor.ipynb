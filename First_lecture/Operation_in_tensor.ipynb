{
 "cells": [
  {
   "cell_type": "code",
   "execution_count": 1,
   "id": "45f0a9da",
   "metadata": {},
   "outputs": [
    {
     "name": "stdout",
     "output_type": "stream",
     "text": [
      "tensor([5, 7, 9])\n"
     ]
    }
   ],
   "source": [
    "# Operation in tensor\n",
    "\n",
    "import torch\n",
    "\n",
    "# Create a tensor\n",
    "\n",
    "x = torch.tensor([1, 2, 3])\n",
    "y = torch.tensor([4, 5, 6])\n",
    "\n",
    "# Add the tensors\n",
    "\n",
    "z = x + y\n",
    "print(z)\n"
   ]
  },
  {
   "cell_type": "code",
   "execution_count": 5,
   "id": "8dc288bd",
   "metadata": {},
   "outputs": [
    {
     "name": "stdout",
     "output_type": "stream",
     "text": [
      "tensor([[0.7889, 0.3787],\n",
      "        [0.3166, 0.8087]])\n",
      "tensor([[2.7889, 2.3787],\n",
      "        [2.3166, 2.8087]])\n"
     ]
    }
   ],
   "source": [
    "y=torch.rand(2,2)\n",
    "print(y)\n",
    "print(y+2)"
   ]
  },
  {
   "cell_type": "code",
   "execution_count": 6,
   "id": "4f1bab49",
   "metadata": {},
   "outputs": [
    {
     "data": {
      "text/plain": [
       "tensor([[-1.2111, -1.6213],\n",
       "        [-1.6834, -1.1913]])"
      ]
     },
     "execution_count": 6,
     "metadata": {},
     "output_type": "execute_result"
    }
   ],
   "source": [
    "y-2"
   ]
  },
  {
   "cell_type": "code",
   "execution_count": 7,
   "id": "8311fcf8",
   "metadata": {},
   "outputs": [
    {
     "data": {
      "text/plain": [
       "tensor([[2.3666, 1.1360],\n",
       "        [0.9497, 2.4262]])"
      ]
     },
     "execution_count": 7,
     "metadata": {},
     "output_type": "execute_result"
    }
   ],
   "source": [
    "y*3"
   ]
  },
  {
   "cell_type": "markdown",
   "id": "2aa3f76b",
   "metadata": {},
   "source": [
    "Element-wise operations"
   ]
  },
  {
   "cell_type": "code",
   "execution_count": 12,
   "id": "86317ebf",
   "metadata": {},
   "outputs": [
    {
     "name": "stdout",
     "output_type": "stream",
     "text": [
      "Addition: tensor([[0.2276, 0.6644, 1.6895, 1.0786],\n",
      "        [1.4326, 1.3180, 0.9886, 1.0145],\n",
      "        [0.9975, 0.7836, 0.5304, 0.3518]])\n",
      "Subtraction: tensor([[ 0.1349, -0.2563,  0.1724, -0.4159],\n",
      "        [-0.4453, -0.2108,  0.9451, -0.6830],\n",
      "        [-0.2771, -0.5483, -0.3894, -0.2740]])\n",
      "Multiplication: tensor([[0.0084, 0.0939, 0.7062, 0.2476],\n",
      "        [0.4635, 0.4232, 0.0211, 0.1407],\n",
      "        [0.2296, 0.0783, 0.0324, 0.0122]])\n",
      "Division: tensor([[ 3.9106,  0.4433,  1.2273,  0.4435],\n",
      "        [ 0.5257,  0.7242, 44.3621,  0.1953],\n",
      "        [ 0.5652,  0.1767,  0.1533,  0.1243]])\n",
      "Exponentiation: tensor([[0.9239, 0.4811, 0.9472, 0.4381],\n",
      "        [0.5154, 0.6364, 0.9993, 0.2176],\n",
      "        [0.5217, 0.2405, 0.2953, 0.3621]])\n"
     ]
    }
   ],
   "source": [
    "import torch\n",
    "\n",
    "a=torch.rand(3,4)\n",
    "b=torch.rand(3,4)\n",
    "\n",
    "print(\"Addition:\",a+b)\n",
    "print(\"Subtraction:\",a-b)\n",
    "print(\"Multiplication:\",a*b)\n",
    "print(\"Division:\",a/b)\n",
    "print(\"Exponentiation:\",a**b)\n"
   ]
  },
  {
   "cell_type": "code",
   "execution_count": 14,
   "id": "5b921324",
   "metadata": {},
   "outputs": [
    {
     "data": {
      "text/plain": [
       "tensor([1, 2, 3, 4])"
      ]
     },
     "execution_count": 14,
     "metadata": {},
     "output_type": "execute_result"
    }
   ],
   "source": [
    "c=torch.tensor([-1,-2,3,-4])\n",
    "torch.abs(c)"
   ]
  },
  {
   "cell_type": "code",
   "execution_count": 15,
   "id": "e43aa3cf",
   "metadata": {},
   "outputs": [
    {
     "data": {
      "text/plain": [
       "tensor([ 1,  2, -3,  4])"
      ]
     },
     "execution_count": 15,
     "metadata": {},
     "output_type": "execute_result"
    }
   ],
   "source": [
    "torch.neg(c)"
   ]
  },
  {
   "cell_type": "code",
   "execution_count": 25,
   "id": "3fd1d9b7",
   "metadata": {},
   "outputs": [
    {
     "name": "stdout",
     "output_type": "stream",
     "text": [
      "tensor([2., 2., 3., 8.])\n"
     ]
    }
   ],
   "source": [
    "# we use round \n",
    "d=torch.tensor([1.7,2.3,3.4,7.6])\n",
    "print(torch.round(d))"
   ]
  },
  {
   "cell_type": "code",
   "execution_count": 26,
   "id": "91a8c5fe",
   "metadata": {},
   "outputs": [
    {
     "data": {
      "text/plain": [
       "tensor([2., 3., 4., 8.])"
      ]
     },
     "execution_count": 26,
     "metadata": {},
     "output_type": "execute_result"
    }
   ],
   "source": [
    "torch.ceil(d)"
   ]
  },
  {
   "cell_type": "code",
   "execution_count": 27,
   "id": "4245d9e2",
   "metadata": {},
   "outputs": [
    {
     "name": "stdout",
     "output_type": "stream",
     "text": [
      "tensor([1., 2., 3., 7.])\n"
     ]
    }
   ],
   "source": [
    "#floor \n",
    "print(torch.floor(d))\n"
   ]
  },
  {
   "cell_type": "code",
   "execution_count": 29,
   "id": "015871c0",
   "metadata": {},
   "outputs": [
    {
     "data": {
      "text/plain": [
       "tensor([1.7000, 2.3000, 3.4000, 5.0000])"
      ]
     },
     "execution_count": 29,
     "metadata": {},
     "output_type": "execute_result"
    }
   ],
   "source": [
    "#clamp\n",
    "torch.clamp(d,min=0,max=5)"
   ]
  },
  {
   "cell_type": "markdown",
   "id": "0c7555fc",
   "metadata": {},
   "source": [
    "Reduction operations"
   ]
  },
  {
   "cell_type": "code",
   "execution_count": null,
   "id": "1e933f62",
   "metadata": {},
   "outputs": [],
   "source": []
  }
 ],
 "metadata": {
  "kernelspec": {
   "display_name": ".env",
   "language": "python",
   "name": "python3"
  },
  "language_info": {
   "codemirror_mode": {
    "name": "ipython",
    "version": 3
   },
   "file_extension": ".py",
   "mimetype": "text/x-python",
   "name": "python",
   "nbconvert_exporter": "python",
   "pygments_lexer": "ipython3",
   "version": "3.10.11"
  }
 },
 "nbformat": 4,
 "nbformat_minor": 5
}
