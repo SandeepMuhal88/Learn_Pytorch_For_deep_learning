{
 "cells": [
  {
   "cell_type": "code",
   "execution_count": 1,
   "id": "45f0a9da",
   "metadata": {},
   "outputs": [
    {
     "name": "stdout",
     "output_type": "stream",
     "text": [
      "tensor([5, 7, 9])\n"
     ]
    }
   ],
   "source": [
    "# Operation in tensor\n",
    "\n",
    "import torch\n",
    "\n",
    "# Create a tensor\n",
    "\n",
    "x = torch.tensor([1, 2, 3])\n",
    "y = torch.tensor([4, 5, 6])\n",
    "\n",
    "# Add the tensors\n",
    "\n",
    "z = x + y\n",
    "print(z)\n"
   ]
  },
  {
   "cell_type": "code",
   "execution_count": 2,
   "id": "8dc288bd",
   "metadata": {},
   "outputs": [
    {
     "name": "stdout",
     "output_type": "stream",
     "text": [
      "tensor([[0.9286, 0.7533],\n",
      "        [0.3778, 0.8408]])\n",
      "tensor([[2.9286, 2.7533],\n",
      "        [2.3778, 2.8408]])\n"
     ]
    }
   ],
   "source": [
    "y=torch.rand(2,2)\n",
    "print(y)\n",
    "print(y+2)"
   ]
  },
  {
   "cell_type": "code",
   "execution_count": 3,
   "id": "4f1bab49",
   "metadata": {},
   "outputs": [
    {
     "data": {
      "text/plain": [
       "tensor([[-1.0714, -1.2467],\n",
       "        [-1.6222, -1.1592]])"
      ]
     },
     "execution_count": 3,
     "metadata": {},
     "output_type": "execute_result"
    }
   ],
   "source": [
    "y-2"
   ]
  },
  {
   "cell_type": "code",
   "execution_count": 4,
   "id": "8311fcf8",
   "metadata": {},
   "outputs": [
    {
     "data": {
      "text/plain": [
       "tensor([[2.7857, 2.2598],\n",
       "        [1.1335, 2.5224]])"
      ]
     },
     "execution_count": 4,
     "metadata": {},
     "output_type": "execute_result"
    }
   ],
   "source": [
    "y*3"
   ]
  },
  {
   "cell_type": "markdown",
   "id": "2aa3f76b",
   "metadata": {},
   "source": [
    "Element-wise operations"
   ]
  },
  {
   "cell_type": "code",
   "execution_count": 5,
   "id": "86317ebf",
   "metadata": {},
   "outputs": [
    {
     "name": "stdout",
     "output_type": "stream",
     "text": [
      "Addition: tensor([[0.6551, 1.9419, 0.8004, 0.9531],\n",
      "        [0.5214, 1.1715, 1.2527, 0.6713],\n",
      "        [1.6679, 0.5981, 0.7625, 0.8039]])\n",
      "Subtraction: tensor([[ 0.0708, -0.0127, -0.1132, -0.1799],\n",
      "        [-0.4140,  0.1284, -0.2950, -0.3100],\n",
      "        [ 0.2393, -0.5596, -0.5135,  0.0573]])\n",
      "Multiplication: tensor([[0.1060, 0.9427, 0.1570, 0.2190],\n",
      "        [0.0251, 0.3390, 0.3706, 0.0886],\n",
      "        [0.6812, 0.0112, 0.0794, 0.1607]])\n",
      "Division: tensor([[1.2423, 0.9870, 0.7522, 0.6824],\n",
      "        [0.1148, 1.2462, 0.6188, 0.3682],\n",
      "        [1.3350, 0.0333, 0.1951, 1.1535]])\n",
      "Exponentiation: tensor([[0.7437, 0.9654, 0.6139, 0.5837],\n",
      "        [0.2547, 0.7988, 0.5656, 0.4319],\n",
      "        [0.9666, 0.1016, 0.2647, 0.7301]])\n"
     ]
    }
   ],
   "source": [
    "import torch\n",
    "\n",
    "a=torch.rand(3,4)\n",
    "b=torch.rand(3,4)\n",
    "\n",
    "print(\"Addition:\",a+b)\n",
    "print(\"Subtraction:\",a-b)\n",
    "print(\"Multiplication:\",a*b)\n",
    "print(\"Division:\",a/b)\n",
    "print(\"Exponentiation:\",a**b)\n"
   ]
  },
  {
   "cell_type": "code",
   "execution_count": 6,
   "id": "5b921324",
   "metadata": {},
   "outputs": [
    {
     "data": {
      "text/plain": [
       "tensor([1, 2, 3, 4])"
      ]
     },
     "execution_count": 6,
     "metadata": {},
     "output_type": "execute_result"
    }
   ],
   "source": [
    "c=torch.tensor([-1,-2,3,-4])\n",
    "torch.abs(c)"
   ]
  },
  {
   "cell_type": "code",
   "execution_count": 7,
   "id": "e43aa3cf",
   "metadata": {},
   "outputs": [
    {
     "data": {
      "text/plain": [
       "tensor([ 1,  2, -3,  4])"
      ]
     },
     "execution_count": 7,
     "metadata": {},
     "output_type": "execute_result"
    }
   ],
   "source": [
    "torch.neg(c)"
   ]
  },
  {
   "cell_type": "code",
   "execution_count": 8,
   "id": "3fd1d9b7",
   "metadata": {},
   "outputs": [
    {
     "name": "stdout",
     "output_type": "stream",
     "text": [
      "tensor([2., 2., 3., 8.])\n"
     ]
    }
   ],
   "source": [
    "# we use round \n",
    "d=torch.tensor([1.7,2.3,3.4,7.6])\n",
    "print(torch.round(d))"
   ]
  },
  {
   "cell_type": "code",
   "execution_count": 9,
   "id": "91a8c5fe",
   "metadata": {},
   "outputs": [
    {
     "data": {
      "text/plain": [
       "tensor([2., 3., 4., 8.])"
      ]
     },
     "execution_count": 9,
     "metadata": {},
     "output_type": "execute_result"
    }
   ],
   "source": [
    "torch.ceil(d)"
   ]
  },
  {
   "cell_type": "code",
   "execution_count": 10,
   "id": "4245d9e2",
   "metadata": {},
   "outputs": [
    {
     "name": "stdout",
     "output_type": "stream",
     "text": [
      "tensor([1., 2., 3., 7.])\n"
     ]
    }
   ],
   "source": [
    "#floor \n",
    "print(torch.floor(d))\n"
   ]
  },
  {
   "cell_type": "code",
   "execution_count": 11,
   "id": "015871c0",
   "metadata": {},
   "outputs": [
    {
     "data": {
      "text/plain": [
       "tensor([1.7000, 2.3000, 3.4000, 5.0000])"
      ]
     },
     "execution_count": 11,
     "metadata": {},
     "output_type": "execute_result"
    }
   ],
   "source": [
    "#clamp\n",
    "torch.clamp(d,min=0,max=5)"
   ]
  },
  {
   "cell_type": "markdown",
   "id": "0c7555fc",
   "metadata": {},
   "source": [
    "Reduction operations"
   ]
  },
  {
   "cell_type": "code",
   "execution_count": null,
   "id": "1e933f62",
   "metadata": {},
   "outputs": [],
   "source": []
  }
 ],
 "metadata": {
  "kernelspec": {
   "display_name": ".env",
   "language": "python",
   "name": "python3"
  },
  "language_info": {
   "codemirror_mode": {
    "name": "ipython",
    "version": 3
   },
   "file_extension": ".py",
   "mimetype": "text/x-python",
   "name": "python",
   "nbconvert_exporter": "python",
   "pygments_lexer": "ipython3",
   "version": "3.10.11"
  }
 },
 "nbformat": 4,
 "nbformat_minor": 5
}
