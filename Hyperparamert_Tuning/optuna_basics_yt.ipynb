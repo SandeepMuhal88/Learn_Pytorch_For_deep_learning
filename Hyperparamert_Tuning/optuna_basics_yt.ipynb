{
  "cells": [
    {
      "cell_type": "code",
      "execution_count": null,
      "metadata": {
        "colab": {
          "base_uri": "https://localhost:8080/"
        },
        "id": "pCA2vnO4RwU4",
        "outputId": "01c6049c-c5f2-45ed-89ad-f018ba2a222e"
      },
      "outputs": [
        {
          "name": "stdout",
          "output_type": "stream",
          "text": [
            "Requirement already satisfied: optuna in d:\\programming\\learn_pytorch_for_deep_learning\\.env\\lib\\site-packages (4.5.0)\n",
            "Requirement already satisfied: alembic>=1.5.0 in d:\\programming\\learn_pytorch_for_deep_learning\\.env\\lib\\site-packages (from optuna) (1.16.5)\n",
            "Requirement already satisfied: colorlog in d:\\programming\\learn_pytorch_for_deep_learning\\.env\\lib\\site-packages (from optuna) (6.9.0)\n",
            "Requirement already satisfied: numpy in d:\\programming\\learn_pytorch_for_deep_learning\\.env\\lib\\site-packages (from optuna) (2.1.2)\n",
            "Requirement already satisfied: packaging>=20.0 in d:\\programming\\learn_pytorch_for_deep_learning\\.env\\lib\\site-packages (from optuna) (25.0)\n",
            "Requirement already satisfied: sqlalchemy>=1.4.2 in d:\\programming\\learn_pytorch_for_deep_learning\\.env\\lib\\site-packages (from optuna) (2.0.43)\n",
            "Requirement already satisfied: tqdm in d:\\programming\\learn_pytorch_for_deep_learning\\.env\\lib\\site-packages (from optuna) (4.67.1)\n",
            "Requirement already satisfied: PyYAML in d:\\programming\\learn_pytorch_for_deep_learning\\.env\\lib\\site-packages (from optuna) (6.0.2)\n",
            "Requirement already satisfied: Mako in d:\\programming\\learn_pytorch_for_deep_learning\\.env\\lib\\site-packages (from alembic>=1.5.0->optuna) (1.3.10)\n",
            "Requirement already satisfied: typing-extensions>=4.12 in d:\\programming\\learn_pytorch_for_deep_learning\\.env\\lib\\site-packages (from alembic>=1.5.0->optuna) (4.15.0)\n",
            "Requirement already satisfied: tomli in d:\\programming\\learn_pytorch_for_deep_learning\\.env\\lib\\site-packages (from alembic>=1.5.0->optuna) (2.2.1)\n",
            "Requirement already satisfied: greenlet>=1 in d:\\programming\\learn_pytorch_for_deep_learning\\.env\\lib\\site-packages (from sqlalchemy>=1.4.2->optuna) (3.2.4)\n",
            "Requirement already satisfied: colorama in d:\\programming\\learn_pytorch_for_deep_learning\\.env\\lib\\site-packages (from colorlog->optuna) (0.4.6)\n",
            "Requirement already satisfied: MarkupSafe>=0.9.2 in d:\\programming\\learn_pytorch_for_deep_learning\\.env\\lib\\site-packages (from Mako->alembic>=1.5.0->optuna) (2.1.5)\n",
            "Note: you may need to restart the kernel to use updated packages.\n"
          ]
        }
      ],
      "source": [
        "# %pip install optuna"
      ]
    },
    {
      "cell_type": "code",
      "execution_count": 2,
      "metadata": {
        "colab": {
          "base_uri": "https://localhost:8080/",
          "height": 206
        },
        "id": "fT-y3-gHShSh",
        "outputId": "142e2083-40c3-4ee4-e474-faf13bd206b3"
      },
      "outputs": [
        {
          "name": "stderr",
          "output_type": "stream",
          "text": [
            "d:\\Programming\\Learn_Pytorch_for_deep_learning\\.env\\lib\\site-packages\\tqdm\\auto.py:21: TqdmWarning: IProgress not found. Please update jupyter and ipywidgets. See https://ipywidgets.readthedocs.io/en/stable/user_install.html\n",
            "  from .autonotebook import tqdm as notebook_tqdm\n"
          ]
        },
        {
          "data": {
            "text/html": [
              "<div>\n",
              "<style scoped>\n",
              "    .dataframe tbody tr th:only-of-type {\n",
              "        vertical-align: middle;\n",
              "    }\n",
              "\n",
              "    .dataframe tbody tr th {\n",
              "        vertical-align: top;\n",
              "    }\n",
              "\n",
              "    .dataframe thead th {\n",
              "        text-align: right;\n",
              "    }\n",
              "</style>\n",
              "<table border=\"1\" class=\"dataframe\">\n",
              "  <thead>\n",
              "    <tr style=\"text-align: right;\">\n",
              "      <th></th>\n",
              "      <th>Pregnancies</th>\n",
              "      <th>Glucose</th>\n",
              "      <th>BloodPressure</th>\n",
              "      <th>SkinThickness</th>\n",
              "      <th>Insulin</th>\n",
              "      <th>BMI</th>\n",
              "      <th>DiabetesPedigreeFunction</th>\n",
              "      <th>Age</th>\n",
              "      <th>Outcome</th>\n",
              "    </tr>\n",
              "  </thead>\n",
              "  <tbody>\n",
              "    <tr>\n",
              "      <th>0</th>\n",
              "      <td>6</td>\n",
              "      <td>148</td>\n",
              "      <td>72</td>\n",
              "      <td>35</td>\n",
              "      <td>0</td>\n",
              "      <td>33.6</td>\n",
              "      <td>0.627</td>\n",
              "      <td>50</td>\n",
              "      <td>1</td>\n",
              "    </tr>\n",
              "    <tr>\n",
              "      <th>1</th>\n",
              "      <td>1</td>\n",
              "      <td>85</td>\n",
              "      <td>66</td>\n",
              "      <td>29</td>\n",
              "      <td>0</td>\n",
              "      <td>26.6</td>\n",
              "      <td>0.351</td>\n",
              "      <td>31</td>\n",
              "      <td>0</td>\n",
              "    </tr>\n",
              "    <tr>\n",
              "      <th>2</th>\n",
              "      <td>8</td>\n",
              "      <td>183</td>\n",
              "      <td>64</td>\n",
              "      <td>0</td>\n",
              "      <td>0</td>\n",
              "      <td>23.3</td>\n",
              "      <td>0.672</td>\n",
              "      <td>32</td>\n",
              "      <td>1</td>\n",
              "    </tr>\n",
              "    <tr>\n",
              "      <th>3</th>\n",
              "      <td>1</td>\n",
              "      <td>89</td>\n",
              "      <td>66</td>\n",
              "      <td>23</td>\n",
              "      <td>94</td>\n",
              "      <td>28.1</td>\n",
              "      <td>0.167</td>\n",
              "      <td>21</td>\n",
              "      <td>0</td>\n",
              "    </tr>\n",
              "    <tr>\n",
              "      <th>4</th>\n",
              "      <td>0</td>\n",
              "      <td>137</td>\n",
              "      <td>40</td>\n",
              "      <td>35</td>\n",
              "      <td>168</td>\n",
              "      <td>43.1</td>\n",
              "      <td>2.288</td>\n",
              "      <td>33</td>\n",
              "      <td>1</td>\n",
              "    </tr>\n",
              "  </tbody>\n",
              "</table>\n",
              "</div>"
            ],
            "text/plain": [
              "   Pregnancies  Glucose  BloodPressure  SkinThickness  Insulin   BMI  \\\n",
              "0            6      148             72             35        0  33.6   \n",
              "1            1       85             66             29        0  26.6   \n",
              "2            8      183             64              0        0  23.3   \n",
              "3            1       89             66             23       94  28.1   \n",
              "4            0      137             40             35      168  43.1   \n",
              "\n",
              "   DiabetesPedigreeFunction  Age  Outcome  \n",
              "0                     0.627   50        1  \n",
              "1                     0.351   31        0  \n",
              "2                     0.672   32        1  \n",
              "3                     0.167   21        0  \n",
              "4                     2.288   33        1  "
            ]
          },
          "execution_count": 2,
          "metadata": {},
          "output_type": "execute_result"
        }
      ],
      "source": [
        "# Import necessary libraries\n",
        "import optuna\n",
        "from sklearn.datasets import load_diabetes\n",
        "from sklearn.model_selection import train_test_split\n",
        "from sklearn.preprocessing import StandardScaler\n",
        "\n",
        "# Load the Pima Indian Diabetes dataset from sklearn\n",
        "# Note: Scikit-learn's built-in 'load_diabetes' is a regression dataset.\n",
        "# We will load the actual diabetes dataset from an external source\n",
        "import pandas as pd\n",
        "\n",
        "# Load the Pima Indian Diabetes dataset (from UCI repository)\n",
        "url = \"https://raw.githubusercontent.com/jbrownlee/Datasets/master/pima-indians-diabetes.data.csv\"\n",
        "columns = ['Pregnancies', 'Glucose', 'BloodPressure', 'SkinThickness', 'Insulin', 'BMI',\n",
        "           'DiabetesPedigreeFunction', 'Age', 'Outcome']\n",
        "\n",
        "# Load the dataset\n",
        "df = pd.read_csv(url, names=columns)\n",
        "\n",
        "df.head()"
      ]
    },
    {
      "cell_type": "code",
      "execution_count": 3,
      "metadata": {
        "colab": {
          "base_uri": "https://localhost:8080/"
        },
        "id": "tZ_ggrcuTcgI",
        "outputId": "3f1e3a6c-aa89-44cb-afaa-17bec97e3eea"
      },
      "outputs": [
        {
          "name": "stdout",
          "output_type": "stream",
          "text": [
            "Pregnancies                 0\n",
            "Glucose                     0\n",
            "BloodPressure               0\n",
            "SkinThickness               0\n",
            "Insulin                     0\n",
            "BMI                         0\n",
            "DiabetesPedigreeFunction    0\n",
            "Age                         0\n",
            "Outcome                     0\n",
            "dtype: int64\n"
          ]
        }
      ],
      "source": [
        "import numpy as np\n",
        "\n",
        "# Replace zero values with NaN in columns where zero is not a valid value\n",
        "cols_with_missing_vals = ['Glucose', 'BloodPressure', 'SkinThickness', 'Insulin', 'BMI']\n",
        "df[cols_with_missing_vals] = df[cols_with_missing_vals].replace(0, np.nan)\n",
        "\n",
        "# Impute the missing values with the mean of the respective column\n",
        "df.fillna(df.mean(), inplace=True)\n",
        "\n",
        "# Check if there are any remaining missing values\n",
        "print(df.isnull().sum())\n"
      ]
    },
    {
      "cell_type": "code",
      "execution_count": 4,
      "metadata": {
        "colab": {
          "base_uri": "https://localhost:8080/"
        },
        "id": "3arW9ktITIHB",
        "outputId": "b23d4539-5825-4847-9546-186a40d0f8c4"
      },
      "outputs": [
        {
          "name": "stdout",
          "output_type": "stream",
          "text": [
            "Training set shape: (537, 8)\n",
            "Test set shape: (231, 8)\n"
          ]
        }
      ],
      "source": [
        "# Split into features (X) and target (y)\n",
        "X = df.drop('Outcome', axis=1)\n",
        "y = df['Outcome']\n",
        "\n",
        "# Split data into training and test sets (70% train, 30% test)\n",
        "X_train, X_test, y_train, y_test = train_test_split(X, y, test_size=0.3, random_state=42)\n",
        "\n",
        "# Optional: Scale the data for better model performance\n",
        "scaler = StandardScaler()\n",
        "X_train = scaler.fit_transform(X_train)\n",
        "X_test = scaler.transform(X_test)\n",
        "\n",
        "# Check the shape of the data\n",
        "print(f'Training set shape: {X_train.shape}')\n",
        "print(f'Test set shape: {X_test.shape}')\n"
      ]
    },
    {
      "cell_type": "code",
      "execution_count": 5,
      "metadata": {
        "id": "vAbA51fJTrb-"
      },
      "outputs": [],
      "source": [
        "from sklearn.ensemble import RandomForestClassifier\n",
        "from sklearn.model_selection import cross_val_score\n",
        "\n",
        "# Define the objective function\n",
        "def objective(trial):\n",
        "    # Suggest values for the hyperparameters\n",
        "    n_estimators = trial.suggest_int('n_estimators', 50, 200)\n",
        "    max_depth = trial.suggest_int('max_depth', 3, 20)\n",
        "\n",
        "    # Create the RandomForestClassifier with suggested hyperparameters\n",
        "    model = RandomForestClassifier(\n",
        "        n_estimators=n_estimators,\n",
        "        max_depth=max_depth,\n",
        "        random_state=42\n",
        "    )\n",
        "\n",
        "    # Perform 3-fold cross-validation and calculate accuracy\n",
        "    score = cross_val_score(model, X_train, y_train, cv=3, scoring='accuracy').mean()\n",
        "\n",
        "    return score  # Return the accuracy score for Optuna to maximize\n"
      ]
    },
    {
      "cell_type": "code",
      "execution_count": 6,
      "metadata": {
        "colab": {
          "base_uri": "https://localhost:8080/"
        },
        "id": "xN9Zi4k4UbBF",
        "outputId": "064439aa-1328-43d5-979d-ba1ecdc2f653"
      },
      "outputs": [
        {
          "name": "stderr",
          "output_type": "stream",
          "text": [
            "[I 2025-09-15 21:53:18,372] A new study created in memory with name: no-name-37519ad7-2d15-4a8c-888a-8f2c9e4c84cb\n",
            "[I 2025-09-15 21:53:18,681] Trial 0 finished with value: 0.7746741154562383 and parameters: {'n_estimators': 130, 'max_depth': 12}. Best is trial 0 with value: 0.7746741154562383.\n",
            "[I 2025-09-15 21:53:19,106] Trial 1 finished with value: 0.7746741154562384 and parameters: {'n_estimators': 185, 'max_depth': 19}. Best is trial 1 with value: 0.7746741154562384.\n",
            "[I 2025-09-15 21:53:19,283] Trial 2 finished with value: 0.7523277467411545 and parameters: {'n_estimators': 89, 'max_depth': 3}. Best is trial 1 with value: 0.7746741154562384.\n",
            "[I 2025-09-15 21:53:19,511] Trial 3 finished with value: 0.7690875232774674 and parameters: {'n_estimators': 98, 'max_depth': 7}. Best is trial 1 with value: 0.7746741154562384.\n",
            "[I 2025-09-15 21:53:19,909] Trial 4 finished with value: 0.756052141527002 and parameters: {'n_estimators': 190, 'max_depth': 6}. Best is trial 1 with value: 0.7746741154562384.\n",
            "[I 2025-09-15 21:53:20,080] Trial 5 finished with value: 0.7635009310986964 and parameters: {'n_estimators': 78, 'max_depth': 11}. Best is trial 1 with value: 0.7746741154562384.\n",
            "[I 2025-09-15 21:53:20,249] Trial 6 finished with value: 0.7672253258845437 and parameters: {'n_estimators': 85, 'max_depth': 5}. Best is trial 1 with value: 0.7746741154562384.\n",
            "[I 2025-09-15 21:53:20,633] Trial 7 finished with value: 0.7765363128491619 and parameters: {'n_estimators': 171, 'max_depth': 17}. Best is trial 7 with value: 0.7765363128491619.\n",
            "[I 2025-09-15 21:53:20,823] Trial 8 finished with value: 0.7709497206703911 and parameters: {'n_estimators': 79, 'max_depth': 16}. Best is trial 7 with value: 0.7765363128491619.\n",
            "[I 2025-09-15 21:53:21,030] Trial 9 finished with value: 0.7690875232774674 and parameters: {'n_estimators': 89, 'max_depth': 15}. Best is trial 7 with value: 0.7765363128491619.\n",
            "[I 2025-09-15 21:53:21,397] Trial 10 finished with value: 0.7728119180633147 and parameters: {'n_estimators': 155, 'max_depth': 20}. Best is trial 7 with value: 0.7765363128491619.\n",
            "[I 2025-09-15 21:53:21,842] Trial 11 finished with value: 0.7728119180633147 and parameters: {'n_estimators': 198, 'max_depth': 20}. Best is trial 7 with value: 0.7765363128491619.\n",
            "[I 2025-09-15 21:53:22,218] Trial 12 finished with value: 0.7709497206703911 and parameters: {'n_estimators': 166, 'max_depth': 17}. Best is trial 7 with value: 0.7765363128491619.\n",
            "[I 2025-09-15 21:53:22,594] Trial 13 finished with value: 0.7709497206703911 and parameters: {'n_estimators': 166, 'max_depth': 18}. Best is trial 7 with value: 0.7765363128491619.\n",
            "[I 2025-09-15 21:53:22,898] Trial 14 finished with value: 0.7709497206703911 and parameters: {'n_estimators': 135, 'max_depth': 13}. Best is trial 7 with value: 0.7765363128491619.\n",
            "[I 2025-09-15 21:53:23,307] Trial 15 finished with value: 0.7709497206703911 and parameters: {'n_estimators': 180, 'max_depth': 10}. Best is trial 7 with value: 0.7765363128491619.\n",
            "[I 2025-09-15 21:53:23,639] Trial 16 finished with value: 0.7709497206703911 and parameters: {'n_estimators': 149, 'max_depth': 15}. Best is trial 7 with value: 0.7765363128491619.\n",
            "[I 2025-09-15 21:53:23,766] Trial 17 finished with value: 0.7746741154562384 and parameters: {'n_estimators': 53, 'max_depth': 18}. Best is trial 7 with value: 0.7765363128491619.\n",
            "[I 2025-09-15 21:53:24,170] Trial 18 finished with value: 0.7746741154562384 and parameters: {'n_estimators': 180, 'max_depth': 14}. Best is trial 7 with value: 0.7765363128491619.\n",
            "[I 2025-09-15 21:53:24,415] Trial 19 finished with value: 0.7690875232774674 and parameters: {'n_estimators': 108, 'max_depth': 19}. Best is trial 7 with value: 0.7765363128491619.\n",
            "[I 2025-09-15 21:53:24,681] Trial 20 finished with value: 0.7783985102420856 and parameters: {'n_estimators': 117, 'max_depth': 17}. Best is trial 20 with value: 0.7783985102420856.\n",
            "[I 2025-09-15 21:53:24,936] Trial 21 finished with value: 0.7783985102420856 and parameters: {'n_estimators': 113, 'max_depth': 17}. Best is trial 20 with value: 0.7783985102420856.\n",
            "[I 2025-09-15 21:53:25,210] Trial 22 finished with value: 0.7783985102420857 and parameters: {'n_estimators': 119, 'max_depth': 16}. Best is trial 22 with value: 0.7783985102420857.\n",
            "[I 2025-09-15 21:53:25,465] Trial 23 finished with value: 0.7635009310986964 and parameters: {'n_estimators': 115, 'max_depth': 9}. Best is trial 22 with value: 0.7783985102420857.\n",
            "[I 2025-09-15 21:53:25,745] Trial 24 finished with value: 0.7783985102420856 and parameters: {'n_estimators': 121, 'max_depth': 16}. Best is trial 22 with value: 0.7783985102420857.\n",
            "[I 2025-09-15 21:53:25,980] Trial 25 finished with value: 0.7746741154562384 and parameters: {'n_estimators': 106, 'max_depth': 14}. Best is trial 22 with value: 0.7783985102420857.\n",
            "[I 2025-09-15 21:53:26,306] Trial 26 finished with value: 0.7709497206703911 and parameters: {'n_estimators': 141, 'max_depth': 17}. Best is trial 22 with value: 0.7783985102420857.\n",
            "[I 2025-09-15 21:53:26,459] Trial 27 finished with value: 0.7672253258845437 and parameters: {'n_estimators': 66, 'max_depth': 13}. Best is trial 22 with value: 0.7783985102420857.\n",
            "[I 2025-09-15 21:53:26,736] Trial 28 finished with value: 0.7783985102420857 and parameters: {'n_estimators': 122, 'max_depth': 15}. Best is trial 22 with value: 0.7783985102420857.\n",
            "[I 2025-09-15 21:53:27,030] Trial 29 finished with value: 0.7635009310986964 and parameters: {'n_estimators': 128, 'max_depth': 11}. Best is trial 22 with value: 0.7783985102420857.\n",
            "[I 2025-09-15 21:53:27,318] Trial 30 finished with value: 0.7728119180633147 and parameters: {'n_estimators': 126, 'max_depth': 13}. Best is trial 22 with value: 0.7783985102420857.\n",
            "[I 2025-09-15 21:53:27,586] Trial 31 finished with value: 0.7765363128491619 and parameters: {'n_estimators': 114, 'max_depth': 15}. Best is trial 22 with value: 0.7783985102420857.\n",
            "[I 2025-09-15 21:53:27,842] Trial 32 finished with value: 0.7690875232774674 and parameters: {'n_estimators': 101, 'max_depth': 18}. Best is trial 22 with value: 0.7783985102420857.\n",
            "[I 2025-09-15 21:53:28,161] Trial 33 finished with value: 0.7728119180633147 and parameters: {'n_estimators': 138, 'max_depth': 16}. Best is trial 22 with value: 0.7783985102420857.\n",
            "[I 2025-09-15 21:53:28,432] Trial 34 finished with value: 0.7821229050279329 and parameters: {'n_estimators': 119, 'max_depth': 19}. Best is trial 34 with value: 0.7821229050279329.\n",
            "[I 2025-09-15 21:53:28,722] Trial 35 finished with value: 0.7783985102420856 and parameters: {'n_estimators': 122, 'max_depth': 19}. Best is trial 34 with value: 0.7821229050279329.\n",
            "[I 2025-09-15 21:53:28,949] Trial 36 finished with value: 0.7746741154562384 and parameters: {'n_estimators': 97, 'max_depth': 20}. Best is trial 34 with value: 0.7821229050279329.\n",
            "[I 2025-09-15 21:53:29,318] Trial 37 finished with value: 0.7765363128491621 and parameters: {'n_estimators': 151, 'max_depth': 18}. Best is trial 34 with value: 0.7821229050279329.\n",
            "[I 2025-09-15 21:53:29,627] Trial 38 finished with value: 0.7728119180633147 and parameters: {'n_estimators': 134, 'max_depth': 12}. Best is trial 34 with value: 0.7821229050279329.\n",
            "[I 2025-09-15 21:53:29,861] Trial 39 finished with value: 0.7672253258845437 and parameters: {'n_estimators': 94, 'max_depth': 19}. Best is trial 34 with value: 0.7821229050279329.\n",
            "[I 2025-09-15 21:53:30,153] Trial 40 finished with value: 0.7746741154562384 and parameters: {'n_estimators': 120, 'max_depth': 16}. Best is trial 34 with value: 0.7821229050279329.\n",
            "[I 2025-09-15 21:53:30,425] Trial 41 finished with value: 0.7709497206703911 and parameters: {'n_estimators': 112, 'max_depth': 17}. Best is trial 34 with value: 0.7821229050279329.\n",
            "[I 2025-09-15 21:53:30,730] Trial 42 finished with value: 0.7728119180633147 and parameters: {'n_estimators': 130, 'max_depth': 14}. Best is trial 34 with value: 0.7821229050279329.\n",
            "[I 2025-09-15 21:53:30,979] Trial 43 finished with value: 0.7783985102420857 and parameters: {'n_estimators': 105, 'max_depth': 15}. Best is trial 34 with value: 0.7821229050279329.\n",
            "[I 2025-09-15 21:53:31,232] Trial 44 finished with value: 0.7672253258845437 and parameters: {'n_estimators': 102, 'max_depth': 15}. Best is trial 34 with value: 0.7821229050279329.\n",
            "[I 2025-09-15 21:53:31,450] Trial 45 finished with value: 0.7672253258845437 and parameters: {'n_estimators': 89, 'max_depth': 16}. Best is trial 34 with value: 0.7821229050279329.\n",
            "[I 2025-09-15 21:53:31,780] Trial 46 finished with value: 0.7690875232774674 and parameters: {'n_estimators': 142, 'max_depth': 19}. Best is trial 34 with value: 0.7821229050279329.\n",
            "[I 2025-09-15 21:53:31,979] Trial 47 finished with value: 0.7709497206703911 and parameters: {'n_estimators': 79, 'max_depth': 12}. Best is trial 34 with value: 0.7821229050279329.\n",
            "[I 2025-09-15 21:53:32,232] Trial 48 finished with value: 0.7746741154562384 and parameters: {'n_estimators': 105, 'max_depth': 18}. Best is trial 34 with value: 0.7821229050279329.\n",
            "[I 2025-09-15 21:53:32,498] Trial 49 finished with value: 0.7728119180633147 and parameters: {'n_estimators': 117, 'max_depth': 14}. Best is trial 34 with value: 0.7821229050279329.\n"
          ]
        }
      ],
      "source": [
        "# Create a study object and optimize the objective function\n",
        "study = optuna.create_study(direction='maximize', sampler=optuna.samplers.TPESampler())  # We aim to maximize accuracy\n",
        "study.optimize(objective, n_trials=50)  # Run 50 trials to find the best hyperparameters\n"
      ]
    },
    {
      "cell_type": "code",
      "execution_count": 7,
      "metadata": {
        "colab": {
          "base_uri": "https://localhost:8080/"
        },
        "id": "7UAUdw33fCgH",
        "outputId": "193d6c2b-eacd-4775-e22b-591b9534412d"
      },
      "outputs": [
        {
          "name": "stdout",
          "output_type": "stream",
          "text": [
            "Best trial accuracy: 0.7821229050279329\n",
            "Best hyperparameters: {'n_estimators': 119, 'max_depth': 19}\n"
          ]
        }
      ],
      "source": [
        "\n",
        "# Print the best result\n",
        "print(f'Best trial accuracy: {study.best_trial.value}')\n",
        "print(f'Best hyperparameters: {study.best_trial.params}')"
      ]
    },
    {
      "cell_type": "code",
      "execution_count": 8,
      "metadata": {
        "colab": {
          "base_uri": "https://localhost:8080/"
        },
        "id": "tb1zm_lAUtnC",
        "outputId": "440b2cc9-bf83-47fe-ae95-2661f508e651"
      },
      "outputs": [
        {
          "name": "stdout",
          "output_type": "stream",
          "text": [
            "Test Accuracy with best hyperparameters: 0.74\n"
          ]
        }
      ],
      "source": [
        "from sklearn.metrics import accuracy_score\n",
        "\n",
        "# Train a RandomForestClassifier using the best hyperparameters from Optuna\n",
        "best_model = RandomForestClassifier(**study.best_trial.params, random_state=42)\n",
        "\n",
        "# Fit the model to the training data\n",
        "best_model.fit(X_train, y_train)\n",
        "\n",
        "# Make predictions on the test set\n",
        "y_pred = best_model.predict(X_test)\n",
        "\n",
        "# Calculate the accuracy on the test set\n",
        "test_accuracy = accuracy_score(y_test, y_pred)\n",
        "\n",
        "# Print the test accuracy\n",
        "print(f'Test Accuracy with best hyperparameters: {test_accuracy:.2f}')\n"
      ]
    },
    {
      "cell_type": "markdown",
      "metadata": {
        "id": "o2xS9eSIuInj"
      },
      "source": [
        "## Samplers in Optuna"
      ]
    },
    {
      "cell_type": "code",
      "execution_count": 9,
      "metadata": {
        "id": "HV7qYl2LzwnJ"
      },
      "outputs": [],
      "source": [
        "from sklearn.ensemble import RandomForestClassifier\n",
        "from sklearn.model_selection import cross_val_score\n",
        "\n",
        "# Define the objective function\n",
        "def objective(trial):\n",
        "    # Suggest values for the hyperparameters\n",
        "    n_estimators = trial.suggest_int('n_estimators', 50, 200)\n",
        "    max_depth = trial.suggest_int('max_depth', 3, 20)\n",
        "\n",
        "    # Create the RandomForestClassifier with suggested hyperparameters\n",
        "    model = RandomForestClassifier(\n",
        "        n_estimators=n_estimators,\n",
        "        max_depth=max_depth,\n",
        "        random_state=42\n",
        "    )\n",
        "\n",
        "    # Perform 3-fold cross-validation and calculate accuracy\n",
        "    score = cross_val_score(model, X_train, y_train, cv=3, scoring='accuracy').mean()\n",
        "\n",
        "    return score  # Return the accuracy score for Optuna to maximize\n"
      ]
    },
    {
      "cell_type": "code",
      "execution_count": 10,
      "metadata": {
        "colab": {
          "base_uri": "https://localhost:8080/"
        },
        "id": "69ySFwlocrsv",
        "outputId": "b2c7591f-fb34-4d76-afc9-171cd86b8121"
      },
      "outputs": [
        {
          "name": "stderr",
          "output_type": "stream",
          "text": [
            "[I 2025-09-15 21:53:32,671] A new study created in memory with name: no-name-aadec10d-d05c-4699-88b8-a8c1107ae795\n",
            "[I 2025-09-15 21:53:33,044] Trial 0 finished with value: 0.7690875232774674 and parameters: {'n_estimators': 165, 'max_depth': 11}. Best is trial 0 with value: 0.7690875232774674.\n",
            "[I 2025-09-15 21:53:33,161] Trial 1 finished with value: 0.7597765363128491 and parameters: {'n_estimators': 56, 'max_depth': 3}. Best is trial 0 with value: 0.7690875232774674.\n",
            "[I 2025-09-15 21:53:33,388] Trial 2 finished with value: 0.7653631284916201 and parameters: {'n_estimators': 97, 'max_depth': 10}. Best is trial 0 with value: 0.7690875232774674.\n",
            "[I 2025-09-15 21:53:33,638] Trial 3 finished with value: 0.7690875232774674 and parameters: {'n_estimators': 93, 'max_depth': 16}. Best is trial 0 with value: 0.7690875232774674.\n",
            "[I 2025-09-15 21:53:33,827] Trial 4 finished with value: 0.7672253258845437 and parameters: {'n_estimators': 86, 'max_depth': 5}. Best is trial 0 with value: 0.7690875232774674.\n",
            "[I 2025-09-15 21:53:34,215] Trial 5 finished with value: 0.7690875232774674 and parameters: {'n_estimators': 170, 'max_depth': 13}. Best is trial 0 with value: 0.7690875232774674.\n",
            "[I 2025-09-15 21:53:34,418] Trial 6 finished with value: 0.7653631284916201 and parameters: {'n_estimators': 89, 'max_depth': 11}. Best is trial 0 with value: 0.7690875232774674.\n",
            "[I 2025-09-15 21:53:34,589] Trial 7 finished with value: 0.7672253258845437 and parameters: {'n_estimators': 70, 'max_depth': 14}. Best is trial 0 with value: 0.7690875232774674.\n",
            "[I 2025-09-15 21:53:34,738] Trial 8 finished with value: 0.7597765363128491 and parameters: {'n_estimators': 74, 'max_depth': 4}. Best is trial 0 with value: 0.7690875232774674.\n",
            "[I 2025-09-15 21:53:35,096] Trial 9 finished with value: 0.7672253258845437 and parameters: {'n_estimators': 158, 'max_depth': 15}. Best is trial 0 with value: 0.7690875232774674.\n",
            "[I 2025-09-15 21:53:35,444] Trial 10 finished with value: 0.7653631284916201 and parameters: {'n_estimators': 157, 'max_depth': 8}. Best is trial 0 with value: 0.7690875232774674.\n",
            "[I 2025-09-15 21:53:35,621] Trial 11 finished with value: 0.7709497206703911 and parameters: {'n_estimators': 81, 'max_depth': 5}. Best is trial 11 with value: 0.7709497206703911.\n",
            "[I 2025-09-15 21:53:35,804] Trial 12 finished with value: 0.7690875232774674 and parameters: {'n_estimators': 75, 'max_depth': 8}. Best is trial 11 with value: 0.7709497206703911.\n",
            "[I 2025-09-15 21:53:36,094] Trial 13 finished with value: 0.7783985102420856 and parameters: {'n_estimators': 132, 'max_depth': 13}. Best is trial 13 with value: 0.7783985102420856.\n",
            "[I 2025-09-15 21:53:36,399] Trial 14 finished with value: 0.7783985102420856 and parameters: {'n_estimators': 125, 'max_depth': 15}. Best is trial 13 with value: 0.7783985102420856.\n",
            "[I 2025-09-15 21:53:36,542] Trial 15 finished with value: 0.7746741154562384 and parameters: {'n_estimators': 62, 'max_depth': 8}. Best is trial 13 with value: 0.7783985102420856.\n",
            "[I 2025-09-15 21:53:36,714] Trial 16 finished with value: 0.7746741154562384 and parameters: {'n_estimators': 72, 'max_depth': 16}. Best is trial 13 with value: 0.7783985102420856.\n",
            "[I 2025-09-15 21:53:37,034] Trial 17 finished with value: 0.7672253258845437 and parameters: {'n_estimators': 140, 'max_depth': 13}. Best is trial 13 with value: 0.7783985102420856.\n",
            "[I 2025-09-15 21:53:37,390] Trial 18 finished with value: 0.7709497206703911 and parameters: {'n_estimators': 161, 'max_depth': 14}. Best is trial 13 with value: 0.7783985102420856.\n",
            "[I 2025-09-15 21:53:37,690] Trial 19 finished with value: 0.7746741154562384 and parameters: {'n_estimators': 139, 'max_depth': 7}. Best is trial 13 with value: 0.7783985102420856.\n",
            "[I 2025-09-15 21:53:37,935] Trial 20 finished with value: 0.7728119180633147 and parameters: {'n_estimators': 105, 'max_depth': 20}. Best is trial 13 with value: 0.7783985102420856.\n",
            "[I 2025-09-15 21:53:38,128] Trial 21 finished with value: 0.7672253258845437 and parameters: {'n_estimators': 90, 'max_depth': 5}. Best is trial 13 with value: 0.7783985102420856.\n",
            "[I 2025-09-15 21:53:38,374] Trial 22 finished with value: 0.7690875232774674 and parameters: {'n_estimators': 108, 'max_depth': 19}. Best is trial 13 with value: 0.7783985102420856.\n",
            "[I 2025-09-15 21:53:38,670] Trial 23 finished with value: 0.7746741154562384 and parameters: {'n_estimators': 134, 'max_depth': 17}. Best is trial 13 with value: 0.7783985102420856.\n",
            "[I 2025-09-15 21:53:38,851] Trial 24 finished with value: 0.7579143389199254 and parameters: {'n_estimators': 88, 'max_depth': 4}. Best is trial 13 with value: 0.7783985102420856.\n",
            "[I 2025-09-15 21:53:39,204] Trial 25 finished with value: 0.7728119180633147 and parameters: {'n_estimators': 147, 'max_depth': 16}. Best is trial 13 with value: 0.7783985102420856.\n",
            "[I 2025-09-15 21:53:39,681] Trial 26 finished with value: 0.7746741154562384 and parameters: {'n_estimators': 194, 'max_depth': 19}. Best is trial 13 with value: 0.7783985102420856.\n",
            "[I 2025-09-15 21:53:39,953] Trial 27 finished with value: 0.7672253258845437 and parameters: {'n_estimators': 119, 'max_depth': 10}. Best is trial 13 with value: 0.7783985102420856.\n",
            "[I 2025-09-15 21:53:40,221] Trial 28 finished with value: 0.7597765363128491 and parameters: {'n_estimators': 125, 'max_depth': 3}. Best is trial 13 with value: 0.7783985102420856.\n",
            "[I 2025-09-15 21:53:40,535] Trial 29 finished with value: 0.7690875232774674 and parameters: {'n_estimators': 134, 'max_depth': 14}. Best is trial 13 with value: 0.7783985102420856.\n",
            "[I 2025-09-15 21:53:40,918] Trial 30 finished with value: 0.7709497206703911 and parameters: {'n_estimators': 162, 'max_depth': 13}. Best is trial 13 with value: 0.7783985102420856.\n",
            "[I 2025-09-15 21:53:41,069] Trial 31 finished with value: 0.7746741154562384 and parameters: {'n_estimators': 63, 'max_depth': 8}. Best is trial 13 with value: 0.7783985102420856.\n",
            "[I 2025-09-15 21:53:41,279] Trial 32 finished with value: 0.7597765363128491 and parameters: {'n_estimators': 89, 'max_depth': 9}. Best is trial 13 with value: 0.7783985102420856.\n",
            "[I 2025-09-15 21:53:41,465] Trial 33 finished with value: 0.7597765363128491 and parameters: {'n_estimators': 80, 'max_depth': 6}. Best is trial 13 with value: 0.7783985102420856.\n",
            "[I 2025-09-15 21:53:41,627] Trial 34 finished with value: 0.7653631284916201 and parameters: {'n_estimators': 60, 'max_depth': 16}. Best is trial 13 with value: 0.7783985102420856.\n",
            "[I 2025-09-15 21:53:42,090] Trial 35 finished with value: 0.7728119180633147 and parameters: {'n_estimators': 200, 'max_depth': 18}. Best is trial 13 with value: 0.7783985102420856.\n",
            "[I 2025-09-15 21:53:42,305] Trial 36 finished with value: 0.7653631284916201 and parameters: {'n_estimators': 92, 'max_depth': 15}. Best is trial 13 with value: 0.7783985102420856.\n",
            "[I 2025-09-15 21:53:42,689] Trial 37 finished with value: 0.7690875232774674 and parameters: {'n_estimators': 167, 'max_depth': 10}. Best is trial 13 with value: 0.7783985102420856.\n",
            "[I 2025-09-15 21:53:42,898] Trial 38 finished with value: 0.7597765363128491 and parameters: {'n_estimators': 92, 'max_depth': 9}. Best is trial 13 with value: 0.7783985102420856.\n",
            "[I 2025-09-15 21:53:43,058] Trial 39 finished with value: 0.7672253258845437 and parameters: {'n_estimators': 62, 'max_depth': 11}. Best is trial 13 with value: 0.7783985102420856.\n",
            "[I 2025-09-15 21:53:43,416] Trial 40 finished with value: 0.7690875232774674 and parameters: {'n_estimators': 149, 'max_depth': 20}. Best is trial 13 with value: 0.7783985102420856.\n",
            "[I 2025-09-15 21:53:43,666] Trial 41 finished with value: 0.7616387337057727 and parameters: {'n_estimators': 110, 'max_depth': 6}. Best is trial 13 with value: 0.7783985102420856.\n",
            "[I 2025-09-15 21:53:43,844] Trial 42 finished with value: 0.7653631284916201 and parameters: {'n_estimators': 76, 'max_depth': 8}. Best is trial 13 with value: 0.7783985102420856.\n",
            "[I 2025-09-15 21:53:44,287] Trial 43 finished with value: 0.7728119180633147 and parameters: {'n_estimators': 187, 'max_depth': 17}. Best is trial 13 with value: 0.7783985102420856.\n",
            "[I 2025-09-15 21:53:44,444] Trial 44 finished with value: 0.7746741154562384 and parameters: {'n_estimators': 70, 'max_depth': 7}. Best is trial 13 with value: 0.7783985102420856.\n",
            "[I 2025-09-15 21:53:44,628] Trial 45 finished with value: 0.7690875232774674 and parameters: {'n_estimators': 79, 'max_depth': 20}. Best is trial 13 with value: 0.7783985102420856.\n",
            "[I 2025-09-15 21:53:45,066] Trial 46 finished with value: 0.7690875232774674 and parameters: {'n_estimators': 199, 'max_depth': 10}. Best is trial 13 with value: 0.7783985102420856.\n",
            "[I 2025-09-15 21:53:45,433] Trial 47 finished with value: 0.7690875232774674 and parameters: {'n_estimators': 166, 'max_depth': 10}. Best is trial 13 with value: 0.7783985102420856.\n",
            "[I 2025-09-15 21:53:45,570] Trial 48 finished with value: 0.7765363128491621 and parameters: {'n_estimators': 63, 'max_depth': 5}. Best is trial 13 with value: 0.7783985102420856.\n",
            "[I 2025-09-15 21:53:45,849] Trial 49 finished with value: 0.7746741154562384 and parameters: {'n_estimators': 120, 'max_depth': 16}. Best is trial 13 with value: 0.7783985102420856.\n"
          ]
        }
      ],
      "source": [
        "study = optuna.create_study(direction='maximize', sampler=optuna.samplers.RandomSampler())  # We aim to maximize accuracy\n",
        "study.optimize(objective, n_trials=50)  # Run 50 trials to find the best hyperparameters"
      ]
    },
    {
      "cell_type": "code",
      "execution_count": 11,
      "metadata": {
        "colab": {
          "base_uri": "https://localhost:8080/"
        },
        "id": "xsHAu8b1uxK1",
        "outputId": "c9a6014d-5661-40b1-9ab6-11b85b17907b"
      },
      "outputs": [
        {
          "name": "stdout",
          "output_type": "stream",
          "text": [
            "Best trial accuracy: 0.7783985102420856\n",
            "Best hyperparameters: {'n_estimators': 132, 'max_depth': 13}\n"
          ]
        }
      ],
      "source": [
        "\n",
        "# Print the best result\n",
        "print(f'Best trial accuracy: {study.best_trial.value}')\n",
        "print(f'Best hyperparameters: {study.best_trial.params}')"
      ]
    },
    {
      "cell_type": "code",
      "execution_count": 12,
      "metadata": {
        "colab": {
          "base_uri": "https://localhost:8080/"
        },
        "id": "KFdBA3pyvAII",
        "outputId": "f66d0b58-ba82-488b-ad9d-adb07c3ee001"
      },
      "outputs": [
        {
          "name": "stdout",
          "output_type": "stream",
          "text": [
            "Test Accuracy with best hyperparameters: 0.75\n"
          ]
        }
      ],
      "source": [
        "from sklearn.metrics import accuracy_score\n",
        "\n",
        "# Train a RandomForestClassifier using the best hyperparameters from Optuna\n",
        "best_model = RandomForestClassifier(**study.best_trial.params, random_state=42)\n",
        "\n",
        "# Fit the model to the training data\n",
        "best_model.fit(X_train, y_train)\n",
        "\n",
        "# Make predictions on the test set\n",
        "y_pred = best_model.predict(X_test)\n",
        "\n",
        "# Calculate the accuracy on the test set\n",
        "test_accuracy = accuracy_score(y_test, y_pred)\n",
        "\n",
        "# Print the test accuracy\n",
        "print(f'Test Accuracy with best hyperparameters: {test_accuracy:.2f}')\n"
      ]
    },
    {
      "cell_type": "code",
      "execution_count": 13,
      "metadata": {
        "id": "lcdVExqJvOLC"
      },
      "outputs": [],
      "source": [
        "search_space = {\n",
        "    'n_estimators': [50, 100, 150, 200],\n",
        "    'max_depth': [5, 10, 15, 20]\n",
        "}"
      ]
    },
    {
      "cell_type": "code",
      "execution_count": 14,
      "metadata": {
        "colab": {
          "base_uri": "https://localhost:8080/"
        },
        "id": "4QKZcma6vYVT",
        "outputId": "1d336045-2ba0-4af8-cb1c-ec69232791cf"
      },
      "outputs": [
        {
          "name": "stderr",
          "output_type": "stream",
          "text": [
            "[I 2025-09-15 21:53:46,031] A new study created in memory with name: no-name-cb4926ad-a572-4ed7-b82c-31fe1524816f\n",
            "[I 2025-09-15 21:53:46,239] Trial 0 finished with value: 0.7690875232774674 and parameters: {'n_estimators': 100, 'max_depth': 5}. Best is trial 0 with value: 0.7690875232774674.\n",
            "[I 2025-09-15 21:53:46,576] Trial 1 finished with value: 0.7672253258845437 and parameters: {'n_estimators': 150, 'max_depth': 10}. Best is trial 0 with value: 0.7690875232774674.\n",
            "[I 2025-09-15 21:53:46,694] Trial 2 finished with value: 0.7728119180633147 and parameters: {'n_estimators': 50, 'max_depth': 15}. Best is trial 2 with value: 0.7728119180633147.\n",
            "[I 2025-09-15 21:53:46,926] Trial 3 finished with value: 0.7653631284916201 and parameters: {'n_estimators': 100, 'max_depth': 15}. Best is trial 2 with value: 0.7728119180633147.\n",
            "[I 2025-09-15 21:53:47,152] Trial 4 finished with value: 0.7690875232774674 and parameters: {'n_estimators': 100, 'max_depth': 20}. Best is trial 2 with value: 0.7728119180633147.\n",
            "[I 2025-09-15 21:53:47,287] Trial 5 finished with value: 0.7579143389199254 and parameters: {'n_estimators': 50, 'max_depth': 10}. Best is trial 2 with value: 0.7728119180633147.\n",
            "[I 2025-09-15 21:53:47,597] Trial 6 finished with value: 0.7653631284916201 and parameters: {'n_estimators': 150, 'max_depth': 5}. Best is trial 2 with value: 0.7728119180633147.\n",
            "[I 2025-09-15 21:53:47,950] Trial 7 finished with value: 0.7728119180633147 and parameters: {'n_estimators': 150, 'max_depth': 20}. Best is trial 2 with value: 0.7728119180633147.\n",
            "[I 2025-09-15 21:53:48,292] Trial 8 finished with value: 0.7728119180633147 and parameters: {'n_estimators': 150, 'max_depth': 15}. Best is trial 2 with value: 0.7728119180633147.\n",
            "[I 2025-09-15 21:53:48,762] Trial 9 finished with value: 0.7709497206703911 and parameters: {'n_estimators': 200, 'max_depth': 10}. Best is trial 2 with value: 0.7728119180633147.\n",
            "[I 2025-09-15 21:53:49,218] Trial 10 finished with value: 0.7728119180633147 and parameters: {'n_estimators': 200, 'max_depth': 20}. Best is trial 2 with value: 0.7728119180633147.\n",
            "[I 2025-09-15 21:53:49,680] Trial 11 finished with value: 0.7728119180633147 and parameters: {'n_estimators': 200, 'max_depth': 15}. Best is trial 2 with value: 0.7728119180633147.\n",
            "[I 2025-09-15 21:53:50,091] Trial 12 finished with value: 0.7690875232774674 and parameters: {'n_estimators': 200, 'max_depth': 5}. Best is trial 2 with value: 0.7728119180633147.\n",
            "[I 2025-09-15 21:53:50,201] Trial 13 finished with value: 0.7746741154562384 and parameters: {'n_estimators': 50, 'max_depth': 5}. Best is trial 13 with value: 0.7746741154562384.\n",
            "[I 2025-09-15 21:53:50,434] Trial 14 finished with value: 0.7616387337057727 and parameters: {'n_estimators': 100, 'max_depth': 10}. Best is trial 13 with value: 0.7746741154562384.\n",
            "[I 2025-09-15 21:53:50,560] Trial 15 finished with value: 0.7709497206703911 and parameters: {'n_estimators': 50, 'max_depth': 20}. Best is trial 13 with value: 0.7746741154562384.\n"
          ]
        }
      ],
      "source": [
        "# Create a study and optimize it using GridSampler\n",
        "study = optuna.create_study(direction='maximize', sampler=optuna.samplers.GridSampler(search_space))\n",
        "study.optimize(objective)"
      ]
    },
    {
      "cell_type": "code",
      "execution_count": 15,
      "metadata": {
        "colab": {
          "base_uri": "https://localhost:8080/"
        },
        "id": "UVQrXK77vojx",
        "outputId": "2ce9b4fc-38b1-418b-82c9-a441c58ee7be"
      },
      "outputs": [
        {
          "name": "stdout",
          "output_type": "stream",
          "text": [
            "Best trial accuracy: 0.7746741154562384\n",
            "Best hyperparameters: {'n_estimators': 50, 'max_depth': 5}\n"
          ]
        }
      ],
      "source": [
        "\n",
        "# Print the best result\n",
        "print(f'Best trial accuracy: {study.best_trial.value}')\n",
        "print(f'Best hyperparameters: {study.best_trial.params}')"
      ]
    },
    {
      "cell_type": "code",
      "execution_count": 16,
      "metadata": {
        "colab": {
          "base_uri": "https://localhost:8080/"
        },
        "id": "oIZKJsSVwaYj",
        "outputId": "a562e64a-6f9d-44b6-847d-e72618874ba3"
      },
      "outputs": [
        {
          "name": "stdout",
          "output_type": "stream",
          "text": [
            "Test Accuracy with best hyperparameters: 0.74\n"
          ]
        }
      ],
      "source": [
        "from sklearn.metrics import accuracy_score\n",
        "\n",
        "# Train a RandomForestClassifier using the best hyperparameters from Optuna\n",
        "best_model = RandomForestClassifier(**study.best_trial.params, random_state=42)\n",
        "\n",
        "# Fit the model to the training data\n",
        "best_model.fit(X_train, y_train)\n",
        "\n",
        "# Make predictions on the test set\n",
        "y_pred = best_model.predict(X_test)\n",
        "\n",
        "# Calculate the accuracy on the test set\n",
        "test_accuracy = accuracy_score(y_test, y_pred)\n",
        "\n",
        "# Print the test accuracy\n",
        "print(f'Test Accuracy with best hyperparameters: {test_accuracy:.2f}')\n"
      ]
    },
    {
      "cell_type": "markdown",
      "metadata": {
        "id": "K4LmndX54oSU"
      },
      "source": [
        "## Optuna Visualizations"
      ]
    },
    {
      "cell_type": "code",
      "execution_count": 17,
      "metadata": {
        "id": "RxNsmlcR4nZi"
      },
      "outputs": [],
      "source": [
        "# For visualizations\n",
        "from optuna.visualization import plot_optimization_history, plot_parallel_coordinate, plot_slice, plot_contour, plot_param_importances"
      ]
    },
    {
      "cell_type": "code",
      "execution_count": 18,
      "metadata": {
        "colab": {
          "base_uri": "https://localhost:8080/",
          "height": 542
        },
        "id": "tL5Gc3uxymq8",
        "outputId": "f294758b-8adb-47c2-8e08-a8f012577c8e"
      },
      "outputs": [
        {
          "data": {
            "application/vnd.plotly.v1+json": {
              "config": {
                "plotlyServerURL": "https://plot.ly"
              },
              "data": [
                {
                  "mode": "markers",
                  "name": "Objective Value",
                  "type": "scatter",
                  "x": [
                    0,
                    1,
                    2,
                    3,
                    4,
                    5,
                    6,
                    7,
                    8,
                    9,
                    10,
                    11,
                    12,
                    13,
                    14,
                    15
                  ],
                  "y": [
                    0.7690875232774674,
                    0.7672253258845437,
                    0.7728119180633147,
                    0.7653631284916201,
                    0.7690875232774674,
                    0.7579143389199254,
                    0.7653631284916201,
                    0.7728119180633147,
                    0.7728119180633147,
                    0.7709497206703911,
                    0.7728119180633147,
                    0.7728119180633147,
                    0.7690875232774674,
                    0.7746741154562384,
                    0.7616387337057727,
                    0.7709497206703911
                  ]
                },
                {
                  "mode": "lines",
                  "name": "Best Value",
                  "type": "scatter",
                  "x": [
                    0,
                    1,
                    2,
                    3,
                    4,
                    5,
                    6,
                    7,
                    8,
                    9,
                    10,
                    11,
                    12,
                    13,
                    14,
                    15
                  ],
                  "y": [
                    0.7690875232774674,
                    0.7690875232774674,
                    0.7728119180633147,
                    0.7728119180633147,
                    0.7728119180633147,
                    0.7728119180633147,
                    0.7728119180633147,
                    0.7728119180633147,
                    0.7728119180633147,
                    0.7728119180633147,
                    0.7728119180633147,
                    0.7728119180633147,
                    0.7728119180633147,
                    0.7746741154562384,
                    0.7746741154562384,
                    0.7746741154562384
                  ]
                },
                {
                  "marker": {
                    "color": "#cccccc"
                  },
                  "mode": "markers",
                  "name": "Infeasible Trial",
                  "showlegend": false,
                  "type": "scatter",
                  "x": [],
                  "y": []
                }
              ],
              "layout": {
                "template": {
                  "data": {
                    "bar": [
                      {
                        "error_x": {
                          "color": "#2a3f5f"
                        },
                        "error_y": {
                          "color": "#2a3f5f"
                        },
                        "marker": {
                          "line": {
                            "color": "#E5ECF6",
                            "width": 0.5
                          },
                          "pattern": {
                            "fillmode": "overlay",
                            "size": 10,
                            "solidity": 0.2
                          }
                        },
                        "type": "bar"
                      }
                    ],
                    "barpolar": [
                      {
                        "marker": {
                          "line": {
                            "color": "#E5ECF6",
                            "width": 0.5
                          },
                          "pattern": {
                            "fillmode": "overlay",
                            "size": 10,
                            "solidity": 0.2
                          }
                        },
                        "type": "barpolar"
                      }
                    ],
                    "carpet": [
                      {
                        "aaxis": {
                          "endlinecolor": "#2a3f5f",
                          "gridcolor": "white",
                          "linecolor": "white",
                          "minorgridcolor": "white",
                          "startlinecolor": "#2a3f5f"
                        },
                        "baxis": {
                          "endlinecolor": "#2a3f5f",
                          "gridcolor": "white",
                          "linecolor": "white",
                          "minorgridcolor": "white",
                          "startlinecolor": "#2a3f5f"
                        },
                        "type": "carpet"
                      }
                    ],
                    "choropleth": [
                      {
                        "colorbar": {
                          "outlinewidth": 0,
                          "ticks": ""
                        },
                        "type": "choropleth"
                      }
                    ],
                    "contour": [
                      {
                        "colorbar": {
                          "outlinewidth": 0,
                          "ticks": ""
                        },
                        "colorscale": [
                          [
                            0,
                            "#0d0887"
                          ],
                          [
                            0.1111111111111111,
                            "#46039f"
                          ],
                          [
                            0.2222222222222222,
                            "#7201a8"
                          ],
                          [
                            0.3333333333333333,
                            "#9c179e"
                          ],
                          [
                            0.4444444444444444,
                            "#bd3786"
                          ],
                          [
                            0.5555555555555556,
                            "#d8576b"
                          ],
                          [
                            0.6666666666666666,
                            "#ed7953"
                          ],
                          [
                            0.7777777777777778,
                            "#fb9f3a"
                          ],
                          [
                            0.8888888888888888,
                            "#fdca26"
                          ],
                          [
                            1,
                            "#f0f921"
                          ]
                        ],
                        "type": "contour"
                      }
                    ],
                    "contourcarpet": [
                      {
                        "colorbar": {
                          "outlinewidth": 0,
                          "ticks": ""
                        },
                        "type": "contourcarpet"
                      }
                    ],
                    "heatmap": [
                      {
                        "colorbar": {
                          "outlinewidth": 0,
                          "ticks": ""
                        },
                        "colorscale": [
                          [
                            0,
                            "#0d0887"
                          ],
                          [
                            0.1111111111111111,
                            "#46039f"
                          ],
                          [
                            0.2222222222222222,
                            "#7201a8"
                          ],
                          [
                            0.3333333333333333,
                            "#9c179e"
                          ],
                          [
                            0.4444444444444444,
                            "#bd3786"
                          ],
                          [
                            0.5555555555555556,
                            "#d8576b"
                          ],
                          [
                            0.6666666666666666,
                            "#ed7953"
                          ],
                          [
                            0.7777777777777778,
                            "#fb9f3a"
                          ],
                          [
                            0.8888888888888888,
                            "#fdca26"
                          ],
                          [
                            1,
                            "#f0f921"
                          ]
                        ],
                        "type": "heatmap"
                      }
                    ],
                    "histogram": [
                      {
                        "marker": {
                          "pattern": {
                            "fillmode": "overlay",
                            "size": 10,
                            "solidity": 0.2
                          }
                        },
                        "type": "histogram"
                      }
                    ],
                    "histogram2d": [
                      {
                        "colorbar": {
                          "outlinewidth": 0,
                          "ticks": ""
                        },
                        "colorscale": [
                          [
                            0,
                            "#0d0887"
                          ],
                          [
                            0.1111111111111111,
                            "#46039f"
                          ],
                          [
                            0.2222222222222222,
                            "#7201a8"
                          ],
                          [
                            0.3333333333333333,
                            "#9c179e"
                          ],
                          [
                            0.4444444444444444,
                            "#bd3786"
                          ],
                          [
                            0.5555555555555556,
                            "#d8576b"
                          ],
                          [
                            0.6666666666666666,
                            "#ed7953"
                          ],
                          [
                            0.7777777777777778,
                            "#fb9f3a"
                          ],
                          [
                            0.8888888888888888,
                            "#fdca26"
                          ],
                          [
                            1,
                            "#f0f921"
                          ]
                        ],
                        "type": "histogram2d"
                      }
                    ],
                    "histogram2dcontour": [
                      {
                        "colorbar": {
                          "outlinewidth": 0,
                          "ticks": ""
                        },
                        "colorscale": [
                          [
                            0,
                            "#0d0887"
                          ],
                          [
                            0.1111111111111111,
                            "#46039f"
                          ],
                          [
                            0.2222222222222222,
                            "#7201a8"
                          ],
                          [
                            0.3333333333333333,
                            "#9c179e"
                          ],
                          [
                            0.4444444444444444,
                            "#bd3786"
                          ],
                          [
                            0.5555555555555556,
                            "#d8576b"
                          ],
                          [
                            0.6666666666666666,
                            "#ed7953"
                          ],
                          [
                            0.7777777777777778,
                            "#fb9f3a"
                          ],
                          [
                            0.8888888888888888,
                            "#fdca26"
                          ],
                          [
                            1,
                            "#f0f921"
                          ]
                        ],
                        "type": "histogram2dcontour"
                      }
                    ],
                    "mesh3d": [
                      {
                        "colorbar": {
                          "outlinewidth": 0,
                          "ticks": ""
                        },
                        "type": "mesh3d"
                      }
                    ],
                    "parcoords": [
                      {
                        "line": {
                          "colorbar": {
                            "outlinewidth": 0,
                            "ticks": ""
                          }
                        },
                        "type": "parcoords"
                      }
                    ],
                    "pie": [
                      {
                        "automargin": true,
                        "type": "pie"
                      }
                    ],
                    "scatter": [
                      {
                        "fillpattern": {
                          "fillmode": "overlay",
                          "size": 10,
                          "solidity": 0.2
                        },
                        "type": "scatter"
                      }
                    ],
                    "scatter3d": [
                      {
                        "line": {
                          "colorbar": {
                            "outlinewidth": 0,
                            "ticks": ""
                          }
                        },
                        "marker": {
                          "colorbar": {
                            "outlinewidth": 0,
                            "ticks": ""
                          }
                        },
                        "type": "scatter3d"
                      }
                    ],
                    "scattercarpet": [
                      {
                        "marker": {
                          "colorbar": {
                            "outlinewidth": 0,
                            "ticks": ""
                          }
                        },
                        "type": "scattercarpet"
                      }
                    ],
                    "scattergeo": [
                      {
                        "marker": {
                          "colorbar": {
                            "outlinewidth": 0,
                            "ticks": ""
                          }
                        },
                        "type": "scattergeo"
                      }
                    ],
                    "scattergl": [
                      {
                        "marker": {
                          "colorbar": {
                            "outlinewidth": 0,
                            "ticks": ""
                          }
                        },
                        "type": "scattergl"
                      }
                    ],
                    "scattermap": [
                      {
                        "marker": {
                          "colorbar": {
                            "outlinewidth": 0,
                            "ticks": ""
                          }
                        },
                        "type": "scattermap"
                      }
                    ],
                    "scattermapbox": [
                      {
                        "marker": {
                          "colorbar": {
                            "outlinewidth": 0,
                            "ticks": ""
                          }
                        },
                        "type": "scattermapbox"
                      }
                    ],
                    "scatterpolar": [
                      {
                        "marker": {
                          "colorbar": {
                            "outlinewidth": 0,
                            "ticks": ""
                          }
                        },
                        "type": "scatterpolar"
                      }
                    ],
                    "scatterpolargl": [
                      {
                        "marker": {
                          "colorbar": {
                            "outlinewidth": 0,
                            "ticks": ""
                          }
                        },
                        "type": "scatterpolargl"
                      }
                    ],
                    "scatterternary": [
                      {
                        "marker": {
                          "colorbar": {
                            "outlinewidth": 0,
                            "ticks": ""
                          }
                        },
                        "type": "scatterternary"
                      }
                    ],
                    "surface": [
                      {
                        "colorbar": {
                          "outlinewidth": 0,
                          "ticks": ""
                        },
                        "colorscale": [
                          [
                            0,
                            "#0d0887"
                          ],
                          [
                            0.1111111111111111,
                            "#46039f"
                          ],
                          [
                            0.2222222222222222,
                            "#7201a8"
                          ],
                          [
                            0.3333333333333333,
                            "#9c179e"
                          ],
                          [
                            0.4444444444444444,
                            "#bd3786"
                          ],
                          [
                            0.5555555555555556,
                            "#d8576b"
                          ],
                          [
                            0.6666666666666666,
                            "#ed7953"
                          ],
                          [
                            0.7777777777777778,
                            "#fb9f3a"
                          ],
                          [
                            0.8888888888888888,
                            "#fdca26"
                          ],
                          [
                            1,
                            "#f0f921"
                          ]
                        ],
                        "type": "surface"
                      }
                    ],
                    "table": [
                      {
                        "cells": {
                          "fill": {
                            "color": "#EBF0F8"
                          },
                          "line": {
                            "color": "white"
                          }
                        },
                        "header": {
                          "fill": {
                            "color": "#C8D4E3"
                          },
                          "line": {
                            "color": "white"
                          }
                        },
                        "type": "table"
                      }
                    ]
                  },
                  "layout": {
                    "annotationdefaults": {
                      "arrowcolor": "#2a3f5f",
                      "arrowhead": 0,
                      "arrowwidth": 1
                    },
                    "autotypenumbers": "strict",
                    "coloraxis": {
                      "colorbar": {
                        "outlinewidth": 0,
                        "ticks": ""
                      }
                    },
                    "colorscale": {
                      "diverging": [
                        [
                          0,
                          "#8e0152"
                        ],
                        [
                          0.1,
                          "#c51b7d"
                        ],
                        [
                          0.2,
                          "#de77ae"
                        ],
                        [
                          0.3,
                          "#f1b6da"
                        ],
                        [
                          0.4,
                          "#fde0ef"
                        ],
                        [
                          0.5,
                          "#f7f7f7"
                        ],
                        [
                          0.6,
                          "#e6f5d0"
                        ],
                        [
                          0.7,
                          "#b8e186"
                        ],
                        [
                          0.8,
                          "#7fbc41"
                        ],
                        [
                          0.9,
                          "#4d9221"
                        ],
                        [
                          1,
                          "#276419"
                        ]
                      ],
                      "sequential": [
                        [
                          0,
                          "#0d0887"
                        ],
                        [
                          0.1111111111111111,
                          "#46039f"
                        ],
                        [
                          0.2222222222222222,
                          "#7201a8"
                        ],
                        [
                          0.3333333333333333,
                          "#9c179e"
                        ],
                        [
                          0.4444444444444444,
                          "#bd3786"
                        ],
                        [
                          0.5555555555555556,
                          "#d8576b"
                        ],
                        [
                          0.6666666666666666,
                          "#ed7953"
                        ],
                        [
                          0.7777777777777778,
                          "#fb9f3a"
                        ],
                        [
                          0.8888888888888888,
                          "#fdca26"
                        ],
                        [
                          1,
                          "#f0f921"
                        ]
                      ],
                      "sequentialminus": [
                        [
                          0,
                          "#0d0887"
                        ],
                        [
                          0.1111111111111111,
                          "#46039f"
                        ],
                        [
                          0.2222222222222222,
                          "#7201a8"
                        ],
                        [
                          0.3333333333333333,
                          "#9c179e"
                        ],
                        [
                          0.4444444444444444,
                          "#bd3786"
                        ],
                        [
                          0.5555555555555556,
                          "#d8576b"
                        ],
                        [
                          0.6666666666666666,
                          "#ed7953"
                        ],
                        [
                          0.7777777777777778,
                          "#fb9f3a"
                        ],
                        [
                          0.8888888888888888,
                          "#fdca26"
                        ],
                        [
                          1,
                          "#f0f921"
                        ]
                      ]
                    },
                    "colorway": [
                      "#636efa",
                      "#EF553B",
                      "#00cc96",
                      "#ab63fa",
                      "#FFA15A",
                      "#19d3f3",
                      "#FF6692",
                      "#B6E880",
                      "#FF97FF",
                      "#FECB52"
                    ],
                    "font": {
                      "color": "#2a3f5f"
                    },
                    "geo": {
                      "bgcolor": "white",
                      "lakecolor": "white",
                      "landcolor": "#E5ECF6",
                      "showlakes": true,
                      "showland": true,
                      "subunitcolor": "white"
                    },
                    "hoverlabel": {
                      "align": "left"
                    },
                    "hovermode": "closest",
                    "mapbox": {
                      "style": "light"
                    },
                    "paper_bgcolor": "white",
                    "plot_bgcolor": "#E5ECF6",
                    "polar": {
                      "angularaxis": {
                        "gridcolor": "white",
                        "linecolor": "white",
                        "ticks": ""
                      },
                      "bgcolor": "#E5ECF6",
                      "radialaxis": {
                        "gridcolor": "white",
                        "linecolor": "white",
                        "ticks": ""
                      }
                    },
                    "scene": {
                      "xaxis": {
                        "backgroundcolor": "#E5ECF6",
                        "gridcolor": "white",
                        "gridwidth": 2,
                        "linecolor": "white",
                        "showbackground": true,
                        "ticks": "",
                        "zerolinecolor": "white"
                      },
                      "yaxis": {
                        "backgroundcolor": "#E5ECF6",
                        "gridcolor": "white",
                        "gridwidth": 2,
                        "linecolor": "white",
                        "showbackground": true,
                        "ticks": "",
                        "zerolinecolor": "white"
                      },
                      "zaxis": {
                        "backgroundcolor": "#E5ECF6",
                        "gridcolor": "white",
                        "gridwidth": 2,
                        "linecolor": "white",
                        "showbackground": true,
                        "ticks": "",
                        "zerolinecolor": "white"
                      }
                    },
                    "shapedefaults": {
                      "line": {
                        "color": "#2a3f5f"
                      }
                    },
                    "ternary": {
                      "aaxis": {
                        "gridcolor": "white",
                        "linecolor": "white",
                        "ticks": ""
                      },
                      "baxis": {
                        "gridcolor": "white",
                        "linecolor": "white",
                        "ticks": ""
                      },
                      "bgcolor": "#E5ECF6",
                      "caxis": {
                        "gridcolor": "white",
                        "linecolor": "white",
                        "ticks": ""
                      }
                    },
                    "title": {
                      "x": 0.05
                    },
                    "xaxis": {
                      "automargin": true,
                      "gridcolor": "white",
                      "linecolor": "white",
                      "ticks": "",
                      "title": {
                        "standoff": 15
                      },
                      "zerolinecolor": "white",
                      "zerolinewidth": 2
                    },
                    "yaxis": {
                      "automargin": true,
                      "gridcolor": "white",
                      "linecolor": "white",
                      "ticks": "",
                      "title": {
                        "standoff": 15
                      },
                      "zerolinecolor": "white",
                      "zerolinewidth": 2
                    }
                  }
                },
                "title": {
                  "text": "Optimization History Plot"
                },
                "xaxis": {
                  "title": {
                    "text": "Trial"
                  }
                },
                "yaxis": {
                  "title": {
                    "text": "Objective Value"
                  }
                }
              }
            }
          },
          "metadata": {},
          "output_type": "display_data"
        }
      ],
      "source": [
        "# 1. Optimization History\n",
        "plot_optimization_history(study).show()"
      ]
    },
    {
      "cell_type": "code",
      "execution_count": 19,
      "metadata": {
        "colab": {
          "base_uri": "https://localhost:8080/",
          "height": 542
        },
        "id": "0VPz89RB4yQ7",
        "outputId": "fe6cae2c-f2bb-44f8-fd24-7df67b88c9a5"
      },
      "outputs": [
        {
          "data": {
            "application/vnd.plotly.v1+json": {
              "config": {
                "plotlyServerURL": "https://plot.ly"
              },
              "data": [
                {
                  "dimensions": [
                    {
                      "label": "Objective Value",
                      "range": [
                        0.7579143389199254,
                        0.7746741154562384
                      ],
                      "values": [
                        0.7690875232774674,
                        0.7672253258845437,
                        0.7728119180633147,
                        0.7653631284916201,
                        0.7690875232774674,
                        0.7579143389199254,
                        0.7653631284916201,
                        0.7728119180633147,
                        0.7728119180633147,
                        0.7709497206703911,
                        0.7728119180633147,
                        0.7728119180633147,
                        0.7690875232774674,
                        0.7746741154562384,
                        0.7616387337057727,
                        0.7709497206703911
                      ]
                    },
                    {
                      "label": "max_depth",
                      "range": [
                        5,
                        20
                      ],
                      "values": [
                        5,
                        10,
                        15,
                        15,
                        20,
                        10,
                        5,
                        20,
                        15,
                        10,
                        20,
                        15,
                        5,
                        5,
                        10,
                        20
                      ]
                    },
                    {
                      "label": "n_estimators",
                      "range": [
                        50,
                        200
                      ],
                      "values": [
                        100,
                        150,
                        50,
                        100,
                        100,
                        50,
                        150,
                        150,
                        150,
                        200,
                        200,
                        200,
                        200,
                        50,
                        100,
                        50
                      ]
                    }
                  ],
                  "labelangle": 30,
                  "labelside": "bottom",
                  "line": {
                    "color": [
                      0.7690875232774674,
                      0.7672253258845437,
                      0.7728119180633147,
                      0.7653631284916201,
                      0.7690875232774674,
                      0.7579143389199254,
                      0.7653631284916201,
                      0.7728119180633147,
                      0.7728119180633147,
                      0.7709497206703911,
                      0.7728119180633147,
                      0.7728119180633147,
                      0.7690875232774674,
                      0.7746741154562384,
                      0.7616387337057727,
                      0.7709497206703911
                    ],
                    "colorbar": {
                      "title": {
                        "text": "Objective Value"
                      }
                    },
                    "colorscale": [
                      [
                        0,
                        "rgb(247,251,255)"
                      ],
                      [
                        0.125,
                        "rgb(222,235,247)"
                      ],
                      [
                        0.25,
                        "rgb(198,219,239)"
                      ],
                      [
                        0.375,
                        "rgb(158,202,225)"
                      ],
                      [
                        0.5,
                        "rgb(107,174,214)"
                      ],
                      [
                        0.625,
                        "rgb(66,146,198)"
                      ],
                      [
                        0.75,
                        "rgb(33,113,181)"
                      ],
                      [
                        0.875,
                        "rgb(8,81,156)"
                      ],
                      [
                        1,
                        "rgb(8,48,107)"
                      ]
                    ],
                    "reversescale": false,
                    "showscale": true
                  },
                  "type": "parcoords"
                }
              ],
              "layout": {
                "template": {
                  "data": {
                    "bar": [
                      {
                        "error_x": {
                          "color": "#2a3f5f"
                        },
                        "error_y": {
                          "color": "#2a3f5f"
                        },
                        "marker": {
                          "line": {
                            "color": "#E5ECF6",
                            "width": 0.5
                          },
                          "pattern": {
                            "fillmode": "overlay",
                            "size": 10,
                            "solidity": 0.2
                          }
                        },
                        "type": "bar"
                      }
                    ],
                    "barpolar": [
                      {
                        "marker": {
                          "line": {
                            "color": "#E5ECF6",
                            "width": 0.5
                          },
                          "pattern": {
                            "fillmode": "overlay",
                            "size": 10,
                            "solidity": 0.2
                          }
                        },
                        "type": "barpolar"
                      }
                    ],
                    "carpet": [
                      {
                        "aaxis": {
                          "endlinecolor": "#2a3f5f",
                          "gridcolor": "white",
                          "linecolor": "white",
                          "minorgridcolor": "white",
                          "startlinecolor": "#2a3f5f"
                        },
                        "baxis": {
                          "endlinecolor": "#2a3f5f",
                          "gridcolor": "white",
                          "linecolor": "white",
                          "minorgridcolor": "white",
                          "startlinecolor": "#2a3f5f"
                        },
                        "type": "carpet"
                      }
                    ],
                    "choropleth": [
                      {
                        "colorbar": {
                          "outlinewidth": 0,
                          "ticks": ""
                        },
                        "type": "choropleth"
                      }
                    ],
                    "contour": [
                      {
                        "colorbar": {
                          "outlinewidth": 0,
                          "ticks": ""
                        },
                        "colorscale": [
                          [
                            0,
                            "#0d0887"
                          ],
                          [
                            0.1111111111111111,
                            "#46039f"
                          ],
                          [
                            0.2222222222222222,
                            "#7201a8"
                          ],
                          [
                            0.3333333333333333,
                            "#9c179e"
                          ],
                          [
                            0.4444444444444444,
                            "#bd3786"
                          ],
                          [
                            0.5555555555555556,
                            "#d8576b"
                          ],
                          [
                            0.6666666666666666,
                            "#ed7953"
                          ],
                          [
                            0.7777777777777778,
                            "#fb9f3a"
                          ],
                          [
                            0.8888888888888888,
                            "#fdca26"
                          ],
                          [
                            1,
                            "#f0f921"
                          ]
                        ],
                        "type": "contour"
                      }
                    ],
                    "contourcarpet": [
                      {
                        "colorbar": {
                          "outlinewidth": 0,
                          "ticks": ""
                        },
                        "type": "contourcarpet"
                      }
                    ],
                    "heatmap": [
                      {
                        "colorbar": {
                          "outlinewidth": 0,
                          "ticks": ""
                        },
                        "colorscale": [
                          [
                            0,
                            "#0d0887"
                          ],
                          [
                            0.1111111111111111,
                            "#46039f"
                          ],
                          [
                            0.2222222222222222,
                            "#7201a8"
                          ],
                          [
                            0.3333333333333333,
                            "#9c179e"
                          ],
                          [
                            0.4444444444444444,
                            "#bd3786"
                          ],
                          [
                            0.5555555555555556,
                            "#d8576b"
                          ],
                          [
                            0.6666666666666666,
                            "#ed7953"
                          ],
                          [
                            0.7777777777777778,
                            "#fb9f3a"
                          ],
                          [
                            0.8888888888888888,
                            "#fdca26"
                          ],
                          [
                            1,
                            "#f0f921"
                          ]
                        ],
                        "type": "heatmap"
                      }
                    ],
                    "histogram": [
                      {
                        "marker": {
                          "pattern": {
                            "fillmode": "overlay",
                            "size": 10,
                            "solidity": 0.2
                          }
                        },
                        "type": "histogram"
                      }
                    ],
                    "histogram2d": [
                      {
                        "colorbar": {
                          "outlinewidth": 0,
                          "ticks": ""
                        },
                        "colorscale": [
                          [
                            0,
                            "#0d0887"
                          ],
                          [
                            0.1111111111111111,
                            "#46039f"
                          ],
                          [
                            0.2222222222222222,
                            "#7201a8"
                          ],
                          [
                            0.3333333333333333,
                            "#9c179e"
                          ],
                          [
                            0.4444444444444444,
                            "#bd3786"
                          ],
                          [
                            0.5555555555555556,
                            "#d8576b"
                          ],
                          [
                            0.6666666666666666,
                            "#ed7953"
                          ],
                          [
                            0.7777777777777778,
                            "#fb9f3a"
                          ],
                          [
                            0.8888888888888888,
                            "#fdca26"
                          ],
                          [
                            1,
                            "#f0f921"
                          ]
                        ],
                        "type": "histogram2d"
                      }
                    ],
                    "histogram2dcontour": [
                      {
                        "colorbar": {
                          "outlinewidth": 0,
                          "ticks": ""
                        },
                        "colorscale": [
                          [
                            0,
                            "#0d0887"
                          ],
                          [
                            0.1111111111111111,
                            "#46039f"
                          ],
                          [
                            0.2222222222222222,
                            "#7201a8"
                          ],
                          [
                            0.3333333333333333,
                            "#9c179e"
                          ],
                          [
                            0.4444444444444444,
                            "#bd3786"
                          ],
                          [
                            0.5555555555555556,
                            "#d8576b"
                          ],
                          [
                            0.6666666666666666,
                            "#ed7953"
                          ],
                          [
                            0.7777777777777778,
                            "#fb9f3a"
                          ],
                          [
                            0.8888888888888888,
                            "#fdca26"
                          ],
                          [
                            1,
                            "#f0f921"
                          ]
                        ],
                        "type": "histogram2dcontour"
                      }
                    ],
                    "mesh3d": [
                      {
                        "colorbar": {
                          "outlinewidth": 0,
                          "ticks": ""
                        },
                        "type": "mesh3d"
                      }
                    ],
                    "parcoords": [
                      {
                        "line": {
                          "colorbar": {
                            "outlinewidth": 0,
                            "ticks": ""
                          }
                        },
                        "type": "parcoords"
                      }
                    ],
                    "pie": [
                      {
                        "automargin": true,
                        "type": "pie"
                      }
                    ],
                    "scatter": [
                      {
                        "fillpattern": {
                          "fillmode": "overlay",
                          "size": 10,
                          "solidity": 0.2
                        },
                        "type": "scatter"
                      }
                    ],
                    "scatter3d": [
                      {
                        "line": {
                          "colorbar": {
                            "outlinewidth": 0,
                            "ticks": ""
                          }
                        },
                        "marker": {
                          "colorbar": {
                            "outlinewidth": 0,
                            "ticks": ""
                          }
                        },
                        "type": "scatter3d"
                      }
                    ],
                    "scattercarpet": [
                      {
                        "marker": {
                          "colorbar": {
                            "outlinewidth": 0,
                            "ticks": ""
                          }
                        },
                        "type": "scattercarpet"
                      }
                    ],
                    "scattergeo": [
                      {
                        "marker": {
                          "colorbar": {
                            "outlinewidth": 0,
                            "ticks": ""
                          }
                        },
                        "type": "scattergeo"
                      }
                    ],
                    "scattergl": [
                      {
                        "marker": {
                          "colorbar": {
                            "outlinewidth": 0,
                            "ticks": ""
                          }
                        },
                        "type": "scattergl"
                      }
                    ],
                    "scattermap": [
                      {
                        "marker": {
                          "colorbar": {
                            "outlinewidth": 0,
                            "ticks": ""
                          }
                        },
                        "type": "scattermap"
                      }
                    ],
                    "scattermapbox": [
                      {
                        "marker": {
                          "colorbar": {
                            "outlinewidth": 0,
                            "ticks": ""
                          }
                        },
                        "type": "scattermapbox"
                      }
                    ],
                    "scatterpolar": [
                      {
                        "marker": {
                          "colorbar": {
                            "outlinewidth": 0,
                            "ticks": ""
                          }
                        },
                        "type": "scatterpolar"
                      }
                    ],
                    "scatterpolargl": [
                      {
                        "marker": {
                          "colorbar": {
                            "outlinewidth": 0,
                            "ticks": ""
                          }
                        },
                        "type": "scatterpolargl"
                      }
                    ],
                    "scatterternary": [
                      {
                        "marker": {
                          "colorbar": {
                            "outlinewidth": 0,
                            "ticks": ""
                          }
                        },
                        "type": "scatterternary"
                      }
                    ],
                    "surface": [
                      {
                        "colorbar": {
                          "outlinewidth": 0,
                          "ticks": ""
                        },
                        "colorscale": [
                          [
                            0,
                            "#0d0887"
                          ],
                          [
                            0.1111111111111111,
                            "#46039f"
                          ],
                          [
                            0.2222222222222222,
                            "#7201a8"
                          ],
                          [
                            0.3333333333333333,
                            "#9c179e"
                          ],
                          [
                            0.4444444444444444,
                            "#bd3786"
                          ],
                          [
                            0.5555555555555556,
                            "#d8576b"
                          ],
                          [
                            0.6666666666666666,
                            "#ed7953"
                          ],
                          [
                            0.7777777777777778,
                            "#fb9f3a"
                          ],
                          [
                            0.8888888888888888,
                            "#fdca26"
                          ],
                          [
                            1,
                            "#f0f921"
                          ]
                        ],
                        "type": "surface"
                      }
                    ],
                    "table": [
                      {
                        "cells": {
                          "fill": {
                            "color": "#EBF0F8"
                          },
                          "line": {
                            "color": "white"
                          }
                        },
                        "header": {
                          "fill": {
                            "color": "#C8D4E3"
                          },
                          "line": {
                            "color": "white"
                          }
                        },
                        "type": "table"
                      }
                    ]
                  },
                  "layout": {
                    "annotationdefaults": {
                      "arrowcolor": "#2a3f5f",
                      "arrowhead": 0,
                      "arrowwidth": 1
                    },
                    "autotypenumbers": "strict",
                    "coloraxis": {
                      "colorbar": {
                        "outlinewidth": 0,
                        "ticks": ""
                      }
                    },
                    "colorscale": {
                      "diverging": [
                        [
                          0,
                          "#8e0152"
                        ],
                        [
                          0.1,
                          "#c51b7d"
                        ],
                        [
                          0.2,
                          "#de77ae"
                        ],
                        [
                          0.3,
                          "#f1b6da"
                        ],
                        [
                          0.4,
                          "#fde0ef"
                        ],
                        [
                          0.5,
                          "#f7f7f7"
                        ],
                        [
                          0.6,
                          "#e6f5d0"
                        ],
                        [
                          0.7,
                          "#b8e186"
                        ],
                        [
                          0.8,
                          "#7fbc41"
                        ],
                        [
                          0.9,
                          "#4d9221"
                        ],
                        [
                          1,
                          "#276419"
                        ]
                      ],
                      "sequential": [
                        [
                          0,
                          "#0d0887"
                        ],
                        [
                          0.1111111111111111,
                          "#46039f"
                        ],
                        [
                          0.2222222222222222,
                          "#7201a8"
                        ],
                        [
                          0.3333333333333333,
                          "#9c179e"
                        ],
                        [
                          0.4444444444444444,
                          "#bd3786"
                        ],
                        [
                          0.5555555555555556,
                          "#d8576b"
                        ],
                        [
                          0.6666666666666666,
                          "#ed7953"
                        ],
                        [
                          0.7777777777777778,
                          "#fb9f3a"
                        ],
                        [
                          0.8888888888888888,
                          "#fdca26"
                        ],
                        [
                          1,
                          "#f0f921"
                        ]
                      ],
                      "sequentialminus": [
                        [
                          0,
                          "#0d0887"
                        ],
                        [
                          0.1111111111111111,
                          "#46039f"
                        ],
                        [
                          0.2222222222222222,
                          "#7201a8"
                        ],
                        [
                          0.3333333333333333,
                          "#9c179e"
                        ],
                        [
                          0.4444444444444444,
                          "#bd3786"
                        ],
                        [
                          0.5555555555555556,
                          "#d8576b"
                        ],
                        [
                          0.6666666666666666,
                          "#ed7953"
                        ],
                        [
                          0.7777777777777778,
                          "#fb9f3a"
                        ],
                        [
                          0.8888888888888888,
                          "#fdca26"
                        ],
                        [
                          1,
                          "#f0f921"
                        ]
                      ]
                    },
                    "colorway": [
                      "#636efa",
                      "#EF553B",
                      "#00cc96",
                      "#ab63fa",
                      "#FFA15A",
                      "#19d3f3",
                      "#FF6692",
                      "#B6E880",
                      "#FF97FF",
                      "#FECB52"
                    ],
                    "font": {
                      "color": "#2a3f5f"
                    },
                    "geo": {
                      "bgcolor": "white",
                      "lakecolor": "white",
                      "landcolor": "#E5ECF6",
                      "showlakes": true,
                      "showland": true,
                      "subunitcolor": "white"
                    },
                    "hoverlabel": {
                      "align": "left"
                    },
                    "hovermode": "closest",
                    "mapbox": {
                      "style": "light"
                    },
                    "paper_bgcolor": "white",
                    "plot_bgcolor": "#E5ECF6",
                    "polar": {
                      "angularaxis": {
                        "gridcolor": "white",
                        "linecolor": "white",
                        "ticks": ""
                      },
                      "bgcolor": "#E5ECF6",
                      "radialaxis": {
                        "gridcolor": "white",
                        "linecolor": "white",
                        "ticks": ""
                      }
                    },
                    "scene": {
                      "xaxis": {
                        "backgroundcolor": "#E5ECF6",
                        "gridcolor": "white",
                        "gridwidth": 2,
                        "linecolor": "white",
                        "showbackground": true,
                        "ticks": "",
                        "zerolinecolor": "white"
                      },
                      "yaxis": {
                        "backgroundcolor": "#E5ECF6",
                        "gridcolor": "white",
                        "gridwidth": 2,
                        "linecolor": "white",
                        "showbackground": true,
                        "ticks": "",
                        "zerolinecolor": "white"
                      },
                      "zaxis": {
                        "backgroundcolor": "#E5ECF6",
                        "gridcolor": "white",
                        "gridwidth": 2,
                        "linecolor": "white",
                        "showbackground": true,
                        "ticks": "",
                        "zerolinecolor": "white"
                      }
                    },
                    "shapedefaults": {
                      "line": {
                        "color": "#2a3f5f"
                      }
                    },
                    "ternary": {
                      "aaxis": {
                        "gridcolor": "white",
                        "linecolor": "white",
                        "ticks": ""
                      },
                      "baxis": {
                        "gridcolor": "white",
                        "linecolor": "white",
                        "ticks": ""
                      },
                      "bgcolor": "#E5ECF6",
                      "caxis": {
                        "gridcolor": "white",
                        "linecolor": "white",
                        "ticks": ""
                      }
                    },
                    "title": {
                      "x": 0.05
                    },
                    "xaxis": {
                      "automargin": true,
                      "gridcolor": "white",
                      "linecolor": "white",
                      "ticks": "",
                      "title": {
                        "standoff": 15
                      },
                      "zerolinecolor": "white",
                      "zerolinewidth": 2
                    },
                    "yaxis": {
                      "automargin": true,
                      "gridcolor": "white",
                      "linecolor": "white",
                      "ticks": "",
                      "title": {
                        "standoff": 15
                      },
                      "zerolinecolor": "white",
                      "zerolinewidth": 2
                    }
                  }
                },
                "title": {
                  "text": "Parallel Coordinate Plot"
                }
              }
            }
          },
          "metadata": {},
          "output_type": "display_data"
        }
      ],
      "source": [
        "# 2. Parallel Coordinates Plot\n",
        "plot_parallel_coordinate(study).show()"
      ]
    },
    {
      "cell_type": "code",
      "execution_count": 20,
      "metadata": {
        "colab": {
          "base_uri": "https://localhost:8080/",
          "height": 542
        },
        "id": "JO1GGlRv43tJ",
        "outputId": "23c9ff04-02a8-471e-903b-3073d49b8fd7"
      },
      "outputs": [
        {
          "data": {
            "application/vnd.plotly.v1+json": {
              "config": {
                "plotlyServerURL": "https://plot.ly"
              },
              "data": [
                {
                  "marker": {
                    "color": [
                      0,
                      1,
                      2,
                      3,
                      4,
                      5,
                      6,
                      7,
                      8,
                      9,
                      10,
                      11,
                      12,
                      13,
                      14,
                      15
                    ],
                    "colorbar": {
                      "title": {
                        "text": "Trial"
                      },
                      "x": 1,
                      "xpad": 40
                    },
                    "colorscale": [
                      [
                        0,
                        "rgb(247,251,255)"
                      ],
                      [
                        0.125,
                        "rgb(222,235,247)"
                      ],
                      [
                        0.25,
                        "rgb(198,219,239)"
                      ],
                      [
                        0.375,
                        "rgb(158,202,225)"
                      ],
                      [
                        0.5,
                        "rgb(107,174,214)"
                      ],
                      [
                        0.625,
                        "rgb(66,146,198)"
                      ],
                      [
                        0.75,
                        "rgb(33,113,181)"
                      ],
                      [
                        0.875,
                        "rgb(8,81,156)"
                      ],
                      [
                        1,
                        "rgb(8,48,107)"
                      ]
                    ],
                    "line": {
                      "color": "Grey",
                      "width": 0.5
                    },
                    "showscale": true
                  },
                  "mode": "markers",
                  "name": "Feasible Trial",
                  "showlegend": false,
                  "type": "scatter",
                  "x": [
                    5,
                    10,
                    15,
                    15,
                    20,
                    10,
                    5,
                    20,
                    15,
                    10,
                    20,
                    15,
                    5,
                    5,
                    10,
                    20
                  ],
                  "xaxis": "x",
                  "y": [
                    0.7690875232774674,
                    0.7672253258845437,
                    0.7728119180633147,
                    0.7653631284916201,
                    0.7690875232774674,
                    0.7579143389199254,
                    0.7653631284916201,
                    0.7728119180633147,
                    0.7728119180633147,
                    0.7709497206703911,
                    0.7728119180633147,
                    0.7728119180633147,
                    0.7690875232774674,
                    0.7746741154562384,
                    0.7616387337057727,
                    0.7709497206703911
                  ],
                  "yaxis": "y"
                },
                {
                  "marker": {
                    "color": [
                      0,
                      1,
                      2,
                      3,
                      4,
                      5,
                      6,
                      7,
                      8,
                      9,
                      10,
                      11,
                      12,
                      13,
                      14,
                      15
                    ],
                    "colorbar": {
                      "title": {
                        "text": "Trial"
                      },
                      "x": 1,
                      "xpad": 40
                    },
                    "colorscale": [
                      [
                        0,
                        "rgb(247,251,255)"
                      ],
                      [
                        0.125,
                        "rgb(222,235,247)"
                      ],
                      [
                        0.25,
                        "rgb(198,219,239)"
                      ],
                      [
                        0.375,
                        "rgb(158,202,225)"
                      ],
                      [
                        0.5,
                        "rgb(107,174,214)"
                      ],
                      [
                        0.625,
                        "rgb(66,146,198)"
                      ],
                      [
                        0.75,
                        "rgb(33,113,181)"
                      ],
                      [
                        0.875,
                        "rgb(8,81,156)"
                      ],
                      [
                        1,
                        "rgb(8,48,107)"
                      ]
                    ],
                    "line": {
                      "color": "Grey",
                      "width": 0.5
                    },
                    "showscale": false
                  },
                  "mode": "markers",
                  "name": "Feasible Trial",
                  "showlegend": false,
                  "type": "scatter",
                  "x": [
                    100,
                    150,
                    50,
                    100,
                    100,
                    50,
                    150,
                    150,
                    150,
                    200,
                    200,
                    200,
                    200,
                    50,
                    100,
                    50
                  ],
                  "xaxis": "x2",
                  "y": [
                    0.7690875232774674,
                    0.7672253258845437,
                    0.7728119180633147,
                    0.7653631284916201,
                    0.7690875232774674,
                    0.7579143389199254,
                    0.7653631284916201,
                    0.7728119180633147,
                    0.7728119180633147,
                    0.7709497206703911,
                    0.7728119180633147,
                    0.7728119180633147,
                    0.7690875232774674,
                    0.7746741154562384,
                    0.7616387337057727,
                    0.7709497206703911
                  ],
                  "yaxis": "y2"
                }
              ],
              "layout": {
                "template": {
                  "data": {
                    "bar": [
                      {
                        "error_x": {
                          "color": "#2a3f5f"
                        },
                        "error_y": {
                          "color": "#2a3f5f"
                        },
                        "marker": {
                          "line": {
                            "color": "#E5ECF6",
                            "width": 0.5
                          },
                          "pattern": {
                            "fillmode": "overlay",
                            "size": 10,
                            "solidity": 0.2
                          }
                        },
                        "type": "bar"
                      }
                    ],
                    "barpolar": [
                      {
                        "marker": {
                          "line": {
                            "color": "#E5ECF6",
                            "width": 0.5
                          },
                          "pattern": {
                            "fillmode": "overlay",
                            "size": 10,
                            "solidity": 0.2
                          }
                        },
                        "type": "barpolar"
                      }
                    ],
                    "carpet": [
                      {
                        "aaxis": {
                          "endlinecolor": "#2a3f5f",
                          "gridcolor": "white",
                          "linecolor": "white",
                          "minorgridcolor": "white",
                          "startlinecolor": "#2a3f5f"
                        },
                        "baxis": {
                          "endlinecolor": "#2a3f5f",
                          "gridcolor": "white",
                          "linecolor": "white",
                          "minorgridcolor": "white",
                          "startlinecolor": "#2a3f5f"
                        },
                        "type": "carpet"
                      }
                    ],
                    "choropleth": [
                      {
                        "colorbar": {
                          "outlinewidth": 0,
                          "ticks": ""
                        },
                        "type": "choropleth"
                      }
                    ],
                    "contour": [
                      {
                        "colorbar": {
                          "outlinewidth": 0,
                          "ticks": ""
                        },
                        "colorscale": [
                          [
                            0,
                            "#0d0887"
                          ],
                          [
                            0.1111111111111111,
                            "#46039f"
                          ],
                          [
                            0.2222222222222222,
                            "#7201a8"
                          ],
                          [
                            0.3333333333333333,
                            "#9c179e"
                          ],
                          [
                            0.4444444444444444,
                            "#bd3786"
                          ],
                          [
                            0.5555555555555556,
                            "#d8576b"
                          ],
                          [
                            0.6666666666666666,
                            "#ed7953"
                          ],
                          [
                            0.7777777777777778,
                            "#fb9f3a"
                          ],
                          [
                            0.8888888888888888,
                            "#fdca26"
                          ],
                          [
                            1,
                            "#f0f921"
                          ]
                        ],
                        "type": "contour"
                      }
                    ],
                    "contourcarpet": [
                      {
                        "colorbar": {
                          "outlinewidth": 0,
                          "ticks": ""
                        },
                        "type": "contourcarpet"
                      }
                    ],
                    "heatmap": [
                      {
                        "colorbar": {
                          "outlinewidth": 0,
                          "ticks": ""
                        },
                        "colorscale": [
                          [
                            0,
                            "#0d0887"
                          ],
                          [
                            0.1111111111111111,
                            "#46039f"
                          ],
                          [
                            0.2222222222222222,
                            "#7201a8"
                          ],
                          [
                            0.3333333333333333,
                            "#9c179e"
                          ],
                          [
                            0.4444444444444444,
                            "#bd3786"
                          ],
                          [
                            0.5555555555555556,
                            "#d8576b"
                          ],
                          [
                            0.6666666666666666,
                            "#ed7953"
                          ],
                          [
                            0.7777777777777778,
                            "#fb9f3a"
                          ],
                          [
                            0.8888888888888888,
                            "#fdca26"
                          ],
                          [
                            1,
                            "#f0f921"
                          ]
                        ],
                        "type": "heatmap"
                      }
                    ],
                    "histogram": [
                      {
                        "marker": {
                          "pattern": {
                            "fillmode": "overlay",
                            "size": 10,
                            "solidity": 0.2
                          }
                        },
                        "type": "histogram"
                      }
                    ],
                    "histogram2d": [
                      {
                        "colorbar": {
                          "outlinewidth": 0,
                          "ticks": ""
                        },
                        "colorscale": [
                          [
                            0,
                            "#0d0887"
                          ],
                          [
                            0.1111111111111111,
                            "#46039f"
                          ],
                          [
                            0.2222222222222222,
                            "#7201a8"
                          ],
                          [
                            0.3333333333333333,
                            "#9c179e"
                          ],
                          [
                            0.4444444444444444,
                            "#bd3786"
                          ],
                          [
                            0.5555555555555556,
                            "#d8576b"
                          ],
                          [
                            0.6666666666666666,
                            "#ed7953"
                          ],
                          [
                            0.7777777777777778,
                            "#fb9f3a"
                          ],
                          [
                            0.8888888888888888,
                            "#fdca26"
                          ],
                          [
                            1,
                            "#f0f921"
                          ]
                        ],
                        "type": "histogram2d"
                      }
                    ],
                    "histogram2dcontour": [
                      {
                        "colorbar": {
                          "outlinewidth": 0,
                          "ticks": ""
                        },
                        "colorscale": [
                          [
                            0,
                            "#0d0887"
                          ],
                          [
                            0.1111111111111111,
                            "#46039f"
                          ],
                          [
                            0.2222222222222222,
                            "#7201a8"
                          ],
                          [
                            0.3333333333333333,
                            "#9c179e"
                          ],
                          [
                            0.4444444444444444,
                            "#bd3786"
                          ],
                          [
                            0.5555555555555556,
                            "#d8576b"
                          ],
                          [
                            0.6666666666666666,
                            "#ed7953"
                          ],
                          [
                            0.7777777777777778,
                            "#fb9f3a"
                          ],
                          [
                            0.8888888888888888,
                            "#fdca26"
                          ],
                          [
                            1,
                            "#f0f921"
                          ]
                        ],
                        "type": "histogram2dcontour"
                      }
                    ],
                    "mesh3d": [
                      {
                        "colorbar": {
                          "outlinewidth": 0,
                          "ticks": ""
                        },
                        "type": "mesh3d"
                      }
                    ],
                    "parcoords": [
                      {
                        "line": {
                          "colorbar": {
                            "outlinewidth": 0,
                            "ticks": ""
                          }
                        },
                        "type": "parcoords"
                      }
                    ],
                    "pie": [
                      {
                        "automargin": true,
                        "type": "pie"
                      }
                    ],
                    "scatter": [
                      {
                        "fillpattern": {
                          "fillmode": "overlay",
                          "size": 10,
                          "solidity": 0.2
                        },
                        "type": "scatter"
                      }
                    ],
                    "scatter3d": [
                      {
                        "line": {
                          "colorbar": {
                            "outlinewidth": 0,
                            "ticks": ""
                          }
                        },
                        "marker": {
                          "colorbar": {
                            "outlinewidth": 0,
                            "ticks": ""
                          }
                        },
                        "type": "scatter3d"
                      }
                    ],
                    "scattercarpet": [
                      {
                        "marker": {
                          "colorbar": {
                            "outlinewidth": 0,
                            "ticks": ""
                          }
                        },
                        "type": "scattercarpet"
                      }
                    ],
                    "scattergeo": [
                      {
                        "marker": {
                          "colorbar": {
                            "outlinewidth": 0,
                            "ticks": ""
                          }
                        },
                        "type": "scattergeo"
                      }
                    ],
                    "scattergl": [
                      {
                        "marker": {
                          "colorbar": {
                            "outlinewidth": 0,
                            "ticks": ""
                          }
                        },
                        "type": "scattergl"
                      }
                    ],
                    "scattermap": [
                      {
                        "marker": {
                          "colorbar": {
                            "outlinewidth": 0,
                            "ticks": ""
                          }
                        },
                        "type": "scattermap"
                      }
                    ],
                    "scattermapbox": [
                      {
                        "marker": {
                          "colorbar": {
                            "outlinewidth": 0,
                            "ticks": ""
                          }
                        },
                        "type": "scattermapbox"
                      }
                    ],
                    "scatterpolar": [
                      {
                        "marker": {
                          "colorbar": {
                            "outlinewidth": 0,
                            "ticks": ""
                          }
                        },
                        "type": "scatterpolar"
                      }
                    ],
                    "scatterpolargl": [
                      {
                        "marker": {
                          "colorbar": {
                            "outlinewidth": 0,
                            "ticks": ""
                          }
                        },
                        "type": "scatterpolargl"
                      }
                    ],
                    "scatterternary": [
                      {
                        "marker": {
                          "colorbar": {
                            "outlinewidth": 0,
                            "ticks": ""
                          }
                        },
                        "type": "scatterternary"
                      }
                    ],
                    "surface": [
                      {
                        "colorbar": {
                          "outlinewidth": 0,
                          "ticks": ""
                        },
                        "colorscale": [
                          [
                            0,
                            "#0d0887"
                          ],
                          [
                            0.1111111111111111,
                            "#46039f"
                          ],
                          [
                            0.2222222222222222,
                            "#7201a8"
                          ],
                          [
                            0.3333333333333333,
                            "#9c179e"
                          ],
                          [
                            0.4444444444444444,
                            "#bd3786"
                          ],
                          [
                            0.5555555555555556,
                            "#d8576b"
                          ],
                          [
                            0.6666666666666666,
                            "#ed7953"
                          ],
                          [
                            0.7777777777777778,
                            "#fb9f3a"
                          ],
                          [
                            0.8888888888888888,
                            "#fdca26"
                          ],
                          [
                            1,
                            "#f0f921"
                          ]
                        ],
                        "type": "surface"
                      }
                    ],
                    "table": [
                      {
                        "cells": {
                          "fill": {
                            "color": "#EBF0F8"
                          },
                          "line": {
                            "color": "white"
                          }
                        },
                        "header": {
                          "fill": {
                            "color": "#C8D4E3"
                          },
                          "line": {
                            "color": "white"
                          }
                        },
                        "type": "table"
                      }
                    ]
                  },
                  "layout": {
                    "annotationdefaults": {
                      "arrowcolor": "#2a3f5f",
                      "arrowhead": 0,
                      "arrowwidth": 1
                    },
                    "autotypenumbers": "strict",
                    "coloraxis": {
                      "colorbar": {
                        "outlinewidth": 0,
                        "ticks": ""
                      }
                    },
                    "colorscale": {
                      "diverging": [
                        [
                          0,
                          "#8e0152"
                        ],
                        [
                          0.1,
                          "#c51b7d"
                        ],
                        [
                          0.2,
                          "#de77ae"
                        ],
                        [
                          0.3,
                          "#f1b6da"
                        ],
                        [
                          0.4,
                          "#fde0ef"
                        ],
                        [
                          0.5,
                          "#f7f7f7"
                        ],
                        [
                          0.6,
                          "#e6f5d0"
                        ],
                        [
                          0.7,
                          "#b8e186"
                        ],
                        [
                          0.8,
                          "#7fbc41"
                        ],
                        [
                          0.9,
                          "#4d9221"
                        ],
                        [
                          1,
                          "#276419"
                        ]
                      ],
                      "sequential": [
                        [
                          0,
                          "#0d0887"
                        ],
                        [
                          0.1111111111111111,
                          "#46039f"
                        ],
                        [
                          0.2222222222222222,
                          "#7201a8"
                        ],
                        [
                          0.3333333333333333,
                          "#9c179e"
                        ],
                        [
                          0.4444444444444444,
                          "#bd3786"
                        ],
                        [
                          0.5555555555555556,
                          "#d8576b"
                        ],
                        [
                          0.6666666666666666,
                          "#ed7953"
                        ],
                        [
                          0.7777777777777778,
                          "#fb9f3a"
                        ],
                        [
                          0.8888888888888888,
                          "#fdca26"
                        ],
                        [
                          1,
                          "#f0f921"
                        ]
                      ],
                      "sequentialminus": [
                        [
                          0,
                          "#0d0887"
                        ],
                        [
                          0.1111111111111111,
                          "#46039f"
                        ],
                        [
                          0.2222222222222222,
                          "#7201a8"
                        ],
                        [
                          0.3333333333333333,
                          "#9c179e"
                        ],
                        [
                          0.4444444444444444,
                          "#bd3786"
                        ],
                        [
                          0.5555555555555556,
                          "#d8576b"
                        ],
                        [
                          0.6666666666666666,
                          "#ed7953"
                        ],
                        [
                          0.7777777777777778,
                          "#fb9f3a"
                        ],
                        [
                          0.8888888888888888,
                          "#fdca26"
                        ],
                        [
                          1,
                          "#f0f921"
                        ]
                      ]
                    },
                    "colorway": [
                      "#636efa",
                      "#EF553B",
                      "#00cc96",
                      "#ab63fa",
                      "#FFA15A",
                      "#19d3f3",
                      "#FF6692",
                      "#B6E880",
                      "#FF97FF",
                      "#FECB52"
                    ],
                    "font": {
                      "color": "#2a3f5f"
                    },
                    "geo": {
                      "bgcolor": "white",
                      "lakecolor": "white",
                      "landcolor": "#E5ECF6",
                      "showlakes": true,
                      "showland": true,
                      "subunitcolor": "white"
                    },
                    "hoverlabel": {
                      "align": "left"
                    },
                    "hovermode": "closest",
                    "mapbox": {
                      "style": "light"
                    },
                    "paper_bgcolor": "white",
                    "plot_bgcolor": "#E5ECF6",
                    "polar": {
                      "angularaxis": {
                        "gridcolor": "white",
                        "linecolor": "white",
                        "ticks": ""
                      },
                      "bgcolor": "#E5ECF6",
                      "radialaxis": {
                        "gridcolor": "white",
                        "linecolor": "white",
                        "ticks": ""
                      }
                    },
                    "scene": {
                      "xaxis": {
                        "backgroundcolor": "#E5ECF6",
                        "gridcolor": "white",
                        "gridwidth": 2,
                        "linecolor": "white",
                        "showbackground": true,
                        "ticks": "",
                        "zerolinecolor": "white"
                      },
                      "yaxis": {
                        "backgroundcolor": "#E5ECF6",
                        "gridcolor": "white",
                        "gridwidth": 2,
                        "linecolor": "white",
                        "showbackground": true,
                        "ticks": "",
                        "zerolinecolor": "white"
                      },
                      "zaxis": {
                        "backgroundcolor": "#E5ECF6",
                        "gridcolor": "white",
                        "gridwidth": 2,
                        "linecolor": "white",
                        "showbackground": true,
                        "ticks": "",
                        "zerolinecolor": "white"
                      }
                    },
                    "shapedefaults": {
                      "line": {
                        "color": "#2a3f5f"
                      }
                    },
                    "ternary": {
                      "aaxis": {
                        "gridcolor": "white",
                        "linecolor": "white",
                        "ticks": ""
                      },
                      "baxis": {
                        "gridcolor": "white",
                        "linecolor": "white",
                        "ticks": ""
                      },
                      "bgcolor": "#E5ECF6",
                      "caxis": {
                        "gridcolor": "white",
                        "linecolor": "white",
                        "ticks": ""
                      }
                    },
                    "title": {
                      "x": 0.05
                    },
                    "xaxis": {
                      "automargin": true,
                      "gridcolor": "white",
                      "linecolor": "white",
                      "ticks": "",
                      "title": {
                        "standoff": 15
                      },
                      "zerolinecolor": "white",
                      "zerolinewidth": 2
                    },
                    "yaxis": {
                      "automargin": true,
                      "gridcolor": "white",
                      "linecolor": "white",
                      "ticks": "",
                      "title": {
                        "standoff": 15
                      },
                      "zerolinecolor": "white",
                      "zerolinewidth": 2
                    }
                  }
                },
                "title": {
                  "text": "Slice Plot"
                },
                "xaxis": {
                  "anchor": "y",
                  "domain": [
                    0,
                    0.45
                  ],
                  "title": {
                    "text": "max_depth"
                  }
                },
                "xaxis2": {
                  "anchor": "y2",
                  "domain": [
                    0.55,
                    1
                  ],
                  "title": {
                    "text": "n_estimators"
                  }
                },
                "yaxis": {
                  "anchor": "x",
                  "domain": [
                    0,
                    1
                  ],
                  "title": {
                    "text": "Objective Value"
                  }
                },
                "yaxis2": {
                  "anchor": "x2",
                  "domain": [
                    0,
                    1
                  ],
                  "matches": "y",
                  "showticklabels": false
                }
              }
            }
          },
          "metadata": {},
          "output_type": "display_data"
        }
      ],
      "source": [
        "# 3. Slice Plot\n",
        "plot_slice(study).show()"
      ]
    },
    {
      "cell_type": "code",
      "execution_count": 21,
      "metadata": {
        "colab": {
          "base_uri": "https://localhost:8080/",
          "height": 542
        },
        "id": "b3u7VrCi5DPB",
        "outputId": "03272990-910f-45a5-f99c-fdad29188048"
      },
      "outputs": [
        {
          "data": {
            "application/vnd.plotly.v1+json": {
              "config": {
                "plotlyServerURL": "https://plot.ly"
              },
              "data": [
                {
                  "colorbar": {
                    "title": {
                      "text": "Objective Value"
                    }
                  },
                  "colorscale": [
                    [
                      0,
                      "rgb(247,251,255)"
                    ],
                    [
                      0.125,
                      "rgb(222,235,247)"
                    ],
                    [
                      0.25,
                      "rgb(198,219,239)"
                    ],
                    [
                      0.375,
                      "rgb(158,202,225)"
                    ],
                    [
                      0.5,
                      "rgb(107,174,214)"
                    ],
                    [
                      0.625,
                      "rgb(66,146,198)"
                    ],
                    [
                      0.75,
                      "rgb(33,113,181)"
                    ],
                    [
                      0.875,
                      "rgb(8,81,156)"
                    ],
                    [
                      1,
                      "rgb(8,48,107)"
                    ]
                  ],
                  "connectgaps": true,
                  "contours": {
                    "coloring": "heatmap"
                  },
                  "hoverinfo": "none",
                  "line": {
                    "smoothing": 1.3
                  },
                  "reversescale": false,
                  "type": "contour",
                  "x": [
                    4.25,
                    5,
                    10,
                    15,
                    20,
                    20.75
                  ],
                  "y": [
                    42.5,
                    50,
                    100,
                    150,
                    200,
                    207.5
                  ],
                  "z": {
                    "bdata": "AAAAAAAA+H8AAAAAAAD4fwAAAAAAAPh/AAAAAAAA+H8AAAAAAAD4fwAAAAAAAPh/AAAAAAAA+H8YJ95eIcroP8iTWpLVQOg/nU9BD+C66D8jeKS/nqvoPwAAAAAAAPh/AAAAAAAA+H+ooAdwXZzoP71ClDFYX+g/s/HN0Np96D+ooAdwXZzoPwAAAAAAAPh/AAAAAAAA+H+z8c3Q2n3oPy3JaiAcjeg/nU9BD+C66D+dT0EP4LroPwAAAAAAAPh/AAAAAAAA+H+ooAdwXZzoPyN4pL+eq+g/nU9BD+C66D+dT0EP4LroPwAAAAAAAPh/AAAAAAAA+H8AAAAAAAD4fwAAAAAAAPh/AAAAAAAA+H8AAAAAAAD4fwAAAAAAAPh/",
                    "dtype": "f8",
                    "shape": "6, 6"
                  }
                },
                {
                  "marker": {
                    "color": "black",
                    "line": {
                      "color": "Gray",
                      "width": 2
                    }
                  },
                  "mode": "markers",
                  "name": "Feasible Trial",
                  "showlegend": false,
                  "type": "scatter",
                  "x": [
                    5,
                    10,
                    15,
                    15,
                    20,
                    10,
                    5,
                    20,
                    15,
                    10,
                    20,
                    15,
                    5,
                    5,
                    10,
                    20
                  ],
                  "y": [
                    100,
                    150,
                    50,
                    100,
                    100,
                    50,
                    150,
                    150,
                    150,
                    200,
                    200,
                    200,
                    200,
                    50,
                    100,
                    50
                  ]
                },
                {
                  "marker": {
                    "color": "#cccccc",
                    "line": {
                      "color": "Gray",
                      "width": 2
                    }
                  },
                  "mode": "markers",
                  "name": "Infeasible Trial",
                  "showlegend": false,
                  "type": "scatter",
                  "x": [],
                  "y": []
                }
              ],
              "layout": {
                "template": {
                  "data": {
                    "bar": [
                      {
                        "error_x": {
                          "color": "#2a3f5f"
                        },
                        "error_y": {
                          "color": "#2a3f5f"
                        },
                        "marker": {
                          "line": {
                            "color": "#E5ECF6",
                            "width": 0.5
                          },
                          "pattern": {
                            "fillmode": "overlay",
                            "size": 10,
                            "solidity": 0.2
                          }
                        },
                        "type": "bar"
                      }
                    ],
                    "barpolar": [
                      {
                        "marker": {
                          "line": {
                            "color": "#E5ECF6",
                            "width": 0.5
                          },
                          "pattern": {
                            "fillmode": "overlay",
                            "size": 10,
                            "solidity": 0.2
                          }
                        },
                        "type": "barpolar"
                      }
                    ],
                    "carpet": [
                      {
                        "aaxis": {
                          "endlinecolor": "#2a3f5f",
                          "gridcolor": "white",
                          "linecolor": "white",
                          "minorgridcolor": "white",
                          "startlinecolor": "#2a3f5f"
                        },
                        "baxis": {
                          "endlinecolor": "#2a3f5f",
                          "gridcolor": "white",
                          "linecolor": "white",
                          "minorgridcolor": "white",
                          "startlinecolor": "#2a3f5f"
                        },
                        "type": "carpet"
                      }
                    ],
                    "choropleth": [
                      {
                        "colorbar": {
                          "outlinewidth": 0,
                          "ticks": ""
                        },
                        "type": "choropleth"
                      }
                    ],
                    "contour": [
                      {
                        "colorbar": {
                          "outlinewidth": 0,
                          "ticks": ""
                        },
                        "colorscale": [
                          [
                            0,
                            "#0d0887"
                          ],
                          [
                            0.1111111111111111,
                            "#46039f"
                          ],
                          [
                            0.2222222222222222,
                            "#7201a8"
                          ],
                          [
                            0.3333333333333333,
                            "#9c179e"
                          ],
                          [
                            0.4444444444444444,
                            "#bd3786"
                          ],
                          [
                            0.5555555555555556,
                            "#d8576b"
                          ],
                          [
                            0.6666666666666666,
                            "#ed7953"
                          ],
                          [
                            0.7777777777777778,
                            "#fb9f3a"
                          ],
                          [
                            0.8888888888888888,
                            "#fdca26"
                          ],
                          [
                            1,
                            "#f0f921"
                          ]
                        ],
                        "type": "contour"
                      }
                    ],
                    "contourcarpet": [
                      {
                        "colorbar": {
                          "outlinewidth": 0,
                          "ticks": ""
                        },
                        "type": "contourcarpet"
                      }
                    ],
                    "heatmap": [
                      {
                        "colorbar": {
                          "outlinewidth": 0,
                          "ticks": ""
                        },
                        "colorscale": [
                          [
                            0,
                            "#0d0887"
                          ],
                          [
                            0.1111111111111111,
                            "#46039f"
                          ],
                          [
                            0.2222222222222222,
                            "#7201a8"
                          ],
                          [
                            0.3333333333333333,
                            "#9c179e"
                          ],
                          [
                            0.4444444444444444,
                            "#bd3786"
                          ],
                          [
                            0.5555555555555556,
                            "#d8576b"
                          ],
                          [
                            0.6666666666666666,
                            "#ed7953"
                          ],
                          [
                            0.7777777777777778,
                            "#fb9f3a"
                          ],
                          [
                            0.8888888888888888,
                            "#fdca26"
                          ],
                          [
                            1,
                            "#f0f921"
                          ]
                        ],
                        "type": "heatmap"
                      }
                    ],
                    "histogram": [
                      {
                        "marker": {
                          "pattern": {
                            "fillmode": "overlay",
                            "size": 10,
                            "solidity": 0.2
                          }
                        },
                        "type": "histogram"
                      }
                    ],
                    "histogram2d": [
                      {
                        "colorbar": {
                          "outlinewidth": 0,
                          "ticks": ""
                        },
                        "colorscale": [
                          [
                            0,
                            "#0d0887"
                          ],
                          [
                            0.1111111111111111,
                            "#46039f"
                          ],
                          [
                            0.2222222222222222,
                            "#7201a8"
                          ],
                          [
                            0.3333333333333333,
                            "#9c179e"
                          ],
                          [
                            0.4444444444444444,
                            "#bd3786"
                          ],
                          [
                            0.5555555555555556,
                            "#d8576b"
                          ],
                          [
                            0.6666666666666666,
                            "#ed7953"
                          ],
                          [
                            0.7777777777777778,
                            "#fb9f3a"
                          ],
                          [
                            0.8888888888888888,
                            "#fdca26"
                          ],
                          [
                            1,
                            "#f0f921"
                          ]
                        ],
                        "type": "histogram2d"
                      }
                    ],
                    "histogram2dcontour": [
                      {
                        "colorbar": {
                          "outlinewidth": 0,
                          "ticks": ""
                        },
                        "colorscale": [
                          [
                            0,
                            "#0d0887"
                          ],
                          [
                            0.1111111111111111,
                            "#46039f"
                          ],
                          [
                            0.2222222222222222,
                            "#7201a8"
                          ],
                          [
                            0.3333333333333333,
                            "#9c179e"
                          ],
                          [
                            0.4444444444444444,
                            "#bd3786"
                          ],
                          [
                            0.5555555555555556,
                            "#d8576b"
                          ],
                          [
                            0.6666666666666666,
                            "#ed7953"
                          ],
                          [
                            0.7777777777777778,
                            "#fb9f3a"
                          ],
                          [
                            0.8888888888888888,
                            "#fdca26"
                          ],
                          [
                            1,
                            "#f0f921"
                          ]
                        ],
                        "type": "histogram2dcontour"
                      }
                    ],
                    "mesh3d": [
                      {
                        "colorbar": {
                          "outlinewidth": 0,
                          "ticks": ""
                        },
                        "type": "mesh3d"
                      }
                    ],
                    "parcoords": [
                      {
                        "line": {
                          "colorbar": {
                            "outlinewidth": 0,
                            "ticks": ""
                          }
                        },
                        "type": "parcoords"
                      }
                    ],
                    "pie": [
                      {
                        "automargin": true,
                        "type": "pie"
                      }
                    ],
                    "scatter": [
                      {
                        "fillpattern": {
                          "fillmode": "overlay",
                          "size": 10,
                          "solidity": 0.2
                        },
                        "type": "scatter"
                      }
                    ],
                    "scatter3d": [
                      {
                        "line": {
                          "colorbar": {
                            "outlinewidth": 0,
                            "ticks": ""
                          }
                        },
                        "marker": {
                          "colorbar": {
                            "outlinewidth": 0,
                            "ticks": ""
                          }
                        },
                        "type": "scatter3d"
                      }
                    ],
                    "scattercarpet": [
                      {
                        "marker": {
                          "colorbar": {
                            "outlinewidth": 0,
                            "ticks": ""
                          }
                        },
                        "type": "scattercarpet"
                      }
                    ],
                    "scattergeo": [
                      {
                        "marker": {
                          "colorbar": {
                            "outlinewidth": 0,
                            "ticks": ""
                          }
                        },
                        "type": "scattergeo"
                      }
                    ],
                    "scattergl": [
                      {
                        "marker": {
                          "colorbar": {
                            "outlinewidth": 0,
                            "ticks": ""
                          }
                        },
                        "type": "scattergl"
                      }
                    ],
                    "scattermap": [
                      {
                        "marker": {
                          "colorbar": {
                            "outlinewidth": 0,
                            "ticks": ""
                          }
                        },
                        "type": "scattermap"
                      }
                    ],
                    "scattermapbox": [
                      {
                        "marker": {
                          "colorbar": {
                            "outlinewidth": 0,
                            "ticks": ""
                          }
                        },
                        "type": "scattermapbox"
                      }
                    ],
                    "scatterpolar": [
                      {
                        "marker": {
                          "colorbar": {
                            "outlinewidth": 0,
                            "ticks": ""
                          }
                        },
                        "type": "scatterpolar"
                      }
                    ],
                    "scatterpolargl": [
                      {
                        "marker": {
                          "colorbar": {
                            "outlinewidth": 0,
                            "ticks": ""
                          }
                        },
                        "type": "scatterpolargl"
                      }
                    ],
                    "scatterternary": [
                      {
                        "marker": {
                          "colorbar": {
                            "outlinewidth": 0,
                            "ticks": ""
                          }
                        },
                        "type": "scatterternary"
                      }
                    ],
                    "surface": [
                      {
                        "colorbar": {
                          "outlinewidth": 0,
                          "ticks": ""
                        },
                        "colorscale": [
                          [
                            0,
                            "#0d0887"
                          ],
                          [
                            0.1111111111111111,
                            "#46039f"
                          ],
                          [
                            0.2222222222222222,
                            "#7201a8"
                          ],
                          [
                            0.3333333333333333,
                            "#9c179e"
                          ],
                          [
                            0.4444444444444444,
                            "#bd3786"
                          ],
                          [
                            0.5555555555555556,
                            "#d8576b"
                          ],
                          [
                            0.6666666666666666,
                            "#ed7953"
                          ],
                          [
                            0.7777777777777778,
                            "#fb9f3a"
                          ],
                          [
                            0.8888888888888888,
                            "#fdca26"
                          ],
                          [
                            1,
                            "#f0f921"
                          ]
                        ],
                        "type": "surface"
                      }
                    ],
                    "table": [
                      {
                        "cells": {
                          "fill": {
                            "color": "#EBF0F8"
                          },
                          "line": {
                            "color": "white"
                          }
                        },
                        "header": {
                          "fill": {
                            "color": "#C8D4E3"
                          },
                          "line": {
                            "color": "white"
                          }
                        },
                        "type": "table"
                      }
                    ]
                  },
                  "layout": {
                    "annotationdefaults": {
                      "arrowcolor": "#2a3f5f",
                      "arrowhead": 0,
                      "arrowwidth": 1
                    },
                    "autotypenumbers": "strict",
                    "coloraxis": {
                      "colorbar": {
                        "outlinewidth": 0,
                        "ticks": ""
                      }
                    },
                    "colorscale": {
                      "diverging": [
                        [
                          0,
                          "#8e0152"
                        ],
                        [
                          0.1,
                          "#c51b7d"
                        ],
                        [
                          0.2,
                          "#de77ae"
                        ],
                        [
                          0.3,
                          "#f1b6da"
                        ],
                        [
                          0.4,
                          "#fde0ef"
                        ],
                        [
                          0.5,
                          "#f7f7f7"
                        ],
                        [
                          0.6,
                          "#e6f5d0"
                        ],
                        [
                          0.7,
                          "#b8e186"
                        ],
                        [
                          0.8,
                          "#7fbc41"
                        ],
                        [
                          0.9,
                          "#4d9221"
                        ],
                        [
                          1,
                          "#276419"
                        ]
                      ],
                      "sequential": [
                        [
                          0,
                          "#0d0887"
                        ],
                        [
                          0.1111111111111111,
                          "#46039f"
                        ],
                        [
                          0.2222222222222222,
                          "#7201a8"
                        ],
                        [
                          0.3333333333333333,
                          "#9c179e"
                        ],
                        [
                          0.4444444444444444,
                          "#bd3786"
                        ],
                        [
                          0.5555555555555556,
                          "#d8576b"
                        ],
                        [
                          0.6666666666666666,
                          "#ed7953"
                        ],
                        [
                          0.7777777777777778,
                          "#fb9f3a"
                        ],
                        [
                          0.8888888888888888,
                          "#fdca26"
                        ],
                        [
                          1,
                          "#f0f921"
                        ]
                      ],
                      "sequentialminus": [
                        [
                          0,
                          "#0d0887"
                        ],
                        [
                          0.1111111111111111,
                          "#46039f"
                        ],
                        [
                          0.2222222222222222,
                          "#7201a8"
                        ],
                        [
                          0.3333333333333333,
                          "#9c179e"
                        ],
                        [
                          0.4444444444444444,
                          "#bd3786"
                        ],
                        [
                          0.5555555555555556,
                          "#d8576b"
                        ],
                        [
                          0.6666666666666666,
                          "#ed7953"
                        ],
                        [
                          0.7777777777777778,
                          "#fb9f3a"
                        ],
                        [
                          0.8888888888888888,
                          "#fdca26"
                        ],
                        [
                          1,
                          "#f0f921"
                        ]
                      ]
                    },
                    "colorway": [
                      "#636efa",
                      "#EF553B",
                      "#00cc96",
                      "#ab63fa",
                      "#FFA15A",
                      "#19d3f3",
                      "#FF6692",
                      "#B6E880",
                      "#FF97FF",
                      "#FECB52"
                    ],
                    "font": {
                      "color": "#2a3f5f"
                    },
                    "geo": {
                      "bgcolor": "white",
                      "lakecolor": "white",
                      "landcolor": "#E5ECF6",
                      "showlakes": true,
                      "showland": true,
                      "subunitcolor": "white"
                    },
                    "hoverlabel": {
                      "align": "left"
                    },
                    "hovermode": "closest",
                    "mapbox": {
                      "style": "light"
                    },
                    "paper_bgcolor": "white",
                    "plot_bgcolor": "#E5ECF6",
                    "polar": {
                      "angularaxis": {
                        "gridcolor": "white",
                        "linecolor": "white",
                        "ticks": ""
                      },
                      "bgcolor": "#E5ECF6",
                      "radialaxis": {
                        "gridcolor": "white",
                        "linecolor": "white",
                        "ticks": ""
                      }
                    },
                    "scene": {
                      "xaxis": {
                        "backgroundcolor": "#E5ECF6",
                        "gridcolor": "white",
                        "gridwidth": 2,
                        "linecolor": "white",
                        "showbackground": true,
                        "ticks": "",
                        "zerolinecolor": "white"
                      },
                      "yaxis": {
                        "backgroundcolor": "#E5ECF6",
                        "gridcolor": "white",
                        "gridwidth": 2,
                        "linecolor": "white",
                        "showbackground": true,
                        "ticks": "",
                        "zerolinecolor": "white"
                      },
                      "zaxis": {
                        "backgroundcolor": "#E5ECF6",
                        "gridcolor": "white",
                        "gridwidth": 2,
                        "linecolor": "white",
                        "showbackground": true,
                        "ticks": "",
                        "zerolinecolor": "white"
                      }
                    },
                    "shapedefaults": {
                      "line": {
                        "color": "#2a3f5f"
                      }
                    },
                    "ternary": {
                      "aaxis": {
                        "gridcolor": "white",
                        "linecolor": "white",
                        "ticks": ""
                      },
                      "baxis": {
                        "gridcolor": "white",
                        "linecolor": "white",
                        "ticks": ""
                      },
                      "bgcolor": "#E5ECF6",
                      "caxis": {
                        "gridcolor": "white",
                        "linecolor": "white",
                        "ticks": ""
                      }
                    },
                    "title": {
                      "x": 0.05
                    },
                    "xaxis": {
                      "automargin": true,
                      "gridcolor": "white",
                      "linecolor": "white",
                      "ticks": "",
                      "title": {
                        "standoff": 15
                      },
                      "zerolinecolor": "white",
                      "zerolinewidth": 2
                    },
                    "yaxis": {
                      "automargin": true,
                      "gridcolor": "white",
                      "linecolor": "white",
                      "ticks": "",
                      "title": {
                        "standoff": 15
                      },
                      "zerolinecolor": "white",
                      "zerolinewidth": 2
                    }
                  }
                },
                "title": {
                  "text": "Contour Plot"
                },
                "xaxis": {
                  "range": [
                    4.25,
                    20.75
                  ],
                  "title": {
                    "text": "max_depth"
                  }
                },
                "yaxis": {
                  "range": [
                    42.5,
                    207.5
                  ],
                  "title": {
                    "text": "n_estimators"
                  }
                }
              }
            }
          },
          "metadata": {},
          "output_type": "display_data"
        }
      ],
      "source": [
        "# 4. Contour Plot\n",
        "plot_contour(study).show()"
      ]
    },
    {
      "cell_type": "code",
      "execution_count": 22,
      "metadata": {
        "colab": {
          "base_uri": "https://localhost:8080/",
          "height": 542
        },
        "id": "Iw7pTZf_5JPp",
        "outputId": "1a7f10c4-4c7c-4148-f108-f3acb77d8844"
      },
      "outputs": [
        {
          "data": {
            "application/vnd.plotly.v1+json": {
              "config": {
                "plotlyServerURL": "https://plot.ly"
              },
              "data": [
                {
                  "cliponaxis": false,
                  "hovertemplate": [
                    "n_estimators (IntDistribution): 0.4780194051348249<extra></extra>",
                    "max_depth (IntDistribution): 0.5219805948651751<extra></extra>"
                  ],
                  "name": "Objective Value",
                  "orientation": "h",
                  "text": [
                    "0.48",
                    "0.52"
                  ],
                  "textposition": "outside",
                  "type": "bar",
                  "x": [
                    0.4780194051348249,
                    0.5219805948651751
                  ],
                  "y": [
                    "n_estimators",
                    "max_depth"
                  ]
                }
              ],
              "layout": {
                "template": {
                  "data": {
                    "bar": [
                      {
                        "error_x": {
                          "color": "#2a3f5f"
                        },
                        "error_y": {
                          "color": "#2a3f5f"
                        },
                        "marker": {
                          "line": {
                            "color": "#E5ECF6",
                            "width": 0.5
                          },
                          "pattern": {
                            "fillmode": "overlay",
                            "size": 10,
                            "solidity": 0.2
                          }
                        },
                        "type": "bar"
                      }
                    ],
                    "barpolar": [
                      {
                        "marker": {
                          "line": {
                            "color": "#E5ECF6",
                            "width": 0.5
                          },
                          "pattern": {
                            "fillmode": "overlay",
                            "size": 10,
                            "solidity": 0.2
                          }
                        },
                        "type": "barpolar"
                      }
                    ],
                    "carpet": [
                      {
                        "aaxis": {
                          "endlinecolor": "#2a3f5f",
                          "gridcolor": "white",
                          "linecolor": "white",
                          "minorgridcolor": "white",
                          "startlinecolor": "#2a3f5f"
                        },
                        "baxis": {
                          "endlinecolor": "#2a3f5f",
                          "gridcolor": "white",
                          "linecolor": "white",
                          "minorgridcolor": "white",
                          "startlinecolor": "#2a3f5f"
                        },
                        "type": "carpet"
                      }
                    ],
                    "choropleth": [
                      {
                        "colorbar": {
                          "outlinewidth": 0,
                          "ticks": ""
                        },
                        "type": "choropleth"
                      }
                    ],
                    "contour": [
                      {
                        "colorbar": {
                          "outlinewidth": 0,
                          "ticks": ""
                        },
                        "colorscale": [
                          [
                            0,
                            "#0d0887"
                          ],
                          [
                            0.1111111111111111,
                            "#46039f"
                          ],
                          [
                            0.2222222222222222,
                            "#7201a8"
                          ],
                          [
                            0.3333333333333333,
                            "#9c179e"
                          ],
                          [
                            0.4444444444444444,
                            "#bd3786"
                          ],
                          [
                            0.5555555555555556,
                            "#d8576b"
                          ],
                          [
                            0.6666666666666666,
                            "#ed7953"
                          ],
                          [
                            0.7777777777777778,
                            "#fb9f3a"
                          ],
                          [
                            0.8888888888888888,
                            "#fdca26"
                          ],
                          [
                            1,
                            "#f0f921"
                          ]
                        ],
                        "type": "contour"
                      }
                    ],
                    "contourcarpet": [
                      {
                        "colorbar": {
                          "outlinewidth": 0,
                          "ticks": ""
                        },
                        "type": "contourcarpet"
                      }
                    ],
                    "heatmap": [
                      {
                        "colorbar": {
                          "outlinewidth": 0,
                          "ticks": ""
                        },
                        "colorscale": [
                          [
                            0,
                            "#0d0887"
                          ],
                          [
                            0.1111111111111111,
                            "#46039f"
                          ],
                          [
                            0.2222222222222222,
                            "#7201a8"
                          ],
                          [
                            0.3333333333333333,
                            "#9c179e"
                          ],
                          [
                            0.4444444444444444,
                            "#bd3786"
                          ],
                          [
                            0.5555555555555556,
                            "#d8576b"
                          ],
                          [
                            0.6666666666666666,
                            "#ed7953"
                          ],
                          [
                            0.7777777777777778,
                            "#fb9f3a"
                          ],
                          [
                            0.8888888888888888,
                            "#fdca26"
                          ],
                          [
                            1,
                            "#f0f921"
                          ]
                        ],
                        "type": "heatmap"
                      }
                    ],
                    "histogram": [
                      {
                        "marker": {
                          "pattern": {
                            "fillmode": "overlay",
                            "size": 10,
                            "solidity": 0.2
                          }
                        },
                        "type": "histogram"
                      }
                    ],
                    "histogram2d": [
                      {
                        "colorbar": {
                          "outlinewidth": 0,
                          "ticks": ""
                        },
                        "colorscale": [
                          [
                            0,
                            "#0d0887"
                          ],
                          [
                            0.1111111111111111,
                            "#46039f"
                          ],
                          [
                            0.2222222222222222,
                            "#7201a8"
                          ],
                          [
                            0.3333333333333333,
                            "#9c179e"
                          ],
                          [
                            0.4444444444444444,
                            "#bd3786"
                          ],
                          [
                            0.5555555555555556,
                            "#d8576b"
                          ],
                          [
                            0.6666666666666666,
                            "#ed7953"
                          ],
                          [
                            0.7777777777777778,
                            "#fb9f3a"
                          ],
                          [
                            0.8888888888888888,
                            "#fdca26"
                          ],
                          [
                            1,
                            "#f0f921"
                          ]
                        ],
                        "type": "histogram2d"
                      }
                    ],
                    "histogram2dcontour": [
                      {
                        "colorbar": {
                          "outlinewidth": 0,
                          "ticks": ""
                        },
                        "colorscale": [
                          [
                            0,
                            "#0d0887"
                          ],
                          [
                            0.1111111111111111,
                            "#46039f"
                          ],
                          [
                            0.2222222222222222,
                            "#7201a8"
                          ],
                          [
                            0.3333333333333333,
                            "#9c179e"
                          ],
                          [
                            0.4444444444444444,
                            "#bd3786"
                          ],
                          [
                            0.5555555555555556,
                            "#d8576b"
                          ],
                          [
                            0.6666666666666666,
                            "#ed7953"
                          ],
                          [
                            0.7777777777777778,
                            "#fb9f3a"
                          ],
                          [
                            0.8888888888888888,
                            "#fdca26"
                          ],
                          [
                            1,
                            "#f0f921"
                          ]
                        ],
                        "type": "histogram2dcontour"
                      }
                    ],
                    "mesh3d": [
                      {
                        "colorbar": {
                          "outlinewidth": 0,
                          "ticks": ""
                        },
                        "type": "mesh3d"
                      }
                    ],
                    "parcoords": [
                      {
                        "line": {
                          "colorbar": {
                            "outlinewidth": 0,
                            "ticks": ""
                          }
                        },
                        "type": "parcoords"
                      }
                    ],
                    "pie": [
                      {
                        "automargin": true,
                        "type": "pie"
                      }
                    ],
                    "scatter": [
                      {
                        "fillpattern": {
                          "fillmode": "overlay",
                          "size": 10,
                          "solidity": 0.2
                        },
                        "type": "scatter"
                      }
                    ],
                    "scatter3d": [
                      {
                        "line": {
                          "colorbar": {
                            "outlinewidth": 0,
                            "ticks": ""
                          }
                        },
                        "marker": {
                          "colorbar": {
                            "outlinewidth": 0,
                            "ticks": ""
                          }
                        },
                        "type": "scatter3d"
                      }
                    ],
                    "scattercarpet": [
                      {
                        "marker": {
                          "colorbar": {
                            "outlinewidth": 0,
                            "ticks": ""
                          }
                        },
                        "type": "scattercarpet"
                      }
                    ],
                    "scattergeo": [
                      {
                        "marker": {
                          "colorbar": {
                            "outlinewidth": 0,
                            "ticks": ""
                          }
                        },
                        "type": "scattergeo"
                      }
                    ],
                    "scattergl": [
                      {
                        "marker": {
                          "colorbar": {
                            "outlinewidth": 0,
                            "ticks": ""
                          }
                        },
                        "type": "scattergl"
                      }
                    ],
                    "scattermap": [
                      {
                        "marker": {
                          "colorbar": {
                            "outlinewidth": 0,
                            "ticks": ""
                          }
                        },
                        "type": "scattermap"
                      }
                    ],
                    "scattermapbox": [
                      {
                        "marker": {
                          "colorbar": {
                            "outlinewidth": 0,
                            "ticks": ""
                          }
                        },
                        "type": "scattermapbox"
                      }
                    ],
                    "scatterpolar": [
                      {
                        "marker": {
                          "colorbar": {
                            "outlinewidth": 0,
                            "ticks": ""
                          }
                        },
                        "type": "scatterpolar"
                      }
                    ],
                    "scatterpolargl": [
                      {
                        "marker": {
                          "colorbar": {
                            "outlinewidth": 0,
                            "ticks": ""
                          }
                        },
                        "type": "scatterpolargl"
                      }
                    ],
                    "scatterternary": [
                      {
                        "marker": {
                          "colorbar": {
                            "outlinewidth": 0,
                            "ticks": ""
                          }
                        },
                        "type": "scatterternary"
                      }
                    ],
                    "surface": [
                      {
                        "colorbar": {
                          "outlinewidth": 0,
                          "ticks": ""
                        },
                        "colorscale": [
                          [
                            0,
                            "#0d0887"
                          ],
                          [
                            0.1111111111111111,
                            "#46039f"
                          ],
                          [
                            0.2222222222222222,
                            "#7201a8"
                          ],
                          [
                            0.3333333333333333,
                            "#9c179e"
                          ],
                          [
                            0.4444444444444444,
                            "#bd3786"
                          ],
                          [
                            0.5555555555555556,
                            "#d8576b"
                          ],
                          [
                            0.6666666666666666,
                            "#ed7953"
                          ],
                          [
                            0.7777777777777778,
                            "#fb9f3a"
                          ],
                          [
                            0.8888888888888888,
                            "#fdca26"
                          ],
                          [
                            1,
                            "#f0f921"
                          ]
                        ],
                        "type": "surface"
                      }
                    ],
                    "table": [
                      {
                        "cells": {
                          "fill": {
                            "color": "#EBF0F8"
                          },
                          "line": {
                            "color": "white"
                          }
                        },
                        "header": {
                          "fill": {
                            "color": "#C8D4E3"
                          },
                          "line": {
                            "color": "white"
                          }
                        },
                        "type": "table"
                      }
                    ]
                  },
                  "layout": {
                    "annotationdefaults": {
                      "arrowcolor": "#2a3f5f",
                      "arrowhead": 0,
                      "arrowwidth": 1
                    },
                    "autotypenumbers": "strict",
                    "coloraxis": {
                      "colorbar": {
                        "outlinewidth": 0,
                        "ticks": ""
                      }
                    },
                    "colorscale": {
                      "diverging": [
                        [
                          0,
                          "#8e0152"
                        ],
                        [
                          0.1,
                          "#c51b7d"
                        ],
                        [
                          0.2,
                          "#de77ae"
                        ],
                        [
                          0.3,
                          "#f1b6da"
                        ],
                        [
                          0.4,
                          "#fde0ef"
                        ],
                        [
                          0.5,
                          "#f7f7f7"
                        ],
                        [
                          0.6,
                          "#e6f5d0"
                        ],
                        [
                          0.7,
                          "#b8e186"
                        ],
                        [
                          0.8,
                          "#7fbc41"
                        ],
                        [
                          0.9,
                          "#4d9221"
                        ],
                        [
                          1,
                          "#276419"
                        ]
                      ],
                      "sequential": [
                        [
                          0,
                          "#0d0887"
                        ],
                        [
                          0.1111111111111111,
                          "#46039f"
                        ],
                        [
                          0.2222222222222222,
                          "#7201a8"
                        ],
                        [
                          0.3333333333333333,
                          "#9c179e"
                        ],
                        [
                          0.4444444444444444,
                          "#bd3786"
                        ],
                        [
                          0.5555555555555556,
                          "#d8576b"
                        ],
                        [
                          0.6666666666666666,
                          "#ed7953"
                        ],
                        [
                          0.7777777777777778,
                          "#fb9f3a"
                        ],
                        [
                          0.8888888888888888,
                          "#fdca26"
                        ],
                        [
                          1,
                          "#f0f921"
                        ]
                      ],
                      "sequentialminus": [
                        [
                          0,
                          "#0d0887"
                        ],
                        [
                          0.1111111111111111,
                          "#46039f"
                        ],
                        [
                          0.2222222222222222,
                          "#7201a8"
                        ],
                        [
                          0.3333333333333333,
                          "#9c179e"
                        ],
                        [
                          0.4444444444444444,
                          "#bd3786"
                        ],
                        [
                          0.5555555555555556,
                          "#d8576b"
                        ],
                        [
                          0.6666666666666666,
                          "#ed7953"
                        ],
                        [
                          0.7777777777777778,
                          "#fb9f3a"
                        ],
                        [
                          0.8888888888888888,
                          "#fdca26"
                        ],
                        [
                          1,
                          "#f0f921"
                        ]
                      ]
                    },
                    "colorway": [
                      "#636efa",
                      "#EF553B",
                      "#00cc96",
                      "#ab63fa",
                      "#FFA15A",
                      "#19d3f3",
                      "#FF6692",
                      "#B6E880",
                      "#FF97FF",
                      "#FECB52"
                    ],
                    "font": {
                      "color": "#2a3f5f"
                    },
                    "geo": {
                      "bgcolor": "white",
                      "lakecolor": "white",
                      "landcolor": "#E5ECF6",
                      "showlakes": true,
                      "showland": true,
                      "subunitcolor": "white"
                    },
                    "hoverlabel": {
                      "align": "left"
                    },
                    "hovermode": "closest",
                    "mapbox": {
                      "style": "light"
                    },
                    "paper_bgcolor": "white",
                    "plot_bgcolor": "#E5ECF6",
                    "polar": {
                      "angularaxis": {
                        "gridcolor": "white",
                        "linecolor": "white",
                        "ticks": ""
                      },
                      "bgcolor": "#E5ECF6",
                      "radialaxis": {
                        "gridcolor": "white",
                        "linecolor": "white",
                        "ticks": ""
                      }
                    },
                    "scene": {
                      "xaxis": {
                        "backgroundcolor": "#E5ECF6",
                        "gridcolor": "white",
                        "gridwidth": 2,
                        "linecolor": "white",
                        "showbackground": true,
                        "ticks": "",
                        "zerolinecolor": "white"
                      },
                      "yaxis": {
                        "backgroundcolor": "#E5ECF6",
                        "gridcolor": "white",
                        "gridwidth": 2,
                        "linecolor": "white",
                        "showbackground": true,
                        "ticks": "",
                        "zerolinecolor": "white"
                      },
                      "zaxis": {
                        "backgroundcolor": "#E5ECF6",
                        "gridcolor": "white",
                        "gridwidth": 2,
                        "linecolor": "white",
                        "showbackground": true,
                        "ticks": "",
                        "zerolinecolor": "white"
                      }
                    },
                    "shapedefaults": {
                      "line": {
                        "color": "#2a3f5f"
                      }
                    },
                    "ternary": {
                      "aaxis": {
                        "gridcolor": "white",
                        "linecolor": "white",
                        "ticks": ""
                      },
                      "baxis": {
                        "gridcolor": "white",
                        "linecolor": "white",
                        "ticks": ""
                      },
                      "bgcolor": "#E5ECF6",
                      "caxis": {
                        "gridcolor": "white",
                        "linecolor": "white",
                        "ticks": ""
                      }
                    },
                    "title": {
                      "x": 0.05
                    },
                    "xaxis": {
                      "automargin": true,
                      "gridcolor": "white",
                      "linecolor": "white",
                      "ticks": "",
                      "title": {
                        "standoff": 15
                      },
                      "zerolinecolor": "white",
                      "zerolinewidth": 2
                    },
                    "yaxis": {
                      "automargin": true,
                      "gridcolor": "white",
                      "linecolor": "white",
                      "ticks": "",
                      "title": {
                        "standoff": 15
                      },
                      "zerolinecolor": "white",
                      "zerolinewidth": 2
                    }
                  }
                },
                "title": {
                  "text": "Hyperparameter Importances"
                },
                "xaxis": {
                  "title": {
                    "text": "Hyperparameter Importance"
                  }
                },
                "yaxis": {
                  "title": {
                    "text": "Hyperparameter"
                  }
                }
              }
            }
          },
          "metadata": {},
          "output_type": "display_data"
        }
      ],
      "source": [
        "# 5. Hyperparameter Importance\n",
        "plot_param_importances(study).show()"
      ]
    },
    {
      "cell_type": "markdown",
      "metadata": {
        "id": "m-zjVci7BYvh"
      },
      "source": [
        "## Optimizing Multiple ML Models"
      ]
    },
    {
      "cell_type": "code",
      "execution_count": 23,
      "metadata": {
        "id": "HJ81Ws4uBrD3"
      },
      "outputs": [],
      "source": [
        "# Importing the required libraries\n",
        "from sklearn.ensemble import RandomForestClassifier, GradientBoostingClassifier\n",
        "from sklearn.svm import SVC"
      ]
    },
    {
      "cell_type": "code",
      "execution_count": 24,
      "metadata": {
        "id": "bbHIIH8s5O8Z"
      },
      "outputs": [],
      "source": [
        "# Define the objective function for Optuna\n",
        "def objective(trial):\n",
        "    # Choose the algorithm to tune\n",
        "    classifier_name = trial.suggest_categorical('classifier', ['SVM', 'RandomForest', 'GradientBoosting'])\n",
        "\n",
        "    if classifier_name == 'SVM':\n",
        "        # SVM hyperparameters\n",
        "        c = trial.suggest_float('C', 0.1, 100, log=True)\n",
        "        kernel = trial.suggest_categorical('kernel', ['linear', 'rbf', 'poly', 'sigmoid'])\n",
        "        gamma = trial.suggest_categorical('gamma', ['scale', 'auto'])\n",
        "\n",
        "        model = SVC(C=c, kernel=kernel, gamma=gamma, random_state=42)\n",
        "\n",
        "    elif classifier_name == 'RandomForest':\n",
        "        # Random Forest hyperparameters\n",
        "        n_estimators = trial.suggest_int('n_estimators', 50, 300)\n",
        "        max_depth = trial.suggest_int('max_depth', 3, 20)\n",
        "        min_samples_split = trial.suggest_int('min_samples_split', 2, 10)\n",
        "        min_samples_leaf = trial.suggest_int('min_samples_leaf', 1, 10)\n",
        "        bootstrap = trial.suggest_categorical('bootstrap', [True, False])\n",
        "\n",
        "        model = RandomForestClassifier(\n",
        "            n_estimators=n_estimators,\n",
        "            max_depth=max_depth,\n",
        "            min_samples_split=min_samples_split,\n",
        "            min_samples_leaf=min_samples_leaf,\n",
        "            bootstrap=bootstrap,\n",
        "            random_state=42\n",
        "        )\n",
        "\n",
        "    elif classifier_name == 'GradientBoosting':\n",
        "        # Gradient Boosting hyperparameters\n",
        "        n_estimators = trial.suggest_int('n_estimators', 50, 300)\n",
        "        learning_rate = trial.suggest_float('learning_rate', 0.01, 0.3, log=True)\n",
        "        max_depth = trial.suggest_int('max_depth', 3, 20)\n",
        "        min_samples_split = trial.suggest_int('min_samples_split', 2, 10)\n",
        "        min_samples_leaf = trial.suggest_int('min_samples_leaf', 1, 10)\n",
        "\n",
        "        model = GradientBoostingClassifier(\n",
        "            n_estimators=n_estimators,\n",
        "            learning_rate=learning_rate,\n",
        "            max_depth=max_depth,\n",
        "            min_samples_split=min_samples_split,\n",
        "            min_samples_leaf=min_samples_leaf,\n",
        "            random_state=42\n",
        "        )\n",
        "\n",
        "    # Perform cross-validation and return the mean accuracy\n",
        "    score = cross_val_score(model, X_train, y_train, cv=3, scoring='accuracy').mean()\n",
        "    return score"
      ]
    },
    {
      "cell_type": "code",
      "execution_count": 25,
      "metadata": {
        "colab": {
          "base_uri": "https://localhost:8080/"
        },
        "id": "lP_GVCWxBf60",
        "outputId": "8d93f5e2-d8b9-44a0-fcf6-61dd2e3de7b6"
      },
      "outputs": [
        {
          "name": "stderr",
          "output_type": "stream",
          "text": [
            "[I 2025-09-15 21:53:53,886] A new study created in memory with name: no-name-51ff3e93-12e5-41f3-9ae7-5d4b2f39ca1b\n",
            "[I 2025-09-15 21:53:54,900] Trial 0 finished with value: 0.7616387337057727 and parameters: {'classifier': 'GradientBoosting', 'n_estimators': 162, 'learning_rate': 0.024099349174660747, 'max_depth': 14, 'min_samples_split': 9, 'min_samples_leaf': 6}. Best is trial 0 with value: 0.7616387337057727.\n",
            "[I 2025-09-15 21:53:55,459] Trial 1 finished with value: 0.7523277467411545 and parameters: {'classifier': 'RandomForest', 'n_estimators': 275, 'max_depth': 10, 'min_samples_split': 9, 'min_samples_leaf': 9, 'bootstrap': True}. Best is trial 0 with value: 0.7616387337057727.\n",
            "[I 2025-09-15 21:53:55,818] Trial 2 finished with value: 0.7579143389199254 and parameters: {'classifier': 'RandomForest', 'n_estimators': 175, 'max_depth': 17, 'min_samples_split': 7, 'min_samples_leaf': 6, 'bootstrap': True}. Best is trial 0 with value: 0.7616387337057727.\n",
            "[I 2025-09-15 21:53:56,875] Trial 3 finished with value: 0.7486033519553073 and parameters: {'classifier': 'GradientBoosting', 'n_estimators': 171, 'learning_rate': 0.01123388248730682, 'max_depth': 11, 'min_samples_split': 6, 'min_samples_leaf': 5}. Best is trial 0 with value: 0.7616387337057727.\n",
            "[I 2025-09-15 21:53:57,130] Trial 4 finished with value: 0.7709497206703911 and parameters: {'classifier': 'RandomForest', 'n_estimators': 118, 'max_depth': 20, 'min_samples_split': 2, 'min_samples_leaf': 5, 'bootstrap': True}. Best is trial 4 with value: 0.7709497206703911.\n",
            "[I 2025-09-15 21:53:58,038] Trial 5 finished with value: 0.7355679702048418 and parameters: {'classifier': 'GradientBoosting', 'n_estimators': 142, 'learning_rate': 0.12663682831192488, 'max_depth': 17, 'min_samples_split': 2, 'min_samples_leaf': 6}. Best is trial 4 with value: 0.7709497206703911.\n",
            "[I 2025-09-15 21:53:58,373] Trial 6 finished with value: 0.7728119180633147 and parameters: {'classifier': 'RandomForest', 'n_estimators': 175, 'max_depth': 9, 'min_samples_split': 4, 'min_samples_leaf': 4, 'bootstrap': False}. Best is trial 6 with value: 0.7728119180633147.\n",
            "[I 2025-09-15 21:53:58,408] Trial 7 finished with value: 0.7392923649906891 and parameters: {'classifier': 'SVM', 'C': 2.125650321538193, 'kernel': 'poly', 'gamma': 'scale'}. Best is trial 6 with value: 0.7728119180633147.\n",
            "[I 2025-09-15 21:53:58,547] Trial 8 finished with value: 0.7690875232774674 and parameters: {'classifier': 'RandomForest', 'n_estimators': 65, 'max_depth': 6, 'min_samples_split': 8, 'min_samples_leaf': 3, 'bootstrap': True}. Best is trial 6 with value: 0.7728119180633147.\n",
            "[I 2025-09-15 21:53:58,562] Trial 9 finished with value: 0.7728119180633147 and parameters: {'classifier': 'SVM', 'C': 3.4334655064967197, 'kernel': 'rbf', 'gamma': 'scale'}. Best is trial 6 with value: 0.7728119180633147.\n",
            "[I 2025-09-15 21:53:59,001] Trial 10 finished with value: 0.7486033519553073 and parameters: {'classifier': 'RandomForest', 'n_estimators': 253, 'max_depth': 3, 'min_samples_split': 5, 'min_samples_leaf': 1, 'bootstrap': False}. Best is trial 6 with value: 0.7728119180633147.\n",
            "[I 2025-09-15 21:53:59,026] Trial 11 finished with value: 0.7132216014897579 and parameters: {'classifier': 'SVM', 'C': 64.5482849083694, 'kernel': 'rbf', 'gamma': 'scale'}. Best is trial 6 with value: 0.7728119180633147.\n",
            "[I 2025-09-15 21:53:59,038] Trial 12 finished with value: 0.7895716945996275 and parameters: {'classifier': 'SVM', 'C': 0.11588247837023241, 'kernel': 'linear', 'gamma': 'auto'}. Best is trial 12 with value: 0.7895716945996275.\n",
            "[I 2025-09-15 21:53:59,052] Trial 13 finished with value: 0.7877094972067038 and parameters: {'classifier': 'SVM', 'C': 0.10347653753837074, 'kernel': 'linear', 'gamma': 'auto'}. Best is trial 12 with value: 0.7895716945996275.\n",
            "[I 2025-09-15 21:53:59,063] Trial 14 finished with value: 0.7895716945996275 and parameters: {'classifier': 'SVM', 'C': 0.12245349771204457, 'kernel': 'linear', 'gamma': 'auto'}. Best is trial 12 with value: 0.7895716945996275.\n",
            "[I 2025-09-15 21:53:59,073] Trial 15 finished with value: 0.7877094972067038 and parameters: {'classifier': 'SVM', 'C': 0.15751307090520536, 'kernel': 'linear', 'gamma': 'auto'}. Best is trial 12 with value: 0.7895716945996275.\n",
            "[I 2025-09-15 21:53:59,085] Trial 16 finished with value: 0.7839851024208566 and parameters: {'classifier': 'SVM', 'C': 0.525402773895775, 'kernel': 'linear', 'gamma': 'auto'}. Best is trial 12 with value: 0.7895716945996275.\n",
            "[I 2025-09-15 21:53:59,098] Trial 17 finished with value: 0.7467411545623835 and parameters: {'classifier': 'SVM', 'C': 0.5507653833247081, 'kernel': 'sigmoid', 'gamma': 'auto'}. Best is trial 12 with value: 0.7895716945996275.\n",
            "[I 2025-09-15 21:53:59,109] Trial 18 finished with value: 0.7839851024208566 and parameters: {'classifier': 'SVM', 'C': 0.3537430893987819, 'kernel': 'linear', 'gamma': 'auto'}. Best is trial 12 with value: 0.7895716945996275.\n",
            "[I 2025-09-15 21:53:59,126] Trial 19 finished with value: 0.7858472998137801 and parameters: {'classifier': 'SVM', 'C': 2.3163802822667185, 'kernel': 'linear', 'gamma': 'auto'}. Best is trial 12 with value: 0.7895716945996275.\n",
            "[I 2025-09-15 21:53:59,143] Trial 20 finished with value: 0.7094972067039106 and parameters: {'classifier': 'SVM', 'C': 11.294176437476866, 'kernel': 'poly', 'gamma': 'auto'}. Best is trial 12 with value: 0.7895716945996275.\n",
            "[I 2025-09-15 21:53:59,154] Trial 21 finished with value: 0.7895716945996275 and parameters: {'classifier': 'SVM', 'C': 0.14435698213901033, 'kernel': 'linear', 'gamma': 'auto'}. Best is trial 12 with value: 0.7895716945996275.\n",
            "[I 2025-09-15 21:53:59,166] Trial 22 finished with value: 0.7877094972067038 and parameters: {'classifier': 'SVM', 'C': 0.10114210113097374, 'kernel': 'linear', 'gamma': 'auto'}. Best is trial 12 with value: 0.7895716945996275.\n",
            "[I 2025-09-15 21:53:59,181] Trial 23 finished with value: 0.7858472998137803 and parameters: {'classifier': 'SVM', 'C': 0.2741618984794277, 'kernel': 'linear', 'gamma': 'auto'}. Best is trial 12 with value: 0.7895716945996275.\n",
            "[I 2025-09-15 21:53:59,202] Trial 24 finished with value: 0.7541899441340782 and parameters: {'classifier': 'SVM', 'C': 0.9013902106479786, 'kernel': 'sigmoid', 'gamma': 'auto'}. Best is trial 12 with value: 0.7895716945996275.\n",
            "[I 2025-09-15 21:53:59,864] Trial 25 finished with value: 0.7299813780260708 and parameters: {'classifier': 'GradientBoosting', 'n_estimators': 237, 'learning_rate': 0.29941412157694536, 'max_depth': 4, 'min_samples_split': 10, 'min_samples_leaf': 10}. Best is trial 12 with value: 0.7895716945996275.\n",
            "[I 2025-09-15 21:53:59,875] Trial 26 finished with value: 0.7858472998137803 and parameters: {'classifier': 'SVM', 'C': 0.20733838179209227, 'kernel': 'linear', 'gamma': 'auto'}. Best is trial 12 with value: 0.7895716945996275.\n",
            "[I 2025-09-15 21:53:59,889] Trial 27 finished with value: 0.7858472998137803 and parameters: {'classifier': 'SVM', 'C': 0.8505610428564847, 'kernel': 'linear', 'gamma': 'auto'}. Best is trial 12 with value: 0.7895716945996275.\n",
            "[I 2025-09-15 21:53:59,900] Trial 28 finished with value: 0.7858472998137803 and parameters: {'classifier': 'SVM', 'C': 0.1922162838505872, 'kernel': 'linear', 'gamma': 'scale'}. Best is trial 12 with value: 0.7895716945996275.\n",
            "[I 2025-09-15 21:54:00,133] Trial 29 finished with value: 0.7672253258845437 and parameters: {'classifier': 'GradientBoosting', 'n_estimators': 50, 'learning_rate': 0.07453296480536425, 'max_depth': 7, 'min_samples_split': 4, 'min_samples_leaf': 8}. Best is trial 12 with value: 0.7895716945996275.\n",
            "[I 2025-09-15 21:54:00,148] Trial 30 finished with value: 0.7094972067039107 and parameters: {'classifier': 'SVM', 'C': 0.10238298909803094, 'kernel': 'rbf', 'gamma': 'auto'}. Best is trial 12 with value: 0.7895716945996275.\n",
            "[I 2025-09-15 21:54:00,161] Trial 31 finished with value: 0.7877094972067038 and parameters: {'classifier': 'SVM', 'C': 0.10921887586608643, 'kernel': 'linear', 'gamma': 'auto'}. Best is trial 12 with value: 0.7895716945996275.\n",
            "[I 2025-09-15 21:54:00,172] Trial 32 finished with value: 0.7858472998137803 and parameters: {'classifier': 'SVM', 'C': 0.2697244698917454, 'kernel': 'linear', 'gamma': 'auto'}. Best is trial 12 with value: 0.7895716945996275.\n",
            "[I 2025-09-15 21:54:00,184] Trial 33 finished with value: 0.7877094972067038 and parameters: {'classifier': 'SVM', 'C': 0.17623109433150355, 'kernel': 'linear', 'gamma': 'auto'}. Best is trial 12 with value: 0.7895716945996275.\n",
            "[I 2025-09-15 21:54:01,892] Trial 34 finished with value: 0.6983240223463687 and parameters: {'classifier': 'GradientBoosting', 'n_estimators': 222, 'learning_rate': 0.03009265776092813, 'max_depth': 14, 'min_samples_split': 3, 'min_samples_leaf': 1}. Best is trial 12 with value: 0.7895716945996275.\n",
            "[I 2025-09-15 21:54:01,904] Trial 35 finished with value: 0.7821229050279329 and parameters: {'classifier': 'SVM', 'C': 0.3871333088213355, 'kernel': 'linear', 'gamma': 'auto'}. Best is trial 12 with value: 0.7895716945996275.\n",
            "[I 2025-09-15 21:54:01,916] Trial 36 finished with value: 0.7132216014897579 and parameters: {'classifier': 'SVM', 'C': 0.14802467103907327, 'kernel': 'poly', 'gamma': 'auto'}. Best is trial 12 with value: 0.7895716945996275.\n",
            "[I 2025-09-15 21:54:02,332] Trial 37 finished with value: 0.7746741154562384 and parameters: {'classifier': 'RandomForest', 'n_estimators': 213, 'max_depth': 14, 'min_samples_split': 6, 'min_samples_leaf': 8, 'bootstrap': False}. Best is trial 12 with value: 0.7895716945996275.\n",
            "[I 2025-09-15 21:54:03,296] Trial 38 finished with value: 0.7374301675977654 and parameters: {'classifier': 'GradientBoosting', 'n_estimators': 297, 'learning_rate': 0.2664630893891949, 'max_depth': 20, 'min_samples_split': 10, 'min_samples_leaf': 3}. Best is trial 12 with value: 0.7895716945996275.\n",
            "[I 2025-09-15 21:54:03,311] Trial 39 finished with value: 0.7653631284916201 and parameters: {'classifier': 'SVM', 'C': 0.10024145986500413, 'kernel': 'sigmoid', 'gamma': 'auto'}. Best is trial 12 with value: 0.7895716945996275.\n",
            "[I 2025-09-15 21:54:03,476] Trial 40 finished with value: 0.7783985102420857 and parameters: {'classifier': 'RandomForest', 'n_estimators': 91, 'max_depth': 6, 'min_samples_split': 7, 'min_samples_leaf': 8, 'bootstrap': False}. Best is trial 12 with value: 0.7895716945996275.\n",
            "[I 2025-09-15 21:54:03,488] Trial 41 finished with value: 0.7877094972067038 and parameters: {'classifier': 'SVM', 'C': 0.18000619827059341, 'kernel': 'linear', 'gamma': 'auto'}. Best is trial 12 with value: 0.7895716945996275.\n",
            "[I 2025-09-15 21:54:03,499] Trial 42 finished with value: 0.7858472998137803 and parameters: {'classifier': 'SVM', 'C': 0.20560039630283752, 'kernel': 'linear', 'gamma': 'auto'}. Best is trial 12 with value: 0.7895716945996275.\n",
            "[I 2025-09-15 21:54:03,511] Trial 43 finished with value: 0.7895716945996275 and parameters: {'classifier': 'SVM', 'C': 0.1536434066751331, 'kernel': 'linear', 'gamma': 'auto'}. Best is trial 12 with value: 0.7895716945996275.\n",
            "[I 2025-09-15 21:54:03,522] Trial 44 finished with value: 0.7839851024208566 and parameters: {'classifier': 'SVM', 'C': 0.33789030149162547, 'kernel': 'linear', 'gamma': 'auto'}. Best is trial 12 with value: 0.7895716945996275.\n",
            "[I 2025-09-15 21:54:03,553] Trial 45 finished with value: 0.7858472998137801 and parameters: {'classifier': 'SVM', 'C': 9.584454634297296, 'kernel': 'linear', 'gamma': 'auto'}. Best is trial 12 with value: 0.7895716945996275.\n",
            "[I 2025-09-15 21:54:03,794] Trial 46 finished with value: 0.7597765363128491 and parameters: {'classifier': 'RandomForest', 'n_estimators': 104, 'max_depth': 17, 'min_samples_split': 4, 'min_samples_leaf': 2, 'bootstrap': True}. Best is trial 12 with value: 0.7895716945996275.\n",
            "[I 2025-09-15 21:54:03,805] Trial 47 finished with value: 0.7113594040968342 and parameters: {'classifier': 'SVM', 'C': 0.12952976323784557, 'kernel': 'poly', 'gamma': 'scale'}. Best is trial 12 with value: 0.7895716945996275.\n",
            "[I 2025-09-15 21:54:03,819] Trial 48 finished with value: 0.7858472998137803 and parameters: {'classifier': 'SVM', 'C': 0.6784290381586808, 'kernel': 'linear', 'gamma': 'auto'}. Best is trial 12 with value: 0.7895716945996275.\n",
            "[I 2025-09-15 21:54:03,833] Trial 49 finished with value: 0.7839851024208566 and parameters: {'classifier': 'SVM', 'C': 1.1980847139514548, 'kernel': 'linear', 'gamma': 'scale'}. Best is trial 12 with value: 0.7895716945996275.\n",
            "[I 2025-09-15 21:54:04,372] Trial 50 finished with value: 0.7765363128491621 and parameters: {'classifier': 'GradientBoosting', 'n_estimators': 127, 'learning_rate': 0.012076661520722953, 'max_depth': 8, 'min_samples_split': 8, 'min_samples_leaf': 10}. Best is trial 12 with value: 0.7895716945996275.\n",
            "[I 2025-09-15 21:54:04,384] Trial 51 finished with value: 0.7895716945996275 and parameters: {'classifier': 'SVM', 'C': 0.1487104771079139, 'kernel': 'linear', 'gamma': 'auto'}. Best is trial 12 with value: 0.7895716945996275.\n",
            "[I 2025-09-15 21:54:04,401] Trial 52 finished with value: 0.7579143389199255 and parameters: {'classifier': 'SVM', 'C': 0.2519404657987999, 'kernel': 'rbf', 'gamma': 'auto'}. Best is trial 12 with value: 0.7895716945996275.\n",
            "[I 2025-09-15 21:54:04,415] Trial 53 finished with value: 0.7877094972067038 and parameters: {'classifier': 'SVM', 'C': 0.1575837251721773, 'kernel': 'linear', 'gamma': 'auto'}. Best is trial 12 with value: 0.7895716945996275.\n",
            "[I 2025-09-15 21:54:04,442] Trial 54 finished with value: 0.7858472998137801 and parameters: {'classifier': 'SVM', 'C': 4.61846170004984, 'kernel': 'linear', 'gamma': 'scale'}. Best is trial 12 with value: 0.7895716945996275.\n",
            "[I 2025-09-15 21:54:04,457] Trial 55 finished with value: 0.7839851024208566 and parameters: {'classifier': 'SVM', 'C': 0.4447941445364471, 'kernel': 'linear', 'gamma': 'auto'}. Best is trial 12 with value: 0.7895716945996275.\n",
            "[I 2025-09-15 21:54:04,474] Trial 56 finished with value: 0.7523277467411545 and parameters: {'classifier': 'SVM', 'C': 0.13657384592547075, 'kernel': 'rbf', 'gamma': 'auto'}. Best is trial 12 with value: 0.7895716945996275.\n",
            "[I 2025-09-15 21:54:04,488] Trial 57 finished with value: 0.7858472998137803 and parameters: {'classifier': 'SVM', 'C': 0.25527826410518634, 'kernel': 'linear', 'gamma': 'auto'}. Best is trial 12 with value: 0.7895716945996275.\n",
            "[I 2025-09-15 21:54:04,863] Trial 58 finished with value: 0.7709497206703911 and parameters: {'classifier': 'RandomForest', 'n_estimators': 198, 'max_depth': 12, 'min_samples_split': 5, 'min_samples_leaf': 7, 'bootstrap': False}. Best is trial 12 with value: 0.7895716945996275.\n",
            "[I 2025-09-15 21:54:04,874] Trial 59 finished with value: 0.7001862197392924 and parameters: {'classifier': 'SVM', 'C': 48.56704148594224, 'kernel': 'sigmoid', 'gamma': 'auto'}. Best is trial 12 with value: 0.7895716945996275.\n",
            "[I 2025-09-15 21:54:04,886] Trial 60 finished with value: 0.7895716945996275 and parameters: {'classifier': 'SVM', 'C': 0.14621417711368076, 'kernel': 'linear', 'gamma': 'auto'}. Best is trial 12 with value: 0.7895716945996275.\n",
            "[I 2025-09-15 21:54:04,897] Trial 61 finished with value: 0.7895716945996275 and parameters: {'classifier': 'SVM', 'C': 0.13950137374964272, 'kernel': 'linear', 'gamma': 'auto'}. Best is trial 12 with value: 0.7895716945996275.\n",
            "[I 2025-09-15 21:54:04,910] Trial 62 finished with value: 0.7895716945996275 and parameters: {'classifier': 'SVM', 'C': 0.14262039799827342, 'kernel': 'linear', 'gamma': 'auto'}. Best is trial 12 with value: 0.7895716945996275.\n",
            "[I 2025-09-15 21:54:04,922] Trial 63 finished with value: 0.7858472998137803 and parameters: {'classifier': 'SVM', 'C': 0.30179920758760587, 'kernel': 'linear', 'gamma': 'auto'}. Best is trial 12 with value: 0.7895716945996275.\n",
            "[I 2025-09-15 21:54:04,934] Trial 64 finished with value: 0.7858472998137803 and parameters: {'classifier': 'SVM', 'C': 0.20394858039067076, 'kernel': 'linear', 'gamma': 'auto'}. Best is trial 12 with value: 0.7895716945996275.\n",
            "[I 2025-09-15 21:54:04,945] Trial 65 finished with value: 0.7895716945996275 and parameters: {'classifier': 'SVM', 'C': 0.13314850009097573, 'kernel': 'linear', 'gamma': 'auto'}. Best is trial 12 with value: 0.7895716945996275.\n",
            "[I 2025-09-15 21:54:04,957] Trial 66 finished with value: 0.7430167597765364 and parameters: {'classifier': 'SVM', 'C': 0.4925402774338036, 'kernel': 'poly', 'gamma': 'auto'}. Best is trial 12 with value: 0.7895716945996275.\n",
            "[I 2025-09-15 21:54:04,970] Trial 67 finished with value: 0.7858472998137803 and parameters: {'classifier': 'SVM', 'C': 0.22488935033846943, 'kernel': 'linear', 'gamma': 'auto'}. Best is trial 12 with value: 0.7895716945996275.\n",
            "[I 2025-09-15 21:54:04,982] Trial 68 finished with value: 0.7895716945996275 and parameters: {'classifier': 'SVM', 'C': 0.14089189897080762, 'kernel': 'linear', 'gamma': 'scale'}. Best is trial 12 with value: 0.7895716945996275.\n",
            "[I 2025-09-15 21:54:06,011] Trial 69 finished with value: 0.7523277467411545 and parameters: {'classifier': 'GradientBoosting', 'n_estimators': 298, 'learning_rate': 0.10660266463782943, 'max_depth': 5, 'min_samples_split': 3, 'min_samples_leaf': 4}. Best is trial 12 with value: 0.7895716945996275.\n",
            "[I 2025-09-15 21:54:06,023] Trial 70 finished with value: 0.7821229050279329 and parameters: {'classifier': 'SVM', 'C': 0.36924921952288203, 'kernel': 'linear', 'gamma': 'auto'}. Best is trial 12 with value: 0.7895716945996275.\n",
            "[I 2025-09-15 21:54:06,034] Trial 71 finished with value: 0.7895716945996275 and parameters: {'classifier': 'SVM', 'C': 0.12612533536586776, 'kernel': 'linear', 'gamma': 'auto'}. Best is trial 12 with value: 0.7895716945996275.\n",
            "[I 2025-09-15 21:54:06,047] Trial 72 finished with value: 0.7877094972067038 and parameters: {'classifier': 'SVM', 'C': 0.1620453826669994, 'kernel': 'linear', 'gamma': 'auto'}. Best is trial 12 with value: 0.7895716945996275.\n",
            "[I 2025-09-15 21:54:06,058] Trial 73 finished with value: 0.7895716945996275 and parameters: {'classifier': 'SVM', 'C': 0.11419142610491106, 'kernel': 'linear', 'gamma': 'auto'}. Best is trial 12 with value: 0.7895716945996275.\n",
            "[I 2025-09-15 21:54:06,069] Trial 74 finished with value: 0.7877094972067038 and parameters: {'classifier': 'SVM', 'C': 0.1784730831747641, 'kernel': 'linear', 'gamma': 'auto'}. Best is trial 12 with value: 0.7895716945996275.\n",
            "[I 2025-09-15 21:54:06,083] Trial 75 finished with value: 0.7672253258845437 and parameters: {'classifier': 'SVM', 'C': 0.24249192387574453, 'kernel': 'sigmoid', 'gamma': 'auto'}. Best is trial 12 with value: 0.7895716945996275.\n",
            "[I 2025-09-15 21:54:06,094] Trial 76 finished with value: 0.7877094972067038 and parameters: {'classifier': 'SVM', 'C': 0.10120627711998403, 'kernel': 'linear', 'gamma': 'auto'}. Best is trial 12 with value: 0.7895716945996275.\n",
            "[I 2025-09-15 21:54:06,635] Trial 77 finished with value: 0.7690875232774674 and parameters: {'classifier': 'RandomForest', 'n_estimators': 258, 'max_depth': 12, 'min_samples_split': 7, 'min_samples_leaf': 2, 'bootstrap': False}. Best is trial 12 with value: 0.7895716945996275.\n",
            "[I 2025-09-15 21:54:06,663] Trial 78 finished with value: 0.7541899441340782 and parameters: {'classifier': 'SVM', 'C': 0.15780951496421303, 'kernel': 'rbf', 'gamma': 'auto'}. Best is trial 12 with value: 0.7895716945996275.\n",
            "[I 2025-09-15 21:54:06,681] Trial 79 finished with value: 0.7858472998137803 and parameters: {'classifier': 'SVM', 'C': 0.3044916167875421, 'kernel': 'linear', 'gamma': 'auto'}. Best is trial 12 with value: 0.7895716945996275.\n",
            "[I 2025-09-15 21:54:06,695] Trial 80 finished with value: 0.7858472998137803 and parameters: {'classifier': 'SVM', 'C': 0.19428396935264314, 'kernel': 'linear', 'gamma': 'auto'}. Best is trial 12 with value: 0.7895716945996275.\n",
            "[I 2025-09-15 21:54:06,710] Trial 81 finished with value: 0.7895716945996275 and parameters: {'classifier': 'SVM', 'C': 0.12518727368868104, 'kernel': 'linear', 'gamma': 'auto'}. Best is trial 12 with value: 0.7895716945996275.\n",
            "[I 2025-09-15 21:54:06,723] Trial 82 finished with value: 0.7895716945996275 and parameters: {'classifier': 'SVM', 'C': 0.13174625945490706, 'kernel': 'linear', 'gamma': 'auto'}. Best is trial 12 with value: 0.7895716945996275.\n",
            "[I 2025-09-15 21:54:06,737] Trial 83 finished with value: 0.7877094972067038 and parameters: {'classifier': 'SVM', 'C': 0.1009563483097363, 'kernel': 'linear', 'gamma': 'auto'}. Best is trial 12 with value: 0.7895716945996275.\n",
            "[I 2025-09-15 21:54:06,749] Trial 84 finished with value: 0.7877094972067038 and parameters: {'classifier': 'SVM', 'C': 0.1576056951010624, 'kernel': 'linear', 'gamma': 'auto'}. Best is trial 12 with value: 0.7895716945996275.\n",
            "[I 2025-09-15 21:54:07,205] Trial 85 finished with value: 0.7635009310986964 and parameters: {'classifier': 'GradientBoosting', 'n_estimators': 81, 'learning_rate': 0.03247960176879983, 'max_depth': 18, 'min_samples_split': 5, 'min_samples_leaf': 7}. Best is trial 12 with value: 0.7895716945996275.\n",
            "[I 2025-09-15 21:54:07,217] Trial 86 finished with value: 0.7858472998137803 and parameters: {'classifier': 'SVM', 'C': 0.2080354345494135, 'kernel': 'linear', 'gamma': 'auto'}. Best is trial 12 with value: 0.7895716945996275.\n",
            "[I 2025-09-15 21:54:07,290] Trial 87 finished with value: 0.6722532588454376 and parameters: {'classifier': 'SVM', 'C': 96.15179028966995, 'kernel': 'poly', 'gamma': 'auto'}. Best is trial 12 with value: 0.7895716945996275.\n",
            "[I 2025-09-15 21:54:07,309] Trial 88 finished with value: 0.7858472998137801 and parameters: {'classifier': 'SVM', 'C': 1.6214165811007968, 'kernel': 'linear', 'gamma': 'auto'}. Best is trial 12 with value: 0.7895716945996275.\n",
            "[I 2025-09-15 21:54:07,323] Trial 89 finished with value: 0.7895716945996275 and parameters: {'classifier': 'SVM', 'C': 0.12431384010878938, 'kernel': 'linear', 'gamma': 'scale'}. Best is trial 12 with value: 0.7895716945996275.\n",
            "[I 2025-09-15 21:54:07,630] Trial 90 finished with value: 0.7635009310986964 and parameters: {'classifier': 'RandomForest', 'n_estimators': 142, 'max_depth': 15, 'min_samples_split': 9, 'min_samples_leaf': 9, 'bootstrap': True}. Best is trial 12 with value: 0.7895716945996275.\n",
            "[I 2025-09-15 21:54:07,642] Trial 91 finished with value: 0.7895716945996275 and parameters: {'classifier': 'SVM', 'C': 0.1481986368825305, 'kernel': 'linear', 'gamma': 'scale'}. Best is trial 12 with value: 0.7895716945996275.\n",
            "[I 2025-09-15 21:54:07,655] Trial 92 finished with value: 0.7895716945996275 and parameters: {'classifier': 'SVM', 'C': 0.1414671823586948, 'kernel': 'linear', 'gamma': 'scale'}. Best is trial 12 with value: 0.7895716945996275.\n",
            "[I 2025-09-15 21:54:07,666] Trial 93 finished with value: 0.7877094972067038 and parameters: {'classifier': 'SVM', 'C': 0.1798628247931434, 'kernel': 'linear', 'gamma': 'scale'}. Best is trial 12 with value: 0.7895716945996275.\n",
            "[I 2025-09-15 21:54:07,679] Trial 94 finished with value: 0.7858472998137803 and parameters: {'classifier': 'SVM', 'C': 0.2401629685538096, 'kernel': 'linear', 'gamma': 'scale'}. Best is trial 12 with value: 0.7895716945996275.\n",
            "[I 2025-09-15 21:54:07,691] Trial 95 finished with value: 0.7895716945996275 and parameters: {'classifier': 'SVM', 'C': 0.13332501864817972, 'kernel': 'linear', 'gamma': 'auto'}. Best is trial 12 with value: 0.7895716945996275.\n",
            "[I 2025-09-15 21:54:07,707] Trial 96 finished with value: 0.7672253258845437 and parameters: {'classifier': 'SVM', 'C': 0.11006207457948537, 'kernel': 'sigmoid', 'gamma': 'scale'}. Best is trial 12 with value: 0.7895716945996275.\n",
            "[I 2025-09-15 21:54:07,766] Trial 97 finished with value: 0.7858472998137801 and parameters: {'classifier': 'SVM', 'C': 22.756491422748624, 'kernel': 'linear', 'gamma': 'auto'}. Best is trial 12 with value: 0.7895716945996275.\n",
            "[I 2025-09-15 21:54:07,793] Trial 98 finished with value: 0.7858472998137801 and parameters: {'classifier': 'SVM', 'C': 4.118575382389997, 'kernel': 'linear', 'gamma': 'auto'}. Best is trial 12 with value: 0.7895716945996275.\n",
            "[I 2025-09-15 21:54:08,421] Trial 99 finished with value: 0.7597765363128491 and parameters: {'classifier': 'GradientBoosting', 'n_estimators': 275, 'learning_rate': 0.04815144498026561, 'max_depth': 3, 'min_samples_split': 3, 'min_samples_leaf': 4}. Best is trial 12 with value: 0.7895716945996275.\n"
          ]
        }
      ],
      "source": [
        "# Create a study and optimize it using CmaEsSampler\n",
        "study = optuna.create_study(direction='maximize')\n",
        "study.optimize(objective, n_trials=100)"
      ]
    },
    {
      "cell_type": "code",
      "execution_count": 26,
      "metadata": {
        "colab": {
          "base_uri": "https://localhost:8080/"
        },
        "id": "jLNRO9POBzbW",
        "outputId": "769a9cdf-dc13-4093-b029-875536452690"
      },
      "outputs": [
        {
          "name": "stdout",
          "output_type": "stream",
          "text": [
            "Best trial parameters: {'classifier': 'SVM', 'C': 0.11588247837023241, 'kernel': 'linear', 'gamma': 'auto'}\n",
            "Best trial accuracy: 0.7895716945996275\n"
          ]
        }
      ],
      "source": [
        "# Retrieve the best trial\n",
        "best_trial = study.best_trial\n",
        "print(\"Best trial parameters:\", best_trial.params)\n",
        "print(\"Best trial accuracy:\", best_trial.value)"
      ]
    },
    {
      "cell_type": "code",
      "execution_count": 27,
      "metadata": {
        "colab": {
          "base_uri": "https://localhost:8080/",
          "height": 617
        },
        "id": "QD74lBzvB6Q5",
        "outputId": "d9f3eb63-ce25-4c56-db57-211ac8e3c85b"
      },
      "outputs": [
        {
          "data": {
            "text/html": [
              "<div>\n",
              "<style scoped>\n",
              "    .dataframe tbody tr th:only-of-type {\n",
              "        vertical-align: middle;\n",
              "    }\n",
              "\n",
              "    .dataframe tbody tr th {\n",
              "        vertical-align: top;\n",
              "    }\n",
              "\n",
              "    .dataframe thead th {\n",
              "        text-align: right;\n",
              "    }\n",
              "</style>\n",
              "<table border=\"1\" class=\"dataframe\">\n",
              "  <thead>\n",
              "    <tr style=\"text-align: right;\">\n",
              "      <th></th>\n",
              "      <th>number</th>\n",
              "      <th>value</th>\n",
              "      <th>datetime_start</th>\n",
              "      <th>datetime_complete</th>\n",
              "      <th>duration</th>\n",
              "      <th>params_C</th>\n",
              "      <th>params_bootstrap</th>\n",
              "      <th>params_classifier</th>\n",
              "      <th>params_gamma</th>\n",
              "      <th>params_kernel</th>\n",
              "      <th>params_learning_rate</th>\n",
              "      <th>params_max_depth</th>\n",
              "      <th>params_min_samples_leaf</th>\n",
              "      <th>params_min_samples_split</th>\n",
              "      <th>params_n_estimators</th>\n",
              "      <th>state</th>\n",
              "    </tr>\n",
              "  </thead>\n",
              "  <tbody>\n",
              "    <tr>\n",
              "      <th>0</th>\n",
              "      <td>0</td>\n",
              "      <td>0.761639</td>\n",
              "      <td>2025-09-15 21:53:53.887926</td>\n",
              "      <td>2025-09-15 21:53:54.900143</td>\n",
              "      <td>0 days 00:00:01.012217</td>\n",
              "      <td>NaN</td>\n",
              "      <td>NaN</td>\n",
              "      <td>GradientBoosting</td>\n",
              "      <td>NaN</td>\n",
              "      <td>NaN</td>\n",
              "      <td>0.024099</td>\n",
              "      <td>14.0</td>\n",
              "      <td>6.0</td>\n",
              "      <td>9.0</td>\n",
              "      <td>162.0</td>\n",
              "      <td>COMPLETE</td>\n",
              "    </tr>\n",
              "    <tr>\n",
              "      <th>1</th>\n",
              "      <td>1</td>\n",
              "      <td>0.752328</td>\n",
              "      <td>2025-09-15 21:53:54.901161</td>\n",
              "      <td>2025-09-15 21:53:55.458475</td>\n",
              "      <td>0 days 00:00:00.557314</td>\n",
              "      <td>NaN</td>\n",
              "      <td>True</td>\n",
              "      <td>RandomForest</td>\n",
              "      <td>NaN</td>\n",
              "      <td>NaN</td>\n",
              "      <td>NaN</td>\n",
              "      <td>10.0</td>\n",
              "      <td>9.0</td>\n",
              "      <td>9.0</td>\n",
              "      <td>275.0</td>\n",
              "      <td>COMPLETE</td>\n",
              "    </tr>\n",
              "    <tr>\n",
              "      <th>2</th>\n",
              "      <td>2</td>\n",
              "      <td>0.757914</td>\n",
              "      <td>2025-09-15 21:53:55.459978</td>\n",
              "      <td>2025-09-15 21:53:55.818691</td>\n",
              "      <td>0 days 00:00:00.358713</td>\n",
              "      <td>NaN</td>\n",
              "      <td>True</td>\n",
              "      <td>RandomForest</td>\n",
              "      <td>NaN</td>\n",
              "      <td>NaN</td>\n",
              "      <td>NaN</td>\n",
              "      <td>17.0</td>\n",
              "      <td>6.0</td>\n",
              "      <td>7.0</td>\n",
              "      <td>175.0</td>\n",
              "      <td>COMPLETE</td>\n",
              "    </tr>\n",
              "    <tr>\n",
              "      <th>3</th>\n",
              "      <td>3</td>\n",
              "      <td>0.748603</td>\n",
              "      <td>2025-09-15 21:53:55.819685</td>\n",
              "      <td>2025-09-15 21:53:56.875399</td>\n",
              "      <td>0 days 00:00:01.055714</td>\n",
              "      <td>NaN</td>\n",
              "      <td>NaN</td>\n",
              "      <td>GradientBoosting</td>\n",
              "      <td>NaN</td>\n",
              "      <td>NaN</td>\n",
              "      <td>0.011234</td>\n",
              "      <td>11.0</td>\n",
              "      <td>5.0</td>\n",
              "      <td>6.0</td>\n",
              "      <td>171.0</td>\n",
              "      <td>COMPLETE</td>\n",
              "    </tr>\n",
              "    <tr>\n",
              "      <th>4</th>\n",
              "      <td>4</td>\n",
              "      <td>0.770950</td>\n",
              "      <td>2025-09-15 21:53:56.876405</td>\n",
              "      <td>2025-09-15 21:53:57.130615</td>\n",
              "      <td>0 days 00:00:00.254210</td>\n",
              "      <td>NaN</td>\n",
              "      <td>True</td>\n",
              "      <td>RandomForest</td>\n",
              "      <td>NaN</td>\n",
              "      <td>NaN</td>\n",
              "      <td>NaN</td>\n",
              "      <td>20.0</td>\n",
              "      <td>5.0</td>\n",
              "      <td>2.0</td>\n",
              "      <td>118.0</td>\n",
              "      <td>COMPLETE</td>\n",
              "    </tr>\n",
              "    <tr>\n",
              "      <th>...</th>\n",
              "      <td>...</td>\n",
              "      <td>...</td>\n",
              "      <td>...</td>\n",
              "      <td>...</td>\n",
              "      <td>...</td>\n",
              "      <td>...</td>\n",
              "      <td>...</td>\n",
              "      <td>...</td>\n",
              "      <td>...</td>\n",
              "      <td>...</td>\n",
              "      <td>...</td>\n",
              "      <td>...</td>\n",
              "      <td>...</td>\n",
              "      <td>...</td>\n",
              "      <td>...</td>\n",
              "      <td>...</td>\n",
              "    </tr>\n",
              "    <tr>\n",
              "      <th>95</th>\n",
              "      <td>95</td>\n",
              "      <td>0.789572</td>\n",
              "      <td>2025-09-15 21:54:07.679955</td>\n",
              "      <td>2025-09-15 21:54:07.691624</td>\n",
              "      <td>0 days 00:00:00.011669</td>\n",
              "      <td>0.133325</td>\n",
              "      <td>NaN</td>\n",
              "      <td>SVM</td>\n",
              "      <td>auto</td>\n",
              "      <td>linear</td>\n",
              "      <td>NaN</td>\n",
              "      <td>NaN</td>\n",
              "      <td>NaN</td>\n",
              "      <td>NaN</td>\n",
              "      <td>NaN</td>\n",
              "      <td>COMPLETE</td>\n",
              "    </tr>\n",
              "    <tr>\n",
              "      <th>96</th>\n",
              "      <td>96</td>\n",
              "      <td>0.767225</td>\n",
              "      <td>2025-09-15 21:54:07.692624</td>\n",
              "      <td>2025-09-15 21:54:07.705991</td>\n",
              "      <td>0 days 00:00:00.013367</td>\n",
              "      <td>0.110062</td>\n",
              "      <td>NaN</td>\n",
              "      <td>SVM</td>\n",
              "      <td>scale</td>\n",
              "      <td>sigmoid</td>\n",
              "      <td>NaN</td>\n",
              "      <td>NaN</td>\n",
              "      <td>NaN</td>\n",
              "      <td>NaN</td>\n",
              "      <td>NaN</td>\n",
              "      <td>COMPLETE</td>\n",
              "    </tr>\n",
              "    <tr>\n",
              "      <th>97</th>\n",
              "      <td>97</td>\n",
              "      <td>0.785847</td>\n",
              "      <td>2025-09-15 21:54:07.707560</td>\n",
              "      <td>2025-09-15 21:54:07.766584</td>\n",
              "      <td>0 days 00:00:00.059024</td>\n",
              "      <td>22.756491</td>\n",
              "      <td>NaN</td>\n",
              "      <td>SVM</td>\n",
              "      <td>auto</td>\n",
              "      <td>linear</td>\n",
              "      <td>NaN</td>\n",
              "      <td>NaN</td>\n",
              "      <td>NaN</td>\n",
              "      <td>NaN</td>\n",
              "      <td>NaN</td>\n",
              "      <td>COMPLETE</td>\n",
              "    </tr>\n",
              "    <tr>\n",
              "      <th>98</th>\n",
              "      <td>98</td>\n",
              "      <td>0.785847</td>\n",
              "      <td>2025-09-15 21:54:07.767276</td>\n",
              "      <td>2025-09-15 21:54:07.793600</td>\n",
              "      <td>0 days 00:00:00.026324</td>\n",
              "      <td>4.118575</td>\n",
              "      <td>NaN</td>\n",
              "      <td>SVM</td>\n",
              "      <td>auto</td>\n",
              "      <td>linear</td>\n",
              "      <td>NaN</td>\n",
              "      <td>NaN</td>\n",
              "      <td>NaN</td>\n",
              "      <td>NaN</td>\n",
              "      <td>NaN</td>\n",
              "      <td>COMPLETE</td>\n",
              "    </tr>\n",
              "    <tr>\n",
              "      <th>99</th>\n",
              "      <td>99</td>\n",
              "      <td>0.759777</td>\n",
              "      <td>2025-09-15 21:54:07.795609</td>\n",
              "      <td>2025-09-15 21:54:08.421330</td>\n",
              "      <td>0 days 00:00:00.625721</td>\n",
              "      <td>NaN</td>\n",
              "      <td>NaN</td>\n",
              "      <td>GradientBoosting</td>\n",
              "      <td>NaN</td>\n",
              "      <td>NaN</td>\n",
              "      <td>0.048151</td>\n",
              "      <td>3.0</td>\n",
              "      <td>4.0</td>\n",
              "      <td>3.0</td>\n",
              "      <td>275.0</td>\n",
              "      <td>COMPLETE</td>\n",
              "    </tr>\n",
              "  </tbody>\n",
              "</table>\n",
              "<p>100 rows × 16 columns</p>\n",
              "</div>"
            ],
            "text/plain": [
              "    number     value             datetime_start          datetime_complete  \\\n",
              "0        0  0.761639 2025-09-15 21:53:53.887926 2025-09-15 21:53:54.900143   \n",
              "1        1  0.752328 2025-09-15 21:53:54.901161 2025-09-15 21:53:55.458475   \n",
              "2        2  0.757914 2025-09-15 21:53:55.459978 2025-09-15 21:53:55.818691   \n",
              "3        3  0.748603 2025-09-15 21:53:55.819685 2025-09-15 21:53:56.875399   \n",
              "4        4  0.770950 2025-09-15 21:53:56.876405 2025-09-15 21:53:57.130615   \n",
              "..     ...       ...                        ...                        ...   \n",
              "95      95  0.789572 2025-09-15 21:54:07.679955 2025-09-15 21:54:07.691624   \n",
              "96      96  0.767225 2025-09-15 21:54:07.692624 2025-09-15 21:54:07.705991   \n",
              "97      97  0.785847 2025-09-15 21:54:07.707560 2025-09-15 21:54:07.766584   \n",
              "98      98  0.785847 2025-09-15 21:54:07.767276 2025-09-15 21:54:07.793600   \n",
              "99      99  0.759777 2025-09-15 21:54:07.795609 2025-09-15 21:54:08.421330   \n",
              "\n",
              "                 duration   params_C params_bootstrap params_classifier  \\\n",
              "0  0 days 00:00:01.012217        NaN              NaN  GradientBoosting   \n",
              "1  0 days 00:00:00.557314        NaN             True      RandomForest   \n",
              "2  0 days 00:00:00.358713        NaN             True      RandomForest   \n",
              "3  0 days 00:00:01.055714        NaN              NaN  GradientBoosting   \n",
              "4  0 days 00:00:00.254210        NaN             True      RandomForest   \n",
              "..                    ...        ...              ...               ...   \n",
              "95 0 days 00:00:00.011669   0.133325              NaN               SVM   \n",
              "96 0 days 00:00:00.013367   0.110062              NaN               SVM   \n",
              "97 0 days 00:00:00.059024  22.756491              NaN               SVM   \n",
              "98 0 days 00:00:00.026324   4.118575              NaN               SVM   \n",
              "99 0 days 00:00:00.625721        NaN              NaN  GradientBoosting   \n",
              "\n",
              "   params_gamma params_kernel  params_learning_rate  params_max_depth  \\\n",
              "0           NaN           NaN              0.024099              14.0   \n",
              "1           NaN           NaN                   NaN              10.0   \n",
              "2           NaN           NaN                   NaN              17.0   \n",
              "3           NaN           NaN              0.011234              11.0   \n",
              "4           NaN           NaN                   NaN              20.0   \n",
              "..          ...           ...                   ...               ...   \n",
              "95         auto        linear                   NaN               NaN   \n",
              "96        scale       sigmoid                   NaN               NaN   \n",
              "97         auto        linear                   NaN               NaN   \n",
              "98         auto        linear                   NaN               NaN   \n",
              "99          NaN           NaN              0.048151               3.0   \n",
              "\n",
              "    params_min_samples_leaf  params_min_samples_split  params_n_estimators  \\\n",
              "0                       6.0                       9.0                162.0   \n",
              "1                       9.0                       9.0                275.0   \n",
              "2                       6.0                       7.0                175.0   \n",
              "3                       5.0                       6.0                171.0   \n",
              "4                       5.0                       2.0                118.0   \n",
              "..                      ...                       ...                  ...   \n",
              "95                      NaN                       NaN                  NaN   \n",
              "96                      NaN                       NaN                  NaN   \n",
              "97                      NaN                       NaN                  NaN   \n",
              "98                      NaN                       NaN                  NaN   \n",
              "99                      4.0                       3.0                275.0   \n",
              "\n",
              "       state  \n",
              "0   COMPLETE  \n",
              "1   COMPLETE  \n",
              "2   COMPLETE  \n",
              "3   COMPLETE  \n",
              "4   COMPLETE  \n",
              "..       ...  \n",
              "95  COMPLETE  \n",
              "96  COMPLETE  \n",
              "97  COMPLETE  \n",
              "98  COMPLETE  \n",
              "99  COMPLETE  \n",
              "\n",
              "[100 rows x 16 columns]"
            ]
          },
          "execution_count": 27,
          "metadata": {},
          "output_type": "execute_result"
        }
      ],
      "source": [
        "study.trials_dataframe()"
      ]
    },
    {
      "cell_type": "code",
      "execution_count": 28,
      "metadata": {
        "colab": {
          "base_uri": "https://localhost:8080/",
          "height": 209
        },
        "id": "FYO7J-SXB9MY",
        "outputId": "d818d28e-f179-4168-f40a-7d3d889759db"
      },
      "outputs": [
        {
          "data": {
            "text/plain": [
              "params_classifier\n",
              "SVM                 77\n",
              "RandomForest        12\n",
              "GradientBoosting    11\n",
              "Name: count, dtype: int64"
            ]
          },
          "execution_count": 28,
          "metadata": {},
          "output_type": "execute_result"
        }
      ],
      "source": [
        "study.trials_dataframe()['params_classifier'].value_counts()"
      ]
    },
    {
      "cell_type": "code",
      "execution_count": 29,
      "metadata": {
        "colab": {
          "base_uri": "https://localhost:8080/",
          "height": 209
        },
        "id": "miKGSOCDCIpc",
        "outputId": "df94e173-cc52-44a1-8a1e-04632cc171e7"
      },
      "outputs": [
        {
          "data": {
            "text/plain": [
              "params_classifier\n",
              "GradientBoosting    0.748265\n",
              "RandomForest        0.765673\n",
              "SVM                 0.775182\n",
              "Name: value, dtype: float64"
            ]
          },
          "execution_count": 29,
          "metadata": {},
          "output_type": "execute_result"
        }
      ],
      "source": [
        "study.trials_dataframe().groupby('params_classifier')['value'].mean()"
      ]
    },
    {
      "cell_type": "code",
      "execution_count": 30,
      "metadata": {
        "colab": {
          "base_uri": "https://localhost:8080/",
          "height": 542
        },
        "id": "a2-8K8--CiJS",
        "outputId": "a62afda2-4faf-45e4-daf7-1f5357d0ed2c"
      },
      "outputs": [
        {
          "data": {
            "application/vnd.plotly.v1+json": {
              "config": {
                "plotlyServerURL": "https://plot.ly"
              },
              "data": [
                {
                  "mode": "markers",
                  "name": "Objective Value",
                  "type": "scatter",
                  "x": [
                    0,
                    1,
                    2,
                    3,
                    4,
                    5,
                    6,
                    7,
                    8,
                    9,
                    10,
                    11,
                    12,
                    13,
                    14,
                    15,
                    16,
                    17,
                    18,
                    19,
                    20,
                    21,
                    22,
                    23,
                    24,
                    25,
                    26,
                    27,
                    28,
                    29,
                    30,
                    31,
                    32,
                    33,
                    34,
                    35,
                    36,
                    37,
                    38,
                    39,
                    40,
                    41,
                    42,
                    43,
                    44,
                    45,
                    46,
                    47,
                    48,
                    49,
                    50,
                    51,
                    52,
                    53,
                    54,
                    55,
                    56,
                    57,
                    58,
                    59,
                    60,
                    61,
                    62,
                    63,
                    64,
                    65,
                    66,
                    67,
                    68,
                    69,
                    70,
                    71,
                    72,
                    73,
                    74,
                    75,
                    76,
                    77,
                    78,
                    79,
                    80,
                    81,
                    82,
                    83,
                    84,
                    85,
                    86,
                    87,
                    88,
                    89,
                    90,
                    91,
                    92,
                    93,
                    94,
                    95,
                    96,
                    97,
                    98,
                    99
                  ],
                  "y": [
                    0.7616387337057727,
                    0.7523277467411545,
                    0.7579143389199254,
                    0.7486033519553073,
                    0.7709497206703911,
                    0.7355679702048418,
                    0.7728119180633147,
                    0.7392923649906891,
                    0.7690875232774674,
                    0.7728119180633147,
                    0.7486033519553073,
                    0.7132216014897579,
                    0.7895716945996275,
                    0.7877094972067038,
                    0.7895716945996275,
                    0.7877094972067038,
                    0.7839851024208566,
                    0.7467411545623835,
                    0.7839851024208566,
                    0.7858472998137801,
                    0.7094972067039106,
                    0.7895716945996275,
                    0.7877094972067038,
                    0.7858472998137803,
                    0.7541899441340782,
                    0.7299813780260708,
                    0.7858472998137803,
                    0.7858472998137803,
                    0.7858472998137803,
                    0.7672253258845437,
                    0.7094972067039107,
                    0.7877094972067038,
                    0.7858472998137803,
                    0.7877094972067038,
                    0.6983240223463687,
                    0.7821229050279329,
                    0.7132216014897579,
                    0.7746741154562384,
                    0.7374301675977654,
                    0.7653631284916201,
                    0.7783985102420857,
                    0.7877094972067038,
                    0.7858472998137803,
                    0.7895716945996275,
                    0.7839851024208566,
                    0.7858472998137801,
                    0.7597765363128491,
                    0.7113594040968342,
                    0.7858472998137803,
                    0.7839851024208566,
                    0.7765363128491621,
                    0.7895716945996275,
                    0.7579143389199255,
                    0.7877094972067038,
                    0.7858472998137801,
                    0.7839851024208566,
                    0.7523277467411545,
                    0.7858472998137803,
                    0.7709497206703911,
                    0.7001862197392924,
                    0.7895716945996275,
                    0.7895716945996275,
                    0.7895716945996275,
                    0.7858472998137803,
                    0.7858472998137803,
                    0.7895716945996275,
                    0.7430167597765364,
                    0.7858472998137803,
                    0.7895716945996275,
                    0.7523277467411545,
                    0.7821229050279329,
                    0.7895716945996275,
                    0.7877094972067038,
                    0.7895716945996275,
                    0.7877094972067038,
                    0.7672253258845437,
                    0.7877094972067038,
                    0.7690875232774674,
                    0.7541899441340782,
                    0.7858472998137803,
                    0.7858472998137803,
                    0.7895716945996275,
                    0.7895716945996275,
                    0.7877094972067038,
                    0.7877094972067038,
                    0.7635009310986964,
                    0.7858472998137803,
                    0.6722532588454376,
                    0.7858472998137801,
                    0.7895716945996275,
                    0.7635009310986964,
                    0.7895716945996275,
                    0.7895716945996275,
                    0.7877094972067038,
                    0.7858472998137803,
                    0.7895716945996275,
                    0.7672253258845437,
                    0.7858472998137801,
                    0.7858472998137801,
                    0.7597765363128491
                  ]
                },
                {
                  "mode": "lines",
                  "name": "Best Value",
                  "type": "scatter",
                  "x": [
                    0,
                    1,
                    2,
                    3,
                    4,
                    5,
                    6,
                    7,
                    8,
                    9,
                    10,
                    11,
                    12,
                    13,
                    14,
                    15,
                    16,
                    17,
                    18,
                    19,
                    20,
                    21,
                    22,
                    23,
                    24,
                    25,
                    26,
                    27,
                    28,
                    29,
                    30,
                    31,
                    32,
                    33,
                    34,
                    35,
                    36,
                    37,
                    38,
                    39,
                    40,
                    41,
                    42,
                    43,
                    44,
                    45,
                    46,
                    47,
                    48,
                    49,
                    50,
                    51,
                    52,
                    53,
                    54,
                    55,
                    56,
                    57,
                    58,
                    59,
                    60,
                    61,
                    62,
                    63,
                    64,
                    65,
                    66,
                    67,
                    68,
                    69,
                    70,
                    71,
                    72,
                    73,
                    74,
                    75,
                    76,
                    77,
                    78,
                    79,
                    80,
                    81,
                    82,
                    83,
                    84,
                    85,
                    86,
                    87,
                    88,
                    89,
                    90,
                    91,
                    92,
                    93,
                    94,
                    95,
                    96,
                    97,
                    98,
                    99
                  ],
                  "y": [
                    0.7616387337057727,
                    0.7616387337057727,
                    0.7616387337057727,
                    0.7616387337057727,
                    0.7709497206703911,
                    0.7709497206703911,
                    0.7728119180633147,
                    0.7728119180633147,
                    0.7728119180633147,
                    0.7728119180633147,
                    0.7728119180633147,
                    0.7728119180633147,
                    0.7895716945996275,
                    0.7895716945996275,
                    0.7895716945996275,
                    0.7895716945996275,
                    0.7895716945996275,
                    0.7895716945996275,
                    0.7895716945996275,
                    0.7895716945996275,
                    0.7895716945996275,
                    0.7895716945996275,
                    0.7895716945996275,
                    0.7895716945996275,
                    0.7895716945996275,
                    0.7895716945996275,
                    0.7895716945996275,
                    0.7895716945996275,
                    0.7895716945996275,
                    0.7895716945996275,
                    0.7895716945996275,
                    0.7895716945996275,
                    0.7895716945996275,
                    0.7895716945996275,
                    0.7895716945996275,
                    0.7895716945996275,
                    0.7895716945996275,
                    0.7895716945996275,
                    0.7895716945996275,
                    0.7895716945996275,
                    0.7895716945996275,
                    0.7895716945996275,
                    0.7895716945996275,
                    0.7895716945996275,
                    0.7895716945996275,
                    0.7895716945996275,
                    0.7895716945996275,
                    0.7895716945996275,
                    0.7895716945996275,
                    0.7895716945996275,
                    0.7895716945996275,
                    0.7895716945996275,
                    0.7895716945996275,
                    0.7895716945996275,
                    0.7895716945996275,
                    0.7895716945996275,
                    0.7895716945996275,
                    0.7895716945996275,
                    0.7895716945996275,
                    0.7895716945996275,
                    0.7895716945996275,
                    0.7895716945996275,
                    0.7895716945996275,
                    0.7895716945996275,
                    0.7895716945996275,
                    0.7895716945996275,
                    0.7895716945996275,
                    0.7895716945996275,
                    0.7895716945996275,
                    0.7895716945996275,
                    0.7895716945996275,
                    0.7895716945996275,
                    0.7895716945996275,
                    0.7895716945996275,
                    0.7895716945996275,
                    0.7895716945996275,
                    0.7895716945996275,
                    0.7895716945996275,
                    0.7895716945996275,
                    0.7895716945996275,
                    0.7895716945996275,
                    0.7895716945996275,
                    0.7895716945996275,
                    0.7895716945996275,
                    0.7895716945996275,
                    0.7895716945996275,
                    0.7895716945996275,
                    0.7895716945996275,
                    0.7895716945996275,
                    0.7895716945996275,
                    0.7895716945996275,
                    0.7895716945996275,
                    0.7895716945996275,
                    0.7895716945996275,
                    0.7895716945996275,
                    0.7895716945996275,
                    0.7895716945996275,
                    0.7895716945996275,
                    0.7895716945996275,
                    0.7895716945996275
                  ]
                },
                {
                  "marker": {
                    "color": "#cccccc"
                  },
                  "mode": "markers",
                  "name": "Infeasible Trial",
                  "showlegend": false,
                  "type": "scatter",
                  "x": [],
                  "y": []
                }
              ],
              "layout": {
                "template": {
                  "data": {
                    "bar": [
                      {
                        "error_x": {
                          "color": "#2a3f5f"
                        },
                        "error_y": {
                          "color": "#2a3f5f"
                        },
                        "marker": {
                          "line": {
                            "color": "#E5ECF6",
                            "width": 0.5
                          },
                          "pattern": {
                            "fillmode": "overlay",
                            "size": 10,
                            "solidity": 0.2
                          }
                        },
                        "type": "bar"
                      }
                    ],
                    "barpolar": [
                      {
                        "marker": {
                          "line": {
                            "color": "#E5ECF6",
                            "width": 0.5
                          },
                          "pattern": {
                            "fillmode": "overlay",
                            "size": 10,
                            "solidity": 0.2
                          }
                        },
                        "type": "barpolar"
                      }
                    ],
                    "carpet": [
                      {
                        "aaxis": {
                          "endlinecolor": "#2a3f5f",
                          "gridcolor": "white",
                          "linecolor": "white",
                          "minorgridcolor": "white",
                          "startlinecolor": "#2a3f5f"
                        },
                        "baxis": {
                          "endlinecolor": "#2a3f5f",
                          "gridcolor": "white",
                          "linecolor": "white",
                          "minorgridcolor": "white",
                          "startlinecolor": "#2a3f5f"
                        },
                        "type": "carpet"
                      }
                    ],
                    "choropleth": [
                      {
                        "colorbar": {
                          "outlinewidth": 0,
                          "ticks": ""
                        },
                        "type": "choropleth"
                      }
                    ],
                    "contour": [
                      {
                        "colorbar": {
                          "outlinewidth": 0,
                          "ticks": ""
                        },
                        "colorscale": [
                          [
                            0,
                            "#0d0887"
                          ],
                          [
                            0.1111111111111111,
                            "#46039f"
                          ],
                          [
                            0.2222222222222222,
                            "#7201a8"
                          ],
                          [
                            0.3333333333333333,
                            "#9c179e"
                          ],
                          [
                            0.4444444444444444,
                            "#bd3786"
                          ],
                          [
                            0.5555555555555556,
                            "#d8576b"
                          ],
                          [
                            0.6666666666666666,
                            "#ed7953"
                          ],
                          [
                            0.7777777777777778,
                            "#fb9f3a"
                          ],
                          [
                            0.8888888888888888,
                            "#fdca26"
                          ],
                          [
                            1,
                            "#f0f921"
                          ]
                        ],
                        "type": "contour"
                      }
                    ],
                    "contourcarpet": [
                      {
                        "colorbar": {
                          "outlinewidth": 0,
                          "ticks": ""
                        },
                        "type": "contourcarpet"
                      }
                    ],
                    "heatmap": [
                      {
                        "colorbar": {
                          "outlinewidth": 0,
                          "ticks": ""
                        },
                        "colorscale": [
                          [
                            0,
                            "#0d0887"
                          ],
                          [
                            0.1111111111111111,
                            "#46039f"
                          ],
                          [
                            0.2222222222222222,
                            "#7201a8"
                          ],
                          [
                            0.3333333333333333,
                            "#9c179e"
                          ],
                          [
                            0.4444444444444444,
                            "#bd3786"
                          ],
                          [
                            0.5555555555555556,
                            "#d8576b"
                          ],
                          [
                            0.6666666666666666,
                            "#ed7953"
                          ],
                          [
                            0.7777777777777778,
                            "#fb9f3a"
                          ],
                          [
                            0.8888888888888888,
                            "#fdca26"
                          ],
                          [
                            1,
                            "#f0f921"
                          ]
                        ],
                        "type": "heatmap"
                      }
                    ],
                    "histogram": [
                      {
                        "marker": {
                          "pattern": {
                            "fillmode": "overlay",
                            "size": 10,
                            "solidity": 0.2
                          }
                        },
                        "type": "histogram"
                      }
                    ],
                    "histogram2d": [
                      {
                        "colorbar": {
                          "outlinewidth": 0,
                          "ticks": ""
                        },
                        "colorscale": [
                          [
                            0,
                            "#0d0887"
                          ],
                          [
                            0.1111111111111111,
                            "#46039f"
                          ],
                          [
                            0.2222222222222222,
                            "#7201a8"
                          ],
                          [
                            0.3333333333333333,
                            "#9c179e"
                          ],
                          [
                            0.4444444444444444,
                            "#bd3786"
                          ],
                          [
                            0.5555555555555556,
                            "#d8576b"
                          ],
                          [
                            0.6666666666666666,
                            "#ed7953"
                          ],
                          [
                            0.7777777777777778,
                            "#fb9f3a"
                          ],
                          [
                            0.8888888888888888,
                            "#fdca26"
                          ],
                          [
                            1,
                            "#f0f921"
                          ]
                        ],
                        "type": "histogram2d"
                      }
                    ],
                    "histogram2dcontour": [
                      {
                        "colorbar": {
                          "outlinewidth": 0,
                          "ticks": ""
                        },
                        "colorscale": [
                          [
                            0,
                            "#0d0887"
                          ],
                          [
                            0.1111111111111111,
                            "#46039f"
                          ],
                          [
                            0.2222222222222222,
                            "#7201a8"
                          ],
                          [
                            0.3333333333333333,
                            "#9c179e"
                          ],
                          [
                            0.4444444444444444,
                            "#bd3786"
                          ],
                          [
                            0.5555555555555556,
                            "#d8576b"
                          ],
                          [
                            0.6666666666666666,
                            "#ed7953"
                          ],
                          [
                            0.7777777777777778,
                            "#fb9f3a"
                          ],
                          [
                            0.8888888888888888,
                            "#fdca26"
                          ],
                          [
                            1,
                            "#f0f921"
                          ]
                        ],
                        "type": "histogram2dcontour"
                      }
                    ],
                    "mesh3d": [
                      {
                        "colorbar": {
                          "outlinewidth": 0,
                          "ticks": ""
                        },
                        "type": "mesh3d"
                      }
                    ],
                    "parcoords": [
                      {
                        "line": {
                          "colorbar": {
                            "outlinewidth": 0,
                            "ticks": ""
                          }
                        },
                        "type": "parcoords"
                      }
                    ],
                    "pie": [
                      {
                        "automargin": true,
                        "type": "pie"
                      }
                    ],
                    "scatter": [
                      {
                        "fillpattern": {
                          "fillmode": "overlay",
                          "size": 10,
                          "solidity": 0.2
                        },
                        "type": "scatter"
                      }
                    ],
                    "scatter3d": [
                      {
                        "line": {
                          "colorbar": {
                            "outlinewidth": 0,
                            "ticks": ""
                          }
                        },
                        "marker": {
                          "colorbar": {
                            "outlinewidth": 0,
                            "ticks": ""
                          }
                        },
                        "type": "scatter3d"
                      }
                    ],
                    "scattercarpet": [
                      {
                        "marker": {
                          "colorbar": {
                            "outlinewidth": 0,
                            "ticks": ""
                          }
                        },
                        "type": "scattercarpet"
                      }
                    ],
                    "scattergeo": [
                      {
                        "marker": {
                          "colorbar": {
                            "outlinewidth": 0,
                            "ticks": ""
                          }
                        },
                        "type": "scattergeo"
                      }
                    ],
                    "scattergl": [
                      {
                        "marker": {
                          "colorbar": {
                            "outlinewidth": 0,
                            "ticks": ""
                          }
                        },
                        "type": "scattergl"
                      }
                    ],
                    "scattermap": [
                      {
                        "marker": {
                          "colorbar": {
                            "outlinewidth": 0,
                            "ticks": ""
                          }
                        },
                        "type": "scattermap"
                      }
                    ],
                    "scattermapbox": [
                      {
                        "marker": {
                          "colorbar": {
                            "outlinewidth": 0,
                            "ticks": ""
                          }
                        },
                        "type": "scattermapbox"
                      }
                    ],
                    "scatterpolar": [
                      {
                        "marker": {
                          "colorbar": {
                            "outlinewidth": 0,
                            "ticks": ""
                          }
                        },
                        "type": "scatterpolar"
                      }
                    ],
                    "scatterpolargl": [
                      {
                        "marker": {
                          "colorbar": {
                            "outlinewidth": 0,
                            "ticks": ""
                          }
                        },
                        "type": "scatterpolargl"
                      }
                    ],
                    "scatterternary": [
                      {
                        "marker": {
                          "colorbar": {
                            "outlinewidth": 0,
                            "ticks": ""
                          }
                        },
                        "type": "scatterternary"
                      }
                    ],
                    "surface": [
                      {
                        "colorbar": {
                          "outlinewidth": 0,
                          "ticks": ""
                        },
                        "colorscale": [
                          [
                            0,
                            "#0d0887"
                          ],
                          [
                            0.1111111111111111,
                            "#46039f"
                          ],
                          [
                            0.2222222222222222,
                            "#7201a8"
                          ],
                          [
                            0.3333333333333333,
                            "#9c179e"
                          ],
                          [
                            0.4444444444444444,
                            "#bd3786"
                          ],
                          [
                            0.5555555555555556,
                            "#d8576b"
                          ],
                          [
                            0.6666666666666666,
                            "#ed7953"
                          ],
                          [
                            0.7777777777777778,
                            "#fb9f3a"
                          ],
                          [
                            0.8888888888888888,
                            "#fdca26"
                          ],
                          [
                            1,
                            "#f0f921"
                          ]
                        ],
                        "type": "surface"
                      }
                    ],
                    "table": [
                      {
                        "cells": {
                          "fill": {
                            "color": "#EBF0F8"
                          },
                          "line": {
                            "color": "white"
                          }
                        },
                        "header": {
                          "fill": {
                            "color": "#C8D4E3"
                          },
                          "line": {
                            "color": "white"
                          }
                        },
                        "type": "table"
                      }
                    ]
                  },
                  "layout": {
                    "annotationdefaults": {
                      "arrowcolor": "#2a3f5f",
                      "arrowhead": 0,
                      "arrowwidth": 1
                    },
                    "autotypenumbers": "strict",
                    "coloraxis": {
                      "colorbar": {
                        "outlinewidth": 0,
                        "ticks": ""
                      }
                    },
                    "colorscale": {
                      "diverging": [
                        [
                          0,
                          "#8e0152"
                        ],
                        [
                          0.1,
                          "#c51b7d"
                        ],
                        [
                          0.2,
                          "#de77ae"
                        ],
                        [
                          0.3,
                          "#f1b6da"
                        ],
                        [
                          0.4,
                          "#fde0ef"
                        ],
                        [
                          0.5,
                          "#f7f7f7"
                        ],
                        [
                          0.6,
                          "#e6f5d0"
                        ],
                        [
                          0.7,
                          "#b8e186"
                        ],
                        [
                          0.8,
                          "#7fbc41"
                        ],
                        [
                          0.9,
                          "#4d9221"
                        ],
                        [
                          1,
                          "#276419"
                        ]
                      ],
                      "sequential": [
                        [
                          0,
                          "#0d0887"
                        ],
                        [
                          0.1111111111111111,
                          "#46039f"
                        ],
                        [
                          0.2222222222222222,
                          "#7201a8"
                        ],
                        [
                          0.3333333333333333,
                          "#9c179e"
                        ],
                        [
                          0.4444444444444444,
                          "#bd3786"
                        ],
                        [
                          0.5555555555555556,
                          "#d8576b"
                        ],
                        [
                          0.6666666666666666,
                          "#ed7953"
                        ],
                        [
                          0.7777777777777778,
                          "#fb9f3a"
                        ],
                        [
                          0.8888888888888888,
                          "#fdca26"
                        ],
                        [
                          1,
                          "#f0f921"
                        ]
                      ],
                      "sequentialminus": [
                        [
                          0,
                          "#0d0887"
                        ],
                        [
                          0.1111111111111111,
                          "#46039f"
                        ],
                        [
                          0.2222222222222222,
                          "#7201a8"
                        ],
                        [
                          0.3333333333333333,
                          "#9c179e"
                        ],
                        [
                          0.4444444444444444,
                          "#bd3786"
                        ],
                        [
                          0.5555555555555556,
                          "#d8576b"
                        ],
                        [
                          0.6666666666666666,
                          "#ed7953"
                        ],
                        [
                          0.7777777777777778,
                          "#fb9f3a"
                        ],
                        [
                          0.8888888888888888,
                          "#fdca26"
                        ],
                        [
                          1,
                          "#f0f921"
                        ]
                      ]
                    },
                    "colorway": [
                      "#636efa",
                      "#EF553B",
                      "#00cc96",
                      "#ab63fa",
                      "#FFA15A",
                      "#19d3f3",
                      "#FF6692",
                      "#B6E880",
                      "#FF97FF",
                      "#FECB52"
                    ],
                    "font": {
                      "color": "#2a3f5f"
                    },
                    "geo": {
                      "bgcolor": "white",
                      "lakecolor": "white",
                      "landcolor": "#E5ECF6",
                      "showlakes": true,
                      "showland": true,
                      "subunitcolor": "white"
                    },
                    "hoverlabel": {
                      "align": "left"
                    },
                    "hovermode": "closest",
                    "mapbox": {
                      "style": "light"
                    },
                    "paper_bgcolor": "white",
                    "plot_bgcolor": "#E5ECF6",
                    "polar": {
                      "angularaxis": {
                        "gridcolor": "white",
                        "linecolor": "white",
                        "ticks": ""
                      },
                      "bgcolor": "#E5ECF6",
                      "radialaxis": {
                        "gridcolor": "white",
                        "linecolor": "white",
                        "ticks": ""
                      }
                    },
                    "scene": {
                      "xaxis": {
                        "backgroundcolor": "#E5ECF6",
                        "gridcolor": "white",
                        "gridwidth": 2,
                        "linecolor": "white",
                        "showbackground": true,
                        "ticks": "",
                        "zerolinecolor": "white"
                      },
                      "yaxis": {
                        "backgroundcolor": "#E5ECF6",
                        "gridcolor": "white",
                        "gridwidth": 2,
                        "linecolor": "white",
                        "showbackground": true,
                        "ticks": "",
                        "zerolinecolor": "white"
                      },
                      "zaxis": {
                        "backgroundcolor": "#E5ECF6",
                        "gridcolor": "white",
                        "gridwidth": 2,
                        "linecolor": "white",
                        "showbackground": true,
                        "ticks": "",
                        "zerolinecolor": "white"
                      }
                    },
                    "shapedefaults": {
                      "line": {
                        "color": "#2a3f5f"
                      }
                    },
                    "ternary": {
                      "aaxis": {
                        "gridcolor": "white",
                        "linecolor": "white",
                        "ticks": ""
                      },
                      "baxis": {
                        "gridcolor": "white",
                        "linecolor": "white",
                        "ticks": ""
                      },
                      "bgcolor": "#E5ECF6",
                      "caxis": {
                        "gridcolor": "white",
                        "linecolor": "white",
                        "ticks": ""
                      }
                    },
                    "title": {
                      "x": 0.05
                    },
                    "xaxis": {
                      "automargin": true,
                      "gridcolor": "white",
                      "linecolor": "white",
                      "ticks": "",
                      "title": {
                        "standoff": 15
                      },
                      "zerolinecolor": "white",
                      "zerolinewidth": 2
                    },
                    "yaxis": {
                      "automargin": true,
                      "gridcolor": "white",
                      "linecolor": "white",
                      "ticks": "",
                      "title": {
                        "standoff": 15
                      },
                      "zerolinecolor": "white",
                      "zerolinewidth": 2
                    }
                  }
                },
                "title": {
                  "text": "Optimization History Plot"
                },
                "xaxis": {
                  "title": {
                    "text": "Trial"
                  }
                },
                "yaxis": {
                  "title": {
                    "text": "Objective Value"
                  }
                }
              }
            }
          },
          "metadata": {},
          "output_type": "display_data"
        }
      ],
      "source": [
        "# 1. Optimization History\n",
        "plot_optimization_history(study).show()"
      ]
    },
    {
      "cell_type": "code",
      "execution_count": 31,
      "metadata": {
        "colab": {
          "base_uri": "https://localhost:8080/",
          "height": 562
        },
        "id": "0n7zfgCNCx-4",
        "outputId": "1604fbd1-9fd6-4749-fcdf-62fea03e8428"
      },
      "outputs": [
        {
          "data": {
            "application/vnd.plotly.v1+json": {
              "config": {
                "plotlyServerURL": "https://plot.ly"
              },
              "data": [
                {
                  "marker": {
                    "color": [
                      7,
                      9,
                      11,
                      12,
                      13,
                      14,
                      15,
                      16,
                      17,
                      18,
                      19,
                      20,
                      21,
                      22,
                      23,
                      24,
                      26,
                      27,
                      28,
                      30,
                      31,
                      32,
                      33,
                      35,
                      36,
                      39,
                      41,
                      42,
                      43,
                      44,
                      45,
                      47,
                      48,
                      49,
                      51,
                      52,
                      53,
                      54,
                      55,
                      56,
                      57,
                      59,
                      60,
                      61,
                      62,
                      63,
                      64,
                      65,
                      66,
                      67,
                      68,
                      70,
                      71,
                      72,
                      73,
                      74,
                      75,
                      76,
                      78,
                      79,
                      80,
                      81,
                      82,
                      83,
                      84,
                      86,
                      87,
                      88,
                      89,
                      91,
                      92,
                      93,
                      94,
                      95,
                      96,
                      97,
                      98
                    ],
                    "colorbar": {
                      "title": {
                        "text": "Trial"
                      },
                      "x": 1,
                      "xpad": 40
                    },
                    "colorscale": [
                      [
                        0,
                        "rgb(247,251,255)"
                      ],
                      [
                        0.125,
                        "rgb(222,235,247)"
                      ],
                      [
                        0.25,
                        "rgb(198,219,239)"
                      ],
                      [
                        0.375,
                        "rgb(158,202,225)"
                      ],
                      [
                        0.5,
                        "rgb(107,174,214)"
                      ],
                      [
                        0.625,
                        "rgb(66,146,198)"
                      ],
                      [
                        0.75,
                        "rgb(33,113,181)"
                      ],
                      [
                        0.875,
                        "rgb(8,81,156)"
                      ],
                      [
                        1,
                        "rgb(8,48,107)"
                      ]
                    ],
                    "line": {
                      "color": "Grey",
                      "width": 0.5
                    },
                    "showscale": true
                  },
                  "mode": "markers",
                  "name": "Feasible Trial",
                  "showlegend": false,
                  "type": "scatter",
                  "x": [
                    2.125650321538193,
                    3.4334655064967197,
                    64.5482849083694,
                    0.11588247837023241,
                    0.10347653753837074,
                    0.12245349771204457,
                    0.15751307090520536,
                    0.525402773895775,
                    0.5507653833247081,
                    0.3537430893987819,
                    2.3163802822667185,
                    11.294176437476866,
                    0.14435698213901033,
                    0.10114210113097374,
                    0.2741618984794277,
                    0.9013902106479786,
                    0.20733838179209227,
                    0.8505610428564847,
                    0.1922162838505872,
                    0.10238298909803094,
                    0.10921887586608643,
                    0.2697244698917454,
                    0.17623109433150355,
                    0.3871333088213355,
                    0.14802467103907327,
                    0.10024145986500413,
                    0.18000619827059341,
                    0.20560039630283752,
                    0.1536434066751331,
                    0.33789030149162547,
                    9.584454634297296,
                    0.12952976323784557,
                    0.6784290381586808,
                    1.1980847139514548,
                    0.1487104771079139,
                    0.2519404657987999,
                    0.1575837251721773,
                    4.61846170004984,
                    0.4447941445364471,
                    0.13657384592547075,
                    0.25527826410518634,
                    48.56704148594224,
                    0.14621417711368076,
                    0.13950137374964272,
                    0.14262039799827342,
                    0.30179920758760587,
                    0.20394858039067076,
                    0.13314850009097573,
                    0.4925402774338036,
                    0.22488935033846943,
                    0.14089189897080762,
                    0.36924921952288203,
                    0.12612533536586776,
                    0.1620453826669994,
                    0.11419142610491106,
                    0.1784730831747641,
                    0.24249192387574453,
                    0.10120627711998403,
                    0.15780951496421303,
                    0.3044916167875421,
                    0.19428396935264314,
                    0.12518727368868104,
                    0.13174625945490706,
                    0.1009563483097363,
                    0.1576056951010624,
                    0.2080354345494135,
                    96.15179028966995,
                    1.6214165811007968,
                    0.12431384010878938,
                    0.1481986368825305,
                    0.1414671823586948,
                    0.1798628247931434,
                    0.2401629685538096,
                    0.13332501864817972,
                    0.11006207457948537,
                    22.756491422748624,
                    4.118575382389997
                  ],
                  "xaxis": "x",
                  "y": [
                    0.7392923649906891,
                    0.7728119180633147,
                    0.7132216014897579,
                    0.7895716945996275,
                    0.7877094972067038,
                    0.7895716945996275,
                    0.7877094972067038,
                    0.7839851024208566,
                    0.7467411545623835,
                    0.7839851024208566,
                    0.7858472998137801,
                    0.7094972067039106,
                    0.7895716945996275,
                    0.7877094972067038,
                    0.7858472998137803,
                    0.7541899441340782,
                    0.7858472998137803,
                    0.7858472998137803,
                    0.7858472998137803,
                    0.7094972067039107,
                    0.7877094972067038,
                    0.7858472998137803,
                    0.7877094972067038,
                    0.7821229050279329,
                    0.7132216014897579,
                    0.7653631284916201,
                    0.7877094972067038,
                    0.7858472998137803,
                    0.7895716945996275,
                    0.7839851024208566,
                    0.7858472998137801,
                    0.7113594040968342,
                    0.7858472998137803,
                    0.7839851024208566,
                    0.7895716945996275,
                    0.7579143389199255,
                    0.7877094972067038,
                    0.7858472998137801,
                    0.7839851024208566,
                    0.7523277467411545,
                    0.7858472998137803,
                    0.7001862197392924,
                    0.7895716945996275,
                    0.7895716945996275,
                    0.7895716945996275,
                    0.7858472998137803,
                    0.7858472998137803,
                    0.7895716945996275,
                    0.7430167597765364,
                    0.7858472998137803,
                    0.7895716945996275,
                    0.7821229050279329,
                    0.7895716945996275,
                    0.7877094972067038,
                    0.7895716945996275,
                    0.7877094972067038,
                    0.7672253258845437,
                    0.7877094972067038,
                    0.7541899441340782,
                    0.7858472998137803,
                    0.7858472998137803,
                    0.7895716945996275,
                    0.7895716945996275,
                    0.7877094972067038,
                    0.7877094972067038,
                    0.7858472998137803,
                    0.6722532588454376,
                    0.7858472998137801,
                    0.7895716945996275,
                    0.7895716945996275,
                    0.7895716945996275,
                    0.7877094972067038,
                    0.7858472998137803,
                    0.7895716945996275,
                    0.7672253258845437,
                    0.7858472998137801,
                    0.7858472998137801
                  ],
                  "yaxis": "y"
                },
                {
                  "marker": {
                    "color": [
                      1,
                      2,
                      4,
                      6,
                      8,
                      10,
                      37,
                      40,
                      46,
                      58,
                      77,
                      90
                    ],
                    "colorbar": {
                      "title": {
                        "text": "Trial"
                      },
                      "x": 1,
                      "xpad": 40
                    },
                    "colorscale": [
                      [
                        0,
                        "rgb(247,251,255)"
                      ],
                      [
                        0.125,
                        "rgb(222,235,247)"
                      ],
                      [
                        0.25,
                        "rgb(198,219,239)"
                      ],
                      [
                        0.375,
                        "rgb(158,202,225)"
                      ],
                      [
                        0.5,
                        "rgb(107,174,214)"
                      ],
                      [
                        0.625,
                        "rgb(66,146,198)"
                      ],
                      [
                        0.75,
                        "rgb(33,113,181)"
                      ],
                      [
                        0.875,
                        "rgb(8,81,156)"
                      ],
                      [
                        1,
                        "rgb(8,48,107)"
                      ]
                    ],
                    "line": {
                      "color": "Grey",
                      "width": 0.5
                    },
                    "showscale": false
                  },
                  "mode": "markers",
                  "name": "Feasible Trial",
                  "showlegend": false,
                  "type": "scatter",
                  "x": [
                    true,
                    true,
                    true,
                    false,
                    true,
                    false,
                    false,
                    false,
                    true,
                    false,
                    false,
                    true
                  ],
                  "xaxis": "x2",
                  "y": [
                    0.7523277467411545,
                    0.7579143389199254,
                    0.7709497206703911,
                    0.7728119180633147,
                    0.7690875232774674,
                    0.7486033519553073,
                    0.7746741154562384,
                    0.7783985102420857,
                    0.7597765363128491,
                    0.7709497206703911,
                    0.7690875232774674,
                    0.7635009310986964
                  ],
                  "yaxis": "y2"
                },
                {
                  "marker": {
                    "color": [
                      0,
                      1,
                      2,
                      3,
                      4,
                      5,
                      6,
                      7,
                      8,
                      9,
                      10,
                      11,
                      12,
                      13,
                      14,
                      15,
                      16,
                      17,
                      18,
                      19,
                      20,
                      21,
                      22,
                      23,
                      24,
                      25,
                      26,
                      27,
                      28,
                      29,
                      30,
                      31,
                      32,
                      33,
                      34,
                      35,
                      36,
                      37,
                      38,
                      39,
                      40,
                      41,
                      42,
                      43,
                      44,
                      45,
                      46,
                      47,
                      48,
                      49,
                      50,
                      51,
                      52,
                      53,
                      54,
                      55,
                      56,
                      57,
                      58,
                      59,
                      60,
                      61,
                      62,
                      63,
                      64,
                      65,
                      66,
                      67,
                      68,
                      69,
                      70,
                      71,
                      72,
                      73,
                      74,
                      75,
                      76,
                      77,
                      78,
                      79,
                      80,
                      81,
                      82,
                      83,
                      84,
                      85,
                      86,
                      87,
                      88,
                      89,
                      90,
                      91,
                      92,
                      93,
                      94,
                      95,
                      96,
                      97,
                      98,
                      99
                    ],
                    "colorbar": {
                      "title": {
                        "text": "Trial"
                      },
                      "x": 1,
                      "xpad": 40
                    },
                    "colorscale": [
                      [
                        0,
                        "rgb(247,251,255)"
                      ],
                      [
                        0.125,
                        "rgb(222,235,247)"
                      ],
                      [
                        0.25,
                        "rgb(198,219,239)"
                      ],
                      [
                        0.375,
                        "rgb(158,202,225)"
                      ],
                      [
                        0.5,
                        "rgb(107,174,214)"
                      ],
                      [
                        0.625,
                        "rgb(66,146,198)"
                      ],
                      [
                        0.75,
                        "rgb(33,113,181)"
                      ],
                      [
                        0.875,
                        "rgb(8,81,156)"
                      ],
                      [
                        1,
                        "rgb(8,48,107)"
                      ]
                    ],
                    "line": {
                      "color": "Grey",
                      "width": 0.5
                    },
                    "showscale": false
                  },
                  "mode": "markers",
                  "name": "Feasible Trial",
                  "showlegend": false,
                  "type": "scatter",
                  "x": [
                    "GradientBoosting",
                    "RandomForest",
                    "RandomForest",
                    "GradientBoosting",
                    "RandomForest",
                    "GradientBoosting",
                    "RandomForest",
                    "SVM",
                    "RandomForest",
                    "SVM",
                    "RandomForest",
                    "SVM",
                    "SVM",
                    "SVM",
                    "SVM",
                    "SVM",
                    "SVM",
                    "SVM",
                    "SVM",
                    "SVM",
                    "SVM",
                    "SVM",
                    "SVM",
                    "SVM",
                    "SVM",
                    "GradientBoosting",
                    "SVM",
                    "SVM",
                    "SVM",
                    "GradientBoosting",
                    "SVM",
                    "SVM",
                    "SVM",
                    "SVM",
                    "GradientBoosting",
                    "SVM",
                    "SVM",
                    "RandomForest",
                    "GradientBoosting",
                    "SVM",
                    "RandomForest",
                    "SVM",
                    "SVM",
                    "SVM",
                    "SVM",
                    "SVM",
                    "RandomForest",
                    "SVM",
                    "SVM",
                    "SVM",
                    "GradientBoosting",
                    "SVM",
                    "SVM",
                    "SVM",
                    "SVM",
                    "SVM",
                    "SVM",
                    "SVM",
                    "RandomForest",
                    "SVM",
                    "SVM",
                    "SVM",
                    "SVM",
                    "SVM",
                    "SVM",
                    "SVM",
                    "SVM",
                    "SVM",
                    "SVM",
                    "GradientBoosting",
                    "SVM",
                    "SVM",
                    "SVM",
                    "SVM",
                    "SVM",
                    "SVM",
                    "SVM",
                    "RandomForest",
                    "SVM",
                    "SVM",
                    "SVM",
                    "SVM",
                    "SVM",
                    "SVM",
                    "SVM",
                    "GradientBoosting",
                    "SVM",
                    "SVM",
                    "SVM",
                    "SVM",
                    "RandomForest",
                    "SVM",
                    "SVM",
                    "SVM",
                    "SVM",
                    "SVM",
                    "SVM",
                    "SVM",
                    "SVM",
                    "GradientBoosting"
                  ],
                  "xaxis": "x3",
                  "y": [
                    0.7616387337057727,
                    0.7523277467411545,
                    0.7579143389199254,
                    0.7486033519553073,
                    0.7709497206703911,
                    0.7355679702048418,
                    0.7728119180633147,
                    0.7392923649906891,
                    0.7690875232774674,
                    0.7728119180633147,
                    0.7486033519553073,
                    0.7132216014897579,
                    0.7895716945996275,
                    0.7877094972067038,
                    0.7895716945996275,
                    0.7877094972067038,
                    0.7839851024208566,
                    0.7467411545623835,
                    0.7839851024208566,
                    0.7858472998137801,
                    0.7094972067039106,
                    0.7895716945996275,
                    0.7877094972067038,
                    0.7858472998137803,
                    0.7541899441340782,
                    0.7299813780260708,
                    0.7858472998137803,
                    0.7858472998137803,
                    0.7858472998137803,
                    0.7672253258845437,
                    0.7094972067039107,
                    0.7877094972067038,
                    0.7858472998137803,
                    0.7877094972067038,
                    0.6983240223463687,
                    0.7821229050279329,
                    0.7132216014897579,
                    0.7746741154562384,
                    0.7374301675977654,
                    0.7653631284916201,
                    0.7783985102420857,
                    0.7877094972067038,
                    0.7858472998137803,
                    0.7895716945996275,
                    0.7839851024208566,
                    0.7858472998137801,
                    0.7597765363128491,
                    0.7113594040968342,
                    0.7858472998137803,
                    0.7839851024208566,
                    0.7765363128491621,
                    0.7895716945996275,
                    0.7579143389199255,
                    0.7877094972067038,
                    0.7858472998137801,
                    0.7839851024208566,
                    0.7523277467411545,
                    0.7858472998137803,
                    0.7709497206703911,
                    0.7001862197392924,
                    0.7895716945996275,
                    0.7895716945996275,
                    0.7895716945996275,
                    0.7858472998137803,
                    0.7858472998137803,
                    0.7895716945996275,
                    0.7430167597765364,
                    0.7858472998137803,
                    0.7895716945996275,
                    0.7523277467411545,
                    0.7821229050279329,
                    0.7895716945996275,
                    0.7877094972067038,
                    0.7895716945996275,
                    0.7877094972067038,
                    0.7672253258845437,
                    0.7877094972067038,
                    0.7690875232774674,
                    0.7541899441340782,
                    0.7858472998137803,
                    0.7858472998137803,
                    0.7895716945996275,
                    0.7895716945996275,
                    0.7877094972067038,
                    0.7877094972067038,
                    0.7635009310986964,
                    0.7858472998137803,
                    0.6722532588454376,
                    0.7858472998137801,
                    0.7895716945996275,
                    0.7635009310986964,
                    0.7895716945996275,
                    0.7895716945996275,
                    0.7877094972067038,
                    0.7858472998137803,
                    0.7895716945996275,
                    0.7672253258845437,
                    0.7858472998137801,
                    0.7858472998137801,
                    0.7597765363128491
                  ],
                  "yaxis": "y3"
                },
                {
                  "marker": {
                    "color": [
                      7,
                      9,
                      11,
                      12,
                      13,
                      14,
                      15,
                      16,
                      17,
                      18,
                      19,
                      20,
                      21,
                      22,
                      23,
                      24,
                      26,
                      27,
                      28,
                      30,
                      31,
                      32,
                      33,
                      35,
                      36,
                      39,
                      41,
                      42,
                      43,
                      44,
                      45,
                      47,
                      48,
                      49,
                      51,
                      52,
                      53,
                      54,
                      55,
                      56,
                      57,
                      59,
                      60,
                      61,
                      62,
                      63,
                      64,
                      65,
                      66,
                      67,
                      68,
                      70,
                      71,
                      72,
                      73,
                      74,
                      75,
                      76,
                      78,
                      79,
                      80,
                      81,
                      82,
                      83,
                      84,
                      86,
                      87,
                      88,
                      89,
                      91,
                      92,
                      93,
                      94,
                      95,
                      96,
                      97,
                      98
                    ],
                    "colorbar": {
                      "title": {
                        "text": "Trial"
                      },
                      "x": 1,
                      "xpad": 40
                    },
                    "colorscale": [
                      [
                        0,
                        "rgb(247,251,255)"
                      ],
                      [
                        0.125,
                        "rgb(222,235,247)"
                      ],
                      [
                        0.25,
                        "rgb(198,219,239)"
                      ],
                      [
                        0.375,
                        "rgb(158,202,225)"
                      ],
                      [
                        0.5,
                        "rgb(107,174,214)"
                      ],
                      [
                        0.625,
                        "rgb(66,146,198)"
                      ],
                      [
                        0.75,
                        "rgb(33,113,181)"
                      ],
                      [
                        0.875,
                        "rgb(8,81,156)"
                      ],
                      [
                        1,
                        "rgb(8,48,107)"
                      ]
                    ],
                    "line": {
                      "color": "Grey",
                      "width": 0.5
                    },
                    "showscale": false
                  },
                  "mode": "markers",
                  "name": "Feasible Trial",
                  "showlegend": false,
                  "type": "scatter",
                  "x": [
                    "scale",
                    "scale",
                    "scale",
                    "auto",
                    "auto",
                    "auto",
                    "auto",
                    "auto",
                    "auto",
                    "auto",
                    "auto",
                    "auto",
                    "auto",
                    "auto",
                    "auto",
                    "auto",
                    "auto",
                    "auto",
                    "scale",
                    "auto",
                    "auto",
                    "auto",
                    "auto",
                    "auto",
                    "auto",
                    "auto",
                    "auto",
                    "auto",
                    "auto",
                    "auto",
                    "auto",
                    "scale",
                    "auto",
                    "scale",
                    "auto",
                    "auto",
                    "auto",
                    "scale",
                    "auto",
                    "auto",
                    "auto",
                    "auto",
                    "auto",
                    "auto",
                    "auto",
                    "auto",
                    "auto",
                    "auto",
                    "auto",
                    "auto",
                    "scale",
                    "auto",
                    "auto",
                    "auto",
                    "auto",
                    "auto",
                    "auto",
                    "auto",
                    "auto",
                    "auto",
                    "auto",
                    "auto",
                    "auto",
                    "auto",
                    "auto",
                    "auto",
                    "auto",
                    "auto",
                    "scale",
                    "scale",
                    "scale",
                    "scale",
                    "scale",
                    "auto",
                    "scale",
                    "auto",
                    "auto"
                  ],
                  "xaxis": "x4",
                  "y": [
                    0.7392923649906891,
                    0.7728119180633147,
                    0.7132216014897579,
                    0.7895716945996275,
                    0.7877094972067038,
                    0.7895716945996275,
                    0.7877094972067038,
                    0.7839851024208566,
                    0.7467411545623835,
                    0.7839851024208566,
                    0.7858472998137801,
                    0.7094972067039106,
                    0.7895716945996275,
                    0.7877094972067038,
                    0.7858472998137803,
                    0.7541899441340782,
                    0.7858472998137803,
                    0.7858472998137803,
                    0.7858472998137803,
                    0.7094972067039107,
                    0.7877094972067038,
                    0.7858472998137803,
                    0.7877094972067038,
                    0.7821229050279329,
                    0.7132216014897579,
                    0.7653631284916201,
                    0.7877094972067038,
                    0.7858472998137803,
                    0.7895716945996275,
                    0.7839851024208566,
                    0.7858472998137801,
                    0.7113594040968342,
                    0.7858472998137803,
                    0.7839851024208566,
                    0.7895716945996275,
                    0.7579143389199255,
                    0.7877094972067038,
                    0.7858472998137801,
                    0.7839851024208566,
                    0.7523277467411545,
                    0.7858472998137803,
                    0.7001862197392924,
                    0.7895716945996275,
                    0.7895716945996275,
                    0.7895716945996275,
                    0.7858472998137803,
                    0.7858472998137803,
                    0.7895716945996275,
                    0.7430167597765364,
                    0.7858472998137803,
                    0.7895716945996275,
                    0.7821229050279329,
                    0.7895716945996275,
                    0.7877094972067038,
                    0.7895716945996275,
                    0.7877094972067038,
                    0.7672253258845437,
                    0.7877094972067038,
                    0.7541899441340782,
                    0.7858472998137803,
                    0.7858472998137803,
                    0.7895716945996275,
                    0.7895716945996275,
                    0.7877094972067038,
                    0.7877094972067038,
                    0.7858472998137803,
                    0.6722532588454376,
                    0.7858472998137801,
                    0.7895716945996275,
                    0.7895716945996275,
                    0.7895716945996275,
                    0.7877094972067038,
                    0.7858472998137803,
                    0.7895716945996275,
                    0.7672253258845437,
                    0.7858472998137801,
                    0.7858472998137801
                  ],
                  "yaxis": "y4"
                },
                {
                  "marker": {
                    "color": [
                      7,
                      9,
                      11,
                      12,
                      13,
                      14,
                      15,
                      16,
                      17,
                      18,
                      19,
                      20,
                      21,
                      22,
                      23,
                      24,
                      26,
                      27,
                      28,
                      30,
                      31,
                      32,
                      33,
                      35,
                      36,
                      39,
                      41,
                      42,
                      43,
                      44,
                      45,
                      47,
                      48,
                      49,
                      51,
                      52,
                      53,
                      54,
                      55,
                      56,
                      57,
                      59,
                      60,
                      61,
                      62,
                      63,
                      64,
                      65,
                      66,
                      67,
                      68,
                      70,
                      71,
                      72,
                      73,
                      74,
                      75,
                      76,
                      78,
                      79,
                      80,
                      81,
                      82,
                      83,
                      84,
                      86,
                      87,
                      88,
                      89,
                      91,
                      92,
                      93,
                      94,
                      95,
                      96,
                      97,
                      98
                    ],
                    "colorbar": {
                      "title": {
                        "text": "Trial"
                      },
                      "x": 1,
                      "xpad": 40
                    },
                    "colorscale": [
                      [
                        0,
                        "rgb(247,251,255)"
                      ],
                      [
                        0.125,
                        "rgb(222,235,247)"
                      ],
                      [
                        0.25,
                        "rgb(198,219,239)"
                      ],
                      [
                        0.375,
                        "rgb(158,202,225)"
                      ],
                      [
                        0.5,
                        "rgb(107,174,214)"
                      ],
                      [
                        0.625,
                        "rgb(66,146,198)"
                      ],
                      [
                        0.75,
                        "rgb(33,113,181)"
                      ],
                      [
                        0.875,
                        "rgb(8,81,156)"
                      ],
                      [
                        1,
                        "rgb(8,48,107)"
                      ]
                    ],
                    "line": {
                      "color": "Grey",
                      "width": 0.5
                    },
                    "showscale": false
                  },
                  "mode": "markers",
                  "name": "Feasible Trial",
                  "showlegend": false,
                  "type": "scatter",
                  "x": [
                    "poly",
                    "rbf",
                    "rbf",
                    "linear",
                    "linear",
                    "linear",
                    "linear",
                    "linear",
                    "sigmoid",
                    "linear",
                    "linear",
                    "poly",
                    "linear",
                    "linear",
                    "linear",
                    "sigmoid",
                    "linear",
                    "linear",
                    "linear",
                    "rbf",
                    "linear",
                    "linear",
                    "linear",
                    "linear",
                    "poly",
                    "sigmoid",
                    "linear",
                    "linear",
                    "linear",
                    "linear",
                    "linear",
                    "poly",
                    "linear",
                    "linear",
                    "linear",
                    "rbf",
                    "linear",
                    "linear",
                    "linear",
                    "rbf",
                    "linear",
                    "sigmoid",
                    "linear",
                    "linear",
                    "linear",
                    "linear",
                    "linear",
                    "linear",
                    "poly",
                    "linear",
                    "linear",
                    "linear",
                    "linear",
                    "linear",
                    "linear",
                    "linear",
                    "sigmoid",
                    "linear",
                    "rbf",
                    "linear",
                    "linear",
                    "linear",
                    "linear",
                    "linear",
                    "linear",
                    "linear",
                    "poly",
                    "linear",
                    "linear",
                    "linear",
                    "linear",
                    "linear",
                    "linear",
                    "linear",
                    "sigmoid",
                    "linear",
                    "linear"
                  ],
                  "xaxis": "x5",
                  "y": [
                    0.7392923649906891,
                    0.7728119180633147,
                    0.7132216014897579,
                    0.7895716945996275,
                    0.7877094972067038,
                    0.7895716945996275,
                    0.7877094972067038,
                    0.7839851024208566,
                    0.7467411545623835,
                    0.7839851024208566,
                    0.7858472998137801,
                    0.7094972067039106,
                    0.7895716945996275,
                    0.7877094972067038,
                    0.7858472998137803,
                    0.7541899441340782,
                    0.7858472998137803,
                    0.7858472998137803,
                    0.7858472998137803,
                    0.7094972067039107,
                    0.7877094972067038,
                    0.7858472998137803,
                    0.7877094972067038,
                    0.7821229050279329,
                    0.7132216014897579,
                    0.7653631284916201,
                    0.7877094972067038,
                    0.7858472998137803,
                    0.7895716945996275,
                    0.7839851024208566,
                    0.7858472998137801,
                    0.7113594040968342,
                    0.7858472998137803,
                    0.7839851024208566,
                    0.7895716945996275,
                    0.7579143389199255,
                    0.7877094972067038,
                    0.7858472998137801,
                    0.7839851024208566,
                    0.7523277467411545,
                    0.7858472998137803,
                    0.7001862197392924,
                    0.7895716945996275,
                    0.7895716945996275,
                    0.7895716945996275,
                    0.7858472998137803,
                    0.7858472998137803,
                    0.7895716945996275,
                    0.7430167597765364,
                    0.7858472998137803,
                    0.7895716945996275,
                    0.7821229050279329,
                    0.7895716945996275,
                    0.7877094972067038,
                    0.7895716945996275,
                    0.7877094972067038,
                    0.7672253258845437,
                    0.7877094972067038,
                    0.7541899441340782,
                    0.7858472998137803,
                    0.7858472998137803,
                    0.7895716945996275,
                    0.7895716945996275,
                    0.7877094972067038,
                    0.7877094972067038,
                    0.7858472998137803,
                    0.6722532588454376,
                    0.7858472998137801,
                    0.7895716945996275,
                    0.7895716945996275,
                    0.7895716945996275,
                    0.7877094972067038,
                    0.7858472998137803,
                    0.7895716945996275,
                    0.7672253258845437,
                    0.7858472998137801,
                    0.7858472998137801
                  ],
                  "yaxis": "y5"
                },
                {
                  "marker": {
                    "color": [
                      0,
                      3,
                      5,
                      25,
                      29,
                      34,
                      38,
                      50,
                      69,
                      85,
                      99
                    ],
                    "colorbar": {
                      "title": {
                        "text": "Trial"
                      },
                      "x": 1,
                      "xpad": 40
                    },
                    "colorscale": [
                      [
                        0,
                        "rgb(247,251,255)"
                      ],
                      [
                        0.125,
                        "rgb(222,235,247)"
                      ],
                      [
                        0.25,
                        "rgb(198,219,239)"
                      ],
                      [
                        0.375,
                        "rgb(158,202,225)"
                      ],
                      [
                        0.5,
                        "rgb(107,174,214)"
                      ],
                      [
                        0.625,
                        "rgb(66,146,198)"
                      ],
                      [
                        0.75,
                        "rgb(33,113,181)"
                      ],
                      [
                        0.875,
                        "rgb(8,81,156)"
                      ],
                      [
                        1,
                        "rgb(8,48,107)"
                      ]
                    ],
                    "line": {
                      "color": "Grey",
                      "width": 0.5
                    },
                    "showscale": false
                  },
                  "mode": "markers",
                  "name": "Feasible Trial",
                  "showlegend": false,
                  "type": "scatter",
                  "x": [
                    0.024099349174660747,
                    0.01123388248730682,
                    0.12663682831192488,
                    0.29941412157694536,
                    0.07453296480536425,
                    0.03009265776092813,
                    0.2664630893891949,
                    0.012076661520722953,
                    0.10660266463782943,
                    0.03247960176879983,
                    0.04815144498026561
                  ],
                  "xaxis": "x6",
                  "y": [
                    0.7616387337057727,
                    0.7486033519553073,
                    0.7355679702048418,
                    0.7299813780260708,
                    0.7672253258845437,
                    0.6983240223463687,
                    0.7374301675977654,
                    0.7765363128491621,
                    0.7523277467411545,
                    0.7635009310986964,
                    0.7597765363128491
                  ],
                  "yaxis": "y6"
                },
                {
                  "marker": {
                    "color": [
                      0,
                      1,
                      2,
                      3,
                      4,
                      5,
                      6,
                      8,
                      10,
                      25,
                      29,
                      34,
                      37,
                      38,
                      40,
                      46,
                      50,
                      58,
                      69,
                      77,
                      85,
                      90,
                      99
                    ],
                    "colorbar": {
                      "title": {
                        "text": "Trial"
                      },
                      "x": 1,
                      "xpad": 40
                    },
                    "colorscale": [
                      [
                        0,
                        "rgb(247,251,255)"
                      ],
                      [
                        0.125,
                        "rgb(222,235,247)"
                      ],
                      [
                        0.25,
                        "rgb(198,219,239)"
                      ],
                      [
                        0.375,
                        "rgb(158,202,225)"
                      ],
                      [
                        0.5,
                        "rgb(107,174,214)"
                      ],
                      [
                        0.625,
                        "rgb(66,146,198)"
                      ],
                      [
                        0.75,
                        "rgb(33,113,181)"
                      ],
                      [
                        0.875,
                        "rgb(8,81,156)"
                      ],
                      [
                        1,
                        "rgb(8,48,107)"
                      ]
                    ],
                    "line": {
                      "color": "Grey",
                      "width": 0.5
                    },
                    "showscale": false
                  },
                  "mode": "markers",
                  "name": "Feasible Trial",
                  "showlegend": false,
                  "type": "scatter",
                  "x": [
                    14,
                    10,
                    17,
                    11,
                    20,
                    17,
                    9,
                    6,
                    3,
                    4,
                    7,
                    14,
                    14,
                    20,
                    6,
                    17,
                    8,
                    12,
                    5,
                    12,
                    18,
                    15,
                    3
                  ],
                  "xaxis": "x7",
                  "y": [
                    0.7616387337057727,
                    0.7523277467411545,
                    0.7579143389199254,
                    0.7486033519553073,
                    0.7709497206703911,
                    0.7355679702048418,
                    0.7728119180633147,
                    0.7690875232774674,
                    0.7486033519553073,
                    0.7299813780260708,
                    0.7672253258845437,
                    0.6983240223463687,
                    0.7746741154562384,
                    0.7374301675977654,
                    0.7783985102420857,
                    0.7597765363128491,
                    0.7765363128491621,
                    0.7709497206703911,
                    0.7523277467411545,
                    0.7690875232774674,
                    0.7635009310986964,
                    0.7635009310986964,
                    0.7597765363128491
                  ],
                  "yaxis": "y7"
                },
                {
                  "marker": {
                    "color": [
                      0,
                      1,
                      2,
                      3,
                      4,
                      5,
                      6,
                      8,
                      10,
                      25,
                      29,
                      34,
                      37,
                      38,
                      40,
                      46,
                      50,
                      58,
                      69,
                      77,
                      85,
                      90,
                      99
                    ],
                    "colorbar": {
                      "title": {
                        "text": "Trial"
                      },
                      "x": 1,
                      "xpad": 40
                    },
                    "colorscale": [
                      [
                        0,
                        "rgb(247,251,255)"
                      ],
                      [
                        0.125,
                        "rgb(222,235,247)"
                      ],
                      [
                        0.25,
                        "rgb(198,219,239)"
                      ],
                      [
                        0.375,
                        "rgb(158,202,225)"
                      ],
                      [
                        0.5,
                        "rgb(107,174,214)"
                      ],
                      [
                        0.625,
                        "rgb(66,146,198)"
                      ],
                      [
                        0.75,
                        "rgb(33,113,181)"
                      ],
                      [
                        0.875,
                        "rgb(8,81,156)"
                      ],
                      [
                        1,
                        "rgb(8,48,107)"
                      ]
                    ],
                    "line": {
                      "color": "Grey",
                      "width": 0.5
                    },
                    "showscale": false
                  },
                  "mode": "markers",
                  "name": "Feasible Trial",
                  "showlegend": false,
                  "type": "scatter",
                  "x": [
                    6,
                    9,
                    6,
                    5,
                    5,
                    6,
                    4,
                    3,
                    1,
                    10,
                    8,
                    1,
                    8,
                    3,
                    8,
                    2,
                    10,
                    7,
                    4,
                    2,
                    7,
                    9,
                    4
                  ],
                  "xaxis": "x8",
                  "y": [
                    0.7616387337057727,
                    0.7523277467411545,
                    0.7579143389199254,
                    0.7486033519553073,
                    0.7709497206703911,
                    0.7355679702048418,
                    0.7728119180633147,
                    0.7690875232774674,
                    0.7486033519553073,
                    0.7299813780260708,
                    0.7672253258845437,
                    0.6983240223463687,
                    0.7746741154562384,
                    0.7374301675977654,
                    0.7783985102420857,
                    0.7597765363128491,
                    0.7765363128491621,
                    0.7709497206703911,
                    0.7523277467411545,
                    0.7690875232774674,
                    0.7635009310986964,
                    0.7635009310986964,
                    0.7597765363128491
                  ],
                  "yaxis": "y8"
                },
                {
                  "marker": {
                    "color": [
                      0,
                      1,
                      2,
                      3,
                      4,
                      5,
                      6,
                      8,
                      10,
                      25,
                      29,
                      34,
                      37,
                      38,
                      40,
                      46,
                      50,
                      58,
                      69,
                      77,
                      85,
                      90,
                      99
                    ],
                    "colorbar": {
                      "title": {
                        "text": "Trial"
                      },
                      "x": 1,
                      "xpad": 40
                    },
                    "colorscale": [
                      [
                        0,
                        "rgb(247,251,255)"
                      ],
                      [
                        0.125,
                        "rgb(222,235,247)"
                      ],
                      [
                        0.25,
                        "rgb(198,219,239)"
                      ],
                      [
                        0.375,
                        "rgb(158,202,225)"
                      ],
                      [
                        0.5,
                        "rgb(107,174,214)"
                      ],
                      [
                        0.625,
                        "rgb(66,146,198)"
                      ],
                      [
                        0.75,
                        "rgb(33,113,181)"
                      ],
                      [
                        0.875,
                        "rgb(8,81,156)"
                      ],
                      [
                        1,
                        "rgb(8,48,107)"
                      ]
                    ],
                    "line": {
                      "color": "Grey",
                      "width": 0.5
                    },
                    "showscale": false
                  },
                  "mode": "markers",
                  "name": "Feasible Trial",
                  "showlegend": false,
                  "type": "scatter",
                  "x": [
                    9,
                    9,
                    7,
                    6,
                    2,
                    2,
                    4,
                    8,
                    5,
                    10,
                    4,
                    3,
                    6,
                    10,
                    7,
                    4,
                    8,
                    5,
                    3,
                    7,
                    5,
                    9,
                    3
                  ],
                  "xaxis": "x9",
                  "y": [
                    0.7616387337057727,
                    0.7523277467411545,
                    0.7579143389199254,
                    0.7486033519553073,
                    0.7709497206703911,
                    0.7355679702048418,
                    0.7728119180633147,
                    0.7690875232774674,
                    0.7486033519553073,
                    0.7299813780260708,
                    0.7672253258845437,
                    0.6983240223463687,
                    0.7746741154562384,
                    0.7374301675977654,
                    0.7783985102420857,
                    0.7597765363128491,
                    0.7765363128491621,
                    0.7709497206703911,
                    0.7523277467411545,
                    0.7690875232774674,
                    0.7635009310986964,
                    0.7635009310986964,
                    0.7597765363128491
                  ],
                  "yaxis": "y9"
                },
                {
                  "marker": {
                    "color": [
                      0,
                      1,
                      2,
                      3,
                      4,
                      5,
                      6,
                      8,
                      10,
                      25,
                      29,
                      34,
                      37,
                      38,
                      40,
                      46,
                      50,
                      58,
                      69,
                      77,
                      85,
                      90,
                      99
                    ],
                    "colorbar": {
                      "title": {
                        "text": "Trial"
                      },
                      "x": 1,
                      "xpad": 40
                    },
                    "colorscale": [
                      [
                        0,
                        "rgb(247,251,255)"
                      ],
                      [
                        0.125,
                        "rgb(222,235,247)"
                      ],
                      [
                        0.25,
                        "rgb(198,219,239)"
                      ],
                      [
                        0.375,
                        "rgb(158,202,225)"
                      ],
                      [
                        0.5,
                        "rgb(107,174,214)"
                      ],
                      [
                        0.625,
                        "rgb(66,146,198)"
                      ],
                      [
                        0.75,
                        "rgb(33,113,181)"
                      ],
                      [
                        0.875,
                        "rgb(8,81,156)"
                      ],
                      [
                        1,
                        "rgb(8,48,107)"
                      ]
                    ],
                    "line": {
                      "color": "Grey",
                      "width": 0.5
                    },
                    "showscale": false
                  },
                  "mode": "markers",
                  "name": "Feasible Trial",
                  "showlegend": false,
                  "type": "scatter",
                  "x": [
                    162,
                    275,
                    175,
                    171,
                    118,
                    142,
                    175,
                    65,
                    253,
                    237,
                    50,
                    222,
                    213,
                    297,
                    91,
                    104,
                    127,
                    198,
                    298,
                    258,
                    81,
                    142,
                    275
                  ],
                  "xaxis": "x10",
                  "y": [
                    0.7616387337057727,
                    0.7523277467411545,
                    0.7579143389199254,
                    0.7486033519553073,
                    0.7709497206703911,
                    0.7355679702048418,
                    0.7728119180633147,
                    0.7690875232774674,
                    0.7486033519553073,
                    0.7299813780260708,
                    0.7672253258845437,
                    0.6983240223463687,
                    0.7746741154562384,
                    0.7374301675977654,
                    0.7783985102420857,
                    0.7597765363128491,
                    0.7765363128491621,
                    0.7709497206703911,
                    0.7523277467411545,
                    0.7690875232774674,
                    0.7635009310986964,
                    0.7635009310986964,
                    0.7597765363128491
                  ],
                  "yaxis": "y10"
                }
              ],
              "layout": {
                "template": {
                  "data": {
                    "bar": [
                      {
                        "error_x": {
                          "color": "#2a3f5f"
                        },
                        "error_y": {
                          "color": "#2a3f5f"
                        },
                        "marker": {
                          "line": {
                            "color": "#E5ECF6",
                            "width": 0.5
                          },
                          "pattern": {
                            "fillmode": "overlay",
                            "size": 10,
                            "solidity": 0.2
                          }
                        },
                        "type": "bar"
                      }
                    ],
                    "barpolar": [
                      {
                        "marker": {
                          "line": {
                            "color": "#E5ECF6",
                            "width": 0.5
                          },
                          "pattern": {
                            "fillmode": "overlay",
                            "size": 10,
                            "solidity": 0.2
                          }
                        },
                        "type": "barpolar"
                      }
                    ],
                    "carpet": [
                      {
                        "aaxis": {
                          "endlinecolor": "#2a3f5f",
                          "gridcolor": "white",
                          "linecolor": "white",
                          "minorgridcolor": "white",
                          "startlinecolor": "#2a3f5f"
                        },
                        "baxis": {
                          "endlinecolor": "#2a3f5f",
                          "gridcolor": "white",
                          "linecolor": "white",
                          "minorgridcolor": "white",
                          "startlinecolor": "#2a3f5f"
                        },
                        "type": "carpet"
                      }
                    ],
                    "choropleth": [
                      {
                        "colorbar": {
                          "outlinewidth": 0,
                          "ticks": ""
                        },
                        "type": "choropleth"
                      }
                    ],
                    "contour": [
                      {
                        "colorbar": {
                          "outlinewidth": 0,
                          "ticks": ""
                        },
                        "colorscale": [
                          [
                            0,
                            "#0d0887"
                          ],
                          [
                            0.1111111111111111,
                            "#46039f"
                          ],
                          [
                            0.2222222222222222,
                            "#7201a8"
                          ],
                          [
                            0.3333333333333333,
                            "#9c179e"
                          ],
                          [
                            0.4444444444444444,
                            "#bd3786"
                          ],
                          [
                            0.5555555555555556,
                            "#d8576b"
                          ],
                          [
                            0.6666666666666666,
                            "#ed7953"
                          ],
                          [
                            0.7777777777777778,
                            "#fb9f3a"
                          ],
                          [
                            0.8888888888888888,
                            "#fdca26"
                          ],
                          [
                            1,
                            "#f0f921"
                          ]
                        ],
                        "type": "contour"
                      }
                    ],
                    "contourcarpet": [
                      {
                        "colorbar": {
                          "outlinewidth": 0,
                          "ticks": ""
                        },
                        "type": "contourcarpet"
                      }
                    ],
                    "heatmap": [
                      {
                        "colorbar": {
                          "outlinewidth": 0,
                          "ticks": ""
                        },
                        "colorscale": [
                          [
                            0,
                            "#0d0887"
                          ],
                          [
                            0.1111111111111111,
                            "#46039f"
                          ],
                          [
                            0.2222222222222222,
                            "#7201a8"
                          ],
                          [
                            0.3333333333333333,
                            "#9c179e"
                          ],
                          [
                            0.4444444444444444,
                            "#bd3786"
                          ],
                          [
                            0.5555555555555556,
                            "#d8576b"
                          ],
                          [
                            0.6666666666666666,
                            "#ed7953"
                          ],
                          [
                            0.7777777777777778,
                            "#fb9f3a"
                          ],
                          [
                            0.8888888888888888,
                            "#fdca26"
                          ],
                          [
                            1,
                            "#f0f921"
                          ]
                        ],
                        "type": "heatmap"
                      }
                    ],
                    "histogram": [
                      {
                        "marker": {
                          "pattern": {
                            "fillmode": "overlay",
                            "size": 10,
                            "solidity": 0.2
                          }
                        },
                        "type": "histogram"
                      }
                    ],
                    "histogram2d": [
                      {
                        "colorbar": {
                          "outlinewidth": 0,
                          "ticks": ""
                        },
                        "colorscale": [
                          [
                            0,
                            "#0d0887"
                          ],
                          [
                            0.1111111111111111,
                            "#46039f"
                          ],
                          [
                            0.2222222222222222,
                            "#7201a8"
                          ],
                          [
                            0.3333333333333333,
                            "#9c179e"
                          ],
                          [
                            0.4444444444444444,
                            "#bd3786"
                          ],
                          [
                            0.5555555555555556,
                            "#d8576b"
                          ],
                          [
                            0.6666666666666666,
                            "#ed7953"
                          ],
                          [
                            0.7777777777777778,
                            "#fb9f3a"
                          ],
                          [
                            0.8888888888888888,
                            "#fdca26"
                          ],
                          [
                            1,
                            "#f0f921"
                          ]
                        ],
                        "type": "histogram2d"
                      }
                    ],
                    "histogram2dcontour": [
                      {
                        "colorbar": {
                          "outlinewidth": 0,
                          "ticks": ""
                        },
                        "colorscale": [
                          [
                            0,
                            "#0d0887"
                          ],
                          [
                            0.1111111111111111,
                            "#46039f"
                          ],
                          [
                            0.2222222222222222,
                            "#7201a8"
                          ],
                          [
                            0.3333333333333333,
                            "#9c179e"
                          ],
                          [
                            0.4444444444444444,
                            "#bd3786"
                          ],
                          [
                            0.5555555555555556,
                            "#d8576b"
                          ],
                          [
                            0.6666666666666666,
                            "#ed7953"
                          ],
                          [
                            0.7777777777777778,
                            "#fb9f3a"
                          ],
                          [
                            0.8888888888888888,
                            "#fdca26"
                          ],
                          [
                            1,
                            "#f0f921"
                          ]
                        ],
                        "type": "histogram2dcontour"
                      }
                    ],
                    "mesh3d": [
                      {
                        "colorbar": {
                          "outlinewidth": 0,
                          "ticks": ""
                        },
                        "type": "mesh3d"
                      }
                    ],
                    "parcoords": [
                      {
                        "line": {
                          "colorbar": {
                            "outlinewidth": 0,
                            "ticks": ""
                          }
                        },
                        "type": "parcoords"
                      }
                    ],
                    "pie": [
                      {
                        "automargin": true,
                        "type": "pie"
                      }
                    ],
                    "scatter": [
                      {
                        "fillpattern": {
                          "fillmode": "overlay",
                          "size": 10,
                          "solidity": 0.2
                        },
                        "type": "scatter"
                      }
                    ],
                    "scatter3d": [
                      {
                        "line": {
                          "colorbar": {
                            "outlinewidth": 0,
                            "ticks": ""
                          }
                        },
                        "marker": {
                          "colorbar": {
                            "outlinewidth": 0,
                            "ticks": ""
                          }
                        },
                        "type": "scatter3d"
                      }
                    ],
                    "scattercarpet": [
                      {
                        "marker": {
                          "colorbar": {
                            "outlinewidth": 0,
                            "ticks": ""
                          }
                        },
                        "type": "scattercarpet"
                      }
                    ],
                    "scattergeo": [
                      {
                        "marker": {
                          "colorbar": {
                            "outlinewidth": 0,
                            "ticks": ""
                          }
                        },
                        "type": "scattergeo"
                      }
                    ],
                    "scattergl": [
                      {
                        "marker": {
                          "colorbar": {
                            "outlinewidth": 0,
                            "ticks": ""
                          }
                        },
                        "type": "scattergl"
                      }
                    ],
                    "scattermap": [
                      {
                        "marker": {
                          "colorbar": {
                            "outlinewidth": 0,
                            "ticks": ""
                          }
                        },
                        "type": "scattermap"
                      }
                    ],
                    "scattermapbox": [
                      {
                        "marker": {
                          "colorbar": {
                            "outlinewidth": 0,
                            "ticks": ""
                          }
                        },
                        "type": "scattermapbox"
                      }
                    ],
                    "scatterpolar": [
                      {
                        "marker": {
                          "colorbar": {
                            "outlinewidth": 0,
                            "ticks": ""
                          }
                        },
                        "type": "scatterpolar"
                      }
                    ],
                    "scatterpolargl": [
                      {
                        "marker": {
                          "colorbar": {
                            "outlinewidth": 0,
                            "ticks": ""
                          }
                        },
                        "type": "scatterpolargl"
                      }
                    ],
                    "scatterternary": [
                      {
                        "marker": {
                          "colorbar": {
                            "outlinewidth": 0,
                            "ticks": ""
                          }
                        },
                        "type": "scatterternary"
                      }
                    ],
                    "surface": [
                      {
                        "colorbar": {
                          "outlinewidth": 0,
                          "ticks": ""
                        },
                        "colorscale": [
                          [
                            0,
                            "#0d0887"
                          ],
                          [
                            0.1111111111111111,
                            "#46039f"
                          ],
                          [
                            0.2222222222222222,
                            "#7201a8"
                          ],
                          [
                            0.3333333333333333,
                            "#9c179e"
                          ],
                          [
                            0.4444444444444444,
                            "#bd3786"
                          ],
                          [
                            0.5555555555555556,
                            "#d8576b"
                          ],
                          [
                            0.6666666666666666,
                            "#ed7953"
                          ],
                          [
                            0.7777777777777778,
                            "#fb9f3a"
                          ],
                          [
                            0.8888888888888888,
                            "#fdca26"
                          ],
                          [
                            1,
                            "#f0f921"
                          ]
                        ],
                        "type": "surface"
                      }
                    ],
                    "table": [
                      {
                        "cells": {
                          "fill": {
                            "color": "#EBF0F8"
                          },
                          "line": {
                            "color": "white"
                          }
                        },
                        "header": {
                          "fill": {
                            "color": "#C8D4E3"
                          },
                          "line": {
                            "color": "white"
                          }
                        },
                        "type": "table"
                      }
                    ]
                  },
                  "layout": {
                    "annotationdefaults": {
                      "arrowcolor": "#2a3f5f",
                      "arrowhead": 0,
                      "arrowwidth": 1
                    },
                    "autotypenumbers": "strict",
                    "coloraxis": {
                      "colorbar": {
                        "outlinewidth": 0,
                        "ticks": ""
                      }
                    },
                    "colorscale": {
                      "diverging": [
                        [
                          0,
                          "#8e0152"
                        ],
                        [
                          0.1,
                          "#c51b7d"
                        ],
                        [
                          0.2,
                          "#de77ae"
                        ],
                        [
                          0.3,
                          "#f1b6da"
                        ],
                        [
                          0.4,
                          "#fde0ef"
                        ],
                        [
                          0.5,
                          "#f7f7f7"
                        ],
                        [
                          0.6,
                          "#e6f5d0"
                        ],
                        [
                          0.7,
                          "#b8e186"
                        ],
                        [
                          0.8,
                          "#7fbc41"
                        ],
                        [
                          0.9,
                          "#4d9221"
                        ],
                        [
                          1,
                          "#276419"
                        ]
                      ],
                      "sequential": [
                        [
                          0,
                          "#0d0887"
                        ],
                        [
                          0.1111111111111111,
                          "#46039f"
                        ],
                        [
                          0.2222222222222222,
                          "#7201a8"
                        ],
                        [
                          0.3333333333333333,
                          "#9c179e"
                        ],
                        [
                          0.4444444444444444,
                          "#bd3786"
                        ],
                        [
                          0.5555555555555556,
                          "#d8576b"
                        ],
                        [
                          0.6666666666666666,
                          "#ed7953"
                        ],
                        [
                          0.7777777777777778,
                          "#fb9f3a"
                        ],
                        [
                          0.8888888888888888,
                          "#fdca26"
                        ],
                        [
                          1,
                          "#f0f921"
                        ]
                      ],
                      "sequentialminus": [
                        [
                          0,
                          "#0d0887"
                        ],
                        [
                          0.1111111111111111,
                          "#46039f"
                        ],
                        [
                          0.2222222222222222,
                          "#7201a8"
                        ],
                        [
                          0.3333333333333333,
                          "#9c179e"
                        ],
                        [
                          0.4444444444444444,
                          "#bd3786"
                        ],
                        [
                          0.5555555555555556,
                          "#d8576b"
                        ],
                        [
                          0.6666666666666666,
                          "#ed7953"
                        ],
                        [
                          0.7777777777777778,
                          "#fb9f3a"
                        ],
                        [
                          0.8888888888888888,
                          "#fdca26"
                        ],
                        [
                          1,
                          "#f0f921"
                        ]
                      ]
                    },
                    "colorway": [
                      "#636efa",
                      "#EF553B",
                      "#00cc96",
                      "#ab63fa",
                      "#FFA15A",
                      "#19d3f3",
                      "#FF6692",
                      "#B6E880",
                      "#FF97FF",
                      "#FECB52"
                    ],
                    "font": {
                      "color": "#2a3f5f"
                    },
                    "geo": {
                      "bgcolor": "white",
                      "lakecolor": "white",
                      "landcolor": "#E5ECF6",
                      "showlakes": true,
                      "showland": true,
                      "subunitcolor": "white"
                    },
                    "hoverlabel": {
                      "align": "left"
                    },
                    "hovermode": "closest",
                    "mapbox": {
                      "style": "light"
                    },
                    "paper_bgcolor": "white",
                    "plot_bgcolor": "#E5ECF6",
                    "polar": {
                      "angularaxis": {
                        "gridcolor": "white",
                        "linecolor": "white",
                        "ticks": ""
                      },
                      "bgcolor": "#E5ECF6",
                      "radialaxis": {
                        "gridcolor": "white",
                        "linecolor": "white",
                        "ticks": ""
                      }
                    },
                    "scene": {
                      "xaxis": {
                        "backgroundcolor": "#E5ECF6",
                        "gridcolor": "white",
                        "gridwidth": 2,
                        "linecolor": "white",
                        "showbackground": true,
                        "ticks": "",
                        "zerolinecolor": "white"
                      },
                      "yaxis": {
                        "backgroundcolor": "#E5ECF6",
                        "gridcolor": "white",
                        "gridwidth": 2,
                        "linecolor": "white",
                        "showbackground": true,
                        "ticks": "",
                        "zerolinecolor": "white"
                      },
                      "zaxis": {
                        "backgroundcolor": "#E5ECF6",
                        "gridcolor": "white",
                        "gridwidth": 2,
                        "linecolor": "white",
                        "showbackground": true,
                        "ticks": "",
                        "zerolinecolor": "white"
                      }
                    },
                    "shapedefaults": {
                      "line": {
                        "color": "#2a3f5f"
                      }
                    },
                    "ternary": {
                      "aaxis": {
                        "gridcolor": "white",
                        "linecolor": "white",
                        "ticks": ""
                      },
                      "baxis": {
                        "gridcolor": "white",
                        "linecolor": "white",
                        "ticks": ""
                      },
                      "bgcolor": "#E5ECF6",
                      "caxis": {
                        "gridcolor": "white",
                        "linecolor": "white",
                        "ticks": ""
                      }
                    },
                    "title": {
                      "x": 0.05
                    },
                    "xaxis": {
                      "automargin": true,
                      "gridcolor": "white",
                      "linecolor": "white",
                      "ticks": "",
                      "title": {
                        "standoff": 15
                      },
                      "zerolinecolor": "white",
                      "zerolinewidth": 2
                    },
                    "yaxis": {
                      "automargin": true,
                      "gridcolor": "white",
                      "linecolor": "white",
                      "ticks": "",
                      "title": {
                        "standoff": 15
                      },
                      "zerolinecolor": "white",
                      "zerolinewidth": 2
                    }
                  }
                },
                "title": {
                  "text": "Slice Plot"
                },
                "width": 3000,
                "xaxis": {
                  "anchor": "y",
                  "domain": [
                    0,
                    0.082
                  ],
                  "title": {
                    "text": "C"
                  },
                  "type": "log"
                },
                "xaxis10": {
                  "anchor": "y10",
                  "domain": [
                    0.9179999999999999,
                    0.9999999999999999
                  ],
                  "title": {
                    "text": "n_estimators"
                  }
                },
                "xaxis2": {
                  "anchor": "y2",
                  "categoryarray": [
                    true,
                    false
                  ],
                  "categoryorder": "array",
                  "domain": [
                    0.10200000000000001,
                    0.184
                  ],
                  "title": {
                    "text": "bootstrap"
                  },
                  "type": "category"
                },
                "xaxis3": {
                  "anchor": "y3",
                  "categoryarray": [
                    "SVM",
                    "RandomForest",
                    "GradientBoosting"
                  ],
                  "categoryorder": "array",
                  "domain": [
                    0.20400000000000001,
                    0.28600000000000003
                  ],
                  "title": {
                    "text": "classifier"
                  },
                  "type": "category"
                },
                "xaxis4": {
                  "anchor": "y4",
                  "categoryarray": [
                    "scale",
                    "auto"
                  ],
                  "categoryorder": "array",
                  "domain": [
                    0.306,
                    0.388
                  ],
                  "title": {
                    "text": "gamma"
                  },
                  "type": "category"
                },
                "xaxis5": {
                  "anchor": "y5",
                  "categoryarray": [
                    "linear",
                    "rbf",
                    "poly",
                    "sigmoid"
                  ],
                  "categoryorder": "array",
                  "domain": [
                    0.40800000000000003,
                    0.49000000000000005
                  ],
                  "title": {
                    "text": "kernel"
                  },
                  "type": "category"
                },
                "xaxis6": {
                  "anchor": "y6",
                  "domain": [
                    0.51,
                    0.592
                  ],
                  "title": {
                    "text": "learning_rate"
                  },
                  "type": "log"
                },
                "xaxis7": {
                  "anchor": "y7",
                  "domain": [
                    0.6120000000000001,
                    0.6940000000000001
                  ],
                  "title": {
                    "text": "max_depth"
                  }
                },
                "xaxis8": {
                  "anchor": "y8",
                  "domain": [
                    0.7140000000000001,
                    0.796
                  ],
                  "title": {
                    "text": "min_samples_leaf"
                  }
                },
                "xaxis9": {
                  "anchor": "y9",
                  "domain": [
                    0.8160000000000001,
                    0.898
                  ],
                  "title": {
                    "text": "min_samples_split"
                  }
                },
                "yaxis": {
                  "anchor": "x",
                  "domain": [
                    0,
                    1
                  ],
                  "title": {
                    "text": "Objective Value"
                  }
                },
                "yaxis10": {
                  "anchor": "x10",
                  "domain": [
                    0,
                    1
                  ],
                  "matches": "y",
                  "showticklabels": false
                },
                "yaxis2": {
                  "anchor": "x2",
                  "domain": [
                    0,
                    1
                  ],
                  "matches": "y",
                  "showticklabels": false
                },
                "yaxis3": {
                  "anchor": "x3",
                  "domain": [
                    0,
                    1
                  ],
                  "matches": "y",
                  "showticklabels": false
                },
                "yaxis4": {
                  "anchor": "x4",
                  "domain": [
                    0,
                    1
                  ],
                  "matches": "y",
                  "showticklabels": false
                },
                "yaxis5": {
                  "anchor": "x5",
                  "domain": [
                    0,
                    1
                  ],
                  "matches": "y",
                  "showticklabels": false
                },
                "yaxis6": {
                  "anchor": "x6",
                  "domain": [
                    0,
                    1
                  ],
                  "matches": "y",
                  "showticklabels": false
                },
                "yaxis7": {
                  "anchor": "x7",
                  "domain": [
                    0,
                    1
                  ],
                  "matches": "y",
                  "showticklabels": false
                },
                "yaxis8": {
                  "anchor": "x8",
                  "domain": [
                    0,
                    1
                  ],
                  "matches": "y",
                  "showticklabels": false
                },
                "yaxis9": {
                  "anchor": "x9",
                  "domain": [
                    0,
                    1
                  ],
                  "matches": "y",
                  "showticklabels": false
                }
              }
            }
          },
          "metadata": {},
          "output_type": "display_data"
        }
      ],
      "source": [
        "# 3. Slice Plot\n",
        "plot_slice(study).show()"
      ]
    },
    {
      "cell_type": "code",
      "execution_count": 32,
      "metadata": {
        "colab": {
          "base_uri": "https://localhost:8080/",
          "height": 542
        },
        "id": "rUhujoemC4hI",
        "outputId": "1928b7b9-16f5-4ac1-8370-a94e5e639bc6"
      },
      "outputs": [
        {
          "data": {
            "application/vnd.plotly.v1+json": {
              "config": {
                "plotlyServerURL": "https://plot.ly"
              },
              "data": [
                {
                  "cliponaxis": false,
                  "hovertemplate": [
                    "classifier (CategoricalDistribution): 1.0<extra></extra>"
                  ],
                  "name": "Objective Value",
                  "orientation": "h",
                  "text": [
                    "1.00"
                  ],
                  "textposition": "outside",
                  "type": "bar",
                  "x": [
                    1
                  ],
                  "y": [
                    "classifier"
                  ]
                }
              ],
              "layout": {
                "template": {
                  "data": {
                    "bar": [
                      {
                        "error_x": {
                          "color": "#2a3f5f"
                        },
                        "error_y": {
                          "color": "#2a3f5f"
                        },
                        "marker": {
                          "line": {
                            "color": "#E5ECF6",
                            "width": 0.5
                          },
                          "pattern": {
                            "fillmode": "overlay",
                            "size": 10,
                            "solidity": 0.2
                          }
                        },
                        "type": "bar"
                      }
                    ],
                    "barpolar": [
                      {
                        "marker": {
                          "line": {
                            "color": "#E5ECF6",
                            "width": 0.5
                          },
                          "pattern": {
                            "fillmode": "overlay",
                            "size": 10,
                            "solidity": 0.2
                          }
                        },
                        "type": "barpolar"
                      }
                    ],
                    "carpet": [
                      {
                        "aaxis": {
                          "endlinecolor": "#2a3f5f",
                          "gridcolor": "white",
                          "linecolor": "white",
                          "minorgridcolor": "white",
                          "startlinecolor": "#2a3f5f"
                        },
                        "baxis": {
                          "endlinecolor": "#2a3f5f",
                          "gridcolor": "white",
                          "linecolor": "white",
                          "minorgridcolor": "white",
                          "startlinecolor": "#2a3f5f"
                        },
                        "type": "carpet"
                      }
                    ],
                    "choropleth": [
                      {
                        "colorbar": {
                          "outlinewidth": 0,
                          "ticks": ""
                        },
                        "type": "choropleth"
                      }
                    ],
                    "contour": [
                      {
                        "colorbar": {
                          "outlinewidth": 0,
                          "ticks": ""
                        },
                        "colorscale": [
                          [
                            0,
                            "#0d0887"
                          ],
                          [
                            0.1111111111111111,
                            "#46039f"
                          ],
                          [
                            0.2222222222222222,
                            "#7201a8"
                          ],
                          [
                            0.3333333333333333,
                            "#9c179e"
                          ],
                          [
                            0.4444444444444444,
                            "#bd3786"
                          ],
                          [
                            0.5555555555555556,
                            "#d8576b"
                          ],
                          [
                            0.6666666666666666,
                            "#ed7953"
                          ],
                          [
                            0.7777777777777778,
                            "#fb9f3a"
                          ],
                          [
                            0.8888888888888888,
                            "#fdca26"
                          ],
                          [
                            1,
                            "#f0f921"
                          ]
                        ],
                        "type": "contour"
                      }
                    ],
                    "contourcarpet": [
                      {
                        "colorbar": {
                          "outlinewidth": 0,
                          "ticks": ""
                        },
                        "type": "contourcarpet"
                      }
                    ],
                    "heatmap": [
                      {
                        "colorbar": {
                          "outlinewidth": 0,
                          "ticks": ""
                        },
                        "colorscale": [
                          [
                            0,
                            "#0d0887"
                          ],
                          [
                            0.1111111111111111,
                            "#46039f"
                          ],
                          [
                            0.2222222222222222,
                            "#7201a8"
                          ],
                          [
                            0.3333333333333333,
                            "#9c179e"
                          ],
                          [
                            0.4444444444444444,
                            "#bd3786"
                          ],
                          [
                            0.5555555555555556,
                            "#d8576b"
                          ],
                          [
                            0.6666666666666666,
                            "#ed7953"
                          ],
                          [
                            0.7777777777777778,
                            "#fb9f3a"
                          ],
                          [
                            0.8888888888888888,
                            "#fdca26"
                          ],
                          [
                            1,
                            "#f0f921"
                          ]
                        ],
                        "type": "heatmap"
                      }
                    ],
                    "histogram": [
                      {
                        "marker": {
                          "pattern": {
                            "fillmode": "overlay",
                            "size": 10,
                            "solidity": 0.2
                          }
                        },
                        "type": "histogram"
                      }
                    ],
                    "histogram2d": [
                      {
                        "colorbar": {
                          "outlinewidth": 0,
                          "ticks": ""
                        },
                        "colorscale": [
                          [
                            0,
                            "#0d0887"
                          ],
                          [
                            0.1111111111111111,
                            "#46039f"
                          ],
                          [
                            0.2222222222222222,
                            "#7201a8"
                          ],
                          [
                            0.3333333333333333,
                            "#9c179e"
                          ],
                          [
                            0.4444444444444444,
                            "#bd3786"
                          ],
                          [
                            0.5555555555555556,
                            "#d8576b"
                          ],
                          [
                            0.6666666666666666,
                            "#ed7953"
                          ],
                          [
                            0.7777777777777778,
                            "#fb9f3a"
                          ],
                          [
                            0.8888888888888888,
                            "#fdca26"
                          ],
                          [
                            1,
                            "#f0f921"
                          ]
                        ],
                        "type": "histogram2d"
                      }
                    ],
                    "histogram2dcontour": [
                      {
                        "colorbar": {
                          "outlinewidth": 0,
                          "ticks": ""
                        },
                        "colorscale": [
                          [
                            0,
                            "#0d0887"
                          ],
                          [
                            0.1111111111111111,
                            "#46039f"
                          ],
                          [
                            0.2222222222222222,
                            "#7201a8"
                          ],
                          [
                            0.3333333333333333,
                            "#9c179e"
                          ],
                          [
                            0.4444444444444444,
                            "#bd3786"
                          ],
                          [
                            0.5555555555555556,
                            "#d8576b"
                          ],
                          [
                            0.6666666666666666,
                            "#ed7953"
                          ],
                          [
                            0.7777777777777778,
                            "#fb9f3a"
                          ],
                          [
                            0.8888888888888888,
                            "#fdca26"
                          ],
                          [
                            1,
                            "#f0f921"
                          ]
                        ],
                        "type": "histogram2dcontour"
                      }
                    ],
                    "mesh3d": [
                      {
                        "colorbar": {
                          "outlinewidth": 0,
                          "ticks": ""
                        },
                        "type": "mesh3d"
                      }
                    ],
                    "parcoords": [
                      {
                        "line": {
                          "colorbar": {
                            "outlinewidth": 0,
                            "ticks": ""
                          }
                        },
                        "type": "parcoords"
                      }
                    ],
                    "pie": [
                      {
                        "automargin": true,
                        "type": "pie"
                      }
                    ],
                    "scatter": [
                      {
                        "fillpattern": {
                          "fillmode": "overlay",
                          "size": 10,
                          "solidity": 0.2
                        },
                        "type": "scatter"
                      }
                    ],
                    "scatter3d": [
                      {
                        "line": {
                          "colorbar": {
                            "outlinewidth": 0,
                            "ticks": ""
                          }
                        },
                        "marker": {
                          "colorbar": {
                            "outlinewidth": 0,
                            "ticks": ""
                          }
                        },
                        "type": "scatter3d"
                      }
                    ],
                    "scattercarpet": [
                      {
                        "marker": {
                          "colorbar": {
                            "outlinewidth": 0,
                            "ticks": ""
                          }
                        },
                        "type": "scattercarpet"
                      }
                    ],
                    "scattergeo": [
                      {
                        "marker": {
                          "colorbar": {
                            "outlinewidth": 0,
                            "ticks": ""
                          }
                        },
                        "type": "scattergeo"
                      }
                    ],
                    "scattergl": [
                      {
                        "marker": {
                          "colorbar": {
                            "outlinewidth": 0,
                            "ticks": ""
                          }
                        },
                        "type": "scattergl"
                      }
                    ],
                    "scattermap": [
                      {
                        "marker": {
                          "colorbar": {
                            "outlinewidth": 0,
                            "ticks": ""
                          }
                        },
                        "type": "scattermap"
                      }
                    ],
                    "scattermapbox": [
                      {
                        "marker": {
                          "colorbar": {
                            "outlinewidth": 0,
                            "ticks": ""
                          }
                        },
                        "type": "scattermapbox"
                      }
                    ],
                    "scatterpolar": [
                      {
                        "marker": {
                          "colorbar": {
                            "outlinewidth": 0,
                            "ticks": ""
                          }
                        },
                        "type": "scatterpolar"
                      }
                    ],
                    "scatterpolargl": [
                      {
                        "marker": {
                          "colorbar": {
                            "outlinewidth": 0,
                            "ticks": ""
                          }
                        },
                        "type": "scatterpolargl"
                      }
                    ],
                    "scatterternary": [
                      {
                        "marker": {
                          "colorbar": {
                            "outlinewidth": 0,
                            "ticks": ""
                          }
                        },
                        "type": "scatterternary"
                      }
                    ],
                    "surface": [
                      {
                        "colorbar": {
                          "outlinewidth": 0,
                          "ticks": ""
                        },
                        "colorscale": [
                          [
                            0,
                            "#0d0887"
                          ],
                          [
                            0.1111111111111111,
                            "#46039f"
                          ],
                          [
                            0.2222222222222222,
                            "#7201a8"
                          ],
                          [
                            0.3333333333333333,
                            "#9c179e"
                          ],
                          [
                            0.4444444444444444,
                            "#bd3786"
                          ],
                          [
                            0.5555555555555556,
                            "#d8576b"
                          ],
                          [
                            0.6666666666666666,
                            "#ed7953"
                          ],
                          [
                            0.7777777777777778,
                            "#fb9f3a"
                          ],
                          [
                            0.8888888888888888,
                            "#fdca26"
                          ],
                          [
                            1,
                            "#f0f921"
                          ]
                        ],
                        "type": "surface"
                      }
                    ],
                    "table": [
                      {
                        "cells": {
                          "fill": {
                            "color": "#EBF0F8"
                          },
                          "line": {
                            "color": "white"
                          }
                        },
                        "header": {
                          "fill": {
                            "color": "#C8D4E3"
                          },
                          "line": {
                            "color": "white"
                          }
                        },
                        "type": "table"
                      }
                    ]
                  },
                  "layout": {
                    "annotationdefaults": {
                      "arrowcolor": "#2a3f5f",
                      "arrowhead": 0,
                      "arrowwidth": 1
                    },
                    "autotypenumbers": "strict",
                    "coloraxis": {
                      "colorbar": {
                        "outlinewidth": 0,
                        "ticks": ""
                      }
                    },
                    "colorscale": {
                      "diverging": [
                        [
                          0,
                          "#8e0152"
                        ],
                        [
                          0.1,
                          "#c51b7d"
                        ],
                        [
                          0.2,
                          "#de77ae"
                        ],
                        [
                          0.3,
                          "#f1b6da"
                        ],
                        [
                          0.4,
                          "#fde0ef"
                        ],
                        [
                          0.5,
                          "#f7f7f7"
                        ],
                        [
                          0.6,
                          "#e6f5d0"
                        ],
                        [
                          0.7,
                          "#b8e186"
                        ],
                        [
                          0.8,
                          "#7fbc41"
                        ],
                        [
                          0.9,
                          "#4d9221"
                        ],
                        [
                          1,
                          "#276419"
                        ]
                      ],
                      "sequential": [
                        [
                          0,
                          "#0d0887"
                        ],
                        [
                          0.1111111111111111,
                          "#46039f"
                        ],
                        [
                          0.2222222222222222,
                          "#7201a8"
                        ],
                        [
                          0.3333333333333333,
                          "#9c179e"
                        ],
                        [
                          0.4444444444444444,
                          "#bd3786"
                        ],
                        [
                          0.5555555555555556,
                          "#d8576b"
                        ],
                        [
                          0.6666666666666666,
                          "#ed7953"
                        ],
                        [
                          0.7777777777777778,
                          "#fb9f3a"
                        ],
                        [
                          0.8888888888888888,
                          "#fdca26"
                        ],
                        [
                          1,
                          "#f0f921"
                        ]
                      ],
                      "sequentialminus": [
                        [
                          0,
                          "#0d0887"
                        ],
                        [
                          0.1111111111111111,
                          "#46039f"
                        ],
                        [
                          0.2222222222222222,
                          "#7201a8"
                        ],
                        [
                          0.3333333333333333,
                          "#9c179e"
                        ],
                        [
                          0.4444444444444444,
                          "#bd3786"
                        ],
                        [
                          0.5555555555555556,
                          "#d8576b"
                        ],
                        [
                          0.6666666666666666,
                          "#ed7953"
                        ],
                        [
                          0.7777777777777778,
                          "#fb9f3a"
                        ],
                        [
                          0.8888888888888888,
                          "#fdca26"
                        ],
                        [
                          1,
                          "#f0f921"
                        ]
                      ]
                    },
                    "colorway": [
                      "#636efa",
                      "#EF553B",
                      "#00cc96",
                      "#ab63fa",
                      "#FFA15A",
                      "#19d3f3",
                      "#FF6692",
                      "#B6E880",
                      "#FF97FF",
                      "#FECB52"
                    ],
                    "font": {
                      "color": "#2a3f5f"
                    },
                    "geo": {
                      "bgcolor": "white",
                      "lakecolor": "white",
                      "landcolor": "#E5ECF6",
                      "showlakes": true,
                      "showland": true,
                      "subunitcolor": "white"
                    },
                    "hoverlabel": {
                      "align": "left"
                    },
                    "hovermode": "closest",
                    "mapbox": {
                      "style": "light"
                    },
                    "paper_bgcolor": "white",
                    "plot_bgcolor": "#E5ECF6",
                    "polar": {
                      "angularaxis": {
                        "gridcolor": "white",
                        "linecolor": "white",
                        "ticks": ""
                      },
                      "bgcolor": "#E5ECF6",
                      "radialaxis": {
                        "gridcolor": "white",
                        "linecolor": "white",
                        "ticks": ""
                      }
                    },
                    "scene": {
                      "xaxis": {
                        "backgroundcolor": "#E5ECF6",
                        "gridcolor": "white",
                        "gridwidth": 2,
                        "linecolor": "white",
                        "showbackground": true,
                        "ticks": "",
                        "zerolinecolor": "white"
                      },
                      "yaxis": {
                        "backgroundcolor": "#E5ECF6",
                        "gridcolor": "white",
                        "gridwidth": 2,
                        "linecolor": "white",
                        "showbackground": true,
                        "ticks": "",
                        "zerolinecolor": "white"
                      },
                      "zaxis": {
                        "backgroundcolor": "#E5ECF6",
                        "gridcolor": "white",
                        "gridwidth": 2,
                        "linecolor": "white",
                        "showbackground": true,
                        "ticks": "",
                        "zerolinecolor": "white"
                      }
                    },
                    "shapedefaults": {
                      "line": {
                        "color": "#2a3f5f"
                      }
                    },
                    "ternary": {
                      "aaxis": {
                        "gridcolor": "white",
                        "linecolor": "white",
                        "ticks": ""
                      },
                      "baxis": {
                        "gridcolor": "white",
                        "linecolor": "white",
                        "ticks": ""
                      },
                      "bgcolor": "#E5ECF6",
                      "caxis": {
                        "gridcolor": "white",
                        "linecolor": "white",
                        "ticks": ""
                      }
                    },
                    "title": {
                      "x": 0.05
                    },
                    "xaxis": {
                      "automargin": true,
                      "gridcolor": "white",
                      "linecolor": "white",
                      "ticks": "",
                      "title": {
                        "standoff": 15
                      },
                      "zerolinecolor": "white",
                      "zerolinewidth": 2
                    },
                    "yaxis": {
                      "automargin": true,
                      "gridcolor": "white",
                      "linecolor": "white",
                      "ticks": "",
                      "title": {
                        "standoff": 15
                      },
                      "zerolinecolor": "white",
                      "zerolinewidth": 2
                    }
                  }
                },
                "title": {
                  "text": "Hyperparameter Importances"
                },
                "xaxis": {
                  "title": {
                    "text": "Hyperparameter Importance"
                  }
                },
                "yaxis": {
                  "title": {
                    "text": "Hyperparameter"
                  }
                }
              }
            }
          },
          "metadata": {},
          "output_type": "display_data"
        }
      ],
      "source": [
        "# 5. Hyperparameter Importance\n",
        "plot_param_importances(study).show()"
      ]
    },
    {
      "cell_type": "code",
      "execution_count": 43,
      "metadata": {},
      "outputs": [],
      "source": [
        "# %pip install xgboost"
      ]
    },
    {
      "cell_type": "code",
      "execution_count": 44,
      "metadata": {},
      "outputs": [
        {
          "name": "stdout",
          "output_type": "stream",
          "text": [
            "Requirement already satisfied: optuna-integration[xgboost] in d:\\programming\\learn_pytorch_for_deep_learning\\.env\\lib\\site-packages (4.5.0)\n",
            "Requirement already satisfied: optuna in d:\\programming\\learn_pytorch_for_deep_learning\\.env\\lib\\site-packages (from optuna-integration[xgboost]) (4.5.0)\n",
            "Requirement already satisfied: xgboost in d:\\programming\\learn_pytorch_for_deep_learning\\.env\\lib\\site-packages (from optuna-integration[xgboost]) (3.0.5)\n",
            "Requirement already satisfied: alembic>=1.5.0 in d:\\programming\\learn_pytorch_for_deep_learning\\.env\\lib\\site-packages (from optuna->optuna-integration[xgboost]) (1.16.5)\n",
            "Requirement already satisfied: colorlog in d:\\programming\\learn_pytorch_for_deep_learning\\.env\\lib\\site-packages (from optuna->optuna-integration[xgboost]) (6.9.0)\n",
            "Requirement already satisfied: numpy in d:\\programming\\learn_pytorch_for_deep_learning\\.env\\lib\\site-packages (from optuna->optuna-integration[xgboost]) (2.1.2)\n",
            "Requirement already satisfied: packaging>=20.0 in d:\\programming\\learn_pytorch_for_deep_learning\\.env\\lib\\site-packages (from optuna->optuna-integration[xgboost]) (25.0)\n",
            "Requirement already satisfied: sqlalchemy>=1.4.2 in d:\\programming\\learn_pytorch_for_deep_learning\\.env\\lib\\site-packages (from optuna->optuna-integration[xgboost]) (2.0.43)\n",
            "Requirement already satisfied: tqdm in d:\\programming\\learn_pytorch_for_deep_learning\\.env\\lib\\site-packages (from optuna->optuna-integration[xgboost]) (4.67.1)\n",
            "Requirement already satisfied: PyYAML in d:\\programming\\learn_pytorch_for_deep_learning\\.env\\lib\\site-packages (from optuna->optuna-integration[xgboost]) (6.0.2)\n",
            "Requirement already satisfied: Mako in d:\\programming\\learn_pytorch_for_deep_learning\\.env\\lib\\site-packages (from alembic>=1.5.0->optuna->optuna-integration[xgboost]) (1.3.10)\n",
            "Requirement already satisfied: typing-extensions>=4.12 in d:\\programming\\learn_pytorch_for_deep_learning\\.env\\lib\\site-packages (from alembic>=1.5.0->optuna->optuna-integration[xgboost]) (4.15.0)\n",
            "Requirement already satisfied: tomli in d:\\programming\\learn_pytorch_for_deep_learning\\.env\\lib\\site-packages (from alembic>=1.5.0->optuna->optuna-integration[xgboost]) (2.2.1)\n",
            "Requirement already satisfied: greenlet>=1 in d:\\programming\\learn_pytorch_for_deep_learning\\.env\\lib\\site-packages (from sqlalchemy>=1.4.2->optuna->optuna-integration[xgboost]) (3.2.4)\n",
            "Requirement already satisfied: colorama in d:\\programming\\learn_pytorch_for_deep_learning\\.env\\lib\\site-packages (from colorlog->optuna->optuna-integration[xgboost]) (0.4.6)\n",
            "Requirement already satisfied: MarkupSafe>=0.9.2 in d:\\programming\\learn_pytorch_for_deep_learning\\.env\\lib\\site-packages (from Mako->alembic>=1.5.0->optuna->optuna-integration[xgboost]) (2.1.5)\n",
            "Requirement already satisfied: scipy in d:\\programming\\learn_pytorch_for_deep_learning\\.env\\lib\\site-packages (from xgboost->optuna-integration[xgboost]) (1.15.3)\n",
            "Note: you may need to restart the kernel to use updated packages.\n"
          ]
        }
      ],
      "source": [
        "%pip install optuna-integration[xgboost]"
      ]
    },
    {
      "cell_type": "code",
      "execution_count": 45,
      "metadata": {
        "colab": {
          "base_uri": "https://localhost:8080/"
        },
        "id": "APAwYNxkIwMf",
        "outputId": "204d3690-5f5e-444d-89fa-9c21e6552562"
      },
      "outputs": [
        {
          "name": "stderr",
          "output_type": "stream",
          "text": [
            "[I 2025-09-15 21:56:57,506] A new study created in memory with name: no-name-1d51bdcc-3ac0-4fd5-8757-528d5980f1fe\n"
          ]
        },
        {
          "name": "stdout",
          "output_type": "stream",
          "text": [
            "[0]\ttrain-mlogloss:0.88371\teval-mlogloss:0.88501\n",
            "[1]\ttrain-mlogloss:0.78885\teval-mlogloss:0.79316\n",
            "[2]\ttrain-mlogloss:0.69576\teval-mlogloss:0.71384\n",
            "[3]\ttrain-mlogloss:0.56692\teval-mlogloss:0.56194\n",
            "[4]\ttrain-mlogloss:0.52993\teval-mlogloss:0.52775\n",
            "[5]\ttrain-mlogloss:0.47668\teval-mlogloss:0.47644\n",
            "[6]\ttrain-mlogloss:0.39684\teval-mlogloss:0.37876\n",
            "[7]\ttrain-mlogloss:0.33908\teval-mlogloss:0.30967\n",
            "[8]\ttrain-mlogloss:0.32125\teval-mlogloss:0.29057\n",
            "[9]\ttrain-mlogloss:0.27128\teval-mlogloss:0.23279\n",
            "[10]\ttrain-mlogloss:0.24573\teval-mlogloss:0.20074\n",
            "[11]\ttrain-mlogloss:0.23646\teval-mlogloss:0.19489\n",
            "[12]\ttrain-mlogloss:0.21236\teval-mlogloss:0.16621\n",
            "[13]\ttrain-mlogloss:0.19413\teval-mlogloss:0.14627\n",
            "[14]\ttrain-mlogloss:0.17441\teval-mlogloss:0.12113\n",
            "[15]\ttrain-mlogloss:0.16700\teval-mlogloss:0.11333\n",
            "[16]\ttrain-mlogloss:0.15979\teval-mlogloss:0.10655\n",
            "[17]\ttrain-mlogloss:0.14730\teval-mlogloss:0.09292\n",
            "[18]\ttrain-mlogloss:0.14294\teval-mlogloss:0.08984\n",
            "[19]\ttrain-mlogloss:0.14002\teval-mlogloss:0.08817\n",
            "[20]\ttrain-mlogloss:0.13968\teval-mlogloss:0.08754\n",
            "[21]\ttrain-mlogloss:0.13592\teval-mlogloss:0.08402\n",
            "[22]\ttrain-mlogloss:0.12640\teval-mlogloss:0.07026\n",
            "[23]\ttrain-mlogloss:0.12044\teval-mlogloss:0.06443\n",
            "[24]\ttrain-mlogloss:0.11631\teval-mlogloss:0.05879\n",
            "[25]\ttrain-mlogloss:0.11288\teval-mlogloss:0.05283\n",
            "[26]\ttrain-mlogloss:0.10960\teval-mlogloss:0.05147\n",
            "[27]\ttrain-mlogloss:0.10966\teval-mlogloss:0.05143\n",
            "[28]\ttrain-mlogloss:0.10793\teval-mlogloss:0.04798\n",
            "[29]\ttrain-mlogloss:0.10793\teval-mlogloss:0.04803\n",
            "[30]\ttrain-mlogloss:0.10628\teval-mlogloss:0.04946\n",
            "[31]\ttrain-mlogloss:0.10648\teval-mlogloss:0.04925\n",
            "[32]\ttrain-mlogloss:0.10655\teval-mlogloss:0.04924\n",
            "[33]\ttrain-mlogloss:0.10638\teval-mlogloss:0.04938\n",
            "[34]\ttrain-mlogloss:0.10432\teval-mlogloss:0.04602\n",
            "[35]\ttrain-mlogloss:0.10427\teval-mlogloss:0.04606\n",
            "[36]\ttrain-mlogloss:0.10212\teval-mlogloss:0.04366\n",
            "[37]\ttrain-mlogloss:0.10237\teval-mlogloss:0.04408\n",
            "[38]\ttrain-mlogloss:0.09849\teval-mlogloss:0.04191\n",
            "[39]\ttrain-mlogloss:0.09479\teval-mlogloss:0.03933\n",
            "[40]\ttrain-mlogloss:0.09467\teval-mlogloss:0.03926\n",
            "[41]\ttrain-mlogloss:0.09473\teval-mlogloss:0.03912\n",
            "[42]\ttrain-mlogloss:0.09294\teval-mlogloss:0.03647\n",
            "[43]\ttrain-mlogloss:0.09393\teval-mlogloss:0.03788\n",
            "[44]\ttrain-mlogloss:0.09425\teval-mlogloss:0.03711\n",
            "[45]\ttrain-mlogloss:0.09361\teval-mlogloss:0.03717\n",
            "[46]\ttrain-mlogloss:0.09333\teval-mlogloss:0.03791\n",
            "[47]\ttrain-mlogloss:0.09204\teval-mlogloss:0.03594\n",
            "[48]\ttrain-mlogloss:0.09210\teval-mlogloss:0.03586\n",
            "[49]\ttrain-mlogloss:0.08987\teval-mlogloss:0.03513\n",
            "[50]\ttrain-mlogloss:0.09025\teval-mlogloss:0.03514\n",
            "[51]\ttrain-mlogloss:0.08989\teval-mlogloss:0.03511\n",
            "[52]\ttrain-mlogloss:0.09043\teval-mlogloss:0.03510\n",
            "[53]\ttrain-mlogloss:0.09021\teval-mlogloss:0.03501\n",
            "[54]\ttrain-mlogloss:0.08837\teval-mlogloss:0.03544\n",
            "[55]\ttrain-mlogloss:0.08845\teval-mlogloss:0.03540\n",
            "[56]\ttrain-mlogloss:0.08845\teval-mlogloss:0.03559\n",
            "[57]\ttrain-mlogloss:0.08850\teval-mlogloss:0.03559\n",
            "[58]\ttrain-mlogloss:0.08688\teval-mlogloss:0.03372\n",
            "[59]\ttrain-mlogloss:0.08559\teval-mlogloss:0.02973\n",
            "[60]\ttrain-mlogloss:0.08545\teval-mlogloss:0.02982\n",
            "[61]\ttrain-mlogloss:0.08384\teval-mlogloss:0.02930\n",
            "[62]\ttrain-mlogloss:0.08424\teval-mlogloss:0.02948\n",
            "[63]\ttrain-mlogloss:0.08276\teval-mlogloss:0.03058\n",
            "[64]\ttrain-mlogloss:0.08189\teval-mlogloss:0.02906\n",
            "[65]\ttrain-mlogloss:0.08227\teval-mlogloss:0.02906\n",
            "[66]\ttrain-mlogloss:0.08197\teval-mlogloss:0.02897\n",
            "[67]\ttrain-mlogloss:0.08192\teval-mlogloss:0.02906\n",
            "[68]\ttrain-mlogloss:0.08015\teval-mlogloss:0.02793\n",
            "[69]\ttrain-mlogloss:0.07911\teval-mlogloss:0.02844\n",
            "[70]\ttrain-mlogloss:0.07913\teval-mlogloss:0.02846\n",
            "[71]\ttrain-mlogloss:0.07851\teval-mlogloss:0.02667\n",
            "[72]\ttrain-mlogloss:0.07876\teval-mlogloss:0.02677\n",
            "[73]\ttrain-mlogloss:0.07840\teval-mlogloss:0.02588\n",
            "[74]\ttrain-mlogloss:0.07796\teval-mlogloss:0.02568\n",
            "[75]\ttrain-mlogloss:0.07777\teval-mlogloss:0.02561\n",
            "[76]\ttrain-mlogloss:0.07774\teval-mlogloss:0.02559\n",
            "[77]\ttrain-mlogloss:0.07781\teval-mlogloss:0.02564\n",
            "[78]\ttrain-mlogloss:0.07695\teval-mlogloss:0.02703\n",
            "[79]\ttrain-mlogloss:0.07712\teval-mlogloss:0.02719\n",
            "[80]\ttrain-mlogloss:0.07702\teval-mlogloss:0.02716\n",
            "[81]\ttrain-mlogloss:0.07712\teval-mlogloss:0.02732\n",
            "[82]\ttrain-mlogloss:0.07709\teval-mlogloss:0.02735\n",
            "[83]\ttrain-mlogloss:0.07740\teval-mlogloss:0.02756\n",
            "[84]\ttrain-mlogloss:0.07721\teval-mlogloss:0.02738\n",
            "[85]\ttrain-mlogloss:0.07707\teval-mlogloss:0.02727\n",
            "[86]\ttrain-mlogloss:0.07684\teval-mlogloss:0.02817\n",
            "[87]\ttrain-mlogloss:0.07537\teval-mlogloss:0.02595\n",
            "[88]\ttrain-mlogloss:0.07530\teval-mlogloss:0.02598\n",
            "[89]\ttrain-mlogloss:0.07528\teval-mlogloss:0.02593\n",
            "[90]\ttrain-mlogloss:0.07532\teval-mlogloss:0.02593\n",
            "[91]\ttrain-mlogloss:0.07535\teval-mlogloss:0.02599\n",
            "[92]\ttrain-mlogloss:0.07530\teval-mlogloss:0.02597\n",
            "[93]\ttrain-mlogloss:0.07526\teval-mlogloss:0.02586\n",
            "[94]\ttrain-mlogloss:0.07524\teval-mlogloss:0.02574\n",
            "[95]\ttrain-mlogloss:0.07570\teval-mlogloss:0.02610\n",
            "[96]\ttrain-mlogloss:0.07613\teval-mlogloss:0.02627\n",
            "[97]\ttrain-mlogloss:0.07527\teval-mlogloss:0.02646\n",
            "[98]\ttrain-mlogloss:0.07410\teval-mlogloss:0.02511\n",
            "[99]\ttrain-mlogloss:0.07403\teval-mlogloss:0.02508\n",
            "[100]\ttrain-mlogloss:0.07354\teval-mlogloss:0.02464\n",
            "[101]\ttrain-mlogloss:0.07227\teval-mlogloss:0.02420\n",
            "[102]\ttrain-mlogloss:0.07241\teval-mlogloss:0.02438\n",
            "[103]\ttrain-mlogloss:0.07246\teval-mlogloss:0.02437\n",
            "[104]\ttrain-mlogloss:0.07275\teval-mlogloss:0.02461\n",
            "[105]\ttrain-mlogloss:0.07118\teval-mlogloss:0.02246\n",
            "[106]\ttrain-mlogloss:0.07039\teval-mlogloss:0.02151\n",
            "[107]\ttrain-mlogloss:0.07078\teval-mlogloss:0.02187\n",
            "[108]\ttrain-mlogloss:0.07072\teval-mlogloss:0.02177\n",
            "[109]\ttrain-mlogloss:0.07022\teval-mlogloss:0.02130\n",
            "[110]\ttrain-mlogloss:0.07045\teval-mlogloss:0.02154\n",
            "[111]\ttrain-mlogloss:0.07037\teval-mlogloss:0.02151\n",
            "[112]\ttrain-mlogloss:0.06996\teval-mlogloss:0.02141\n",
            "[113]\ttrain-mlogloss:0.06990\teval-mlogloss:0.02126\n",
            "[114]\ttrain-mlogloss:0.06918\teval-mlogloss:0.02006\n",
            "[115]\ttrain-mlogloss:0.06922\teval-mlogloss:0.02004\n",
            "[116]\ttrain-mlogloss:0.06933\teval-mlogloss:0.02011\n",
            "[117]\ttrain-mlogloss:0.06836\teval-mlogloss:0.01818\n",
            "[118]\ttrain-mlogloss:0.06829\teval-mlogloss:0.01829\n",
            "[119]\ttrain-mlogloss:0.06766\teval-mlogloss:0.01739\n",
            "[120]\ttrain-mlogloss:0.06772\teval-mlogloss:0.01725\n",
            "[121]\ttrain-mlogloss:0.06894\teval-mlogloss:0.01997\n",
            "[122]\ttrain-mlogloss:0.06882\teval-mlogloss:0.01996\n",
            "[123]\ttrain-mlogloss:0.06800\teval-mlogloss:0.01899\n",
            "[124]\ttrain-mlogloss:0.06806\teval-mlogloss:0.01900\n",
            "[125]\ttrain-mlogloss:0.06785\teval-mlogloss:0.01893\n",
            "[126]\ttrain-mlogloss:0.06791\teval-mlogloss:0.01897\n",
            "[127]\ttrain-mlogloss:0.06822\teval-mlogloss:0.01902\n",
            "[128]\ttrain-mlogloss:0.06832\teval-mlogloss:0.01911\n",
            "[129]\ttrain-mlogloss:0.06748\teval-mlogloss:0.01774\n",
            "[130]\ttrain-mlogloss:0.06789\teval-mlogloss:0.01793\n",
            "[131]\ttrain-mlogloss:0.06872\teval-mlogloss:0.01844\n",
            "[132]\ttrain-mlogloss:0.06739\teval-mlogloss:0.01792\n",
            "[133]\ttrain-mlogloss:0.06635\teval-mlogloss:0.01760\n",
            "[134]\ttrain-mlogloss:0.06642\teval-mlogloss:0.01772\n",
            "[135]\ttrain-mlogloss:0.06556\teval-mlogloss:0.01734\n",
            "[136]\ttrain-mlogloss:0.06560\teval-mlogloss:0.01732\n",
            "[137]\ttrain-mlogloss:0.06554\teval-mlogloss:0.01725\n",
            "[138]\ttrain-mlogloss:0.06516\teval-mlogloss:0.01716\n",
            "[139]\ttrain-mlogloss:0.06520\teval-mlogloss:0.01712\n",
            "[140]\ttrain-mlogloss:0.06510\teval-mlogloss:0.01574\n",
            "[141]\ttrain-mlogloss:0.06509\teval-mlogloss:0.01574\n",
            "[142]\ttrain-mlogloss:0.06549\teval-mlogloss:0.01590\n",
            "[143]\ttrain-mlogloss:0.06582\teval-mlogloss:0.01610\n",
            "[144]\ttrain-mlogloss:0.06521\teval-mlogloss:0.01592\n",
            "[145]\ttrain-mlogloss:0.06583\teval-mlogloss:0.01621\n",
            "[146]\ttrain-mlogloss:0.06451\teval-mlogloss:0.01517\n",
            "[147]\ttrain-mlogloss:0.06462\teval-mlogloss:0.01513\n",
            "[148]\ttrain-mlogloss:0.06419\teval-mlogloss:0.01508\n",
            "[149]\ttrain-mlogloss:0.06419\teval-mlogloss:0.01516\n",
            "[150]\ttrain-mlogloss:0.06397\teval-mlogloss:0.01493\n",
            "[151]\ttrain-mlogloss:0.06435\teval-mlogloss:0.01633\n",
            "[152]\ttrain-mlogloss:0.06409\teval-mlogloss:0.01528\n",
            "[153]\ttrain-mlogloss:0.06403\teval-mlogloss:0.01524\n",
            "[154]\ttrain-mlogloss:0.06423\teval-mlogloss:0.01510\n",
            "[155]\ttrain-mlogloss:0.06454\teval-mlogloss:0.01567\n",
            "[156]\ttrain-mlogloss:0.06445\teval-mlogloss:0.01555\n",
            "[157]\ttrain-mlogloss:0.06416\teval-mlogloss:0.01555\n",
            "[158]\ttrain-mlogloss:0.06401\teval-mlogloss:0.01558\n",
            "[159]\ttrain-mlogloss:0.06403\teval-mlogloss:0.01570\n",
            "[160]\ttrain-mlogloss:0.06409\teval-mlogloss:0.01580\n",
            "[161]\ttrain-mlogloss:0.06282\teval-mlogloss:0.01683\n",
            "[162]\ttrain-mlogloss:0.06297\teval-mlogloss:0.01704\n",
            "[163]\ttrain-mlogloss:0.06218\teval-mlogloss:0.01671\n",
            "[164]\ttrain-mlogloss:0.06196\teval-mlogloss:0.01659\n",
            "[165]\ttrain-mlogloss:0.06166\teval-mlogloss:0.01747\n",
            "[166]\ttrain-mlogloss:0.06172\teval-mlogloss:0.01744\n",
            "[167]\ttrain-mlogloss:0.06162\teval-mlogloss:0.01732\n",
            "[168]\ttrain-mlogloss:0.06159\teval-mlogloss:0.01742\n",
            "[169]\ttrain-mlogloss:0.06160\teval-mlogloss:0.01742\n",
            "[170]\ttrain-mlogloss:0.06162\teval-mlogloss:0.01744\n",
            "[171]\ttrain-mlogloss:0.06163\teval-mlogloss:0.01747\n",
            "[172]\ttrain-mlogloss:0.06159\teval-mlogloss:0.01740\n",
            "[173]\ttrain-mlogloss:0.06162\teval-mlogloss:0.01739\n",
            "[174]\ttrain-mlogloss:0.06183\teval-mlogloss:0.01757\n",
            "[175]\ttrain-mlogloss:0.06183\teval-mlogloss:0.01744\n",
            "[176]\ttrain-mlogloss:0.06168\teval-mlogloss:0.01736\n",
            "[177]\ttrain-mlogloss:0.06175\teval-mlogloss:0.01745\n",
            "[178]\ttrain-mlogloss:0.06171\teval-mlogloss:0.01744\n",
            "[179]\ttrain-mlogloss:0.06196\teval-mlogloss:0.01747\n",
            "[180]\ttrain-mlogloss:0.06231\teval-mlogloss:0.01753\n"
          ]
        },
        {
          "name": "stderr",
          "output_type": "stream",
          "text": [
            "[I 2025-09-15 21:56:57,820] Trial 0 finished with value: 1.0 and parameters: {'lambda': 1.9818592149450373e-05, 'alpha': 5.050805957577253e-08, 'eta': 0.23071761849846267, 'gamma': 0.6287801412121359, 'max_depth': 8, 'min_child_weight': 1, 'subsample': 0.49704534441995246, 'colsample_bytree': 0.49355529594145847}. Best is trial 0 with value: 1.0.\n"
          ]
        },
        {
          "name": "stdout",
          "output_type": "stream",
          "text": [
            "[0]\ttrain-mlogloss:0.95833\teval-mlogloss:0.95196\n",
            "[1]\ttrain-mlogloss:0.84262\teval-mlogloss:0.83176\n",
            "[2]\ttrain-mlogloss:0.74434\teval-mlogloss:0.72797\n",
            "[3]\ttrain-mlogloss:0.66062\teval-mlogloss:0.63834\n",
            "[4]\ttrain-mlogloss:0.59141\teval-mlogloss:0.56422\n",
            "[5]\ttrain-mlogloss:0.53070\teval-mlogloss:0.49959\n",
            "[6]\ttrain-mlogloss:0.47860\teval-mlogloss:0.44737\n",
            "[7]\ttrain-mlogloss:0.43129\teval-mlogloss:0.39875\n",
            "[8]\ttrain-mlogloss:0.39056\teval-mlogloss:0.35617\n",
            "[9]\ttrain-mlogloss:0.35445\teval-mlogloss:0.31755\n",
            "[10]\ttrain-mlogloss:0.32173\teval-mlogloss:0.28986\n",
            "[11]\ttrain-mlogloss:0.29396\teval-mlogloss:0.25895\n",
            "[12]\ttrain-mlogloss:0.26985\teval-mlogloss:0.23367\n",
            "[13]\ttrain-mlogloss:0.24774\teval-mlogloss:0.21067\n",
            "[14]\ttrain-mlogloss:0.22906\teval-mlogloss:0.18977\n",
            "[15]\ttrain-mlogloss:0.21102\teval-mlogloss:0.17158\n",
            "[16]\ttrain-mlogloss:0.19548\teval-mlogloss:0.15399\n",
            "[17]\ttrain-mlogloss:0.17994\teval-mlogloss:0.14298\n",
            "[18]\ttrain-mlogloss:0.16787\teval-mlogloss:0.13161\n",
            "[19]\ttrain-mlogloss:0.15556\teval-mlogloss:0.12051\n",
            "[20]\ttrain-mlogloss:0.14475\teval-mlogloss:0.11270\n",
            "[21]\ttrain-mlogloss:0.13543\teval-mlogloss:0.10161\n",
            "[22]\ttrain-mlogloss:0.12719\teval-mlogloss:0.09172\n",
            "[23]\ttrain-mlogloss:0.11872\teval-mlogloss:0.08433\n",
            "[24]\ttrain-mlogloss:0.11234\teval-mlogloss:0.07767\n",
            "[25]\ttrain-mlogloss:0.10663\teval-mlogloss:0.07213\n",
            "[26]\ttrain-mlogloss:0.10184\teval-mlogloss:0.06655\n",
            "[27]\ttrain-mlogloss:0.09767\teval-mlogloss:0.06284\n",
            "[28]\ttrain-mlogloss:0.09350\teval-mlogloss:0.06085\n",
            "[29]\ttrain-mlogloss:0.09015\teval-mlogloss:0.05674\n",
            "[30]\ttrain-mlogloss:0.08634\teval-mlogloss:0.05430\n",
            "[31]\ttrain-mlogloss:0.08355\teval-mlogloss:0.05109\n",
            "[32]\ttrain-mlogloss:0.08081\teval-mlogloss:0.04940\n",
            "[33]\ttrain-mlogloss:0.07925\teval-mlogloss:0.04656\n",
            "[34]\ttrain-mlogloss:0.07763\teval-mlogloss:0.04652\n",
            "[35]\ttrain-mlogloss:0.07677\teval-mlogloss:0.04487\n",
            "[36]\ttrain-mlogloss:0.07588\teval-mlogloss:0.04314\n",
            "[37]\ttrain-mlogloss:0.07516\teval-mlogloss:0.04147\n",
            "[38]\ttrain-mlogloss:0.07443\teval-mlogloss:0.04152\n",
            "[39]\ttrain-mlogloss:0.07342\teval-mlogloss:0.04161\n",
            "[40]\ttrain-mlogloss:0.07190\teval-mlogloss:0.04149\n",
            "[41]\ttrain-mlogloss:0.07079\teval-mlogloss:0.03984\n",
            "[42]\ttrain-mlogloss:0.06984\teval-mlogloss:0.03938\n",
            "[43]\ttrain-mlogloss:0.06945\teval-mlogloss:0.03885\n",
            "[44]\ttrain-mlogloss:0.06897\teval-mlogloss:0.03792\n",
            "[45]\ttrain-mlogloss:0.06811\teval-mlogloss:0.03655\n",
            "[46]\ttrain-mlogloss:0.06795\teval-mlogloss:0.03589\n",
            "[47]\ttrain-mlogloss:0.06700\teval-mlogloss:0.03648\n",
            "[48]\ttrain-mlogloss:0.06651\teval-mlogloss:0.03707\n",
            "[49]\ttrain-mlogloss:0.06611\teval-mlogloss:0.03657\n",
            "[50]\ttrain-mlogloss:0.06583\teval-mlogloss:0.03627\n",
            "[51]\ttrain-mlogloss:0.06536\teval-mlogloss:0.03535\n",
            "[52]\ttrain-mlogloss:0.06511\teval-mlogloss:0.03546\n",
            "[53]\ttrain-mlogloss:0.06478\teval-mlogloss:0.03568\n",
            "[54]\ttrain-mlogloss:0.06437\teval-mlogloss:0.03550\n",
            "[55]\ttrain-mlogloss:0.06357\teval-mlogloss:0.03609\n",
            "[56]\ttrain-mlogloss:0.06301\teval-mlogloss:0.03636\n",
            "[57]\ttrain-mlogloss:0.06261\teval-mlogloss:0.03667\n",
            "[58]\ttrain-mlogloss:0.06247\teval-mlogloss:0.03647\n",
            "[59]\ttrain-mlogloss:0.06216\teval-mlogloss:0.03693\n",
            "[60]\ttrain-mlogloss:0.06202\teval-mlogloss:0.03721\n",
            "[61]\ttrain-mlogloss:0.06178\teval-mlogloss:0.03694\n",
            "[62]\ttrain-mlogloss:0.06162\teval-mlogloss:0.03719\n",
            "[63]\ttrain-mlogloss:0.06122\teval-mlogloss:0.03669\n",
            "[64]\ttrain-mlogloss:0.06027\teval-mlogloss:0.03631\n",
            "[65]\ttrain-mlogloss:0.06005\teval-mlogloss:0.03667\n",
            "[66]\ttrain-mlogloss:0.05972\teval-mlogloss:0.03515\n",
            "[67]\ttrain-mlogloss:0.05924\teval-mlogloss:0.03458\n",
            "[68]\ttrain-mlogloss:0.05885\teval-mlogloss:0.03411\n",
            "[69]\ttrain-mlogloss:0.05861\teval-mlogloss:0.03424\n",
            "[70]\ttrain-mlogloss:0.05836\teval-mlogloss:0.03384\n",
            "[71]\ttrain-mlogloss:0.05807\teval-mlogloss:0.03312\n",
            "[72]\ttrain-mlogloss:0.05789\teval-mlogloss:0.03288\n",
            "[73]\ttrain-mlogloss:0.05756\teval-mlogloss:0.03243\n",
            "[74]\ttrain-mlogloss:0.05729\teval-mlogloss:0.03198\n",
            "[75]\ttrain-mlogloss:0.05684\teval-mlogloss:0.03108\n",
            "[76]\ttrain-mlogloss:0.05679\teval-mlogloss:0.03141\n",
            "[77]\ttrain-mlogloss:0.05674\teval-mlogloss:0.03133\n",
            "[78]\ttrain-mlogloss:0.05659\teval-mlogloss:0.03096\n",
            "[79]\ttrain-mlogloss:0.05636\teval-mlogloss:0.03108\n",
            "[80]\ttrain-mlogloss:0.05627\teval-mlogloss:0.03145\n",
            "[81]\ttrain-mlogloss:0.05590\teval-mlogloss:0.03041\n",
            "[82]\ttrain-mlogloss:0.05572\teval-mlogloss:0.03088\n",
            "[83]\ttrain-mlogloss:0.05546\teval-mlogloss:0.03015\n",
            "[84]\ttrain-mlogloss:0.05537\teval-mlogloss:0.03010\n",
            "[85]\ttrain-mlogloss:0.05534\teval-mlogloss:0.03020\n",
            "[86]\ttrain-mlogloss:0.05522\teval-mlogloss:0.03028\n",
            "[87]\ttrain-mlogloss:0.05515\teval-mlogloss:0.03009\n",
            "[88]\ttrain-mlogloss:0.05494\teval-mlogloss:0.02959\n",
            "[89]\ttrain-mlogloss:0.05475\teval-mlogloss:0.02951\n",
            "[90]\ttrain-mlogloss:0.05456\teval-mlogloss:0.02958\n",
            "[91]\ttrain-mlogloss:0.05438\teval-mlogloss:0.02963\n",
            "[92]\ttrain-mlogloss:0.05421\teval-mlogloss:0.02934\n",
            "[93]\ttrain-mlogloss:0.05412\teval-mlogloss:0.02895\n",
            "[94]\ttrain-mlogloss:0.05393\teval-mlogloss:0.02882\n",
            "[95]\ttrain-mlogloss:0.05390\teval-mlogloss:0.02915\n",
            "[96]\ttrain-mlogloss:0.05396\teval-mlogloss:0.02951\n",
            "[97]\ttrain-mlogloss:0.05381\teval-mlogloss:0.02903\n",
            "[98]\ttrain-mlogloss:0.05370\teval-mlogloss:0.02885\n",
            "[99]\ttrain-mlogloss:0.05355\teval-mlogloss:0.02896\n",
            "[100]\ttrain-mlogloss:0.05343\teval-mlogloss:0.02923\n",
            "[101]\ttrain-mlogloss:0.05336\teval-mlogloss:0.02928\n",
            "[102]\ttrain-mlogloss:0.05319\teval-mlogloss:0.02887\n",
            "[103]\ttrain-mlogloss:0.05303\teval-mlogloss:0.02876\n",
            "[104]\ttrain-mlogloss:0.05303\teval-mlogloss:0.02884\n",
            "[105]\ttrain-mlogloss:0.05299\teval-mlogloss:0.02852\n",
            "[106]\ttrain-mlogloss:0.05282\teval-mlogloss:0.02910\n",
            "[107]\ttrain-mlogloss:0.05269\teval-mlogloss:0.02955\n",
            "[108]\ttrain-mlogloss:0.05264\teval-mlogloss:0.02949\n",
            "[109]\ttrain-mlogloss:0.05262\teval-mlogloss:0.02945\n",
            "[110]\ttrain-mlogloss:0.05257\teval-mlogloss:0.02933\n",
            "[111]\ttrain-mlogloss:0.05246\teval-mlogloss:0.02918\n",
            "[112]\ttrain-mlogloss:0.05239\teval-mlogloss:0.02910\n",
            "[113]\ttrain-mlogloss:0.05231\teval-mlogloss:0.02882\n",
            "[114]\ttrain-mlogloss:0.05216\teval-mlogloss:0.02827\n",
            "[115]\ttrain-mlogloss:0.05214\teval-mlogloss:0.02854\n",
            "[116]\ttrain-mlogloss:0.05204\teval-mlogloss:0.02863\n",
            "[117]\ttrain-mlogloss:0.05198\teval-mlogloss:0.02855\n",
            "[118]\ttrain-mlogloss:0.05188\teval-mlogloss:0.02863\n",
            "[119]\ttrain-mlogloss:0.05176\teval-mlogloss:0.02813\n",
            "[120]\ttrain-mlogloss:0.05168\teval-mlogloss:0.02820\n",
            "[121]\ttrain-mlogloss:0.05156\teval-mlogloss:0.02813\n",
            "[122]\ttrain-mlogloss:0.05156\teval-mlogloss:0.02830\n",
            "[123]\ttrain-mlogloss:0.05152\teval-mlogloss:0.02826\n",
            "[124]\ttrain-mlogloss:0.05144\teval-mlogloss:0.02800\n",
            "[125]\ttrain-mlogloss:0.05136\teval-mlogloss:0.02800\n",
            "[126]\ttrain-mlogloss:0.05126\teval-mlogloss:0.02825\n",
            "[127]\ttrain-mlogloss:0.05121\teval-mlogloss:0.02828\n",
            "[128]\ttrain-mlogloss:0.05104\teval-mlogloss:0.02794\n",
            "[129]\ttrain-mlogloss:0.05097\teval-mlogloss:0.02793\n",
            "[130]\ttrain-mlogloss:0.05094\teval-mlogloss:0.02804\n",
            "[131]\ttrain-mlogloss:0.05080\teval-mlogloss:0.02763\n",
            "[132]\ttrain-mlogloss:0.05076\teval-mlogloss:0.02728\n",
            "[133]\ttrain-mlogloss:0.05079\teval-mlogloss:0.02764\n",
            "[134]\ttrain-mlogloss:0.05082\teval-mlogloss:0.02793\n",
            "[135]\ttrain-mlogloss:0.05076\teval-mlogloss:0.02758\n",
            "[136]\ttrain-mlogloss:0.05070\teval-mlogloss:0.02704\n",
            "[137]\ttrain-mlogloss:0.05059\teval-mlogloss:0.02716\n",
            "[138]\ttrain-mlogloss:0.05048\teval-mlogloss:0.02699\n",
            "[139]\ttrain-mlogloss:0.05042\teval-mlogloss:0.02728\n",
            "[140]\ttrain-mlogloss:0.05046\teval-mlogloss:0.02704\n",
            "[141]\ttrain-mlogloss:0.05049\teval-mlogloss:0.02732\n",
            "[142]\ttrain-mlogloss:0.05046\teval-mlogloss:0.02767\n",
            "[143]\ttrain-mlogloss:0.05045\teval-mlogloss:0.02732\n",
            "[144]\ttrain-mlogloss:0.05041\teval-mlogloss:0.02716\n",
            "[145]\ttrain-mlogloss:0.05042\teval-mlogloss:0.02726\n",
            "[146]\ttrain-mlogloss:0.05032\teval-mlogloss:0.02714\n",
            "[147]\ttrain-mlogloss:0.05011\teval-mlogloss:0.02693\n",
            "[148]\ttrain-mlogloss:0.05001\teval-mlogloss:0.02618\n",
            "[149]\ttrain-mlogloss:0.05002\teval-mlogloss:0.02633\n",
            "[150]\ttrain-mlogloss:0.04997\teval-mlogloss:0.02625\n",
            "[151]\ttrain-mlogloss:0.04980\teval-mlogloss:0.02610\n",
            "[152]\ttrain-mlogloss:0.04981\teval-mlogloss:0.02628\n",
            "[153]\ttrain-mlogloss:0.04975\teval-mlogloss:0.02650\n",
            "[154]\ttrain-mlogloss:0.04957\teval-mlogloss:0.02587\n",
            "[155]\ttrain-mlogloss:0.04947\teval-mlogloss:0.02590\n",
            "[156]\ttrain-mlogloss:0.04946\teval-mlogloss:0.02595\n",
            "[157]\ttrain-mlogloss:0.04938\teval-mlogloss:0.02557\n",
            "[158]\ttrain-mlogloss:0.04935\teval-mlogloss:0.02548\n",
            "[159]\ttrain-mlogloss:0.04928\teval-mlogloss:0.02546\n",
            "[160]\ttrain-mlogloss:0.04925\teval-mlogloss:0.02559\n",
            "[161]\ttrain-mlogloss:0.04926\teval-mlogloss:0.02562\n",
            "[162]\ttrain-mlogloss:0.04920\teval-mlogloss:0.02558\n",
            "[163]\ttrain-mlogloss:0.04922\teval-mlogloss:0.02547\n",
            "[164]\ttrain-mlogloss:0.04917\teval-mlogloss:0.02565\n",
            "[165]\ttrain-mlogloss:0.04910\teval-mlogloss:0.02585\n",
            "[166]\ttrain-mlogloss:0.04902\teval-mlogloss:0.02556\n",
            "[167]\ttrain-mlogloss:0.04897\teval-mlogloss:0.02574\n",
            "[168]\ttrain-mlogloss:0.04891\teval-mlogloss:0.02656\n",
            "[169]\ttrain-mlogloss:0.04890\teval-mlogloss:0.02655\n",
            "[170]\ttrain-mlogloss:0.04881\teval-mlogloss:0.02628\n",
            "[171]\ttrain-mlogloss:0.04876\teval-mlogloss:0.02590\n",
            "[172]\ttrain-mlogloss:0.04873\teval-mlogloss:0.02592\n",
            "[173]\ttrain-mlogloss:0.04873\teval-mlogloss:0.02616\n",
            "[174]\ttrain-mlogloss:0.04871\teval-mlogloss:0.02640\n",
            "[175]\ttrain-mlogloss:0.04875\teval-mlogloss:0.02612\n",
            "[176]\ttrain-mlogloss:0.04873\teval-mlogloss:0.02607\n",
            "[177]\ttrain-mlogloss:0.04866\teval-mlogloss:0.02572\n",
            "[178]\ttrain-mlogloss:0.04865\teval-mlogloss:0.02572\n",
            "[179]\ttrain-mlogloss:0.04864\teval-mlogloss:0.02565\n",
            "[180]\ttrain-mlogloss:0.04863\teval-mlogloss:0.02525\n",
            "[181]\ttrain-mlogloss:0.04864\teval-mlogloss:0.02524\n",
            "[182]\ttrain-mlogloss:0.04861\teval-mlogloss:0.02503\n",
            "[183]\ttrain-mlogloss:0.04860\teval-mlogloss:0.02503\n",
            "[184]\ttrain-mlogloss:0.04856\teval-mlogloss:0.02521\n",
            "[185]\ttrain-mlogloss:0.04856\teval-mlogloss:0.02520\n",
            "[186]\ttrain-mlogloss:0.04845\teval-mlogloss:0.02544\n",
            "[187]\ttrain-mlogloss:0.04845\teval-mlogloss:0.02543\n",
            "[188]\ttrain-mlogloss:0.04839\teval-mlogloss:0.02587\n",
            "[189]\ttrain-mlogloss:0.04840\teval-mlogloss:0.02625\n",
            "[190]\ttrain-mlogloss:0.04838\teval-mlogloss:0.02648\n",
            "[191]\ttrain-mlogloss:0.04836\teval-mlogloss:0.02651\n",
            "[192]\ttrain-mlogloss:0.04831\teval-mlogloss:0.02644\n",
            "[193]\ttrain-mlogloss:0.04828\teval-mlogloss:0.02587\n",
            "[194]\ttrain-mlogloss:0.04825\teval-mlogloss:0.02607\n",
            "[195]\ttrain-mlogloss:0.04823\teval-mlogloss:0.02627\n",
            "[196]\ttrain-mlogloss:0.04822\teval-mlogloss:0.02627\n",
            "[197]\ttrain-mlogloss:0.04823\teval-mlogloss:0.02611\n",
            "[198]\ttrain-mlogloss:0.04823\teval-mlogloss:0.02612\n",
            "[199]\ttrain-mlogloss:0.04822\teval-mlogloss:0.02578\n",
            "[200]\ttrain-mlogloss:0.04818\teval-mlogloss:0.02562\n",
            "[201]\ttrain-mlogloss:0.04818\teval-mlogloss:0.02499\n",
            "[202]\ttrain-mlogloss:0.04813\teval-mlogloss:0.02522\n",
            "[203]\ttrain-mlogloss:0.04810\teval-mlogloss:0.02524\n",
            "[204]\ttrain-mlogloss:0.04803\teval-mlogloss:0.02526\n",
            "[205]\ttrain-mlogloss:0.04797\teval-mlogloss:0.02530\n",
            "[206]\ttrain-mlogloss:0.04791\teval-mlogloss:0.02523\n",
            "[207]\ttrain-mlogloss:0.04792\teval-mlogloss:0.02520\n",
            "[208]\ttrain-mlogloss:0.04787\teval-mlogloss:0.02548\n",
            "[209]\ttrain-mlogloss:0.04783\teval-mlogloss:0.02554\n",
            "[210]\ttrain-mlogloss:0.04782\teval-mlogloss:0.02553\n",
            "[211]\ttrain-mlogloss:0.04766\teval-mlogloss:0.02549\n",
            "[212]\ttrain-mlogloss:0.04757\teval-mlogloss:0.02521\n",
            "[213]\ttrain-mlogloss:0.04758\teval-mlogloss:0.02521\n",
            "[214]\ttrain-mlogloss:0.04757\teval-mlogloss:0.02523\n",
            "[215]\ttrain-mlogloss:0.04755\teval-mlogloss:0.02546\n",
            "[216]\ttrain-mlogloss:0.04752\teval-mlogloss:0.02497\n",
            "[217]\ttrain-mlogloss:0.04748\teval-mlogloss:0.02477\n",
            "[218]\ttrain-mlogloss:0.04739\teval-mlogloss:0.02485\n",
            "[219]\ttrain-mlogloss:0.04739\teval-mlogloss:0.02486\n",
            "[220]\ttrain-mlogloss:0.04739\teval-mlogloss:0.02482\n",
            "[221]\ttrain-mlogloss:0.04738\teval-mlogloss:0.02485\n",
            "[222]\ttrain-mlogloss:0.04738\teval-mlogloss:0.02487\n",
            "[223]\ttrain-mlogloss:0.04737\teval-mlogloss:0.02479\n",
            "[224]\ttrain-mlogloss:0.04736\teval-mlogloss:0.02479\n",
            "[225]\ttrain-mlogloss:0.04731\teval-mlogloss:0.02512\n",
            "[226]\ttrain-mlogloss:0.04726\teval-mlogloss:0.02534\n",
            "[227]\ttrain-mlogloss:0.04721\teval-mlogloss:0.02556\n",
            "[228]\ttrain-mlogloss:0.04717\teval-mlogloss:0.02534\n",
            "[229]\ttrain-mlogloss:0.04716\teval-mlogloss:0.02583\n",
            "[230]\ttrain-mlogloss:0.04711\teval-mlogloss:0.02553\n",
            "[231]\ttrain-mlogloss:0.04713\teval-mlogloss:0.02581\n",
            "[232]\ttrain-mlogloss:0.04713\teval-mlogloss:0.02612\n",
            "[233]\ttrain-mlogloss:0.04712\teval-mlogloss:0.02628\n",
            "[234]\ttrain-mlogloss:0.04712\teval-mlogloss:0.02612\n",
            "[235]\ttrain-mlogloss:0.04710\teval-mlogloss:0.02605\n",
            "[236]\ttrain-mlogloss:0.04710\teval-mlogloss:0.02607\n",
            "[237]\ttrain-mlogloss:0.04708\teval-mlogloss:0.02593\n",
            "[238]\ttrain-mlogloss:0.04706\teval-mlogloss:0.02612\n",
            "[239]\ttrain-mlogloss:0.04702\teval-mlogloss:0.02611\n",
            "[240]\ttrain-mlogloss:0.04702\teval-mlogloss:0.02617\n",
            "[241]\ttrain-mlogloss:0.04695\teval-mlogloss:0.02598\n",
            "[242]\ttrain-mlogloss:0.04690\teval-mlogloss:0.02618\n",
            "[243]\ttrain-mlogloss:0.04690\teval-mlogloss:0.02630\n",
            "[244]\ttrain-mlogloss:0.04684\teval-mlogloss:0.02589\n",
            "[245]\ttrain-mlogloss:0.04683\teval-mlogloss:0.02580\n",
            "[246]\ttrain-mlogloss:0.04687\teval-mlogloss:0.02582\n",
            "[247]\ttrain-mlogloss:0.04687\teval-mlogloss:0.02585\n"
          ]
        },
        {
          "name": "stderr",
          "output_type": "stream",
          "text": [
            "[I 2025-09-15 21:56:58,302] Trial 1 finished with value: 1.0 and parameters: {'lambda': 0.0007615727826442108, 'alpha': 5.2481187542195936e-08, 'eta': 0.10934183215749184, 'gamma': 0.05384165054132559, 'max_depth': 9, 'min_child_weight': 2, 'subsample': 0.808632091458841, 'colsample_bytree': 0.9026618529663907}. Best is trial 0 with value: 1.0.\n"
          ]
        },
        {
          "name": "stdout",
          "output_type": "stream",
          "text": [
            "[0]\ttrain-mlogloss:0.94937\teval-mlogloss:0.94233\n",
            "[1]\ttrain-mlogloss:0.88636\teval-mlogloss:0.87712\n",
            "[2]\ttrain-mlogloss:0.78894\teval-mlogloss:0.77340\n",
            "[3]\ttrain-mlogloss:0.69367\teval-mlogloss:0.67332\n",
            "[4]\ttrain-mlogloss:0.61762\teval-mlogloss:0.59185\n",
            "[5]\ttrain-mlogloss:0.55091\teval-mlogloss:0.52090\n",
            "[6]\ttrain-mlogloss:0.49542\teval-mlogloss:0.46069\n",
            "[7]\ttrain-mlogloss:0.44689\teval-mlogloss:0.40853\n",
            "[8]\ttrain-mlogloss:0.40748\teval-mlogloss:0.36451\n",
            "[9]\ttrain-mlogloss:0.37836\teval-mlogloss:0.33574\n",
            "[10]\ttrain-mlogloss:0.35408\teval-mlogloss:0.30690\n",
            "[11]\ttrain-mlogloss:0.32935\teval-mlogloss:0.27957\n",
            "[12]\ttrain-mlogloss:0.31015\teval-mlogloss:0.25782\n",
            "[13]\ttrain-mlogloss:0.29493\teval-mlogloss:0.23970\n",
            "[14]\ttrain-mlogloss:0.28070\teval-mlogloss:0.22355\n",
            "[15]\ttrain-mlogloss:0.27074\teval-mlogloss:0.21298\n",
            "[16]\ttrain-mlogloss:0.26513\teval-mlogloss:0.20708\n",
            "[17]\ttrain-mlogloss:0.25899\teval-mlogloss:0.19944\n",
            "[18]\ttrain-mlogloss:0.25753\teval-mlogloss:0.19720\n",
            "[19]\ttrain-mlogloss:0.25259\teval-mlogloss:0.19053\n",
            "[20]\ttrain-mlogloss:0.25124\teval-mlogloss:0.18871\n",
            "[21]\ttrain-mlogloss:0.25014\teval-mlogloss:0.18729\n",
            "[22]\ttrain-mlogloss:0.24593\teval-mlogloss:0.18122\n",
            "[23]\ttrain-mlogloss:0.23569\teval-mlogloss:0.17009\n",
            "[24]\ttrain-mlogloss:0.23556\teval-mlogloss:0.16973\n",
            "[25]\ttrain-mlogloss:0.23106\teval-mlogloss:0.16375\n",
            "[26]\ttrain-mlogloss:0.23032\teval-mlogloss:0.16334\n",
            "[27]\ttrain-mlogloss:0.23020\teval-mlogloss:0.16289\n",
            "[28]\ttrain-mlogloss:0.23007\teval-mlogloss:0.16288\n",
            "[29]\ttrain-mlogloss:0.22954\teval-mlogloss:0.16261\n",
            "[30]\ttrain-mlogloss:0.22908\teval-mlogloss:0.16238\n",
            "[31]\ttrain-mlogloss:0.22873\teval-mlogloss:0.16227\n",
            "[32]\ttrain-mlogloss:0.22856\teval-mlogloss:0.16174\n",
            "[33]\ttrain-mlogloss:0.22830\teval-mlogloss:0.16022\n",
            "[34]\ttrain-mlogloss:0.22807\teval-mlogloss:0.16001\n",
            "[35]\ttrain-mlogloss:0.22799\teval-mlogloss:0.16002\n",
            "[36]\ttrain-mlogloss:0.22427\teval-mlogloss:0.15542\n",
            "[37]\ttrain-mlogloss:0.22409\teval-mlogloss:0.15567\n",
            "[38]\ttrain-mlogloss:0.22401\teval-mlogloss:0.15548\n",
            "[39]\ttrain-mlogloss:0.22348\teval-mlogloss:0.15481\n",
            "[40]\ttrain-mlogloss:0.22329\teval-mlogloss:0.15473\n",
            "[41]\ttrain-mlogloss:0.22286\teval-mlogloss:0.15457\n",
            "[42]\ttrain-mlogloss:0.22276\teval-mlogloss:0.15456\n",
            "[43]\ttrain-mlogloss:0.22052\teval-mlogloss:0.15146\n",
            "[44]\ttrain-mlogloss:0.22055\teval-mlogloss:0.15154\n",
            "[45]\ttrain-mlogloss:0.22018\teval-mlogloss:0.15128\n",
            "[46]\ttrain-mlogloss:0.22005\teval-mlogloss:0.15123\n",
            "[47]\ttrain-mlogloss:0.22003\teval-mlogloss:0.15117\n",
            "[48]\ttrain-mlogloss:0.21997\teval-mlogloss:0.15074\n",
            "[49]\ttrain-mlogloss:0.21992\teval-mlogloss:0.15087\n",
            "[50]\ttrain-mlogloss:0.21994\teval-mlogloss:0.15085\n",
            "[51]\ttrain-mlogloss:0.21987\teval-mlogloss:0.15113\n",
            "[52]\ttrain-mlogloss:0.21955\teval-mlogloss:0.15096\n",
            "[53]\ttrain-mlogloss:0.21944\teval-mlogloss:0.15096\n",
            "[54]\ttrain-mlogloss:0.21939\teval-mlogloss:0.15082\n",
            "[55]\ttrain-mlogloss:0.21931\teval-mlogloss:0.15084\n",
            "[56]\ttrain-mlogloss:0.21896\teval-mlogloss:0.15047\n",
            "[57]\ttrain-mlogloss:0.21900\teval-mlogloss:0.15053\n",
            "[58]\ttrain-mlogloss:0.21878\teval-mlogloss:0.15032\n",
            "[59]\ttrain-mlogloss:0.21847\teval-mlogloss:0.15017\n",
            "[60]\ttrain-mlogloss:0.21838\teval-mlogloss:0.15048\n",
            "[61]\ttrain-mlogloss:0.21804\teval-mlogloss:0.15033\n",
            "[62]\ttrain-mlogloss:0.21786\teval-mlogloss:0.15020\n",
            "[63]\ttrain-mlogloss:0.21779\teval-mlogloss:0.15034\n",
            "[64]\ttrain-mlogloss:0.21762\teval-mlogloss:0.14940\n",
            "[65]\ttrain-mlogloss:0.21761\teval-mlogloss:0.14930\n",
            "[66]\ttrain-mlogloss:0.21752\teval-mlogloss:0.14950\n",
            "[67]\ttrain-mlogloss:0.21728\teval-mlogloss:0.14928\n",
            "[68]\ttrain-mlogloss:0.21698\teval-mlogloss:0.14929\n",
            "[69]\ttrain-mlogloss:0.21682\teval-mlogloss:0.14921\n",
            "[70]\ttrain-mlogloss:0.21672\teval-mlogloss:0.14912\n",
            "[71]\ttrain-mlogloss:0.21668\teval-mlogloss:0.14910\n",
            "[72]\ttrain-mlogloss:0.21655\teval-mlogloss:0.14901\n",
            "[73]\ttrain-mlogloss:0.21654\teval-mlogloss:0.14889\n",
            "[74]\ttrain-mlogloss:0.21644\teval-mlogloss:0.14906\n",
            "[75]\ttrain-mlogloss:0.21640\teval-mlogloss:0.14887\n",
            "[76]\ttrain-mlogloss:0.21627\teval-mlogloss:0.14876\n",
            "[77]\ttrain-mlogloss:0.21604\teval-mlogloss:0.14870\n",
            "[78]\ttrain-mlogloss:0.21614\teval-mlogloss:0.14895\n",
            "[79]\ttrain-mlogloss:0.21608\teval-mlogloss:0.14900\n",
            "[80]\ttrain-mlogloss:0.21608\teval-mlogloss:0.14901\n",
            "[81]\ttrain-mlogloss:0.21604\teval-mlogloss:0.14928\n",
            "[82]\ttrain-mlogloss:0.21590\teval-mlogloss:0.14916\n",
            "[83]\ttrain-mlogloss:0.21590\teval-mlogloss:0.14912\n",
            "[84]\ttrain-mlogloss:0.21572\teval-mlogloss:0.14894\n",
            "[85]\ttrain-mlogloss:0.21567\teval-mlogloss:0.14889\n",
            "[86]\ttrain-mlogloss:0.21555\teval-mlogloss:0.14822\n",
            "[87]\ttrain-mlogloss:0.21541\teval-mlogloss:0.14814\n",
            "[88]\ttrain-mlogloss:0.21532\teval-mlogloss:0.14788\n",
            "[89]\ttrain-mlogloss:0.21511\teval-mlogloss:0.14777\n",
            "[90]\ttrain-mlogloss:0.21502\teval-mlogloss:0.14774\n",
            "[91]\ttrain-mlogloss:0.21502\teval-mlogloss:0.14776\n",
            "[92]\ttrain-mlogloss:0.21493\teval-mlogloss:0.14762\n",
            "[93]\ttrain-mlogloss:0.21477\teval-mlogloss:0.14772\n",
            "[94]\ttrain-mlogloss:0.21469\teval-mlogloss:0.14777\n",
            "[95]\ttrain-mlogloss:0.21458\teval-mlogloss:0.14765\n",
            "[96]\ttrain-mlogloss:0.21458\teval-mlogloss:0.14748\n",
            "[97]\ttrain-mlogloss:0.21453\teval-mlogloss:0.14757\n",
            "[98]\ttrain-mlogloss:0.21454\teval-mlogloss:0.14760\n",
            "[99]\ttrain-mlogloss:0.21441\teval-mlogloss:0.14690\n",
            "[100]\ttrain-mlogloss:0.21443\teval-mlogloss:0.14687\n",
            "[101]\ttrain-mlogloss:0.21428\teval-mlogloss:0.14687\n",
            "[102]\ttrain-mlogloss:0.21424\teval-mlogloss:0.14698\n",
            "[103]\ttrain-mlogloss:0.21412\teval-mlogloss:0.14636\n",
            "[104]\ttrain-mlogloss:0.21404\teval-mlogloss:0.14592\n",
            "[105]\ttrain-mlogloss:0.21393\teval-mlogloss:0.14589\n",
            "[106]\ttrain-mlogloss:0.21376\teval-mlogloss:0.14582\n",
            "[107]\ttrain-mlogloss:0.21359\teval-mlogloss:0.14577\n",
            "[108]\ttrain-mlogloss:0.21347\teval-mlogloss:0.14568\n",
            "[109]\ttrain-mlogloss:0.21338\teval-mlogloss:0.14564\n",
            "[110]\ttrain-mlogloss:0.21339\teval-mlogloss:0.14560\n",
            "[111]\ttrain-mlogloss:0.21331\teval-mlogloss:0.14553\n",
            "[112]\ttrain-mlogloss:0.21327\teval-mlogloss:0.14547\n",
            "[113]\ttrain-mlogloss:0.21328\teval-mlogloss:0.14549\n",
            "[114]\ttrain-mlogloss:0.21330\teval-mlogloss:0.14549\n",
            "[115]\ttrain-mlogloss:0.21332\teval-mlogloss:0.14547\n",
            "[116]\ttrain-mlogloss:0.21321\teval-mlogloss:0.14542\n",
            "[117]\ttrain-mlogloss:0.21312\teval-mlogloss:0.14541\n",
            "[118]\ttrain-mlogloss:0.21309\teval-mlogloss:0.14543\n",
            "[119]\ttrain-mlogloss:0.21298\teval-mlogloss:0.14535\n",
            "[120]\ttrain-mlogloss:0.21295\teval-mlogloss:0.14540\n",
            "[121]\ttrain-mlogloss:0.21291\teval-mlogloss:0.14549\n",
            "[122]\ttrain-mlogloss:0.21292\teval-mlogloss:0.14559\n",
            "[123]\ttrain-mlogloss:0.21291\teval-mlogloss:0.14564\n",
            "[124]\ttrain-mlogloss:0.21274\teval-mlogloss:0.14552\n",
            "[125]\ttrain-mlogloss:0.21268\teval-mlogloss:0.14560\n",
            "[126]\ttrain-mlogloss:0.21261\teval-mlogloss:0.14567\n",
            "[127]\ttrain-mlogloss:0.21237\teval-mlogloss:0.14544\n",
            "[128]\ttrain-mlogloss:0.21237\teval-mlogloss:0.14559\n",
            "[129]\ttrain-mlogloss:0.21232\teval-mlogloss:0.14552\n",
            "[130]\ttrain-mlogloss:0.21225\teval-mlogloss:0.14541\n",
            "[131]\ttrain-mlogloss:0.21221\teval-mlogloss:0.14552\n",
            "[132]\ttrain-mlogloss:0.21208\teval-mlogloss:0.14526\n",
            "[133]\ttrain-mlogloss:0.21208\teval-mlogloss:0.14530\n",
            "[134]\ttrain-mlogloss:0.21209\teval-mlogloss:0.14540\n",
            "[135]\ttrain-mlogloss:0.21196\teval-mlogloss:0.14536\n",
            "[136]\ttrain-mlogloss:0.21196\teval-mlogloss:0.14530\n",
            "[137]\ttrain-mlogloss:0.21164\teval-mlogloss:0.14510\n",
            "[138]\ttrain-mlogloss:0.21160\teval-mlogloss:0.14478\n",
            "[139]\ttrain-mlogloss:0.21151\teval-mlogloss:0.14467\n",
            "[140]\ttrain-mlogloss:0.21144\teval-mlogloss:0.14474\n",
            "[141]\ttrain-mlogloss:0.21127\teval-mlogloss:0.14470\n",
            "[142]\ttrain-mlogloss:0.21131\teval-mlogloss:0.14487\n",
            "[143]\ttrain-mlogloss:0.21132\teval-mlogloss:0.14488\n",
            "[144]\ttrain-mlogloss:0.21131\teval-mlogloss:0.14500\n",
            "[145]\ttrain-mlogloss:0.21122\teval-mlogloss:0.14488\n",
            "[146]\ttrain-mlogloss:0.21114\teval-mlogloss:0.14481\n",
            "[147]\ttrain-mlogloss:0.21100\teval-mlogloss:0.14488\n",
            "[148]\ttrain-mlogloss:0.21100\teval-mlogloss:0.14491\n",
            "[149]\ttrain-mlogloss:0.21103\teval-mlogloss:0.14501\n",
            "[150]\ttrain-mlogloss:0.21097\teval-mlogloss:0.14481\n",
            "[151]\ttrain-mlogloss:0.21096\teval-mlogloss:0.14462\n",
            "[152]\ttrain-mlogloss:0.21088\teval-mlogloss:0.14459\n",
            "[153]\ttrain-mlogloss:0.21088\teval-mlogloss:0.14454\n",
            "[154]\ttrain-mlogloss:0.21087\teval-mlogloss:0.14433\n",
            "[155]\ttrain-mlogloss:0.21076\teval-mlogloss:0.14448\n",
            "[156]\ttrain-mlogloss:0.21079\teval-mlogloss:0.14434\n",
            "[157]\ttrain-mlogloss:0.21078\teval-mlogloss:0.14437\n",
            "[158]\ttrain-mlogloss:0.21074\teval-mlogloss:0.14433\n",
            "[159]\ttrain-mlogloss:0.21064\teval-mlogloss:0.14430\n",
            "[160]\ttrain-mlogloss:0.21055\teval-mlogloss:0.14422\n",
            "[161]\ttrain-mlogloss:0.21042\teval-mlogloss:0.14404\n",
            "[162]\ttrain-mlogloss:0.21039\teval-mlogloss:0.14416\n",
            "[163]\ttrain-mlogloss:0.21032\teval-mlogloss:0.14416\n",
            "[164]\ttrain-mlogloss:0.21033\teval-mlogloss:0.14391\n",
            "[165]\ttrain-mlogloss:0.21026\teval-mlogloss:0.14384\n",
            "[166]\ttrain-mlogloss:0.21025\teval-mlogloss:0.14378\n",
            "[167]\ttrain-mlogloss:0.21023\teval-mlogloss:0.14375\n",
            "[168]\ttrain-mlogloss:0.21022\teval-mlogloss:0.14370\n",
            "[169]\ttrain-mlogloss:0.21020\teval-mlogloss:0.14361\n",
            "[170]\ttrain-mlogloss:0.21019\teval-mlogloss:0.14360\n",
            "[171]\ttrain-mlogloss:0.21017\teval-mlogloss:0.14354\n",
            "[172]\ttrain-mlogloss:0.21016\teval-mlogloss:0.14332\n",
            "[173]\ttrain-mlogloss:0.21015\teval-mlogloss:0.14335\n",
            "[174]\ttrain-mlogloss:0.21016\teval-mlogloss:0.14345\n",
            "[175]\ttrain-mlogloss:0.21015\teval-mlogloss:0.14339\n",
            "[176]\ttrain-mlogloss:0.21010\teval-mlogloss:0.14276\n",
            "[177]\ttrain-mlogloss:0.21005\teval-mlogloss:0.14250\n",
            "[178]\ttrain-mlogloss:0.21000\teval-mlogloss:0.14262\n",
            "[179]\ttrain-mlogloss:0.21001\teval-mlogloss:0.14259\n",
            "[180]\ttrain-mlogloss:0.21004\teval-mlogloss:0.14262\n",
            "[181]\ttrain-mlogloss:0.20998\teval-mlogloss:0.14277\n",
            "[182]\ttrain-mlogloss:0.20994\teval-mlogloss:0.14272\n",
            "[183]\ttrain-mlogloss:0.20992\teval-mlogloss:0.14276\n",
            "[184]\ttrain-mlogloss:0.20986\teval-mlogloss:0.14278\n",
            "[185]\ttrain-mlogloss:0.20986\teval-mlogloss:0.14287\n",
            "[186]\ttrain-mlogloss:0.20981\teval-mlogloss:0.14283\n",
            "[187]\ttrain-mlogloss:0.20979\teval-mlogloss:0.14279\n",
            "[188]\ttrain-mlogloss:0.20978\teval-mlogloss:0.14284\n",
            "[189]\ttrain-mlogloss:0.20981\teval-mlogloss:0.14316\n",
            "[190]\ttrain-mlogloss:0.20973\teval-mlogloss:0.14330\n",
            "[191]\ttrain-mlogloss:0.20968\teval-mlogloss:0.14338\n",
            "[192]\ttrain-mlogloss:0.20969\teval-mlogloss:0.14335\n",
            "[193]\ttrain-mlogloss:0.20970\teval-mlogloss:0.14333\n",
            "[194]\ttrain-mlogloss:0.20964\teval-mlogloss:0.14345\n",
            "[195]\ttrain-mlogloss:0.20957\teval-mlogloss:0.14342\n",
            "[196]\ttrain-mlogloss:0.20956\teval-mlogloss:0.14344\n",
            "[197]\ttrain-mlogloss:0.20951\teval-mlogloss:0.14347\n",
            "[198]\ttrain-mlogloss:0.20950\teval-mlogloss:0.14337\n",
            "[199]\ttrain-mlogloss:0.20950\teval-mlogloss:0.14339\n",
            "[200]\ttrain-mlogloss:0.20951\teval-mlogloss:0.14337\n",
            "[201]\ttrain-mlogloss:0.20955\teval-mlogloss:0.14322\n",
            "[202]\ttrain-mlogloss:0.20955\teval-mlogloss:0.14321\n",
            "[203]\ttrain-mlogloss:0.20953\teval-mlogloss:0.14338\n",
            "[204]\ttrain-mlogloss:0.20947\teval-mlogloss:0.14337\n",
            "[205]\ttrain-mlogloss:0.20940\teval-mlogloss:0.14326\n",
            "[206]\ttrain-mlogloss:0.20941\teval-mlogloss:0.14340\n"
          ]
        },
        {
          "name": "stderr",
          "output_type": "stream",
          "text": [
            "[I 2025-09-15 21:56:58,657] Trial 2 finished with value: 1.0 and parameters: {'lambda': 0.05833551390396485, 'alpha': 0.00020676052328455217, 'eta': 0.1209515515781702, 'gamma': 2.0353582259436597e-08, 'max_depth': 9, 'min_child_weight': 9, 'subsample': 0.8138507554476928, 'colsample_bytree': 0.7312931557766638}. Best is trial 0 with value: 1.0.\n"
          ]
        },
        {
          "name": "stdout",
          "output_type": "stream",
          "text": [
            "[0]\ttrain-mlogloss:0.91024\teval-mlogloss:0.91087\n"
          ]
        },
        {
          "name": "stderr",
          "output_type": "stream",
          "text": [
            "[I 2025-09-15 21:56:58,664] Trial 3 pruned. Trial was pruned at iteration 1.\n"
          ]
        },
        {
          "name": "stdout",
          "output_type": "stream",
          "text": [
            "[0]\ttrain-mlogloss:0.93299\teval-mlogloss:0.93535\n"
          ]
        },
        {
          "name": "stderr",
          "output_type": "stream",
          "text": [
            "[I 2025-09-15 21:56:58,669] Trial 4 pruned. Trial was pruned at iteration 1.\n"
          ]
        },
        {
          "name": "stdout",
          "output_type": "stream",
          "text": [
            "[0]\ttrain-mlogloss:1.00889\teval-mlogloss:1.00566\n",
            "[1]\ttrain-mlogloss:0.93246\teval-mlogloss:0.91690\n",
            "[2]\ttrain-mlogloss:0.87040\teval-mlogloss:0.85351\n",
            "[3]\ttrain-mlogloss:0.78916\teval-mlogloss:0.76645\n",
            "[4]\ttrain-mlogloss:0.73756\teval-mlogloss:0.71298\n",
            "[5]\ttrain-mlogloss:0.68945\teval-mlogloss:0.66433\n",
            "[6]\ttrain-mlogloss:0.64844\teval-mlogloss:0.61845\n",
            "[7]\ttrain-mlogloss:0.60961\teval-mlogloss:0.57812\n",
            "[8]\ttrain-mlogloss:0.57436\teval-mlogloss:0.53832\n",
            "[9]\ttrain-mlogloss:0.54141\teval-mlogloss:0.50236\n",
            "[10]\ttrain-mlogloss:0.51388\teval-mlogloss:0.47139\n",
            "[11]\ttrain-mlogloss:0.48900\teval-mlogloss:0.44573\n",
            "[12]\ttrain-mlogloss:0.46389\teval-mlogloss:0.41845\n",
            "[13]\ttrain-mlogloss:0.45336\teval-mlogloss:0.40595\n",
            "[14]\ttrain-mlogloss:0.43606\teval-mlogloss:0.38617\n",
            "[15]\ttrain-mlogloss:0.42557\teval-mlogloss:0.37522\n",
            "[16]\ttrain-mlogloss:0.42467\teval-mlogloss:0.37385\n",
            "[17]\ttrain-mlogloss:0.41668\teval-mlogloss:0.36407\n",
            "[18]\ttrain-mlogloss:0.41004\teval-mlogloss:0.35641\n",
            "[19]\ttrain-mlogloss:0.40806\teval-mlogloss:0.35408\n",
            "[20]\ttrain-mlogloss:0.39935\teval-mlogloss:0.34540\n",
            "[21]\ttrain-mlogloss:0.39791\teval-mlogloss:0.34192\n",
            "[22]\ttrain-mlogloss:0.39337\teval-mlogloss:0.33712\n",
            "[23]\ttrain-mlogloss:0.37812\teval-mlogloss:0.32104\n",
            "[24]\ttrain-mlogloss:0.37028\teval-mlogloss:0.30961\n",
            "[25]\ttrain-mlogloss:0.36323\teval-mlogloss:0.30094\n",
            "[26]\ttrain-mlogloss:0.36278\teval-mlogloss:0.30089\n",
            "[27]\ttrain-mlogloss:0.36223\teval-mlogloss:0.30093\n",
            "[28]\ttrain-mlogloss:0.36200\teval-mlogloss:0.30115\n",
            "[29]\ttrain-mlogloss:0.36161\teval-mlogloss:0.30124\n",
            "[30]\ttrain-mlogloss:0.36125\teval-mlogloss:0.30142\n",
            "[31]\ttrain-mlogloss:0.36024\teval-mlogloss:0.30027\n",
            "[32]\ttrain-mlogloss:0.35944\teval-mlogloss:0.29981\n",
            "[33]\ttrain-mlogloss:0.35927\teval-mlogloss:0.29928\n",
            "[34]\ttrain-mlogloss:0.35843\teval-mlogloss:0.29704\n",
            "[35]\ttrain-mlogloss:0.35834\teval-mlogloss:0.29710\n",
            "[36]\ttrain-mlogloss:0.35821\teval-mlogloss:0.29736\n",
            "[37]\ttrain-mlogloss:0.35762\teval-mlogloss:0.29765\n",
            "[38]\ttrain-mlogloss:0.35761\teval-mlogloss:0.29771\n",
            "[39]\ttrain-mlogloss:0.35602\teval-mlogloss:0.29574\n",
            "[40]\ttrain-mlogloss:0.35558\teval-mlogloss:0.29566\n",
            "[41]\ttrain-mlogloss:0.35506\teval-mlogloss:0.29509\n",
            "[42]\ttrain-mlogloss:0.35480\teval-mlogloss:0.29522\n",
            "[43]\ttrain-mlogloss:0.35478\teval-mlogloss:0.29526\n",
            "[44]\ttrain-mlogloss:0.35448\teval-mlogloss:0.29501\n",
            "[45]\ttrain-mlogloss:0.35419\teval-mlogloss:0.29471\n",
            "[46]\ttrain-mlogloss:0.35360\teval-mlogloss:0.29261\n",
            "[47]\ttrain-mlogloss:0.35309\teval-mlogloss:0.29145\n",
            "[48]\ttrain-mlogloss:0.35260\teval-mlogloss:0.29001\n",
            "[49]\ttrain-mlogloss:0.35204\teval-mlogloss:0.28838\n",
            "[50]\ttrain-mlogloss:0.34654\teval-mlogloss:0.28092\n",
            "[51]\ttrain-mlogloss:0.34605\teval-mlogloss:0.27945\n",
            "[52]\ttrain-mlogloss:0.34572\teval-mlogloss:0.27903\n",
            "[53]\ttrain-mlogloss:0.34569\teval-mlogloss:0.27898\n",
            "[54]\ttrain-mlogloss:0.34555\teval-mlogloss:0.27856\n",
            "[55]\ttrain-mlogloss:0.34520\teval-mlogloss:0.27843\n",
            "[56]\ttrain-mlogloss:0.34490\teval-mlogloss:0.27796\n",
            "[57]\ttrain-mlogloss:0.34451\teval-mlogloss:0.27638\n",
            "[58]\ttrain-mlogloss:0.34414\teval-mlogloss:0.27641\n",
            "[59]\ttrain-mlogloss:0.34396\teval-mlogloss:0.27627\n",
            "[60]\ttrain-mlogloss:0.34380\teval-mlogloss:0.27635\n",
            "[61]\ttrain-mlogloss:0.34347\teval-mlogloss:0.27655\n",
            "[62]\ttrain-mlogloss:0.34313\teval-mlogloss:0.27671\n",
            "[63]\ttrain-mlogloss:0.34319\teval-mlogloss:0.27658\n",
            "[64]\ttrain-mlogloss:0.34292\teval-mlogloss:0.27645\n",
            "[65]\ttrain-mlogloss:0.34299\teval-mlogloss:0.27695\n",
            "[66]\ttrain-mlogloss:0.34249\teval-mlogloss:0.27607\n",
            "[67]\ttrain-mlogloss:0.34224\teval-mlogloss:0.27619\n",
            "[68]\ttrain-mlogloss:0.34193\teval-mlogloss:0.27575\n",
            "[69]\ttrain-mlogloss:0.34144\teval-mlogloss:0.27513\n",
            "[70]\ttrain-mlogloss:0.34127\teval-mlogloss:0.27518\n",
            "[71]\ttrain-mlogloss:0.34111\teval-mlogloss:0.27560\n",
            "[72]\ttrain-mlogloss:0.34112\teval-mlogloss:0.27546\n",
            "[73]\ttrain-mlogloss:0.34065\teval-mlogloss:0.27494\n",
            "[74]\ttrain-mlogloss:0.34038\teval-mlogloss:0.27537\n",
            "[75]\ttrain-mlogloss:0.34037\teval-mlogloss:0.27572\n",
            "[76]\ttrain-mlogloss:0.34022\teval-mlogloss:0.27530\n",
            "[77]\ttrain-mlogloss:0.33974\teval-mlogloss:0.27497\n",
            "[78]\ttrain-mlogloss:0.33976\teval-mlogloss:0.27516\n",
            "[79]\ttrain-mlogloss:0.33962\teval-mlogloss:0.27532\n",
            "[80]\ttrain-mlogloss:0.33941\teval-mlogloss:0.27500\n",
            "[81]\ttrain-mlogloss:0.33944\teval-mlogloss:0.27523\n",
            "[82]\ttrain-mlogloss:0.33943\teval-mlogloss:0.27520\n",
            "[83]\ttrain-mlogloss:0.33939\teval-mlogloss:0.27496\n",
            "[84]\ttrain-mlogloss:0.33916\teval-mlogloss:0.27510\n",
            "[85]\ttrain-mlogloss:0.33912\teval-mlogloss:0.27494\n",
            "[86]\ttrain-mlogloss:0.33909\teval-mlogloss:0.27491\n",
            "[87]\ttrain-mlogloss:0.33858\teval-mlogloss:0.27431\n",
            "[88]\ttrain-mlogloss:0.33841\teval-mlogloss:0.27414\n",
            "[89]\ttrain-mlogloss:0.33829\teval-mlogloss:0.27385\n",
            "[90]\ttrain-mlogloss:0.33836\teval-mlogloss:0.27409\n",
            "[91]\ttrain-mlogloss:0.33823\teval-mlogloss:0.27394\n",
            "[92]\ttrain-mlogloss:0.33811\teval-mlogloss:0.27366\n",
            "[93]\ttrain-mlogloss:0.33786\teval-mlogloss:0.27349\n",
            "[94]\ttrain-mlogloss:0.33790\teval-mlogloss:0.27368\n",
            "[95]\ttrain-mlogloss:0.33774\teval-mlogloss:0.27396\n",
            "[96]\ttrain-mlogloss:0.33731\teval-mlogloss:0.27351\n",
            "[97]\ttrain-mlogloss:0.33703\teval-mlogloss:0.27320\n",
            "[98]\ttrain-mlogloss:0.33673\teval-mlogloss:0.27349\n",
            "[99]\ttrain-mlogloss:0.33663\teval-mlogloss:0.27304\n",
            "[100]\ttrain-mlogloss:0.33657\teval-mlogloss:0.27280\n",
            "[101]\ttrain-mlogloss:0.33637\teval-mlogloss:0.27241\n",
            "[102]\ttrain-mlogloss:0.33637\teval-mlogloss:0.27246\n",
            "[103]\ttrain-mlogloss:0.33622\teval-mlogloss:0.27258\n",
            "[104]\ttrain-mlogloss:0.33550\teval-mlogloss:0.27233\n",
            "[105]\ttrain-mlogloss:0.33532\teval-mlogloss:0.27145\n",
            "[106]\ttrain-mlogloss:0.33523\teval-mlogloss:0.27184\n",
            "[107]\ttrain-mlogloss:0.33521\teval-mlogloss:0.27235\n",
            "[108]\ttrain-mlogloss:0.33492\teval-mlogloss:0.27194\n",
            "[109]\ttrain-mlogloss:0.33484\teval-mlogloss:0.27154\n",
            "[110]\ttrain-mlogloss:0.33485\teval-mlogloss:0.27161\n",
            "[111]\ttrain-mlogloss:0.33482\teval-mlogloss:0.27155\n",
            "[112]\ttrain-mlogloss:0.33479\teval-mlogloss:0.27121\n",
            "[113]\ttrain-mlogloss:0.33484\teval-mlogloss:0.27118\n",
            "[114]\ttrain-mlogloss:0.33487\teval-mlogloss:0.27135\n",
            "[115]\ttrain-mlogloss:0.33463\teval-mlogloss:0.27160\n",
            "[116]\ttrain-mlogloss:0.33441\teval-mlogloss:0.27185\n",
            "[117]\ttrain-mlogloss:0.33425\teval-mlogloss:0.27202\n",
            "[118]\ttrain-mlogloss:0.33422\teval-mlogloss:0.27195\n",
            "[119]\ttrain-mlogloss:0.33420\teval-mlogloss:0.27171\n",
            "[120]\ttrain-mlogloss:0.33413\teval-mlogloss:0.27193\n",
            "[121]\ttrain-mlogloss:0.33375\teval-mlogloss:0.27194\n",
            "[122]\ttrain-mlogloss:0.33375\teval-mlogloss:0.27202\n",
            "[123]\ttrain-mlogloss:0.33360\teval-mlogloss:0.27164\n",
            "[124]\ttrain-mlogloss:0.32803\teval-mlogloss:0.26545\n",
            "[125]\ttrain-mlogloss:0.32792\teval-mlogloss:0.26554\n",
            "[126]\ttrain-mlogloss:0.32760\teval-mlogloss:0.26465\n",
            "[127]\ttrain-mlogloss:0.32753\teval-mlogloss:0.26441\n",
            "[128]\ttrain-mlogloss:0.32709\teval-mlogloss:0.26395\n",
            "[129]\ttrain-mlogloss:0.32687\teval-mlogloss:0.26377\n",
            "[130]\ttrain-mlogloss:0.32696\teval-mlogloss:0.26414\n",
            "[131]\ttrain-mlogloss:0.32695\teval-mlogloss:0.26416\n",
            "[132]\ttrain-mlogloss:0.32686\teval-mlogloss:0.26374\n",
            "[133]\ttrain-mlogloss:0.32683\teval-mlogloss:0.26347\n",
            "[134]\ttrain-mlogloss:0.32684\teval-mlogloss:0.26358\n",
            "[135]\ttrain-mlogloss:0.32654\teval-mlogloss:0.26376\n",
            "[136]\ttrain-mlogloss:0.32658\teval-mlogloss:0.26392\n",
            "[137]\ttrain-mlogloss:0.32650\teval-mlogloss:0.26389\n",
            "[138]\ttrain-mlogloss:0.32636\teval-mlogloss:0.26340\n",
            "[139]\ttrain-mlogloss:0.32632\teval-mlogloss:0.26331\n",
            "[140]\ttrain-mlogloss:0.32612\teval-mlogloss:0.26299\n",
            "[141]\ttrain-mlogloss:0.32613\teval-mlogloss:0.26303\n",
            "[142]\ttrain-mlogloss:0.32615\teval-mlogloss:0.26324\n",
            "[143]\ttrain-mlogloss:0.32617\teval-mlogloss:0.26333\n",
            "[144]\ttrain-mlogloss:0.32557\teval-mlogloss:0.26274\n",
            "[145]\ttrain-mlogloss:0.32560\teval-mlogloss:0.26291\n",
            "[146]\ttrain-mlogloss:0.32557\teval-mlogloss:0.26264\n",
            "[147]\ttrain-mlogloss:0.32517\teval-mlogloss:0.26124\n",
            "[148]\ttrain-mlogloss:0.32521\teval-mlogloss:0.26154\n",
            "[149]\ttrain-mlogloss:0.32524\teval-mlogloss:0.26169\n",
            "[150]\ttrain-mlogloss:0.32521\teval-mlogloss:0.26122\n",
            "[151]\ttrain-mlogloss:0.32521\teval-mlogloss:0.26110\n",
            "[152]\ttrain-mlogloss:0.32524\teval-mlogloss:0.26113\n",
            "[153]\ttrain-mlogloss:0.32518\teval-mlogloss:0.26105\n",
            "[154]\ttrain-mlogloss:0.32524\teval-mlogloss:0.26045\n",
            "[155]\ttrain-mlogloss:0.32536\teval-mlogloss:0.26060\n",
            "[156]\ttrain-mlogloss:0.32545\teval-mlogloss:0.26070\n",
            "[157]\ttrain-mlogloss:0.32544\teval-mlogloss:0.26049\n",
            "[158]\ttrain-mlogloss:0.32488\teval-mlogloss:0.26031\n",
            "[159]\ttrain-mlogloss:0.32479\teval-mlogloss:0.26030\n",
            "[160]\ttrain-mlogloss:0.32477\teval-mlogloss:0.26005\n",
            "[161]\ttrain-mlogloss:0.32470\teval-mlogloss:0.26013\n",
            "[162]\ttrain-mlogloss:0.32466\teval-mlogloss:0.26002\n",
            "[163]\ttrain-mlogloss:0.32465\teval-mlogloss:0.26006\n",
            "[164]\ttrain-mlogloss:0.32464\teval-mlogloss:0.26026\n",
            "[165]\ttrain-mlogloss:0.32441\teval-mlogloss:0.25915\n",
            "[166]\ttrain-mlogloss:0.32425\teval-mlogloss:0.25844\n",
            "[167]\ttrain-mlogloss:0.32424\teval-mlogloss:0.25850\n",
            "[168]\ttrain-mlogloss:0.32421\teval-mlogloss:0.25871\n",
            "[169]\ttrain-mlogloss:0.32377\teval-mlogloss:0.25854\n",
            "[170]\ttrain-mlogloss:0.32376\teval-mlogloss:0.25870\n",
            "[171]\ttrain-mlogloss:0.32356\teval-mlogloss:0.25820\n",
            "[172]\ttrain-mlogloss:0.32349\teval-mlogloss:0.25772\n",
            "[173]\ttrain-mlogloss:0.32349\teval-mlogloss:0.25766\n",
            "[174]\ttrain-mlogloss:0.32346\teval-mlogloss:0.25807\n",
            "[175]\ttrain-mlogloss:0.32348\teval-mlogloss:0.25799\n",
            "[176]\ttrain-mlogloss:0.32347\teval-mlogloss:0.25769\n",
            "[177]\ttrain-mlogloss:0.32330\teval-mlogloss:0.25750\n",
            "[178]\ttrain-mlogloss:0.32338\teval-mlogloss:0.25772\n",
            "[179]\ttrain-mlogloss:0.32343\teval-mlogloss:0.25778\n",
            "[180]\ttrain-mlogloss:0.32324\teval-mlogloss:0.25663\n",
            "[181]\ttrain-mlogloss:0.32316\teval-mlogloss:0.25642\n",
            "[182]\ttrain-mlogloss:0.32317\teval-mlogloss:0.25603\n",
            "[183]\ttrain-mlogloss:0.32318\teval-mlogloss:0.25650\n",
            "[184]\ttrain-mlogloss:0.32302\teval-mlogloss:0.25640\n",
            "[185]\ttrain-mlogloss:0.32301\teval-mlogloss:0.25652\n",
            "[186]\ttrain-mlogloss:0.32289\teval-mlogloss:0.25541\n",
            "[187]\ttrain-mlogloss:0.32293\teval-mlogloss:0.25519\n",
            "[188]\ttrain-mlogloss:0.32291\teval-mlogloss:0.25566\n",
            "[189]\ttrain-mlogloss:0.32292\teval-mlogloss:0.25616\n",
            "[190]\ttrain-mlogloss:0.32303\teval-mlogloss:0.25669\n",
            "[191]\ttrain-mlogloss:0.32300\teval-mlogloss:0.25647\n",
            "[192]\ttrain-mlogloss:0.32294\teval-mlogloss:0.25645\n",
            "[193]\ttrain-mlogloss:0.32291\teval-mlogloss:0.25626\n",
            "[194]\ttrain-mlogloss:0.32271\teval-mlogloss:0.25646\n",
            "[195]\ttrain-mlogloss:0.32274\teval-mlogloss:0.25614\n",
            "[196]\ttrain-mlogloss:0.32263\teval-mlogloss:0.25640\n",
            "[197]\ttrain-mlogloss:0.32256\teval-mlogloss:0.25612\n",
            "[198]\ttrain-mlogloss:0.32258\teval-mlogloss:0.25602\n",
            "[199]\ttrain-mlogloss:0.32246\teval-mlogloss:0.25586\n",
            "[200]\ttrain-mlogloss:0.32246\teval-mlogloss:0.25587\n",
            "[201]\ttrain-mlogloss:0.32248\teval-mlogloss:0.25545\n",
            "[202]\ttrain-mlogloss:0.32248\teval-mlogloss:0.25542\n",
            "[203]\ttrain-mlogloss:0.32244\teval-mlogloss:0.25544\n",
            "[204]\ttrain-mlogloss:0.32243\teval-mlogloss:0.25541\n",
            "[205]\ttrain-mlogloss:0.32232\teval-mlogloss:0.25440\n",
            "[206]\ttrain-mlogloss:0.32226\teval-mlogloss:0.25455\n",
            "[207]\ttrain-mlogloss:0.32220\teval-mlogloss:0.25465\n",
            "[208]\ttrain-mlogloss:0.32205\teval-mlogloss:0.25430\n",
            "[209]\ttrain-mlogloss:0.32195\teval-mlogloss:0.25287\n",
            "[210]\ttrain-mlogloss:0.32195\teval-mlogloss:0.25290\n",
            "[211]\ttrain-mlogloss:0.32171\teval-mlogloss:0.25288\n",
            "[212]\ttrain-mlogloss:0.32172\teval-mlogloss:0.25290\n",
            "[213]\ttrain-mlogloss:0.32170\teval-mlogloss:0.25298\n",
            "[214]\ttrain-mlogloss:0.32175\teval-mlogloss:0.25265\n",
            "[215]\ttrain-mlogloss:0.32172\teval-mlogloss:0.25286\n",
            "[216]\ttrain-mlogloss:0.32175\teval-mlogloss:0.25266\n",
            "[217]\ttrain-mlogloss:0.32169\teval-mlogloss:0.25245\n",
            "[218]\ttrain-mlogloss:0.32171\teval-mlogloss:0.25267\n",
            "[219]\ttrain-mlogloss:0.32174\teval-mlogloss:0.25255\n",
            "[220]\ttrain-mlogloss:0.32161\teval-mlogloss:0.25265\n",
            "[221]\ttrain-mlogloss:0.32158\teval-mlogloss:0.25294\n",
            "[222]\ttrain-mlogloss:0.32153\teval-mlogloss:0.25292\n",
            "[223]\ttrain-mlogloss:0.32155\teval-mlogloss:0.25314\n",
            "[224]\ttrain-mlogloss:0.32150\teval-mlogloss:0.25317\n",
            "[225]\ttrain-mlogloss:0.32150\teval-mlogloss:0.25310\n",
            "[226]\ttrain-mlogloss:0.32152\teval-mlogloss:0.25269\n",
            "[227]\ttrain-mlogloss:0.32151\teval-mlogloss:0.25288\n",
            "[228]\ttrain-mlogloss:0.32145\teval-mlogloss:0.25315\n",
            "[229]\ttrain-mlogloss:0.32147\teval-mlogloss:0.25369\n",
            "[230]\ttrain-mlogloss:0.32150\teval-mlogloss:0.25379\n",
            "[231]\ttrain-mlogloss:0.32154\teval-mlogloss:0.25397\n",
            "[232]\ttrain-mlogloss:0.32148\teval-mlogloss:0.25394\n",
            "[233]\ttrain-mlogloss:0.32147\teval-mlogloss:0.25386\n",
            "[234]\ttrain-mlogloss:0.32153\teval-mlogloss:0.25439\n",
            "[235]\ttrain-mlogloss:0.32158\teval-mlogloss:0.25465\n",
            "[236]\ttrain-mlogloss:0.32157\teval-mlogloss:0.25468\n",
            "[237]\ttrain-mlogloss:0.32159\teval-mlogloss:0.25478\n",
            "[238]\ttrain-mlogloss:0.32160\teval-mlogloss:0.25500\n",
            "[239]\ttrain-mlogloss:0.32154\teval-mlogloss:0.25469\n",
            "[240]\ttrain-mlogloss:0.32155\teval-mlogloss:0.25473\n",
            "[241]\ttrain-mlogloss:0.32139\teval-mlogloss:0.25407\n",
            "[242]\ttrain-mlogloss:0.32144\teval-mlogloss:0.25439\n",
            "[243]\ttrain-mlogloss:0.32138\teval-mlogloss:0.25397\n",
            "[244]\ttrain-mlogloss:0.32137\teval-mlogloss:0.25395\n",
            "[245]\ttrain-mlogloss:0.32135\teval-mlogloss:0.25369\n",
            "[246]\ttrain-mlogloss:0.32131\teval-mlogloss:0.25295\n",
            "[247]\ttrain-mlogloss:0.32130\teval-mlogloss:0.25304\n"
          ]
        },
        {
          "name": "stderr",
          "output_type": "stream",
          "text": [
            "[I 2025-09-15 21:56:59,075] Trial 5 finished with value: 1.0 and parameters: {'lambda': 3.3520776350163593e-08, 'alpha': 3.323322402808529e-07, 'eta': 0.09271315334201359, 'gamma': 6.846216386539234e-07, 'max_depth': 9, 'min_child_weight': 10, 'subsample': 0.5731338300768405, 'colsample_bytree': 0.7846729832277263}. Best is trial 0 with value: 1.0.\n"
          ]
        },
        {
          "name": "stdout",
          "output_type": "stream",
          "text": [
            "[0]\ttrain-mlogloss:0.94722\teval-mlogloss:0.93878\n",
            "[1]\ttrain-mlogloss:0.88018\teval-mlogloss:0.86780\n"
          ]
        },
        {
          "name": "stderr",
          "output_type": "stream",
          "text": [
            "[I 2025-09-15 21:56:59,081] Trial 6 pruned. Trial was pruned at iteration 1.\n"
          ]
        },
        {
          "name": "stdout",
          "output_type": "stream",
          "text": [
            "[0]\ttrain-mlogloss:0.91186\teval-mlogloss:0.90322\n",
            "[1]\ttrain-mlogloss:0.76941\teval-mlogloss:0.75037\n"
          ]
        },
        {
          "name": "stderr",
          "output_type": "stream",
          "text": [
            "[I 2025-09-15 21:56:59,087] Trial 7 pruned. Trial was pruned at iteration 1.\n"
          ]
        },
        {
          "name": "stdout",
          "output_type": "stream",
          "text": [
            "[0]\ttrain-mlogloss:0.76857\teval-mlogloss:0.76611\n",
            "[1]\ttrain-mlogloss:0.56809\teval-mlogloss:0.54868\n"
          ]
        },
        {
          "name": "stderr",
          "output_type": "stream",
          "text": [
            "[I 2025-09-15 21:56:59,093] Trial 8 pruned. Trial was pruned at iteration 1.\n"
          ]
        },
        {
          "name": "stdout",
          "output_type": "stream",
          "text": [
            "[0]\ttrain-mlogloss:1.03971\teval-mlogloss:1.03652\n",
            "[1]\ttrain-mlogloss:1.01150\teval-mlogloss:1.00702\n",
            "[2]\ttrain-mlogloss:0.97613\teval-mlogloss:0.97589\n",
            "[3]\ttrain-mlogloss:0.91730\teval-mlogloss:0.91337\n",
            "[4]\ttrain-mlogloss:0.89672\teval-mlogloss:0.89163\n",
            "[5]\ttrain-mlogloss:0.86317\teval-mlogloss:0.85828\n",
            "[6]\ttrain-mlogloss:0.81481\teval-mlogloss:0.80635\n",
            "[7]\ttrain-mlogloss:0.76542\teval-mlogloss:0.75376\n",
            "[8]\ttrain-mlogloss:0.74455\teval-mlogloss:0.73497\n",
            "[9]\ttrain-mlogloss:0.70014\teval-mlogloss:0.68775\n",
            "[10]\ttrain-mlogloss:0.66975\teval-mlogloss:0.65677\n",
            "[11]\ttrain-mlogloss:0.65696\teval-mlogloss:0.64549\n",
            "[12]\ttrain-mlogloss:0.62561\teval-mlogloss:0.61240\n",
            "[13]\ttrain-mlogloss:0.60149\teval-mlogloss:0.58674\n",
            "[14]\ttrain-mlogloss:0.56936\teval-mlogloss:0.55044\n",
            "[15]\ttrain-mlogloss:0.55301\teval-mlogloss:0.53335\n",
            "[16]\ttrain-mlogloss:0.54032\teval-mlogloss:0.51913\n",
            "[17]\ttrain-mlogloss:0.51899\teval-mlogloss:0.49828\n",
            "[18]\ttrain-mlogloss:0.49833\teval-mlogloss:0.47556\n",
            "[19]\ttrain-mlogloss:0.49399\teval-mlogloss:0.47109\n",
            "[20]\ttrain-mlogloss:0.48936\teval-mlogloss:0.46659\n",
            "[21]\ttrain-mlogloss:0.47268\teval-mlogloss:0.44941\n",
            "[22]\ttrain-mlogloss:0.44929\teval-mlogloss:0.42279\n",
            "[23]\ttrain-mlogloss:0.42813\teval-mlogloss:0.39973\n",
            "[24]\ttrain-mlogloss:0.41241\teval-mlogloss:0.38253\n",
            "[25]\ttrain-mlogloss:0.39339\teval-mlogloss:0.36161\n",
            "[26]\ttrain-mlogloss:0.39063\teval-mlogloss:0.35883\n",
            "[27]\ttrain-mlogloss:0.37630\teval-mlogloss:0.34265\n",
            "[28]\ttrain-mlogloss:0.36927\teval-mlogloss:0.33555\n",
            "[29]\ttrain-mlogloss:0.36168\teval-mlogloss:0.32703\n",
            "[30]\ttrain-mlogloss:0.35673\teval-mlogloss:0.32198\n",
            "[31]\ttrain-mlogloss:0.34615\teval-mlogloss:0.30958\n",
            "[32]\ttrain-mlogloss:0.33383\teval-mlogloss:0.29549\n",
            "[33]\ttrain-mlogloss:0.33144\teval-mlogloss:0.29191\n",
            "[34]\ttrain-mlogloss:0.32408\teval-mlogloss:0.28403\n",
            "[35]\ttrain-mlogloss:0.31717\teval-mlogloss:0.27612\n",
            "[36]\ttrain-mlogloss:0.31146\teval-mlogloss:0.26935\n",
            "[37]\ttrain-mlogloss:0.30064\teval-mlogloss:0.25679\n",
            "[38]\ttrain-mlogloss:0.29493\teval-mlogloss:0.25038\n",
            "[39]\ttrain-mlogloss:0.28777\teval-mlogloss:0.24289\n",
            "[40]\ttrain-mlogloss:0.28275\teval-mlogloss:0.23780\n",
            "[41]\ttrain-mlogloss:0.27581\teval-mlogloss:0.23010\n",
            "[42]\ttrain-mlogloss:0.27024\teval-mlogloss:0.22278\n",
            "[43]\ttrain-mlogloss:0.26457\teval-mlogloss:0.21684\n",
            "[44]\ttrain-mlogloss:0.25889\teval-mlogloss:0.21047\n",
            "[45]\ttrain-mlogloss:0.25195\teval-mlogloss:0.20250\n",
            "[46]\ttrain-mlogloss:0.25029\teval-mlogloss:0.20117\n",
            "[47]\ttrain-mlogloss:0.24718\teval-mlogloss:0.19721\n",
            "[48]\ttrain-mlogloss:0.24313\teval-mlogloss:0.19282\n",
            "[49]\ttrain-mlogloss:0.23910\teval-mlogloss:0.18789\n",
            "[50]\ttrain-mlogloss:0.23450\teval-mlogloss:0.18201\n",
            "[51]\ttrain-mlogloss:0.22977\teval-mlogloss:0.17666\n",
            "[52]\ttrain-mlogloss:0.22712\teval-mlogloss:0.17410\n",
            "[53]\ttrain-mlogloss:0.22199\teval-mlogloss:0.16829\n",
            "[54]\ttrain-mlogloss:0.22020\teval-mlogloss:0.16619\n",
            "[55]\ttrain-mlogloss:0.21978\teval-mlogloss:0.16614\n",
            "[56]\ttrain-mlogloss:0.21832\teval-mlogloss:0.16410\n",
            "[57]\ttrain-mlogloss:0.21562\teval-mlogloss:0.16169\n",
            "[58]\ttrain-mlogloss:0.21202\teval-mlogloss:0.15781\n",
            "[59]\ttrain-mlogloss:0.20765\teval-mlogloss:0.15268\n",
            "[60]\ttrain-mlogloss:0.20701\teval-mlogloss:0.15190\n",
            "[61]\ttrain-mlogloss:0.20522\teval-mlogloss:0.15026\n",
            "[62]\ttrain-mlogloss:0.20347\teval-mlogloss:0.14838\n",
            "[63]\ttrain-mlogloss:0.20331\teval-mlogloss:0.14837\n"
          ]
        },
        {
          "name": "stderr",
          "output_type": "stream",
          "text": [
            "[I 2025-09-15 21:56:59,216] Trial 9 pruned. Trial was pruned at iteration 64.\n"
          ]
        },
        {
          "name": "stdout",
          "output_type": "stream",
          "text": [
            "[0]\ttrain-mlogloss:0.77748\teval-mlogloss:0.76402\n"
          ]
        },
        {
          "name": "stderr",
          "output_type": "stream",
          "text": [
            "[I 2025-09-15 21:56:59,232] Trial 10 pruned. Trial was pruned at iteration 1.\n"
          ]
        },
        {
          "name": "stdout",
          "output_type": "stream",
          "text": [
            "[0]\ttrain-mlogloss:0.83202\teval-mlogloss:0.83047\n"
          ]
        },
        {
          "name": "stderr",
          "output_type": "stream",
          "text": [
            "[I 2025-09-15 21:56:59,248] Trial 11 pruned. Trial was pruned at iteration 1.\n"
          ]
        },
        {
          "name": "stdout",
          "output_type": "stream",
          "text": [
            "[0]\ttrain-mlogloss:1.07384\teval-mlogloss:1.07342\n",
            "[1]\ttrain-mlogloss:1.05607\teval-mlogloss:1.06016\n",
            "[2]\ttrain-mlogloss:1.03311\teval-mlogloss:1.03732\n",
            "[3]\ttrain-mlogloss:1.00937\teval-mlogloss:1.01237\n",
            "[4]\ttrain-mlogloss:0.98695\teval-mlogloss:0.98858\n",
            "[5]\ttrain-mlogloss:0.96501\teval-mlogloss:0.96592\n",
            "[6]\ttrain-mlogloss:0.94394\teval-mlogloss:0.94476\n",
            "[7]\ttrain-mlogloss:0.92385\teval-mlogloss:0.92412\n",
            "[8]\ttrain-mlogloss:0.90439\teval-mlogloss:0.90348\n",
            "[9]\ttrain-mlogloss:0.88479\teval-mlogloss:0.88511\n",
            "[10]\ttrain-mlogloss:0.86652\teval-mlogloss:0.86758\n",
            "[11]\ttrain-mlogloss:0.84822\teval-mlogloss:0.84928\n",
            "[12]\ttrain-mlogloss:0.83269\teval-mlogloss:0.83307\n",
            "[13]\ttrain-mlogloss:0.81562\teval-mlogloss:0.81572\n",
            "[14]\ttrain-mlogloss:0.79917\teval-mlogloss:0.79843\n",
            "[15]\ttrain-mlogloss:0.78411\teval-mlogloss:0.78508\n",
            "[16]\ttrain-mlogloss:0.77024\teval-mlogloss:0.77139\n",
            "[17]\ttrain-mlogloss:0.75453\teval-mlogloss:0.75508\n",
            "[18]\ttrain-mlogloss:0.74127\teval-mlogloss:0.74327\n",
            "[19]\ttrain-mlogloss:0.72695\teval-mlogloss:0.72900\n",
            "[20]\ttrain-mlogloss:0.71448\teval-mlogloss:0.71742\n",
            "[21]\ttrain-mlogloss:0.70169\teval-mlogloss:0.70461\n",
            "[22]\ttrain-mlogloss:0.68791\teval-mlogloss:0.69007\n",
            "[23]\ttrain-mlogloss:0.67423\teval-mlogloss:0.67535\n",
            "[24]\ttrain-mlogloss:0.66084\teval-mlogloss:0.66216\n",
            "[25]\ttrain-mlogloss:0.64825\teval-mlogloss:0.64829\n",
            "[26]\ttrain-mlogloss:0.63607\teval-mlogloss:0.63608\n",
            "[27]\ttrain-mlogloss:0.62390\teval-mlogloss:0.62374\n",
            "[28]\ttrain-mlogloss:0.61203\teval-mlogloss:0.61225\n",
            "[29]\ttrain-mlogloss:0.60209\teval-mlogloss:0.60310\n",
            "[30]\ttrain-mlogloss:0.59341\teval-mlogloss:0.59660\n",
            "[31]\ttrain-mlogloss:0.58378\teval-mlogloss:0.58703\n",
            "[32]\ttrain-mlogloss:0.57310\teval-mlogloss:0.57614\n",
            "[33]\ttrain-mlogloss:0.56271\teval-mlogloss:0.56498\n",
            "[34]\ttrain-mlogloss:0.55376\teval-mlogloss:0.55701\n",
            "[35]\ttrain-mlogloss:0.54365\teval-mlogloss:0.54625\n",
            "[36]\ttrain-mlogloss:0.53401\teval-mlogloss:0.53695\n",
            "[37]\ttrain-mlogloss:0.52400\teval-mlogloss:0.52634\n",
            "[38]\ttrain-mlogloss:0.51469\teval-mlogloss:0.51774\n",
            "[39]\ttrain-mlogloss:0.50493\teval-mlogloss:0.50770\n",
            "[40]\ttrain-mlogloss:0.49644\teval-mlogloss:0.50003\n",
            "[41]\ttrain-mlogloss:0.48767\teval-mlogloss:0.49018\n",
            "[42]\ttrain-mlogloss:0.47917\teval-mlogloss:0.48066\n",
            "[43]\ttrain-mlogloss:0.47041\teval-mlogloss:0.47170\n",
            "[44]\ttrain-mlogloss:0.46319\teval-mlogloss:0.46474\n",
            "[45]\ttrain-mlogloss:0.45519\teval-mlogloss:0.45656\n",
            "[46]\ttrain-mlogloss:0.44707\teval-mlogloss:0.44819\n",
            "[47]\ttrain-mlogloss:0.43940\teval-mlogloss:0.44076\n",
            "[48]\ttrain-mlogloss:0.43186\teval-mlogloss:0.43333\n",
            "[49]\ttrain-mlogloss:0.42427\teval-mlogloss:0.42525\n",
            "[50]\ttrain-mlogloss:0.41718\teval-mlogloss:0.41758\n",
            "[51]\ttrain-mlogloss:0.41022\teval-mlogloss:0.40976\n",
            "[52]\ttrain-mlogloss:0.40450\teval-mlogloss:0.40469\n",
            "[53]\ttrain-mlogloss:0.39780\teval-mlogloss:0.39736\n",
            "[54]\ttrain-mlogloss:0.39216\teval-mlogloss:0.39254\n",
            "[55]\ttrain-mlogloss:0.38611\teval-mlogloss:0.38825\n",
            "[56]\ttrain-mlogloss:0.38043\teval-mlogloss:0.38289\n",
            "[57]\ttrain-mlogloss:0.37479\teval-mlogloss:0.37741\n",
            "[58]\ttrain-mlogloss:0.36941\teval-mlogloss:0.37222\n",
            "[59]\ttrain-mlogloss:0.36316\teval-mlogloss:0.36528\n",
            "[60]\ttrain-mlogloss:0.35707\teval-mlogloss:0.35955\n",
            "[61]\ttrain-mlogloss:0.35183\teval-mlogloss:0.35436\n",
            "[62]\ttrain-mlogloss:0.34603\teval-mlogloss:0.34868\n",
            "[63]\ttrain-mlogloss:0.34029\teval-mlogloss:0.34398\n",
            "[64]\ttrain-mlogloss:0.33469\teval-mlogloss:0.33832\n",
            "[65]\ttrain-mlogloss:0.32905\teval-mlogloss:0.33250\n",
            "[66]\ttrain-mlogloss:0.32364\teval-mlogloss:0.32636\n",
            "[67]\ttrain-mlogloss:0.31903\teval-mlogloss:0.32156\n",
            "[68]\ttrain-mlogloss:0.31444\teval-mlogloss:0.31771\n",
            "[69]\ttrain-mlogloss:0.30956\teval-mlogloss:0.31310\n",
            "[70]\ttrain-mlogloss:0.30493\teval-mlogloss:0.30812\n",
            "[71]\ttrain-mlogloss:0.29995\teval-mlogloss:0.30258\n",
            "[72]\ttrain-mlogloss:0.29599\teval-mlogloss:0.29889\n",
            "[73]\ttrain-mlogloss:0.29113\teval-mlogloss:0.29463\n",
            "[74]\ttrain-mlogloss:0.28654\teval-mlogloss:0.29048\n",
            "[75]\ttrain-mlogloss:0.28195\teval-mlogloss:0.28602\n",
            "[76]\ttrain-mlogloss:0.27827\teval-mlogloss:0.28308\n",
            "[77]\ttrain-mlogloss:0.27397\teval-mlogloss:0.27890\n",
            "[78]\ttrain-mlogloss:0.27026\teval-mlogloss:0.27515\n",
            "[79]\ttrain-mlogloss:0.26619\teval-mlogloss:0.27020\n",
            "[80]\ttrain-mlogloss:0.26233\teval-mlogloss:0.26613\n",
            "[81]\ttrain-mlogloss:0.25828\teval-mlogloss:0.26186\n",
            "[82]\ttrain-mlogloss:0.25423\teval-mlogloss:0.25793\n",
            "[83]\ttrain-mlogloss:0.25034\teval-mlogloss:0.25369\n",
            "[84]\ttrain-mlogloss:0.24652\teval-mlogloss:0.24960\n",
            "[85]\ttrain-mlogloss:0.24358\teval-mlogloss:0.24691\n",
            "[86]\ttrain-mlogloss:0.23978\teval-mlogloss:0.24269\n",
            "[87]\ttrain-mlogloss:0.23671\teval-mlogloss:0.24000\n",
            "[88]\ttrain-mlogloss:0.23339\teval-mlogloss:0.23611\n",
            "[89]\ttrain-mlogloss:0.22964\teval-mlogloss:0.23219\n",
            "[90]\ttrain-mlogloss:0.22618\teval-mlogloss:0.22837\n",
            "[91]\ttrain-mlogloss:0.22314\teval-mlogloss:0.22510\n",
            "[92]\ttrain-mlogloss:0.22003\teval-mlogloss:0.22171\n",
            "[93]\ttrain-mlogloss:0.21677\teval-mlogloss:0.21798\n",
            "[94]\ttrain-mlogloss:0.21364\teval-mlogloss:0.21431\n",
            "[95]\ttrain-mlogloss:0.21091\teval-mlogloss:0.21094\n",
            "[96]\ttrain-mlogloss:0.20801\teval-mlogloss:0.20743\n",
            "[97]\ttrain-mlogloss:0.20490\teval-mlogloss:0.20428\n",
            "[98]\ttrain-mlogloss:0.20193\teval-mlogloss:0.20151\n",
            "[99]\ttrain-mlogloss:0.19885\teval-mlogloss:0.19877\n",
            "[100]\ttrain-mlogloss:0.19634\teval-mlogloss:0.19676\n",
            "[101]\ttrain-mlogloss:0.19349\teval-mlogloss:0.19383\n",
            "[102]\ttrain-mlogloss:0.19059\teval-mlogloss:0.19085\n",
            "[103]\ttrain-mlogloss:0.18796\teval-mlogloss:0.18814\n",
            "[104]\ttrain-mlogloss:0.18582\teval-mlogloss:0.18584\n",
            "[105]\ttrain-mlogloss:0.18344\teval-mlogloss:0.18311\n",
            "[106]\ttrain-mlogloss:0.18073\teval-mlogloss:0.18067\n",
            "[107]\ttrain-mlogloss:0.17827\teval-mlogloss:0.17802\n",
            "[108]\ttrain-mlogloss:0.17587\teval-mlogloss:0.17544\n",
            "[109]\ttrain-mlogloss:0.17377\teval-mlogloss:0.17345\n",
            "[110]\ttrain-mlogloss:0.17143\teval-mlogloss:0.17044\n",
            "[111]\ttrain-mlogloss:0.16905\teval-mlogloss:0.16758\n",
            "[112]\ttrain-mlogloss:0.16707\teval-mlogloss:0.16593\n",
            "[113]\ttrain-mlogloss:0.16510\teval-mlogloss:0.16392\n",
            "[114]\ttrain-mlogloss:0.16291\teval-mlogloss:0.16130\n",
            "[115]\ttrain-mlogloss:0.16085\teval-mlogloss:0.15893\n",
            "[116]\ttrain-mlogloss:0.15880\teval-mlogloss:0.15766\n",
            "[117]\ttrain-mlogloss:0.15674\teval-mlogloss:0.15509\n",
            "[118]\ttrain-mlogloss:0.15459\teval-mlogloss:0.15337\n",
            "[119]\ttrain-mlogloss:0.15266\teval-mlogloss:0.15153\n",
            "[120]\ttrain-mlogloss:0.15082\teval-mlogloss:0.14977\n",
            "[121]\ttrain-mlogloss:0.14886\teval-mlogloss:0.14733\n",
            "[122]\ttrain-mlogloss:0.14684\teval-mlogloss:0.14514\n",
            "[123]\ttrain-mlogloss:0.14530\teval-mlogloss:0.14347\n",
            "[124]\ttrain-mlogloss:0.14356\teval-mlogloss:0.14229\n",
            "[125]\ttrain-mlogloss:0.14203\teval-mlogloss:0.14058\n",
            "[126]\ttrain-mlogloss:0.14037\teval-mlogloss:0.13974\n",
            "[127]\ttrain-mlogloss:0.13880\teval-mlogloss:0.13780\n",
            "[128]\ttrain-mlogloss:0.13700\teval-mlogloss:0.13553\n",
            "[129]\ttrain-mlogloss:0.13525\teval-mlogloss:0.13378\n",
            "[130]\ttrain-mlogloss:0.13347\teval-mlogloss:0.13260\n",
            "[131]\ttrain-mlogloss:0.13198\teval-mlogloss:0.13088\n",
            "[132]\ttrain-mlogloss:0.13046\teval-mlogloss:0.12908\n",
            "[133]\ttrain-mlogloss:0.12911\teval-mlogloss:0.12813\n",
            "[134]\ttrain-mlogloss:0.12756\teval-mlogloss:0.12610\n",
            "[135]\ttrain-mlogloss:0.12623\teval-mlogloss:0.12500\n",
            "[136]\ttrain-mlogloss:0.12463\teval-mlogloss:0.12335\n",
            "[137]\ttrain-mlogloss:0.12311\teval-mlogloss:0.12158\n",
            "[138]\ttrain-mlogloss:0.12172\teval-mlogloss:0.12034\n",
            "[139]\ttrain-mlogloss:0.12044\teval-mlogloss:0.11956\n",
            "[140]\ttrain-mlogloss:0.11900\teval-mlogloss:0.11758\n",
            "[141]\ttrain-mlogloss:0.11762\teval-mlogloss:0.11586\n",
            "[142]\ttrain-mlogloss:0.11625\teval-mlogloss:0.11453\n",
            "[143]\ttrain-mlogloss:0.11492\teval-mlogloss:0.11292\n",
            "[144]\ttrain-mlogloss:0.11352\teval-mlogloss:0.11165\n",
            "[145]\ttrain-mlogloss:0.11222\teval-mlogloss:0.10987\n",
            "[146]\ttrain-mlogloss:0.11100\teval-mlogloss:0.10835\n",
            "[147]\ttrain-mlogloss:0.10969\teval-mlogloss:0.10679\n",
            "[148]\ttrain-mlogloss:0.10849\teval-mlogloss:0.10530\n",
            "[149]\ttrain-mlogloss:0.10736\teval-mlogloss:0.10410\n",
            "[150]\ttrain-mlogloss:0.10634\teval-mlogloss:0.10311\n",
            "[151]\ttrain-mlogloss:0.10507\teval-mlogloss:0.10168\n",
            "[152]\ttrain-mlogloss:0.10388\teval-mlogloss:0.10012\n",
            "[153]\ttrain-mlogloss:0.10255\teval-mlogloss:0.09854\n",
            "[154]\ttrain-mlogloss:0.10131\teval-mlogloss:0.09723\n",
            "[155]\ttrain-mlogloss:0.10017\teval-mlogloss:0.09608\n",
            "[156]\ttrain-mlogloss:0.09904\teval-mlogloss:0.09472\n",
            "[157]\ttrain-mlogloss:0.09786\teval-mlogloss:0.09313\n",
            "[158]\ttrain-mlogloss:0.09677\teval-mlogloss:0.09178\n",
            "[159]\ttrain-mlogloss:0.09599\teval-mlogloss:0.09112\n",
            "[160]\ttrain-mlogloss:0.09485\teval-mlogloss:0.08985\n",
            "[161]\ttrain-mlogloss:0.09389\teval-mlogloss:0.08918\n",
            "[162]\ttrain-mlogloss:0.09284\teval-mlogloss:0.08799\n",
            "[163]\ttrain-mlogloss:0.09197\teval-mlogloss:0.08732\n",
            "[164]\ttrain-mlogloss:0.09088\teval-mlogloss:0.08594\n",
            "[165]\ttrain-mlogloss:0.08984\teval-mlogloss:0.08488\n",
            "[166]\ttrain-mlogloss:0.08893\teval-mlogloss:0.08408\n",
            "[167]\ttrain-mlogloss:0.08797\teval-mlogloss:0.08311\n",
            "[168]\ttrain-mlogloss:0.08713\teval-mlogloss:0.08238\n",
            "[169]\ttrain-mlogloss:0.08623\teval-mlogloss:0.08119\n",
            "[170]\ttrain-mlogloss:0.08537\teval-mlogloss:0.07997\n",
            "[171]\ttrain-mlogloss:0.08451\teval-mlogloss:0.07898\n",
            "[172]\ttrain-mlogloss:0.08386\teval-mlogloss:0.07825\n",
            "[173]\ttrain-mlogloss:0.08296\teval-mlogloss:0.07712\n",
            "[174]\ttrain-mlogloss:0.08223\teval-mlogloss:0.07621\n",
            "[175]\ttrain-mlogloss:0.08148\teval-mlogloss:0.07549\n",
            "[176]\ttrain-mlogloss:0.08104\teval-mlogloss:0.07537\n",
            "[177]\ttrain-mlogloss:0.08046\teval-mlogloss:0.07478\n",
            "[178]\ttrain-mlogloss:0.07955\teval-mlogloss:0.07366\n",
            "[179]\ttrain-mlogloss:0.07872\teval-mlogloss:0.07310\n",
            "[180]\ttrain-mlogloss:0.07793\teval-mlogloss:0.07198\n",
            "[181]\ttrain-mlogloss:0.07715\teval-mlogloss:0.07094\n",
            "[182]\ttrain-mlogloss:0.07649\teval-mlogloss:0.07006\n",
            "[183]\ttrain-mlogloss:0.07594\teval-mlogloss:0.06978\n",
            "[184]\ttrain-mlogloss:0.07523\teval-mlogloss:0.06927\n",
            "[185]\ttrain-mlogloss:0.07462\teval-mlogloss:0.06882\n",
            "[186]\ttrain-mlogloss:0.07424\teval-mlogloss:0.06857\n",
            "[187]\ttrain-mlogloss:0.07389\teval-mlogloss:0.06826\n",
            "[188]\ttrain-mlogloss:0.07322\teval-mlogloss:0.06763\n",
            "[189]\ttrain-mlogloss:0.07270\teval-mlogloss:0.06714\n",
            "[190]\ttrain-mlogloss:0.07206\teval-mlogloss:0.06632\n",
            "[191]\ttrain-mlogloss:0.07154\teval-mlogloss:0.06573\n",
            "[192]\ttrain-mlogloss:0.07084\teval-mlogloss:0.06484\n",
            "[193]\ttrain-mlogloss:0.07032\teval-mlogloss:0.06426\n",
            "[194]\ttrain-mlogloss:0.06979\teval-mlogloss:0.06378\n",
            "[195]\ttrain-mlogloss:0.06928\teval-mlogloss:0.06297\n",
            "[196]\ttrain-mlogloss:0.06867\teval-mlogloss:0.06213\n",
            "[197]\ttrain-mlogloss:0.06818\teval-mlogloss:0.06153\n",
            "[198]\ttrain-mlogloss:0.06759\teval-mlogloss:0.06085\n",
            "[199]\ttrain-mlogloss:0.06686\teval-mlogloss:0.05996\n",
            "[200]\ttrain-mlogloss:0.06642\teval-mlogloss:0.05940\n",
            "[201]\ttrain-mlogloss:0.06600\teval-mlogloss:0.05887\n",
            "[202]\ttrain-mlogloss:0.06545\teval-mlogloss:0.05852\n",
            "[203]\ttrain-mlogloss:0.06493\teval-mlogloss:0.05775\n",
            "[204]\ttrain-mlogloss:0.06437\teval-mlogloss:0.05723\n",
            "[205]\ttrain-mlogloss:0.06380\teval-mlogloss:0.05671\n",
            "[206]\ttrain-mlogloss:0.06331\teval-mlogloss:0.05602\n",
            "[207]\ttrain-mlogloss:0.06279\teval-mlogloss:0.05540\n",
            "[208]\ttrain-mlogloss:0.06236\teval-mlogloss:0.05492\n",
            "[209]\ttrain-mlogloss:0.06193\teval-mlogloss:0.05456\n",
            "[210]\ttrain-mlogloss:0.06151\teval-mlogloss:0.05415\n",
            "[211]\ttrain-mlogloss:0.06117\teval-mlogloss:0.05374\n",
            "[212]\ttrain-mlogloss:0.06065\teval-mlogloss:0.05316\n",
            "[213]\ttrain-mlogloss:0.06012\teval-mlogloss:0.05226\n",
            "[214]\ttrain-mlogloss:0.05959\teval-mlogloss:0.05168\n",
            "[215]\ttrain-mlogloss:0.05915\teval-mlogloss:0.05135\n",
            "[216]\ttrain-mlogloss:0.05864\teval-mlogloss:0.05063\n",
            "[217]\ttrain-mlogloss:0.05831\teval-mlogloss:0.05014\n",
            "[218]\ttrain-mlogloss:0.05783\teval-mlogloss:0.04958\n",
            "[219]\ttrain-mlogloss:0.05760\teval-mlogloss:0.04926\n",
            "[220]\ttrain-mlogloss:0.05718\teval-mlogloss:0.04856\n",
            "[221]\ttrain-mlogloss:0.05697\teval-mlogloss:0.04845\n",
            "[222]\ttrain-mlogloss:0.05651\teval-mlogloss:0.04789\n",
            "[223]\ttrain-mlogloss:0.05634\teval-mlogloss:0.04763\n",
            "[224]\ttrain-mlogloss:0.05591\teval-mlogloss:0.04706\n",
            "[225]\ttrain-mlogloss:0.05550\teval-mlogloss:0.04667\n",
            "[226]\ttrain-mlogloss:0.05508\teval-mlogloss:0.04634\n",
            "[227]\ttrain-mlogloss:0.05469\teval-mlogloss:0.04587\n",
            "[228]\ttrain-mlogloss:0.05437\teval-mlogloss:0.04543\n",
            "[229]\ttrain-mlogloss:0.05419\teval-mlogloss:0.04529\n",
            "[230]\ttrain-mlogloss:0.05379\teval-mlogloss:0.04492\n",
            "[231]\ttrain-mlogloss:0.05350\teval-mlogloss:0.04439\n",
            "[232]\ttrain-mlogloss:0.05317\teval-mlogloss:0.04387\n",
            "[233]\ttrain-mlogloss:0.05289\teval-mlogloss:0.04360\n",
            "[234]\ttrain-mlogloss:0.05254\teval-mlogloss:0.04317\n",
            "[235]\ttrain-mlogloss:0.05227\teval-mlogloss:0.04282\n",
            "[236]\ttrain-mlogloss:0.05200\teval-mlogloss:0.04254\n",
            "[237]\ttrain-mlogloss:0.05174\teval-mlogloss:0.04222\n",
            "[238]\ttrain-mlogloss:0.05148\teval-mlogloss:0.04199\n",
            "[239]\ttrain-mlogloss:0.05128\teval-mlogloss:0.04180\n",
            "[240]\ttrain-mlogloss:0.05102\teval-mlogloss:0.04144\n",
            "[241]\ttrain-mlogloss:0.05083\teval-mlogloss:0.04137\n",
            "[242]\ttrain-mlogloss:0.05059\teval-mlogloss:0.04133\n",
            "[243]\ttrain-mlogloss:0.05026\teval-mlogloss:0.04085\n",
            "[244]\ttrain-mlogloss:0.05001\teval-mlogloss:0.04058\n",
            "[245]\ttrain-mlogloss:0.04977\teval-mlogloss:0.04026\n",
            "[246]\ttrain-mlogloss:0.04954\teval-mlogloss:0.03989\n",
            "[247]\ttrain-mlogloss:0.04931\teval-mlogloss:0.03971\n",
            "[248]\ttrain-mlogloss:0.04905\teval-mlogloss:0.03934\n",
            "[249]\ttrain-mlogloss:0.04880\teval-mlogloss:0.03893\n",
            "[250]\ttrain-mlogloss:0.04856\teval-mlogloss:0.03857\n",
            "[251]\ttrain-mlogloss:0.04850\teval-mlogloss:0.03851\n",
            "[252]\ttrain-mlogloss:0.04827\teval-mlogloss:0.03821\n",
            "[253]\ttrain-mlogloss:0.04820\teval-mlogloss:0.03825\n",
            "[254]\ttrain-mlogloss:0.04794\teval-mlogloss:0.03795\n",
            "[255]\ttrain-mlogloss:0.04774\teval-mlogloss:0.03778\n",
            "[256]\ttrain-mlogloss:0.04757\teval-mlogloss:0.03781\n",
            "[257]\ttrain-mlogloss:0.04741\teval-mlogloss:0.03765\n",
            "[258]\ttrain-mlogloss:0.04729\teval-mlogloss:0.03750\n",
            "[259]\ttrain-mlogloss:0.04713\teval-mlogloss:0.03729\n",
            "[260]\ttrain-mlogloss:0.04692\teval-mlogloss:0.03713\n",
            "[261]\ttrain-mlogloss:0.04674\teval-mlogloss:0.03683\n",
            "[262]\ttrain-mlogloss:0.04647\teval-mlogloss:0.03657\n",
            "[263]\ttrain-mlogloss:0.04632\teval-mlogloss:0.03632\n",
            "[264]\ttrain-mlogloss:0.04614\teval-mlogloss:0.03609\n",
            "[265]\ttrain-mlogloss:0.04600\teval-mlogloss:0.03588\n",
            "[266]\ttrain-mlogloss:0.04592\teval-mlogloss:0.03577\n",
            "[267]\ttrain-mlogloss:0.04581\teval-mlogloss:0.03563\n",
            "[268]\ttrain-mlogloss:0.04561\teval-mlogloss:0.03530\n",
            "[269]\ttrain-mlogloss:0.04549\teval-mlogloss:0.03521\n",
            "[270]\ttrain-mlogloss:0.04535\teval-mlogloss:0.03501\n",
            "[271]\ttrain-mlogloss:0.04526\teval-mlogloss:0.03487\n",
            "[272]\ttrain-mlogloss:0.04505\teval-mlogloss:0.03446\n",
            "[273]\ttrain-mlogloss:0.04493\teval-mlogloss:0.03432\n",
            "[274]\ttrain-mlogloss:0.04470\teval-mlogloss:0.03390\n",
            "[275]\ttrain-mlogloss:0.04458\teval-mlogloss:0.03386\n",
            "[276]\ttrain-mlogloss:0.04447\teval-mlogloss:0.03384\n",
            "[277]\ttrain-mlogloss:0.04436\teval-mlogloss:0.03362\n",
            "[278]\ttrain-mlogloss:0.04428\teval-mlogloss:0.03370\n",
            "[279]\ttrain-mlogloss:0.04419\teval-mlogloss:0.03353\n",
            "[280]\ttrain-mlogloss:0.04407\teval-mlogloss:0.03338\n",
            "[281]\ttrain-mlogloss:0.04399\teval-mlogloss:0.03325\n",
            "[282]\ttrain-mlogloss:0.04388\teval-mlogloss:0.03318\n",
            "[283]\ttrain-mlogloss:0.04375\teval-mlogloss:0.03308\n",
            "[284]\ttrain-mlogloss:0.04366\teval-mlogloss:0.03305\n",
            "[285]\ttrain-mlogloss:0.04359\teval-mlogloss:0.03298\n",
            "[286]\ttrain-mlogloss:0.04349\teval-mlogloss:0.03273\n",
            "[287]\ttrain-mlogloss:0.04343\teval-mlogloss:0.03274\n",
            "[288]\ttrain-mlogloss:0.04325\teval-mlogloss:0.03237\n",
            "[289]\ttrain-mlogloss:0.04308\teval-mlogloss:0.03227\n",
            "[290]\ttrain-mlogloss:0.04300\teval-mlogloss:0.03214\n",
            "[291]\ttrain-mlogloss:0.04291\teval-mlogloss:0.03196\n",
            "[292]\ttrain-mlogloss:0.04289\teval-mlogloss:0.03190\n",
            "[293]\ttrain-mlogloss:0.04280\teval-mlogloss:0.03179\n",
            "[294]\ttrain-mlogloss:0.04268\teval-mlogloss:0.03158\n",
            "[295]\ttrain-mlogloss:0.04250\teval-mlogloss:0.03133\n",
            "[296]\ttrain-mlogloss:0.04239\teval-mlogloss:0.03140\n",
            "[297]\ttrain-mlogloss:0.04228\teval-mlogloss:0.03119\n",
            "[298]\ttrain-mlogloss:0.04216\teval-mlogloss:0.03092\n",
            "[299]\ttrain-mlogloss:0.04213\teval-mlogloss:0.03074\n"
          ]
        },
        {
          "name": "stderr",
          "output_type": "stream",
          "text": [
            "[I 2025-09-15 21:56:59,979] Trial 12 finished with value: 1.0 and parameters: {'lambda': 0.00019943885072368415, 'alpha': 1.2097254536475183e-06, 'eta': 0.01867727760892643, 'gamma': 0.00016970652282563827, 'max_depth': 7, 'min_child_weight': 1, 'subsample': 0.7785194177427747, 'colsample_bytree': 0.5974501470725173}. Best is trial 0 with value: 1.0.\n"
          ]
        },
        {
          "name": "stdout",
          "output_type": "stream",
          "text": [
            "[0]\ttrain-mlogloss:0.86700\teval-mlogloss:0.85516\n"
          ]
        },
        {
          "name": "stderr",
          "output_type": "stream",
          "text": [
            "[I 2025-09-15 21:57:00,002] Trial 13 pruned. Trial was pruned at iteration 1.\n"
          ]
        },
        {
          "name": "stdout",
          "output_type": "stream",
          "text": [
            "[0]\ttrain-mlogloss:0.81335\teval-mlogloss:0.80592\n",
            "[1]\ttrain-mlogloss:0.67702\teval-mlogloss:0.69264\n"
          ]
        },
        {
          "name": "stderr",
          "output_type": "stream",
          "text": [
            "[I 2025-09-15 21:57:00,037] Trial 14 pruned. Trial was pruned at iteration 1.\n"
          ]
        },
        {
          "name": "stdout",
          "output_type": "stream",
          "text": [
            "[0]\ttrain-mlogloss:0.82272\teval-mlogloss:0.81154\n"
          ]
        },
        {
          "name": "stderr",
          "output_type": "stream",
          "text": [
            "[I 2025-09-15 21:57:00,055] Trial 15 pruned. Trial was pruned at iteration 1.\n"
          ]
        },
        {
          "name": "stdout",
          "output_type": "stream",
          "text": [
            "[0]\ttrain-mlogloss:1.02854\teval-mlogloss:1.02482\n",
            "[1]\ttrain-mlogloss:0.96512\teval-mlogloss:0.95879\n",
            "[2]\ttrain-mlogloss:0.90644\teval-mlogloss:0.89644\n",
            "[3]\ttrain-mlogloss:0.85276\teval-mlogloss:0.83943\n",
            "[4]\ttrain-mlogloss:0.80390\teval-mlogloss:0.78772\n"
          ]
        },
        {
          "name": "stderr",
          "output_type": "stream",
          "text": [
            "[I 2025-09-15 21:57:00,079] Trial 16 pruned. Trial was pruned at iteration 4.\n"
          ]
        },
        {
          "name": "stdout",
          "output_type": "stream",
          "text": [
            "[0]\ttrain-mlogloss:0.97107\teval-mlogloss:0.96421\n"
          ]
        },
        {
          "name": "stderr",
          "output_type": "stream",
          "text": [
            "[I 2025-09-15 21:57:00,097] Trial 17 pruned. Trial was pruned at iteration 1.\n"
          ]
        },
        {
          "name": "stdout",
          "output_type": "stream",
          "text": [
            "[0]\ttrain-mlogloss:0.84363\teval-mlogloss:0.83118\n",
            "[1]\ttrain-mlogloss:0.74511\teval-mlogloss:0.73057\n"
          ]
        },
        {
          "name": "stderr",
          "output_type": "stream",
          "text": [
            "[I 2025-09-15 21:57:00,115] Trial 18 pruned. Trial was pruned at iteration 1.\n"
          ]
        },
        {
          "name": "stdout",
          "output_type": "stream",
          "text": [
            "[0]\ttrain-mlogloss:0.78007\teval-mlogloss:0.76233\n"
          ]
        },
        {
          "name": "stderr",
          "output_type": "stream",
          "text": [
            "[I 2025-09-15 21:57:00,132] Trial 19 pruned. Trial was pruned at iteration 1.\n"
          ]
        },
        {
          "name": "stdout",
          "output_type": "stream",
          "text": [
            "[0]\ttrain-mlogloss:0.94436\teval-mlogloss:0.94470\n"
          ]
        },
        {
          "name": "stderr",
          "output_type": "stream",
          "text": [
            "[I 2025-09-15 21:57:00,149] Trial 20 pruned. Trial was pruned at iteration 1.\n"
          ]
        },
        {
          "name": "stdout",
          "output_type": "stream",
          "text": [
            "[0]\ttrain-mlogloss:0.96536\teval-mlogloss:0.96253\n",
            "[1]\ttrain-mlogloss:0.85614\teval-mlogloss:0.84563\n"
          ]
        },
        {
          "name": "stderr",
          "output_type": "stream",
          "text": [
            "[I 2025-09-15 21:57:00,167] Trial 21 pruned. Trial was pruned at iteration 1.\n"
          ]
        },
        {
          "name": "stdout",
          "output_type": "stream",
          "text": [
            "[0]\ttrain-mlogloss:1.00612\teval-mlogloss:1.00193\n",
            "[1]\ttrain-mlogloss:0.96504\teval-mlogloss:0.95791\n",
            "[2]\ttrain-mlogloss:0.89658\teval-mlogloss:0.88567\n",
            "[3]\ttrain-mlogloss:0.82588\teval-mlogloss:0.81151\n",
            "[4]\ttrain-mlogloss:0.76548\teval-mlogloss:0.74795\n"
          ]
        },
        {
          "name": "stderr",
          "output_type": "stream",
          "text": [
            "[I 2025-09-15 21:57:00,191] Trial 22 pruned. Trial was pruned at iteration 4.\n"
          ]
        },
        {
          "name": "stdout",
          "output_type": "stream",
          "text": [
            "[0]\ttrain-mlogloss:0.94644\teval-mlogloss:0.93825\n",
            "[1]\ttrain-mlogloss:0.88463\teval-mlogloss:0.86707\n"
          ]
        },
        {
          "name": "stderr",
          "output_type": "stream",
          "text": [
            "[I 2025-09-15 21:57:00,207] Trial 23 pruned. Trial was pruned at iteration 1.\n"
          ]
        },
        {
          "name": "stdout",
          "output_type": "stream",
          "text": [
            "[0]\ttrain-mlogloss:0.89769\teval-mlogloss:0.88758\n"
          ]
        },
        {
          "name": "stderr",
          "output_type": "stream",
          "text": [
            "[I 2025-09-15 21:57:00,224] Trial 24 pruned. Trial was pruned at iteration 1.\n"
          ]
        },
        {
          "name": "stdout",
          "output_type": "stream",
          "text": [
            "[0]\ttrain-mlogloss:1.05070\teval-mlogloss:1.04854\n",
            "[1]\ttrain-mlogloss:1.02239\teval-mlogloss:1.02443\n",
            "[2]\ttrain-mlogloss:0.98225\teval-mlogloss:0.98246\n",
            "[3]\ttrain-mlogloss:0.94068\teval-mlogloss:0.93988\n",
            "[4]\ttrain-mlogloss:0.90229\teval-mlogloss:0.89936\n",
            "[5]\ttrain-mlogloss:0.86553\teval-mlogloss:0.86031\n",
            "[6]\ttrain-mlogloss:0.83188\teval-mlogloss:0.82416\n",
            "[7]\ttrain-mlogloss:0.79943\teval-mlogloss:0.78992\n",
            "[8]\ttrain-mlogloss:0.76930\teval-mlogloss:0.75760\n",
            "[9]\ttrain-mlogloss:0.73974\teval-mlogloss:0.72717\n",
            "[10]\ttrain-mlogloss:0.71496\teval-mlogloss:0.70229\n",
            "[11]\ttrain-mlogloss:0.68840\teval-mlogloss:0.67472\n",
            "[12]\ttrain-mlogloss:0.66661\teval-mlogloss:0.65261\n",
            "[13]\ttrain-mlogloss:0.64241\teval-mlogloss:0.62711\n",
            "[14]\ttrain-mlogloss:0.61955\teval-mlogloss:0.60300\n",
            "[15]\ttrain-mlogloss:0.60143\teval-mlogloss:0.58462\n"
          ]
        },
        {
          "name": "stderr",
          "output_type": "stream",
          "text": [
            "[I 2025-09-15 21:57:00,271] Trial 25 pruned. Trial was pruned at iteration 16.\n"
          ]
        },
        {
          "name": "stdout",
          "output_type": "stream",
          "text": [
            "[0]\ttrain-mlogloss:0.98617\teval-mlogloss:0.98143\n",
            "[1]\ttrain-mlogloss:0.88982\teval-mlogloss:0.88132\n"
          ]
        },
        {
          "name": "stderr",
          "output_type": "stream",
          "text": [
            "[I 2025-09-15 21:57:00,293] Trial 26 pruned. Trial was pruned at iteration 1.\n"
          ]
        },
        {
          "name": "stdout",
          "output_type": "stream",
          "text": [
            "[0]\ttrain-mlogloss:0.94834\teval-mlogloss:0.95049\n"
          ]
        },
        {
          "name": "stderr",
          "output_type": "stream",
          "text": [
            "[I 2025-09-15 21:57:00,313] Trial 27 pruned. Trial was pruned at iteration 1.\n"
          ]
        },
        {
          "name": "stdout",
          "output_type": "stream",
          "text": [
            "[0]\ttrain-mlogloss:0.84606\teval-mlogloss:0.84172\n"
          ]
        },
        {
          "name": "stderr",
          "output_type": "stream",
          "text": [
            "[I 2025-09-15 21:57:00,333] Trial 28 pruned. Trial was pruned at iteration 1.\n"
          ]
        },
        {
          "name": "stdout",
          "output_type": "stream",
          "text": [
            "[0]\ttrain-mlogloss:0.89363\teval-mlogloss:0.89990\n"
          ]
        },
        {
          "name": "stderr",
          "output_type": "stream",
          "text": [
            "[I 2025-09-15 21:57:00,356] Trial 29 pruned. Trial was pruned at iteration 1.\n"
          ]
        },
        {
          "name": "stdout",
          "output_type": "stream",
          "text": [
            "[0]\ttrain-mlogloss:0.91561\teval-mlogloss:0.91703\n"
          ]
        },
        {
          "name": "stderr",
          "output_type": "stream",
          "text": [
            "[I 2025-09-15 21:57:00,378] Trial 30 pruned. Trial was pruned at iteration 1.\n"
          ]
        },
        {
          "name": "stdout",
          "output_type": "stream",
          "text": [
            "[0]\ttrain-mlogloss:1.01086\teval-mlogloss:1.00770\n",
            "[1]\ttrain-mlogloss:0.93563\teval-mlogloss:0.92010\n",
            "[2]\ttrain-mlogloss:0.87446\teval-mlogloss:0.85765\n",
            "[3]\ttrain-mlogloss:0.79456\teval-mlogloss:0.77208\n"
          ]
        },
        {
          "name": "stderr",
          "output_type": "stream",
          "text": [
            "[I 2025-09-15 21:57:00,398] Trial 31 pruned. Trial was pruned at iteration 4.\n"
          ]
        },
        {
          "name": "stdout",
          "output_type": "stream",
          "text": [
            "[0]\ttrain-mlogloss:0.92883\teval-mlogloss:0.93127\n"
          ]
        },
        {
          "name": "stderr",
          "output_type": "stream",
          "text": [
            "[I 2025-09-15 21:57:00,415] Trial 32 pruned. Trial was pruned at iteration 1.\n"
          ]
        },
        {
          "name": "stdout",
          "output_type": "stream",
          "text": [
            "[0]\ttrain-mlogloss:0.99180\teval-mlogloss:0.98798\n"
          ]
        },
        {
          "name": "stderr",
          "output_type": "stream",
          "text": [
            "[I 2025-09-15 21:57:00,431] Trial 33 pruned. Trial was pruned at iteration 1.\n"
          ]
        },
        {
          "name": "stdout",
          "output_type": "stream",
          "text": [
            "[0]\ttrain-mlogloss:1.01890\teval-mlogloss:1.01435\n",
            "[1]\ttrain-mlogloss:0.98018\teval-mlogloss:0.96594\n",
            "[2]\ttrain-mlogloss:0.93746\teval-mlogloss:0.92180\n",
            "[3]\ttrain-mlogloss:0.85522\teval-mlogloss:0.83372\n",
            "[4]\ttrain-mlogloss:0.80141\teval-mlogloss:0.77937\n"
          ]
        },
        {
          "name": "stderr",
          "output_type": "stream",
          "text": [
            "[I 2025-09-15 21:57:00,453] Trial 34 pruned. Trial was pruned at iteration 4.\n"
          ]
        },
        {
          "name": "stdout",
          "output_type": "stream",
          "text": [
            "[0]\ttrain-mlogloss:0.93370\teval-mlogloss:0.93611\n",
            "[1]\ttrain-mlogloss:0.79824\teval-mlogloss:0.78971\n"
          ]
        },
        {
          "name": "stderr",
          "output_type": "stream",
          "text": [
            "[I 2025-09-15 21:57:00,471] Trial 35 pruned. Trial was pruned at iteration 1.\n"
          ]
        },
        {
          "name": "stdout",
          "output_type": "stream",
          "text": [
            "[0]\ttrain-mlogloss:1.04682\teval-mlogloss:1.04328\n",
            "[1]\ttrain-mlogloss:1.02376\teval-mlogloss:1.01488\n",
            "[2]\ttrain-mlogloss:1.00863\teval-mlogloss:1.00403\n",
            "[3]\ttrain-mlogloss:0.95406\teval-mlogloss:0.94435\n",
            "[4]\ttrain-mlogloss:0.93646\teval-mlogloss:0.92358\n",
            "[5]\ttrain-mlogloss:0.90258\teval-mlogloss:0.89066\n",
            "[6]\ttrain-mlogloss:0.86989\teval-mlogloss:0.85489\n",
            "[7]\ttrain-mlogloss:0.83464\teval-mlogloss:0.81849\n",
            "[8]\ttrain-mlogloss:0.81505\teval-mlogloss:0.79838\n",
            "[9]\ttrain-mlogloss:0.78188\teval-mlogloss:0.76344\n",
            "[10]\ttrain-mlogloss:0.76046\teval-mlogloss:0.73755\n",
            "[11]\ttrain-mlogloss:0.74809\teval-mlogloss:0.72527\n",
            "[12]\ttrain-mlogloss:0.72297\teval-mlogloss:0.69961\n",
            "[13]\ttrain-mlogloss:0.69866\teval-mlogloss:0.67314\n",
            "[14]\ttrain-mlogloss:0.67609\teval-mlogloss:0.64924\n",
            "[15]\ttrain-mlogloss:0.66532\teval-mlogloss:0.64043\n",
            "[16]\ttrain-mlogloss:0.65314\teval-mlogloss:0.62540\n"
          ]
        },
        {
          "name": "stderr",
          "output_type": "stream",
          "text": [
            "[I 2025-09-15 21:57:00,512] Trial 36 pruned. Trial was pruned at iteration 16.\n"
          ]
        },
        {
          "name": "stdout",
          "output_type": "stream",
          "text": [
            "[0]\ttrain-mlogloss:0.96540\teval-mlogloss:0.96108\n",
            "[1]\ttrain-mlogloss:0.85364\teval-mlogloss:0.84099\n"
          ]
        },
        {
          "name": "stderr",
          "output_type": "stream",
          "text": [
            "[I 2025-09-15 21:57:00,531] Trial 37 pruned. Trial was pruned at iteration 1.\n"
          ]
        },
        {
          "name": "stdout",
          "output_type": "stream",
          "text": [
            "[0]\ttrain-mlogloss:0.90450\teval-mlogloss:0.89721\n",
            "[1]\ttrain-mlogloss:0.83177\teval-mlogloss:0.81086\n"
          ]
        },
        {
          "name": "stderr",
          "output_type": "stream",
          "text": [
            "[I 2025-09-15 21:57:00,551] Trial 38 pruned. Trial was pruned at iteration 1.\n"
          ]
        },
        {
          "name": "stdout",
          "output_type": "stream",
          "text": [
            "[0]\ttrain-mlogloss:1.04166\teval-mlogloss:1.04112\n",
            "[1]\ttrain-mlogloss:1.00482\teval-mlogloss:1.00002\n",
            "[2]\ttrain-mlogloss:0.95790\teval-mlogloss:0.95230\n",
            "[3]\ttrain-mlogloss:0.91409\teval-mlogloss:0.91031\n",
            "[4]\ttrain-mlogloss:0.86506\teval-mlogloss:0.85987\n"
          ]
        },
        {
          "name": "stderr",
          "output_type": "stream",
          "text": [
            "[I 2025-09-15 21:57:00,574] Trial 39 pruned. Trial was pruned at iteration 4.\n"
          ]
        },
        {
          "name": "stdout",
          "output_type": "stream",
          "text": [
            "[0]\ttrain-mlogloss:1.04550\teval-mlogloss:1.04353\n",
            "[1]\ttrain-mlogloss:1.01703\teval-mlogloss:1.01266\n",
            "[2]\ttrain-mlogloss:0.97325\teval-mlogloss:0.96668\n",
            "[3]\ttrain-mlogloss:0.92704\teval-mlogloss:0.91725\n"
          ]
        },
        {
          "name": "stderr",
          "output_type": "stream",
          "text": [
            "[I 2025-09-15 21:57:00,598] Trial 40 pruned. Trial was pruned at iteration 4.\n"
          ]
        },
        {
          "name": "stdout",
          "output_type": "stream",
          "text": [
            "[0]\ttrain-mlogloss:0.91507\teval-mlogloss:0.92583\n",
            "[1]\ttrain-mlogloss:0.83337\teval-mlogloss:0.85611\n"
          ]
        },
        {
          "name": "stderr",
          "output_type": "stream",
          "text": [
            "[I 2025-09-15 21:57:00,618] Trial 41 pruned. Trial was pruned at iteration 1.\n"
          ]
        },
        {
          "name": "stdout",
          "output_type": "stream",
          "text": [
            "[0]\ttrain-mlogloss:1.07236\teval-mlogloss:1.07251\n",
            "[1]\ttrain-mlogloss:1.05360\teval-mlogloss:1.05954\n",
            "[2]\ttrain-mlogloss:1.02948\teval-mlogloss:1.03585\n",
            "[3]\ttrain-mlogloss:1.00505\teval-mlogloss:1.01016\n",
            "[4]\ttrain-mlogloss:0.98176\teval-mlogloss:0.98500\n",
            "[5]\ttrain-mlogloss:0.95921\teval-mlogloss:0.96166\n",
            "[6]\ttrain-mlogloss:0.93743\teval-mlogloss:0.93970\n",
            "[7]\ttrain-mlogloss:0.91665\teval-mlogloss:0.91823\n",
            "[8]\ttrain-mlogloss:0.89662\teval-mlogloss:0.89714\n",
            "[9]\ttrain-mlogloss:0.87638\teval-mlogloss:0.87815\n",
            "[10]\ttrain-mlogloss:0.85774\teval-mlogloss:0.85950\n",
            "[11]\ttrain-mlogloss:0.83886\teval-mlogloss:0.84064\n",
            "[12]\ttrain-mlogloss:0.82241\teval-mlogloss:0.82451\n",
            "[13]\ttrain-mlogloss:0.80486\teval-mlogloss:0.80664\n",
            "[14]\ttrain-mlogloss:0.78783\teval-mlogloss:0.78851\n",
            "[15]\ttrain-mlogloss:0.77251\teval-mlogloss:0.77463\n",
            "[16]\ttrain-mlogloss:0.75826\teval-mlogloss:0.76084\n",
            "[17]\ttrain-mlogloss:0.74202\teval-mlogloss:0.74409\n",
            "[18]\ttrain-mlogloss:0.72819\teval-mlogloss:0.73187\n",
            "[19]\ttrain-mlogloss:0.71351\teval-mlogloss:0.71679\n",
            "[20]\ttrain-mlogloss:0.70066\teval-mlogloss:0.70540\n",
            "[21]\ttrain-mlogloss:0.68748\teval-mlogloss:0.69303\n",
            "[22]\ttrain-mlogloss:0.67340\teval-mlogloss:0.67814\n",
            "[23]\ttrain-mlogloss:0.65947\teval-mlogloss:0.66317\n",
            "[24]\ttrain-mlogloss:0.64597\teval-mlogloss:0.64952\n",
            "[25]\ttrain-mlogloss:0.63298\teval-mlogloss:0.63565\n",
            "[26]\ttrain-mlogloss:0.62059\teval-mlogloss:0.62321\n",
            "[27]\ttrain-mlogloss:0.60826\teval-mlogloss:0.61079\n",
            "[28]\ttrain-mlogloss:0.59625\teval-mlogloss:0.59914\n",
            "[29]\ttrain-mlogloss:0.58606\teval-mlogloss:0.58986\n",
            "[30]\ttrain-mlogloss:0.57711\teval-mlogloss:0.58321\n",
            "[31]\ttrain-mlogloss:0.56729\teval-mlogloss:0.57344\n",
            "[32]\ttrain-mlogloss:0.55625\teval-mlogloss:0.56201\n",
            "[33]\ttrain-mlogloss:0.54553\teval-mlogloss:0.55069\n",
            "[34]\ttrain-mlogloss:0.53637\teval-mlogloss:0.54212\n",
            "[35]\ttrain-mlogloss:0.52615\teval-mlogloss:0.53124\n",
            "[36]\ttrain-mlogloss:0.51641\teval-mlogloss:0.52180\n",
            "[37]\ttrain-mlogloss:0.50635\teval-mlogloss:0.51109\n",
            "[38]\ttrain-mlogloss:0.49685\teval-mlogloss:0.50222\n",
            "[39]\ttrain-mlogloss:0.48721\teval-mlogloss:0.49211\n",
            "[40]\ttrain-mlogloss:0.47867\teval-mlogloss:0.48457\n",
            "[41]\ttrain-mlogloss:0.46980\teval-mlogloss:0.47531\n",
            "[42]\ttrain-mlogloss:0.46134\teval-mlogloss:0.46618\n",
            "[43]\ttrain-mlogloss:0.45265\teval-mlogloss:0.45711\n",
            "[44]\ttrain-mlogloss:0.44516\teval-mlogloss:0.44959\n",
            "[45]\ttrain-mlogloss:0.43718\teval-mlogloss:0.44125\n",
            "[46]\ttrain-mlogloss:0.42900\teval-mlogloss:0.43286\n",
            "[47]\ttrain-mlogloss:0.42121\teval-mlogloss:0.42494\n",
            "[48]\ttrain-mlogloss:0.41346\teval-mlogloss:0.41785\n",
            "[49]\ttrain-mlogloss:0.40590\teval-mlogloss:0.40972\n",
            "[50]\ttrain-mlogloss:0.39886\teval-mlogloss:0.40207\n",
            "[51]\ttrain-mlogloss:0.39187\teval-mlogloss:0.39430\n",
            "[52]\ttrain-mlogloss:0.38613\teval-mlogloss:0.38885\n",
            "[53]\ttrain-mlogloss:0.37942\teval-mlogloss:0.38192\n",
            "[54]\ttrain-mlogloss:0.37350\teval-mlogloss:0.37693\n",
            "[55]\ttrain-mlogloss:0.36751\teval-mlogloss:0.37270\n",
            "[56]\ttrain-mlogloss:0.36189\teval-mlogloss:0.36735\n",
            "[57]\ttrain-mlogloss:0.35630\teval-mlogloss:0.36198\n",
            "[58]\ttrain-mlogloss:0.35093\teval-mlogloss:0.35681\n",
            "[59]\ttrain-mlogloss:0.34490\teval-mlogloss:0.35011\n",
            "[60]\ttrain-mlogloss:0.33881\teval-mlogloss:0.34459\n",
            "[61]\ttrain-mlogloss:0.33362\teval-mlogloss:0.34013\n",
            "[62]\ttrain-mlogloss:0.32801\teval-mlogloss:0.33457\n",
            "[63]\ttrain-mlogloss:0.32246\teval-mlogloss:0.32938\n"
          ]
        },
        {
          "name": "stderr",
          "output_type": "stream",
          "text": [
            "[I 2025-09-15 21:57:00,797] Trial 42 pruned. Trial was pruned at iteration 64.\n"
          ]
        },
        {
          "name": "stdout",
          "output_type": "stream",
          "text": [
            "[0]\ttrain-mlogloss:1.07929\teval-mlogloss:1.07900\n",
            "[1]\ttrain-mlogloss:1.06501\teval-mlogloss:1.06841\n",
            "[2]\ttrain-mlogloss:1.04698\teval-mlogloss:1.05045\n",
            "[3]\ttrain-mlogloss:1.02807\teval-mlogloss:1.03082\n",
            "[4]\ttrain-mlogloss:1.01027\teval-mlogloss:1.01245\n",
            "[5]\ttrain-mlogloss:0.99299\teval-mlogloss:0.99477\n",
            "[6]\ttrain-mlogloss:0.97628\teval-mlogloss:0.97734\n",
            "[7]\ttrain-mlogloss:0.95978\teval-mlogloss:0.96007\n",
            "[8]\ttrain-mlogloss:0.94389\teval-mlogloss:0.94343\n",
            "[9]\ttrain-mlogloss:0.92806\teval-mlogloss:0.92769\n",
            "[10]\ttrain-mlogloss:0.91319\teval-mlogloss:0.91276\n",
            "[11]\ttrain-mlogloss:0.89813\teval-mlogloss:0.89761\n",
            "[12]\ttrain-mlogloss:0.88497\teval-mlogloss:0.88464\n",
            "[13]\ttrain-mlogloss:0.87072\teval-mlogloss:0.87042\n",
            "[14]\ttrain-mlogloss:0.85651\teval-mlogloss:0.85569\n",
            "[15]\ttrain-mlogloss:0.84390\teval-mlogloss:0.84395\n",
            "[16]\ttrain-mlogloss:0.83189\teval-mlogloss:0.83278\n",
            "[17]\ttrain-mlogloss:0.81847\teval-mlogloss:0.81877\n",
            "[18]\ttrain-mlogloss:0.80697\teval-mlogloss:0.80781\n",
            "[19]\ttrain-mlogloss:0.79453\teval-mlogloss:0.79559\n",
            "[20]\ttrain-mlogloss:0.78365\teval-mlogloss:0.78532\n",
            "[21]\ttrain-mlogloss:0.77238\teval-mlogloss:0.77453\n",
            "[22]\ttrain-mlogloss:0.76045\teval-mlogloss:0.76216\n",
            "[23]\ttrain-mlogloss:0.74847\teval-mlogloss:0.74939\n",
            "[24]\ttrain-mlogloss:0.73707\teval-mlogloss:0.73743\n",
            "[25]\ttrain-mlogloss:0.72596\teval-mlogloss:0.72594\n",
            "[26]\ttrain-mlogloss:0.71520\teval-mlogloss:0.71518\n",
            "[27]\ttrain-mlogloss:0.70441\teval-mlogloss:0.70387\n",
            "[28]\ttrain-mlogloss:0.69376\teval-mlogloss:0.69329\n",
            "[29]\ttrain-mlogloss:0.68482\teval-mlogloss:0.68469\n",
            "[30]\ttrain-mlogloss:0.67744\teval-mlogloss:0.67875\n",
            "[31]\ttrain-mlogloss:0.66882\teval-mlogloss:0.67009\n",
            "[32]\ttrain-mlogloss:0.65881\teval-mlogloss:0.65959\n",
            "[33]\ttrain-mlogloss:0.64948\teval-mlogloss:0.64915\n",
            "[34]\ttrain-mlogloss:0.64112\teval-mlogloss:0.64098\n",
            "[35]\ttrain-mlogloss:0.63212\teval-mlogloss:0.63119\n",
            "[36]\ttrain-mlogloss:0.62315\teval-mlogloss:0.62267\n",
            "[37]\ttrain-mlogloss:0.61398\teval-mlogloss:0.61297\n",
            "[38]\ttrain-mlogloss:0.60518\teval-mlogloss:0.60474\n",
            "[39]\ttrain-mlogloss:0.59630\teval-mlogloss:0.59574\n",
            "[40]\ttrain-mlogloss:0.58824\teval-mlogloss:0.58860\n",
            "[41]\ttrain-mlogloss:0.57997\teval-mlogloss:0.57973\n",
            "[42]\ttrain-mlogloss:0.57210\teval-mlogloss:0.57107\n",
            "[43]\ttrain-mlogloss:0.56408\teval-mlogloss:0.56227\n",
            "[44]\ttrain-mlogloss:0.55728\teval-mlogloss:0.55606\n",
            "[45]\ttrain-mlogloss:0.54962\teval-mlogloss:0.54793\n",
            "[46]\ttrain-mlogloss:0.54180\teval-mlogloss:0.53988\n",
            "[47]\ttrain-mlogloss:0.53445\teval-mlogloss:0.53228\n",
            "[48]\ttrain-mlogloss:0.52713\teval-mlogloss:0.52503\n",
            "[49]\ttrain-mlogloss:0.51983\teval-mlogloss:0.51698\n",
            "[50]\ttrain-mlogloss:0.51296\teval-mlogloss:0.50935\n",
            "[51]\ttrain-mlogloss:0.50591\teval-mlogloss:0.50233\n",
            "[52]\ttrain-mlogloss:0.50017\teval-mlogloss:0.49705\n",
            "[53]\ttrain-mlogloss:0.49341\teval-mlogloss:0.48959\n",
            "[54]\ttrain-mlogloss:0.48794\teval-mlogloss:0.48444\n",
            "[55]\ttrain-mlogloss:0.48226\teval-mlogloss:0.47913\n",
            "[56]\ttrain-mlogloss:0.47678\teval-mlogloss:0.47391\n",
            "[57]\ttrain-mlogloss:0.47140\teval-mlogloss:0.46888\n",
            "[58]\ttrain-mlogloss:0.46605\teval-mlogloss:0.46401\n",
            "[59]\ttrain-mlogloss:0.45995\teval-mlogloss:0.45721\n",
            "[60]\ttrain-mlogloss:0.45401\teval-mlogloss:0.45110\n",
            "[61]\ttrain-mlogloss:0.44886\teval-mlogloss:0.44603\n",
            "[62]\ttrain-mlogloss:0.44312\teval-mlogloss:0.43995\n",
            "[63]\ttrain-mlogloss:0.43743\teval-mlogloss:0.43393\n",
            "[64]\ttrain-mlogloss:0.43186\teval-mlogloss:0.42806\n",
            "[65]\ttrain-mlogloss:0.42611\teval-mlogloss:0.42202\n",
            "[66]\ttrain-mlogloss:0.42059\teval-mlogloss:0.41578\n",
            "[67]\ttrain-mlogloss:0.41583\teval-mlogloss:0.41108\n",
            "[68]\ttrain-mlogloss:0.41154\teval-mlogloss:0.40680\n",
            "[69]\ttrain-mlogloss:0.40634\teval-mlogloss:0.40211\n",
            "[70]\ttrain-mlogloss:0.40150\teval-mlogloss:0.39726\n",
            "[71]\ttrain-mlogloss:0.39652\teval-mlogloss:0.39146\n",
            "[72]\ttrain-mlogloss:0.39240\teval-mlogloss:0.38758\n",
            "[73]\ttrain-mlogloss:0.38727\teval-mlogloss:0.38296\n",
            "[74]\ttrain-mlogloss:0.38236\teval-mlogloss:0.37800\n",
            "[75]\ttrain-mlogloss:0.37775\teval-mlogloss:0.37286\n",
            "[76]\ttrain-mlogloss:0.37397\teval-mlogloss:0.36939\n",
            "[77]\ttrain-mlogloss:0.36925\teval-mlogloss:0.36444\n",
            "[78]\ttrain-mlogloss:0.36523\teval-mlogloss:0.36037\n",
            "[79]\ttrain-mlogloss:0.36090\teval-mlogloss:0.35540\n",
            "[80]\ttrain-mlogloss:0.35679\teval-mlogloss:0.35092\n",
            "[81]\ttrain-mlogloss:0.35241\teval-mlogloss:0.34650\n",
            "[82]\ttrain-mlogloss:0.34814\teval-mlogloss:0.34192\n",
            "[83]\ttrain-mlogloss:0.34409\teval-mlogloss:0.33723\n",
            "[84]\ttrain-mlogloss:0.34007\teval-mlogloss:0.33285\n",
            "[85]\ttrain-mlogloss:0.33698\teval-mlogloss:0.32975\n",
            "[86]\ttrain-mlogloss:0.33298\teval-mlogloss:0.32503\n",
            "[87]\ttrain-mlogloss:0.32971\teval-mlogloss:0.32181\n",
            "[88]\ttrain-mlogloss:0.32591\teval-mlogloss:0.31772\n",
            "[89]\ttrain-mlogloss:0.32177\teval-mlogloss:0.31340\n",
            "[90]\ttrain-mlogloss:0.31788\teval-mlogloss:0.30954\n",
            "[91]\ttrain-mlogloss:0.31469\teval-mlogloss:0.30615\n",
            "[92]\ttrain-mlogloss:0.31106\teval-mlogloss:0.30212\n",
            "[93]\ttrain-mlogloss:0.30728\teval-mlogloss:0.29789\n",
            "[94]\ttrain-mlogloss:0.30371\teval-mlogloss:0.29406\n",
            "[95]\ttrain-mlogloss:0.30050\teval-mlogloss:0.29048\n",
            "[96]\ttrain-mlogloss:0.29693\teval-mlogloss:0.28645\n",
            "[97]\ttrain-mlogloss:0.29341\teval-mlogloss:0.28287\n",
            "[98]\ttrain-mlogloss:0.29002\teval-mlogloss:0.27960\n",
            "[99]\ttrain-mlogloss:0.28677\teval-mlogloss:0.27630\n",
            "[100]\ttrain-mlogloss:0.28397\teval-mlogloss:0.27348\n",
            "[101]\ttrain-mlogloss:0.28065\teval-mlogloss:0.27021\n",
            "[102]\ttrain-mlogloss:0.27729\teval-mlogloss:0.26676\n",
            "[103]\ttrain-mlogloss:0.27453\teval-mlogloss:0.26397\n",
            "[104]\ttrain-mlogloss:0.27193\teval-mlogloss:0.26157\n",
            "[105]\ttrain-mlogloss:0.26904\teval-mlogloss:0.25836\n",
            "[106]\ttrain-mlogloss:0.26590\teval-mlogloss:0.25543\n",
            "[107]\ttrain-mlogloss:0.26291\teval-mlogloss:0.25218\n",
            "[108]\ttrain-mlogloss:0.25989\teval-mlogloss:0.24923\n",
            "[109]\ttrain-mlogloss:0.25732\teval-mlogloss:0.24659\n",
            "[110]\ttrain-mlogloss:0.25448\teval-mlogloss:0.24332\n",
            "[111]\ttrain-mlogloss:0.25164\teval-mlogloss:0.24004\n",
            "[112]\ttrain-mlogloss:0.24939\teval-mlogloss:0.23788\n",
            "[113]\ttrain-mlogloss:0.24723\teval-mlogloss:0.23545\n",
            "[114]\ttrain-mlogloss:0.24447\teval-mlogloss:0.23286\n",
            "[115]\ttrain-mlogloss:0.24196\teval-mlogloss:0.22983\n",
            "[116]\ttrain-mlogloss:0.23983\teval-mlogloss:0.22762\n",
            "[117]\ttrain-mlogloss:0.23717\teval-mlogloss:0.22476\n",
            "[118]\ttrain-mlogloss:0.23454\teval-mlogloss:0.22220\n",
            "[119]\ttrain-mlogloss:0.23231\teval-mlogloss:0.21992\n",
            "[120]\ttrain-mlogloss:0.23022\teval-mlogloss:0.21768\n",
            "[121]\ttrain-mlogloss:0.22778\teval-mlogloss:0.21480\n",
            "[122]\ttrain-mlogloss:0.22523\teval-mlogloss:0.21217\n",
            "[123]\ttrain-mlogloss:0.22340\teval-mlogloss:0.21015\n",
            "[124]\ttrain-mlogloss:0.22148\teval-mlogloss:0.20830\n",
            "[125]\ttrain-mlogloss:0.21960\teval-mlogloss:0.20625\n",
            "[126]\ttrain-mlogloss:0.21755\teval-mlogloss:0.20470\n",
            "[127]\ttrain-mlogloss:0.21548\teval-mlogloss:0.20257\n",
            "[128]\ttrain-mlogloss:0.21321\teval-mlogloss:0.19978\n",
            "[129]\ttrain-mlogloss:0.21120\teval-mlogloss:0.19746\n",
            "[130]\ttrain-mlogloss:0.20892\teval-mlogloss:0.19529\n",
            "[131]\ttrain-mlogloss:0.20694\teval-mlogloss:0.19333\n",
            "[132]\ttrain-mlogloss:0.20497\teval-mlogloss:0.19104\n",
            "[133]\ttrain-mlogloss:0.20338\teval-mlogloss:0.18973\n",
            "[134]\ttrain-mlogloss:0.20147\teval-mlogloss:0.18740\n",
            "[135]\ttrain-mlogloss:0.19976\teval-mlogloss:0.18582\n",
            "[136]\ttrain-mlogloss:0.19771\teval-mlogloss:0.18345\n",
            "[137]\ttrain-mlogloss:0.19573\teval-mlogloss:0.18121\n",
            "[138]\ttrain-mlogloss:0.19390\teval-mlogloss:0.17939\n",
            "[139]\ttrain-mlogloss:0.19226\teval-mlogloss:0.17806\n",
            "[140]\ttrain-mlogloss:0.19047\teval-mlogloss:0.17591\n",
            "[141]\ttrain-mlogloss:0.18859\teval-mlogloss:0.17406\n",
            "[142]\ttrain-mlogloss:0.18671\teval-mlogloss:0.17198\n",
            "[143]\ttrain-mlogloss:0.18489\teval-mlogloss:0.16993\n",
            "[144]\ttrain-mlogloss:0.18304\teval-mlogloss:0.16819\n",
            "[145]\ttrain-mlogloss:0.18143\teval-mlogloss:0.16630\n",
            "[146]\ttrain-mlogloss:0.17963\teval-mlogloss:0.16438\n",
            "[147]\ttrain-mlogloss:0.17796\teval-mlogloss:0.16246\n",
            "[148]\ttrain-mlogloss:0.17631\teval-mlogloss:0.16048\n",
            "[149]\ttrain-mlogloss:0.17469\teval-mlogloss:0.15856\n",
            "[150]\ttrain-mlogloss:0.17344\teval-mlogloss:0.15711\n",
            "[151]\ttrain-mlogloss:0.17172\teval-mlogloss:0.15514\n",
            "[152]\ttrain-mlogloss:0.16999\teval-mlogloss:0.15335\n",
            "[153]\ttrain-mlogloss:0.16843\teval-mlogloss:0.15147\n",
            "[154]\ttrain-mlogloss:0.16660\teval-mlogloss:0.14997\n",
            "[155]\ttrain-mlogloss:0.16510\teval-mlogloss:0.14839\n",
            "[156]\ttrain-mlogloss:0.16375\teval-mlogloss:0.14667\n",
            "[157]\ttrain-mlogloss:0.16229\teval-mlogloss:0.14481\n",
            "[158]\ttrain-mlogloss:0.16078\teval-mlogloss:0.14320\n",
            "[159]\ttrain-mlogloss:0.15950\teval-mlogloss:0.14200\n",
            "[160]\ttrain-mlogloss:0.15811\teval-mlogloss:0.14031\n",
            "[161]\ttrain-mlogloss:0.15683\teval-mlogloss:0.13935\n",
            "[162]\ttrain-mlogloss:0.15539\teval-mlogloss:0.13766\n",
            "[163]\ttrain-mlogloss:0.15419\teval-mlogloss:0.13665\n",
            "[164]\ttrain-mlogloss:0.15258\teval-mlogloss:0.13484\n",
            "[165]\ttrain-mlogloss:0.15121\teval-mlogloss:0.13336\n",
            "[166]\ttrain-mlogloss:0.14999\teval-mlogloss:0.13221\n",
            "[167]\ttrain-mlogloss:0.14857\teval-mlogloss:0.13132\n",
            "[168]\ttrain-mlogloss:0.14728\teval-mlogloss:0.13044\n",
            "[169]\ttrain-mlogloss:0.14614\teval-mlogloss:0.12888\n",
            "[170]\ttrain-mlogloss:0.14481\teval-mlogloss:0.12727\n",
            "[171]\ttrain-mlogloss:0.14350\teval-mlogloss:0.12584\n",
            "[172]\ttrain-mlogloss:0.14264\teval-mlogloss:0.12491\n",
            "[173]\ttrain-mlogloss:0.14125\teval-mlogloss:0.12369\n",
            "[174]\ttrain-mlogloss:0.14026\teval-mlogloss:0.12247\n",
            "[175]\ttrain-mlogloss:0.13923\teval-mlogloss:0.12141\n",
            "[176]\ttrain-mlogloss:0.13848\teval-mlogloss:0.12073\n",
            "[177]\ttrain-mlogloss:0.13756\teval-mlogloss:0.11990\n",
            "[178]\ttrain-mlogloss:0.13631\teval-mlogloss:0.11854\n",
            "[179]\ttrain-mlogloss:0.13515\teval-mlogloss:0.11738\n",
            "[180]\ttrain-mlogloss:0.13401\teval-mlogloss:0.11588\n",
            "[181]\ttrain-mlogloss:0.13296\teval-mlogloss:0.11462\n",
            "[182]\ttrain-mlogloss:0.13198\teval-mlogloss:0.11356\n",
            "[183]\ttrain-mlogloss:0.13102\teval-mlogloss:0.11293\n",
            "[184]\ttrain-mlogloss:0.13003\teval-mlogloss:0.11214\n",
            "[185]\ttrain-mlogloss:0.12891\teval-mlogloss:0.11117\n",
            "[186]\ttrain-mlogloss:0.12827\teval-mlogloss:0.11062\n",
            "[187]\ttrain-mlogloss:0.12765\teval-mlogloss:0.11009\n",
            "[188]\ttrain-mlogloss:0.12649\teval-mlogloss:0.10889\n",
            "[189]\ttrain-mlogloss:0.12571\teval-mlogloss:0.10801\n",
            "[190]\ttrain-mlogloss:0.12465\teval-mlogloss:0.10676\n",
            "[191]\ttrain-mlogloss:0.12390\teval-mlogloss:0.10592\n",
            "[192]\ttrain-mlogloss:0.12286\teval-mlogloss:0.10489\n",
            "[193]\ttrain-mlogloss:0.12206\teval-mlogloss:0.10402\n",
            "[194]\ttrain-mlogloss:0.12128\teval-mlogloss:0.10314\n",
            "[195]\ttrain-mlogloss:0.12049\teval-mlogloss:0.10222\n",
            "[196]\ttrain-mlogloss:0.11955\teval-mlogloss:0.10103\n",
            "[197]\ttrain-mlogloss:0.11872\teval-mlogloss:0.10012\n",
            "[198]\ttrain-mlogloss:0.11783\teval-mlogloss:0.09929\n",
            "[199]\ttrain-mlogloss:0.11688\teval-mlogloss:0.09810\n",
            "[200]\ttrain-mlogloss:0.11617\teval-mlogloss:0.09739\n",
            "[201]\ttrain-mlogloss:0.11556\teval-mlogloss:0.09670\n",
            "[202]\ttrain-mlogloss:0.11464\teval-mlogloss:0.09591\n",
            "[203]\ttrain-mlogloss:0.11379\teval-mlogloss:0.09488\n",
            "[204]\ttrain-mlogloss:0.11272\teval-mlogloss:0.09414\n",
            "[205]\ttrain-mlogloss:0.11184\teval-mlogloss:0.09317\n",
            "[206]\ttrain-mlogloss:0.11086\teval-mlogloss:0.09202\n",
            "[207]\ttrain-mlogloss:0.10991\teval-mlogloss:0.09116\n",
            "[208]\ttrain-mlogloss:0.10925\teval-mlogloss:0.09057\n",
            "[209]\ttrain-mlogloss:0.10860\teval-mlogloss:0.09002\n",
            "[210]\ttrain-mlogloss:0.10795\teval-mlogloss:0.08943\n",
            "[211]\ttrain-mlogloss:0.10722\teval-mlogloss:0.08875\n",
            "[212]\ttrain-mlogloss:0.10630\teval-mlogloss:0.08798\n",
            "[213]\ttrain-mlogloss:0.10538\teval-mlogloss:0.08688\n",
            "[214]\ttrain-mlogloss:0.10444\teval-mlogloss:0.08603\n",
            "[215]\ttrain-mlogloss:0.10365\teval-mlogloss:0.08550\n",
            "[216]\ttrain-mlogloss:0.10286\teval-mlogloss:0.08452\n",
            "[217]\ttrain-mlogloss:0.10213\teval-mlogloss:0.08357\n",
            "[218]\ttrain-mlogloss:0.10139\teval-mlogloss:0.08283\n",
            "[219]\ttrain-mlogloss:0.10088\teval-mlogloss:0.08230\n",
            "[220]\ttrain-mlogloss:0.10017\teval-mlogloss:0.08144\n",
            "[221]\ttrain-mlogloss:0.09997\teval-mlogloss:0.08126\n",
            "[222]\ttrain-mlogloss:0.09937\teval-mlogloss:0.08062\n",
            "[223]\ttrain-mlogloss:0.09877\teval-mlogloss:0.07994\n",
            "[224]\ttrain-mlogloss:0.09820\teval-mlogloss:0.07924\n",
            "[225]\ttrain-mlogloss:0.09755\teval-mlogloss:0.07847\n",
            "[226]\ttrain-mlogloss:0.09681\teval-mlogloss:0.07786\n",
            "[227]\ttrain-mlogloss:0.09613\teval-mlogloss:0.07712\n",
            "[228]\ttrain-mlogloss:0.09552\teval-mlogloss:0.07648\n",
            "[229]\ttrain-mlogloss:0.09523\teval-mlogloss:0.07619\n",
            "[230]\ttrain-mlogloss:0.09455\teval-mlogloss:0.07573\n",
            "[231]\ttrain-mlogloss:0.09392\teval-mlogloss:0.07499\n",
            "[232]\ttrain-mlogloss:0.09329\teval-mlogloss:0.07424\n",
            "[233]\ttrain-mlogloss:0.09280\teval-mlogloss:0.07359\n",
            "[234]\ttrain-mlogloss:0.09203\teval-mlogloss:0.07288\n",
            "[235]\ttrain-mlogloss:0.09151\teval-mlogloss:0.07228\n",
            "[236]\ttrain-mlogloss:0.09088\teval-mlogloss:0.07173\n",
            "[237]\ttrain-mlogloss:0.09046\teval-mlogloss:0.07123\n",
            "[238]\ttrain-mlogloss:0.09005\teval-mlogloss:0.07072\n",
            "[239]\ttrain-mlogloss:0.08941\teval-mlogloss:0.07033\n",
            "[240]\ttrain-mlogloss:0.08892\teval-mlogloss:0.06974\n",
            "[241]\ttrain-mlogloss:0.08873\teval-mlogloss:0.06955\n",
            "[242]\ttrain-mlogloss:0.08802\teval-mlogloss:0.06889\n",
            "[243]\ttrain-mlogloss:0.08745\teval-mlogloss:0.06824\n",
            "[244]\ttrain-mlogloss:0.08691\teval-mlogloss:0.06779\n",
            "[245]\ttrain-mlogloss:0.08629\teval-mlogloss:0.06717\n",
            "[246]\ttrain-mlogloss:0.08591\teval-mlogloss:0.06686\n",
            "[247]\ttrain-mlogloss:0.08540\teval-mlogloss:0.06642\n",
            "[248]\ttrain-mlogloss:0.08484\teval-mlogloss:0.06598\n",
            "[249]\ttrain-mlogloss:0.08434\teval-mlogloss:0.06526\n",
            "[250]\ttrain-mlogloss:0.08382\teval-mlogloss:0.06460\n",
            "[251]\ttrain-mlogloss:0.08344\teval-mlogloss:0.06407\n",
            "[252]\ttrain-mlogloss:0.08311\teval-mlogloss:0.06372\n",
            "[253]\ttrain-mlogloss:0.08286\teval-mlogloss:0.06358\n",
            "[254]\ttrain-mlogloss:0.08246\teval-mlogloss:0.06312\n",
            "[255]\ttrain-mlogloss:0.08200\teval-mlogloss:0.06260\n",
            "[256]\ttrain-mlogloss:0.08166\teval-mlogloss:0.06242\n",
            "[257]\ttrain-mlogloss:0.08124\teval-mlogloss:0.06207\n",
            "[258]\ttrain-mlogloss:0.08090\teval-mlogloss:0.06170\n",
            "[259]\ttrain-mlogloss:0.08057\teval-mlogloss:0.06129\n",
            "[260]\ttrain-mlogloss:0.08025\teval-mlogloss:0.06094\n",
            "[261]\ttrain-mlogloss:0.07968\teval-mlogloss:0.06022\n",
            "[262]\ttrain-mlogloss:0.07930\teval-mlogloss:0.05987\n",
            "[263]\ttrain-mlogloss:0.07904\teval-mlogloss:0.05965\n",
            "[264]\ttrain-mlogloss:0.07863\teval-mlogloss:0.05919\n",
            "[265]\ttrain-mlogloss:0.07828\teval-mlogloss:0.05880\n",
            "[266]\ttrain-mlogloss:0.07806\teval-mlogloss:0.05853\n",
            "[267]\ttrain-mlogloss:0.07753\teval-mlogloss:0.05820\n",
            "[268]\ttrain-mlogloss:0.07715\teval-mlogloss:0.05768\n",
            "[269]\ttrain-mlogloss:0.07679\teval-mlogloss:0.05744\n",
            "[270]\ttrain-mlogloss:0.07656\teval-mlogloss:0.05724\n",
            "[271]\ttrain-mlogloss:0.07617\teval-mlogloss:0.05684\n",
            "[272]\ttrain-mlogloss:0.07582\teval-mlogloss:0.05627\n",
            "[273]\ttrain-mlogloss:0.07539\teval-mlogloss:0.05608\n",
            "[274]\ttrain-mlogloss:0.07516\teval-mlogloss:0.05577\n",
            "[275]\ttrain-mlogloss:0.07475\teval-mlogloss:0.05552\n",
            "[276]\ttrain-mlogloss:0.07444\teval-mlogloss:0.05520\n",
            "[277]\ttrain-mlogloss:0.07417\teval-mlogloss:0.05496\n",
            "[278]\ttrain-mlogloss:0.07404\teval-mlogloss:0.05483\n",
            "[279]\ttrain-mlogloss:0.07373\teval-mlogloss:0.05447\n",
            "[280]\ttrain-mlogloss:0.07346\teval-mlogloss:0.05413\n",
            "[281]\ttrain-mlogloss:0.07327\teval-mlogloss:0.05394\n",
            "[282]\ttrain-mlogloss:0.07299\teval-mlogloss:0.05358\n",
            "[283]\ttrain-mlogloss:0.07267\teval-mlogloss:0.05335\n",
            "[284]\ttrain-mlogloss:0.07235\teval-mlogloss:0.05311\n",
            "[285]\ttrain-mlogloss:0.07201\teval-mlogloss:0.05294\n",
            "[286]\ttrain-mlogloss:0.07174\teval-mlogloss:0.05264\n",
            "[287]\ttrain-mlogloss:0.07148\teval-mlogloss:0.05251\n",
            "[288]\ttrain-mlogloss:0.07130\teval-mlogloss:0.05228\n",
            "[289]\ttrain-mlogloss:0.07112\teval-mlogloss:0.05210\n",
            "[290]\ttrain-mlogloss:0.07081\teval-mlogloss:0.05185\n",
            "[291]\ttrain-mlogloss:0.07063\teval-mlogloss:0.05167\n",
            "[292]\ttrain-mlogloss:0.07048\teval-mlogloss:0.05158\n",
            "[293]\ttrain-mlogloss:0.07023\teval-mlogloss:0.05144\n",
            "[294]\ttrain-mlogloss:0.07006\teval-mlogloss:0.05127\n",
            "[295]\ttrain-mlogloss:0.06974\teval-mlogloss:0.05094\n",
            "[296]\ttrain-mlogloss:0.06946\teval-mlogloss:0.05085\n",
            "[297]\ttrain-mlogloss:0.06919\teval-mlogloss:0.05047\n",
            "[298]\ttrain-mlogloss:0.06882\teval-mlogloss:0.04996\n",
            "[299]\ttrain-mlogloss:0.06859\teval-mlogloss:0.04974\n"
          ]
        },
        {
          "name": "stderr",
          "output_type": "stream",
          "text": [
            "[I 2025-09-15 21:57:01,418] Trial 43 finished with value: 1.0 and parameters: {'lambda': 1.4982630893434706e-08, 'alpha': 1.6845755748538992e-07, 'eta': 0.014488726158175508, 'gamma': 0.3619636147414518, 'max_depth': 8, 'min_child_weight': 1, 'subsample': 0.8869036605178441, 'colsample_bytree': 0.5527179154682008}. Best is trial 0 with value: 1.0.\n"
          ]
        },
        {
          "name": "stdout",
          "output_type": "stream",
          "text": [
            "[0]\ttrain-mlogloss:0.85961\teval-mlogloss:0.86584\n"
          ]
        },
        {
          "name": "stderr",
          "output_type": "stream",
          "text": [
            "[I 2025-09-15 21:57:01,437] Trial 44 pruned. Trial was pruned at iteration 1.\n"
          ]
        },
        {
          "name": "stdout",
          "output_type": "stream",
          "text": [
            "[0]\ttrain-mlogloss:1.05146\teval-mlogloss:1.04922\n",
            "[1]\ttrain-mlogloss:1.02130\teval-mlogloss:1.02429\n",
            "[2]\ttrain-mlogloss:0.98121\teval-mlogloss:0.98168\n",
            "[3]\ttrain-mlogloss:0.93999\teval-mlogloss:0.93919\n",
            "[4]\ttrain-mlogloss:0.90209\teval-mlogloss:0.89951\n"
          ]
        },
        {
          "name": "stderr",
          "output_type": "stream",
          "text": [
            "[I 2025-09-15 21:57:01,466] Trial 45 pruned. Trial was pruned at iteration 4.\n"
          ]
        },
        {
          "name": "stdout",
          "output_type": "stream",
          "text": [
            "[0]\ttrain-mlogloss:0.91932\teval-mlogloss:0.90822\n",
            "[1]\ttrain-mlogloss:0.82713\teval-mlogloss:0.82893\n"
          ]
        },
        {
          "name": "stderr",
          "output_type": "stream",
          "text": [
            "[I 2025-09-15 21:57:01,489] Trial 46 pruned. Trial was pruned at iteration 1.\n"
          ]
        },
        {
          "name": "stdout",
          "output_type": "stream",
          "text": [
            "[0]\ttrain-mlogloss:0.94928\teval-mlogloss:0.94656\n"
          ]
        },
        {
          "name": "stderr",
          "output_type": "stream",
          "text": [
            "[I 2025-09-15 21:57:01,510] Trial 47 pruned. Trial was pruned at iteration 1.\n"
          ]
        },
        {
          "name": "stdout",
          "output_type": "stream",
          "text": [
            "[0]\ttrain-mlogloss:0.77338\teval-mlogloss:0.77094\n",
            "[1]\ttrain-mlogloss:0.56924\teval-mlogloss:0.54958\n"
          ]
        },
        {
          "name": "stderr",
          "output_type": "stream",
          "text": [
            "[I 2025-09-15 21:57:01,533] Trial 48 pruned. Trial was pruned at iteration 1.\n"
          ]
        },
        {
          "name": "stdout",
          "output_type": "stream",
          "text": [
            "[0]\ttrain-mlogloss:0.97650\teval-mlogloss:0.96934\n",
            "[1]\ttrain-mlogloss:0.91371\teval-mlogloss:0.90684\n"
          ]
        },
        {
          "name": "stderr",
          "output_type": "stream",
          "text": [
            "[I 2025-09-15 21:57:01,555] Trial 49 pruned. Trial was pruned at iteration 1.\n"
          ]
        },
        {
          "name": "stdout",
          "output_type": "stream",
          "text": [
            "Best trial: {'lambda': 1.9818592149450373e-05, 'alpha': 5.050805957577253e-08, 'eta': 0.23071761849846267, 'gamma': 0.6287801412121359, 'max_depth': 8, 'min_child_weight': 1, 'subsample': 0.49704534441995246, 'colsample_bytree': 0.49355529594145847}\n",
            "Best accuracy: 1.0\n"
          ]
        }
      ],
      "source": [
        "import optuna\n",
        "import xgboost as xgb\n",
        "from sklearn.model_selection import train_test_split\n",
        "from sklearn.datasets import load_iris\n",
        "from sklearn.metrics import accuracy_score\n",
        "import numpy as np\n",
        "\n",
        "# Load the Iris dataset\n",
        "X, y = load_iris(return_X_y=True)\n",
        "\n",
        "# Split the dataset into training and test sets\n",
        "X_train, X_test, y_train, y_test = train_test_split(X, y, test_size=0.2, random_state=42)\n",
        "\n",
        "# Define the objective function for XGBoost\n",
        "def objective(trial):\n",
        "    # Hyperparameter search space\n",
        "    param = {\n",
        "        'verbosity': 0,\n",
        "        'objective': 'multi:softprob',\n",
        "        'num_class': 3,\n",
        "        'eval_metric': 'mlogloss',  # Ensure that the eval_metric is specified here\n",
        "        'booster': 'gbtree',\n",
        "        'lambda': trial.suggest_float('lambda', 1e-8, 1.0, log=True),\n",
        "        'alpha': trial.suggest_float('alpha', 1e-8, 1.0, log=True),\n",
        "        'eta': trial.suggest_float('eta', 0.01, 0.3),\n",
        "        'gamma': trial.suggest_float('gamma', 1e-8, 1.0, log=True),\n",
        "        'max_depth': trial.suggest_int('max_depth', 3, 9),\n",
        "        'min_child_weight': trial.suggest_int('min_child_weight', 1, 10),\n",
        "        'subsample': trial.suggest_float('subsample', 0.4, 1.0),\n",
        "        'colsample_bytree': trial.suggest_float('colsample_bytree', 0.4, 1.0),\n",
        "        'n_estimators': 300,\n",
        "    }\n",
        "\n",
        "    # Create DMatrix for XGBoost\n",
        "    dtrain = xgb.DMatrix(X_train, label=y_train)\n",
        "    dtest = xgb.DMatrix(X_test, label=y_test)\n",
        "\n",
        "    # Define a pruning callback based on evaluation metrics\n",
        "    pruning_callback = optuna.integration.XGBoostPruningCallback(trial, \"eval-mlogloss\")  # Match the metric name in the evals list\n",
        "\n",
        "    # Train the model\n",
        "    bst = xgb.train(\n",
        "        param,\n",
        "        dtrain,\n",
        "        num_boost_round=300,\n",
        "        evals=[(dtrain, \"train\"), (dtest, \"eval\")],  # Ensure the eval datasets and names are specified\n",
        "        early_stopping_rounds=30,\n",
        "        callbacks=[pruning_callback]\n",
        "    )\n",
        "\n",
        "    # Predict on the test set\n",
        "    preds = bst.predict(dtest)\n",
        "    best_preds = [int(np.argmax(line)) for line in preds]\n",
        "\n",
        "    # Return accuracy as the objective value\n",
        "    accuracy = accuracy_score(y_test, best_preds)\n",
        "    return accuracy\n",
        "\n",
        "# Create a study with pruning\n",
        "study = optuna.create_study(direction='maximize', pruner=optuna.pruners.SuccessiveHalvingPruner())\n",
        "study.optimize(objective, n_trials=50)\n",
        "\n",
        "# Output the best trial\n",
        "print(f\"Best trial: {study.best_trial.params}\")\n",
        "print(f\"Best accuracy: {study.best_value}\")\n"
      ]
    },
    {
      "cell_type": "code",
      "execution_count": 48,
      "metadata": {
        "colab": {
          "base_uri": "https://localhost:8080/"
        },
        "id": "e0mTqXEpSiI_",
        "outputId": "01349f95-c4cf-4d6c-8a99-6300a3c1183e"
      },
      "outputs": [],
      "source": [
        "# ! pip install optuna-integration[xgboost]"
      ]
    },
    {
      "cell_type": "code",
      "execution_count": 49,
      "metadata": {
        "colab": {
          "base_uri": "https://localhost:8080/",
          "height": 542
        },
        "id": "TkIG5Cf6SoZ_",
        "outputId": "c9a5efa3-84a8-4d38-fe48-3a1fd6422f76"
      },
      "outputs": [
        {
          "data": {
            "application/vnd.plotly.v1+json": {
              "config": {
                "plotlyServerURL": "https://plot.ly"
              },
              "data": [
                {
                  "marker": {
                    "maxdisplayed": 10
                  },
                  "mode": "lines+markers",
                  "name": "Trial0",
                  "type": "scatter",
                  "x": [
                    0,
                    1,
                    2,
                    3,
                    4,
                    5,
                    6,
                    7,
                    8,
                    9,
                    10,
                    11,
                    12,
                    13,
                    14,
                    15,
                    16,
                    17,
                    18,
                    19,
                    20,
                    21,
                    22,
                    23,
                    24,
                    25,
                    26,
                    27,
                    28,
                    29,
                    30,
                    31,
                    32,
                    33,
                    34,
                    35,
                    36,
                    37,
                    38,
                    39,
                    40,
                    41,
                    42,
                    43,
                    44,
                    45,
                    46,
                    47,
                    48,
                    49,
                    50,
                    51,
                    52,
                    53,
                    54,
                    55,
                    56,
                    57,
                    58,
                    59,
                    60,
                    61,
                    62,
                    63,
                    64,
                    65,
                    66,
                    67,
                    68,
                    69,
                    70,
                    71,
                    72,
                    73,
                    74,
                    75,
                    76,
                    77,
                    78,
                    79,
                    80,
                    81,
                    82,
                    83,
                    84,
                    85,
                    86,
                    87,
                    88,
                    89,
                    90,
                    91,
                    92,
                    93,
                    94,
                    95,
                    96,
                    97,
                    98,
                    99,
                    100,
                    101,
                    102,
                    103,
                    104,
                    105,
                    106,
                    107,
                    108,
                    109,
                    110,
                    111,
                    112,
                    113,
                    114,
                    115,
                    116,
                    117,
                    118,
                    119,
                    120,
                    121,
                    122,
                    123,
                    124,
                    125,
                    126,
                    127,
                    128,
                    129,
                    130,
                    131,
                    132,
                    133,
                    134,
                    135,
                    136,
                    137,
                    138,
                    139,
                    140,
                    141,
                    142,
                    143,
                    144,
                    145,
                    146,
                    147,
                    148,
                    149,
                    150,
                    151,
                    152,
                    153,
                    154,
                    155,
                    156,
                    157,
                    158,
                    159,
                    160,
                    161,
                    162,
                    163,
                    164,
                    165,
                    166,
                    167,
                    168,
                    169,
                    170,
                    171,
                    172,
                    173,
                    174,
                    175,
                    176,
                    177,
                    178,
                    179
                  ],
                  "y": [
                    0.8850111345450083,
                    0.7931607862313589,
                    0.7138376742601394,
                    0.561939404408137,
                    0.5277490099271138,
                    0.4764415085315704,
                    0.3787563348809878,
                    0.309673535823822,
                    0.2905696416894595,
                    0.23278518964846928,
                    0.20074274763464928,
                    0.19488853812217713,
                    0.16621077830592793,
                    0.14627188791831333,
                    0.121133670459191,
                    0.11333401910960675,
                    0.10654815211892128,
                    0.0929232923934857,
                    0.08983899957189957,
                    0.08817183300852775,
                    0.08754396010190249,
                    0.08401587611685196,
                    0.07025697678327561,
                    0.06443412862718105,
                    0.05878969527160128,
                    0.05283343254898985,
                    0.0514687620724241,
                    0.05143195285151402,
                    0.04798339748134216,
                    0.04803499663248658,
                    0.04946415952096383,
                    0.04925456512719393,
                    0.04923825369526943,
                    0.04937675440063079,
                    0.04601823783790072,
                    0.04606090011075139,
                    0.04366326257586479,
                    0.04408465524514516,
                    0.04190502216418584,
                    0.03933109591404597,
                    0.03926258341719707,
                    0.03911582181851069,
                    0.03647098994503419,
                    0.03788183374951283,
                    0.0371121686262389,
                    0.03716711308807134,
                    0.03791267992928624,
                    0.03593683255215486,
                    0.03585663173968593,
                    0.03513304150352876,
                    0.03513541892170906,
                    0.03510851307461659,
                    0.03510154839605093,
                    0.03500978791465362,
                    0.03544211870369812,
                    0.03539964167090754,
                    0.03559275285030405,
                    0.03558517542357246,
                    0.03371838837241133,
                    0.02973311802682777,
                    0.02981601404026151,
                    0.02929726193348567,
                    0.02948376880958676,
                    0.03058202120785912,
                    0.02906188264799615,
                    0.02905523309794565,
                    0.02897442604104678,
                    0.02905818452127278,
                    0.02792713489228239,
                    0.02844433268376937,
                    0.02846495904183636,
                    0.02667020448328306,
                    0.02677111270216604,
                    0.02588451973473032,
                    0.02567989969781289,
                    0.02561329466601213,
                    0.02559260374400765,
                    0.02563602038814376,
                    0.02702588987691949,
                    0.02719274135306477,
                    0.0271590941818431,
                    0.02732258694401632,
                    0.02734721012723943,
                    0.02755515885073691,
                    0.02737683183513582,
                    0.02726643382726858,
                    0.02817470688993732,
                    0.02595439704212671,
                    0.02598060508413861,
                    0.02593491415027529,
                    0.02592530360755821,
                    0.02598917446642493,
                    0.02597405408353855,
                    0.02585538814309984,
                    0.02574001745864128,
                    0.02609731867754211,
                    0.02627081365790218,
                    0.02646389905906593,
                    0.02511244507040828,
                    0.0250760516578642,
                    0.0246399060706608,
                    0.02419845433905721,
                    0.02437788817333058,
                    0.02436583343660459,
                    0.02461354983194421,
                    0.02245780106944343,
                    0.02150988482947772,
                    0.02187070450357472,
                    0.02177266991542031,
                    0.02130149038663755,
                    0.02154024832804377,
                    0.02150752865709364,
                    0.0214057227926484,
                    0.02125545002830525,
                    0.02006054107720653,
                    0.02004055488311375,
                    0.02010829550369332,
                    0.01817601081954005,
                    0.01829345946122582,
                    0.01739081039753122,
                    0.01725488367956132,
                    0.01997048261497791,
                    0.01996415716130286,
                    0.01899140681295345,
                    0.01899778900939661,
                    0.01893285008651825,
                    0.01896654781109343,
                    0.01901601862239962,
                    0.01911379976469713,
                    0.01774481721998503,
                    0.01793022641989713,
                    0.0184403509600088,
                    0.0179244108342876,
                    0.01760488934426879,
                    0.01772318355118235,
                    0.01733726369178233,
                    0.01732285535545088,
                    0.01724808437866159,
                    0.01715649633939999,
                    0.01712275299360044,
                    0.01573922761405508,
                    0.01574135992559604,
                    0.01589555517809155,
                    0.01610470480906467,
                    0.01592148410272785,
                    0.01621471896069124,
                    0.01517171194621672,
                    0.01512968549310851,
                    0.01508448343956843,
                    0.015164966363227,
                    0.01493314791781207,
                    0.0163306614519873,
                    0.01527811949878621,
                    0.0152432266525769,
                    0.01509550226231416,
                    0.01566915352304932,
                    0.01554573394435768,
                    0.01555159071382756,
                    0.01557836459639172,
                    0.01570295705071961,
                    0.01580316672722499,
                    0.01683285194934191,
                    0.01703934205385546,
                    0.01670904510732119,
                    0.01659086146003877,
                    0.01747015770136689,
                    0.01743563064665068,
                    0.01732011752804586,
                    0.0174242361545718,
                    0.01742197066487279,
                    0.01744019687369776,
                    0.01746814551297575,
                    0.01739688548841514,
                    0.01739357652065034,
                    0.01757167522058201,
                    0.01744344960704135,
                    0.01735556239727885,
                    0.01745359323491963,
                    0.01744285351402747,
                    0.01746737413147154
                  ]
                },
                {
                  "marker": {
                    "maxdisplayed": 10
                  },
                  "mode": "lines+markers",
                  "name": "Trial1",
                  "type": "scatter",
                  "x": [
                    0,
                    1,
                    2,
                    3,
                    4,
                    5,
                    6,
                    7,
                    8,
                    9,
                    10,
                    11,
                    12,
                    13,
                    14,
                    15,
                    16,
                    17,
                    18,
                    19,
                    20,
                    21,
                    22,
                    23,
                    24,
                    25,
                    26,
                    27,
                    28,
                    29,
                    30,
                    31,
                    32,
                    33,
                    34,
                    35,
                    36,
                    37,
                    38,
                    39,
                    40,
                    41,
                    42,
                    43,
                    44,
                    45,
                    46,
                    47,
                    48,
                    49,
                    50,
                    51,
                    52,
                    53,
                    54,
                    55,
                    56,
                    57,
                    58,
                    59,
                    60,
                    61,
                    62,
                    63,
                    64,
                    65,
                    66,
                    67,
                    68,
                    69,
                    70,
                    71,
                    72,
                    73,
                    74,
                    75,
                    76,
                    77,
                    78,
                    79,
                    80,
                    81,
                    82,
                    83,
                    84,
                    85,
                    86,
                    87,
                    88,
                    89,
                    90,
                    91,
                    92,
                    93,
                    94,
                    95,
                    96,
                    97,
                    98,
                    99,
                    100,
                    101,
                    102,
                    103,
                    104,
                    105,
                    106,
                    107,
                    108,
                    109,
                    110,
                    111,
                    112,
                    113,
                    114,
                    115,
                    116,
                    117,
                    118,
                    119,
                    120,
                    121,
                    122,
                    123,
                    124,
                    125,
                    126,
                    127,
                    128,
                    129,
                    130,
                    131,
                    132,
                    133,
                    134,
                    135,
                    136,
                    137,
                    138,
                    139,
                    140,
                    141,
                    142,
                    143,
                    144,
                    145,
                    146,
                    147,
                    148,
                    149,
                    150,
                    151,
                    152,
                    153,
                    154,
                    155,
                    156,
                    157,
                    158,
                    159,
                    160,
                    161,
                    162,
                    163,
                    164,
                    165,
                    166,
                    167,
                    168,
                    169,
                    170,
                    171,
                    172,
                    173,
                    174,
                    175,
                    176,
                    177,
                    178,
                    179,
                    180,
                    181,
                    182,
                    183,
                    184,
                    185,
                    186,
                    187,
                    188,
                    189,
                    190,
                    191,
                    192,
                    193,
                    194,
                    195,
                    196,
                    197,
                    198,
                    199,
                    200,
                    201,
                    202,
                    203,
                    204,
                    205,
                    206,
                    207,
                    208,
                    209,
                    210,
                    211,
                    212,
                    213,
                    214,
                    215,
                    216,
                    217,
                    218,
                    219,
                    220,
                    221,
                    222,
                    223,
                    224,
                    225,
                    226,
                    227,
                    228,
                    229,
                    230,
                    231,
                    232,
                    233,
                    234,
                    235,
                    236,
                    237,
                    238,
                    239,
                    240,
                    241,
                    242,
                    243,
                    244,
                    245,
                    246,
                    247
                  ],
                  "y": [
                    0.9519595662752788,
                    0.8317618529001872,
                    0.727969249089559,
                    0.6383397519588471,
                    0.5642185111840566,
                    0.49958982070287067,
                    0.4473712076743444,
                    0.3987526098887126,
                    0.3561691919962565,
                    0.3175521492958069,
                    0.2898645023504893,
                    0.2589507336417834,
                    0.23367491563161213,
                    0.21067319562037787,
                    0.18976520597934723,
                    0.171577750146389,
                    0.1539900690317154,
                    0.14297617251674336,
                    0.13161313235759736,
                    0.12051263923446337,
                    0.11269876112540562,
                    0.1016080399354299,
                    0.09171719836692015,
                    0.08433036034305891,
                    0.07767421392103037,
                    0.07213483514885108,
                    0.06654709689319134,
                    0.0628421821941932,
                    0.06085126201311748,
                    0.05674227084964514,
                    0.05430187173187732,
                    0.05108599563439687,
                    0.04939968232065439,
                    0.04655953676750262,
                    0.04651956974218289,
                    0.04486767804871003,
                    0.04314321900407473,
                    0.04147242835412423,
                    0.04152280769000451,
                    0.04160526413470507,
                    0.04149178750813007,
                    0.03983737261344989,
                    0.03937805350869894,
                    0.03884817852328221,
                    0.03791721292460958,
                    0.0365541637254258,
                    0.035892305119584,
                    0.03648495255038142,
                    0.03707269181807836,
                    0.03657465139403939,
                    0.03626971011981368,
                    0.03534760121256113,
                    0.0354552800146242,
                    0.03568087195356687,
                    0.03550237876673539,
                    0.03609388197461764,
                    0.03635938229660193,
                    0.03666722845907013,
                    0.03647215832024812,
                    0.03693345080440243,
                    0.03720981782923142,
                    0.0369355984342595,
                    0.03719016124183933,
                    0.03668513226633271,
                    0.03631026564786832,
                    0.03667181320488453,
                    0.03515402597064773,
                    0.03457908121248086,
                    0.03411063756793738,
                    0.03423753677246471,
                    0.03384082526899874,
                    0.03312258299750586,
                    0.03287852825596928,
                    0.0324260404954354,
                    0.03197619337588549,
                    0.03107620109803975,
                    0.03141037225723266,
                    0.03132829186506569,
                    0.03096499036376675,
                    0.03107856529143949,
                    0.03145305317205687,
                    0.03040963971676926,
                    0.03087583770975471,
                    0.03014890969110032,
                    0.03010312078210215,
                    0.03019634964875877,
                    0.03027619550315042,
                    0.03009350248612463,
                    0.02959055975079537,
                    0.02951157954521477,
                    0.02957517756149173,
                    0.02962625417858362,
                    0.0293391560514768,
                    0.0289463901737084,
                    0.02882490882960459,
                    0.02915096714471777,
                    0.02951437469261388,
                    0.0290263915900141,
                    0.02884886347067853,
                    0.02895881423416237,
                    0.02922547167787949,
                    0.02927678222768009,
                    0.02887009661644697,
                    0.02876226594671607,
                    0.02884180978871882,
                    0.02852462632581592,
                    0.0290966953150928,
                    0.02954561923009654,
                    0.02948924160252015,
                    0.0294505531899631,
                    0.02933102607106169,
                    0.0291775521201392,
                    0.02909952085465193,
                    0.0288152146153152,
                    0.02826575363675753,
                    0.02854428100399673,
                    0.02863248805515468,
                    0.02854718167024354,
                    0.0286347568500787,
                    0.02812790940515697,
                    0.02820273381657899,
                    0.02813036303656797,
                    0.02829968342557549,
                    0.02825642243648569,
                    0.02800396375047664,
                    0.0279956288014849,
                    0.02824674709700048,
                    0.028277333592996,
                    0.02793947913063069,
                    0.02792812466310958,
                    0.02804196982954939,
                    0.02762912766387065,
                    0.02728438344007979,
                    0.02764446416404098,
                    0.02793114050291479,
                    0.02758161732926965,
                    0.02703543171131362,
                    0.02715704469786336,
                    0.02699248504359275,
                    0.02728098916510741,
                    0.0270398101148506,
                    0.02732260606717318,
                    0.02766673074414333,
                    0.02732042925587545,
                    0.02715622394656142,
                    0.02725547511751453,
                    0.02714440805527071,
                    0.02693380687075357,
                    0.02618471836516013,
                    0.02633411744609475,
                    0.02624597969309737,
                    0.02610418632005652,
                    0.02627735590407004,
                    0.02649901500747849,
                    0.02587277605198324,
                    0.02590426317571352,
                    0.02594687365926802,
                    0.02557036889872203,
                    0.02547707019839436,
                    0.02545609221948932,
                    0.02558641062738995,
                    0.02561841378143678,
                    0.02558485420110325,
                    0.02546860326547176,
                    0.02565223388373852,
                    0.02584931113136311,
                    0.025559973414056,
                    0.0257371461406971,
                    0.02656100306970378,
                    0.0265507705276832,
                    0.02628078523557633,
                    0.02589556163487335,
                    0.02592422664941599,
                    0.02615894746656219,
                    0.02640078659945478,
                    0.0261204569057251,
                    0.02606680664078643,
                    0.02571912293788046,
                    0.02572421508375555,
                    0.02564665865308295,
                    0.02525050005254646,
                    0.0252448465830336,
                    0.02502514784379552,
                    0.02503466562678417,
                    0.02520726246293634,
                    0.0251956158860897,
                    0.02543916329741478,
                    0.02543483985743175,
                    0.02586803059093654,
                    0.02625037130589286,
                    0.02647895448220273,
                    0.02650600113750746,
                    0.02643699292869617,
                    0.02587443812129398,
                    0.02606537346728146,
                    0.0262661074132969,
                    0.02626670754204194,
                    0.02611128887316833,
                    0.02611877828215559,
                    0.02577844849632432,
                    0.02562141170880447,
                    0.02499188379539798,
                    0.02521828267878542,
                    0.02524373361375183,
                    0.02526179538884511,
                    0.02529566823504865,
                    0.02523094175073008,
                    0.02519844974546383,
                    0.02547593670121084,
                    0.02554341677265863,
                    0.02553057505283505,
                    0.02548660986746351,
                    0.02521311359014362,
                    0.02521226628062626,
                    0.02522909115068615,
                    0.02546203684372206,
                    0.02497002254240215,
                    0.02476962698468317,
                    0.02484817116055638,
                    0.02485845218567799,
                    0.02482017516934623,
                    0.02485147089852641,
                    0.02486514525177578,
                    0.02479216012482842,
                    0.02479101281302671,
                    0.02511509792724003,
                    0.02534383576518546,
                    0.0255641442645962,
                    0.02533631828458359,
                    0.02583317801666756,
                    0.02552794663545986,
                    0.02581491454814871,
                    0.02611540557506184,
                    0.02628012216494729,
                    0.02611923386187603,
                    0.02605106885700176,
                    0.02607327306177467,
                    0.02593380802621444,
                    0.02612222139723599,
                    0.0261058831665044,
                    0.02616819185204804,
                    0.025976780623508,
                    0.02618477164457242,
                    0.02629711197999617,
                    0.02589457596186549,
                    0.02579550871935983,
                    0.02581731805112213,
                    0.02584724767754475
                  ]
                },
                {
                  "marker": {
                    "maxdisplayed": 10
                  },
                  "mode": "lines+markers",
                  "name": "Trial2",
                  "type": "scatter",
                  "x": [
                    0,
                    1,
                    2,
                    3,
                    4,
                    5,
                    6,
                    7,
                    8,
                    9,
                    10,
                    11,
                    12,
                    13,
                    14,
                    15,
                    16,
                    17,
                    18,
                    19,
                    20,
                    21,
                    22,
                    23,
                    24,
                    25,
                    26,
                    27,
                    28,
                    29,
                    30,
                    31,
                    32,
                    33,
                    34,
                    35,
                    36,
                    37,
                    38,
                    39,
                    40,
                    41,
                    42,
                    43,
                    44,
                    45,
                    46,
                    47,
                    48,
                    49,
                    50,
                    51,
                    52,
                    53,
                    54,
                    55,
                    56,
                    57,
                    58,
                    59,
                    60,
                    61,
                    62,
                    63,
                    64,
                    65,
                    66,
                    67,
                    68,
                    69,
                    70,
                    71,
                    72,
                    73,
                    74,
                    75,
                    76,
                    77,
                    78,
                    79,
                    80,
                    81,
                    82,
                    83,
                    84,
                    85,
                    86,
                    87,
                    88,
                    89,
                    90,
                    91,
                    92,
                    93,
                    94,
                    95,
                    96,
                    97,
                    98,
                    99,
                    100,
                    101,
                    102,
                    103,
                    104,
                    105,
                    106,
                    107,
                    108,
                    109,
                    110,
                    111,
                    112,
                    113,
                    114,
                    115,
                    116,
                    117,
                    118,
                    119,
                    120,
                    121,
                    122,
                    123,
                    124,
                    125,
                    126,
                    127,
                    128,
                    129,
                    130,
                    131,
                    132,
                    133,
                    134,
                    135,
                    136,
                    137,
                    138,
                    139,
                    140,
                    141,
                    142,
                    143,
                    144,
                    145,
                    146,
                    147,
                    148,
                    149,
                    150,
                    151,
                    152,
                    153,
                    154,
                    155,
                    156,
                    157,
                    158,
                    159,
                    160,
                    161,
                    162,
                    163,
                    164,
                    165,
                    166,
                    167,
                    168,
                    169,
                    170,
                    171,
                    172,
                    173,
                    174,
                    175,
                    176,
                    177,
                    178,
                    179,
                    180,
                    181,
                    182,
                    183,
                    184,
                    185,
                    186,
                    187,
                    188,
                    189,
                    190,
                    191,
                    192,
                    193,
                    194,
                    195,
                    196,
                    197,
                    198,
                    199,
                    200,
                    201,
                    202,
                    203,
                    204,
                    205,
                    206
                  ],
                  "y": [
                    0.942327614625295,
                    0.877118186155955,
                    0.7734046657880147,
                    0.6733201762040456,
                    0.5918509185314178,
                    0.5208968112866084,
                    0.460687255859375,
                    0.4085334539413452,
                    0.3645145903031031,
                    0.33574187060197197,
                    0.30689544379711153,
                    0.27957355181376137,
                    0.257821324467659,
                    0.23969508906205494,
                    0.22355020542939505,
                    0.21297833025455476,
                    0.20707948704560597,
                    0.1994387576977412,
                    0.19720224887132645,
                    0.19053359180688859,
                    0.18871312588453293,
                    0.18728754321734112,
                    0.18121944864590964,
                    0.1700911079843839,
                    0.16972691242893537,
                    0.1637479638059934,
                    0.16334080720941227,
                    0.1628922276198864,
                    0.16287975907325744,
                    0.16260917186737062,
                    0.1623779684305191,
                    0.16227330043911933,
                    0.16174441402157147,
                    0.16022330448031424,
                    0.16001148919264477,
                    0.16002095192670823,
                    0.155424581716458,
                    0.15567082564036053,
                    0.1554753713309765,
                    0.15481266304850577,
                    0.1547278883556525,
                    0.15457031279802322,
                    0.1545581969122092,
                    0.15145835926135381,
                    0.1515384316444397,
                    0.15128239293893178,
                    0.15123428652683893,
                    0.1511718730131785,
                    0.15073823034763337,
                    0.15086819330851237,
                    0.15084511786699295,
                    0.15112875228126843,
                    0.150964484612147,
                    0.15095784092942874,
                    0.15081909596920012,
                    0.15083701064189275,
                    0.15047093108296394,
                    0.15053237850467363,
                    0.15031807323296864,
                    0.1501667618751526,
                    0.15047861163814863,
                    0.15032688925663631,
                    0.15020286937554678,
                    0.1503419980406761,
                    0.14939798191189765,
                    0.14930050522089006,
                    0.14949564412236213,
                    0.14927552342414857,
                    0.14928507407506306,
                    0.1492121085524559,
                    0.1491234061618646,
                    0.1490984444816907,
                    0.149014546473821,
                    0.1488886165122191,
                    0.1490552787979444,
                    0.14886546656489372,
                    0.14875658055146534,
                    0.14869771376252175,
                    0.1489491452773412,
                    0.14899820312857628,
                    0.14901190449794133,
                    0.14928084363540015,
                    0.14916201382875444,
                    0.14912380849321683,
                    0.14893890892465908,
                    0.1488881640136242,
                    0.14821730156739552,
                    0.1481403224170208,
                    0.14788189952572187,
                    0.14776802758375804,
                    0.14774464865525563,
                    0.1477594537039598,
                    0.14762252146999041,
                    0.14771539817253748,
                    0.14777424037456513,
                    0.14765494043628374,
                    0.14748194168011347,
                    0.1475701515873273,
                    0.14760308116674423,
                    0.14689872587720554,
                    0.14687462995449702,
                    0.1468744918704033,
                    0.14697708909710247,
                    0.14635786886016527,
                    0.14592267101009687,
                    0.14589135572314263,
                    0.1458231252928575,
                    0.14577366039156914,
                    0.14567972247799238,
                    0.14564223885536193,
                    0.14559727807839712,
                    0.1455298567811648,
                    0.14547106847167016,
                    0.1454918439189593,
                    0.14548975452780724,
                    0.1454719454050064,
                    0.14541616489489873,
                    0.14540904213984807,
                    0.14543422336379688,
                    0.14535193865497906,
                    0.14539529681205748,
                    0.14549413472414016,
                    0.1455860085785389,
                    0.14564338624477385,
                    0.14551565870642663,
                    0.14560231839617094,
                    0.1456692392627398,
                    0.14543919811646144,
                    0.14558512692650158,
                    0.1455210377772649,
                    0.1454101798435052,
                    0.1455186662574609,
                    0.14525919357935588,
                    0.14529732937614123,
                    0.14539982452988626,
                    0.14535624136527378,
                    0.14530216703812282,
                    0.14510278428594273,
                    0.1447774385412534,
                    0.14466692358255387,
                    0.14473850329717,
                    0.14470124517877897,
                    0.14486737847328185,
                    0.1448766767978668,
                    0.14500345662236214,
                    0.14488227367401124,
                    0.14480939110120136,
                    0.14487845997015636,
                    0.14490501458446184,
                    0.1450116197268168,
                    0.1448102168738842,
                    0.14461573859055837,
                    0.14459485684831938,
                    0.1445446657637755,
                    0.1443273315827052,
                    0.14447663674751918,
                    0.144343022753795,
                    0.14436577980717022,
                    0.14433013026913008,
                    0.14430110702912013,
                    0.14422427266836166,
                    0.1440446083744367,
                    0.14415710071722668,
                    0.14415962596734364,
                    0.1439102903008461,
                    0.1438433383901914,
                    0.14377947623531023,
                    0.1437486432492733,
                    0.14369790429870288,
                    0.14360786974430084,
                    0.14359995772441228,
                    0.14353602801760038,
                    0.14332221572597822,
                    0.14334959213932355,
                    0.14345122079054515,
                    0.14339238454898198,
                    0.14276195963223776,
                    0.14250333135326704,
                    0.1426209256052971,
                    0.14259313493967057,
                    0.1426207095384598,
                    0.14276746312777203,
                    0.1427201511959235,
                    0.14275716692209245,
                    0.14278482099374135,
                    0.14287244354685147,
                    0.1428258386751016,
                    0.14279042134682338,
                    0.1428435504436493,
                    0.14315967162450155,
                    0.14329817766944566,
                    0.14338183949391048,
                    0.14335374062259992,
                    0.14332693914572397,
                    0.14344873577356337,
                    0.1434238222738107,
                    0.14344364106655122,
                    0.14346923579772314,
                    0.14337433551748593,
                    0.14338988214731216,
                    0.1433696687221527,
                    0.143221548696359,
                    0.1432138480246067,
                    0.14337840676307678,
                    0.14337460100650787,
                    0.14325727398196855,
                    0.14340041503310202
                  ]
                },
                {
                  "marker": {
                    "maxdisplayed": 10
                  },
                  "mode": "lines+markers",
                  "name": "Trial3",
                  "type": "scatter",
                  "x": [
                    0,
                    1
                  ],
                  "y": [
                    0.9108719567457835,
                    0.8512315173943837
                  ]
                },
                {
                  "marker": {
                    "maxdisplayed": 10
                  },
                  "mode": "lines+markers",
                  "name": "Trial4",
                  "type": "scatter",
                  "x": [
                    0,
                    1
                  ],
                  "y": [
                    0.9353468596935273,
                    0.7877945303916931
                  ]
                },
                {
                  "marker": {
                    "maxdisplayed": 10
                  },
                  "mode": "lines+markers",
                  "name": "Trial5",
                  "type": "scatter",
                  "x": [
                    0,
                    1,
                    2,
                    3,
                    4,
                    5,
                    6,
                    7,
                    8,
                    9,
                    10,
                    11,
                    12,
                    13,
                    14,
                    15,
                    16,
                    17,
                    18,
                    19,
                    20,
                    21,
                    22,
                    23,
                    24,
                    25,
                    26,
                    27,
                    28,
                    29,
                    30,
                    31,
                    32,
                    33,
                    34,
                    35,
                    36,
                    37,
                    38,
                    39,
                    40,
                    41,
                    42,
                    43,
                    44,
                    45,
                    46,
                    47,
                    48,
                    49,
                    50,
                    51,
                    52,
                    53,
                    54,
                    55,
                    56,
                    57,
                    58,
                    59,
                    60,
                    61,
                    62,
                    63,
                    64,
                    65,
                    66,
                    67,
                    68,
                    69,
                    70,
                    71,
                    72,
                    73,
                    74,
                    75,
                    76,
                    77,
                    78,
                    79,
                    80,
                    81,
                    82,
                    83,
                    84,
                    85,
                    86,
                    87,
                    88,
                    89,
                    90,
                    91,
                    92,
                    93,
                    94,
                    95,
                    96,
                    97,
                    98,
                    99,
                    100,
                    101,
                    102,
                    103,
                    104,
                    105,
                    106,
                    107,
                    108,
                    109,
                    110,
                    111,
                    112,
                    113,
                    114,
                    115,
                    116,
                    117,
                    118,
                    119,
                    120,
                    121,
                    122,
                    123,
                    124,
                    125,
                    126,
                    127,
                    128,
                    129,
                    130,
                    131,
                    132,
                    133,
                    134,
                    135,
                    136,
                    137,
                    138,
                    139,
                    140,
                    141,
                    142,
                    143,
                    144,
                    145,
                    146,
                    147,
                    148,
                    149,
                    150,
                    151,
                    152,
                    153,
                    154,
                    155,
                    156,
                    157,
                    158,
                    159,
                    160,
                    161,
                    162,
                    163,
                    164,
                    165,
                    166,
                    167,
                    168,
                    169,
                    170,
                    171,
                    172,
                    173,
                    174,
                    175,
                    176,
                    177,
                    178,
                    179,
                    180,
                    181,
                    182,
                    183,
                    184,
                    185,
                    186,
                    187,
                    188,
                    189,
                    190,
                    191,
                    192,
                    193,
                    194,
                    195,
                    196,
                    197,
                    198,
                    199,
                    200,
                    201,
                    202,
                    203,
                    204,
                    205,
                    206,
                    207,
                    208,
                    209,
                    210,
                    211,
                    212,
                    213,
                    214,
                    215,
                    216,
                    217,
                    218,
                    219,
                    220,
                    221,
                    222,
                    223,
                    224,
                    225,
                    226,
                    227,
                    228,
                    229,
                    230,
                    231,
                    232,
                    233,
                    234,
                    235,
                    236,
                    237,
                    238,
                    239,
                    240,
                    241,
                    242,
                    243,
                    244,
                    245,
                    246
                  ],
                  "y": [
                    1.0056551575660706,
                    0.9168978571891785,
                    0.8535080929597219,
                    0.766445501645406,
                    0.7129833082358042,
                    0.6643335004647573,
                    0.6184525072574616,
                    0.5781242748101553,
                    0.5383199393749237,
                    0.5023599803447724,
                    0.47139090796311695,
                    0.4457258999347687,
                    0.4184522688388824,
                    0.40595344503720604,
                    0.3861715386311213,
                    0.3752184728781382,
                    0.3738522936900457,
                    0.36406753957271576,
                    0.3564121276140213,
                    0.3540815899769465,
                    0.34540013372898104,
                    0.34191809346278507,
                    0.3371226727962494,
                    0.32104177673657736,
                    0.3096112738053004,
                    0.300939113398393,
                    0.3008853311340014,
                    0.3009258970618248,
                    0.3011465127269427,
                    0.3012362579504649,
                    0.3014163409670194,
                    0.30026511400938033,
                    0.29981239636739093,
                    0.2992798964182536,
                    0.29703664282957715,
                    0.29710076401631036,
                    0.29736120750506717,
                    0.29765121390422183,
                    0.29770689407984413,
                    0.2957350050409635,
                    0.29566497008005777,
                    0.2950859154264132,
                    0.295218533774217,
                    0.2952622815966606,
                    0.29500926087299983,
                    0.29470705638329187,
                    0.2926117733120918,
                    0.2914547597368558,
                    0.2900136520465215,
                    0.28837948391834894,
                    0.2809187829494476,
                    0.27945231000582377,
                    0.27902631362279257,
                    0.27897607733805974,
                    0.2785582805673281,
                    0.27842704703410465,
                    0.2779624725381533,
                    0.27637800921996436,
                    0.27640618483225504,
                    0.27627212703228,
                    0.2763545989990234,
                    0.27655178755521775,
                    0.2767148797710737,
                    0.2765780359506607,
                    0.2764451319972674,
                    0.27694970816373826,
                    0.2760664438207944,
                    0.2761918877561887,
                    0.27574819574753445,
                    0.27512975881497065,
                    0.275180954237779,
                    0.2755975738167763,
                    0.27546241382757825,
                    0.27494224508603415,
                    0.2753693039218585,
                    0.2757154569029808,
                    0.2753009592493375,
                    0.2749734729528427,
                    0.2751598988970121,
                    0.2753198340535164,
                    0.27500303437312446,
                    0.2752276360988617,
                    0.27519630690415703,
                    0.2749610736966133,
                    0.27509636531273524,
                    0.2749401534597079,
                    0.27491065512100854,
                    0.2743064006169637,
                    0.2741364076733589,
                    0.27385375599066414,
                    0.2740873098373413,
                    0.2739409441749255,
                    0.2736607586344083,
                    0.27348734786113105,
                    0.2736827194690704,
                    0.2739554464817047,
                    0.2735130310058594,
                    0.27319740603367487,
                    0.273493433992068,
                    0.2730439205964406,
                    0.27280399650335313,
                    0.2724132761359215,
                    0.27246376176675163,
                    0.27258049498001735,
                    0.2723298559586207,
                    0.27145278453826904,
                    0.2718440199891726,
                    0.27234578629334766,
                    0.27193714131911595,
                    0.27153676251570386,
                    0.2716108560562134,
                    0.27154513349135717,
                    0.2712066779534022,
                    0.27117852767308553,
                    0.27135104735692345,
                    0.2715953017274539,
                    0.27185238550106683,
                    0.2720216646790504,
                    0.27195265591144563,
                    0.27170701573292416,
                    0.2719347710410754,
                    0.27193869402011234,
                    0.2720229069391886,
                    0.2716351091861725,
                    0.26545349111159644,
                    0.265537898739179,
                    0.2646457677086194,
                    0.26440768788258234,
                    0.26394973397254945,
                    0.2637660508354505,
                    0.26413770765066147,
                    0.2641638974348704,
                    0.26373648991187415,
                    0.2634716913104057,
                    0.26358399242162706,
                    0.26375694771607716,
                    0.2639173179864883,
                    0.26388599375883737,
                    0.2634006400903066,
                    0.26330926616986594,
                    0.26298806418975196,
                    0.2630324517687162,
                    0.2632408693432808,
                    0.26332745105028155,
                    0.26273811211188636,
                    0.2629113748669624,
                    0.2626441985368729,
                    0.2612385208408038,
                    0.2615447501341502,
                    0.2616946518421173,
                    0.2612172529101372,
                    0.26110313683748243,
                    0.2611321061849594,
                    0.2610528628031413,
                    0.26044875433047615,
                    0.2606040601929029,
                    0.26070132901271187,
                    0.2604891429344813,
                    0.26030698070923486,
                    0.2602952947219213,
                    0.2600481127699216,
                    0.2601284389694532,
                    0.2600194657842318,
                    0.2600609918435415,
                    0.26025718500216805,
                    0.25915420254071553,
                    0.25843770851691567,
                    0.25849664260943733,
                    0.2587070072690646,
                    0.25854294548432033,
                    0.2587010825673739,
                    0.258203628162543,
                    0.2577172428369522,
                    0.25765628069639207,
                    0.2580713783701261,
                    0.2579862063129743,
                    0.25769136945406595,
                    0.2575041974584262,
                    0.25771773159503936,
                    0.25778434524933497,
                    0.25663469880819323,
                    0.25641984144846597,
                    0.25603173772494,
                    0.2564975967009862,
                    0.256399263938268,
                    0.25652302950620653,
                    0.2554063618183136,
                    0.25519418517748516,
                    0.2556628396113714,
                    0.25615859975417454,
                    0.2566909834742546,
                    0.25646905998388925,
                    0.2564540152748426,
                    0.2562578951319059,
                    0.25645869920651115,
                    0.2561444237828255,
                    0.2563988854487737,
                    0.2561214273174604,
                    0.2560192639629046,
                    0.2558607891201973,
                    0.25586784929037093,
                    0.25545164545377097,
                    0.255415807167689,
                    0.2554401338100433,
                    0.2554109329978625,
                    0.25440288384755455,
                    0.25454916109641396,
                    0.2546531786521276,
                    0.25429687996705375,
                    0.2528725638985634,
                    0.25290439277887344,
                    0.25287909706433614,
                    0.25290320763985313,
                    0.2529803171753883,
                    0.2526545191804568,
                    0.25286498566468557,
                    0.2526590272784233,
                    0.2524476110935211,
                    0.25266637404759723,
                    0.2525476003686587,
                    0.25264789660771686,
                    0.25294131884972254,
                    0.25291631867488223,
                    0.2531446158885956,
                    0.2531705563267072,
                    0.2531000912189484,
                    0.2526909823218981,
                    0.252875442802906,
                    0.253147358695666,
                    0.2536866118510564,
                    0.25379133174816765,
                    0.2539691090583801,
                    0.2539394790927569,
                    0.2538580651084582,
                    0.25439099222421646,
                    0.2546513264377912,
                    0.2546779235204061,
                    0.2547764122486115,
                    0.2550030991435051,
                    0.2546867445111275,
                    0.25473115891218184,
                    0.2540685757994652,
                    0.25439188033342364,
                    0.2539669801791509,
                    0.2539506271481514,
                    0.2536927079161008,
                    0.25295474131902057
                  ]
                },
                {
                  "marker": {
                    "maxdisplayed": 10
                  },
                  "mode": "lines+markers",
                  "name": "Trial6",
                  "type": "scatter",
                  "x": [
                    0,
                    1
                  ],
                  "y": [
                    0.9387780288855235,
                    0.867799166838328
                  ]
                },
                {
                  "marker": {
                    "maxdisplayed": 10
                  },
                  "mode": "lines+markers",
                  "name": "Trial7",
                  "type": "scatter",
                  "x": [
                    0,
                    1
                  ],
                  "y": [
                    0.9032150665918987,
                    0.7503708998362223
                  ]
                },
                {
                  "marker": {
                    "maxdisplayed": 10
                  },
                  "mode": "lines+markers",
                  "name": "Trial8",
                  "type": "scatter",
                  "x": [
                    0,
                    1
                  ],
                  "y": [
                    0.766108379761378,
                    0.5486772169669469
                  ]
                },
                {
                  "marker": {
                    "maxdisplayed": 10
                  },
                  "mode": "lines+markers",
                  "name": "Trial9",
                  "type": "scatter",
                  "x": [
                    0,
                    1,
                    2,
                    3,
                    4,
                    5,
                    6,
                    7,
                    8,
                    9,
                    10,
                    11,
                    12,
                    13,
                    14,
                    15,
                    16,
                    17,
                    18,
                    19,
                    20,
                    21,
                    22,
                    23,
                    24,
                    25,
                    26,
                    27,
                    28,
                    29,
                    30,
                    31,
                    32,
                    33,
                    34,
                    35,
                    36,
                    37,
                    38,
                    39,
                    40,
                    41,
                    42,
                    43,
                    44,
                    45,
                    46,
                    47,
                    48,
                    49,
                    50,
                    51,
                    52,
                    53,
                    54,
                    55,
                    56,
                    57,
                    58,
                    59,
                    60,
                    61,
                    62,
                    63,
                    64
                  ],
                  "y": [
                    1.0365204175313314,
                    1.0070230503877005,
                    0.9758922696113587,
                    0.9133670826752981,
                    0.8916257619857788,
                    0.8582764406998952,
                    0.8063473542531331,
                    0.7537617226441701,
                    0.7349706768989563,
                    0.6877493361632029,
                    0.6567653238773346,
                    0.6454896400372188,
                    0.6123979141314825,
                    0.5867402722438176,
                    0.5504362732172012,
                    0.5333465745051702,
                    0.5191337585449218,
                    0.49828089475631715,
                    0.475556813677152,
                    0.47109180291493735,
                    0.4665919562180837,
                    0.4494110067685445,
                    0.4227876236041387,
                    0.3997321516275406,
                    0.3825261304775874,
                    0.36160775274038315,
                    0.3588310758272807,
                    0.3426452944676081,
                    0.3355456372102102,
                    0.3270273004968961,
                    0.3219754238923391,
                    0.30958365003267924,
                    0.2954877942800522,
                    0.29190677404403687,
                    0.2840321590503057,
                    0.27611900319655736,
                    0.26934949805339176,
                    0.25679198155800503,
                    0.25038414920369784,
                    0.24289001300930976,
                    0.23779710307717322,
                    0.23010201305150985,
                    0.22278057038784027,
                    0.21684096256891885,
                    0.21046513691544533,
                    0.2025039662917455,
                    0.20117177789409954,
                    0.19720893278717994,
                    0.19282395044962566,
                    0.18788566316167513,
                    0.18201364626487096,
                    0.1766605724891027,
                    0.17409660120805104,
                    0.1682933862010638,
                    0.16618754317363102,
                    0.16613918070991834,
                    0.16409917746980984,
                    0.16168638393282891,
                    0.15780805349349974,
                    0.1526781308154265,
                    0.15190105214715005,
                    0.15025766417384148,
                    0.1483775369822979,
                    0.1483685205380122,
                    0.1476732316116492
                  ]
                },
                {
                  "marker": {
                    "maxdisplayed": 10
                  },
                  "mode": "lines+markers",
                  "name": "Trial10",
                  "type": "scatter",
                  "x": [
                    0,
                    1
                  ],
                  "y": [
                    0.7640212138493856,
                    0.6528766632080079
                  ]
                },
                {
                  "marker": {
                    "maxdisplayed": 10
                  },
                  "mode": "lines+markers",
                  "name": "Trial11",
                  "type": "scatter",
                  "x": [
                    0,
                    1
                  ],
                  "y": [
                    0.8304673532644907,
                    0.6317834953467051
                  ]
                },
                {
                  "marker": {
                    "maxdisplayed": 10
                  },
                  "mode": "lines+markers",
                  "name": "Trial12",
                  "type": "scatter",
                  "x": [
                    0,
                    1,
                    2,
                    3,
                    4,
                    5,
                    6,
                    7,
                    8,
                    9,
                    10,
                    11,
                    12,
                    13,
                    14,
                    15,
                    16,
                    17,
                    18,
                    19,
                    20,
                    21,
                    22,
                    23,
                    24,
                    25,
                    26,
                    27,
                    28,
                    29,
                    30,
                    31,
                    32,
                    33,
                    34,
                    35,
                    36,
                    37,
                    38,
                    39,
                    40,
                    41,
                    42,
                    43,
                    44,
                    45,
                    46,
                    47,
                    48,
                    49,
                    50,
                    51,
                    52,
                    53,
                    54,
                    55,
                    56,
                    57,
                    58,
                    59,
                    60,
                    61,
                    62,
                    63,
                    64,
                    65,
                    66,
                    67,
                    68,
                    69,
                    70,
                    71,
                    72,
                    73,
                    74,
                    75,
                    76,
                    77,
                    78,
                    79,
                    80,
                    81,
                    82,
                    83,
                    84,
                    85,
                    86,
                    87,
                    88,
                    89,
                    90,
                    91,
                    92,
                    93,
                    94,
                    95,
                    96,
                    97,
                    98,
                    99,
                    100,
                    101,
                    102,
                    103,
                    104,
                    105,
                    106,
                    107,
                    108,
                    109,
                    110,
                    111,
                    112,
                    113,
                    114,
                    115,
                    116,
                    117,
                    118,
                    119,
                    120,
                    121,
                    122,
                    123,
                    124,
                    125,
                    126,
                    127,
                    128,
                    129,
                    130,
                    131,
                    132,
                    133,
                    134,
                    135,
                    136,
                    137,
                    138,
                    139,
                    140,
                    141,
                    142,
                    143,
                    144,
                    145,
                    146,
                    147,
                    148,
                    149,
                    150,
                    151,
                    152,
                    153,
                    154,
                    155,
                    156,
                    157,
                    158,
                    159,
                    160,
                    161,
                    162,
                    163,
                    164,
                    165,
                    166,
                    167,
                    168,
                    169,
                    170,
                    171,
                    172,
                    173,
                    174,
                    175,
                    176,
                    177,
                    178,
                    179,
                    180,
                    181,
                    182,
                    183,
                    184,
                    185,
                    186,
                    187,
                    188,
                    189,
                    190,
                    191,
                    192,
                    193,
                    194,
                    195,
                    196,
                    197,
                    198,
                    199,
                    200,
                    201,
                    202,
                    203,
                    204,
                    205,
                    206,
                    207,
                    208,
                    209,
                    210,
                    211,
                    212,
                    213,
                    214,
                    215,
                    216,
                    217,
                    218,
                    219,
                    220,
                    221,
                    222,
                    223,
                    224,
                    225,
                    226,
                    227,
                    228,
                    229,
                    230,
                    231,
                    232,
                    233,
                    234,
                    235,
                    236,
                    237,
                    238,
                    239,
                    240,
                    241,
                    242,
                    243,
                    244,
                    245,
                    246,
                    247,
                    248,
                    249,
                    250,
                    251,
                    252,
                    253,
                    254,
                    255,
                    256,
                    257,
                    258,
                    259,
                    260,
                    261,
                    262,
                    263,
                    264,
                    265,
                    266,
                    267,
                    268,
                    269,
                    270,
                    271,
                    272,
                    273,
                    274,
                    275,
                    276,
                    277,
                    278,
                    279,
                    280,
                    281,
                    282,
                    283,
                    284,
                    285,
                    286,
                    287,
                    288,
                    289,
                    290,
                    291,
                    292,
                    293,
                    294,
                    295,
                    296,
                    297,
                    298,
                    299
                  ],
                  "y": [
                    1.0734157959620159,
                    1.060158328215281,
                    1.0373196522394816,
                    1.0123733162879944,
                    0.9885784010092418,
                    0.9659218768278758,
                    0.9447577993075053,
                    0.9241157035032909,
                    0.9034789244333903,
                    0.8851081271966298,
                    0.8675813674926758,
                    0.8492815434932709,
                    0.8330673992633819,
                    0.8157207667827606,
                    0.7984324892361959,
                    0.7850806852181752,
                    0.7713870028654735,
                    0.755079327027003,
                    0.7432747840881347,
                    0.7289974292119344,
                    0.7174203117688497,
                    0.7046071410179138,
                    0.6900744020938874,
                    0.6753495117028554,
                    0.6621606767177581,
                    0.6482883354028066,
                    0.6360784550507863,
                    0.6237406313419342,
                    0.6122475683689117,
                    0.6031006912390391,
                    0.5966041704018911,
                    0.5870297769705455,
                    0.576135108868281,
                    0.5649771273136139,
                    0.55700603723526,
                    0.5462473531564077,
                    0.536950804789861,
                    0.526339539885521,
                    0.5177420834700267,
                    0.50769544839859,
                    0.500031445423762,
                    0.4901755024989446,
                    0.4806638648112615,
                    0.4716978470484416,
                    0.4647355884313583,
                    0.456558029850324,
                    0.44818558394908903,
                    0.44076284964879353,
                    0.43333335320154825,
                    0.42525198459625246,
                    0.41757985949516296,
                    0.40975980361302694,
                    0.4046946177879969,
                    0.39736185371875765,
                    0.39253738820552825,
                    0.3882544845342636,
                    0.38288792173067726,
                    0.37740836342175804,
                    0.3722156186898549,
                    0.36528121133645375,
                    0.359550013144811,
                    0.35435526072978973,
                    0.3486816296974818,
                    0.34397719502449037,
                    0.33831685185432436,
                    0.3324951946735382,
                    0.3263556937376658,
                    0.32156096001466117,
                    0.31770593076944353,
                    0.31309967339038847,
                    0.3081206147869428,
                    0.3025796363751094,
                    0.29889467507600787,
                    0.29463128993908566,
                    0.29047963867584864,
                    0.286016753812631,
                    0.2830793524781863,
                    0.27890399247407915,
                    0.2751463959614436,
                    0.27020145058631895,
                    0.26613334864377974,
                    0.2618629395961761,
                    0.2579277684291204,
                    0.2536904816826185,
                    0.249602506061395,
                    0.24691355327765147,
                    0.24269255846738816,
                    0.24000402241945268,
                    0.2361102044582367,
                    0.23218791981538137,
                    0.22837048719326655,
                    0.2250969206293424,
                    0.22171403865019482,
                    0.217976110180219,
                    0.21431263387203217,
                    0.21093706438938778,
                    0.20743015358845393,
                    0.20428243428468704,
                    0.20150901277860006,
                    0.1987726668516795,
                    0.19676359792550405,
                    0.19383420348167418,
                    0.19084693441788356,
                    0.18814435849587122,
                    0.18583890919884047,
                    0.18310889626542728,
                    0.1806668813029925,
                    0.17802084113160768,
                    0.1754392681022485,
                    0.17344776466488837,
                    0.17044150829315186,
                    0.16758319487174353,
                    0.1659346009294192,
                    0.16392105643947918,
                    0.16129953612883885,
                    0.15893396312991778,
                    0.1576615869998932,
                    0.15508663579821585,
                    0.15336630816260974,
                    0.1515291579067707,
                    0.14977162381013234,
                    0.1473268878956636,
                    0.14513617555300395,
                    0.14346929962436358,
                    0.14228942543268203,
                    0.1405780168871085,
                    0.13974230537811916,
                    0.13780038828651112,
                    0.1355264479915301,
                    0.13377941747506458,
                    0.13259577378630638,
                    0.13087981045246125,
                    0.1290797454615434,
                    0.12812635873754818,
                    0.12610220635930697,
                    0.1250029057264328,
                    0.12335466866691908,
                    0.12158088187376657,
                    0.12033583720525105,
                    0.1195579790820678,
                    0.11758462376892567,
                    0.11586223927636942,
                    0.11453426207105319,
                    0.11291755611697833,
                    0.11164985659221809,
                    0.10986537920931976,
                    0.10835257197419802,
                    0.10678847208619117,
                    0.10529665735860666,
                    0.10410290770232677,
                    0.10310814330975214,
                    0.10168469622731209,
                    0.10011596245070299,
                    0.0985377329091231,
                    0.0972294993698597,
                    0.0960801299661398,
                    0.09471787177026272,
                    0.0931269803394874,
                    0.0917821558813254,
                    0.09112150371074676,
                    0.08985364884138107,
                    0.08917812158664068,
                    0.08798851830263933,
                    0.08731623714168867,
                    0.08594368075331052,
                    0.08488415951530139,
                    0.08407782365878423,
                    0.08311095622678598,
                    0.08237567072113355,
                    0.0811891533434391,
                    0.07996742265919844,
                    0.07897842402259508,
                    0.07824570946395397,
                    0.0771183663358291,
                    0.07621226310729981,
                    0.07549350429326296,
                    0.07536922382811705,
                    0.07477963920682669,
                    0.07366441215078036,
                    0.07310188189148903,
                    0.07197701974461476,
                    0.07093753882994254,
                    0.07006255524853865,
                    0.06977690812200307,
                    0.06926904444893202,
                    0.06882195429255565,
                    0.06857411575814089,
                    0.06825928961237272,
                    0.06763080960760513,
                    0.06713712370644014,
                    0.06632170546799898,
                    0.06573290216426055,
                    0.06484098962197701,
                    0.06425583815822998,
                    0.06378247098376354,
                    0.0629742323110501,
                    0.06212626788765192,
                    0.0615270709618926,
                    0.06085344683378935,
                    0.05996043160557747,
                    0.05940276570618153,
                    0.05887469171235959,
                    0.05852340416361888,
                    0.05775429519514243,
                    0.05723415923615296,
                    0.05671189073473215,
                    0.05602131287256876,
                    0.0554026788721482,
                    0.05492172309507926,
                    0.05456486555437247,
                    0.05414838915069898,
                    0.05374221652746201,
                    0.0531609579299887,
                    0.052256378531456,
                    0.05168488435447216,
                    0.05134940935919682,
                    0.05063238684087992,
                    0.05014179603507121,
                    0.04957996923476458,
                    0.04926095142339667,
                    0.0485592782497406,
                    0.04845029525458813,
                    0.04789439383894205,
                    0.04763146601617337,
                    0.04705723462005456,
                    0.0466716126849254,
                    0.04633622442682584,
                    0.04586798182378213,
                    0.04542764055853089,
                    0.0452850142493844,
                    0.04491870027656356,
                    0.04439008384943009,
                    0.04386523266633351,
                    0.04359695656845967,
                    0.0431687420544525,
                    0.04281894651552041,
                    0.0425441385867695,
                    0.04222208714733521,
                    0.04198667301485936,
                    0.04180483659729362,
                    0.04144190214574337,
                    0.04136758157983422,
                    0.041327522136271,
                    0.04085043026134372,
                    0.04058360562970241,
                    0.04025893177216252,
                    0.03989221177374323,
                    0.03971345822016398,
                    0.03934246655553579,
                    0.03893359300370017,
                    0.03857102977732817,
                    0.0385136906368037,
                    0.03821373196939627,
                    0.03825139487162232,
                    0.03794863832493623,
                    0.03778162278855841,
                    0.03781052545333902,
                    0.03765029208734631,
                    0.03750294847413897,
                    0.03728744806721807,
                    0.0371324323117733,
                    0.03683423058440288,
                    0.0365706746156017,
                    0.03632150798415144,
                    0.03608638672158122,
                    0.03588254243756334,
                    0.03577222224945823,
                    0.03562842256699999,
                    0.03530190841605266,
                    0.03521469968060652,
                    0.0350079596042633,
                    0.03486563128729661,
                    0.03446379927918315,
                    0.03431614693254233,
                    0.03390356066326301,
                    0.03385625019048651,
                    0.03383834660053253,
                    0.03361583749453226,
                    0.03370484160259366,
                    0.03353417705123623,
                    0.03337854519486427,
                    0.03325406921406587,
                    0.03318007548029224,
                    0.03308060945322116,
                    0.03304865105698506,
                    0.03297851951792836,
                    0.03272626927743356,
                    0.0327442307335635,
                    0.03237127070315182,
                    0.03227364653721452,
                    0.03213817652625342,
                    0.03196086537403365,
                    0.03190443788965543,
                    0.03179081049747765,
                    0.03157977379548053,
                    0.03133333705676099,
                    0.03139594937674701,
                    0.03119229838872949,
                    0.03091607616903881,
                    0.03073617676272988
                  ]
                },
                {
                  "marker": {
                    "maxdisplayed": 10
                  },
                  "mode": "lines+markers",
                  "name": "Trial13",
                  "type": "scatter",
                  "x": [
                    0,
                    1
                  ],
                  "y": [
                    0.8551557282606761,
                    0.7616925577322642
                  ]
                },
                {
                  "marker": {
                    "maxdisplayed": 10
                  },
                  "mode": "lines+markers",
                  "name": "Trial14",
                  "type": "scatter",
                  "x": [
                    0,
                    1
                  ],
                  "y": [
                    0.8059197346369426,
                    0.6926369567712148
                  ]
                },
                {
                  "marker": {
                    "maxdisplayed": 10
                  },
                  "mode": "lines+markers",
                  "name": "Trial15",
                  "type": "scatter",
                  "x": [
                    0,
                    1
                  ],
                  "y": [
                    0.8115356047948201,
                    0.7156149526437123
                  ]
                },
                {
                  "marker": {
                    "maxdisplayed": 10
                  },
                  "mode": "lines+markers",
                  "name": "Trial16",
                  "type": "scatter",
                  "x": [
                    0,
                    1,
                    2,
                    3,
                    4
                  ],
                  "y": [
                    1.0248225371042887,
                    0.9587861478328705,
                    0.8964435497919718,
                    0.8394327998161316,
                    0.7877162575721741
                  ]
                },
                {
                  "marker": {
                    "maxdisplayed": 10
                  },
                  "mode": "lines+markers",
                  "name": "Trial17",
                  "type": "scatter",
                  "x": [
                    0,
                    1
                  ],
                  "y": [
                    0.9642142494519551,
                    0.8999688347180684
                  ]
                },
                {
                  "marker": {
                    "maxdisplayed": 10
                  },
                  "mode": "lines+markers",
                  "name": "Trial18",
                  "type": "scatter",
                  "x": [
                    0,
                    1
                  ],
                  "y": [
                    0.8311816136042277,
                    0.7305678447087606
                  ]
                },
                {
                  "marker": {
                    "maxdisplayed": 10
                  },
                  "mode": "lines+markers",
                  "name": "Trial19",
                  "type": "scatter",
                  "x": [
                    0,
                    1
                  ],
                  "y": [
                    0.7623300194740296,
                    0.5566313147544861
                  ]
                },
                {
                  "marker": {
                    "maxdisplayed": 10
                  },
                  "mode": "lines+markers",
                  "name": "Trial20",
                  "type": "scatter",
                  "x": [
                    0,
                    1
                  ],
                  "y": [
                    0.9447025656700134,
                    0.8218733370304108
                  ]
                },
                {
                  "marker": {
                    "maxdisplayed": 10
                  },
                  "mode": "lines+markers",
                  "name": "Trial21",
                  "type": "scatter",
                  "x": [
                    0,
                    1
                  ],
                  "y": [
                    0.9625331143538157,
                    0.8456314941247304
                  ]
                },
                {
                  "marker": {
                    "maxdisplayed": 10
                  },
                  "mode": "lines+markers",
                  "name": "Trial22",
                  "type": "scatter",
                  "x": [
                    0,
                    1,
                    2,
                    3,
                    4
                  ],
                  "y": [
                    1.001930554707845,
                    0.9579094211260478,
                    0.8856748839219412,
                    0.8115062057971955,
                    0.7479544619719187
                  ]
                },
                {
                  "marker": {
                    "maxdisplayed": 10
                  },
                  "mode": "lines+markers",
                  "name": "Trial23",
                  "type": "scatter",
                  "x": [
                    0,
                    1
                  ],
                  "y": [
                    0.9382450362046559,
                    0.8670709073543549
                  ]
                },
                {
                  "marker": {
                    "maxdisplayed": 10
                  },
                  "mode": "lines+markers",
                  "name": "Trial24",
                  "type": "scatter",
                  "x": [
                    0,
                    1
                  ],
                  "y": [
                    0.8875805834929148,
                    0.8083752711613973
                  ]
                },
                {
                  "marker": {
                    "maxdisplayed": 10
                  },
                  "mode": "lines+markers",
                  "name": "Trial25",
                  "type": "scatter",
                  "x": [
                    0,
                    1,
                    2,
                    3,
                    4,
                    5,
                    6,
                    7,
                    8,
                    9,
                    10,
                    11,
                    12,
                    13,
                    14,
                    15,
                    16
                  ],
                  "y": [
                    1.0485357125600179,
                    1.0244273781776427,
                    0.9824603021144866,
                    0.9398800154527028,
                    0.8993571102619171,
                    0.860308837890625,
                    0.8241592586040497,
                    0.7899196803569793,
                    0.7575951596101125,
                    0.7271673937638601,
                    0.7022911250591278,
                    0.6747157732645671,
                    0.6526097635428111,
                    0.6271145403385162,
                    0.6030015389124552,
                    0.5846153914928436,
                    0.5661157608032227
                  ]
                },
                {
                  "marker": {
                    "maxdisplayed": 10
                  },
                  "mode": "lines+markers",
                  "name": "Trial26",
                  "type": "scatter",
                  "x": [
                    0,
                    1
                  ],
                  "y": [
                    0.9814275681972504,
                    0.8813205679257711
                  ]
                },
                {
                  "marker": {
                    "maxdisplayed": 10
                  },
                  "mode": "lines+markers",
                  "name": "Trial27",
                  "type": "scatter",
                  "x": [
                    0,
                    1
                  ],
                  "y": [
                    0.9504924496014913,
                    0.8139092127482096
                  ]
                },
                {
                  "marker": {
                    "maxdisplayed": 10
                  },
                  "mode": "lines+markers",
                  "name": "Trial28",
                  "type": "scatter",
                  "x": [
                    0,
                    1
                  ],
                  "y": [
                    0.8417205492655436,
                    0.7364947895208994
                  ]
                },
                {
                  "marker": {
                    "maxdisplayed": 10
                  },
                  "mode": "lines+markers",
                  "name": "Trial29",
                  "type": "scatter",
                  "x": [
                    0,
                    1
                  ],
                  "y": [
                    0.8998963952064514,
                    0.8137020766735077
                  ]
                },
                {
                  "marker": {
                    "maxdisplayed": 10
                  },
                  "mode": "lines+markers",
                  "name": "Trial30",
                  "type": "scatter",
                  "x": [
                    0,
                    1
                  ],
                  "y": [
                    0.9170338153839112,
                    0.8454658965269725
                  ]
                },
                {
                  "marker": {
                    "maxdisplayed": 10
                  },
                  "mode": "lines+markers",
                  "name": "Trial31",
                  "type": "scatter",
                  "x": [
                    0,
                    1,
                    2,
                    3,
                    4
                  ],
                  "y": [
                    1.0076980590820312,
                    0.9200977365175883,
                    0.8576541562875112,
                    0.7720829010009765,
                    0.7216229319572449
                  ]
                },
                {
                  "marker": {
                    "maxdisplayed": 10
                  },
                  "mode": "lines+markers",
                  "name": "Trial32",
                  "type": "scatter",
                  "x": [
                    0,
                    1
                  ],
                  "y": [
                    0.9312717417875925,
                    0.7815058092276256
                  ]
                },
                {
                  "marker": {
                    "maxdisplayed": 10
                  },
                  "mode": "lines+markers",
                  "name": "Trial33",
                  "type": "scatter",
                  "x": [
                    0,
                    1
                  ],
                  "y": [
                    0.9879843850930532,
                    0.8961117029190063
                  ]
                },
                {
                  "marker": {
                    "maxdisplayed": 10
                  },
                  "mode": "lines+markers",
                  "name": "Trial34",
                  "type": "scatter",
                  "x": [
                    0,
                    1,
                    2,
                    3,
                    4
                  ],
                  "y": [
                    1.014353334903717,
                    0.9659395356973012,
                    0.9217966119448344,
                    0.8337178667386372,
                    0.7793704708417256
                  ]
                },
                {
                  "marker": {
                    "maxdisplayed": 10
                  },
                  "mode": "lines+markers",
                  "name": "Trial35",
                  "type": "scatter",
                  "x": [
                    0,
                    1
                  ],
                  "y": [
                    0.9361115336418152,
                    0.7897140840689342
                  ]
                },
                {
                  "marker": {
                    "maxdisplayed": 10
                  },
                  "mode": "lines+markers",
                  "name": "Trial36",
                  "type": "scatter",
                  "x": [
                    0,
                    1,
                    2,
                    3,
                    4,
                    5,
                    6,
                    7,
                    8,
                    9,
                    10,
                    11,
                    12,
                    13,
                    14,
                    15,
                    16
                  ],
                  "y": [
                    1.0432839155197144,
                    1.0148775577545166,
                    1.0040339489777883,
                    0.9443538149197896,
                    0.9235845526059469,
                    0.8906556983788808,
                    0.8548943797747294,
                    0.8184863090515136,
                    0.7983829140663147,
                    0.7634383062521617,
                    0.7375511467456818,
                    0.7252717196941376,
                    0.6996128598848979,
                    0.6731361230214437,
                    0.649236986041069,
                    0.6404281437397004,
                    0.625403955578804
                  ]
                },
                {
                  "marker": {
                    "maxdisplayed": 10
                  },
                  "mode": "lines+markers",
                  "name": "Trial37",
                  "type": "scatter",
                  "x": [
                    0,
                    1
                  ],
                  "y": [
                    0.9610834836959838,
                    0.8409861703713735
                  ]
                },
                {
                  "marker": {
                    "maxdisplayed": 10
                  },
                  "mode": "lines+markers",
                  "name": "Trial38",
                  "type": "scatter",
                  "x": [
                    0,
                    1
                  ],
                  "y": [
                    0.8972098926703135,
                    0.8108612994352976
                  ]
                },
                {
                  "marker": {
                    "maxdisplayed": 10
                  },
                  "mode": "lines+markers",
                  "name": "Trial39",
                  "type": "scatter",
                  "x": [
                    0,
                    1,
                    2,
                    3,
                    4
                  ],
                  "y": [
                    1.0411205689112346,
                    1.000018944342931,
                    0.9523036340872447,
                    0.9103053291638692,
                    0.8598742206891378
                  ]
                },
                {
                  "marker": {
                    "maxdisplayed": 10
                  },
                  "mode": "lines+markers",
                  "name": "Trial40",
                  "type": "scatter",
                  "x": [
                    0,
                    1,
                    2,
                    3,
                    4
                  ],
                  "y": [
                    1.0435349225997925,
                    1.0126626670360566,
                    0.9666805942853292,
                    0.9172521650791168,
                    0.8754629850387573
                  ]
                },
                {
                  "marker": {
                    "maxdisplayed": 10
                  },
                  "mode": "lines+markers",
                  "name": "Trial41",
                  "type": "scatter",
                  "x": [
                    0,
                    1
                  ],
                  "y": [
                    0.9258318285147349,
                    0.8561114430427551
                  ]
                },
                {
                  "marker": {
                    "maxdisplayed": 10
                  },
                  "mode": "lines+markers",
                  "name": "Trial42",
                  "type": "scatter",
                  "x": [
                    0,
                    1,
                    2,
                    3,
                    4,
                    5,
                    6,
                    7,
                    8,
                    9,
                    10,
                    11,
                    12,
                    13,
                    14,
                    15,
                    16,
                    17,
                    18,
                    19,
                    20,
                    21,
                    22,
                    23,
                    24,
                    25,
                    26,
                    27,
                    28,
                    29,
                    30,
                    31,
                    32,
                    33,
                    34,
                    35,
                    36,
                    37,
                    38,
                    39,
                    40,
                    41,
                    42,
                    43,
                    44,
                    45,
                    46,
                    47,
                    48,
                    49,
                    50,
                    51,
                    52,
                    53,
                    54,
                    55,
                    56,
                    57,
                    58,
                    59,
                    60,
                    61,
                    62,
                    63,
                    64
                  ],
                  "y": [
                    1.0725064317385355,
                    1.0595388809839885,
                    1.0358519792556762,
                    1.0101615011692047,
                    0.9849957744280498,
                    0.9616638620694479,
                    0.9396968245506286,
                    0.9182295302549998,
                    0.8971447646617889,
                    0.8781483908494313,
                    0.8595019598801931,
                    0.8406395177046458,
                    0.8245114922523499,
                    0.8066369652748108,
                    0.7885091225306193,
                    0.774629924694697,
                    0.7608416557312012,
                    0.74409286181132,
                    0.7318710247675578,
                    0.7167909185091654,
                    0.7054047683874766,
                    0.6930327753225962,
                    0.678141842285792,
                    0.6631744662920634,
                    0.6495214541753133,
                    0.6356548209985097,
                    0.6232052862644195,
                    0.6107942640781403,
                    0.5991416374842325,
                    0.5898634592692057,
                    0.5832085291544596,
                    0.5734398504098256,
                    0.5620089948177338,
                    0.5506940642992656,
                    0.5421242465575536,
                    0.531236125032107,
                    0.521803472439448,
                    0.5110877801974615,
                    0.5022205313046774,
                    0.4921149641275406,
                    0.4845681846141815,
                    0.47531262735525764,
                    0.46618453164895374,
                    0.45711370209852853,
                    0.44959038197994233,
                    0.44125176866849264,
                    0.43285910387833915,
                    0.42494498391946156,
                    0.4178518493970235,
                    0.40971834659576417,
                    0.4020681430896123,
                    0.39430096447467805,
                    0.38885082105795543,
                    0.3819174110889435,
                    0.37693461279074353,
                    0.37270163695017494,
                    0.36735195815563204,
                    0.3619755208492279,
                    0.3568053980668386,
                    0.3501054714123408,
                    0.34459175864855446,
                    0.34012777904669445,
                    0.3345660130182902,
                    0.3293777187665304,
                    0.323849281668663
                  ]
                },
                {
                  "marker": {
                    "maxdisplayed": 10
                  },
                  "mode": "lines+markers",
                  "name": "Trial43",
                  "type": "scatter",
                  "x": [
                    0,
                    1,
                    2,
                    3,
                    4,
                    5,
                    6,
                    7,
                    8,
                    9,
                    10,
                    11,
                    12,
                    13,
                    14,
                    15,
                    16,
                    17,
                    18,
                    19,
                    20,
                    21,
                    22,
                    23,
                    24,
                    25,
                    26,
                    27,
                    28,
                    29,
                    30,
                    31,
                    32,
                    33,
                    34,
                    35,
                    36,
                    37,
                    38,
                    39,
                    40,
                    41,
                    42,
                    43,
                    44,
                    45,
                    46,
                    47,
                    48,
                    49,
                    50,
                    51,
                    52,
                    53,
                    54,
                    55,
                    56,
                    57,
                    58,
                    59,
                    60,
                    61,
                    62,
                    63,
                    64,
                    65,
                    66,
                    67,
                    68,
                    69,
                    70,
                    71,
                    72,
                    73,
                    74,
                    75,
                    76,
                    77,
                    78,
                    79,
                    80,
                    81,
                    82,
                    83,
                    84,
                    85,
                    86,
                    87,
                    88,
                    89,
                    90,
                    91,
                    92,
                    93,
                    94,
                    95,
                    96,
                    97,
                    98,
                    99,
                    100,
                    101,
                    102,
                    103,
                    104,
                    105,
                    106,
                    107,
                    108,
                    109,
                    110,
                    111,
                    112,
                    113,
                    114,
                    115,
                    116,
                    117,
                    118,
                    119,
                    120,
                    121,
                    122,
                    123,
                    124,
                    125,
                    126,
                    127,
                    128,
                    129,
                    130,
                    131,
                    132,
                    133,
                    134,
                    135,
                    136,
                    137,
                    138,
                    139,
                    140,
                    141,
                    142,
                    143,
                    144,
                    145,
                    146,
                    147,
                    148,
                    149,
                    150,
                    151,
                    152,
                    153,
                    154,
                    155,
                    156,
                    157,
                    158,
                    159,
                    160,
                    161,
                    162,
                    163,
                    164,
                    165,
                    166,
                    167,
                    168,
                    169,
                    170,
                    171,
                    172,
                    173,
                    174,
                    175,
                    176,
                    177,
                    178,
                    179,
                    180,
                    181,
                    182,
                    183,
                    184,
                    185,
                    186,
                    187,
                    188,
                    189,
                    190,
                    191,
                    192,
                    193,
                    194,
                    195,
                    196,
                    197,
                    198,
                    199,
                    200,
                    201,
                    202,
                    203,
                    204,
                    205,
                    206,
                    207,
                    208,
                    209,
                    210,
                    211,
                    212,
                    213,
                    214,
                    215,
                    216,
                    217,
                    218,
                    219,
                    220,
                    221,
                    222,
                    223,
                    224,
                    225,
                    226,
                    227,
                    228,
                    229,
                    230,
                    231,
                    232,
                    233,
                    234,
                    235,
                    236,
                    237,
                    238,
                    239,
                    240,
                    241,
                    242,
                    243,
                    244,
                    245,
                    246,
                    247,
                    248,
                    249,
                    250,
                    251,
                    252,
                    253,
                    254,
                    255,
                    256,
                    257,
                    258,
                    259,
                    260,
                    261,
                    262,
                    263,
                    264,
                    265,
                    266,
                    267,
                    268,
                    269,
                    270,
                    271,
                    272,
                    273,
                    274,
                    275,
                    276,
                    277,
                    278,
                    279,
                    280,
                    281,
                    282,
                    283,
                    284,
                    285,
                    286,
                    287,
                    288,
                    289,
                    290,
                    291,
                    292,
                    293,
                    294,
                    295,
                    296,
                    297,
                    298,
                    299
                  ],
                  "y": [
                    1.0789954622586568,
                    1.0684115727742514,
                    1.0504472295443217,
                    1.030817699432373,
                    1.0124468167622884,
                    0.9947696646054586,
                    0.9773407121499379,
                    0.9600721538066864,
                    0.9434277196725209,
                    0.9276935497919718,
                    0.9127646068731944,
                    0.8976142962773641,
                    0.8846398810545604,
                    0.8704223553339641,
                    0.8556897540887197,
                    0.8439487655957539,
                    0.8327788551648457,
                    0.8187735716501872,
                    0.8078053136666615,
                    0.7955864687760671,
                    0.7853235085805257,
                    0.7745321174462636,
                    0.7621600270271301,
                    0.7493948817253113,
                    0.7374283293883006,
                    0.7259358127911886,
                    0.7151848196983337,
                    0.7038734257221222,
                    0.6932855248451233,
                    0.6846928695837656,
                    0.6787540872891744,
                    0.6700880646705627,
                    0.6595929026603699,
                    0.6491536617279052,
                    0.6409751236438751,
                    0.6311855673789978,
                    0.622668860356013,
                    0.6129705826441447,
                    0.6047403355439503,
                    0.595737487077713,
                    0.5886030276616414,
                    0.5797282596429189,
                    0.5710711896419525,
                    0.5622701942920685,
                    0.556060254573822,
                    0.5479295740524928,
                    0.5398765106995901,
                    0.5322753022114436,
                    0.5250329703092576,
                    0.5169769644737243,
                    0.5093506296475728,
                    0.5023268083731334,
                    0.4970471223195394,
                    0.4895914961894353,
                    0.4844444115956624,
                    0.47913232147693635,
                    0.4739130735397339,
                    0.4688771039247513,
                    0.4640069087346395,
                    0.4572055031855901,
                    0.4511028558015823,
                    0.44603104094664253,
                    0.4399490495522817,
                    0.4339334507783254,
                    0.42805928786595665,
                    0.42202315032482146,
                    0.4157832860946655,
                    0.4110777119795481,
                    0.40679993828137717,
                    0.40211356182893115,
                    0.39725989202658335,
                    0.391459862391154,
                    0.38758356173833214,
                    0.38295662999153135,
                    0.37800400257110595,
                    0.3728633503119151,
                    0.3693910618623098,
                    0.3644435505072276,
                    0.3603724161783854,
                    0.3553987244764964,
                    0.35091521541277565,
                    0.34649517238140104,
                    0.3419194092353185,
                    0.3372348457574844,
                    0.3328492730855942,
                    0.32975363234678906,
                    0.32503160933653513,
                    0.32180603047211964,
                    0.317723519106706,
                    0.3134025032321612,
                    0.3095390116175016,
                    0.30614628493785856,
                    0.30212415804465614,
                    0.29789111216862996,
                    0.29405653675397236,
                    0.2904832144578298,
                    0.2864507128794988,
                    0.28287169684966407,
                    0.279599329829216,
                    0.27629664142926535,
                    0.2734838490684827,
                    0.2702136601010958,
                    0.2667557716369629,
                    0.2639721800883611,
                    0.2615733042359352,
                    0.25835802455743156,
                    0.2554272865255674,
                    0.25218131045500436,
                    0.24922953248023988,
                    0.2465868686636289,
                    0.24331976473331451,
                    0.24003801544507344,
                    0.2378801370660464,
                    0.23545200030008953,
                    0.23285593837499619,
                    0.22983472297588983,
                    0.22761817673842114,
                    0.22475815663735071,
                    0.22220451682806014,
                    0.21992496450742086,
                    0.21767841875553132,
                    0.21479518314202625,
                    0.2121739760041237,
                    0.21014680117368698,
                    0.20830054680506388,
                    0.206252654393514,
                    0.2046998014052709,
                    0.20257164587577184,
                    0.19978238592545192,
                    0.1974607308705648,
                    0.19528726637363433,
                    0.19333058496316274,
                    0.19104305605093638,
                    0.1897313301761945,
                    0.1874000335733096,
                    0.18581704571843147,
                    0.1834531046450138,
                    0.18120549793044727,
                    0.1793903134763241,
                    0.17806087632973988,
                    0.17591400345166525,
                    0.1740554397304853,
                    0.17197827423612277,
                    0.1699279283483823,
                    0.16819020062685014,
                    0.16630175858736038,
                    0.1643812760710716,
                    0.16246396924058595,
                    0.16047856484850248,
                    0.15856081421176593,
                    0.15711333826184273,
                    0.15513832320769627,
                    0.1533489540219307,
                    0.15147178893287977,
                    0.1499673197666804,
                    0.1483853427072366,
                    0.14667414575815202,
                    0.14480652262767155,
                    0.14320200930039087,
                    0.1420019308725993,
                    0.1403092379371325,
                    0.13935098151365916,
                    0.13766067922115327,
                    0.13664746681849163,
                    0.13483704179525374,
                    0.13335893750190736,
                    0.13220518057545025,
                    0.1313188391427199,
                    0.1304374396800995,
                    0.12887575427691142,
                    0.12727128441135088,
                    0.12583953489859898,
                    0.1249103215833505,
                    0.12369033768773079,
                    0.12246818194786707,
                    0.12140526572863261,
                    0.1207282083729903,
                    0.11990370626250903,
                    0.1185376393298308,
                    0.11737697397669157,
                    0.11587602520982425,
                    0.11462438603242238,
                    0.1135563962161541,
                    0.11292529578010241,
                    0.11213762114445368,
                    0.11117022521793843,
                    0.11062469643851121,
                    0.11008599835137527,
                    0.1088912770152092,
                    0.1080092682192723,
                    0.10675537971158823,
                    0.10592350736260414,
                    0.10488715519507726,
                    0.10402237959206104,
                    0.10314442229767641,
                    0.10222334613402685,
                    0.10102781355381012,
                    0.10012137877444426,
                    0.0992874588817358,
                    0.09810345495740573,
                    0.09739497937262058,
                    0.09670282962421577,
                    0.09591059970359007,
                    0.09488376912971337,
                    0.09414499998092651,
                    0.0931699729214112,
                    0.09201640896499157,
                    0.09116463909546534,
                    0.09056779655317465,
                    0.0900230873376131,
                    0.08942951696614425,
                    0.08875013130406538,
                    0.08798227061827978,
                    0.08687989450991154,
                    0.08602659453948339,
                    0.0854950783153375,
                    0.08452032878994942,
                    0.08357207638521989,
                    0.08283082246780396,
                    0.0823037122686704,
                    0.08143724811573823,
                    0.08126059497396151,
                    0.0806167325625817,
                    0.07993757203221322,
                    0.0792424999177456,
                    0.07847064025700093,
                    0.07786365474263827,
                    0.07711513737837473,
                    0.07648049878577391,
                    0.07619348727166653,
                    0.07573424602548282,
                    0.07499149224410455,
                    0.07424031645059585,
                    0.07359377164393663,
                    0.07287823110818863,
                    0.07228135621796052,
                    0.07173350633432468,
                    0.07123379533489545,
                    0.07072409310688575,
                    0.07032936376829942,
                    0.06974260875334343,
                    0.06955225858837366,
                    0.06889492968718211,
                    0.06824099974085887,
                    0.06779108879466851,
                    0.0671705196922024,
                    0.06686173851291338,
                    0.0664243405063947,
                    0.06598161415507396,
                    0.06526117411752543,
                    0.06459720445175966,
                    0.06407020421077808,
                    0.06372189689427614,
                    0.06358073614537715,
                    0.06311747524887323,
                    0.06259939540177584,
                    0.06241640349229177,
                    0.06206934129198392,
                    0.06170409272114436,
                    0.06128600394974152,
                    0.06093854910383622,
                    0.06022273612519105,
                    0.05987195012470086,
                    0.0596480172748367,
                    0.05919498714307944,
                    0.05879826676100493,
                    0.05852984904001157,
                    0.05819738407929739,
                    0.05767501723021269,
                    0.05743640642613172,
                    0.05723700461288293,
                    0.0568423409635822,
                    0.05627484309176604,
                    0.05607602385183175,
                    0.05577156841754913,
                    0.05551857377092043,
                    0.05519606874634822,
                    0.05496043662230174,
                    0.0548305628200372,
                    0.05446603757639726,
                    0.0541324612374107,
                    0.05393508300185203,
                    0.05358274796356757,
                    0.05334945873667796,
                    0.05311328861862421,
                    0.05294179469347,
                    0.05264310395965974,
                    0.05251400029907624,
                    0.0522824161996444,
                    0.05209673121571541,
                    0.0518525818362832,
                    0.05167142829547326,
                    0.05157763864845037,
                    0.05144344990452131,
                    0.05126549005508423,
                    0.05093662614623706,
                    0.05085296829541524,
                    0.05046748748670022,
                    0.04996154870217045,
                    0.04973678315679232
                  ]
                },
                {
                  "marker": {
                    "maxdisplayed": 10
                  },
                  "mode": "lines+markers",
                  "name": "Trial44",
                  "type": "scatter",
                  "x": [
                    0,
                    1
                  ],
                  "y": [
                    0.8658356845378876,
                    0.7774864315986634
                  ]
                },
                {
                  "marker": {
                    "maxdisplayed": 10
                  },
                  "mode": "lines+markers",
                  "name": "Trial45",
                  "type": "scatter",
                  "x": [
                    0,
                    1,
                    2,
                    3,
                    4
                  ],
                  "y": [
                    1.0492230614026388,
                    1.0242928385734558,
                    0.9816781798998515,
                    0.9391933103402456,
                    0.8995069642861684
                  ]
                },
                {
                  "marker": {
                    "maxdisplayed": 10
                  },
                  "mode": "lines+markers",
                  "name": "Trial46",
                  "type": "scatter",
                  "x": [
                    0,
                    1
                  ],
                  "y": [
                    0.9082187712192535,
                    0.8289254128932952
                  ]
                },
                {
                  "marker": {
                    "maxdisplayed": 10
                  },
                  "mode": "lines+markers",
                  "name": "Trial47",
                  "type": "scatter",
                  "x": [
                    0,
                    1
                  ],
                  "y": [
                    0.9465562701225281,
                    0.882653292020162
                  ]
                },
                {
                  "marker": {
                    "maxdisplayed": 10
                  },
                  "mode": "lines+markers",
                  "name": "Trial48",
                  "type": "scatter",
                  "x": [
                    0,
                    1
                  ],
                  "y": [
                    0.7709437231222789,
                    0.5495810627937316
                  ]
                },
                {
                  "marker": {
                    "maxdisplayed": 10
                  },
                  "mode": "lines+markers",
                  "name": "Trial49",
                  "type": "scatter",
                  "x": [
                    0,
                    1
                  ],
                  "y": [
                    0.9693369567394257,
                    0.9068429390589396
                  ]
                }
              ],
              "layout": {
                "showlegend": false,
                "template": {
                  "data": {
                    "bar": [
                      {
                        "error_x": {
                          "color": "#2a3f5f"
                        },
                        "error_y": {
                          "color": "#2a3f5f"
                        },
                        "marker": {
                          "line": {
                            "color": "#E5ECF6",
                            "width": 0.5
                          },
                          "pattern": {
                            "fillmode": "overlay",
                            "size": 10,
                            "solidity": 0.2
                          }
                        },
                        "type": "bar"
                      }
                    ],
                    "barpolar": [
                      {
                        "marker": {
                          "line": {
                            "color": "#E5ECF6",
                            "width": 0.5
                          },
                          "pattern": {
                            "fillmode": "overlay",
                            "size": 10,
                            "solidity": 0.2
                          }
                        },
                        "type": "barpolar"
                      }
                    ],
                    "carpet": [
                      {
                        "aaxis": {
                          "endlinecolor": "#2a3f5f",
                          "gridcolor": "white",
                          "linecolor": "white",
                          "minorgridcolor": "white",
                          "startlinecolor": "#2a3f5f"
                        },
                        "baxis": {
                          "endlinecolor": "#2a3f5f",
                          "gridcolor": "white",
                          "linecolor": "white",
                          "minorgridcolor": "white",
                          "startlinecolor": "#2a3f5f"
                        },
                        "type": "carpet"
                      }
                    ],
                    "choropleth": [
                      {
                        "colorbar": {
                          "outlinewidth": 0,
                          "ticks": ""
                        },
                        "type": "choropleth"
                      }
                    ],
                    "contour": [
                      {
                        "colorbar": {
                          "outlinewidth": 0,
                          "ticks": ""
                        },
                        "colorscale": [
                          [
                            0,
                            "#0d0887"
                          ],
                          [
                            0.1111111111111111,
                            "#46039f"
                          ],
                          [
                            0.2222222222222222,
                            "#7201a8"
                          ],
                          [
                            0.3333333333333333,
                            "#9c179e"
                          ],
                          [
                            0.4444444444444444,
                            "#bd3786"
                          ],
                          [
                            0.5555555555555556,
                            "#d8576b"
                          ],
                          [
                            0.6666666666666666,
                            "#ed7953"
                          ],
                          [
                            0.7777777777777778,
                            "#fb9f3a"
                          ],
                          [
                            0.8888888888888888,
                            "#fdca26"
                          ],
                          [
                            1,
                            "#f0f921"
                          ]
                        ],
                        "type": "contour"
                      }
                    ],
                    "contourcarpet": [
                      {
                        "colorbar": {
                          "outlinewidth": 0,
                          "ticks": ""
                        },
                        "type": "contourcarpet"
                      }
                    ],
                    "heatmap": [
                      {
                        "colorbar": {
                          "outlinewidth": 0,
                          "ticks": ""
                        },
                        "colorscale": [
                          [
                            0,
                            "#0d0887"
                          ],
                          [
                            0.1111111111111111,
                            "#46039f"
                          ],
                          [
                            0.2222222222222222,
                            "#7201a8"
                          ],
                          [
                            0.3333333333333333,
                            "#9c179e"
                          ],
                          [
                            0.4444444444444444,
                            "#bd3786"
                          ],
                          [
                            0.5555555555555556,
                            "#d8576b"
                          ],
                          [
                            0.6666666666666666,
                            "#ed7953"
                          ],
                          [
                            0.7777777777777778,
                            "#fb9f3a"
                          ],
                          [
                            0.8888888888888888,
                            "#fdca26"
                          ],
                          [
                            1,
                            "#f0f921"
                          ]
                        ],
                        "type": "heatmap"
                      }
                    ],
                    "histogram": [
                      {
                        "marker": {
                          "pattern": {
                            "fillmode": "overlay",
                            "size": 10,
                            "solidity": 0.2
                          }
                        },
                        "type": "histogram"
                      }
                    ],
                    "histogram2d": [
                      {
                        "colorbar": {
                          "outlinewidth": 0,
                          "ticks": ""
                        },
                        "colorscale": [
                          [
                            0,
                            "#0d0887"
                          ],
                          [
                            0.1111111111111111,
                            "#46039f"
                          ],
                          [
                            0.2222222222222222,
                            "#7201a8"
                          ],
                          [
                            0.3333333333333333,
                            "#9c179e"
                          ],
                          [
                            0.4444444444444444,
                            "#bd3786"
                          ],
                          [
                            0.5555555555555556,
                            "#d8576b"
                          ],
                          [
                            0.6666666666666666,
                            "#ed7953"
                          ],
                          [
                            0.7777777777777778,
                            "#fb9f3a"
                          ],
                          [
                            0.8888888888888888,
                            "#fdca26"
                          ],
                          [
                            1,
                            "#f0f921"
                          ]
                        ],
                        "type": "histogram2d"
                      }
                    ],
                    "histogram2dcontour": [
                      {
                        "colorbar": {
                          "outlinewidth": 0,
                          "ticks": ""
                        },
                        "colorscale": [
                          [
                            0,
                            "#0d0887"
                          ],
                          [
                            0.1111111111111111,
                            "#46039f"
                          ],
                          [
                            0.2222222222222222,
                            "#7201a8"
                          ],
                          [
                            0.3333333333333333,
                            "#9c179e"
                          ],
                          [
                            0.4444444444444444,
                            "#bd3786"
                          ],
                          [
                            0.5555555555555556,
                            "#d8576b"
                          ],
                          [
                            0.6666666666666666,
                            "#ed7953"
                          ],
                          [
                            0.7777777777777778,
                            "#fb9f3a"
                          ],
                          [
                            0.8888888888888888,
                            "#fdca26"
                          ],
                          [
                            1,
                            "#f0f921"
                          ]
                        ],
                        "type": "histogram2dcontour"
                      }
                    ],
                    "mesh3d": [
                      {
                        "colorbar": {
                          "outlinewidth": 0,
                          "ticks": ""
                        },
                        "type": "mesh3d"
                      }
                    ],
                    "parcoords": [
                      {
                        "line": {
                          "colorbar": {
                            "outlinewidth": 0,
                            "ticks": ""
                          }
                        },
                        "type": "parcoords"
                      }
                    ],
                    "pie": [
                      {
                        "automargin": true,
                        "type": "pie"
                      }
                    ],
                    "scatter": [
                      {
                        "fillpattern": {
                          "fillmode": "overlay",
                          "size": 10,
                          "solidity": 0.2
                        },
                        "type": "scatter"
                      }
                    ],
                    "scatter3d": [
                      {
                        "line": {
                          "colorbar": {
                            "outlinewidth": 0,
                            "ticks": ""
                          }
                        },
                        "marker": {
                          "colorbar": {
                            "outlinewidth": 0,
                            "ticks": ""
                          }
                        },
                        "type": "scatter3d"
                      }
                    ],
                    "scattercarpet": [
                      {
                        "marker": {
                          "colorbar": {
                            "outlinewidth": 0,
                            "ticks": ""
                          }
                        },
                        "type": "scattercarpet"
                      }
                    ],
                    "scattergeo": [
                      {
                        "marker": {
                          "colorbar": {
                            "outlinewidth": 0,
                            "ticks": ""
                          }
                        },
                        "type": "scattergeo"
                      }
                    ],
                    "scattergl": [
                      {
                        "marker": {
                          "colorbar": {
                            "outlinewidth": 0,
                            "ticks": ""
                          }
                        },
                        "type": "scattergl"
                      }
                    ],
                    "scattermap": [
                      {
                        "marker": {
                          "colorbar": {
                            "outlinewidth": 0,
                            "ticks": ""
                          }
                        },
                        "type": "scattermap"
                      }
                    ],
                    "scattermapbox": [
                      {
                        "marker": {
                          "colorbar": {
                            "outlinewidth": 0,
                            "ticks": ""
                          }
                        },
                        "type": "scattermapbox"
                      }
                    ],
                    "scatterpolar": [
                      {
                        "marker": {
                          "colorbar": {
                            "outlinewidth": 0,
                            "ticks": ""
                          }
                        },
                        "type": "scatterpolar"
                      }
                    ],
                    "scatterpolargl": [
                      {
                        "marker": {
                          "colorbar": {
                            "outlinewidth": 0,
                            "ticks": ""
                          }
                        },
                        "type": "scatterpolargl"
                      }
                    ],
                    "scatterternary": [
                      {
                        "marker": {
                          "colorbar": {
                            "outlinewidth": 0,
                            "ticks": ""
                          }
                        },
                        "type": "scatterternary"
                      }
                    ],
                    "surface": [
                      {
                        "colorbar": {
                          "outlinewidth": 0,
                          "ticks": ""
                        },
                        "colorscale": [
                          [
                            0,
                            "#0d0887"
                          ],
                          [
                            0.1111111111111111,
                            "#46039f"
                          ],
                          [
                            0.2222222222222222,
                            "#7201a8"
                          ],
                          [
                            0.3333333333333333,
                            "#9c179e"
                          ],
                          [
                            0.4444444444444444,
                            "#bd3786"
                          ],
                          [
                            0.5555555555555556,
                            "#d8576b"
                          ],
                          [
                            0.6666666666666666,
                            "#ed7953"
                          ],
                          [
                            0.7777777777777778,
                            "#fb9f3a"
                          ],
                          [
                            0.8888888888888888,
                            "#fdca26"
                          ],
                          [
                            1,
                            "#f0f921"
                          ]
                        ],
                        "type": "surface"
                      }
                    ],
                    "table": [
                      {
                        "cells": {
                          "fill": {
                            "color": "#EBF0F8"
                          },
                          "line": {
                            "color": "white"
                          }
                        },
                        "header": {
                          "fill": {
                            "color": "#C8D4E3"
                          },
                          "line": {
                            "color": "white"
                          }
                        },
                        "type": "table"
                      }
                    ]
                  },
                  "layout": {
                    "annotationdefaults": {
                      "arrowcolor": "#2a3f5f",
                      "arrowhead": 0,
                      "arrowwidth": 1
                    },
                    "autotypenumbers": "strict",
                    "coloraxis": {
                      "colorbar": {
                        "outlinewidth": 0,
                        "ticks": ""
                      }
                    },
                    "colorscale": {
                      "diverging": [
                        [
                          0,
                          "#8e0152"
                        ],
                        [
                          0.1,
                          "#c51b7d"
                        ],
                        [
                          0.2,
                          "#de77ae"
                        ],
                        [
                          0.3,
                          "#f1b6da"
                        ],
                        [
                          0.4,
                          "#fde0ef"
                        ],
                        [
                          0.5,
                          "#f7f7f7"
                        ],
                        [
                          0.6,
                          "#e6f5d0"
                        ],
                        [
                          0.7,
                          "#b8e186"
                        ],
                        [
                          0.8,
                          "#7fbc41"
                        ],
                        [
                          0.9,
                          "#4d9221"
                        ],
                        [
                          1,
                          "#276419"
                        ]
                      ],
                      "sequential": [
                        [
                          0,
                          "#0d0887"
                        ],
                        [
                          0.1111111111111111,
                          "#46039f"
                        ],
                        [
                          0.2222222222222222,
                          "#7201a8"
                        ],
                        [
                          0.3333333333333333,
                          "#9c179e"
                        ],
                        [
                          0.4444444444444444,
                          "#bd3786"
                        ],
                        [
                          0.5555555555555556,
                          "#d8576b"
                        ],
                        [
                          0.6666666666666666,
                          "#ed7953"
                        ],
                        [
                          0.7777777777777778,
                          "#fb9f3a"
                        ],
                        [
                          0.8888888888888888,
                          "#fdca26"
                        ],
                        [
                          1,
                          "#f0f921"
                        ]
                      ],
                      "sequentialminus": [
                        [
                          0,
                          "#0d0887"
                        ],
                        [
                          0.1111111111111111,
                          "#46039f"
                        ],
                        [
                          0.2222222222222222,
                          "#7201a8"
                        ],
                        [
                          0.3333333333333333,
                          "#9c179e"
                        ],
                        [
                          0.4444444444444444,
                          "#bd3786"
                        ],
                        [
                          0.5555555555555556,
                          "#d8576b"
                        ],
                        [
                          0.6666666666666666,
                          "#ed7953"
                        ],
                        [
                          0.7777777777777778,
                          "#fb9f3a"
                        ],
                        [
                          0.8888888888888888,
                          "#fdca26"
                        ],
                        [
                          1,
                          "#f0f921"
                        ]
                      ]
                    },
                    "colorway": [
                      "#636efa",
                      "#EF553B",
                      "#00cc96",
                      "#ab63fa",
                      "#FFA15A",
                      "#19d3f3",
                      "#FF6692",
                      "#B6E880",
                      "#FF97FF",
                      "#FECB52"
                    ],
                    "font": {
                      "color": "#2a3f5f"
                    },
                    "geo": {
                      "bgcolor": "white",
                      "lakecolor": "white",
                      "landcolor": "#E5ECF6",
                      "showlakes": true,
                      "showland": true,
                      "subunitcolor": "white"
                    },
                    "hoverlabel": {
                      "align": "left"
                    },
                    "hovermode": "closest",
                    "mapbox": {
                      "style": "light"
                    },
                    "paper_bgcolor": "white",
                    "plot_bgcolor": "#E5ECF6",
                    "polar": {
                      "angularaxis": {
                        "gridcolor": "white",
                        "linecolor": "white",
                        "ticks": ""
                      },
                      "bgcolor": "#E5ECF6",
                      "radialaxis": {
                        "gridcolor": "white",
                        "linecolor": "white",
                        "ticks": ""
                      }
                    },
                    "scene": {
                      "xaxis": {
                        "backgroundcolor": "#E5ECF6",
                        "gridcolor": "white",
                        "gridwidth": 2,
                        "linecolor": "white",
                        "showbackground": true,
                        "ticks": "",
                        "zerolinecolor": "white"
                      },
                      "yaxis": {
                        "backgroundcolor": "#E5ECF6",
                        "gridcolor": "white",
                        "gridwidth": 2,
                        "linecolor": "white",
                        "showbackground": true,
                        "ticks": "",
                        "zerolinecolor": "white"
                      },
                      "zaxis": {
                        "backgroundcolor": "#E5ECF6",
                        "gridcolor": "white",
                        "gridwidth": 2,
                        "linecolor": "white",
                        "showbackground": true,
                        "ticks": "",
                        "zerolinecolor": "white"
                      }
                    },
                    "shapedefaults": {
                      "line": {
                        "color": "#2a3f5f"
                      }
                    },
                    "ternary": {
                      "aaxis": {
                        "gridcolor": "white",
                        "linecolor": "white",
                        "ticks": ""
                      },
                      "baxis": {
                        "gridcolor": "white",
                        "linecolor": "white",
                        "ticks": ""
                      },
                      "bgcolor": "#E5ECF6",
                      "caxis": {
                        "gridcolor": "white",
                        "linecolor": "white",
                        "ticks": ""
                      }
                    },
                    "title": {
                      "x": 0.05
                    },
                    "xaxis": {
                      "automargin": true,
                      "gridcolor": "white",
                      "linecolor": "white",
                      "ticks": "",
                      "title": {
                        "standoff": 15
                      },
                      "zerolinecolor": "white",
                      "zerolinewidth": 2
                    },
                    "yaxis": {
                      "automargin": true,
                      "gridcolor": "white",
                      "linecolor": "white",
                      "ticks": "",
                      "title": {
                        "standoff": 15
                      },
                      "zerolinecolor": "white",
                      "zerolinewidth": 2
                    }
                  }
                },
                "title": {
                  "text": "Intermediate Values Plot"
                },
                "xaxis": {
                  "title": {
                    "text": "Step"
                  }
                },
                "yaxis": {
                  "title": {
                    "text": "Intermediate Value"
                  }
                }
              }
            }
          },
          "metadata": {},
          "output_type": "display_data"
        }
      ],
      "source": [
        "from optuna.visualization import plot_intermediate_values\n",
        "\n",
        "# 1. Plot intermediate values during the trials\n",
        "plot_intermediate_values(study).show()"
      ]
    },
    {
      "cell_type": "code",
      "execution_count": null,
      "metadata": {
        "id": "iQ0mswalTZ7a"
      },
      "outputs": [],
      "source": []
    }
  ],
  "metadata": {
    "colab": {
      "provenance": []
    },
    "kernelspec": {
      "display_name": ".env",
      "language": "python",
      "name": "python3"
    },
    "language_info": {
      "codemirror_mode": {
        "name": "ipython",
        "version": 3
      },
      "file_extension": ".py",
      "mimetype": "text/x-python",
      "name": "python",
      "nbconvert_exporter": "python",
      "pygments_lexer": "ipython3",
      "version": "3.10.11"
    }
  },
  "nbformat": 4,
  "nbformat_minor": 0
}
