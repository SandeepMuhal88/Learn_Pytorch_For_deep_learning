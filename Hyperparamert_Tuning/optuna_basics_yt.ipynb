{
  "cells": [
    {
      "cell_type": "code",
      "execution_count": 1,
      "metadata": {
        "colab": {
          "base_uri": "https://localhost:8080/"
        },
        "id": "pCA2vnO4RwU4",
        "outputId": "01c6049c-c5f2-45ed-89ad-f018ba2a222e"
      },
      "outputs": [],
      "source": [
        "# %pip install optuna"
      ]
    },
    {
      "cell_type": "code",
      "execution_count": 2,
      "metadata": {
        "colab": {
          "base_uri": "https://localhost:8080/",
          "height": 206
        },
        "id": "fT-y3-gHShSh",
        "outputId": "142e2083-40c3-4ee4-e474-faf13bd206b3"
      },
      "outputs": [
        {
          "name": "stderr",
          "output_type": "stream",
          "text": [
            "d:\\Programming\\Learn_Pytorch_for_deep_learning\\.env\\lib\\site-packages\\tqdm\\auto.py:21: TqdmWarning: IProgress not found. Please update jupyter and ipywidgets. See https://ipywidgets.readthedocs.io/en/stable/user_install.html\n",
            "  from .autonotebook import tqdm as notebook_tqdm\n"
          ]
        },
        {
          "data": {
            "text/html": [
              "<div>\n",
              "<style scoped>\n",
              "    .dataframe tbody tr th:only-of-type {\n",
              "        vertical-align: middle;\n",
              "    }\n",
              "\n",
              "    .dataframe tbody tr th {\n",
              "        vertical-align: top;\n",
              "    }\n",
              "\n",
              "    .dataframe thead th {\n",
              "        text-align: right;\n",
              "    }\n",
              "</style>\n",
              "<table border=\"1\" class=\"dataframe\">\n",
              "  <thead>\n",
              "    <tr style=\"text-align: right;\">\n",
              "      <th></th>\n",
              "      <th>Pregnancies</th>\n",
              "      <th>Glucose</th>\n",
              "      <th>BloodPressure</th>\n",
              "      <th>SkinThickness</th>\n",
              "      <th>Insulin</th>\n",
              "      <th>BMI</th>\n",
              "      <th>DiabetesPedigreeFunction</th>\n",
              "      <th>Age</th>\n",
              "      <th>Outcome</th>\n",
              "    </tr>\n",
              "  </thead>\n",
              "  <tbody>\n",
              "    <tr>\n",
              "      <th>0</th>\n",
              "      <td>6</td>\n",
              "      <td>148</td>\n",
              "      <td>72</td>\n",
              "      <td>35</td>\n",
              "      <td>0</td>\n",
              "      <td>33.6</td>\n",
              "      <td>0.627</td>\n",
              "      <td>50</td>\n",
              "      <td>1</td>\n",
              "    </tr>\n",
              "    <tr>\n",
              "      <th>1</th>\n",
              "      <td>1</td>\n",
              "      <td>85</td>\n",
              "      <td>66</td>\n",
              "      <td>29</td>\n",
              "      <td>0</td>\n",
              "      <td>26.6</td>\n",
              "      <td>0.351</td>\n",
              "      <td>31</td>\n",
              "      <td>0</td>\n",
              "    </tr>\n",
              "    <tr>\n",
              "      <th>2</th>\n",
              "      <td>8</td>\n",
              "      <td>183</td>\n",
              "      <td>64</td>\n",
              "      <td>0</td>\n",
              "      <td>0</td>\n",
              "      <td>23.3</td>\n",
              "      <td>0.672</td>\n",
              "      <td>32</td>\n",
              "      <td>1</td>\n",
              "    </tr>\n",
              "    <tr>\n",
              "      <th>3</th>\n",
              "      <td>1</td>\n",
              "      <td>89</td>\n",
              "      <td>66</td>\n",
              "      <td>23</td>\n",
              "      <td>94</td>\n",
              "      <td>28.1</td>\n",
              "      <td>0.167</td>\n",
              "      <td>21</td>\n",
              "      <td>0</td>\n",
              "    </tr>\n",
              "    <tr>\n",
              "      <th>4</th>\n",
              "      <td>0</td>\n",
              "      <td>137</td>\n",
              "      <td>40</td>\n",
              "      <td>35</td>\n",
              "      <td>168</td>\n",
              "      <td>43.1</td>\n",
              "      <td>2.288</td>\n",
              "      <td>33</td>\n",
              "      <td>1</td>\n",
              "    </tr>\n",
              "  </tbody>\n",
              "</table>\n",
              "</div>"
            ],
            "text/plain": [
              "   Pregnancies  Glucose  BloodPressure  SkinThickness  Insulin   BMI  \\\n",
              "0            6      148             72             35        0  33.6   \n",
              "1            1       85             66             29        0  26.6   \n",
              "2            8      183             64              0        0  23.3   \n",
              "3            1       89             66             23       94  28.1   \n",
              "4            0      137             40             35      168  43.1   \n",
              "\n",
              "   DiabetesPedigreeFunction  Age  Outcome  \n",
              "0                     0.627   50        1  \n",
              "1                     0.351   31        0  \n",
              "2                     0.672   32        1  \n",
              "3                     0.167   21        0  \n",
              "4                     2.288   33        1  "
            ]
          },
          "execution_count": 2,
          "metadata": {},
          "output_type": "execute_result"
        }
      ],
      "source": [
        "# Import necessary libraries\n",
        "import optuna\n",
        "from sklearn.datasets import load_diabetes\n",
        "from sklearn.model_selection import train_test_split\n",
        "from sklearn.preprocessing import StandardScaler\n",
        "\n",
        "# Load the Pima Indian Diabetes dataset from sklearn\n",
        "# Note: Scikit-learn's built-in 'load_diabetes' is a regression dataset.\n",
        "# We will load the actual diabetes dataset from an external source\n",
        "import pandas as pd\n",
        "\n",
        "# Load the Pima Indian Diabetes dataset (from UCI repository)\n",
        "url = \"https://raw.githubusercontent.com/jbrownlee/Datasets/master/pima-indians-diabetes.data.csv\"\n",
        "columns = ['Pregnancies', 'Glucose', 'BloodPressure', 'SkinThickness', 'Insulin', 'BMI',\n",
        "           'DiabetesPedigreeFunction', 'Age', 'Outcome']\n",
        "\n",
        "# Load the dataset\n",
        "df = pd.read_csv(url, names=columns)\n",
        "\n",
        "df.head()"
      ]
    },
    {
      "cell_type": "code",
      "execution_count": 3,
      "metadata": {
        "colab": {
          "base_uri": "https://localhost:8080/"
        },
        "id": "tZ_ggrcuTcgI",
        "outputId": "3f1e3a6c-aa89-44cb-afaa-17bec97e3eea"
      },
      "outputs": [
        {
          "name": "stdout",
          "output_type": "stream",
          "text": [
            "Pregnancies                 0\n",
            "Glucose                     0\n",
            "BloodPressure               0\n",
            "SkinThickness               0\n",
            "Insulin                     0\n",
            "BMI                         0\n",
            "DiabetesPedigreeFunction    0\n",
            "Age                         0\n",
            "Outcome                     0\n",
            "dtype: int64\n"
          ]
        }
      ],
      "source": [
        "import numpy as np\n",
        "\n",
        "# Replace zero values with NaN in columns where zero is not a valid value\n",
        "cols_with_missing_vals = ['Glucose', 'BloodPressure', 'SkinThickness', 'Insulin', 'BMI']\n",
        "df[cols_with_missing_vals] = df[cols_with_missing_vals].replace(0, np.nan)\n",
        "\n",
        "# Impute the missing values with the mean of the respective column\n",
        "df.fillna(df.mean(), inplace=True)\n",
        "\n",
        "# Check if there are any remaining missing values\n",
        "print(df.isnull().sum())\n"
      ]
    },
    {
      "cell_type": "code",
      "execution_count": 4,
      "metadata": {
        "colab": {
          "base_uri": "https://localhost:8080/"
        },
        "id": "3arW9ktITIHB",
        "outputId": "b23d4539-5825-4847-9546-186a40d0f8c4"
      },
      "outputs": [
        {
          "name": "stdout",
          "output_type": "stream",
          "text": [
            "Training set shape: (537, 8)\n",
            "Test set shape: (231, 8)\n"
          ]
        }
      ],
      "source": [
        "# Split into features (X) and target (y)\n",
        "X = df.drop('Outcome', axis=1)\n",
        "y = df['Outcome']\n",
        "\n",
        "# Split data into training and test sets (70% train, 30% test)\n",
        "X_train, X_test, y_train, y_test = train_test_split(X, y, test_size=0.3, random_state=42)\n",
        "\n",
        "# Optional: Scale the data for better model performance\n",
        "scaler = StandardScaler()\n",
        "X_train = scaler.fit_transform(X_train)\n",
        "X_test = scaler.transform(X_test)\n",
        "\n",
        "# Check the shape of the data\n",
        "print(f'Training set shape: {X_train.shape}')\n",
        "print(f'Test set shape: {X_test.shape}')\n"
      ]
    },
    {
      "cell_type": "code",
      "execution_count": 5,
      "metadata": {
        "id": "vAbA51fJTrb-"
      },
      "outputs": [],
      "source": [
        "from sklearn.ensemble import RandomForestClassifier\n",
        "from sklearn.model_selection import cross_val_score\n",
        "\n",
        "# Define the objective function\n",
        "def objective(trial):\n",
        "    # Suggest values for the hyperparameters\n",
        "    n_estimators = trial.suggest_int('n_estimators', 50, 200)\n",
        "    max_depth = trial.suggest_int('max_depth', 3, 20)\n",
        "\n",
        "    # Create the RandomForestClassifier with suggested hyperparameters\n",
        "    model = RandomForestClassifier(\n",
        "        n_estimators=n_estimators,\n",
        "        max_depth=max_depth,\n",
        "        random_state=42\n",
        "    )\n",
        "\n",
        "    # Perform 3-fold cross-validation and calculate accuracy\n",
        "    score = cross_val_score(model, X_train, y_train, cv=3, scoring='accuracy').mean()\n",
        "\n",
        "    return score  # Return the accuracy score for Optuna to maximize\n"
      ]
    },
    {
      "cell_type": "code",
      "execution_count": 6,
      "metadata": {
        "colab": {
          "base_uri": "https://localhost:8080/"
        },
        "id": "xN9Zi4k4UbBF",
        "outputId": "064439aa-1328-43d5-979d-ba1ecdc2f653"
      },
      "outputs": [
        {
          "name": "stderr",
          "output_type": "stream",
          "text": [
            "[I 2025-09-17 09:57:29,709] A new study created in memory with name: no-name-3d565b69-7b97-4c90-bb38-27d00ee78437\n",
            "[I 2025-09-17 09:57:29,870] Trial 0 finished with value: 0.7690875232774674 and parameters: {'n_estimators': 58, 'max_depth': 20}. Best is trial 0 with value: 0.7690875232774674.\n",
            "[I 2025-09-17 09:57:30,296] Trial 1 finished with value: 0.7616387337057727 and parameters: {'n_estimators': 185, 'max_depth': 5}. Best is trial 0 with value: 0.7690875232774674.\n",
            "[I 2025-09-17 09:57:30,594] Trial 2 finished with value: 0.7765363128491621 and parameters: {'n_estimators': 118, 'max_depth': 20}. Best is trial 2 with value: 0.7765363128491621.\n",
            "[I 2025-09-17 09:57:30,912] Trial 3 finished with value: 0.7802607076350093 and parameters: {'n_estimators': 119, 'max_depth': 18}. Best is trial 3 with value: 0.7802607076350093.\n",
            "[I 2025-09-17 09:57:31,409] Trial 4 finished with value: 0.7672253258845437 and parameters: {'n_estimators': 189, 'max_depth': 14}. Best is trial 3 with value: 0.7802607076350093.\n",
            "[I 2025-09-17 09:57:31,644] Trial 5 finished with value: 0.7653631284916201 and parameters: {'n_estimators': 92, 'max_depth': 15}. Best is trial 3 with value: 0.7802607076350093.\n",
            "[I 2025-09-17 09:57:31,968] Trial 6 finished with value: 0.7653631284916201 and parameters: {'n_estimators': 120, 'max_depth': 13}. Best is trial 3 with value: 0.7802607076350093.\n",
            "[I 2025-09-17 09:57:32,295] Trial 7 finished with value: 0.7635009310986964 and parameters: {'n_estimators': 130, 'max_depth': 9}. Best is trial 3 with value: 0.7802607076350093.\n",
            "[I 2025-09-17 09:57:32,669] Trial 8 finished with value: 0.7635009310986964 and parameters: {'n_estimators': 152, 'max_depth': 8}. Best is trial 3 with value: 0.7802607076350093.\n",
            "[I 2025-09-17 09:57:32,834] Trial 9 finished with value: 0.7653631284916201 and parameters: {'n_estimators': 60, 'max_depth': 20}. Best is trial 3 with value: 0.7802607076350093.\n",
            "[I 2025-09-17 09:57:33,236] Trial 10 finished with value: 0.7746741154562384 and parameters: {'n_estimators': 156, 'max_depth': 16}. Best is trial 3 with value: 0.7802607076350093.\n",
            "[I 2025-09-17 09:57:33,513] Trial 11 finished with value: 0.7746741154562384 and parameters: {'n_estimators': 103, 'max_depth': 18}. Best is trial 3 with value: 0.7802607076350093.\n",
            "[I 2025-09-17 09:57:33,732] Trial 12 finished with value: 0.7616387337057727 and parameters: {'n_estimators': 86, 'max_depth': 17}. Best is trial 3 with value: 0.7802607076350093.\n",
            "[I 2025-09-17 09:57:34,084] Trial 13 finished with value: 0.7709497206703911 and parameters: {'n_estimators': 137, 'max_depth': 11}. Best is trial 3 with value: 0.7802607076350093.\n",
            "[I 2025-09-17 09:57:34,396] Trial 14 finished with value: 0.7746741154562384 and parameters: {'n_estimators': 109, 'max_depth': 18}. Best is trial 3 with value: 0.7802607076350093.\n",
            "[I 2025-09-17 09:57:34,806] Trial 15 finished with value: 0.7709497206703911 and parameters: {'n_estimators': 162, 'max_depth': 20}. Best is trial 3 with value: 0.7802607076350093.\n",
            "[I 2025-09-17 09:57:35,042] Trial 16 finished with value: 0.7709497206703911 and parameters: {'n_estimators': 89, 'max_depth': 12}. Best is trial 3 with value: 0.7802607076350093.\n",
            "[I 2025-09-17 09:57:35,251] Trial 17 finished with value: 0.7597765363128491 and parameters: {'n_estimators': 74, 'max_depth': 4}. Best is trial 3 with value: 0.7802607076350093.\n",
            "[I 2025-09-17 09:57:35,617] Trial 18 finished with value: 0.7728119180633147 and parameters: {'n_estimators': 143, 'max_depth': 18}. Best is trial 3 with value: 0.7802607076350093.\n",
            "[I 2025-09-17 09:57:35,927] Trial 19 finished with value: 0.7802607076350093 and parameters: {'n_estimators': 117, 'max_depth': 16}. Best is trial 3 with value: 0.7802607076350093.\n",
            "[I 2025-09-17 09:57:36,351] Trial 20 finished with value: 0.7709497206703911 and parameters: {'n_estimators': 168, 'max_depth': 15}. Best is trial 3 with value: 0.7802607076350093.\n",
            "[I 2025-09-17 09:57:36,657] Trial 21 finished with value: 0.7783985102420856 and parameters: {'n_estimators': 119, 'max_depth': 17}. Best is trial 3 with value: 0.7802607076350093.\n",
            "[I 2025-09-17 09:57:36,975] Trial 22 finished with value: 0.7746741154562384 and parameters: {'n_estimators': 106, 'max_depth': 16}. Best is trial 3 with value: 0.7802607076350093.\n",
            "[I 2025-09-17 09:57:37,322] Trial 23 finished with value: 0.7783985102420857 and parameters: {'n_estimators': 128, 'max_depth': 17}. Best is trial 3 with value: 0.7802607076350093.\n",
            "[I 2025-09-17 09:57:37,700] Trial 24 finished with value: 0.7672253258845437 and parameters: {'n_estimators': 136, 'max_depth': 14}. Best is trial 3 with value: 0.7802607076350093.\n",
            "[I 2025-09-17 09:57:38,060] Trial 25 finished with value: 0.7765363128491621 and parameters: {'n_estimators': 128, 'max_depth': 18}. Best is trial 3 with value: 0.7802607076350093.\n",
            "[I 2025-09-17 09:57:38,560] Trial 26 finished with value: 0.7672253258845437 and parameters: {'n_estimators': 174, 'max_depth': 11}. Best is trial 3 with value: 0.7802607076350093.\n",
            "[I 2025-09-17 09:57:38,992] Trial 27 finished with value: 0.7709497206703911 and parameters: {'n_estimators': 146, 'max_depth': 16}. Best is trial 3 with value: 0.7802607076350093.\n",
            "[I 2025-09-17 09:57:39,272] Trial 28 finished with value: 0.7690875232774674 and parameters: {'n_estimators': 99, 'max_depth': 19}. Best is trial 3 with value: 0.7802607076350093.\n",
            "[I 2025-09-17 09:57:39,507] Trial 29 finished with value: 0.7616387337057727 and parameters: {'n_estimators': 79, 'max_depth': 9}. Best is trial 3 with value: 0.7802607076350093.\n",
            "[I 2025-09-17 09:57:39,845] Trial 30 finished with value: 0.7690875232774674 and parameters: {'n_estimators': 114, 'max_depth': 14}. Best is trial 3 with value: 0.7802607076350093.\n",
            "[I 2025-09-17 09:57:40,207] Trial 31 finished with value: 0.7765363128491621 and parameters: {'n_estimators': 130, 'max_depth': 17}. Best is trial 3 with value: 0.7802607076350093.\n",
            "[I 2025-09-17 09:57:40,545] Trial 32 finished with value: 0.7709497206703911 and parameters: {'n_estimators': 120, 'max_depth': 17}. Best is trial 3 with value: 0.7802607076350093.\n",
            "[I 2025-09-17 09:57:40,849] Trial 33 finished with value: 0.7765363128491621 and parameters: {'n_estimators': 111, 'max_depth': 19}. Best is trial 3 with value: 0.7802607076350093.\n",
            "[I 2025-09-17 09:57:41,185] Trial 34 finished with value: 0.7783985102420856 and parameters: {'n_estimators': 123, 'max_depth': 19}. Best is trial 3 with value: 0.7802607076350093.\n",
            "[I 2025-09-17 09:57:41,471] Trial 35 finished with value: 0.7653631284916201 and parameters: {'n_estimators': 96, 'max_depth': 15}. Best is trial 3 with value: 0.7802607076350093.\n",
            "[I 2025-09-17 09:57:42,024] Trial 36 finished with value: 0.7802607076350093 and parameters: {'n_estimators': 198, 'max_depth': 16}. Best is trial 3 with value: 0.7802607076350093.\n",
            "[I 2025-09-17 09:57:42,577] Trial 37 finished with value: 0.7746741154562384 and parameters: {'n_estimators': 197, 'max_depth': 13}. Best is trial 3 with value: 0.7802607076350093.\n",
            "[I 2025-09-17 09:57:43,140] Trial 38 finished with value: 0.7690875232774674 and parameters: {'n_estimators': 179, 'max_depth': 15}. Best is trial 3 with value: 0.7802607076350093.\n",
            "[I 2025-09-17 09:57:43,359] Trial 39 finished with value: 0.7783985102420857 and parameters: {'n_estimators': 63, 'max_depth': 13}. Best is trial 3 with value: 0.7802607076350093.\n",
            "[I 2025-09-17 09:57:43,997] Trial 40 finished with value: 0.7597765363128491 and parameters: {'n_estimators': 196, 'max_depth': 6}. Best is trial 3 with value: 0.7802607076350093.\n",
            "[I 2025-09-17 09:57:44,170] Trial 41 finished with value: 0.7653631284916201 and parameters: {'n_estimators': 51, 'max_depth': 13}. Best is trial 3 with value: 0.7802607076350093.\n",
            "[I 2025-09-17 09:57:44,379] Trial 42 finished with value: 0.7709497206703911 and parameters: {'n_estimators': 69, 'max_depth': 16}. Best is trial 3 with value: 0.7802607076350093.\n",
            "[I 2025-09-17 09:57:44,561] Trial 43 finished with value: 0.7672253258845437 and parameters: {'n_estimators': 62, 'max_depth': 14}. Best is trial 3 with value: 0.7802607076350093.\n",
            "[I 2025-09-17 09:57:45,104] Trial 44 finished with value: 0.7709497206703911 and parameters: {'n_estimators': 187, 'max_depth': 12}. Best is trial 3 with value: 0.7802607076350093.\n",
            "[I 2025-09-17 09:57:45,551] Trial 45 finished with value: 0.7728119180633147 and parameters: {'n_estimators': 155, 'max_depth': 16}. Best is trial 3 with value: 0.7802607076350093.\n",
            "[I 2025-09-17 09:57:45,852] Trial 46 finished with value: 0.7653631284916201 and parameters: {'n_estimators': 83, 'max_depth': 17}. Best is trial 3 with value: 0.7802607076350093.\n",
            "[I 2025-09-17 09:57:46,051] Trial 47 finished with value: 0.7579143389199255 and parameters: {'n_estimators': 67, 'max_depth': 10}. Best is trial 3 with value: 0.7802607076350093.\n",
            "[I 2025-09-17 09:57:46,466] Trial 48 finished with value: 0.7690875232774674 and parameters: {'n_estimators': 147, 'max_depth': 19}. Best is trial 3 with value: 0.7802607076350093.\n",
            "[I 2025-09-17 09:57:46,758] Trial 49 finished with value: 0.7653631284916201 and parameters: {'n_estimators': 100, 'max_depth': 15}. Best is trial 3 with value: 0.7802607076350093.\n"
          ]
        }
      ],
      "source": [
        "# Create a study object and optimize the objective function\n",
        "study = optuna.create_study(direction='maximize', sampler=optuna.samplers.TPESampler())  # We aim to maximize accuracy\n",
        "study.optimize(objective, n_trials=50)  # Run 50 trials to find the best hyperparameters\n"
      ]
    },
    {
      "cell_type": "code",
      "execution_count": 7,
      "metadata": {
        "colab": {
          "base_uri": "https://localhost:8080/"
        },
        "id": "7UAUdw33fCgH",
        "outputId": "193d6c2b-eacd-4775-e22b-591b9534412d"
      },
      "outputs": [
        {
          "name": "stdout",
          "output_type": "stream",
          "text": [
            "Best trial accuracy: 0.7802607076350093\n",
            "Best hyperparameters: {'n_estimators': 119, 'max_depth': 18}\n"
          ]
        }
      ],
      "source": [
        "\n",
        "# Print the best result\n",
        "print(f'Best trial accuracy: {study.best_trial.value}')\n",
        "print(f'Best hyperparameters: {study.best_trial.params}')"
      ]
    },
    {
      "cell_type": "code",
      "execution_count": 8,
      "metadata": {
        "colab": {
          "base_uri": "https://localhost:8080/"
        },
        "id": "tb1zm_lAUtnC",
        "outputId": "440b2cc9-bf83-47fe-ae95-2661f508e651"
      },
      "outputs": [
        {
          "name": "stdout",
          "output_type": "stream",
          "text": [
            "Test Accuracy with best hyperparameters: 0.75\n"
          ]
        }
      ],
      "source": [
        "from sklearn.metrics import accuracy_score\n",
        "\n",
        "# Train a RandomForestClassifier using the best hyperparameters from Optuna\n",
        "best_model = RandomForestClassifier(**study.best_trial.params, random_state=42)\n",
        "\n",
        "# Fit the model to the training data\n",
        "best_model.fit(X_train, y_train)\n",
        "\n",
        "# Make predictions on the test set\n",
        "y_pred = best_model.predict(X_test)\n",
        "\n",
        "# Calculate the accuracy on the test set\n",
        "test_accuracy = accuracy_score(y_test, y_pred)\n",
        "\n",
        "# Print the test accuracy\n",
        "print(f'Test Accuracy with best hyperparameters: {test_accuracy:.2f}')\n"
      ]
    },
    {
      "cell_type": "markdown",
      "metadata": {
        "id": "o2xS9eSIuInj"
      },
      "source": [
        "## Samplers in Optuna"
      ]
    },
    {
      "cell_type": "code",
      "execution_count": 9,
      "metadata": {
        "id": "HV7qYl2LzwnJ"
      },
      "outputs": [],
      "source": [
        "from sklearn.ensemble import RandomForestClassifier\n",
        "from sklearn.model_selection import cross_val_score\n",
        "\n",
        "# Define the objective function\n",
        "def objective(trial):\n",
        "    # Suggest values for the hyperparameters\n",
        "    n_estimators = trial.suggest_int('n_estimators', 50, 200)\n",
        "    max_depth = trial.suggest_int('max_depth', 3, 20)\n",
        "\n",
        "    # Create the RandomForestClassifier with suggested hyperparameters\n",
        "    model = RandomForestClassifier(\n",
        "        n_estimators=n_estimators,\n",
        "        max_depth=max_depth,\n",
        "        random_state=42\n",
        "    )\n",
        "\n",
        "    # Perform 3-fold cross-validation and calculate accuracy\n",
        "    score = cross_val_score(model, X_train, y_train, cv=3, scoring='accuracy').mean()\n",
        "\n",
        "    return score  # Return the accuracy score for Optuna to maximize\n"
      ]
    },
    {
      "cell_type": "code",
      "execution_count": 10,
      "metadata": {
        "colab": {
          "base_uri": "https://localhost:8080/"
        },
        "id": "69ySFwlocrsv",
        "outputId": "b2c7591f-fb34-4d76-afc9-171cd86b8121"
      },
      "outputs": [
        {
          "name": "stderr",
          "output_type": "stream",
          "text": [
            "[I 2025-09-17 09:57:46,989] A new study created in memory with name: no-name-56b2e43e-5f89-492a-9de7-685c526e5eaa\n",
            "[I 2025-09-17 09:57:47,550] Trial 0 finished with value: 0.7672253258845437 and parameters: {'n_estimators': 175, 'max_depth': 11}. Best is trial 0 with value: 0.7672253258845437.\n",
            "[I 2025-09-17 09:57:47,718] Trial 1 finished with value: 0.7635009310986964 and parameters: {'n_estimators': 61, 'max_depth': 6}. Best is trial 0 with value: 0.7672253258845437.\n",
            "[I 2025-09-17 09:57:48,230] Trial 2 finished with value: 0.7616387337057727 and parameters: {'n_estimators': 166, 'max_depth': 9}. Best is trial 0 with value: 0.7672253258845437.\n",
            "[I 2025-09-17 09:57:48,382] Trial 3 finished with value: 0.7579143389199254 and parameters: {'n_estimators': 61, 'max_depth': 4}. Best is trial 0 with value: 0.7672253258845437.\n",
            "[I 2025-09-17 09:57:48,742] Trial 4 finished with value: 0.7635009310986964 and parameters: {'n_estimators': 131, 'max_depth': 11}. Best is trial 0 with value: 0.7672253258845437.\n",
            "[I 2025-09-17 09:57:49,246] Trial 5 finished with value: 0.7616387337057727 and parameters: {'n_estimators': 188, 'max_depth': 8}. Best is trial 0 with value: 0.7672253258845437.\n",
            "[I 2025-09-17 09:57:49,681] Trial 6 finished with value: 0.7690875232774674 and parameters: {'n_estimators': 157, 'max_depth': 14}. Best is trial 6 with value: 0.7690875232774674.\n",
            "[I 2025-09-17 09:57:50,001] Trial 7 finished with value: 0.7765363128491621 and parameters: {'n_estimators': 114, 'max_depth': 20}. Best is trial 7 with value: 0.7765363128491621.\n",
            "[I 2025-09-17 09:57:50,400] Trial 8 finished with value: 0.7709497206703911 and parameters: {'n_estimators': 145, 'max_depth': 19}. Best is trial 7 with value: 0.7765363128491621.\n",
            "[I 2025-09-17 09:57:50,649] Trial 9 finished with value: 0.7690875232774674 and parameters: {'n_estimators': 85, 'max_depth': 20}. Best is trial 7 with value: 0.7765363128491621.\n",
            "[I 2025-09-17 09:57:50,873] Trial 10 finished with value: 0.7653631284916201 and parameters: {'n_estimators': 79, 'max_depth': 11}. Best is trial 7 with value: 0.7765363128491621.\n",
            "[I 2025-09-17 09:57:51,009] Trial 11 finished with value: 0.7709497206703911 and parameters: {'n_estimators': 50, 'max_depth': 19}. Best is trial 7 with value: 0.7765363128491621.\n",
            "[I 2025-09-17 09:57:51,151] Trial 12 finished with value: 0.7746741154562384 and parameters: {'n_estimators': 53, 'max_depth': 17}. Best is trial 7 with value: 0.7765363128491621.\n",
            "[I 2025-09-17 09:57:51,477] Trial 13 finished with value: 0.7746741154562384 and parameters: {'n_estimators': 115, 'max_depth': 20}. Best is trial 7 with value: 0.7765363128491621.\n",
            "[I 2025-09-17 09:57:51,692] Trial 14 finished with value: 0.7635009310986964 and parameters: {'n_estimators': 83, 'max_depth': 8}. Best is trial 7 with value: 0.7765363128491621.\n",
            "[I 2025-09-17 09:57:52,181] Trial 15 finished with value: 0.7635009310986964 and parameters: {'n_estimators': 175, 'max_depth': 10}. Best is trial 7 with value: 0.7765363128491621.\n",
            "[I 2025-09-17 09:57:52,375] Trial 16 finished with value: 0.7653631284916201 and parameters: {'n_estimators': 65, 'max_depth': 15}. Best is trial 7 with value: 0.7765363128491621.\n",
            "[I 2025-09-17 09:57:52,868] Trial 17 finished with value: 0.7690875232774674 and parameters: {'n_estimators': 160, 'max_depth': 14}. Best is trial 7 with value: 0.7765363128491621.\n",
            "[I 2025-09-17 09:57:53,307] Trial 18 finished with value: 0.7523277467411545 and parameters: {'n_estimators': 166, 'max_depth': 3}. Best is trial 7 with value: 0.7765363128491621.\n",
            "[I 2025-09-17 09:57:53,787] Trial 19 finished with value: 0.7653631284916201 and parameters: {'n_estimators': 161, 'max_depth': 15}. Best is trial 7 with value: 0.7765363128491621.\n",
            "[I 2025-09-17 09:57:54,222] Trial 20 finished with value: 0.7597765363128491 and parameters: {'n_estimators': 156, 'max_depth': 9}. Best is trial 7 with value: 0.7765363128491621.\n",
            "[I 2025-09-17 09:57:54,513] Trial 21 finished with value: 0.7728119180633147 and parameters: {'n_estimators': 105, 'max_depth': 7}. Best is trial 7 with value: 0.7765363128491621.\n",
            "[I 2025-09-17 09:57:54,779] Trial 22 finished with value: 0.7616387337057727 and parameters: {'n_estimators': 111, 'max_depth': 4}. Best is trial 7 with value: 0.7765363128491621.\n",
            "[I 2025-09-17 09:57:55,317] Trial 23 finished with value: 0.7728119180633147 and parameters: {'n_estimators': 187, 'max_depth': 20}. Best is trial 7 with value: 0.7765363128491621.\n",
            "[I 2025-09-17 09:57:55,725] Trial 24 finished with value: 0.7653631284916201 and parameters: {'n_estimators': 146, 'max_depth': 14}. Best is trial 7 with value: 0.7765363128491621.\n",
            "[I 2025-09-17 09:57:56,213] Trial 25 finished with value: 0.7728119180633147 and parameters: {'n_estimators': 179, 'max_depth': 13}. Best is trial 7 with value: 0.7765363128491621.\n",
            "[I 2025-09-17 09:57:56,481] Trial 26 finished with value: 0.7597765363128491 and parameters: {'n_estimators': 83, 'max_depth': 6}. Best is trial 7 with value: 0.7765363128491621.\n",
            "[I 2025-09-17 09:57:56,748] Trial 27 finished with value: 0.7709497206703911 and parameters: {'n_estimators': 93, 'max_depth': 7}. Best is trial 7 with value: 0.7765363128491621.\n",
            "[I 2025-09-17 09:57:56,945] Trial 28 finished with value: 0.7597765363128491 and parameters: {'n_estimators': 71, 'max_depth': 10}. Best is trial 7 with value: 0.7765363128491621.\n",
            "[I 2025-09-17 09:57:57,202] Trial 29 finished with value: 0.7728119180633147 and parameters: {'n_estimators': 94, 'max_depth': 5}. Best is trial 7 with value: 0.7765363128491621.\n",
            "[I 2025-09-17 09:57:57,350] Trial 30 finished with value: 0.7616387337057727 and parameters: {'n_estimators': 55, 'max_depth': 3}. Best is trial 7 with value: 0.7765363128491621.\n",
            "[I 2025-09-17 09:57:57,668] Trial 31 finished with value: 0.7746741154562384 and parameters: {'n_estimators': 109, 'max_depth': 18}. Best is trial 7 with value: 0.7765363128491621.\n",
            "[I 2025-09-17 09:57:58,077] Trial 32 finished with value: 0.7653631284916201 and parameters: {'n_estimators': 161, 'max_depth': 8}. Best is trial 7 with value: 0.7765363128491621.\n",
            "[I 2025-09-17 09:57:58,528] Trial 33 finished with value: 0.7709497206703911 and parameters: {'n_estimators': 169, 'max_depth': 19}. Best is trial 7 with value: 0.7765363128491621.\n",
            "[I 2025-09-17 09:57:58,784] Trial 34 finished with value: 0.7597765363128492 and parameters: {'n_estimators': 95, 'max_depth': 10}. Best is trial 7 with value: 0.7765363128491621.\n",
            "[I 2025-09-17 09:57:59,181] Trial 35 finished with value: 0.7597765363128491 and parameters: {'n_estimators': 169, 'max_depth': 4}. Best is trial 7 with value: 0.7765363128491621.\n",
            "[I 2025-09-17 09:57:59,340] Trial 36 finished with value: 0.756052141527002 and parameters: {'n_estimators': 71, 'max_depth': 3}. Best is trial 7 with value: 0.7765363128491621.\n",
            "[I 2025-09-17 09:57:59,584] Trial 37 finished with value: 0.7765363128491621 and parameters: {'n_estimators': 90, 'max_depth': 20}. Best is trial 7 with value: 0.7765363128491621.\n",
            "[I 2025-09-17 09:57:59,880] Trial 38 finished with value: 0.7653631284916201 and parameters: {'n_estimators': 102, 'max_depth': 11}. Best is trial 7 with value: 0.7765363128491621.\n",
            "[I 2025-09-17 09:58:00,258] Trial 39 finished with value: 0.7709497206703911 and parameters: {'n_estimators': 142, 'max_depth': 11}. Best is trial 7 with value: 0.7765363128491621.\n",
            "[I 2025-09-17 09:58:00,535] Trial 40 finished with value: 0.7616387337057727 and parameters: {'n_estimators': 106, 'max_depth': 10}. Best is trial 7 with value: 0.7765363128491621.\n",
            "[I 2025-09-17 09:58:00,815] Trial 41 finished with value: 0.7635009310986964 and parameters: {'n_estimators': 99, 'max_depth': 10}. Best is trial 7 with value: 0.7765363128491621.\n",
            "[I 2025-09-17 09:58:01,138] Trial 42 finished with value: 0.7728119180633147 and parameters: {'n_estimators': 118, 'max_depth': 14}. Best is trial 7 with value: 0.7765363128491621.\n",
            "[I 2025-09-17 09:58:01,351] Trial 43 finished with value: 0.7597765363128491 and parameters: {'n_estimators': 87, 'max_depth': 6}. Best is trial 7 with value: 0.7765363128491621.\n",
            "[I 2025-09-17 09:58:01,548] Trial 44 finished with value: 0.7653631284916201 and parameters: {'n_estimators': 76, 'max_depth': 15}. Best is trial 7 with value: 0.7765363128491621.\n",
            "[I 2025-09-17 09:58:02,025] Trial 45 finished with value: 0.7728119180633147 and parameters: {'n_estimators': 177, 'max_depth': 13}. Best is trial 7 with value: 0.7765363128491621.\n",
            "[I 2025-09-17 09:58:02,402] Trial 46 finished with value: 0.7709497206703911 and parameters: {'n_estimators': 149, 'max_depth': 7}. Best is trial 7 with value: 0.7765363128491621.\n",
            "[I 2025-09-17 09:58:02,595] Trial 47 finished with value: 0.7709497206703911 and parameters: {'n_estimators': 82, 'max_depth': 5}. Best is trial 7 with value: 0.7765363128491621.\n",
            "[I 2025-09-17 09:58:02,758] Trial 48 finished with value: 0.7653631284916201 and parameters: {'n_estimators': 62, 'max_depth': 6}. Best is trial 7 with value: 0.7765363128491621.\n",
            "[I 2025-09-17 09:58:02,918] Trial 49 finished with value: 0.7746741154562384 and parameters: {'n_estimators': 63, 'max_depth': 8}. Best is trial 7 with value: 0.7765363128491621.\n"
          ]
        }
      ],
      "source": [
        "study = optuna.create_study(direction='maximize', sampler=optuna.samplers.RandomSampler())  # We aim to maximize accuracy\n",
        "study.optimize(objective, n_trials=50)  # Run 50 trials to find the best hyperparameters"
      ]
    },
    {
      "cell_type": "code",
      "execution_count": 11,
      "metadata": {
        "colab": {
          "base_uri": "https://localhost:8080/"
        },
        "id": "xsHAu8b1uxK1",
        "outputId": "c9a6014d-5661-40b1-9ab6-11b85b17907b"
      },
      "outputs": [
        {
          "name": "stdout",
          "output_type": "stream",
          "text": [
            "Best trial accuracy: 0.7765363128491621\n",
            "Best hyperparameters: {'n_estimators': 114, 'max_depth': 20}\n"
          ]
        }
      ],
      "source": [
        "\n",
        "# Print the best result\n",
        "print(f'Best trial accuracy: {study.best_trial.value}')\n",
        "print(f'Best hyperparameters: {study.best_trial.params}')"
      ]
    },
    {
      "cell_type": "code",
      "execution_count": 12,
      "metadata": {
        "colab": {
          "base_uri": "https://localhost:8080/"
        },
        "id": "KFdBA3pyvAII",
        "outputId": "f66d0b58-ba82-488b-ad9d-adb07c3ee001"
      },
      "outputs": [
        {
          "name": "stdout",
          "output_type": "stream",
          "text": [
            "Test Accuracy with best hyperparameters: 0.75\n"
          ]
        }
      ],
      "source": [
        "from sklearn.metrics import accuracy_score\n",
        "\n",
        "# Train a RandomForestClassifier using the best hyperparameters from Optuna\n",
        "best_model = RandomForestClassifier(**study.best_trial.params, random_state=42)\n",
        "\n",
        "# Fit the model to the training data\n",
        "best_model.fit(X_train, y_train)\n",
        "\n",
        "# Make predictions on the test set\n",
        "y_pred = best_model.predict(X_test)\n",
        "\n",
        "# Calculate the accuracy on the test set\n",
        "test_accuracy = accuracy_score(y_test, y_pred)\n",
        "\n",
        "# Print the test accuracy\n",
        "print(f'Test Accuracy with best hyperparameters: {test_accuracy:.2f}')\n"
      ]
    },
    {
      "cell_type": "code",
      "execution_count": 13,
      "metadata": {
        "id": "lcdVExqJvOLC"
      },
      "outputs": [],
      "source": [
        "search_space = {\n",
        "    'n_estimators': [50, 100, 150, 200],\n",
        "    'max_depth': [5, 10, 15, 20]\n",
        "}"
      ]
    },
    {
      "cell_type": "code",
      "execution_count": 14,
      "metadata": {
        "colab": {
          "base_uri": "https://localhost:8080/"
        },
        "id": "4QKZcma6vYVT",
        "outputId": "1d336045-2ba0-4af8-cb1c-ec69232791cf"
      },
      "outputs": [
        {
          "name": "stderr",
          "output_type": "stream",
          "text": [
            "[I 2025-09-17 09:58:03,131] A new study created in memory with name: no-name-84618e92-cf97-4754-82cc-c33cee57d99e\n",
            "[I 2025-09-17 09:58:03,375] Trial 0 finished with value: 0.7690875232774674 and parameters: {'n_estimators': 100, 'max_depth': 5}. Best is trial 0 with value: 0.7690875232774674.\n",
            "[I 2025-09-17 09:58:03,764] Trial 1 finished with value: 0.7672253258845437 and parameters: {'n_estimators': 150, 'max_depth': 10}. Best is trial 0 with value: 0.7690875232774674.\n",
            "[I 2025-09-17 09:58:03,901] Trial 2 finished with value: 0.7728119180633147 and parameters: {'n_estimators': 50, 'max_depth': 15}. Best is trial 2 with value: 0.7728119180633147.\n",
            "[I 2025-09-17 09:58:04,173] Trial 3 finished with value: 0.7653631284916201 and parameters: {'n_estimators': 100, 'max_depth': 15}. Best is trial 2 with value: 0.7728119180633147.\n",
            "[I 2025-09-17 09:58:04,459] Trial 4 finished with value: 0.7690875232774674 and parameters: {'n_estimators': 100, 'max_depth': 20}. Best is trial 2 with value: 0.7728119180633147.\n",
            "[I 2025-09-17 09:58:04,596] Trial 5 finished with value: 0.7579143389199254 and parameters: {'n_estimators': 50, 'max_depth': 10}. Best is trial 2 with value: 0.7728119180633147.\n",
            "[I 2025-09-17 09:58:04,972] Trial 6 finished with value: 0.7653631284916201 and parameters: {'n_estimators': 150, 'max_depth': 5}. Best is trial 2 with value: 0.7728119180633147.\n",
            "[I 2025-09-17 09:58:05,390] Trial 7 finished with value: 0.7728119180633147 and parameters: {'n_estimators': 150, 'max_depth': 20}. Best is trial 2 with value: 0.7728119180633147.\n",
            "[I 2025-09-17 09:58:05,784] Trial 8 finished with value: 0.7728119180633147 and parameters: {'n_estimators': 150, 'max_depth': 15}. Best is trial 2 with value: 0.7728119180633147.\n",
            "[I 2025-09-17 09:58:06,371] Trial 9 finished with value: 0.7709497206703911 and parameters: {'n_estimators': 200, 'max_depth': 10}. Best is trial 2 with value: 0.7728119180633147.\n",
            "[I 2025-09-17 09:58:06,917] Trial 10 finished with value: 0.7728119180633147 and parameters: {'n_estimators': 200, 'max_depth': 20}. Best is trial 2 with value: 0.7728119180633147.\n",
            "[I 2025-09-17 09:58:07,464] Trial 11 finished with value: 0.7728119180633147 and parameters: {'n_estimators': 200, 'max_depth': 15}. Best is trial 2 with value: 0.7728119180633147.\n",
            "[I 2025-09-17 09:58:07,947] Trial 12 finished with value: 0.7690875232774674 and parameters: {'n_estimators': 200, 'max_depth': 5}. Best is trial 2 with value: 0.7728119180633147.\n",
            "[I 2025-09-17 09:58:08,074] Trial 13 finished with value: 0.7746741154562384 and parameters: {'n_estimators': 50, 'max_depth': 5}. Best is trial 13 with value: 0.7746741154562384.\n",
            "[I 2025-09-17 09:58:08,344] Trial 14 finished with value: 0.7616387337057727 and parameters: {'n_estimators': 100, 'max_depth': 10}. Best is trial 13 with value: 0.7746741154562384.\n",
            "[I 2025-09-17 09:58:08,494] Trial 15 finished with value: 0.7709497206703911 and parameters: {'n_estimators': 50, 'max_depth': 20}. Best is trial 13 with value: 0.7746741154562384.\n"
          ]
        }
      ],
      "source": [
        "# Create a study and optimize it using GridSampler\n",
        "study = optuna.create_study(direction='maximize', sampler=optuna.samplers.GridSampler(search_space))\n",
        "study.optimize(objective)"
      ]
    },
    {
      "cell_type": "code",
      "execution_count": 15,
      "metadata": {
        "colab": {
          "base_uri": "https://localhost:8080/"
        },
        "id": "UVQrXK77vojx",
        "outputId": "2ce9b4fc-38b1-418b-82c9-a441c58ee7be"
      },
      "outputs": [
        {
          "name": "stdout",
          "output_type": "stream",
          "text": [
            "Best trial accuracy: 0.7746741154562384\n",
            "Best hyperparameters: {'n_estimators': 50, 'max_depth': 5}\n"
          ]
        }
      ],
      "source": [
        "\n",
        "# Print the best result\n",
        "print(f'Best trial accuracy: {study.best_trial.value}')\n",
        "print(f'Best hyperparameters: {study.best_trial.params}')"
      ]
    },
    {
      "cell_type": "code",
      "execution_count": 16,
      "metadata": {
        "colab": {
          "base_uri": "https://localhost:8080/"
        },
        "id": "oIZKJsSVwaYj",
        "outputId": "a562e64a-6f9d-44b6-847d-e72618874ba3"
      },
      "outputs": [
        {
          "name": "stdout",
          "output_type": "stream",
          "text": [
            "Test Accuracy with best hyperparameters: 0.74\n"
          ]
        }
      ],
      "source": [
        "from sklearn.metrics import accuracy_score\n",
        "\n",
        "# Train a RandomForestClassifier using the best hyperparameters from Optuna\n",
        "best_model = RandomForestClassifier(**study.best_trial.params, random_state=42)\n",
        "\n",
        "# Fit the model to the training data\n",
        "best_model.fit(X_train, y_train)\n",
        "\n",
        "# Make predictions on the test set\n",
        "y_pred = best_model.predict(X_test)\n",
        "\n",
        "# Calculate the accuracy on the test set\n",
        "test_accuracy = accuracy_score(y_test, y_pred)\n",
        "\n",
        "# Print the test accuracy\n",
        "print(f'Test Accuracy with best hyperparameters: {test_accuracy:.2f}')\n"
      ]
    },
    {
      "cell_type": "markdown",
      "metadata": {
        "id": "K4LmndX54oSU"
      },
      "source": [
        "## Optuna Visualizations"
      ]
    },
    {
      "cell_type": "code",
      "execution_count": 17,
      "metadata": {
        "id": "RxNsmlcR4nZi"
      },
      "outputs": [],
      "source": [
        "# For visualizations\n",
        "from optuna.visualization import plot_optimization_history, plot_parallel_coordinate, plot_slice, plot_contour, plot_param_importances"
      ]
    },
    {
      "cell_type": "code",
      "execution_count": 18,
      "metadata": {
        "colab": {
          "base_uri": "https://localhost:8080/",
          "height": 542
        },
        "id": "tL5Gc3uxymq8",
        "outputId": "f294758b-8adb-47c2-8e08-a8f012577c8e"
      },
      "outputs": [
        {
          "data": {
            "application/vnd.plotly.v1+json": {
              "config": {
                "plotlyServerURL": "https://plot.ly"
              },
              "data": [
                {
                  "mode": "markers",
                  "name": "Objective Value",
                  "type": "scatter",
                  "x": [
                    0,
                    1,
                    2,
                    3,
                    4,
                    5,
                    6,
                    7,
                    8,
                    9,
                    10,
                    11,
                    12,
                    13,
                    14,
                    15
                  ],
                  "y": [
                    0.7690875232774674,
                    0.7672253258845437,
                    0.7728119180633147,
                    0.7653631284916201,
                    0.7690875232774674,
                    0.7579143389199254,
                    0.7653631284916201,
                    0.7728119180633147,
                    0.7728119180633147,
                    0.7709497206703911,
                    0.7728119180633147,
                    0.7728119180633147,
                    0.7690875232774674,
                    0.7746741154562384,
                    0.7616387337057727,
                    0.7709497206703911
                  ]
                },
                {
                  "mode": "lines",
                  "name": "Best Value",
                  "type": "scatter",
                  "x": [
                    0,
                    1,
                    2,
                    3,
                    4,
                    5,
                    6,
                    7,
                    8,
                    9,
                    10,
                    11,
                    12,
                    13,
                    14,
                    15
                  ],
                  "y": [
                    0.7690875232774674,
                    0.7690875232774674,
                    0.7728119180633147,
                    0.7728119180633147,
                    0.7728119180633147,
                    0.7728119180633147,
                    0.7728119180633147,
                    0.7728119180633147,
                    0.7728119180633147,
                    0.7728119180633147,
                    0.7728119180633147,
                    0.7728119180633147,
                    0.7728119180633147,
                    0.7746741154562384,
                    0.7746741154562384,
                    0.7746741154562384
                  ]
                },
                {
                  "marker": {
                    "color": "#cccccc"
                  },
                  "mode": "markers",
                  "name": "Infeasible Trial",
                  "showlegend": false,
                  "type": "scatter",
                  "x": [],
                  "y": []
                }
              ],
              "layout": {
                "template": {
                  "data": {
                    "bar": [
                      {
                        "error_x": {
                          "color": "#2a3f5f"
                        },
                        "error_y": {
                          "color": "#2a3f5f"
                        },
                        "marker": {
                          "line": {
                            "color": "#E5ECF6",
                            "width": 0.5
                          },
                          "pattern": {
                            "fillmode": "overlay",
                            "size": 10,
                            "solidity": 0.2
                          }
                        },
                        "type": "bar"
                      }
                    ],
                    "barpolar": [
                      {
                        "marker": {
                          "line": {
                            "color": "#E5ECF6",
                            "width": 0.5
                          },
                          "pattern": {
                            "fillmode": "overlay",
                            "size": 10,
                            "solidity": 0.2
                          }
                        },
                        "type": "barpolar"
                      }
                    ],
                    "carpet": [
                      {
                        "aaxis": {
                          "endlinecolor": "#2a3f5f",
                          "gridcolor": "white",
                          "linecolor": "white",
                          "minorgridcolor": "white",
                          "startlinecolor": "#2a3f5f"
                        },
                        "baxis": {
                          "endlinecolor": "#2a3f5f",
                          "gridcolor": "white",
                          "linecolor": "white",
                          "minorgridcolor": "white",
                          "startlinecolor": "#2a3f5f"
                        },
                        "type": "carpet"
                      }
                    ],
                    "choropleth": [
                      {
                        "colorbar": {
                          "outlinewidth": 0,
                          "ticks": ""
                        },
                        "type": "choropleth"
                      }
                    ],
                    "contour": [
                      {
                        "colorbar": {
                          "outlinewidth": 0,
                          "ticks": ""
                        },
                        "colorscale": [
                          [
                            0,
                            "#0d0887"
                          ],
                          [
                            0.1111111111111111,
                            "#46039f"
                          ],
                          [
                            0.2222222222222222,
                            "#7201a8"
                          ],
                          [
                            0.3333333333333333,
                            "#9c179e"
                          ],
                          [
                            0.4444444444444444,
                            "#bd3786"
                          ],
                          [
                            0.5555555555555556,
                            "#d8576b"
                          ],
                          [
                            0.6666666666666666,
                            "#ed7953"
                          ],
                          [
                            0.7777777777777778,
                            "#fb9f3a"
                          ],
                          [
                            0.8888888888888888,
                            "#fdca26"
                          ],
                          [
                            1,
                            "#f0f921"
                          ]
                        ],
                        "type": "contour"
                      }
                    ],
                    "contourcarpet": [
                      {
                        "colorbar": {
                          "outlinewidth": 0,
                          "ticks": ""
                        },
                        "type": "contourcarpet"
                      }
                    ],
                    "heatmap": [
                      {
                        "colorbar": {
                          "outlinewidth": 0,
                          "ticks": ""
                        },
                        "colorscale": [
                          [
                            0,
                            "#0d0887"
                          ],
                          [
                            0.1111111111111111,
                            "#46039f"
                          ],
                          [
                            0.2222222222222222,
                            "#7201a8"
                          ],
                          [
                            0.3333333333333333,
                            "#9c179e"
                          ],
                          [
                            0.4444444444444444,
                            "#bd3786"
                          ],
                          [
                            0.5555555555555556,
                            "#d8576b"
                          ],
                          [
                            0.6666666666666666,
                            "#ed7953"
                          ],
                          [
                            0.7777777777777778,
                            "#fb9f3a"
                          ],
                          [
                            0.8888888888888888,
                            "#fdca26"
                          ],
                          [
                            1,
                            "#f0f921"
                          ]
                        ],
                        "type": "heatmap"
                      }
                    ],
                    "histogram": [
                      {
                        "marker": {
                          "pattern": {
                            "fillmode": "overlay",
                            "size": 10,
                            "solidity": 0.2
                          }
                        },
                        "type": "histogram"
                      }
                    ],
                    "histogram2d": [
                      {
                        "colorbar": {
                          "outlinewidth": 0,
                          "ticks": ""
                        },
                        "colorscale": [
                          [
                            0,
                            "#0d0887"
                          ],
                          [
                            0.1111111111111111,
                            "#46039f"
                          ],
                          [
                            0.2222222222222222,
                            "#7201a8"
                          ],
                          [
                            0.3333333333333333,
                            "#9c179e"
                          ],
                          [
                            0.4444444444444444,
                            "#bd3786"
                          ],
                          [
                            0.5555555555555556,
                            "#d8576b"
                          ],
                          [
                            0.6666666666666666,
                            "#ed7953"
                          ],
                          [
                            0.7777777777777778,
                            "#fb9f3a"
                          ],
                          [
                            0.8888888888888888,
                            "#fdca26"
                          ],
                          [
                            1,
                            "#f0f921"
                          ]
                        ],
                        "type": "histogram2d"
                      }
                    ],
                    "histogram2dcontour": [
                      {
                        "colorbar": {
                          "outlinewidth": 0,
                          "ticks": ""
                        },
                        "colorscale": [
                          [
                            0,
                            "#0d0887"
                          ],
                          [
                            0.1111111111111111,
                            "#46039f"
                          ],
                          [
                            0.2222222222222222,
                            "#7201a8"
                          ],
                          [
                            0.3333333333333333,
                            "#9c179e"
                          ],
                          [
                            0.4444444444444444,
                            "#bd3786"
                          ],
                          [
                            0.5555555555555556,
                            "#d8576b"
                          ],
                          [
                            0.6666666666666666,
                            "#ed7953"
                          ],
                          [
                            0.7777777777777778,
                            "#fb9f3a"
                          ],
                          [
                            0.8888888888888888,
                            "#fdca26"
                          ],
                          [
                            1,
                            "#f0f921"
                          ]
                        ],
                        "type": "histogram2dcontour"
                      }
                    ],
                    "mesh3d": [
                      {
                        "colorbar": {
                          "outlinewidth": 0,
                          "ticks": ""
                        },
                        "type": "mesh3d"
                      }
                    ],
                    "parcoords": [
                      {
                        "line": {
                          "colorbar": {
                            "outlinewidth": 0,
                            "ticks": ""
                          }
                        },
                        "type": "parcoords"
                      }
                    ],
                    "pie": [
                      {
                        "automargin": true,
                        "type": "pie"
                      }
                    ],
                    "scatter": [
                      {
                        "fillpattern": {
                          "fillmode": "overlay",
                          "size": 10,
                          "solidity": 0.2
                        },
                        "type": "scatter"
                      }
                    ],
                    "scatter3d": [
                      {
                        "line": {
                          "colorbar": {
                            "outlinewidth": 0,
                            "ticks": ""
                          }
                        },
                        "marker": {
                          "colorbar": {
                            "outlinewidth": 0,
                            "ticks": ""
                          }
                        },
                        "type": "scatter3d"
                      }
                    ],
                    "scattercarpet": [
                      {
                        "marker": {
                          "colorbar": {
                            "outlinewidth": 0,
                            "ticks": ""
                          }
                        },
                        "type": "scattercarpet"
                      }
                    ],
                    "scattergeo": [
                      {
                        "marker": {
                          "colorbar": {
                            "outlinewidth": 0,
                            "ticks": ""
                          }
                        },
                        "type": "scattergeo"
                      }
                    ],
                    "scattergl": [
                      {
                        "marker": {
                          "colorbar": {
                            "outlinewidth": 0,
                            "ticks": ""
                          }
                        },
                        "type": "scattergl"
                      }
                    ],
                    "scattermap": [
                      {
                        "marker": {
                          "colorbar": {
                            "outlinewidth": 0,
                            "ticks": ""
                          }
                        },
                        "type": "scattermap"
                      }
                    ],
                    "scattermapbox": [
                      {
                        "marker": {
                          "colorbar": {
                            "outlinewidth": 0,
                            "ticks": ""
                          }
                        },
                        "type": "scattermapbox"
                      }
                    ],
                    "scatterpolar": [
                      {
                        "marker": {
                          "colorbar": {
                            "outlinewidth": 0,
                            "ticks": ""
                          }
                        },
                        "type": "scatterpolar"
                      }
                    ],
                    "scatterpolargl": [
                      {
                        "marker": {
                          "colorbar": {
                            "outlinewidth": 0,
                            "ticks": ""
                          }
                        },
                        "type": "scatterpolargl"
                      }
                    ],
                    "scatterternary": [
                      {
                        "marker": {
                          "colorbar": {
                            "outlinewidth": 0,
                            "ticks": ""
                          }
                        },
                        "type": "scatterternary"
                      }
                    ],
                    "surface": [
                      {
                        "colorbar": {
                          "outlinewidth": 0,
                          "ticks": ""
                        },
                        "colorscale": [
                          [
                            0,
                            "#0d0887"
                          ],
                          [
                            0.1111111111111111,
                            "#46039f"
                          ],
                          [
                            0.2222222222222222,
                            "#7201a8"
                          ],
                          [
                            0.3333333333333333,
                            "#9c179e"
                          ],
                          [
                            0.4444444444444444,
                            "#bd3786"
                          ],
                          [
                            0.5555555555555556,
                            "#d8576b"
                          ],
                          [
                            0.6666666666666666,
                            "#ed7953"
                          ],
                          [
                            0.7777777777777778,
                            "#fb9f3a"
                          ],
                          [
                            0.8888888888888888,
                            "#fdca26"
                          ],
                          [
                            1,
                            "#f0f921"
                          ]
                        ],
                        "type": "surface"
                      }
                    ],
                    "table": [
                      {
                        "cells": {
                          "fill": {
                            "color": "#EBF0F8"
                          },
                          "line": {
                            "color": "white"
                          }
                        },
                        "header": {
                          "fill": {
                            "color": "#C8D4E3"
                          },
                          "line": {
                            "color": "white"
                          }
                        },
                        "type": "table"
                      }
                    ]
                  },
                  "layout": {
                    "annotationdefaults": {
                      "arrowcolor": "#2a3f5f",
                      "arrowhead": 0,
                      "arrowwidth": 1
                    },
                    "autotypenumbers": "strict",
                    "coloraxis": {
                      "colorbar": {
                        "outlinewidth": 0,
                        "ticks": ""
                      }
                    },
                    "colorscale": {
                      "diverging": [
                        [
                          0,
                          "#8e0152"
                        ],
                        [
                          0.1,
                          "#c51b7d"
                        ],
                        [
                          0.2,
                          "#de77ae"
                        ],
                        [
                          0.3,
                          "#f1b6da"
                        ],
                        [
                          0.4,
                          "#fde0ef"
                        ],
                        [
                          0.5,
                          "#f7f7f7"
                        ],
                        [
                          0.6,
                          "#e6f5d0"
                        ],
                        [
                          0.7,
                          "#b8e186"
                        ],
                        [
                          0.8,
                          "#7fbc41"
                        ],
                        [
                          0.9,
                          "#4d9221"
                        ],
                        [
                          1,
                          "#276419"
                        ]
                      ],
                      "sequential": [
                        [
                          0,
                          "#0d0887"
                        ],
                        [
                          0.1111111111111111,
                          "#46039f"
                        ],
                        [
                          0.2222222222222222,
                          "#7201a8"
                        ],
                        [
                          0.3333333333333333,
                          "#9c179e"
                        ],
                        [
                          0.4444444444444444,
                          "#bd3786"
                        ],
                        [
                          0.5555555555555556,
                          "#d8576b"
                        ],
                        [
                          0.6666666666666666,
                          "#ed7953"
                        ],
                        [
                          0.7777777777777778,
                          "#fb9f3a"
                        ],
                        [
                          0.8888888888888888,
                          "#fdca26"
                        ],
                        [
                          1,
                          "#f0f921"
                        ]
                      ],
                      "sequentialminus": [
                        [
                          0,
                          "#0d0887"
                        ],
                        [
                          0.1111111111111111,
                          "#46039f"
                        ],
                        [
                          0.2222222222222222,
                          "#7201a8"
                        ],
                        [
                          0.3333333333333333,
                          "#9c179e"
                        ],
                        [
                          0.4444444444444444,
                          "#bd3786"
                        ],
                        [
                          0.5555555555555556,
                          "#d8576b"
                        ],
                        [
                          0.6666666666666666,
                          "#ed7953"
                        ],
                        [
                          0.7777777777777778,
                          "#fb9f3a"
                        ],
                        [
                          0.8888888888888888,
                          "#fdca26"
                        ],
                        [
                          1,
                          "#f0f921"
                        ]
                      ]
                    },
                    "colorway": [
                      "#636efa",
                      "#EF553B",
                      "#00cc96",
                      "#ab63fa",
                      "#FFA15A",
                      "#19d3f3",
                      "#FF6692",
                      "#B6E880",
                      "#FF97FF",
                      "#FECB52"
                    ],
                    "font": {
                      "color": "#2a3f5f"
                    },
                    "geo": {
                      "bgcolor": "white",
                      "lakecolor": "white",
                      "landcolor": "#E5ECF6",
                      "showlakes": true,
                      "showland": true,
                      "subunitcolor": "white"
                    },
                    "hoverlabel": {
                      "align": "left"
                    },
                    "hovermode": "closest",
                    "mapbox": {
                      "style": "light"
                    },
                    "paper_bgcolor": "white",
                    "plot_bgcolor": "#E5ECF6",
                    "polar": {
                      "angularaxis": {
                        "gridcolor": "white",
                        "linecolor": "white",
                        "ticks": ""
                      },
                      "bgcolor": "#E5ECF6",
                      "radialaxis": {
                        "gridcolor": "white",
                        "linecolor": "white",
                        "ticks": ""
                      }
                    },
                    "scene": {
                      "xaxis": {
                        "backgroundcolor": "#E5ECF6",
                        "gridcolor": "white",
                        "gridwidth": 2,
                        "linecolor": "white",
                        "showbackground": true,
                        "ticks": "",
                        "zerolinecolor": "white"
                      },
                      "yaxis": {
                        "backgroundcolor": "#E5ECF6",
                        "gridcolor": "white",
                        "gridwidth": 2,
                        "linecolor": "white",
                        "showbackground": true,
                        "ticks": "",
                        "zerolinecolor": "white"
                      },
                      "zaxis": {
                        "backgroundcolor": "#E5ECF6",
                        "gridcolor": "white",
                        "gridwidth": 2,
                        "linecolor": "white",
                        "showbackground": true,
                        "ticks": "",
                        "zerolinecolor": "white"
                      }
                    },
                    "shapedefaults": {
                      "line": {
                        "color": "#2a3f5f"
                      }
                    },
                    "ternary": {
                      "aaxis": {
                        "gridcolor": "white",
                        "linecolor": "white",
                        "ticks": ""
                      },
                      "baxis": {
                        "gridcolor": "white",
                        "linecolor": "white",
                        "ticks": ""
                      },
                      "bgcolor": "#E5ECF6",
                      "caxis": {
                        "gridcolor": "white",
                        "linecolor": "white",
                        "ticks": ""
                      }
                    },
                    "title": {
                      "x": 0.05
                    },
                    "xaxis": {
                      "automargin": true,
                      "gridcolor": "white",
                      "linecolor": "white",
                      "ticks": "",
                      "title": {
                        "standoff": 15
                      },
                      "zerolinecolor": "white",
                      "zerolinewidth": 2
                    },
                    "yaxis": {
                      "automargin": true,
                      "gridcolor": "white",
                      "linecolor": "white",
                      "ticks": "",
                      "title": {
                        "standoff": 15
                      },
                      "zerolinecolor": "white",
                      "zerolinewidth": 2
                    }
                  }
                },
                "title": {
                  "text": "Optimization History Plot"
                },
                "xaxis": {
                  "title": {
                    "text": "Trial"
                  }
                },
                "yaxis": {
                  "title": {
                    "text": "Objective Value"
                  }
                }
              }
            }
          },
          "metadata": {},
          "output_type": "display_data"
        }
      ],
      "source": [
        "# 1. Optimization History\n",
        "plot_optimization_history(study).show()"
      ]
    },
    {
      "cell_type": "code",
      "execution_count": 19,
      "metadata": {
        "colab": {
          "base_uri": "https://localhost:8080/",
          "height": 542
        },
        "id": "0VPz89RB4yQ7",
        "outputId": "fe6cae2c-f2bb-44f8-fd24-7df67b88c9a5"
      },
      "outputs": [
        {
          "data": {
            "application/vnd.plotly.v1+json": {
              "config": {
                "plotlyServerURL": "https://plot.ly"
              },
              "data": [
                {
                  "dimensions": [
                    {
                      "label": "Objective Value",
                      "range": [
                        0.7579143389199254,
                        0.7746741154562384
                      ],
                      "values": [
                        0.7690875232774674,
                        0.7672253258845437,
                        0.7728119180633147,
                        0.7653631284916201,
                        0.7690875232774674,
                        0.7579143389199254,
                        0.7653631284916201,
                        0.7728119180633147,
                        0.7728119180633147,
                        0.7709497206703911,
                        0.7728119180633147,
                        0.7728119180633147,
                        0.7690875232774674,
                        0.7746741154562384,
                        0.7616387337057727,
                        0.7709497206703911
                      ]
                    },
                    {
                      "label": "max_depth",
                      "range": [
                        5,
                        20
                      ],
                      "values": [
                        5,
                        10,
                        15,
                        15,
                        20,
                        10,
                        5,
                        20,
                        15,
                        10,
                        20,
                        15,
                        5,
                        5,
                        10,
                        20
                      ]
                    },
                    {
                      "label": "n_estimators",
                      "range": [
                        50,
                        200
                      ],
                      "values": [
                        100,
                        150,
                        50,
                        100,
                        100,
                        50,
                        150,
                        150,
                        150,
                        200,
                        200,
                        200,
                        200,
                        50,
                        100,
                        50
                      ]
                    }
                  ],
                  "labelangle": 30,
                  "labelside": "bottom",
                  "line": {
                    "color": [
                      0.7690875232774674,
                      0.7672253258845437,
                      0.7728119180633147,
                      0.7653631284916201,
                      0.7690875232774674,
                      0.7579143389199254,
                      0.7653631284916201,
                      0.7728119180633147,
                      0.7728119180633147,
                      0.7709497206703911,
                      0.7728119180633147,
                      0.7728119180633147,
                      0.7690875232774674,
                      0.7746741154562384,
                      0.7616387337057727,
                      0.7709497206703911
                    ],
                    "colorbar": {
                      "title": {
                        "text": "Objective Value"
                      }
                    },
                    "colorscale": [
                      [
                        0,
                        "rgb(247,251,255)"
                      ],
                      [
                        0.125,
                        "rgb(222,235,247)"
                      ],
                      [
                        0.25,
                        "rgb(198,219,239)"
                      ],
                      [
                        0.375,
                        "rgb(158,202,225)"
                      ],
                      [
                        0.5,
                        "rgb(107,174,214)"
                      ],
                      [
                        0.625,
                        "rgb(66,146,198)"
                      ],
                      [
                        0.75,
                        "rgb(33,113,181)"
                      ],
                      [
                        0.875,
                        "rgb(8,81,156)"
                      ],
                      [
                        1,
                        "rgb(8,48,107)"
                      ]
                    ],
                    "reversescale": false,
                    "showscale": true
                  },
                  "type": "parcoords"
                }
              ],
              "layout": {
                "template": {
                  "data": {
                    "bar": [
                      {
                        "error_x": {
                          "color": "#2a3f5f"
                        },
                        "error_y": {
                          "color": "#2a3f5f"
                        },
                        "marker": {
                          "line": {
                            "color": "#E5ECF6",
                            "width": 0.5
                          },
                          "pattern": {
                            "fillmode": "overlay",
                            "size": 10,
                            "solidity": 0.2
                          }
                        },
                        "type": "bar"
                      }
                    ],
                    "barpolar": [
                      {
                        "marker": {
                          "line": {
                            "color": "#E5ECF6",
                            "width": 0.5
                          },
                          "pattern": {
                            "fillmode": "overlay",
                            "size": 10,
                            "solidity": 0.2
                          }
                        },
                        "type": "barpolar"
                      }
                    ],
                    "carpet": [
                      {
                        "aaxis": {
                          "endlinecolor": "#2a3f5f",
                          "gridcolor": "white",
                          "linecolor": "white",
                          "minorgridcolor": "white",
                          "startlinecolor": "#2a3f5f"
                        },
                        "baxis": {
                          "endlinecolor": "#2a3f5f",
                          "gridcolor": "white",
                          "linecolor": "white",
                          "minorgridcolor": "white",
                          "startlinecolor": "#2a3f5f"
                        },
                        "type": "carpet"
                      }
                    ],
                    "choropleth": [
                      {
                        "colorbar": {
                          "outlinewidth": 0,
                          "ticks": ""
                        },
                        "type": "choropleth"
                      }
                    ],
                    "contour": [
                      {
                        "colorbar": {
                          "outlinewidth": 0,
                          "ticks": ""
                        },
                        "colorscale": [
                          [
                            0,
                            "#0d0887"
                          ],
                          [
                            0.1111111111111111,
                            "#46039f"
                          ],
                          [
                            0.2222222222222222,
                            "#7201a8"
                          ],
                          [
                            0.3333333333333333,
                            "#9c179e"
                          ],
                          [
                            0.4444444444444444,
                            "#bd3786"
                          ],
                          [
                            0.5555555555555556,
                            "#d8576b"
                          ],
                          [
                            0.6666666666666666,
                            "#ed7953"
                          ],
                          [
                            0.7777777777777778,
                            "#fb9f3a"
                          ],
                          [
                            0.8888888888888888,
                            "#fdca26"
                          ],
                          [
                            1,
                            "#f0f921"
                          ]
                        ],
                        "type": "contour"
                      }
                    ],
                    "contourcarpet": [
                      {
                        "colorbar": {
                          "outlinewidth": 0,
                          "ticks": ""
                        },
                        "type": "contourcarpet"
                      }
                    ],
                    "heatmap": [
                      {
                        "colorbar": {
                          "outlinewidth": 0,
                          "ticks": ""
                        },
                        "colorscale": [
                          [
                            0,
                            "#0d0887"
                          ],
                          [
                            0.1111111111111111,
                            "#46039f"
                          ],
                          [
                            0.2222222222222222,
                            "#7201a8"
                          ],
                          [
                            0.3333333333333333,
                            "#9c179e"
                          ],
                          [
                            0.4444444444444444,
                            "#bd3786"
                          ],
                          [
                            0.5555555555555556,
                            "#d8576b"
                          ],
                          [
                            0.6666666666666666,
                            "#ed7953"
                          ],
                          [
                            0.7777777777777778,
                            "#fb9f3a"
                          ],
                          [
                            0.8888888888888888,
                            "#fdca26"
                          ],
                          [
                            1,
                            "#f0f921"
                          ]
                        ],
                        "type": "heatmap"
                      }
                    ],
                    "histogram": [
                      {
                        "marker": {
                          "pattern": {
                            "fillmode": "overlay",
                            "size": 10,
                            "solidity": 0.2
                          }
                        },
                        "type": "histogram"
                      }
                    ],
                    "histogram2d": [
                      {
                        "colorbar": {
                          "outlinewidth": 0,
                          "ticks": ""
                        },
                        "colorscale": [
                          [
                            0,
                            "#0d0887"
                          ],
                          [
                            0.1111111111111111,
                            "#46039f"
                          ],
                          [
                            0.2222222222222222,
                            "#7201a8"
                          ],
                          [
                            0.3333333333333333,
                            "#9c179e"
                          ],
                          [
                            0.4444444444444444,
                            "#bd3786"
                          ],
                          [
                            0.5555555555555556,
                            "#d8576b"
                          ],
                          [
                            0.6666666666666666,
                            "#ed7953"
                          ],
                          [
                            0.7777777777777778,
                            "#fb9f3a"
                          ],
                          [
                            0.8888888888888888,
                            "#fdca26"
                          ],
                          [
                            1,
                            "#f0f921"
                          ]
                        ],
                        "type": "histogram2d"
                      }
                    ],
                    "histogram2dcontour": [
                      {
                        "colorbar": {
                          "outlinewidth": 0,
                          "ticks": ""
                        },
                        "colorscale": [
                          [
                            0,
                            "#0d0887"
                          ],
                          [
                            0.1111111111111111,
                            "#46039f"
                          ],
                          [
                            0.2222222222222222,
                            "#7201a8"
                          ],
                          [
                            0.3333333333333333,
                            "#9c179e"
                          ],
                          [
                            0.4444444444444444,
                            "#bd3786"
                          ],
                          [
                            0.5555555555555556,
                            "#d8576b"
                          ],
                          [
                            0.6666666666666666,
                            "#ed7953"
                          ],
                          [
                            0.7777777777777778,
                            "#fb9f3a"
                          ],
                          [
                            0.8888888888888888,
                            "#fdca26"
                          ],
                          [
                            1,
                            "#f0f921"
                          ]
                        ],
                        "type": "histogram2dcontour"
                      }
                    ],
                    "mesh3d": [
                      {
                        "colorbar": {
                          "outlinewidth": 0,
                          "ticks": ""
                        },
                        "type": "mesh3d"
                      }
                    ],
                    "parcoords": [
                      {
                        "line": {
                          "colorbar": {
                            "outlinewidth": 0,
                            "ticks": ""
                          }
                        },
                        "type": "parcoords"
                      }
                    ],
                    "pie": [
                      {
                        "automargin": true,
                        "type": "pie"
                      }
                    ],
                    "scatter": [
                      {
                        "fillpattern": {
                          "fillmode": "overlay",
                          "size": 10,
                          "solidity": 0.2
                        },
                        "type": "scatter"
                      }
                    ],
                    "scatter3d": [
                      {
                        "line": {
                          "colorbar": {
                            "outlinewidth": 0,
                            "ticks": ""
                          }
                        },
                        "marker": {
                          "colorbar": {
                            "outlinewidth": 0,
                            "ticks": ""
                          }
                        },
                        "type": "scatter3d"
                      }
                    ],
                    "scattercarpet": [
                      {
                        "marker": {
                          "colorbar": {
                            "outlinewidth": 0,
                            "ticks": ""
                          }
                        },
                        "type": "scattercarpet"
                      }
                    ],
                    "scattergeo": [
                      {
                        "marker": {
                          "colorbar": {
                            "outlinewidth": 0,
                            "ticks": ""
                          }
                        },
                        "type": "scattergeo"
                      }
                    ],
                    "scattergl": [
                      {
                        "marker": {
                          "colorbar": {
                            "outlinewidth": 0,
                            "ticks": ""
                          }
                        },
                        "type": "scattergl"
                      }
                    ],
                    "scattermap": [
                      {
                        "marker": {
                          "colorbar": {
                            "outlinewidth": 0,
                            "ticks": ""
                          }
                        },
                        "type": "scattermap"
                      }
                    ],
                    "scattermapbox": [
                      {
                        "marker": {
                          "colorbar": {
                            "outlinewidth": 0,
                            "ticks": ""
                          }
                        },
                        "type": "scattermapbox"
                      }
                    ],
                    "scatterpolar": [
                      {
                        "marker": {
                          "colorbar": {
                            "outlinewidth": 0,
                            "ticks": ""
                          }
                        },
                        "type": "scatterpolar"
                      }
                    ],
                    "scatterpolargl": [
                      {
                        "marker": {
                          "colorbar": {
                            "outlinewidth": 0,
                            "ticks": ""
                          }
                        },
                        "type": "scatterpolargl"
                      }
                    ],
                    "scatterternary": [
                      {
                        "marker": {
                          "colorbar": {
                            "outlinewidth": 0,
                            "ticks": ""
                          }
                        },
                        "type": "scatterternary"
                      }
                    ],
                    "surface": [
                      {
                        "colorbar": {
                          "outlinewidth": 0,
                          "ticks": ""
                        },
                        "colorscale": [
                          [
                            0,
                            "#0d0887"
                          ],
                          [
                            0.1111111111111111,
                            "#46039f"
                          ],
                          [
                            0.2222222222222222,
                            "#7201a8"
                          ],
                          [
                            0.3333333333333333,
                            "#9c179e"
                          ],
                          [
                            0.4444444444444444,
                            "#bd3786"
                          ],
                          [
                            0.5555555555555556,
                            "#d8576b"
                          ],
                          [
                            0.6666666666666666,
                            "#ed7953"
                          ],
                          [
                            0.7777777777777778,
                            "#fb9f3a"
                          ],
                          [
                            0.8888888888888888,
                            "#fdca26"
                          ],
                          [
                            1,
                            "#f0f921"
                          ]
                        ],
                        "type": "surface"
                      }
                    ],
                    "table": [
                      {
                        "cells": {
                          "fill": {
                            "color": "#EBF0F8"
                          },
                          "line": {
                            "color": "white"
                          }
                        },
                        "header": {
                          "fill": {
                            "color": "#C8D4E3"
                          },
                          "line": {
                            "color": "white"
                          }
                        },
                        "type": "table"
                      }
                    ]
                  },
                  "layout": {
                    "annotationdefaults": {
                      "arrowcolor": "#2a3f5f",
                      "arrowhead": 0,
                      "arrowwidth": 1
                    },
                    "autotypenumbers": "strict",
                    "coloraxis": {
                      "colorbar": {
                        "outlinewidth": 0,
                        "ticks": ""
                      }
                    },
                    "colorscale": {
                      "diverging": [
                        [
                          0,
                          "#8e0152"
                        ],
                        [
                          0.1,
                          "#c51b7d"
                        ],
                        [
                          0.2,
                          "#de77ae"
                        ],
                        [
                          0.3,
                          "#f1b6da"
                        ],
                        [
                          0.4,
                          "#fde0ef"
                        ],
                        [
                          0.5,
                          "#f7f7f7"
                        ],
                        [
                          0.6,
                          "#e6f5d0"
                        ],
                        [
                          0.7,
                          "#b8e186"
                        ],
                        [
                          0.8,
                          "#7fbc41"
                        ],
                        [
                          0.9,
                          "#4d9221"
                        ],
                        [
                          1,
                          "#276419"
                        ]
                      ],
                      "sequential": [
                        [
                          0,
                          "#0d0887"
                        ],
                        [
                          0.1111111111111111,
                          "#46039f"
                        ],
                        [
                          0.2222222222222222,
                          "#7201a8"
                        ],
                        [
                          0.3333333333333333,
                          "#9c179e"
                        ],
                        [
                          0.4444444444444444,
                          "#bd3786"
                        ],
                        [
                          0.5555555555555556,
                          "#d8576b"
                        ],
                        [
                          0.6666666666666666,
                          "#ed7953"
                        ],
                        [
                          0.7777777777777778,
                          "#fb9f3a"
                        ],
                        [
                          0.8888888888888888,
                          "#fdca26"
                        ],
                        [
                          1,
                          "#f0f921"
                        ]
                      ],
                      "sequentialminus": [
                        [
                          0,
                          "#0d0887"
                        ],
                        [
                          0.1111111111111111,
                          "#46039f"
                        ],
                        [
                          0.2222222222222222,
                          "#7201a8"
                        ],
                        [
                          0.3333333333333333,
                          "#9c179e"
                        ],
                        [
                          0.4444444444444444,
                          "#bd3786"
                        ],
                        [
                          0.5555555555555556,
                          "#d8576b"
                        ],
                        [
                          0.6666666666666666,
                          "#ed7953"
                        ],
                        [
                          0.7777777777777778,
                          "#fb9f3a"
                        ],
                        [
                          0.8888888888888888,
                          "#fdca26"
                        ],
                        [
                          1,
                          "#f0f921"
                        ]
                      ]
                    },
                    "colorway": [
                      "#636efa",
                      "#EF553B",
                      "#00cc96",
                      "#ab63fa",
                      "#FFA15A",
                      "#19d3f3",
                      "#FF6692",
                      "#B6E880",
                      "#FF97FF",
                      "#FECB52"
                    ],
                    "font": {
                      "color": "#2a3f5f"
                    },
                    "geo": {
                      "bgcolor": "white",
                      "lakecolor": "white",
                      "landcolor": "#E5ECF6",
                      "showlakes": true,
                      "showland": true,
                      "subunitcolor": "white"
                    },
                    "hoverlabel": {
                      "align": "left"
                    },
                    "hovermode": "closest",
                    "mapbox": {
                      "style": "light"
                    },
                    "paper_bgcolor": "white",
                    "plot_bgcolor": "#E5ECF6",
                    "polar": {
                      "angularaxis": {
                        "gridcolor": "white",
                        "linecolor": "white",
                        "ticks": ""
                      },
                      "bgcolor": "#E5ECF6",
                      "radialaxis": {
                        "gridcolor": "white",
                        "linecolor": "white",
                        "ticks": ""
                      }
                    },
                    "scene": {
                      "xaxis": {
                        "backgroundcolor": "#E5ECF6",
                        "gridcolor": "white",
                        "gridwidth": 2,
                        "linecolor": "white",
                        "showbackground": true,
                        "ticks": "",
                        "zerolinecolor": "white"
                      },
                      "yaxis": {
                        "backgroundcolor": "#E5ECF6",
                        "gridcolor": "white",
                        "gridwidth": 2,
                        "linecolor": "white",
                        "showbackground": true,
                        "ticks": "",
                        "zerolinecolor": "white"
                      },
                      "zaxis": {
                        "backgroundcolor": "#E5ECF6",
                        "gridcolor": "white",
                        "gridwidth": 2,
                        "linecolor": "white",
                        "showbackground": true,
                        "ticks": "",
                        "zerolinecolor": "white"
                      }
                    },
                    "shapedefaults": {
                      "line": {
                        "color": "#2a3f5f"
                      }
                    },
                    "ternary": {
                      "aaxis": {
                        "gridcolor": "white",
                        "linecolor": "white",
                        "ticks": ""
                      },
                      "baxis": {
                        "gridcolor": "white",
                        "linecolor": "white",
                        "ticks": ""
                      },
                      "bgcolor": "#E5ECF6",
                      "caxis": {
                        "gridcolor": "white",
                        "linecolor": "white",
                        "ticks": ""
                      }
                    },
                    "title": {
                      "x": 0.05
                    },
                    "xaxis": {
                      "automargin": true,
                      "gridcolor": "white",
                      "linecolor": "white",
                      "ticks": "",
                      "title": {
                        "standoff": 15
                      },
                      "zerolinecolor": "white",
                      "zerolinewidth": 2
                    },
                    "yaxis": {
                      "automargin": true,
                      "gridcolor": "white",
                      "linecolor": "white",
                      "ticks": "",
                      "title": {
                        "standoff": 15
                      },
                      "zerolinecolor": "white",
                      "zerolinewidth": 2
                    }
                  }
                },
                "title": {
                  "text": "Parallel Coordinate Plot"
                }
              }
            }
          },
          "metadata": {},
          "output_type": "display_data"
        }
      ],
      "source": [
        "# 2. Parallel Coordinates Plot\n",
        "plot_parallel_coordinate(study).show()"
      ]
    },
    {
      "cell_type": "code",
      "execution_count": 20,
      "metadata": {
        "colab": {
          "base_uri": "https://localhost:8080/",
          "height": 542
        },
        "id": "JO1GGlRv43tJ",
        "outputId": "23c9ff04-02a8-471e-903b-3073d49b8fd7"
      },
      "outputs": [
        {
          "data": {
            "application/vnd.plotly.v1+json": {
              "config": {
                "plotlyServerURL": "https://plot.ly"
              },
              "data": [
                {
                  "marker": {
                    "color": [
                      0,
                      1,
                      2,
                      3,
                      4,
                      5,
                      6,
                      7,
                      8,
                      9,
                      10,
                      11,
                      12,
                      13,
                      14,
                      15
                    ],
                    "colorbar": {
                      "title": {
                        "text": "Trial"
                      },
                      "x": 1,
                      "xpad": 40
                    },
                    "colorscale": [
                      [
                        0,
                        "rgb(247,251,255)"
                      ],
                      [
                        0.125,
                        "rgb(222,235,247)"
                      ],
                      [
                        0.25,
                        "rgb(198,219,239)"
                      ],
                      [
                        0.375,
                        "rgb(158,202,225)"
                      ],
                      [
                        0.5,
                        "rgb(107,174,214)"
                      ],
                      [
                        0.625,
                        "rgb(66,146,198)"
                      ],
                      [
                        0.75,
                        "rgb(33,113,181)"
                      ],
                      [
                        0.875,
                        "rgb(8,81,156)"
                      ],
                      [
                        1,
                        "rgb(8,48,107)"
                      ]
                    ],
                    "line": {
                      "color": "Grey",
                      "width": 0.5
                    },
                    "showscale": true
                  },
                  "mode": "markers",
                  "name": "Feasible Trial",
                  "showlegend": false,
                  "type": "scatter",
                  "x": [
                    5,
                    10,
                    15,
                    15,
                    20,
                    10,
                    5,
                    20,
                    15,
                    10,
                    20,
                    15,
                    5,
                    5,
                    10,
                    20
                  ],
                  "xaxis": "x",
                  "y": [
                    0.7690875232774674,
                    0.7672253258845437,
                    0.7728119180633147,
                    0.7653631284916201,
                    0.7690875232774674,
                    0.7579143389199254,
                    0.7653631284916201,
                    0.7728119180633147,
                    0.7728119180633147,
                    0.7709497206703911,
                    0.7728119180633147,
                    0.7728119180633147,
                    0.7690875232774674,
                    0.7746741154562384,
                    0.7616387337057727,
                    0.7709497206703911
                  ],
                  "yaxis": "y"
                },
                {
                  "marker": {
                    "color": [
                      0,
                      1,
                      2,
                      3,
                      4,
                      5,
                      6,
                      7,
                      8,
                      9,
                      10,
                      11,
                      12,
                      13,
                      14,
                      15
                    ],
                    "colorbar": {
                      "title": {
                        "text": "Trial"
                      },
                      "x": 1,
                      "xpad": 40
                    },
                    "colorscale": [
                      [
                        0,
                        "rgb(247,251,255)"
                      ],
                      [
                        0.125,
                        "rgb(222,235,247)"
                      ],
                      [
                        0.25,
                        "rgb(198,219,239)"
                      ],
                      [
                        0.375,
                        "rgb(158,202,225)"
                      ],
                      [
                        0.5,
                        "rgb(107,174,214)"
                      ],
                      [
                        0.625,
                        "rgb(66,146,198)"
                      ],
                      [
                        0.75,
                        "rgb(33,113,181)"
                      ],
                      [
                        0.875,
                        "rgb(8,81,156)"
                      ],
                      [
                        1,
                        "rgb(8,48,107)"
                      ]
                    ],
                    "line": {
                      "color": "Grey",
                      "width": 0.5
                    },
                    "showscale": false
                  },
                  "mode": "markers",
                  "name": "Feasible Trial",
                  "showlegend": false,
                  "type": "scatter",
                  "x": [
                    100,
                    150,
                    50,
                    100,
                    100,
                    50,
                    150,
                    150,
                    150,
                    200,
                    200,
                    200,
                    200,
                    50,
                    100,
                    50
                  ],
                  "xaxis": "x2",
                  "y": [
                    0.7690875232774674,
                    0.7672253258845437,
                    0.7728119180633147,
                    0.7653631284916201,
                    0.7690875232774674,
                    0.7579143389199254,
                    0.7653631284916201,
                    0.7728119180633147,
                    0.7728119180633147,
                    0.7709497206703911,
                    0.7728119180633147,
                    0.7728119180633147,
                    0.7690875232774674,
                    0.7746741154562384,
                    0.7616387337057727,
                    0.7709497206703911
                  ],
                  "yaxis": "y2"
                }
              ],
              "layout": {
                "template": {
                  "data": {
                    "bar": [
                      {
                        "error_x": {
                          "color": "#2a3f5f"
                        },
                        "error_y": {
                          "color": "#2a3f5f"
                        },
                        "marker": {
                          "line": {
                            "color": "#E5ECF6",
                            "width": 0.5
                          },
                          "pattern": {
                            "fillmode": "overlay",
                            "size": 10,
                            "solidity": 0.2
                          }
                        },
                        "type": "bar"
                      }
                    ],
                    "barpolar": [
                      {
                        "marker": {
                          "line": {
                            "color": "#E5ECF6",
                            "width": 0.5
                          },
                          "pattern": {
                            "fillmode": "overlay",
                            "size": 10,
                            "solidity": 0.2
                          }
                        },
                        "type": "barpolar"
                      }
                    ],
                    "carpet": [
                      {
                        "aaxis": {
                          "endlinecolor": "#2a3f5f",
                          "gridcolor": "white",
                          "linecolor": "white",
                          "minorgridcolor": "white",
                          "startlinecolor": "#2a3f5f"
                        },
                        "baxis": {
                          "endlinecolor": "#2a3f5f",
                          "gridcolor": "white",
                          "linecolor": "white",
                          "minorgridcolor": "white",
                          "startlinecolor": "#2a3f5f"
                        },
                        "type": "carpet"
                      }
                    ],
                    "choropleth": [
                      {
                        "colorbar": {
                          "outlinewidth": 0,
                          "ticks": ""
                        },
                        "type": "choropleth"
                      }
                    ],
                    "contour": [
                      {
                        "colorbar": {
                          "outlinewidth": 0,
                          "ticks": ""
                        },
                        "colorscale": [
                          [
                            0,
                            "#0d0887"
                          ],
                          [
                            0.1111111111111111,
                            "#46039f"
                          ],
                          [
                            0.2222222222222222,
                            "#7201a8"
                          ],
                          [
                            0.3333333333333333,
                            "#9c179e"
                          ],
                          [
                            0.4444444444444444,
                            "#bd3786"
                          ],
                          [
                            0.5555555555555556,
                            "#d8576b"
                          ],
                          [
                            0.6666666666666666,
                            "#ed7953"
                          ],
                          [
                            0.7777777777777778,
                            "#fb9f3a"
                          ],
                          [
                            0.8888888888888888,
                            "#fdca26"
                          ],
                          [
                            1,
                            "#f0f921"
                          ]
                        ],
                        "type": "contour"
                      }
                    ],
                    "contourcarpet": [
                      {
                        "colorbar": {
                          "outlinewidth": 0,
                          "ticks": ""
                        },
                        "type": "contourcarpet"
                      }
                    ],
                    "heatmap": [
                      {
                        "colorbar": {
                          "outlinewidth": 0,
                          "ticks": ""
                        },
                        "colorscale": [
                          [
                            0,
                            "#0d0887"
                          ],
                          [
                            0.1111111111111111,
                            "#46039f"
                          ],
                          [
                            0.2222222222222222,
                            "#7201a8"
                          ],
                          [
                            0.3333333333333333,
                            "#9c179e"
                          ],
                          [
                            0.4444444444444444,
                            "#bd3786"
                          ],
                          [
                            0.5555555555555556,
                            "#d8576b"
                          ],
                          [
                            0.6666666666666666,
                            "#ed7953"
                          ],
                          [
                            0.7777777777777778,
                            "#fb9f3a"
                          ],
                          [
                            0.8888888888888888,
                            "#fdca26"
                          ],
                          [
                            1,
                            "#f0f921"
                          ]
                        ],
                        "type": "heatmap"
                      }
                    ],
                    "histogram": [
                      {
                        "marker": {
                          "pattern": {
                            "fillmode": "overlay",
                            "size": 10,
                            "solidity": 0.2
                          }
                        },
                        "type": "histogram"
                      }
                    ],
                    "histogram2d": [
                      {
                        "colorbar": {
                          "outlinewidth": 0,
                          "ticks": ""
                        },
                        "colorscale": [
                          [
                            0,
                            "#0d0887"
                          ],
                          [
                            0.1111111111111111,
                            "#46039f"
                          ],
                          [
                            0.2222222222222222,
                            "#7201a8"
                          ],
                          [
                            0.3333333333333333,
                            "#9c179e"
                          ],
                          [
                            0.4444444444444444,
                            "#bd3786"
                          ],
                          [
                            0.5555555555555556,
                            "#d8576b"
                          ],
                          [
                            0.6666666666666666,
                            "#ed7953"
                          ],
                          [
                            0.7777777777777778,
                            "#fb9f3a"
                          ],
                          [
                            0.8888888888888888,
                            "#fdca26"
                          ],
                          [
                            1,
                            "#f0f921"
                          ]
                        ],
                        "type": "histogram2d"
                      }
                    ],
                    "histogram2dcontour": [
                      {
                        "colorbar": {
                          "outlinewidth": 0,
                          "ticks": ""
                        },
                        "colorscale": [
                          [
                            0,
                            "#0d0887"
                          ],
                          [
                            0.1111111111111111,
                            "#46039f"
                          ],
                          [
                            0.2222222222222222,
                            "#7201a8"
                          ],
                          [
                            0.3333333333333333,
                            "#9c179e"
                          ],
                          [
                            0.4444444444444444,
                            "#bd3786"
                          ],
                          [
                            0.5555555555555556,
                            "#d8576b"
                          ],
                          [
                            0.6666666666666666,
                            "#ed7953"
                          ],
                          [
                            0.7777777777777778,
                            "#fb9f3a"
                          ],
                          [
                            0.8888888888888888,
                            "#fdca26"
                          ],
                          [
                            1,
                            "#f0f921"
                          ]
                        ],
                        "type": "histogram2dcontour"
                      }
                    ],
                    "mesh3d": [
                      {
                        "colorbar": {
                          "outlinewidth": 0,
                          "ticks": ""
                        },
                        "type": "mesh3d"
                      }
                    ],
                    "parcoords": [
                      {
                        "line": {
                          "colorbar": {
                            "outlinewidth": 0,
                            "ticks": ""
                          }
                        },
                        "type": "parcoords"
                      }
                    ],
                    "pie": [
                      {
                        "automargin": true,
                        "type": "pie"
                      }
                    ],
                    "scatter": [
                      {
                        "fillpattern": {
                          "fillmode": "overlay",
                          "size": 10,
                          "solidity": 0.2
                        },
                        "type": "scatter"
                      }
                    ],
                    "scatter3d": [
                      {
                        "line": {
                          "colorbar": {
                            "outlinewidth": 0,
                            "ticks": ""
                          }
                        },
                        "marker": {
                          "colorbar": {
                            "outlinewidth": 0,
                            "ticks": ""
                          }
                        },
                        "type": "scatter3d"
                      }
                    ],
                    "scattercarpet": [
                      {
                        "marker": {
                          "colorbar": {
                            "outlinewidth": 0,
                            "ticks": ""
                          }
                        },
                        "type": "scattercarpet"
                      }
                    ],
                    "scattergeo": [
                      {
                        "marker": {
                          "colorbar": {
                            "outlinewidth": 0,
                            "ticks": ""
                          }
                        },
                        "type": "scattergeo"
                      }
                    ],
                    "scattergl": [
                      {
                        "marker": {
                          "colorbar": {
                            "outlinewidth": 0,
                            "ticks": ""
                          }
                        },
                        "type": "scattergl"
                      }
                    ],
                    "scattermap": [
                      {
                        "marker": {
                          "colorbar": {
                            "outlinewidth": 0,
                            "ticks": ""
                          }
                        },
                        "type": "scattermap"
                      }
                    ],
                    "scattermapbox": [
                      {
                        "marker": {
                          "colorbar": {
                            "outlinewidth": 0,
                            "ticks": ""
                          }
                        },
                        "type": "scattermapbox"
                      }
                    ],
                    "scatterpolar": [
                      {
                        "marker": {
                          "colorbar": {
                            "outlinewidth": 0,
                            "ticks": ""
                          }
                        },
                        "type": "scatterpolar"
                      }
                    ],
                    "scatterpolargl": [
                      {
                        "marker": {
                          "colorbar": {
                            "outlinewidth": 0,
                            "ticks": ""
                          }
                        },
                        "type": "scatterpolargl"
                      }
                    ],
                    "scatterternary": [
                      {
                        "marker": {
                          "colorbar": {
                            "outlinewidth": 0,
                            "ticks": ""
                          }
                        },
                        "type": "scatterternary"
                      }
                    ],
                    "surface": [
                      {
                        "colorbar": {
                          "outlinewidth": 0,
                          "ticks": ""
                        },
                        "colorscale": [
                          [
                            0,
                            "#0d0887"
                          ],
                          [
                            0.1111111111111111,
                            "#46039f"
                          ],
                          [
                            0.2222222222222222,
                            "#7201a8"
                          ],
                          [
                            0.3333333333333333,
                            "#9c179e"
                          ],
                          [
                            0.4444444444444444,
                            "#bd3786"
                          ],
                          [
                            0.5555555555555556,
                            "#d8576b"
                          ],
                          [
                            0.6666666666666666,
                            "#ed7953"
                          ],
                          [
                            0.7777777777777778,
                            "#fb9f3a"
                          ],
                          [
                            0.8888888888888888,
                            "#fdca26"
                          ],
                          [
                            1,
                            "#f0f921"
                          ]
                        ],
                        "type": "surface"
                      }
                    ],
                    "table": [
                      {
                        "cells": {
                          "fill": {
                            "color": "#EBF0F8"
                          },
                          "line": {
                            "color": "white"
                          }
                        },
                        "header": {
                          "fill": {
                            "color": "#C8D4E3"
                          },
                          "line": {
                            "color": "white"
                          }
                        },
                        "type": "table"
                      }
                    ]
                  },
                  "layout": {
                    "annotationdefaults": {
                      "arrowcolor": "#2a3f5f",
                      "arrowhead": 0,
                      "arrowwidth": 1
                    },
                    "autotypenumbers": "strict",
                    "coloraxis": {
                      "colorbar": {
                        "outlinewidth": 0,
                        "ticks": ""
                      }
                    },
                    "colorscale": {
                      "diverging": [
                        [
                          0,
                          "#8e0152"
                        ],
                        [
                          0.1,
                          "#c51b7d"
                        ],
                        [
                          0.2,
                          "#de77ae"
                        ],
                        [
                          0.3,
                          "#f1b6da"
                        ],
                        [
                          0.4,
                          "#fde0ef"
                        ],
                        [
                          0.5,
                          "#f7f7f7"
                        ],
                        [
                          0.6,
                          "#e6f5d0"
                        ],
                        [
                          0.7,
                          "#b8e186"
                        ],
                        [
                          0.8,
                          "#7fbc41"
                        ],
                        [
                          0.9,
                          "#4d9221"
                        ],
                        [
                          1,
                          "#276419"
                        ]
                      ],
                      "sequential": [
                        [
                          0,
                          "#0d0887"
                        ],
                        [
                          0.1111111111111111,
                          "#46039f"
                        ],
                        [
                          0.2222222222222222,
                          "#7201a8"
                        ],
                        [
                          0.3333333333333333,
                          "#9c179e"
                        ],
                        [
                          0.4444444444444444,
                          "#bd3786"
                        ],
                        [
                          0.5555555555555556,
                          "#d8576b"
                        ],
                        [
                          0.6666666666666666,
                          "#ed7953"
                        ],
                        [
                          0.7777777777777778,
                          "#fb9f3a"
                        ],
                        [
                          0.8888888888888888,
                          "#fdca26"
                        ],
                        [
                          1,
                          "#f0f921"
                        ]
                      ],
                      "sequentialminus": [
                        [
                          0,
                          "#0d0887"
                        ],
                        [
                          0.1111111111111111,
                          "#46039f"
                        ],
                        [
                          0.2222222222222222,
                          "#7201a8"
                        ],
                        [
                          0.3333333333333333,
                          "#9c179e"
                        ],
                        [
                          0.4444444444444444,
                          "#bd3786"
                        ],
                        [
                          0.5555555555555556,
                          "#d8576b"
                        ],
                        [
                          0.6666666666666666,
                          "#ed7953"
                        ],
                        [
                          0.7777777777777778,
                          "#fb9f3a"
                        ],
                        [
                          0.8888888888888888,
                          "#fdca26"
                        ],
                        [
                          1,
                          "#f0f921"
                        ]
                      ]
                    },
                    "colorway": [
                      "#636efa",
                      "#EF553B",
                      "#00cc96",
                      "#ab63fa",
                      "#FFA15A",
                      "#19d3f3",
                      "#FF6692",
                      "#B6E880",
                      "#FF97FF",
                      "#FECB52"
                    ],
                    "font": {
                      "color": "#2a3f5f"
                    },
                    "geo": {
                      "bgcolor": "white",
                      "lakecolor": "white",
                      "landcolor": "#E5ECF6",
                      "showlakes": true,
                      "showland": true,
                      "subunitcolor": "white"
                    },
                    "hoverlabel": {
                      "align": "left"
                    },
                    "hovermode": "closest",
                    "mapbox": {
                      "style": "light"
                    },
                    "paper_bgcolor": "white",
                    "plot_bgcolor": "#E5ECF6",
                    "polar": {
                      "angularaxis": {
                        "gridcolor": "white",
                        "linecolor": "white",
                        "ticks": ""
                      },
                      "bgcolor": "#E5ECF6",
                      "radialaxis": {
                        "gridcolor": "white",
                        "linecolor": "white",
                        "ticks": ""
                      }
                    },
                    "scene": {
                      "xaxis": {
                        "backgroundcolor": "#E5ECF6",
                        "gridcolor": "white",
                        "gridwidth": 2,
                        "linecolor": "white",
                        "showbackground": true,
                        "ticks": "",
                        "zerolinecolor": "white"
                      },
                      "yaxis": {
                        "backgroundcolor": "#E5ECF6",
                        "gridcolor": "white",
                        "gridwidth": 2,
                        "linecolor": "white",
                        "showbackground": true,
                        "ticks": "",
                        "zerolinecolor": "white"
                      },
                      "zaxis": {
                        "backgroundcolor": "#E5ECF6",
                        "gridcolor": "white",
                        "gridwidth": 2,
                        "linecolor": "white",
                        "showbackground": true,
                        "ticks": "",
                        "zerolinecolor": "white"
                      }
                    },
                    "shapedefaults": {
                      "line": {
                        "color": "#2a3f5f"
                      }
                    },
                    "ternary": {
                      "aaxis": {
                        "gridcolor": "white",
                        "linecolor": "white",
                        "ticks": ""
                      },
                      "baxis": {
                        "gridcolor": "white",
                        "linecolor": "white",
                        "ticks": ""
                      },
                      "bgcolor": "#E5ECF6",
                      "caxis": {
                        "gridcolor": "white",
                        "linecolor": "white",
                        "ticks": ""
                      }
                    },
                    "title": {
                      "x": 0.05
                    },
                    "xaxis": {
                      "automargin": true,
                      "gridcolor": "white",
                      "linecolor": "white",
                      "ticks": "",
                      "title": {
                        "standoff": 15
                      },
                      "zerolinecolor": "white",
                      "zerolinewidth": 2
                    },
                    "yaxis": {
                      "automargin": true,
                      "gridcolor": "white",
                      "linecolor": "white",
                      "ticks": "",
                      "title": {
                        "standoff": 15
                      },
                      "zerolinecolor": "white",
                      "zerolinewidth": 2
                    }
                  }
                },
                "title": {
                  "text": "Slice Plot"
                },
                "xaxis": {
                  "anchor": "y",
                  "domain": [
                    0,
                    0.45
                  ],
                  "title": {
                    "text": "max_depth"
                  }
                },
                "xaxis2": {
                  "anchor": "y2",
                  "domain": [
                    0.55,
                    1
                  ],
                  "title": {
                    "text": "n_estimators"
                  }
                },
                "yaxis": {
                  "anchor": "x",
                  "domain": [
                    0,
                    1
                  ],
                  "title": {
                    "text": "Objective Value"
                  }
                },
                "yaxis2": {
                  "anchor": "x2",
                  "domain": [
                    0,
                    1
                  ],
                  "matches": "y",
                  "showticklabels": false
                }
              }
            }
          },
          "metadata": {},
          "output_type": "display_data"
        }
      ],
      "source": [
        "# 3. Slice Plot\n",
        "plot_slice(study).show()"
      ]
    },
    {
      "cell_type": "code",
      "execution_count": 21,
      "metadata": {
        "colab": {
          "base_uri": "https://localhost:8080/",
          "height": 542
        },
        "id": "b3u7VrCi5DPB",
        "outputId": "03272990-910f-45a5-f99c-fdad29188048"
      },
      "outputs": [
        {
          "data": {
            "application/vnd.plotly.v1+json": {
              "config": {
                "plotlyServerURL": "https://plot.ly"
              },
              "data": [
                {
                  "colorbar": {
                    "title": {
                      "text": "Objective Value"
                    }
                  },
                  "colorscale": [
                    [
                      0,
                      "rgb(247,251,255)"
                    ],
                    [
                      0.125,
                      "rgb(222,235,247)"
                    ],
                    [
                      0.25,
                      "rgb(198,219,239)"
                    ],
                    [
                      0.375,
                      "rgb(158,202,225)"
                    ],
                    [
                      0.5,
                      "rgb(107,174,214)"
                    ],
                    [
                      0.625,
                      "rgb(66,146,198)"
                    ],
                    [
                      0.75,
                      "rgb(33,113,181)"
                    ],
                    [
                      0.875,
                      "rgb(8,81,156)"
                    ],
                    [
                      1,
                      "rgb(8,48,107)"
                    ]
                  ],
                  "connectgaps": true,
                  "contours": {
                    "coloring": "heatmap"
                  },
                  "hoverinfo": "none",
                  "line": {
                    "smoothing": 1.3
                  },
                  "reversescale": false,
                  "type": "contour",
                  "x": [
                    4.25,
                    5,
                    10,
                    15,
                    20,
                    20.75
                  ],
                  "y": [
                    42.5,
                    50,
                    100,
                    150,
                    200,
                    207.5
                  ],
                  "z": {
                    "bdata": "AAAAAAAA+H8AAAAAAAD4fwAAAAAAAPh/AAAAAAAA+H8AAAAAAAD4fwAAAAAAAPh/AAAAAAAA+H8YJ95eIcroP8iTWpLVQOg/nU9BD+C66D8jeKS/nqvoPwAAAAAAAPh/AAAAAAAA+H+ooAdwXZzoP71ClDFYX+g/s/HN0Np96D+ooAdwXZzoPwAAAAAAAPh/AAAAAAAA+H+z8c3Q2n3oPy3JaiAcjeg/nU9BD+C66D+dT0EP4LroPwAAAAAAAPh/AAAAAAAA+H+ooAdwXZzoPyN4pL+eq+g/nU9BD+C66D+dT0EP4LroPwAAAAAAAPh/AAAAAAAA+H8AAAAAAAD4fwAAAAAAAPh/AAAAAAAA+H8AAAAAAAD4fwAAAAAAAPh/",
                    "dtype": "f8",
                    "shape": "6, 6"
                  }
                },
                {
                  "marker": {
                    "color": "black",
                    "line": {
                      "color": "Gray",
                      "width": 2
                    }
                  },
                  "mode": "markers",
                  "name": "Feasible Trial",
                  "showlegend": false,
                  "type": "scatter",
                  "x": [
                    5,
                    10,
                    15,
                    15,
                    20,
                    10,
                    5,
                    20,
                    15,
                    10,
                    20,
                    15,
                    5,
                    5,
                    10,
                    20
                  ],
                  "y": [
                    100,
                    150,
                    50,
                    100,
                    100,
                    50,
                    150,
                    150,
                    150,
                    200,
                    200,
                    200,
                    200,
                    50,
                    100,
                    50
                  ]
                },
                {
                  "marker": {
                    "color": "#cccccc",
                    "line": {
                      "color": "Gray",
                      "width": 2
                    }
                  },
                  "mode": "markers",
                  "name": "Infeasible Trial",
                  "showlegend": false,
                  "type": "scatter",
                  "x": [],
                  "y": []
                }
              ],
              "layout": {
                "template": {
                  "data": {
                    "bar": [
                      {
                        "error_x": {
                          "color": "#2a3f5f"
                        },
                        "error_y": {
                          "color": "#2a3f5f"
                        },
                        "marker": {
                          "line": {
                            "color": "#E5ECF6",
                            "width": 0.5
                          },
                          "pattern": {
                            "fillmode": "overlay",
                            "size": 10,
                            "solidity": 0.2
                          }
                        },
                        "type": "bar"
                      }
                    ],
                    "barpolar": [
                      {
                        "marker": {
                          "line": {
                            "color": "#E5ECF6",
                            "width": 0.5
                          },
                          "pattern": {
                            "fillmode": "overlay",
                            "size": 10,
                            "solidity": 0.2
                          }
                        },
                        "type": "barpolar"
                      }
                    ],
                    "carpet": [
                      {
                        "aaxis": {
                          "endlinecolor": "#2a3f5f",
                          "gridcolor": "white",
                          "linecolor": "white",
                          "minorgridcolor": "white",
                          "startlinecolor": "#2a3f5f"
                        },
                        "baxis": {
                          "endlinecolor": "#2a3f5f",
                          "gridcolor": "white",
                          "linecolor": "white",
                          "minorgridcolor": "white",
                          "startlinecolor": "#2a3f5f"
                        },
                        "type": "carpet"
                      }
                    ],
                    "choropleth": [
                      {
                        "colorbar": {
                          "outlinewidth": 0,
                          "ticks": ""
                        },
                        "type": "choropleth"
                      }
                    ],
                    "contour": [
                      {
                        "colorbar": {
                          "outlinewidth": 0,
                          "ticks": ""
                        },
                        "colorscale": [
                          [
                            0,
                            "#0d0887"
                          ],
                          [
                            0.1111111111111111,
                            "#46039f"
                          ],
                          [
                            0.2222222222222222,
                            "#7201a8"
                          ],
                          [
                            0.3333333333333333,
                            "#9c179e"
                          ],
                          [
                            0.4444444444444444,
                            "#bd3786"
                          ],
                          [
                            0.5555555555555556,
                            "#d8576b"
                          ],
                          [
                            0.6666666666666666,
                            "#ed7953"
                          ],
                          [
                            0.7777777777777778,
                            "#fb9f3a"
                          ],
                          [
                            0.8888888888888888,
                            "#fdca26"
                          ],
                          [
                            1,
                            "#f0f921"
                          ]
                        ],
                        "type": "contour"
                      }
                    ],
                    "contourcarpet": [
                      {
                        "colorbar": {
                          "outlinewidth": 0,
                          "ticks": ""
                        },
                        "type": "contourcarpet"
                      }
                    ],
                    "heatmap": [
                      {
                        "colorbar": {
                          "outlinewidth": 0,
                          "ticks": ""
                        },
                        "colorscale": [
                          [
                            0,
                            "#0d0887"
                          ],
                          [
                            0.1111111111111111,
                            "#46039f"
                          ],
                          [
                            0.2222222222222222,
                            "#7201a8"
                          ],
                          [
                            0.3333333333333333,
                            "#9c179e"
                          ],
                          [
                            0.4444444444444444,
                            "#bd3786"
                          ],
                          [
                            0.5555555555555556,
                            "#d8576b"
                          ],
                          [
                            0.6666666666666666,
                            "#ed7953"
                          ],
                          [
                            0.7777777777777778,
                            "#fb9f3a"
                          ],
                          [
                            0.8888888888888888,
                            "#fdca26"
                          ],
                          [
                            1,
                            "#f0f921"
                          ]
                        ],
                        "type": "heatmap"
                      }
                    ],
                    "histogram": [
                      {
                        "marker": {
                          "pattern": {
                            "fillmode": "overlay",
                            "size": 10,
                            "solidity": 0.2
                          }
                        },
                        "type": "histogram"
                      }
                    ],
                    "histogram2d": [
                      {
                        "colorbar": {
                          "outlinewidth": 0,
                          "ticks": ""
                        },
                        "colorscale": [
                          [
                            0,
                            "#0d0887"
                          ],
                          [
                            0.1111111111111111,
                            "#46039f"
                          ],
                          [
                            0.2222222222222222,
                            "#7201a8"
                          ],
                          [
                            0.3333333333333333,
                            "#9c179e"
                          ],
                          [
                            0.4444444444444444,
                            "#bd3786"
                          ],
                          [
                            0.5555555555555556,
                            "#d8576b"
                          ],
                          [
                            0.6666666666666666,
                            "#ed7953"
                          ],
                          [
                            0.7777777777777778,
                            "#fb9f3a"
                          ],
                          [
                            0.8888888888888888,
                            "#fdca26"
                          ],
                          [
                            1,
                            "#f0f921"
                          ]
                        ],
                        "type": "histogram2d"
                      }
                    ],
                    "histogram2dcontour": [
                      {
                        "colorbar": {
                          "outlinewidth": 0,
                          "ticks": ""
                        },
                        "colorscale": [
                          [
                            0,
                            "#0d0887"
                          ],
                          [
                            0.1111111111111111,
                            "#46039f"
                          ],
                          [
                            0.2222222222222222,
                            "#7201a8"
                          ],
                          [
                            0.3333333333333333,
                            "#9c179e"
                          ],
                          [
                            0.4444444444444444,
                            "#bd3786"
                          ],
                          [
                            0.5555555555555556,
                            "#d8576b"
                          ],
                          [
                            0.6666666666666666,
                            "#ed7953"
                          ],
                          [
                            0.7777777777777778,
                            "#fb9f3a"
                          ],
                          [
                            0.8888888888888888,
                            "#fdca26"
                          ],
                          [
                            1,
                            "#f0f921"
                          ]
                        ],
                        "type": "histogram2dcontour"
                      }
                    ],
                    "mesh3d": [
                      {
                        "colorbar": {
                          "outlinewidth": 0,
                          "ticks": ""
                        },
                        "type": "mesh3d"
                      }
                    ],
                    "parcoords": [
                      {
                        "line": {
                          "colorbar": {
                            "outlinewidth": 0,
                            "ticks": ""
                          }
                        },
                        "type": "parcoords"
                      }
                    ],
                    "pie": [
                      {
                        "automargin": true,
                        "type": "pie"
                      }
                    ],
                    "scatter": [
                      {
                        "fillpattern": {
                          "fillmode": "overlay",
                          "size": 10,
                          "solidity": 0.2
                        },
                        "type": "scatter"
                      }
                    ],
                    "scatter3d": [
                      {
                        "line": {
                          "colorbar": {
                            "outlinewidth": 0,
                            "ticks": ""
                          }
                        },
                        "marker": {
                          "colorbar": {
                            "outlinewidth": 0,
                            "ticks": ""
                          }
                        },
                        "type": "scatter3d"
                      }
                    ],
                    "scattercarpet": [
                      {
                        "marker": {
                          "colorbar": {
                            "outlinewidth": 0,
                            "ticks": ""
                          }
                        },
                        "type": "scattercarpet"
                      }
                    ],
                    "scattergeo": [
                      {
                        "marker": {
                          "colorbar": {
                            "outlinewidth": 0,
                            "ticks": ""
                          }
                        },
                        "type": "scattergeo"
                      }
                    ],
                    "scattergl": [
                      {
                        "marker": {
                          "colorbar": {
                            "outlinewidth": 0,
                            "ticks": ""
                          }
                        },
                        "type": "scattergl"
                      }
                    ],
                    "scattermap": [
                      {
                        "marker": {
                          "colorbar": {
                            "outlinewidth": 0,
                            "ticks": ""
                          }
                        },
                        "type": "scattermap"
                      }
                    ],
                    "scattermapbox": [
                      {
                        "marker": {
                          "colorbar": {
                            "outlinewidth": 0,
                            "ticks": ""
                          }
                        },
                        "type": "scattermapbox"
                      }
                    ],
                    "scatterpolar": [
                      {
                        "marker": {
                          "colorbar": {
                            "outlinewidth": 0,
                            "ticks": ""
                          }
                        },
                        "type": "scatterpolar"
                      }
                    ],
                    "scatterpolargl": [
                      {
                        "marker": {
                          "colorbar": {
                            "outlinewidth": 0,
                            "ticks": ""
                          }
                        },
                        "type": "scatterpolargl"
                      }
                    ],
                    "scatterternary": [
                      {
                        "marker": {
                          "colorbar": {
                            "outlinewidth": 0,
                            "ticks": ""
                          }
                        },
                        "type": "scatterternary"
                      }
                    ],
                    "surface": [
                      {
                        "colorbar": {
                          "outlinewidth": 0,
                          "ticks": ""
                        },
                        "colorscale": [
                          [
                            0,
                            "#0d0887"
                          ],
                          [
                            0.1111111111111111,
                            "#46039f"
                          ],
                          [
                            0.2222222222222222,
                            "#7201a8"
                          ],
                          [
                            0.3333333333333333,
                            "#9c179e"
                          ],
                          [
                            0.4444444444444444,
                            "#bd3786"
                          ],
                          [
                            0.5555555555555556,
                            "#d8576b"
                          ],
                          [
                            0.6666666666666666,
                            "#ed7953"
                          ],
                          [
                            0.7777777777777778,
                            "#fb9f3a"
                          ],
                          [
                            0.8888888888888888,
                            "#fdca26"
                          ],
                          [
                            1,
                            "#f0f921"
                          ]
                        ],
                        "type": "surface"
                      }
                    ],
                    "table": [
                      {
                        "cells": {
                          "fill": {
                            "color": "#EBF0F8"
                          },
                          "line": {
                            "color": "white"
                          }
                        },
                        "header": {
                          "fill": {
                            "color": "#C8D4E3"
                          },
                          "line": {
                            "color": "white"
                          }
                        },
                        "type": "table"
                      }
                    ]
                  },
                  "layout": {
                    "annotationdefaults": {
                      "arrowcolor": "#2a3f5f",
                      "arrowhead": 0,
                      "arrowwidth": 1
                    },
                    "autotypenumbers": "strict",
                    "coloraxis": {
                      "colorbar": {
                        "outlinewidth": 0,
                        "ticks": ""
                      }
                    },
                    "colorscale": {
                      "diverging": [
                        [
                          0,
                          "#8e0152"
                        ],
                        [
                          0.1,
                          "#c51b7d"
                        ],
                        [
                          0.2,
                          "#de77ae"
                        ],
                        [
                          0.3,
                          "#f1b6da"
                        ],
                        [
                          0.4,
                          "#fde0ef"
                        ],
                        [
                          0.5,
                          "#f7f7f7"
                        ],
                        [
                          0.6,
                          "#e6f5d0"
                        ],
                        [
                          0.7,
                          "#b8e186"
                        ],
                        [
                          0.8,
                          "#7fbc41"
                        ],
                        [
                          0.9,
                          "#4d9221"
                        ],
                        [
                          1,
                          "#276419"
                        ]
                      ],
                      "sequential": [
                        [
                          0,
                          "#0d0887"
                        ],
                        [
                          0.1111111111111111,
                          "#46039f"
                        ],
                        [
                          0.2222222222222222,
                          "#7201a8"
                        ],
                        [
                          0.3333333333333333,
                          "#9c179e"
                        ],
                        [
                          0.4444444444444444,
                          "#bd3786"
                        ],
                        [
                          0.5555555555555556,
                          "#d8576b"
                        ],
                        [
                          0.6666666666666666,
                          "#ed7953"
                        ],
                        [
                          0.7777777777777778,
                          "#fb9f3a"
                        ],
                        [
                          0.8888888888888888,
                          "#fdca26"
                        ],
                        [
                          1,
                          "#f0f921"
                        ]
                      ],
                      "sequentialminus": [
                        [
                          0,
                          "#0d0887"
                        ],
                        [
                          0.1111111111111111,
                          "#46039f"
                        ],
                        [
                          0.2222222222222222,
                          "#7201a8"
                        ],
                        [
                          0.3333333333333333,
                          "#9c179e"
                        ],
                        [
                          0.4444444444444444,
                          "#bd3786"
                        ],
                        [
                          0.5555555555555556,
                          "#d8576b"
                        ],
                        [
                          0.6666666666666666,
                          "#ed7953"
                        ],
                        [
                          0.7777777777777778,
                          "#fb9f3a"
                        ],
                        [
                          0.8888888888888888,
                          "#fdca26"
                        ],
                        [
                          1,
                          "#f0f921"
                        ]
                      ]
                    },
                    "colorway": [
                      "#636efa",
                      "#EF553B",
                      "#00cc96",
                      "#ab63fa",
                      "#FFA15A",
                      "#19d3f3",
                      "#FF6692",
                      "#B6E880",
                      "#FF97FF",
                      "#FECB52"
                    ],
                    "font": {
                      "color": "#2a3f5f"
                    },
                    "geo": {
                      "bgcolor": "white",
                      "lakecolor": "white",
                      "landcolor": "#E5ECF6",
                      "showlakes": true,
                      "showland": true,
                      "subunitcolor": "white"
                    },
                    "hoverlabel": {
                      "align": "left"
                    },
                    "hovermode": "closest",
                    "mapbox": {
                      "style": "light"
                    },
                    "paper_bgcolor": "white",
                    "plot_bgcolor": "#E5ECF6",
                    "polar": {
                      "angularaxis": {
                        "gridcolor": "white",
                        "linecolor": "white",
                        "ticks": ""
                      },
                      "bgcolor": "#E5ECF6",
                      "radialaxis": {
                        "gridcolor": "white",
                        "linecolor": "white",
                        "ticks": ""
                      }
                    },
                    "scene": {
                      "xaxis": {
                        "backgroundcolor": "#E5ECF6",
                        "gridcolor": "white",
                        "gridwidth": 2,
                        "linecolor": "white",
                        "showbackground": true,
                        "ticks": "",
                        "zerolinecolor": "white"
                      },
                      "yaxis": {
                        "backgroundcolor": "#E5ECF6",
                        "gridcolor": "white",
                        "gridwidth": 2,
                        "linecolor": "white",
                        "showbackground": true,
                        "ticks": "",
                        "zerolinecolor": "white"
                      },
                      "zaxis": {
                        "backgroundcolor": "#E5ECF6",
                        "gridcolor": "white",
                        "gridwidth": 2,
                        "linecolor": "white",
                        "showbackground": true,
                        "ticks": "",
                        "zerolinecolor": "white"
                      }
                    },
                    "shapedefaults": {
                      "line": {
                        "color": "#2a3f5f"
                      }
                    },
                    "ternary": {
                      "aaxis": {
                        "gridcolor": "white",
                        "linecolor": "white",
                        "ticks": ""
                      },
                      "baxis": {
                        "gridcolor": "white",
                        "linecolor": "white",
                        "ticks": ""
                      },
                      "bgcolor": "#E5ECF6",
                      "caxis": {
                        "gridcolor": "white",
                        "linecolor": "white",
                        "ticks": ""
                      }
                    },
                    "title": {
                      "x": 0.05
                    },
                    "xaxis": {
                      "automargin": true,
                      "gridcolor": "white",
                      "linecolor": "white",
                      "ticks": "",
                      "title": {
                        "standoff": 15
                      },
                      "zerolinecolor": "white",
                      "zerolinewidth": 2
                    },
                    "yaxis": {
                      "automargin": true,
                      "gridcolor": "white",
                      "linecolor": "white",
                      "ticks": "",
                      "title": {
                        "standoff": 15
                      },
                      "zerolinecolor": "white",
                      "zerolinewidth": 2
                    }
                  }
                },
                "title": {
                  "text": "Contour Plot"
                },
                "xaxis": {
                  "range": [
                    4.25,
                    20.75
                  ],
                  "title": {
                    "text": "max_depth"
                  }
                },
                "yaxis": {
                  "range": [
                    42.5,
                    207.5
                  ],
                  "title": {
                    "text": "n_estimators"
                  }
                }
              }
            }
          },
          "metadata": {},
          "output_type": "display_data"
        }
      ],
      "source": [
        "# 4. Contour Plot\n",
        "plot_contour(study).show()"
      ]
    },
    {
      "cell_type": "code",
      "execution_count": 22,
      "metadata": {
        "colab": {
          "base_uri": "https://localhost:8080/",
          "height": 542
        },
        "id": "Iw7pTZf_5JPp",
        "outputId": "1a7f10c4-4c7c-4148-f108-f3acb77d8844"
      },
      "outputs": [
        {
          "data": {
            "application/vnd.plotly.v1+json": {
              "config": {
                "plotlyServerURL": "https://plot.ly"
              },
              "data": [
                {
                  "cliponaxis": false,
                  "hovertemplate": [
                    "max_depth (IntDistribution): 0.49269719555298935<extra></extra>",
                    "n_estimators (IntDistribution): 0.5073028044470107<extra></extra>"
                  ],
                  "name": "Objective Value",
                  "orientation": "h",
                  "text": [
                    "0.49",
                    "0.51"
                  ],
                  "textposition": "outside",
                  "type": "bar",
                  "x": [
                    0.49269719555298935,
                    0.5073028044470107
                  ],
                  "y": [
                    "max_depth",
                    "n_estimators"
                  ]
                }
              ],
              "layout": {
                "template": {
                  "data": {
                    "bar": [
                      {
                        "error_x": {
                          "color": "#2a3f5f"
                        },
                        "error_y": {
                          "color": "#2a3f5f"
                        },
                        "marker": {
                          "line": {
                            "color": "#E5ECF6",
                            "width": 0.5
                          },
                          "pattern": {
                            "fillmode": "overlay",
                            "size": 10,
                            "solidity": 0.2
                          }
                        },
                        "type": "bar"
                      }
                    ],
                    "barpolar": [
                      {
                        "marker": {
                          "line": {
                            "color": "#E5ECF6",
                            "width": 0.5
                          },
                          "pattern": {
                            "fillmode": "overlay",
                            "size": 10,
                            "solidity": 0.2
                          }
                        },
                        "type": "barpolar"
                      }
                    ],
                    "carpet": [
                      {
                        "aaxis": {
                          "endlinecolor": "#2a3f5f",
                          "gridcolor": "white",
                          "linecolor": "white",
                          "minorgridcolor": "white",
                          "startlinecolor": "#2a3f5f"
                        },
                        "baxis": {
                          "endlinecolor": "#2a3f5f",
                          "gridcolor": "white",
                          "linecolor": "white",
                          "minorgridcolor": "white",
                          "startlinecolor": "#2a3f5f"
                        },
                        "type": "carpet"
                      }
                    ],
                    "choropleth": [
                      {
                        "colorbar": {
                          "outlinewidth": 0,
                          "ticks": ""
                        },
                        "type": "choropleth"
                      }
                    ],
                    "contour": [
                      {
                        "colorbar": {
                          "outlinewidth": 0,
                          "ticks": ""
                        },
                        "colorscale": [
                          [
                            0,
                            "#0d0887"
                          ],
                          [
                            0.1111111111111111,
                            "#46039f"
                          ],
                          [
                            0.2222222222222222,
                            "#7201a8"
                          ],
                          [
                            0.3333333333333333,
                            "#9c179e"
                          ],
                          [
                            0.4444444444444444,
                            "#bd3786"
                          ],
                          [
                            0.5555555555555556,
                            "#d8576b"
                          ],
                          [
                            0.6666666666666666,
                            "#ed7953"
                          ],
                          [
                            0.7777777777777778,
                            "#fb9f3a"
                          ],
                          [
                            0.8888888888888888,
                            "#fdca26"
                          ],
                          [
                            1,
                            "#f0f921"
                          ]
                        ],
                        "type": "contour"
                      }
                    ],
                    "contourcarpet": [
                      {
                        "colorbar": {
                          "outlinewidth": 0,
                          "ticks": ""
                        },
                        "type": "contourcarpet"
                      }
                    ],
                    "heatmap": [
                      {
                        "colorbar": {
                          "outlinewidth": 0,
                          "ticks": ""
                        },
                        "colorscale": [
                          [
                            0,
                            "#0d0887"
                          ],
                          [
                            0.1111111111111111,
                            "#46039f"
                          ],
                          [
                            0.2222222222222222,
                            "#7201a8"
                          ],
                          [
                            0.3333333333333333,
                            "#9c179e"
                          ],
                          [
                            0.4444444444444444,
                            "#bd3786"
                          ],
                          [
                            0.5555555555555556,
                            "#d8576b"
                          ],
                          [
                            0.6666666666666666,
                            "#ed7953"
                          ],
                          [
                            0.7777777777777778,
                            "#fb9f3a"
                          ],
                          [
                            0.8888888888888888,
                            "#fdca26"
                          ],
                          [
                            1,
                            "#f0f921"
                          ]
                        ],
                        "type": "heatmap"
                      }
                    ],
                    "histogram": [
                      {
                        "marker": {
                          "pattern": {
                            "fillmode": "overlay",
                            "size": 10,
                            "solidity": 0.2
                          }
                        },
                        "type": "histogram"
                      }
                    ],
                    "histogram2d": [
                      {
                        "colorbar": {
                          "outlinewidth": 0,
                          "ticks": ""
                        },
                        "colorscale": [
                          [
                            0,
                            "#0d0887"
                          ],
                          [
                            0.1111111111111111,
                            "#46039f"
                          ],
                          [
                            0.2222222222222222,
                            "#7201a8"
                          ],
                          [
                            0.3333333333333333,
                            "#9c179e"
                          ],
                          [
                            0.4444444444444444,
                            "#bd3786"
                          ],
                          [
                            0.5555555555555556,
                            "#d8576b"
                          ],
                          [
                            0.6666666666666666,
                            "#ed7953"
                          ],
                          [
                            0.7777777777777778,
                            "#fb9f3a"
                          ],
                          [
                            0.8888888888888888,
                            "#fdca26"
                          ],
                          [
                            1,
                            "#f0f921"
                          ]
                        ],
                        "type": "histogram2d"
                      }
                    ],
                    "histogram2dcontour": [
                      {
                        "colorbar": {
                          "outlinewidth": 0,
                          "ticks": ""
                        },
                        "colorscale": [
                          [
                            0,
                            "#0d0887"
                          ],
                          [
                            0.1111111111111111,
                            "#46039f"
                          ],
                          [
                            0.2222222222222222,
                            "#7201a8"
                          ],
                          [
                            0.3333333333333333,
                            "#9c179e"
                          ],
                          [
                            0.4444444444444444,
                            "#bd3786"
                          ],
                          [
                            0.5555555555555556,
                            "#d8576b"
                          ],
                          [
                            0.6666666666666666,
                            "#ed7953"
                          ],
                          [
                            0.7777777777777778,
                            "#fb9f3a"
                          ],
                          [
                            0.8888888888888888,
                            "#fdca26"
                          ],
                          [
                            1,
                            "#f0f921"
                          ]
                        ],
                        "type": "histogram2dcontour"
                      }
                    ],
                    "mesh3d": [
                      {
                        "colorbar": {
                          "outlinewidth": 0,
                          "ticks": ""
                        },
                        "type": "mesh3d"
                      }
                    ],
                    "parcoords": [
                      {
                        "line": {
                          "colorbar": {
                            "outlinewidth": 0,
                            "ticks": ""
                          }
                        },
                        "type": "parcoords"
                      }
                    ],
                    "pie": [
                      {
                        "automargin": true,
                        "type": "pie"
                      }
                    ],
                    "scatter": [
                      {
                        "fillpattern": {
                          "fillmode": "overlay",
                          "size": 10,
                          "solidity": 0.2
                        },
                        "type": "scatter"
                      }
                    ],
                    "scatter3d": [
                      {
                        "line": {
                          "colorbar": {
                            "outlinewidth": 0,
                            "ticks": ""
                          }
                        },
                        "marker": {
                          "colorbar": {
                            "outlinewidth": 0,
                            "ticks": ""
                          }
                        },
                        "type": "scatter3d"
                      }
                    ],
                    "scattercarpet": [
                      {
                        "marker": {
                          "colorbar": {
                            "outlinewidth": 0,
                            "ticks": ""
                          }
                        },
                        "type": "scattercarpet"
                      }
                    ],
                    "scattergeo": [
                      {
                        "marker": {
                          "colorbar": {
                            "outlinewidth": 0,
                            "ticks": ""
                          }
                        },
                        "type": "scattergeo"
                      }
                    ],
                    "scattergl": [
                      {
                        "marker": {
                          "colorbar": {
                            "outlinewidth": 0,
                            "ticks": ""
                          }
                        },
                        "type": "scattergl"
                      }
                    ],
                    "scattermap": [
                      {
                        "marker": {
                          "colorbar": {
                            "outlinewidth": 0,
                            "ticks": ""
                          }
                        },
                        "type": "scattermap"
                      }
                    ],
                    "scattermapbox": [
                      {
                        "marker": {
                          "colorbar": {
                            "outlinewidth": 0,
                            "ticks": ""
                          }
                        },
                        "type": "scattermapbox"
                      }
                    ],
                    "scatterpolar": [
                      {
                        "marker": {
                          "colorbar": {
                            "outlinewidth": 0,
                            "ticks": ""
                          }
                        },
                        "type": "scatterpolar"
                      }
                    ],
                    "scatterpolargl": [
                      {
                        "marker": {
                          "colorbar": {
                            "outlinewidth": 0,
                            "ticks": ""
                          }
                        },
                        "type": "scatterpolargl"
                      }
                    ],
                    "scatterternary": [
                      {
                        "marker": {
                          "colorbar": {
                            "outlinewidth": 0,
                            "ticks": ""
                          }
                        },
                        "type": "scatterternary"
                      }
                    ],
                    "surface": [
                      {
                        "colorbar": {
                          "outlinewidth": 0,
                          "ticks": ""
                        },
                        "colorscale": [
                          [
                            0,
                            "#0d0887"
                          ],
                          [
                            0.1111111111111111,
                            "#46039f"
                          ],
                          [
                            0.2222222222222222,
                            "#7201a8"
                          ],
                          [
                            0.3333333333333333,
                            "#9c179e"
                          ],
                          [
                            0.4444444444444444,
                            "#bd3786"
                          ],
                          [
                            0.5555555555555556,
                            "#d8576b"
                          ],
                          [
                            0.6666666666666666,
                            "#ed7953"
                          ],
                          [
                            0.7777777777777778,
                            "#fb9f3a"
                          ],
                          [
                            0.8888888888888888,
                            "#fdca26"
                          ],
                          [
                            1,
                            "#f0f921"
                          ]
                        ],
                        "type": "surface"
                      }
                    ],
                    "table": [
                      {
                        "cells": {
                          "fill": {
                            "color": "#EBF0F8"
                          },
                          "line": {
                            "color": "white"
                          }
                        },
                        "header": {
                          "fill": {
                            "color": "#C8D4E3"
                          },
                          "line": {
                            "color": "white"
                          }
                        },
                        "type": "table"
                      }
                    ]
                  },
                  "layout": {
                    "annotationdefaults": {
                      "arrowcolor": "#2a3f5f",
                      "arrowhead": 0,
                      "arrowwidth": 1
                    },
                    "autotypenumbers": "strict",
                    "coloraxis": {
                      "colorbar": {
                        "outlinewidth": 0,
                        "ticks": ""
                      }
                    },
                    "colorscale": {
                      "diverging": [
                        [
                          0,
                          "#8e0152"
                        ],
                        [
                          0.1,
                          "#c51b7d"
                        ],
                        [
                          0.2,
                          "#de77ae"
                        ],
                        [
                          0.3,
                          "#f1b6da"
                        ],
                        [
                          0.4,
                          "#fde0ef"
                        ],
                        [
                          0.5,
                          "#f7f7f7"
                        ],
                        [
                          0.6,
                          "#e6f5d0"
                        ],
                        [
                          0.7,
                          "#b8e186"
                        ],
                        [
                          0.8,
                          "#7fbc41"
                        ],
                        [
                          0.9,
                          "#4d9221"
                        ],
                        [
                          1,
                          "#276419"
                        ]
                      ],
                      "sequential": [
                        [
                          0,
                          "#0d0887"
                        ],
                        [
                          0.1111111111111111,
                          "#46039f"
                        ],
                        [
                          0.2222222222222222,
                          "#7201a8"
                        ],
                        [
                          0.3333333333333333,
                          "#9c179e"
                        ],
                        [
                          0.4444444444444444,
                          "#bd3786"
                        ],
                        [
                          0.5555555555555556,
                          "#d8576b"
                        ],
                        [
                          0.6666666666666666,
                          "#ed7953"
                        ],
                        [
                          0.7777777777777778,
                          "#fb9f3a"
                        ],
                        [
                          0.8888888888888888,
                          "#fdca26"
                        ],
                        [
                          1,
                          "#f0f921"
                        ]
                      ],
                      "sequentialminus": [
                        [
                          0,
                          "#0d0887"
                        ],
                        [
                          0.1111111111111111,
                          "#46039f"
                        ],
                        [
                          0.2222222222222222,
                          "#7201a8"
                        ],
                        [
                          0.3333333333333333,
                          "#9c179e"
                        ],
                        [
                          0.4444444444444444,
                          "#bd3786"
                        ],
                        [
                          0.5555555555555556,
                          "#d8576b"
                        ],
                        [
                          0.6666666666666666,
                          "#ed7953"
                        ],
                        [
                          0.7777777777777778,
                          "#fb9f3a"
                        ],
                        [
                          0.8888888888888888,
                          "#fdca26"
                        ],
                        [
                          1,
                          "#f0f921"
                        ]
                      ]
                    },
                    "colorway": [
                      "#636efa",
                      "#EF553B",
                      "#00cc96",
                      "#ab63fa",
                      "#FFA15A",
                      "#19d3f3",
                      "#FF6692",
                      "#B6E880",
                      "#FF97FF",
                      "#FECB52"
                    ],
                    "font": {
                      "color": "#2a3f5f"
                    },
                    "geo": {
                      "bgcolor": "white",
                      "lakecolor": "white",
                      "landcolor": "#E5ECF6",
                      "showlakes": true,
                      "showland": true,
                      "subunitcolor": "white"
                    },
                    "hoverlabel": {
                      "align": "left"
                    },
                    "hovermode": "closest",
                    "mapbox": {
                      "style": "light"
                    },
                    "paper_bgcolor": "white",
                    "plot_bgcolor": "#E5ECF6",
                    "polar": {
                      "angularaxis": {
                        "gridcolor": "white",
                        "linecolor": "white",
                        "ticks": ""
                      },
                      "bgcolor": "#E5ECF6",
                      "radialaxis": {
                        "gridcolor": "white",
                        "linecolor": "white",
                        "ticks": ""
                      }
                    },
                    "scene": {
                      "xaxis": {
                        "backgroundcolor": "#E5ECF6",
                        "gridcolor": "white",
                        "gridwidth": 2,
                        "linecolor": "white",
                        "showbackground": true,
                        "ticks": "",
                        "zerolinecolor": "white"
                      },
                      "yaxis": {
                        "backgroundcolor": "#E5ECF6",
                        "gridcolor": "white",
                        "gridwidth": 2,
                        "linecolor": "white",
                        "showbackground": true,
                        "ticks": "",
                        "zerolinecolor": "white"
                      },
                      "zaxis": {
                        "backgroundcolor": "#E5ECF6",
                        "gridcolor": "white",
                        "gridwidth": 2,
                        "linecolor": "white",
                        "showbackground": true,
                        "ticks": "",
                        "zerolinecolor": "white"
                      }
                    },
                    "shapedefaults": {
                      "line": {
                        "color": "#2a3f5f"
                      }
                    },
                    "ternary": {
                      "aaxis": {
                        "gridcolor": "white",
                        "linecolor": "white",
                        "ticks": ""
                      },
                      "baxis": {
                        "gridcolor": "white",
                        "linecolor": "white",
                        "ticks": ""
                      },
                      "bgcolor": "#E5ECF6",
                      "caxis": {
                        "gridcolor": "white",
                        "linecolor": "white",
                        "ticks": ""
                      }
                    },
                    "title": {
                      "x": 0.05
                    },
                    "xaxis": {
                      "automargin": true,
                      "gridcolor": "white",
                      "linecolor": "white",
                      "ticks": "",
                      "title": {
                        "standoff": 15
                      },
                      "zerolinecolor": "white",
                      "zerolinewidth": 2
                    },
                    "yaxis": {
                      "automargin": true,
                      "gridcolor": "white",
                      "linecolor": "white",
                      "ticks": "",
                      "title": {
                        "standoff": 15
                      },
                      "zerolinecolor": "white",
                      "zerolinewidth": 2
                    }
                  }
                },
                "title": {
                  "text": "Hyperparameter Importances"
                },
                "xaxis": {
                  "title": {
                    "text": "Hyperparameter Importance"
                  }
                },
                "yaxis": {
                  "title": {
                    "text": "Hyperparameter"
                  }
                }
              }
            }
          },
          "metadata": {},
          "output_type": "display_data"
        }
      ],
      "source": [
        "# 5. Hyperparameter Importance\n",
        "plot_param_importances(study).show()"
      ]
    },
    {
      "cell_type": "markdown",
      "metadata": {
        "id": "m-zjVci7BYvh"
      },
      "source": [
        "## Optimizing Multiple ML Models"
      ]
    },
    {
      "cell_type": "code",
      "execution_count": 23,
      "metadata": {
        "id": "HJ81Ws4uBrD3"
      },
      "outputs": [],
      "source": [
        "# Importing the required libraries\n",
        "from sklearn.ensemble import RandomForestClassifier, GradientBoostingClassifier\n",
        "from sklearn.svm import SVC"
      ]
    },
    {
      "cell_type": "code",
      "execution_count": 24,
      "metadata": {
        "id": "bbHIIH8s5O8Z"
      },
      "outputs": [],
      "source": [
        "# Define the objective function for Optuna\n",
        "def objective(trial):\n",
        "    # Choose the algorithm to tune\n",
        "    classifier_name = trial.suggest_categorical('classifier', ['SVM', 'RandomForest', 'GradientBoosting'])\n",
        "\n",
        "    if classifier_name == 'SVM':\n",
        "        # SVM hyperparameters\n",
        "        c = trial.suggest_float('C', 0.1, 100, log=True)\n",
        "        kernel = trial.suggest_categorical('kernel', ['linear', 'rbf', 'poly', 'sigmoid'])\n",
        "        gamma = trial.suggest_categorical('gamma', ['scale', 'auto'])\n",
        "\n",
        "        model = SVC(C=c, kernel=kernel, gamma=gamma, random_state=42)\n",
        "\n",
        "    elif classifier_name == 'RandomForest':\n",
        "        # Random Forest hyperparameters\n",
        "        n_estimators = trial.suggest_int('n_estimators', 50, 300)\n",
        "        max_depth = trial.suggest_int('max_depth', 3, 20)\n",
        "        min_samples_split = trial.suggest_int('min_samples_split', 2, 10)\n",
        "        min_samples_leaf = trial.suggest_int('min_samples_leaf', 1, 10)\n",
        "        bootstrap = trial.suggest_categorical('bootstrap', [True, False])\n",
        "\n",
        "        model = RandomForestClassifier(\n",
        "            n_estimators=n_estimators,\n",
        "            max_depth=max_depth,\n",
        "            min_samples_split=min_samples_split,\n",
        "            min_samples_leaf=min_samples_leaf,\n",
        "            bootstrap=bootstrap,\n",
        "            random_state=42\n",
        "        )\n",
        "\n",
        "    elif classifier_name == 'GradientBoosting':\n",
        "        # Gradient Boosting hyperparameters\n",
        "        n_estimators = trial.suggest_int('n_estimators', 50, 300)\n",
        "        learning_rate = trial.suggest_float('learning_rate', 0.01, 0.3, log=True)\n",
        "        max_depth = trial.suggest_int('max_depth', 3, 20)\n",
        "        min_samples_split = trial.suggest_int('min_samples_split', 2, 10)\n",
        "        min_samples_leaf = trial.suggest_int('min_samples_leaf', 1, 10)\n",
        "\n",
        "        model = GradientBoostingClassifier(\n",
        "            n_estimators=n_estimators,\n",
        "            learning_rate=learning_rate,\n",
        "            max_depth=max_depth,\n",
        "            min_samples_split=min_samples_split,\n",
        "            min_samples_leaf=min_samples_leaf,\n",
        "            random_state=42\n",
        "        )\n",
        "\n",
        "    # Perform cross-validation and return the mean accuracy\n",
        "    score = cross_val_score(model, X_train, y_train, cv=3, scoring='accuracy').mean()\n",
        "    return score"
      ]
    },
    {
      "cell_type": "code",
      "execution_count": 25,
      "metadata": {
        "colab": {
          "base_uri": "https://localhost:8080/"
        },
        "id": "lP_GVCWxBf60",
        "outputId": "8d93f5e2-d8b9-44a0-fcf6-61dd2e3de7b6"
      },
      "outputs": [
        {
          "name": "stderr",
          "output_type": "stream",
          "text": [
            "[I 2025-09-17 09:58:10,788] A new study created in memory with name: no-name-8a44e4dc-3e4f-4151-bb4a-63378721e7dd\n",
            "[I 2025-09-17 09:58:10,935] Trial 0 finished with value: 0.7821229050279329 and parameters: {'classifier': 'RandomForest', 'n_estimators': 66, 'max_depth': 18, 'min_samples_split': 9, 'min_samples_leaf': 9, 'bootstrap': False}. Best is trial 0 with value: 0.7821229050279329.\n",
            "[I 2025-09-17 09:58:10,950] Trial 1 finished with value: 0.702048417132216 and parameters: {'classifier': 'SVM', 'C': 12.826412911406658, 'kernel': 'sigmoid', 'gamma': 'auto'}. Best is trial 0 with value: 0.7821229050279329.\n",
            "[I 2025-09-17 09:58:11,344] Trial 2 finished with value: 0.7411545623836128 and parameters: {'classifier': 'GradientBoosting', 'n_estimators': 80, 'learning_rate': 0.16643003608089052, 'max_depth': 8, 'min_samples_split': 9, 'min_samples_leaf': 10}. Best is trial 0 with value: 0.7821229050279329.\n",
            "[I 2025-09-17 09:58:11,354] Trial 3 finished with value: 0.7430167597765364 and parameters: {'classifier': 'SVM', 'C': 0.49745879502940565, 'kernel': 'poly', 'gamma': 'auto'}. Best is trial 0 with value: 0.7821229050279329.\n",
            "[I 2025-09-17 09:58:12,095] Trial 4 finished with value: 0.74487895716946 and parameters: {'classifier': 'GradientBoosting', 'n_estimators': 91, 'learning_rate': 0.012078216949962004, 'max_depth': 9, 'min_samples_split': 7, 'min_samples_leaf': 2}. Best is trial 0 with value: 0.7821229050279329.\n",
            "[I 2025-09-17 09:58:12,434] Trial 5 finished with value: 0.7635009310986964 and parameters: {'classifier': 'RandomForest', 'n_estimators': 164, 'max_depth': 4, 'min_samples_split': 4, 'min_samples_leaf': 8, 'bootstrap': False}. Best is trial 0 with value: 0.7821229050279329.\n",
            "[I 2025-09-17 09:58:12,867] Trial 6 finished with value: 0.7579143389199254 and parameters: {'classifier': 'RandomForest', 'n_estimators': 175, 'max_depth': 17, 'min_samples_split': 7, 'min_samples_leaf': 9, 'bootstrap': True}. Best is trial 0 with value: 0.7821229050279329.\n",
            "[I 2025-09-17 09:58:13,642] Trial 7 finished with value: 0.7541899441340782 and parameters: {'classifier': 'GradientBoosting', 'n_estimators': 170, 'learning_rate': 0.058979801707697795, 'max_depth': 6, 'min_samples_split': 7, 'min_samples_leaf': 5}. Best is trial 0 with value: 0.7821229050279329.\n",
            "[I 2025-09-17 09:58:15,042] Trial 8 finished with value: 0.7653631284916201 and parameters: {'classifier': 'GradientBoosting', 'n_estimators': 224, 'learning_rate': 0.16969929693270672, 'max_depth': 8, 'min_samples_split': 5, 'min_samples_leaf': 4}. Best is trial 0 with value: 0.7821229050279329.\n",
            "[I 2025-09-17 09:58:15,054] Trial 9 finished with value: 0.7374301675977654 and parameters: {'classifier': 'SVM', 'C': 0.4637701287688633, 'kernel': 'poly', 'gamma': 'scale'}. Best is trial 0 with value: 0.7821229050279329.\n",
            "[I 2025-09-17 09:58:15,207] Trial 10 finished with value: 0.7690875232774674 and parameters: {'classifier': 'RandomForest', 'n_estimators': 55, 'max_depth': 20, 'min_samples_split': 10, 'min_samples_leaf': 7, 'bootstrap': False}. Best is trial 0 with value: 0.7821229050279329.\n",
            "[I 2025-09-17 09:58:15,330] Trial 11 finished with value: 0.7672253258845437 and parameters: {'classifier': 'RandomForest', 'n_estimators': 53, 'max_depth': 20, 'min_samples_split': 10, 'min_samples_leaf': 7, 'bootstrap': False}. Best is trial 0 with value: 0.7821229050279329.\n",
            "[I 2025-09-17 09:58:15,595] Trial 12 finished with value: 0.7690875232774674 and parameters: {'classifier': 'RandomForest', 'n_estimators': 120, 'max_depth': 15, 'min_samples_split': 2, 'min_samples_leaf': 7, 'bootstrap': False}. Best is trial 0 with value: 0.7821229050279329.\n",
            "[I 2025-09-17 09:58:16,194] Trial 13 finished with value: 0.7728119180633147 and parameters: {'classifier': 'RandomForest', 'n_estimators': 273, 'max_depth': 20, 'min_samples_split': 10, 'min_samples_leaf': 10, 'bootstrap': False}. Best is trial 0 with value: 0.7821229050279329.\n",
            "[I 2025-09-17 09:58:16,850] Trial 14 finished with value: 0.7690875232774674 and parameters: {'classifier': 'RandomForest', 'n_estimators': 295, 'max_depth': 13, 'min_samples_split': 9, 'min_samples_leaf': 10, 'bootstrap': False}. Best is trial 0 with value: 0.7821229050279329.\n",
            "[I 2025-09-17 09:58:17,536] Trial 15 finished with value: 0.7541899441340781 and parameters: {'classifier': 'RandomForest', 'n_estimators': 253, 'max_depth': 17, 'min_samples_split': 8, 'min_samples_leaf': 10, 'bootstrap': True}. Best is trial 0 with value: 0.7821229050279329.\n",
            "[I 2025-09-17 09:58:18,007] Trial 16 finished with value: 0.7746741154562384 and parameters: {'classifier': 'RandomForest', 'n_estimators': 220, 'max_depth': 17, 'min_samples_split': 10, 'min_samples_leaf': 8, 'bootstrap': False}. Best is trial 0 with value: 0.7821229050279329.\n",
            "[I 2025-09-17 09:58:18,507] Trial 17 finished with value: 0.7746741154562384 and parameters: {'classifier': 'RandomForest', 'n_estimators': 212, 'max_depth': 12, 'min_samples_split': 8, 'min_samples_leaf': 8, 'bootstrap': False}. Best is trial 0 with value: 0.7821229050279329.\n",
            "[I 2025-09-17 09:58:18,839] Trial 18 finished with value: 0.7709497206703911 and parameters: {'classifier': 'RandomForest', 'n_estimators': 132, 'max_depth': 16, 'min_samples_split': 9, 'min_samples_leaf': 5, 'bootstrap': True}. Best is trial 0 with value: 0.7821229050279329.\n",
            "[I 2025-09-17 09:58:18,870] Trial 19 finished with value: 0.7113594040968342 and parameters: {'classifier': 'SVM', 'C': 92.54995984306693, 'kernel': 'rbf', 'gamma': 'scale'}. Best is trial 0 with value: 0.7821229050279329.\n",
            "[I 2025-09-17 09:58:19,370] Trial 20 finished with value: 0.7635009310986964 and parameters: {'classifier': 'RandomForest', 'n_estimators': 206, 'max_depth': 14, 'min_samples_split': 5, 'min_samples_leaf': 1, 'bootstrap': False}. Best is trial 0 with value: 0.7821229050279329.\n",
            "[I 2025-09-17 09:58:19,867] Trial 21 finished with value: 0.7765363128491621 and parameters: {'classifier': 'RandomForest', 'n_estimators': 221, 'max_depth': 11, 'min_samples_split': 8, 'min_samples_leaf': 8, 'bootstrap': False}. Best is trial 0 with value: 0.7821229050279329.\n",
            "[I 2025-09-17 09:58:20,438] Trial 22 finished with value: 0.7765363128491621 and parameters: {'classifier': 'RandomForest', 'n_estimators': 249, 'max_depth': 10, 'min_samples_split': 8, 'min_samples_leaf': 8, 'bootstrap': False}. Best is trial 0 with value: 0.7821229050279329.\n",
            "[I 2025-09-17 09:58:21,026] Trial 23 finished with value: 0.7635009310986964 and parameters: {'classifier': 'RandomForest', 'n_estimators': 245, 'max_depth': 10, 'min_samples_split': 8, 'min_samples_leaf': 6, 'bootstrap': False}. Best is trial 0 with value: 0.7821229050279329.\n",
            "[I 2025-09-17 09:58:21,484] Trial 24 finished with value: 0.7746741154562384 and parameters: {'classifier': 'RandomForest', 'n_estimators': 195, 'max_depth': 11, 'min_samples_split': 6, 'min_samples_leaf': 9, 'bootstrap': False}. Best is trial 0 with value: 0.7821229050279329.\n",
            "[I 2025-09-17 09:58:22,057] Trial 25 finished with value: 0.7746741154562384 and parameters: {'classifier': 'RandomForest', 'n_estimators': 254, 'max_depth': 11, 'min_samples_split': 8, 'min_samples_leaf': 9, 'bootstrap': False}. Best is trial 0 with value: 0.7821229050279329.\n",
            "[I 2025-09-17 09:58:22,838] Trial 26 finished with value: 0.7541899441340781 and parameters: {'classifier': 'RandomForest', 'n_estimators': 299, 'max_depth': 6, 'min_samples_split': 6, 'min_samples_leaf': 6, 'bootstrap': True}. Best is trial 0 with value: 0.7821229050279329.\n",
            "[I 2025-09-17 09:58:22,850] Trial 27 finished with value: 0.7895716945996275 and parameters: {'classifier': 'SVM', 'C': 0.12045722121878354, 'kernel': 'linear', 'gamma': 'auto'}. Best is trial 27 with value: 0.7895716945996275.\n",
            "[I 2025-09-17 09:58:22,864] Trial 28 finished with value: 0.7895716945996275 and parameters: {'classifier': 'SVM', 'C': 0.12367319029986355, 'kernel': 'linear', 'gamma': 'auto'}. Best is trial 27 with value: 0.7895716945996275.\n",
            "[I 2025-09-17 09:58:22,877] Trial 29 finished with value: 0.7877094972067038 and parameters: {'classifier': 'SVM', 'C': 0.10168060293992796, 'kernel': 'linear', 'gamma': 'auto'}. Best is trial 27 with value: 0.7895716945996275.\n",
            "[I 2025-09-17 09:58:22,898] Trial 30 finished with value: 0.7895716945996275 and parameters: {'classifier': 'SVM', 'C': 0.11410801431403952, 'kernel': 'linear', 'gamma': 'auto'}. Best is trial 27 with value: 0.7895716945996275.\n",
            "[I 2025-09-17 09:58:22,911] Trial 31 finished with value: 0.7895716945996275 and parameters: {'classifier': 'SVM', 'C': 0.1434341971793071, 'kernel': 'linear', 'gamma': 'auto'}. Best is trial 27 with value: 0.7895716945996275.\n",
            "[I 2025-09-17 09:58:22,925] Trial 32 finished with value: 0.7895716945996275 and parameters: {'classifier': 'SVM', 'C': 0.11617506101374377, 'kernel': 'linear', 'gamma': 'auto'}. Best is trial 27 with value: 0.7895716945996275.\n",
            "[I 2025-09-17 09:58:22,941] Trial 33 finished with value: 0.7877094972067038 and parameters: {'classifier': 'SVM', 'C': 0.10096779261958459, 'kernel': 'linear', 'gamma': 'auto'}. Best is trial 27 with value: 0.7895716945996275.\n",
            "[I 2025-09-17 09:58:22,961] Trial 34 finished with value: 0.7821229050279329 and parameters: {'classifier': 'SVM', 'C': 0.3643335318511657, 'kernel': 'linear', 'gamma': 'auto'}. Best is trial 27 with value: 0.7895716945996275.\n",
            "[I 2025-09-17 09:58:22,974] Trial 35 finished with value: 0.7858472998137803 and parameters: {'classifier': 'SVM', 'C': 0.2830677187840309, 'kernel': 'linear', 'gamma': 'auto'}. Best is trial 27 with value: 0.7895716945996275.\n",
            "[I 2025-09-17 09:58:23,003] Trial 36 finished with value: 0.7839851024208566 and parameters: {'classifier': 'SVM', 'C': 1.2731284257377704, 'kernel': 'linear', 'gamma': 'auto'}. Best is trial 27 with value: 0.7895716945996275.\n",
            "[I 2025-09-17 09:58:23,018] Trial 37 finished with value: 0.7858472998137803 and parameters: {'classifier': 'SVM', 'C': 0.21719165728051681, 'kernel': 'linear', 'gamma': 'auto'}. Best is trial 27 with value: 0.7895716945996275.\n",
            "[I 2025-09-17 09:58:23,034] Trial 38 finished with value: 0.7839851024208566 and parameters: {'classifier': 'SVM', 'C': 1.1686126511247394, 'kernel': 'linear', 'gamma': 'auto'}. Best is trial 27 with value: 0.7895716945996275.\n",
            "[I 2025-09-17 09:58:23,058] Trial 39 finished with value: 0.7877094972067038 and parameters: {'classifier': 'SVM', 'C': 0.16634068136660746, 'kernel': 'linear', 'gamma': 'auto'}. Best is trial 27 with value: 0.7895716945996275.\n",
            "[I 2025-09-17 09:58:23,068] Trial 40 finished with value: 0.7616387337057727 and parameters: {'classifier': 'SVM', 'C': 0.24523261843417288, 'kernel': 'sigmoid', 'gamma': 'auto'}. Best is trial 27 with value: 0.7895716945996275.\n",
            "[I 2025-09-17 09:58:23,085] Trial 41 finished with value: 0.7877094972067038 and parameters: {'classifier': 'SVM', 'C': 0.10061883888367999, 'kernel': 'linear', 'gamma': 'auto'}. Best is trial 27 with value: 0.7895716945996275.\n",
            "[I 2025-09-17 09:58:23,095] Trial 42 finished with value: 0.7877094972067038 and parameters: {'classifier': 'SVM', 'C': 0.10065201727698542, 'kernel': 'linear', 'gamma': 'auto'}. Best is trial 27 with value: 0.7895716945996275.\n",
            "[I 2025-09-17 09:58:23,584] Trial 43 finished with value: 0.7467411545623835 and parameters: {'classifier': 'GradientBoosting', 'n_estimators': 129, 'learning_rate': 0.010078620881422636, 'max_depth': 4, 'min_samples_split': 2, 'min_samples_leaf': 3}. Best is trial 27 with value: 0.7895716945996275.\n",
            "[I 2025-09-17 09:58:23,596] Trial 44 finished with value: 0.7858472998137803 and parameters: {'classifier': 'SVM', 'C': 0.21392369212102058, 'kernel': 'linear', 'gamma': 'auto'}. Best is trial 27 with value: 0.7895716945996275.\n",
            "[I 2025-09-17 09:58:23,613] Trial 45 finished with value: 0.7597765363128492 and parameters: {'classifier': 'SVM', 'C': 0.18606472460053827, 'kernel': 'rbf', 'gamma': 'scale'}. Best is trial 27 with value: 0.7895716945996275.\n",
            "[I 2025-09-17 09:58:23,630] Trial 46 finished with value: 0.7877094972067038 and parameters: {'classifier': 'SVM', 'C': 0.17072084444680552, 'kernel': 'linear', 'gamma': 'auto'}. Best is trial 27 with value: 0.7895716945996275.\n",
            "[I 2025-09-17 09:58:23,924] Trial 47 finished with value: 0.7635009310986964 and parameters: {'classifier': 'GradientBoosting', 'n_estimators': 105, 'learning_rate': 0.037538185846857704, 'max_depth': 3, 'min_samples_split': 4, 'min_samples_leaf': 1}. Best is trial 27 with value: 0.7895716945996275.\n",
            "[I 2025-09-17 09:58:23,944] Trial 48 finished with value: 0.7839851024208566 and parameters: {'classifier': 'SVM', 'C': 1.0036318248505451, 'kernel': 'linear', 'gamma': 'auto'}. Best is trial 27 with value: 0.7895716945996275.\n",
            "[I 2025-09-17 09:58:23,968] Trial 49 finished with value: 0.7858472998137801 and parameters: {'classifier': 'SVM', 'C': 4.9028632749190635, 'kernel': 'linear', 'gamma': 'auto'}. Best is trial 27 with value: 0.7895716945996275.\n",
            "[I 2025-09-17 09:58:23,978] Trial 50 finished with value: 0.7839851024208566 and parameters: {'classifier': 'SVM', 'C': 0.5070022589811053, 'kernel': 'linear', 'gamma': 'auto'}. Best is trial 27 with value: 0.7895716945996275.\n",
            "[I 2025-09-17 09:58:23,992] Trial 51 finished with value: 0.7895716945996275 and parameters: {'classifier': 'SVM', 'C': 0.11577888555731926, 'kernel': 'linear', 'gamma': 'auto'}. Best is trial 27 with value: 0.7895716945996275.\n",
            "[I 2025-09-17 09:58:24,006] Trial 52 finished with value: 0.7895716945996275 and parameters: {'classifier': 'SVM', 'C': 0.149932852215459, 'kernel': 'linear', 'gamma': 'auto'}. Best is trial 27 with value: 0.7895716945996275.\n",
            "[I 2025-09-17 09:58:24,020] Trial 53 finished with value: 0.7895716945996275 and parameters: {'classifier': 'SVM', 'C': 0.14557482263749436, 'kernel': 'linear', 'gamma': 'auto'}. Best is trial 27 with value: 0.7895716945996275.\n",
            "[I 2025-09-17 09:58:24,030] Trial 54 finished with value: 0.7858472998137803 and parameters: {'classifier': 'SVM', 'C': 0.3006336238963452, 'kernel': 'linear', 'gamma': 'auto'}. Best is trial 27 with value: 0.7895716945996275.\n",
            "[I 2025-09-17 09:58:24,920] Trial 55 finished with value: 0.7579143389199255 and parameters: {'classifier': 'GradientBoosting', 'n_estimators': 156, 'learning_rate': 0.04358180575496429, 'max_depth': 6, 'min_samples_split': 3, 'min_samples_leaf': 3}. Best is trial 27 with value: 0.7895716945996275.\n",
            "[I 2025-09-17 09:58:24,934] Trial 56 finished with value: 0.7113594040968342 and parameters: {'classifier': 'SVM', 'C': 0.13548068612915587, 'kernel': 'poly', 'gamma': 'auto'}. Best is trial 27 with value: 0.7895716945996275.\n",
            "[I 2025-09-17 09:58:24,958] Trial 57 finished with value: 0.7597765363128491 and parameters: {'classifier': 'SVM', 'C': 0.2686834267801105, 'kernel': 'rbf', 'gamma': 'scale'}. Best is trial 27 with value: 0.7895716945996275.\n",
            "[I 2025-09-17 09:58:24,975] Trial 58 finished with value: 0.7001862197392924 and parameters: {'classifier': 'SVM', 'C': 45.99507787655356, 'kernel': 'sigmoid', 'gamma': 'auto'}. Best is trial 27 with value: 0.7895716945996275.\n",
            "[I 2025-09-17 09:58:24,992] Trial 59 finished with value: 0.6741154562383612 and parameters: {'classifier': 'SVM', 'C': 13.737371247578299, 'kernel': 'sigmoid', 'gamma': 'auto'}. Best is trial 27 with value: 0.7895716945996275.\n",
            "[I 2025-09-17 09:58:25,007] Trial 60 finished with value: 0.7858472998137803 and parameters: {'classifier': 'SVM', 'C': 0.6283997766778039, 'kernel': 'linear', 'gamma': 'auto'}. Best is trial 27 with value: 0.7895716945996275.\n",
            "[I 2025-09-17 09:58:25,027] Trial 61 finished with value: 0.7895716945996275 and parameters: {'classifier': 'SVM', 'C': 0.1512108875893507, 'kernel': 'linear', 'gamma': 'auto'}. Best is trial 27 with value: 0.7895716945996275.\n",
            "[I 2025-09-17 09:58:25,045] Trial 62 finished with value: 0.7895716945996275 and parameters: {'classifier': 'SVM', 'C': 0.14300580658040093, 'kernel': 'linear', 'gamma': 'auto'}. Best is trial 27 with value: 0.7895716945996275.\n",
            "[I 2025-09-17 09:58:25,060] Trial 63 finished with value: 0.7113594040968342 and parameters: {'classifier': 'SVM', 'C': 0.13447939916592827, 'kernel': 'poly', 'gamma': 'auto'}. Best is trial 27 with value: 0.7895716945996275.\n",
            "[I 2025-09-17 09:58:25,074] Trial 64 finished with value: 0.7858472998137803 and parameters: {'classifier': 'SVM', 'C': 0.19922748741332047, 'kernel': 'linear', 'gamma': 'scale'}. Best is trial 27 with value: 0.7895716945996275.\n",
            "[I 2025-09-17 09:58:25,088] Trial 65 finished with value: 0.7877094972067038 and parameters: {'classifier': 'SVM', 'C': 0.10060998957575128, 'kernel': 'linear', 'gamma': 'auto'}. Best is trial 27 with value: 0.7895716945996275.\n",
            "[I 2025-09-17 09:58:25,836] Trial 66 finished with value: 0.7467411545623835 and parameters: {'classifier': 'GradientBoosting', 'n_estimators': 76, 'learning_rate': 0.24311524713049493, 'max_depth': 14, 'min_samples_split': 3, 'min_samples_leaf': 4}. Best is trial 27 with value: 0.7895716945996275.\n",
            "[I 2025-09-17 09:58:25,857] Trial 67 finished with value: 0.7839851024208566 and parameters: {'classifier': 'SVM', 'C': 0.39625840405931895, 'kernel': 'linear', 'gamma': 'auto'}. Best is trial 27 with value: 0.7895716945996275.\n",
            "[I 2025-09-17 09:58:25,873] Trial 68 finished with value: 0.7895716945996275 and parameters: {'classifier': 'SVM', 'C': 0.13289259878181867, 'kernel': 'linear', 'gamma': 'auto'}. Best is trial 27 with value: 0.7895716945996275.\n",
            "[I 2025-09-17 09:58:25,886] Trial 69 finished with value: 0.7262569832402234 and parameters: {'classifier': 'SVM', 'C': 0.33190854752550025, 'kernel': 'poly', 'gamma': 'auto'}. Best is trial 27 with value: 0.7895716945996275.\n",
            "[I 2025-09-17 09:58:25,898] Trial 70 finished with value: 0.7858472998137803 and parameters: {'classifier': 'SVM', 'C': 0.22958101300506464, 'kernel': 'linear', 'gamma': 'scale'}. Best is trial 27 with value: 0.7895716945996275.\n",
            "[I 2025-09-17 09:58:25,919] Trial 71 finished with value: 0.7895716945996275 and parameters: {'classifier': 'SVM', 'C': 0.13418846618909175, 'kernel': 'linear', 'gamma': 'auto'}. Best is trial 27 with value: 0.7895716945996275.\n",
            "[I 2025-09-17 09:58:25,938] Trial 72 finished with value: 0.7877094972067038 and parameters: {'classifier': 'SVM', 'C': 0.16781375785813757, 'kernel': 'linear', 'gamma': 'auto'}. Best is trial 27 with value: 0.7895716945996275.\n",
            "[I 2025-09-17 09:58:25,954] Trial 73 finished with value: 0.7877094972067038 and parameters: {'classifier': 'SVM', 'C': 0.1006849772466343, 'kernel': 'linear', 'gamma': 'auto'}. Best is trial 27 with value: 0.7895716945996275.\n",
            "[I 2025-09-17 09:58:25,975] Trial 74 finished with value: 0.7486033519553073 and parameters: {'classifier': 'SVM', 'C': 0.14365009007248483, 'kernel': 'rbf', 'gamma': 'auto'}. Best is trial 27 with value: 0.7895716945996275.\n",
            "[I 2025-09-17 09:58:25,998] Trial 75 finished with value: 0.7858472998137801 and parameters: {'classifier': 'SVM', 'C': 2.3234586563901773, 'kernel': 'linear', 'gamma': 'auto'}. Best is trial 27 with value: 0.7895716945996275.\n",
            "[I 2025-09-17 09:58:26,011] Trial 76 finished with value: 0.7858472998137803 and parameters: {'classifier': 'SVM', 'C': 0.22182007322357253, 'kernel': 'linear', 'gamma': 'auto'}. Best is trial 27 with value: 0.7895716945996275.\n",
            "[I 2025-09-17 09:58:26,023] Trial 77 finished with value: 0.7895716945996275 and parameters: {'classifier': 'SVM', 'C': 0.12227126790675147, 'kernel': 'linear', 'gamma': 'auto'}. Best is trial 27 with value: 0.7895716945996275.\n",
            "[I 2025-09-17 09:58:26,038] Trial 78 finished with value: 0.7877094972067038 and parameters: {'classifier': 'SVM', 'C': 0.17954810634388274, 'kernel': 'linear', 'gamma': 'auto'}. Best is trial 27 with value: 0.7895716945996275.\n",
            "[I 2025-09-17 09:58:27,001] Trial 79 finished with value: 0.7467411545623835 and parameters: {'classifier': 'GradientBoosting', 'n_estimators': 142, 'learning_rate': 0.0816189614405504, 'max_depth': 7, 'min_samples_split': 5, 'min_samples_leaf': 2}. Best is trial 27 with value: 0.7895716945996275.\n",
            "[I 2025-09-17 09:58:27,016] Trial 80 finished with value: 0.7858472998137803 and parameters: {'classifier': 'SVM', 'C': 0.24875738171891218, 'kernel': 'linear', 'gamma': 'auto'}. Best is trial 27 with value: 0.7895716945996275.\n",
            "[I 2025-09-17 09:58:27,029] Trial 81 finished with value: 0.7877094972067038 and parameters: {'classifier': 'SVM', 'C': 0.1612270216696278, 'kernel': 'linear', 'gamma': 'auto'}. Best is trial 27 with value: 0.7895716945996275.\n",
            "[I 2025-09-17 09:58:27,045] Trial 82 finished with value: 0.7895716945996275 and parameters: {'classifier': 'SVM', 'C': 0.12304444702973437, 'kernel': 'linear', 'gamma': 'auto'}. Best is trial 27 with value: 0.7895716945996275.\n",
            "[I 2025-09-17 09:58:27,061] Trial 83 finished with value: 0.7877094972067038 and parameters: {'classifier': 'SVM', 'C': 0.18029948358572193, 'kernel': 'linear', 'gamma': 'auto'}. Best is trial 27 with value: 0.7895716945996275.\n",
            "[I 2025-09-17 09:58:27,074] Trial 84 finished with value: 0.7877094972067038 and parameters: {'classifier': 'SVM', 'C': 0.1003649379811118, 'kernel': 'linear', 'gamma': 'auto'}. Best is trial 27 with value: 0.7895716945996275.\n",
            "[I 2025-09-17 09:58:27,096] Trial 85 finished with value: 0.7858472998137803 and parameters: {'classifier': 'SVM', 'C': 0.3053803830211722, 'kernel': 'linear', 'gamma': 'auto'}. Best is trial 27 with value: 0.7895716945996275.\n",
            "[I 2025-09-17 09:58:27,114] Trial 86 finished with value: 0.7746741154562384 and parameters: {'classifier': 'SVM', 'C': 0.1998224722975289, 'kernel': 'sigmoid', 'gamma': 'auto'}. Best is trial 27 with value: 0.7895716945996275.\n",
            "[I 2025-09-17 09:58:27,130] Trial 87 finished with value: 0.7895716945996275 and parameters: {'classifier': 'SVM', 'C': 0.1274458035722904, 'kernel': 'linear', 'gamma': 'auto'}. Best is trial 27 with value: 0.7895716945996275.\n",
            "[I 2025-09-17 09:58:27,144] Trial 88 finished with value: 0.7839851024208566 and parameters: {'classifier': 'SVM', 'C': 0.4569792649891484, 'kernel': 'linear', 'gamma': 'scale'}. Best is trial 27 with value: 0.7895716945996275.\n",
            "[I 2025-09-17 09:58:27,161] Trial 89 finished with value: 0.7541899441340782 and parameters: {'classifier': 'SVM', 'C': 0.16266684946160415, 'kernel': 'rbf', 'gamma': 'auto'}. Best is trial 27 with value: 0.7895716945996275.\n",
            "[I 2025-09-17 09:58:27,174] Trial 90 finished with value: 0.7858472998137803 and parameters: {'classifier': 'SVM', 'C': 0.2689485842825312, 'kernel': 'linear', 'gamma': 'auto'}. Best is trial 27 with value: 0.7895716945996275.\n",
            "[I 2025-09-17 09:58:27,184] Trial 91 finished with value: 0.7895716945996275 and parameters: {'classifier': 'SVM', 'C': 0.1226535785621156, 'kernel': 'linear', 'gamma': 'auto'}. Best is trial 27 with value: 0.7895716945996275.\n",
            "[I 2025-09-17 09:58:27,200] Trial 92 finished with value: 0.7877094972067038 and parameters: {'classifier': 'SVM', 'C': 0.15666400444395984, 'kernel': 'linear', 'gamma': 'auto'}. Best is trial 27 with value: 0.7895716945996275.\n",
            "[I 2025-09-17 09:58:27,213] Trial 93 finished with value: 0.7895716945996275 and parameters: {'classifier': 'SVM', 'C': 0.12496897033735213, 'kernel': 'linear', 'gamma': 'auto'}. Best is trial 27 with value: 0.7895716945996275.\n",
            "[I 2025-09-17 09:58:27,224] Trial 94 finished with value: 0.7858472998137803 and parameters: {'classifier': 'SVM', 'C': 0.2075793518267295, 'kernel': 'linear', 'gamma': 'auto'}. Best is trial 27 with value: 0.7895716945996275.\n",
            "[I 2025-09-17 09:58:27,254] Trial 95 finished with value: 0.7858472998137801 and parameters: {'classifier': 'SVM', 'C': 8.139043087960994, 'kernel': 'linear', 'gamma': 'auto'}. Best is trial 27 with value: 0.7895716945996275.\n",
            "[I 2025-09-17 09:58:29,045] Trial 96 finished with value: 0.7355679702048418 and parameters: {'classifier': 'GradientBoosting', 'n_estimators': 190, 'learning_rate': 0.025380363361123537, 'max_depth': 19, 'min_samples_split': 3, 'min_samples_leaf': 4}. Best is trial 27 with value: 0.7895716945996275.\n",
            "[I 2025-09-17 09:58:29,057] Trial 97 finished with value: 0.7094972067039107 and parameters: {'classifier': 'SVM', 'C': 0.11667345127879414, 'kernel': 'poly', 'gamma': 'auto'}. Best is trial 27 with value: 0.7895716945996275.\n",
            "[I 2025-09-17 09:58:29,071] Trial 98 finished with value: 0.7877094972067038 and parameters: {'classifier': 'SVM', 'C': 0.15611998604104396, 'kernel': 'linear', 'gamma': 'auto'}. Best is trial 27 with value: 0.7895716945996275.\n",
            "[I 2025-09-17 09:58:29,083] Trial 99 finished with value: 0.7858472998137803 and parameters: {'classifier': 'SVM', 'C': 0.20819677954084354, 'kernel': 'linear', 'gamma': 'auto'}. Best is trial 27 with value: 0.7895716945996275.\n"
          ]
        }
      ],
      "source": [
        "# Create a study and optimize it using CmaEsSampler\n",
        "study = optuna.create_study(direction='maximize')\n",
        "study.optimize(objective, n_trials=100)"
      ]
    },
    {
      "cell_type": "code",
      "execution_count": 26,
      "metadata": {
        "colab": {
          "base_uri": "https://localhost:8080/"
        },
        "id": "jLNRO9POBzbW",
        "outputId": "769a9cdf-dc13-4093-b029-875536452690"
      },
      "outputs": [
        {
          "name": "stdout",
          "output_type": "stream",
          "text": [
            "Best trial parameters: {'classifier': 'SVM', 'C': 0.12045722121878354, 'kernel': 'linear', 'gamma': 'auto'}\n",
            "Best trial accuracy: 0.7895716945996275\n"
          ]
        }
      ],
      "source": [
        "# Retrieve the best trial\n",
        "best_trial = study.best_trial\n",
        "print(\"Best trial parameters:\", best_trial.params)\n",
        "print(\"Best trial accuracy:\", best_trial.value)"
      ]
    },
    {
      "cell_type": "code",
      "execution_count": 27,
      "metadata": {
        "colab": {
          "base_uri": "https://localhost:8080/",
          "height": 617
        },
        "id": "QD74lBzvB6Q5",
        "outputId": "d9f3eb63-ce25-4c56-db57-211ac8e3c85b"
      },
      "outputs": [
        {
          "data": {
            "text/html": [
              "<div>\n",
              "<style scoped>\n",
              "    .dataframe tbody tr th:only-of-type {\n",
              "        vertical-align: middle;\n",
              "    }\n",
              "\n",
              "    .dataframe tbody tr th {\n",
              "        vertical-align: top;\n",
              "    }\n",
              "\n",
              "    .dataframe thead th {\n",
              "        text-align: right;\n",
              "    }\n",
              "</style>\n",
              "<table border=\"1\" class=\"dataframe\">\n",
              "  <thead>\n",
              "    <tr style=\"text-align: right;\">\n",
              "      <th></th>\n",
              "      <th>number</th>\n",
              "      <th>value</th>\n",
              "      <th>datetime_start</th>\n",
              "      <th>datetime_complete</th>\n",
              "      <th>duration</th>\n",
              "      <th>params_C</th>\n",
              "      <th>params_bootstrap</th>\n",
              "      <th>params_classifier</th>\n",
              "      <th>params_gamma</th>\n",
              "      <th>params_kernel</th>\n",
              "      <th>params_learning_rate</th>\n",
              "      <th>params_max_depth</th>\n",
              "      <th>params_min_samples_leaf</th>\n",
              "      <th>params_min_samples_split</th>\n",
              "      <th>params_n_estimators</th>\n",
              "      <th>state</th>\n",
              "    </tr>\n",
              "  </thead>\n",
              "  <tbody>\n",
              "    <tr>\n",
              "      <th>0</th>\n",
              "      <td>0</td>\n",
              "      <td>0.782123</td>\n",
              "      <td>2025-09-17 09:58:10.789060</td>\n",
              "      <td>2025-09-17 09:58:10.935418</td>\n",
              "      <td>0 days 00:00:00.146358</td>\n",
              "      <td>NaN</td>\n",
              "      <td>False</td>\n",
              "      <td>RandomForest</td>\n",
              "      <td>NaN</td>\n",
              "      <td>NaN</td>\n",
              "      <td>NaN</td>\n",
              "      <td>18.0</td>\n",
              "      <td>9.0</td>\n",
              "      <td>9.0</td>\n",
              "      <td>66.0</td>\n",
              "      <td>COMPLETE</td>\n",
              "    </tr>\n",
              "    <tr>\n",
              "      <th>1</th>\n",
              "      <td>1</td>\n",
              "      <td>0.702048</td>\n",
              "      <td>2025-09-17 09:58:10.935418</td>\n",
              "      <td>2025-09-17 09:58:10.950260</td>\n",
              "      <td>0 days 00:00:00.014842</td>\n",
              "      <td>12.826413</td>\n",
              "      <td>NaN</td>\n",
              "      <td>SVM</td>\n",
              "      <td>auto</td>\n",
              "      <td>sigmoid</td>\n",
              "      <td>NaN</td>\n",
              "      <td>NaN</td>\n",
              "      <td>NaN</td>\n",
              "      <td>NaN</td>\n",
              "      <td>NaN</td>\n",
              "      <td>COMPLETE</td>\n",
              "    </tr>\n",
              "    <tr>\n",
              "      <th>2</th>\n",
              "      <td>2</td>\n",
              "      <td>0.741155</td>\n",
              "      <td>2025-09-17 09:58:10.952043</td>\n",
              "      <td>2025-09-17 09:58:11.343980</td>\n",
              "      <td>0 days 00:00:00.391937</td>\n",
              "      <td>NaN</td>\n",
              "      <td>NaN</td>\n",
              "      <td>GradientBoosting</td>\n",
              "      <td>NaN</td>\n",
              "      <td>NaN</td>\n",
              "      <td>0.166430</td>\n",
              "      <td>8.0</td>\n",
              "      <td>10.0</td>\n",
              "      <td>9.0</td>\n",
              "      <td>80.0</td>\n",
              "      <td>COMPLETE</td>\n",
              "    </tr>\n",
              "    <tr>\n",
              "      <th>3</th>\n",
              "      <td>3</td>\n",
              "      <td>0.743017</td>\n",
              "      <td>2025-09-17 09:58:11.344568</td>\n",
              "      <td>2025-09-17 09:58:11.354605</td>\n",
              "      <td>0 days 00:00:00.010037</td>\n",
              "      <td>0.497459</td>\n",
              "      <td>NaN</td>\n",
              "      <td>SVM</td>\n",
              "      <td>auto</td>\n",
              "      <td>poly</td>\n",
              "      <td>NaN</td>\n",
              "      <td>NaN</td>\n",
              "      <td>NaN</td>\n",
              "      <td>NaN</td>\n",
              "      <td>NaN</td>\n",
              "      <td>COMPLETE</td>\n",
              "    </tr>\n",
              "    <tr>\n",
              "      <th>4</th>\n",
              "      <td>4</td>\n",
              "      <td>0.744879</td>\n",
              "      <td>2025-09-17 09:58:11.354605</td>\n",
              "      <td>2025-09-17 09:58:12.095458</td>\n",
              "      <td>0 days 00:00:00.740853</td>\n",
              "      <td>NaN</td>\n",
              "      <td>NaN</td>\n",
              "      <td>GradientBoosting</td>\n",
              "      <td>NaN</td>\n",
              "      <td>NaN</td>\n",
              "      <td>0.012078</td>\n",
              "      <td>9.0</td>\n",
              "      <td>2.0</td>\n",
              "      <td>7.0</td>\n",
              "      <td>91.0</td>\n",
              "      <td>COMPLETE</td>\n",
              "    </tr>\n",
              "    <tr>\n",
              "      <th>...</th>\n",
              "      <td>...</td>\n",
              "      <td>...</td>\n",
              "      <td>...</td>\n",
              "      <td>...</td>\n",
              "      <td>...</td>\n",
              "      <td>...</td>\n",
              "      <td>...</td>\n",
              "      <td>...</td>\n",
              "      <td>...</td>\n",
              "      <td>...</td>\n",
              "      <td>...</td>\n",
              "      <td>...</td>\n",
              "      <td>...</td>\n",
              "      <td>...</td>\n",
              "      <td>...</td>\n",
              "      <td>...</td>\n",
              "    </tr>\n",
              "    <tr>\n",
              "      <th>95</th>\n",
              "      <td>95</td>\n",
              "      <td>0.785847</td>\n",
              "      <td>2025-09-17 09:58:27.224592</td>\n",
              "      <td>2025-09-17 09:58:27.254335</td>\n",
              "      <td>0 days 00:00:00.029743</td>\n",
              "      <td>8.139043</td>\n",
              "      <td>NaN</td>\n",
              "      <td>SVM</td>\n",
              "      <td>auto</td>\n",
              "      <td>linear</td>\n",
              "      <td>NaN</td>\n",
              "      <td>NaN</td>\n",
              "      <td>NaN</td>\n",
              "      <td>NaN</td>\n",
              "      <td>NaN</td>\n",
              "      <td>COMPLETE</td>\n",
              "    </tr>\n",
              "    <tr>\n",
              "      <th>96</th>\n",
              "      <td>96</td>\n",
              "      <td>0.735568</td>\n",
              "      <td>2025-09-17 09:58:27.257284</td>\n",
              "      <td>2025-09-17 09:58:29.045171</td>\n",
              "      <td>0 days 00:00:01.787887</td>\n",
              "      <td>NaN</td>\n",
              "      <td>NaN</td>\n",
              "      <td>GradientBoosting</td>\n",
              "      <td>NaN</td>\n",
              "      <td>NaN</td>\n",
              "      <td>0.025380</td>\n",
              "      <td>19.0</td>\n",
              "      <td>4.0</td>\n",
              "      <td>3.0</td>\n",
              "      <td>190.0</td>\n",
              "      <td>COMPLETE</td>\n",
              "    </tr>\n",
              "    <tr>\n",
              "      <th>97</th>\n",
              "      <td>97</td>\n",
              "      <td>0.709497</td>\n",
              "      <td>2025-09-17 09:58:29.045171</td>\n",
              "      <td>2025-09-17 09:58:29.057396</td>\n",
              "      <td>0 days 00:00:00.012225</td>\n",
              "      <td>0.116673</td>\n",
              "      <td>NaN</td>\n",
              "      <td>SVM</td>\n",
              "      <td>auto</td>\n",
              "      <td>poly</td>\n",
              "      <td>NaN</td>\n",
              "      <td>NaN</td>\n",
              "      <td>NaN</td>\n",
              "      <td>NaN</td>\n",
              "      <td>NaN</td>\n",
              "      <td>COMPLETE</td>\n",
              "    </tr>\n",
              "    <tr>\n",
              "      <th>98</th>\n",
              "      <td>98</td>\n",
              "      <td>0.787709</td>\n",
              "      <td>2025-09-17 09:58:29.057396</td>\n",
              "      <td>2025-09-17 09:58:29.071207</td>\n",
              "      <td>0 days 00:00:00.013811</td>\n",
              "      <td>0.156120</td>\n",
              "      <td>NaN</td>\n",
              "      <td>SVM</td>\n",
              "      <td>auto</td>\n",
              "      <td>linear</td>\n",
              "      <td>NaN</td>\n",
              "      <td>NaN</td>\n",
              "      <td>NaN</td>\n",
              "      <td>NaN</td>\n",
              "      <td>NaN</td>\n",
              "      <td>COMPLETE</td>\n",
              "    </tr>\n",
              "    <tr>\n",
              "      <th>99</th>\n",
              "      <td>99</td>\n",
              "      <td>0.785847</td>\n",
              "      <td>2025-09-17 09:58:29.071207</td>\n",
              "      <td>2025-09-17 09:58:29.083302</td>\n",
              "      <td>0 days 00:00:00.012095</td>\n",
              "      <td>0.208197</td>\n",
              "      <td>NaN</td>\n",
              "      <td>SVM</td>\n",
              "      <td>auto</td>\n",
              "      <td>linear</td>\n",
              "      <td>NaN</td>\n",
              "      <td>NaN</td>\n",
              "      <td>NaN</td>\n",
              "      <td>NaN</td>\n",
              "      <td>NaN</td>\n",
              "      <td>COMPLETE</td>\n",
              "    </tr>\n",
              "  </tbody>\n",
              "</table>\n",
              "<p>100 rows × 16 columns</p>\n",
              "</div>"
            ],
            "text/plain": [
              "    number     value             datetime_start          datetime_complete  \\\n",
              "0        0  0.782123 2025-09-17 09:58:10.789060 2025-09-17 09:58:10.935418   \n",
              "1        1  0.702048 2025-09-17 09:58:10.935418 2025-09-17 09:58:10.950260   \n",
              "2        2  0.741155 2025-09-17 09:58:10.952043 2025-09-17 09:58:11.343980   \n",
              "3        3  0.743017 2025-09-17 09:58:11.344568 2025-09-17 09:58:11.354605   \n",
              "4        4  0.744879 2025-09-17 09:58:11.354605 2025-09-17 09:58:12.095458   \n",
              "..     ...       ...                        ...                        ...   \n",
              "95      95  0.785847 2025-09-17 09:58:27.224592 2025-09-17 09:58:27.254335   \n",
              "96      96  0.735568 2025-09-17 09:58:27.257284 2025-09-17 09:58:29.045171   \n",
              "97      97  0.709497 2025-09-17 09:58:29.045171 2025-09-17 09:58:29.057396   \n",
              "98      98  0.787709 2025-09-17 09:58:29.057396 2025-09-17 09:58:29.071207   \n",
              "99      99  0.785847 2025-09-17 09:58:29.071207 2025-09-17 09:58:29.083302   \n",
              "\n",
              "                 duration   params_C params_bootstrap params_classifier  \\\n",
              "0  0 days 00:00:00.146358        NaN            False      RandomForest   \n",
              "1  0 days 00:00:00.014842  12.826413              NaN               SVM   \n",
              "2  0 days 00:00:00.391937        NaN              NaN  GradientBoosting   \n",
              "3  0 days 00:00:00.010037   0.497459              NaN               SVM   \n",
              "4  0 days 00:00:00.740853        NaN              NaN  GradientBoosting   \n",
              "..                    ...        ...              ...               ...   \n",
              "95 0 days 00:00:00.029743   8.139043              NaN               SVM   \n",
              "96 0 days 00:00:01.787887        NaN              NaN  GradientBoosting   \n",
              "97 0 days 00:00:00.012225   0.116673              NaN               SVM   \n",
              "98 0 days 00:00:00.013811   0.156120              NaN               SVM   \n",
              "99 0 days 00:00:00.012095   0.208197              NaN               SVM   \n",
              "\n",
              "   params_gamma params_kernel  params_learning_rate  params_max_depth  \\\n",
              "0           NaN           NaN                   NaN              18.0   \n",
              "1          auto       sigmoid                   NaN               NaN   \n",
              "2           NaN           NaN              0.166430               8.0   \n",
              "3          auto          poly                   NaN               NaN   \n",
              "4           NaN           NaN              0.012078               9.0   \n",
              "..          ...           ...                   ...               ...   \n",
              "95         auto        linear                   NaN               NaN   \n",
              "96          NaN           NaN              0.025380              19.0   \n",
              "97         auto          poly                   NaN               NaN   \n",
              "98         auto        linear                   NaN               NaN   \n",
              "99         auto        linear                   NaN               NaN   \n",
              "\n",
              "    params_min_samples_leaf  params_min_samples_split  params_n_estimators  \\\n",
              "0                       9.0                       9.0                 66.0   \n",
              "1                       NaN                       NaN                  NaN   \n",
              "2                      10.0                       9.0                 80.0   \n",
              "3                       NaN                       NaN                  NaN   \n",
              "4                       2.0                       7.0                 91.0   \n",
              "..                      ...                       ...                  ...   \n",
              "95                      NaN                       NaN                  NaN   \n",
              "96                      4.0                       3.0                190.0   \n",
              "97                      NaN                       NaN                  NaN   \n",
              "98                      NaN                       NaN                  NaN   \n",
              "99                      NaN                       NaN                  NaN   \n",
              "\n",
              "       state  \n",
              "0   COMPLETE  \n",
              "1   COMPLETE  \n",
              "2   COMPLETE  \n",
              "3   COMPLETE  \n",
              "4   COMPLETE  \n",
              "..       ...  \n",
              "95  COMPLETE  \n",
              "96  COMPLETE  \n",
              "97  COMPLETE  \n",
              "98  COMPLETE  \n",
              "99  COMPLETE  \n",
              "\n",
              "[100 rows x 16 columns]"
            ]
          },
          "execution_count": 27,
          "metadata": {},
          "output_type": "execute_result"
        }
      ],
      "source": [
        "study.trials_dataframe()"
      ]
    },
    {
      "cell_type": "code",
      "execution_count": 28,
      "metadata": {
        "colab": {
          "base_uri": "https://localhost:8080/",
          "height": 209
        },
        "id": "FYO7J-SXB9MY",
        "outputId": "d818d28e-f179-4168-f40a-7d3d889759db"
      },
      "outputs": [
        {
          "data": {
            "text/plain": [
              "params_classifier\n",
              "SVM                 71\n",
              "RandomForest        19\n",
              "GradientBoosting    10\n",
              "Name: count, dtype: int64"
            ]
          },
          "execution_count": 28,
          "metadata": {},
          "output_type": "execute_result"
        }
      ],
      "source": [
        "study.trials_dataframe()['params_classifier'].value_counts()"
      ]
    },
    {
      "cell_type": "code",
      "execution_count": 29,
      "metadata": {
        "colab": {
          "base_uri": "https://localhost:8080/",
          "height": 209
        },
        "id": "miKGSOCDCIpc",
        "outputId": "df94e173-cc52-44a1-8a1e-04632cc171e7"
      },
      "outputs": [
        {
          "data": {
            "text/plain": [
              "params_classifier\n",
              "GradientBoosting    0.750279\n",
              "RandomForest        0.768892\n",
              "SVM                 0.774412\n",
              "Name: value, dtype: float64"
            ]
          },
          "execution_count": 29,
          "metadata": {},
          "output_type": "execute_result"
        }
      ],
      "source": [
        "study.trials_dataframe().groupby('params_classifier')['value'].mean()"
      ]
    },
    {
      "cell_type": "code",
      "execution_count": 30,
      "metadata": {
        "colab": {
          "base_uri": "https://localhost:8080/",
          "height": 542
        },
        "id": "a2-8K8--CiJS",
        "outputId": "a62afda2-4faf-45e4-daf7-1f5357d0ed2c"
      },
      "outputs": [
        {
          "data": {
            "application/vnd.plotly.v1+json": {
              "config": {
                "plotlyServerURL": "https://plot.ly"
              },
              "data": [
                {
                  "mode": "markers",
                  "name": "Objective Value",
                  "type": "scatter",
                  "x": [
                    0,
                    1,
                    2,
                    3,
                    4,
                    5,
                    6,
                    7,
                    8,
                    9,
                    10,
                    11,
                    12,
                    13,
                    14,
                    15,
                    16,
                    17,
                    18,
                    19,
                    20,
                    21,
                    22,
                    23,
                    24,
                    25,
                    26,
                    27,
                    28,
                    29,
                    30,
                    31,
                    32,
                    33,
                    34,
                    35,
                    36,
                    37,
                    38,
                    39,
                    40,
                    41,
                    42,
                    43,
                    44,
                    45,
                    46,
                    47,
                    48,
                    49,
                    50,
                    51,
                    52,
                    53,
                    54,
                    55,
                    56,
                    57,
                    58,
                    59,
                    60,
                    61,
                    62,
                    63,
                    64,
                    65,
                    66,
                    67,
                    68,
                    69,
                    70,
                    71,
                    72,
                    73,
                    74,
                    75,
                    76,
                    77,
                    78,
                    79,
                    80,
                    81,
                    82,
                    83,
                    84,
                    85,
                    86,
                    87,
                    88,
                    89,
                    90,
                    91,
                    92,
                    93,
                    94,
                    95,
                    96,
                    97,
                    98,
                    99
                  ],
                  "y": [
                    0.7821229050279329,
                    0.702048417132216,
                    0.7411545623836128,
                    0.7430167597765364,
                    0.74487895716946,
                    0.7635009310986964,
                    0.7579143389199254,
                    0.7541899441340782,
                    0.7653631284916201,
                    0.7374301675977654,
                    0.7690875232774674,
                    0.7672253258845437,
                    0.7690875232774674,
                    0.7728119180633147,
                    0.7690875232774674,
                    0.7541899441340781,
                    0.7746741154562384,
                    0.7746741154562384,
                    0.7709497206703911,
                    0.7113594040968342,
                    0.7635009310986964,
                    0.7765363128491621,
                    0.7765363128491621,
                    0.7635009310986964,
                    0.7746741154562384,
                    0.7746741154562384,
                    0.7541899441340781,
                    0.7895716945996275,
                    0.7895716945996275,
                    0.7877094972067038,
                    0.7895716945996275,
                    0.7895716945996275,
                    0.7895716945996275,
                    0.7877094972067038,
                    0.7821229050279329,
                    0.7858472998137803,
                    0.7839851024208566,
                    0.7858472998137803,
                    0.7839851024208566,
                    0.7877094972067038,
                    0.7616387337057727,
                    0.7877094972067038,
                    0.7877094972067038,
                    0.7467411545623835,
                    0.7858472998137803,
                    0.7597765363128492,
                    0.7877094972067038,
                    0.7635009310986964,
                    0.7839851024208566,
                    0.7858472998137801,
                    0.7839851024208566,
                    0.7895716945996275,
                    0.7895716945996275,
                    0.7895716945996275,
                    0.7858472998137803,
                    0.7579143389199255,
                    0.7113594040968342,
                    0.7597765363128491,
                    0.7001862197392924,
                    0.6741154562383612,
                    0.7858472998137803,
                    0.7895716945996275,
                    0.7895716945996275,
                    0.7113594040968342,
                    0.7858472998137803,
                    0.7877094972067038,
                    0.7467411545623835,
                    0.7839851024208566,
                    0.7895716945996275,
                    0.7262569832402234,
                    0.7858472998137803,
                    0.7895716945996275,
                    0.7877094972067038,
                    0.7877094972067038,
                    0.7486033519553073,
                    0.7858472998137801,
                    0.7858472998137803,
                    0.7895716945996275,
                    0.7877094972067038,
                    0.7467411545623835,
                    0.7858472998137803,
                    0.7877094972067038,
                    0.7895716945996275,
                    0.7877094972067038,
                    0.7877094972067038,
                    0.7858472998137803,
                    0.7746741154562384,
                    0.7895716945996275,
                    0.7839851024208566,
                    0.7541899441340782,
                    0.7858472998137803,
                    0.7895716945996275,
                    0.7877094972067038,
                    0.7895716945996275,
                    0.7858472998137803,
                    0.7858472998137801,
                    0.7355679702048418,
                    0.7094972067039107,
                    0.7877094972067038,
                    0.7858472998137803
                  ]
                },
                {
                  "mode": "lines",
                  "name": "Best Value",
                  "type": "scatter",
                  "x": [
                    0,
                    1,
                    2,
                    3,
                    4,
                    5,
                    6,
                    7,
                    8,
                    9,
                    10,
                    11,
                    12,
                    13,
                    14,
                    15,
                    16,
                    17,
                    18,
                    19,
                    20,
                    21,
                    22,
                    23,
                    24,
                    25,
                    26,
                    27,
                    28,
                    29,
                    30,
                    31,
                    32,
                    33,
                    34,
                    35,
                    36,
                    37,
                    38,
                    39,
                    40,
                    41,
                    42,
                    43,
                    44,
                    45,
                    46,
                    47,
                    48,
                    49,
                    50,
                    51,
                    52,
                    53,
                    54,
                    55,
                    56,
                    57,
                    58,
                    59,
                    60,
                    61,
                    62,
                    63,
                    64,
                    65,
                    66,
                    67,
                    68,
                    69,
                    70,
                    71,
                    72,
                    73,
                    74,
                    75,
                    76,
                    77,
                    78,
                    79,
                    80,
                    81,
                    82,
                    83,
                    84,
                    85,
                    86,
                    87,
                    88,
                    89,
                    90,
                    91,
                    92,
                    93,
                    94,
                    95,
                    96,
                    97,
                    98,
                    99
                  ],
                  "y": [
                    0.7821229050279329,
                    0.7821229050279329,
                    0.7821229050279329,
                    0.7821229050279329,
                    0.7821229050279329,
                    0.7821229050279329,
                    0.7821229050279329,
                    0.7821229050279329,
                    0.7821229050279329,
                    0.7821229050279329,
                    0.7821229050279329,
                    0.7821229050279329,
                    0.7821229050279329,
                    0.7821229050279329,
                    0.7821229050279329,
                    0.7821229050279329,
                    0.7821229050279329,
                    0.7821229050279329,
                    0.7821229050279329,
                    0.7821229050279329,
                    0.7821229050279329,
                    0.7821229050279329,
                    0.7821229050279329,
                    0.7821229050279329,
                    0.7821229050279329,
                    0.7821229050279329,
                    0.7821229050279329,
                    0.7895716945996275,
                    0.7895716945996275,
                    0.7895716945996275,
                    0.7895716945996275,
                    0.7895716945996275,
                    0.7895716945996275,
                    0.7895716945996275,
                    0.7895716945996275,
                    0.7895716945996275,
                    0.7895716945996275,
                    0.7895716945996275,
                    0.7895716945996275,
                    0.7895716945996275,
                    0.7895716945996275,
                    0.7895716945996275,
                    0.7895716945996275,
                    0.7895716945996275,
                    0.7895716945996275,
                    0.7895716945996275,
                    0.7895716945996275,
                    0.7895716945996275,
                    0.7895716945996275,
                    0.7895716945996275,
                    0.7895716945996275,
                    0.7895716945996275,
                    0.7895716945996275,
                    0.7895716945996275,
                    0.7895716945996275,
                    0.7895716945996275,
                    0.7895716945996275,
                    0.7895716945996275,
                    0.7895716945996275,
                    0.7895716945996275,
                    0.7895716945996275,
                    0.7895716945996275,
                    0.7895716945996275,
                    0.7895716945996275,
                    0.7895716945996275,
                    0.7895716945996275,
                    0.7895716945996275,
                    0.7895716945996275,
                    0.7895716945996275,
                    0.7895716945996275,
                    0.7895716945996275,
                    0.7895716945996275,
                    0.7895716945996275,
                    0.7895716945996275,
                    0.7895716945996275,
                    0.7895716945996275,
                    0.7895716945996275,
                    0.7895716945996275,
                    0.7895716945996275,
                    0.7895716945996275,
                    0.7895716945996275,
                    0.7895716945996275,
                    0.7895716945996275,
                    0.7895716945996275,
                    0.7895716945996275,
                    0.7895716945996275,
                    0.7895716945996275,
                    0.7895716945996275,
                    0.7895716945996275,
                    0.7895716945996275,
                    0.7895716945996275,
                    0.7895716945996275,
                    0.7895716945996275,
                    0.7895716945996275,
                    0.7895716945996275,
                    0.7895716945996275,
                    0.7895716945996275,
                    0.7895716945996275,
                    0.7895716945996275,
                    0.7895716945996275
                  ]
                },
                {
                  "marker": {
                    "color": "#cccccc"
                  },
                  "mode": "markers",
                  "name": "Infeasible Trial",
                  "showlegend": false,
                  "type": "scatter",
                  "x": [],
                  "y": []
                }
              ],
              "layout": {
                "template": {
                  "data": {
                    "bar": [
                      {
                        "error_x": {
                          "color": "#2a3f5f"
                        },
                        "error_y": {
                          "color": "#2a3f5f"
                        },
                        "marker": {
                          "line": {
                            "color": "#E5ECF6",
                            "width": 0.5
                          },
                          "pattern": {
                            "fillmode": "overlay",
                            "size": 10,
                            "solidity": 0.2
                          }
                        },
                        "type": "bar"
                      }
                    ],
                    "barpolar": [
                      {
                        "marker": {
                          "line": {
                            "color": "#E5ECF6",
                            "width": 0.5
                          },
                          "pattern": {
                            "fillmode": "overlay",
                            "size": 10,
                            "solidity": 0.2
                          }
                        },
                        "type": "barpolar"
                      }
                    ],
                    "carpet": [
                      {
                        "aaxis": {
                          "endlinecolor": "#2a3f5f",
                          "gridcolor": "white",
                          "linecolor": "white",
                          "minorgridcolor": "white",
                          "startlinecolor": "#2a3f5f"
                        },
                        "baxis": {
                          "endlinecolor": "#2a3f5f",
                          "gridcolor": "white",
                          "linecolor": "white",
                          "minorgridcolor": "white",
                          "startlinecolor": "#2a3f5f"
                        },
                        "type": "carpet"
                      }
                    ],
                    "choropleth": [
                      {
                        "colorbar": {
                          "outlinewidth": 0,
                          "ticks": ""
                        },
                        "type": "choropleth"
                      }
                    ],
                    "contour": [
                      {
                        "colorbar": {
                          "outlinewidth": 0,
                          "ticks": ""
                        },
                        "colorscale": [
                          [
                            0,
                            "#0d0887"
                          ],
                          [
                            0.1111111111111111,
                            "#46039f"
                          ],
                          [
                            0.2222222222222222,
                            "#7201a8"
                          ],
                          [
                            0.3333333333333333,
                            "#9c179e"
                          ],
                          [
                            0.4444444444444444,
                            "#bd3786"
                          ],
                          [
                            0.5555555555555556,
                            "#d8576b"
                          ],
                          [
                            0.6666666666666666,
                            "#ed7953"
                          ],
                          [
                            0.7777777777777778,
                            "#fb9f3a"
                          ],
                          [
                            0.8888888888888888,
                            "#fdca26"
                          ],
                          [
                            1,
                            "#f0f921"
                          ]
                        ],
                        "type": "contour"
                      }
                    ],
                    "contourcarpet": [
                      {
                        "colorbar": {
                          "outlinewidth": 0,
                          "ticks": ""
                        },
                        "type": "contourcarpet"
                      }
                    ],
                    "heatmap": [
                      {
                        "colorbar": {
                          "outlinewidth": 0,
                          "ticks": ""
                        },
                        "colorscale": [
                          [
                            0,
                            "#0d0887"
                          ],
                          [
                            0.1111111111111111,
                            "#46039f"
                          ],
                          [
                            0.2222222222222222,
                            "#7201a8"
                          ],
                          [
                            0.3333333333333333,
                            "#9c179e"
                          ],
                          [
                            0.4444444444444444,
                            "#bd3786"
                          ],
                          [
                            0.5555555555555556,
                            "#d8576b"
                          ],
                          [
                            0.6666666666666666,
                            "#ed7953"
                          ],
                          [
                            0.7777777777777778,
                            "#fb9f3a"
                          ],
                          [
                            0.8888888888888888,
                            "#fdca26"
                          ],
                          [
                            1,
                            "#f0f921"
                          ]
                        ],
                        "type": "heatmap"
                      }
                    ],
                    "histogram": [
                      {
                        "marker": {
                          "pattern": {
                            "fillmode": "overlay",
                            "size": 10,
                            "solidity": 0.2
                          }
                        },
                        "type": "histogram"
                      }
                    ],
                    "histogram2d": [
                      {
                        "colorbar": {
                          "outlinewidth": 0,
                          "ticks": ""
                        },
                        "colorscale": [
                          [
                            0,
                            "#0d0887"
                          ],
                          [
                            0.1111111111111111,
                            "#46039f"
                          ],
                          [
                            0.2222222222222222,
                            "#7201a8"
                          ],
                          [
                            0.3333333333333333,
                            "#9c179e"
                          ],
                          [
                            0.4444444444444444,
                            "#bd3786"
                          ],
                          [
                            0.5555555555555556,
                            "#d8576b"
                          ],
                          [
                            0.6666666666666666,
                            "#ed7953"
                          ],
                          [
                            0.7777777777777778,
                            "#fb9f3a"
                          ],
                          [
                            0.8888888888888888,
                            "#fdca26"
                          ],
                          [
                            1,
                            "#f0f921"
                          ]
                        ],
                        "type": "histogram2d"
                      }
                    ],
                    "histogram2dcontour": [
                      {
                        "colorbar": {
                          "outlinewidth": 0,
                          "ticks": ""
                        },
                        "colorscale": [
                          [
                            0,
                            "#0d0887"
                          ],
                          [
                            0.1111111111111111,
                            "#46039f"
                          ],
                          [
                            0.2222222222222222,
                            "#7201a8"
                          ],
                          [
                            0.3333333333333333,
                            "#9c179e"
                          ],
                          [
                            0.4444444444444444,
                            "#bd3786"
                          ],
                          [
                            0.5555555555555556,
                            "#d8576b"
                          ],
                          [
                            0.6666666666666666,
                            "#ed7953"
                          ],
                          [
                            0.7777777777777778,
                            "#fb9f3a"
                          ],
                          [
                            0.8888888888888888,
                            "#fdca26"
                          ],
                          [
                            1,
                            "#f0f921"
                          ]
                        ],
                        "type": "histogram2dcontour"
                      }
                    ],
                    "mesh3d": [
                      {
                        "colorbar": {
                          "outlinewidth": 0,
                          "ticks": ""
                        },
                        "type": "mesh3d"
                      }
                    ],
                    "parcoords": [
                      {
                        "line": {
                          "colorbar": {
                            "outlinewidth": 0,
                            "ticks": ""
                          }
                        },
                        "type": "parcoords"
                      }
                    ],
                    "pie": [
                      {
                        "automargin": true,
                        "type": "pie"
                      }
                    ],
                    "scatter": [
                      {
                        "fillpattern": {
                          "fillmode": "overlay",
                          "size": 10,
                          "solidity": 0.2
                        },
                        "type": "scatter"
                      }
                    ],
                    "scatter3d": [
                      {
                        "line": {
                          "colorbar": {
                            "outlinewidth": 0,
                            "ticks": ""
                          }
                        },
                        "marker": {
                          "colorbar": {
                            "outlinewidth": 0,
                            "ticks": ""
                          }
                        },
                        "type": "scatter3d"
                      }
                    ],
                    "scattercarpet": [
                      {
                        "marker": {
                          "colorbar": {
                            "outlinewidth": 0,
                            "ticks": ""
                          }
                        },
                        "type": "scattercarpet"
                      }
                    ],
                    "scattergeo": [
                      {
                        "marker": {
                          "colorbar": {
                            "outlinewidth": 0,
                            "ticks": ""
                          }
                        },
                        "type": "scattergeo"
                      }
                    ],
                    "scattergl": [
                      {
                        "marker": {
                          "colorbar": {
                            "outlinewidth": 0,
                            "ticks": ""
                          }
                        },
                        "type": "scattergl"
                      }
                    ],
                    "scattermap": [
                      {
                        "marker": {
                          "colorbar": {
                            "outlinewidth": 0,
                            "ticks": ""
                          }
                        },
                        "type": "scattermap"
                      }
                    ],
                    "scattermapbox": [
                      {
                        "marker": {
                          "colorbar": {
                            "outlinewidth": 0,
                            "ticks": ""
                          }
                        },
                        "type": "scattermapbox"
                      }
                    ],
                    "scatterpolar": [
                      {
                        "marker": {
                          "colorbar": {
                            "outlinewidth": 0,
                            "ticks": ""
                          }
                        },
                        "type": "scatterpolar"
                      }
                    ],
                    "scatterpolargl": [
                      {
                        "marker": {
                          "colorbar": {
                            "outlinewidth": 0,
                            "ticks": ""
                          }
                        },
                        "type": "scatterpolargl"
                      }
                    ],
                    "scatterternary": [
                      {
                        "marker": {
                          "colorbar": {
                            "outlinewidth": 0,
                            "ticks": ""
                          }
                        },
                        "type": "scatterternary"
                      }
                    ],
                    "surface": [
                      {
                        "colorbar": {
                          "outlinewidth": 0,
                          "ticks": ""
                        },
                        "colorscale": [
                          [
                            0,
                            "#0d0887"
                          ],
                          [
                            0.1111111111111111,
                            "#46039f"
                          ],
                          [
                            0.2222222222222222,
                            "#7201a8"
                          ],
                          [
                            0.3333333333333333,
                            "#9c179e"
                          ],
                          [
                            0.4444444444444444,
                            "#bd3786"
                          ],
                          [
                            0.5555555555555556,
                            "#d8576b"
                          ],
                          [
                            0.6666666666666666,
                            "#ed7953"
                          ],
                          [
                            0.7777777777777778,
                            "#fb9f3a"
                          ],
                          [
                            0.8888888888888888,
                            "#fdca26"
                          ],
                          [
                            1,
                            "#f0f921"
                          ]
                        ],
                        "type": "surface"
                      }
                    ],
                    "table": [
                      {
                        "cells": {
                          "fill": {
                            "color": "#EBF0F8"
                          },
                          "line": {
                            "color": "white"
                          }
                        },
                        "header": {
                          "fill": {
                            "color": "#C8D4E3"
                          },
                          "line": {
                            "color": "white"
                          }
                        },
                        "type": "table"
                      }
                    ]
                  },
                  "layout": {
                    "annotationdefaults": {
                      "arrowcolor": "#2a3f5f",
                      "arrowhead": 0,
                      "arrowwidth": 1
                    },
                    "autotypenumbers": "strict",
                    "coloraxis": {
                      "colorbar": {
                        "outlinewidth": 0,
                        "ticks": ""
                      }
                    },
                    "colorscale": {
                      "diverging": [
                        [
                          0,
                          "#8e0152"
                        ],
                        [
                          0.1,
                          "#c51b7d"
                        ],
                        [
                          0.2,
                          "#de77ae"
                        ],
                        [
                          0.3,
                          "#f1b6da"
                        ],
                        [
                          0.4,
                          "#fde0ef"
                        ],
                        [
                          0.5,
                          "#f7f7f7"
                        ],
                        [
                          0.6,
                          "#e6f5d0"
                        ],
                        [
                          0.7,
                          "#b8e186"
                        ],
                        [
                          0.8,
                          "#7fbc41"
                        ],
                        [
                          0.9,
                          "#4d9221"
                        ],
                        [
                          1,
                          "#276419"
                        ]
                      ],
                      "sequential": [
                        [
                          0,
                          "#0d0887"
                        ],
                        [
                          0.1111111111111111,
                          "#46039f"
                        ],
                        [
                          0.2222222222222222,
                          "#7201a8"
                        ],
                        [
                          0.3333333333333333,
                          "#9c179e"
                        ],
                        [
                          0.4444444444444444,
                          "#bd3786"
                        ],
                        [
                          0.5555555555555556,
                          "#d8576b"
                        ],
                        [
                          0.6666666666666666,
                          "#ed7953"
                        ],
                        [
                          0.7777777777777778,
                          "#fb9f3a"
                        ],
                        [
                          0.8888888888888888,
                          "#fdca26"
                        ],
                        [
                          1,
                          "#f0f921"
                        ]
                      ],
                      "sequentialminus": [
                        [
                          0,
                          "#0d0887"
                        ],
                        [
                          0.1111111111111111,
                          "#46039f"
                        ],
                        [
                          0.2222222222222222,
                          "#7201a8"
                        ],
                        [
                          0.3333333333333333,
                          "#9c179e"
                        ],
                        [
                          0.4444444444444444,
                          "#bd3786"
                        ],
                        [
                          0.5555555555555556,
                          "#d8576b"
                        ],
                        [
                          0.6666666666666666,
                          "#ed7953"
                        ],
                        [
                          0.7777777777777778,
                          "#fb9f3a"
                        ],
                        [
                          0.8888888888888888,
                          "#fdca26"
                        ],
                        [
                          1,
                          "#f0f921"
                        ]
                      ]
                    },
                    "colorway": [
                      "#636efa",
                      "#EF553B",
                      "#00cc96",
                      "#ab63fa",
                      "#FFA15A",
                      "#19d3f3",
                      "#FF6692",
                      "#B6E880",
                      "#FF97FF",
                      "#FECB52"
                    ],
                    "font": {
                      "color": "#2a3f5f"
                    },
                    "geo": {
                      "bgcolor": "white",
                      "lakecolor": "white",
                      "landcolor": "#E5ECF6",
                      "showlakes": true,
                      "showland": true,
                      "subunitcolor": "white"
                    },
                    "hoverlabel": {
                      "align": "left"
                    },
                    "hovermode": "closest",
                    "mapbox": {
                      "style": "light"
                    },
                    "paper_bgcolor": "white",
                    "plot_bgcolor": "#E5ECF6",
                    "polar": {
                      "angularaxis": {
                        "gridcolor": "white",
                        "linecolor": "white",
                        "ticks": ""
                      },
                      "bgcolor": "#E5ECF6",
                      "radialaxis": {
                        "gridcolor": "white",
                        "linecolor": "white",
                        "ticks": ""
                      }
                    },
                    "scene": {
                      "xaxis": {
                        "backgroundcolor": "#E5ECF6",
                        "gridcolor": "white",
                        "gridwidth": 2,
                        "linecolor": "white",
                        "showbackground": true,
                        "ticks": "",
                        "zerolinecolor": "white"
                      },
                      "yaxis": {
                        "backgroundcolor": "#E5ECF6",
                        "gridcolor": "white",
                        "gridwidth": 2,
                        "linecolor": "white",
                        "showbackground": true,
                        "ticks": "",
                        "zerolinecolor": "white"
                      },
                      "zaxis": {
                        "backgroundcolor": "#E5ECF6",
                        "gridcolor": "white",
                        "gridwidth": 2,
                        "linecolor": "white",
                        "showbackground": true,
                        "ticks": "",
                        "zerolinecolor": "white"
                      }
                    },
                    "shapedefaults": {
                      "line": {
                        "color": "#2a3f5f"
                      }
                    },
                    "ternary": {
                      "aaxis": {
                        "gridcolor": "white",
                        "linecolor": "white",
                        "ticks": ""
                      },
                      "baxis": {
                        "gridcolor": "white",
                        "linecolor": "white",
                        "ticks": ""
                      },
                      "bgcolor": "#E5ECF6",
                      "caxis": {
                        "gridcolor": "white",
                        "linecolor": "white",
                        "ticks": ""
                      }
                    },
                    "title": {
                      "x": 0.05
                    },
                    "xaxis": {
                      "automargin": true,
                      "gridcolor": "white",
                      "linecolor": "white",
                      "ticks": "",
                      "title": {
                        "standoff": 15
                      },
                      "zerolinecolor": "white",
                      "zerolinewidth": 2
                    },
                    "yaxis": {
                      "automargin": true,
                      "gridcolor": "white",
                      "linecolor": "white",
                      "ticks": "",
                      "title": {
                        "standoff": 15
                      },
                      "zerolinecolor": "white",
                      "zerolinewidth": 2
                    }
                  }
                },
                "title": {
                  "text": "Optimization History Plot"
                },
                "xaxis": {
                  "title": {
                    "text": "Trial"
                  }
                },
                "yaxis": {
                  "title": {
                    "text": "Objective Value"
                  }
                }
              }
            }
          },
          "metadata": {},
          "output_type": "display_data"
        }
      ],
      "source": [
        "# 1. Optimization History\n",
        "plot_optimization_history(study).show()"
      ]
    },
    {
      "cell_type": "code",
      "execution_count": 31,
      "metadata": {
        "colab": {
          "base_uri": "https://localhost:8080/",
          "height": 562
        },
        "id": "0n7zfgCNCx-4",
        "outputId": "1604fbd1-9fd6-4749-fcdf-62fea03e8428"
      },
      "outputs": [
        {
          "data": {
            "application/vnd.plotly.v1+json": {
              "config": {
                "plotlyServerURL": "https://plot.ly"
              },
              "data": [
                {
                  "marker": {
                    "color": [
                      1,
                      3,
                      9,
                      19,
                      27,
                      28,
                      29,
                      30,
                      31,
                      32,
                      33,
                      34,
                      35,
                      36,
                      37,
                      38,
                      39,
                      40,
                      41,
                      42,
                      44,
                      45,
                      46,
                      48,
                      49,
                      50,
                      51,
                      52,
                      53,
                      54,
                      56,
                      57,
                      58,
                      59,
                      60,
                      61,
                      62,
                      63,
                      64,
                      65,
                      67,
                      68,
                      69,
                      70,
                      71,
                      72,
                      73,
                      74,
                      75,
                      76,
                      77,
                      78,
                      80,
                      81,
                      82,
                      83,
                      84,
                      85,
                      86,
                      87,
                      88,
                      89,
                      90,
                      91,
                      92,
                      93,
                      94,
                      95,
                      97,
                      98,
                      99
                    ],
                    "colorbar": {
                      "title": {
                        "text": "Trial"
                      },
                      "x": 1,
                      "xpad": 40
                    },
                    "colorscale": [
                      [
                        0,
                        "rgb(247,251,255)"
                      ],
                      [
                        0.125,
                        "rgb(222,235,247)"
                      ],
                      [
                        0.25,
                        "rgb(198,219,239)"
                      ],
                      [
                        0.375,
                        "rgb(158,202,225)"
                      ],
                      [
                        0.5,
                        "rgb(107,174,214)"
                      ],
                      [
                        0.625,
                        "rgb(66,146,198)"
                      ],
                      [
                        0.75,
                        "rgb(33,113,181)"
                      ],
                      [
                        0.875,
                        "rgb(8,81,156)"
                      ],
                      [
                        1,
                        "rgb(8,48,107)"
                      ]
                    ],
                    "line": {
                      "color": "Grey",
                      "width": 0.5
                    },
                    "showscale": true
                  },
                  "mode": "markers",
                  "name": "Feasible Trial",
                  "showlegend": false,
                  "type": "scatter",
                  "x": [
                    12.826412911406658,
                    0.49745879502940565,
                    0.4637701287688633,
                    92.54995984306693,
                    0.12045722121878354,
                    0.12367319029986355,
                    0.10168060293992796,
                    0.11410801431403952,
                    0.1434341971793071,
                    0.11617506101374377,
                    0.10096779261958459,
                    0.3643335318511657,
                    0.2830677187840309,
                    1.2731284257377704,
                    0.21719165728051681,
                    1.1686126511247394,
                    0.16634068136660746,
                    0.24523261843417288,
                    0.10061883888367999,
                    0.10065201727698542,
                    0.21392369212102058,
                    0.18606472460053827,
                    0.17072084444680552,
                    1.0036318248505451,
                    4.9028632749190635,
                    0.5070022589811053,
                    0.11577888555731926,
                    0.149932852215459,
                    0.14557482263749436,
                    0.3006336238963452,
                    0.13548068612915587,
                    0.2686834267801105,
                    45.99507787655356,
                    13.737371247578299,
                    0.6283997766778039,
                    0.1512108875893507,
                    0.14300580658040093,
                    0.13447939916592827,
                    0.19922748741332047,
                    0.10060998957575128,
                    0.39625840405931895,
                    0.13289259878181867,
                    0.33190854752550025,
                    0.22958101300506464,
                    0.13418846618909175,
                    0.16781375785813757,
                    0.1006849772466343,
                    0.14365009007248483,
                    2.3234586563901773,
                    0.22182007322357253,
                    0.12227126790675147,
                    0.17954810634388274,
                    0.24875738171891218,
                    0.1612270216696278,
                    0.12304444702973437,
                    0.18029948358572193,
                    0.1003649379811118,
                    0.3053803830211722,
                    0.1998224722975289,
                    0.1274458035722904,
                    0.4569792649891484,
                    0.16266684946160415,
                    0.2689485842825312,
                    0.1226535785621156,
                    0.15666400444395984,
                    0.12496897033735213,
                    0.2075793518267295,
                    8.139043087960994,
                    0.11667345127879414,
                    0.15611998604104396,
                    0.20819677954084354
                  ],
                  "xaxis": "x",
                  "y": [
                    0.702048417132216,
                    0.7430167597765364,
                    0.7374301675977654,
                    0.7113594040968342,
                    0.7895716945996275,
                    0.7895716945996275,
                    0.7877094972067038,
                    0.7895716945996275,
                    0.7895716945996275,
                    0.7895716945996275,
                    0.7877094972067038,
                    0.7821229050279329,
                    0.7858472998137803,
                    0.7839851024208566,
                    0.7858472998137803,
                    0.7839851024208566,
                    0.7877094972067038,
                    0.7616387337057727,
                    0.7877094972067038,
                    0.7877094972067038,
                    0.7858472998137803,
                    0.7597765363128492,
                    0.7877094972067038,
                    0.7839851024208566,
                    0.7858472998137801,
                    0.7839851024208566,
                    0.7895716945996275,
                    0.7895716945996275,
                    0.7895716945996275,
                    0.7858472998137803,
                    0.7113594040968342,
                    0.7597765363128491,
                    0.7001862197392924,
                    0.6741154562383612,
                    0.7858472998137803,
                    0.7895716945996275,
                    0.7895716945996275,
                    0.7113594040968342,
                    0.7858472998137803,
                    0.7877094972067038,
                    0.7839851024208566,
                    0.7895716945996275,
                    0.7262569832402234,
                    0.7858472998137803,
                    0.7895716945996275,
                    0.7877094972067038,
                    0.7877094972067038,
                    0.7486033519553073,
                    0.7858472998137801,
                    0.7858472998137803,
                    0.7895716945996275,
                    0.7877094972067038,
                    0.7858472998137803,
                    0.7877094972067038,
                    0.7895716945996275,
                    0.7877094972067038,
                    0.7877094972067038,
                    0.7858472998137803,
                    0.7746741154562384,
                    0.7895716945996275,
                    0.7839851024208566,
                    0.7541899441340782,
                    0.7858472998137803,
                    0.7895716945996275,
                    0.7877094972067038,
                    0.7895716945996275,
                    0.7858472998137803,
                    0.7858472998137801,
                    0.7094972067039107,
                    0.7877094972067038,
                    0.7858472998137803
                  ],
                  "yaxis": "y"
                },
                {
                  "marker": {
                    "color": [
                      0,
                      5,
                      6,
                      10,
                      11,
                      12,
                      13,
                      14,
                      15,
                      16,
                      17,
                      18,
                      20,
                      21,
                      22,
                      23,
                      24,
                      25,
                      26
                    ],
                    "colorbar": {
                      "title": {
                        "text": "Trial"
                      },
                      "x": 1,
                      "xpad": 40
                    },
                    "colorscale": [
                      [
                        0,
                        "rgb(247,251,255)"
                      ],
                      [
                        0.125,
                        "rgb(222,235,247)"
                      ],
                      [
                        0.25,
                        "rgb(198,219,239)"
                      ],
                      [
                        0.375,
                        "rgb(158,202,225)"
                      ],
                      [
                        0.5,
                        "rgb(107,174,214)"
                      ],
                      [
                        0.625,
                        "rgb(66,146,198)"
                      ],
                      [
                        0.75,
                        "rgb(33,113,181)"
                      ],
                      [
                        0.875,
                        "rgb(8,81,156)"
                      ],
                      [
                        1,
                        "rgb(8,48,107)"
                      ]
                    ],
                    "line": {
                      "color": "Grey",
                      "width": 0.5
                    },
                    "showscale": false
                  },
                  "mode": "markers",
                  "name": "Feasible Trial",
                  "showlegend": false,
                  "type": "scatter",
                  "x": [
                    false,
                    false,
                    true,
                    false,
                    false,
                    false,
                    false,
                    false,
                    true,
                    false,
                    false,
                    true,
                    false,
                    false,
                    false,
                    false,
                    false,
                    false,
                    true
                  ],
                  "xaxis": "x2",
                  "y": [
                    0.7821229050279329,
                    0.7635009310986964,
                    0.7579143389199254,
                    0.7690875232774674,
                    0.7672253258845437,
                    0.7690875232774674,
                    0.7728119180633147,
                    0.7690875232774674,
                    0.7541899441340781,
                    0.7746741154562384,
                    0.7746741154562384,
                    0.7709497206703911,
                    0.7635009310986964,
                    0.7765363128491621,
                    0.7765363128491621,
                    0.7635009310986964,
                    0.7746741154562384,
                    0.7746741154562384,
                    0.7541899441340781
                  ],
                  "yaxis": "y2"
                },
                {
                  "marker": {
                    "color": [
                      0,
                      1,
                      2,
                      3,
                      4,
                      5,
                      6,
                      7,
                      8,
                      9,
                      10,
                      11,
                      12,
                      13,
                      14,
                      15,
                      16,
                      17,
                      18,
                      19,
                      20,
                      21,
                      22,
                      23,
                      24,
                      25,
                      26,
                      27,
                      28,
                      29,
                      30,
                      31,
                      32,
                      33,
                      34,
                      35,
                      36,
                      37,
                      38,
                      39,
                      40,
                      41,
                      42,
                      43,
                      44,
                      45,
                      46,
                      47,
                      48,
                      49,
                      50,
                      51,
                      52,
                      53,
                      54,
                      55,
                      56,
                      57,
                      58,
                      59,
                      60,
                      61,
                      62,
                      63,
                      64,
                      65,
                      66,
                      67,
                      68,
                      69,
                      70,
                      71,
                      72,
                      73,
                      74,
                      75,
                      76,
                      77,
                      78,
                      79,
                      80,
                      81,
                      82,
                      83,
                      84,
                      85,
                      86,
                      87,
                      88,
                      89,
                      90,
                      91,
                      92,
                      93,
                      94,
                      95,
                      96,
                      97,
                      98,
                      99
                    ],
                    "colorbar": {
                      "title": {
                        "text": "Trial"
                      },
                      "x": 1,
                      "xpad": 40
                    },
                    "colorscale": [
                      [
                        0,
                        "rgb(247,251,255)"
                      ],
                      [
                        0.125,
                        "rgb(222,235,247)"
                      ],
                      [
                        0.25,
                        "rgb(198,219,239)"
                      ],
                      [
                        0.375,
                        "rgb(158,202,225)"
                      ],
                      [
                        0.5,
                        "rgb(107,174,214)"
                      ],
                      [
                        0.625,
                        "rgb(66,146,198)"
                      ],
                      [
                        0.75,
                        "rgb(33,113,181)"
                      ],
                      [
                        0.875,
                        "rgb(8,81,156)"
                      ],
                      [
                        1,
                        "rgb(8,48,107)"
                      ]
                    ],
                    "line": {
                      "color": "Grey",
                      "width": 0.5
                    },
                    "showscale": false
                  },
                  "mode": "markers",
                  "name": "Feasible Trial",
                  "showlegend": false,
                  "type": "scatter",
                  "x": [
                    "RandomForest",
                    "SVM",
                    "GradientBoosting",
                    "SVM",
                    "GradientBoosting",
                    "RandomForest",
                    "RandomForest",
                    "GradientBoosting",
                    "GradientBoosting",
                    "SVM",
                    "RandomForest",
                    "RandomForest",
                    "RandomForest",
                    "RandomForest",
                    "RandomForest",
                    "RandomForest",
                    "RandomForest",
                    "RandomForest",
                    "RandomForest",
                    "SVM",
                    "RandomForest",
                    "RandomForest",
                    "RandomForest",
                    "RandomForest",
                    "RandomForest",
                    "RandomForest",
                    "RandomForest",
                    "SVM",
                    "SVM",
                    "SVM",
                    "SVM",
                    "SVM",
                    "SVM",
                    "SVM",
                    "SVM",
                    "SVM",
                    "SVM",
                    "SVM",
                    "SVM",
                    "SVM",
                    "SVM",
                    "SVM",
                    "SVM",
                    "GradientBoosting",
                    "SVM",
                    "SVM",
                    "SVM",
                    "GradientBoosting",
                    "SVM",
                    "SVM",
                    "SVM",
                    "SVM",
                    "SVM",
                    "SVM",
                    "SVM",
                    "GradientBoosting",
                    "SVM",
                    "SVM",
                    "SVM",
                    "SVM",
                    "SVM",
                    "SVM",
                    "SVM",
                    "SVM",
                    "SVM",
                    "SVM",
                    "GradientBoosting",
                    "SVM",
                    "SVM",
                    "SVM",
                    "SVM",
                    "SVM",
                    "SVM",
                    "SVM",
                    "SVM",
                    "SVM",
                    "SVM",
                    "SVM",
                    "SVM",
                    "GradientBoosting",
                    "SVM",
                    "SVM",
                    "SVM",
                    "SVM",
                    "SVM",
                    "SVM",
                    "SVM",
                    "SVM",
                    "SVM",
                    "SVM",
                    "SVM",
                    "SVM",
                    "SVM",
                    "SVM",
                    "SVM",
                    "SVM",
                    "GradientBoosting",
                    "SVM",
                    "SVM",
                    "SVM"
                  ],
                  "xaxis": "x3",
                  "y": [
                    0.7821229050279329,
                    0.702048417132216,
                    0.7411545623836128,
                    0.7430167597765364,
                    0.74487895716946,
                    0.7635009310986964,
                    0.7579143389199254,
                    0.7541899441340782,
                    0.7653631284916201,
                    0.7374301675977654,
                    0.7690875232774674,
                    0.7672253258845437,
                    0.7690875232774674,
                    0.7728119180633147,
                    0.7690875232774674,
                    0.7541899441340781,
                    0.7746741154562384,
                    0.7746741154562384,
                    0.7709497206703911,
                    0.7113594040968342,
                    0.7635009310986964,
                    0.7765363128491621,
                    0.7765363128491621,
                    0.7635009310986964,
                    0.7746741154562384,
                    0.7746741154562384,
                    0.7541899441340781,
                    0.7895716945996275,
                    0.7895716945996275,
                    0.7877094972067038,
                    0.7895716945996275,
                    0.7895716945996275,
                    0.7895716945996275,
                    0.7877094972067038,
                    0.7821229050279329,
                    0.7858472998137803,
                    0.7839851024208566,
                    0.7858472998137803,
                    0.7839851024208566,
                    0.7877094972067038,
                    0.7616387337057727,
                    0.7877094972067038,
                    0.7877094972067038,
                    0.7467411545623835,
                    0.7858472998137803,
                    0.7597765363128492,
                    0.7877094972067038,
                    0.7635009310986964,
                    0.7839851024208566,
                    0.7858472998137801,
                    0.7839851024208566,
                    0.7895716945996275,
                    0.7895716945996275,
                    0.7895716945996275,
                    0.7858472998137803,
                    0.7579143389199255,
                    0.7113594040968342,
                    0.7597765363128491,
                    0.7001862197392924,
                    0.6741154562383612,
                    0.7858472998137803,
                    0.7895716945996275,
                    0.7895716945996275,
                    0.7113594040968342,
                    0.7858472998137803,
                    0.7877094972067038,
                    0.7467411545623835,
                    0.7839851024208566,
                    0.7895716945996275,
                    0.7262569832402234,
                    0.7858472998137803,
                    0.7895716945996275,
                    0.7877094972067038,
                    0.7877094972067038,
                    0.7486033519553073,
                    0.7858472998137801,
                    0.7858472998137803,
                    0.7895716945996275,
                    0.7877094972067038,
                    0.7467411545623835,
                    0.7858472998137803,
                    0.7877094972067038,
                    0.7895716945996275,
                    0.7877094972067038,
                    0.7877094972067038,
                    0.7858472998137803,
                    0.7746741154562384,
                    0.7895716945996275,
                    0.7839851024208566,
                    0.7541899441340782,
                    0.7858472998137803,
                    0.7895716945996275,
                    0.7877094972067038,
                    0.7895716945996275,
                    0.7858472998137803,
                    0.7858472998137801,
                    0.7355679702048418,
                    0.7094972067039107,
                    0.7877094972067038,
                    0.7858472998137803
                  ],
                  "yaxis": "y3"
                },
                {
                  "marker": {
                    "color": [
                      1,
                      3,
                      9,
                      19,
                      27,
                      28,
                      29,
                      30,
                      31,
                      32,
                      33,
                      34,
                      35,
                      36,
                      37,
                      38,
                      39,
                      40,
                      41,
                      42,
                      44,
                      45,
                      46,
                      48,
                      49,
                      50,
                      51,
                      52,
                      53,
                      54,
                      56,
                      57,
                      58,
                      59,
                      60,
                      61,
                      62,
                      63,
                      64,
                      65,
                      67,
                      68,
                      69,
                      70,
                      71,
                      72,
                      73,
                      74,
                      75,
                      76,
                      77,
                      78,
                      80,
                      81,
                      82,
                      83,
                      84,
                      85,
                      86,
                      87,
                      88,
                      89,
                      90,
                      91,
                      92,
                      93,
                      94,
                      95,
                      97,
                      98,
                      99
                    ],
                    "colorbar": {
                      "title": {
                        "text": "Trial"
                      },
                      "x": 1,
                      "xpad": 40
                    },
                    "colorscale": [
                      [
                        0,
                        "rgb(247,251,255)"
                      ],
                      [
                        0.125,
                        "rgb(222,235,247)"
                      ],
                      [
                        0.25,
                        "rgb(198,219,239)"
                      ],
                      [
                        0.375,
                        "rgb(158,202,225)"
                      ],
                      [
                        0.5,
                        "rgb(107,174,214)"
                      ],
                      [
                        0.625,
                        "rgb(66,146,198)"
                      ],
                      [
                        0.75,
                        "rgb(33,113,181)"
                      ],
                      [
                        0.875,
                        "rgb(8,81,156)"
                      ],
                      [
                        1,
                        "rgb(8,48,107)"
                      ]
                    ],
                    "line": {
                      "color": "Grey",
                      "width": 0.5
                    },
                    "showscale": false
                  },
                  "mode": "markers",
                  "name": "Feasible Trial",
                  "showlegend": false,
                  "type": "scatter",
                  "x": [
                    "auto",
                    "auto",
                    "scale",
                    "scale",
                    "auto",
                    "auto",
                    "auto",
                    "auto",
                    "auto",
                    "auto",
                    "auto",
                    "auto",
                    "auto",
                    "auto",
                    "auto",
                    "auto",
                    "auto",
                    "auto",
                    "auto",
                    "auto",
                    "auto",
                    "scale",
                    "auto",
                    "auto",
                    "auto",
                    "auto",
                    "auto",
                    "auto",
                    "auto",
                    "auto",
                    "auto",
                    "scale",
                    "auto",
                    "auto",
                    "auto",
                    "auto",
                    "auto",
                    "auto",
                    "scale",
                    "auto",
                    "auto",
                    "auto",
                    "auto",
                    "scale",
                    "auto",
                    "auto",
                    "auto",
                    "auto",
                    "auto",
                    "auto",
                    "auto",
                    "auto",
                    "auto",
                    "auto",
                    "auto",
                    "auto",
                    "auto",
                    "auto",
                    "auto",
                    "auto",
                    "scale",
                    "auto",
                    "auto",
                    "auto",
                    "auto",
                    "auto",
                    "auto",
                    "auto",
                    "auto",
                    "auto",
                    "auto"
                  ],
                  "xaxis": "x4",
                  "y": [
                    0.702048417132216,
                    0.7430167597765364,
                    0.7374301675977654,
                    0.7113594040968342,
                    0.7895716945996275,
                    0.7895716945996275,
                    0.7877094972067038,
                    0.7895716945996275,
                    0.7895716945996275,
                    0.7895716945996275,
                    0.7877094972067038,
                    0.7821229050279329,
                    0.7858472998137803,
                    0.7839851024208566,
                    0.7858472998137803,
                    0.7839851024208566,
                    0.7877094972067038,
                    0.7616387337057727,
                    0.7877094972067038,
                    0.7877094972067038,
                    0.7858472998137803,
                    0.7597765363128492,
                    0.7877094972067038,
                    0.7839851024208566,
                    0.7858472998137801,
                    0.7839851024208566,
                    0.7895716945996275,
                    0.7895716945996275,
                    0.7895716945996275,
                    0.7858472998137803,
                    0.7113594040968342,
                    0.7597765363128491,
                    0.7001862197392924,
                    0.6741154562383612,
                    0.7858472998137803,
                    0.7895716945996275,
                    0.7895716945996275,
                    0.7113594040968342,
                    0.7858472998137803,
                    0.7877094972067038,
                    0.7839851024208566,
                    0.7895716945996275,
                    0.7262569832402234,
                    0.7858472998137803,
                    0.7895716945996275,
                    0.7877094972067038,
                    0.7877094972067038,
                    0.7486033519553073,
                    0.7858472998137801,
                    0.7858472998137803,
                    0.7895716945996275,
                    0.7877094972067038,
                    0.7858472998137803,
                    0.7877094972067038,
                    0.7895716945996275,
                    0.7877094972067038,
                    0.7877094972067038,
                    0.7858472998137803,
                    0.7746741154562384,
                    0.7895716945996275,
                    0.7839851024208566,
                    0.7541899441340782,
                    0.7858472998137803,
                    0.7895716945996275,
                    0.7877094972067038,
                    0.7895716945996275,
                    0.7858472998137803,
                    0.7858472998137801,
                    0.7094972067039107,
                    0.7877094972067038,
                    0.7858472998137803
                  ],
                  "yaxis": "y4"
                },
                {
                  "marker": {
                    "color": [
                      1,
                      3,
                      9,
                      19,
                      27,
                      28,
                      29,
                      30,
                      31,
                      32,
                      33,
                      34,
                      35,
                      36,
                      37,
                      38,
                      39,
                      40,
                      41,
                      42,
                      44,
                      45,
                      46,
                      48,
                      49,
                      50,
                      51,
                      52,
                      53,
                      54,
                      56,
                      57,
                      58,
                      59,
                      60,
                      61,
                      62,
                      63,
                      64,
                      65,
                      67,
                      68,
                      69,
                      70,
                      71,
                      72,
                      73,
                      74,
                      75,
                      76,
                      77,
                      78,
                      80,
                      81,
                      82,
                      83,
                      84,
                      85,
                      86,
                      87,
                      88,
                      89,
                      90,
                      91,
                      92,
                      93,
                      94,
                      95,
                      97,
                      98,
                      99
                    ],
                    "colorbar": {
                      "title": {
                        "text": "Trial"
                      },
                      "x": 1,
                      "xpad": 40
                    },
                    "colorscale": [
                      [
                        0,
                        "rgb(247,251,255)"
                      ],
                      [
                        0.125,
                        "rgb(222,235,247)"
                      ],
                      [
                        0.25,
                        "rgb(198,219,239)"
                      ],
                      [
                        0.375,
                        "rgb(158,202,225)"
                      ],
                      [
                        0.5,
                        "rgb(107,174,214)"
                      ],
                      [
                        0.625,
                        "rgb(66,146,198)"
                      ],
                      [
                        0.75,
                        "rgb(33,113,181)"
                      ],
                      [
                        0.875,
                        "rgb(8,81,156)"
                      ],
                      [
                        1,
                        "rgb(8,48,107)"
                      ]
                    ],
                    "line": {
                      "color": "Grey",
                      "width": 0.5
                    },
                    "showscale": false
                  },
                  "mode": "markers",
                  "name": "Feasible Trial",
                  "showlegend": false,
                  "type": "scatter",
                  "x": [
                    "sigmoid",
                    "poly",
                    "poly",
                    "rbf",
                    "linear",
                    "linear",
                    "linear",
                    "linear",
                    "linear",
                    "linear",
                    "linear",
                    "linear",
                    "linear",
                    "linear",
                    "linear",
                    "linear",
                    "linear",
                    "sigmoid",
                    "linear",
                    "linear",
                    "linear",
                    "rbf",
                    "linear",
                    "linear",
                    "linear",
                    "linear",
                    "linear",
                    "linear",
                    "linear",
                    "linear",
                    "poly",
                    "rbf",
                    "sigmoid",
                    "sigmoid",
                    "linear",
                    "linear",
                    "linear",
                    "poly",
                    "linear",
                    "linear",
                    "linear",
                    "linear",
                    "poly",
                    "linear",
                    "linear",
                    "linear",
                    "linear",
                    "rbf",
                    "linear",
                    "linear",
                    "linear",
                    "linear",
                    "linear",
                    "linear",
                    "linear",
                    "linear",
                    "linear",
                    "linear",
                    "sigmoid",
                    "linear",
                    "linear",
                    "rbf",
                    "linear",
                    "linear",
                    "linear",
                    "linear",
                    "linear",
                    "linear",
                    "poly",
                    "linear",
                    "linear"
                  ],
                  "xaxis": "x5",
                  "y": [
                    0.702048417132216,
                    0.7430167597765364,
                    0.7374301675977654,
                    0.7113594040968342,
                    0.7895716945996275,
                    0.7895716945996275,
                    0.7877094972067038,
                    0.7895716945996275,
                    0.7895716945996275,
                    0.7895716945996275,
                    0.7877094972067038,
                    0.7821229050279329,
                    0.7858472998137803,
                    0.7839851024208566,
                    0.7858472998137803,
                    0.7839851024208566,
                    0.7877094972067038,
                    0.7616387337057727,
                    0.7877094972067038,
                    0.7877094972067038,
                    0.7858472998137803,
                    0.7597765363128492,
                    0.7877094972067038,
                    0.7839851024208566,
                    0.7858472998137801,
                    0.7839851024208566,
                    0.7895716945996275,
                    0.7895716945996275,
                    0.7895716945996275,
                    0.7858472998137803,
                    0.7113594040968342,
                    0.7597765363128491,
                    0.7001862197392924,
                    0.6741154562383612,
                    0.7858472998137803,
                    0.7895716945996275,
                    0.7895716945996275,
                    0.7113594040968342,
                    0.7858472998137803,
                    0.7877094972067038,
                    0.7839851024208566,
                    0.7895716945996275,
                    0.7262569832402234,
                    0.7858472998137803,
                    0.7895716945996275,
                    0.7877094972067038,
                    0.7877094972067038,
                    0.7486033519553073,
                    0.7858472998137801,
                    0.7858472998137803,
                    0.7895716945996275,
                    0.7877094972067038,
                    0.7858472998137803,
                    0.7877094972067038,
                    0.7895716945996275,
                    0.7877094972067038,
                    0.7877094972067038,
                    0.7858472998137803,
                    0.7746741154562384,
                    0.7895716945996275,
                    0.7839851024208566,
                    0.7541899441340782,
                    0.7858472998137803,
                    0.7895716945996275,
                    0.7877094972067038,
                    0.7895716945996275,
                    0.7858472998137803,
                    0.7858472998137801,
                    0.7094972067039107,
                    0.7877094972067038,
                    0.7858472998137803
                  ],
                  "yaxis": "y5"
                },
                {
                  "marker": {
                    "color": [
                      2,
                      4,
                      7,
                      8,
                      43,
                      47,
                      55,
                      66,
                      79,
                      96
                    ],
                    "colorbar": {
                      "title": {
                        "text": "Trial"
                      },
                      "x": 1,
                      "xpad": 40
                    },
                    "colorscale": [
                      [
                        0,
                        "rgb(247,251,255)"
                      ],
                      [
                        0.125,
                        "rgb(222,235,247)"
                      ],
                      [
                        0.25,
                        "rgb(198,219,239)"
                      ],
                      [
                        0.375,
                        "rgb(158,202,225)"
                      ],
                      [
                        0.5,
                        "rgb(107,174,214)"
                      ],
                      [
                        0.625,
                        "rgb(66,146,198)"
                      ],
                      [
                        0.75,
                        "rgb(33,113,181)"
                      ],
                      [
                        0.875,
                        "rgb(8,81,156)"
                      ],
                      [
                        1,
                        "rgb(8,48,107)"
                      ]
                    ],
                    "line": {
                      "color": "Grey",
                      "width": 0.5
                    },
                    "showscale": false
                  },
                  "mode": "markers",
                  "name": "Feasible Trial",
                  "showlegend": false,
                  "type": "scatter",
                  "x": [
                    0.16643003608089052,
                    0.012078216949962004,
                    0.058979801707697795,
                    0.16969929693270672,
                    0.010078620881422636,
                    0.037538185846857704,
                    0.04358180575496429,
                    0.24311524713049493,
                    0.0816189614405504,
                    0.025380363361123537
                  ],
                  "xaxis": "x6",
                  "y": [
                    0.7411545623836128,
                    0.74487895716946,
                    0.7541899441340782,
                    0.7653631284916201,
                    0.7467411545623835,
                    0.7635009310986964,
                    0.7579143389199255,
                    0.7467411545623835,
                    0.7467411545623835,
                    0.7355679702048418
                  ],
                  "yaxis": "y6"
                },
                {
                  "marker": {
                    "color": [
                      0,
                      2,
                      4,
                      5,
                      6,
                      7,
                      8,
                      10,
                      11,
                      12,
                      13,
                      14,
                      15,
                      16,
                      17,
                      18,
                      20,
                      21,
                      22,
                      23,
                      24,
                      25,
                      26,
                      43,
                      47,
                      55,
                      66,
                      79,
                      96
                    ],
                    "colorbar": {
                      "title": {
                        "text": "Trial"
                      },
                      "x": 1,
                      "xpad": 40
                    },
                    "colorscale": [
                      [
                        0,
                        "rgb(247,251,255)"
                      ],
                      [
                        0.125,
                        "rgb(222,235,247)"
                      ],
                      [
                        0.25,
                        "rgb(198,219,239)"
                      ],
                      [
                        0.375,
                        "rgb(158,202,225)"
                      ],
                      [
                        0.5,
                        "rgb(107,174,214)"
                      ],
                      [
                        0.625,
                        "rgb(66,146,198)"
                      ],
                      [
                        0.75,
                        "rgb(33,113,181)"
                      ],
                      [
                        0.875,
                        "rgb(8,81,156)"
                      ],
                      [
                        1,
                        "rgb(8,48,107)"
                      ]
                    ],
                    "line": {
                      "color": "Grey",
                      "width": 0.5
                    },
                    "showscale": false
                  },
                  "mode": "markers",
                  "name": "Feasible Trial",
                  "showlegend": false,
                  "type": "scatter",
                  "x": [
                    18,
                    8,
                    9,
                    4,
                    17,
                    6,
                    8,
                    20,
                    20,
                    15,
                    20,
                    13,
                    17,
                    17,
                    12,
                    16,
                    14,
                    11,
                    10,
                    10,
                    11,
                    11,
                    6,
                    4,
                    3,
                    6,
                    14,
                    7,
                    19
                  ],
                  "xaxis": "x7",
                  "y": [
                    0.7821229050279329,
                    0.7411545623836128,
                    0.74487895716946,
                    0.7635009310986964,
                    0.7579143389199254,
                    0.7541899441340782,
                    0.7653631284916201,
                    0.7690875232774674,
                    0.7672253258845437,
                    0.7690875232774674,
                    0.7728119180633147,
                    0.7690875232774674,
                    0.7541899441340781,
                    0.7746741154562384,
                    0.7746741154562384,
                    0.7709497206703911,
                    0.7635009310986964,
                    0.7765363128491621,
                    0.7765363128491621,
                    0.7635009310986964,
                    0.7746741154562384,
                    0.7746741154562384,
                    0.7541899441340781,
                    0.7467411545623835,
                    0.7635009310986964,
                    0.7579143389199255,
                    0.7467411545623835,
                    0.7467411545623835,
                    0.7355679702048418
                  ],
                  "yaxis": "y7"
                },
                {
                  "marker": {
                    "color": [
                      0,
                      2,
                      4,
                      5,
                      6,
                      7,
                      8,
                      10,
                      11,
                      12,
                      13,
                      14,
                      15,
                      16,
                      17,
                      18,
                      20,
                      21,
                      22,
                      23,
                      24,
                      25,
                      26,
                      43,
                      47,
                      55,
                      66,
                      79,
                      96
                    ],
                    "colorbar": {
                      "title": {
                        "text": "Trial"
                      },
                      "x": 1,
                      "xpad": 40
                    },
                    "colorscale": [
                      [
                        0,
                        "rgb(247,251,255)"
                      ],
                      [
                        0.125,
                        "rgb(222,235,247)"
                      ],
                      [
                        0.25,
                        "rgb(198,219,239)"
                      ],
                      [
                        0.375,
                        "rgb(158,202,225)"
                      ],
                      [
                        0.5,
                        "rgb(107,174,214)"
                      ],
                      [
                        0.625,
                        "rgb(66,146,198)"
                      ],
                      [
                        0.75,
                        "rgb(33,113,181)"
                      ],
                      [
                        0.875,
                        "rgb(8,81,156)"
                      ],
                      [
                        1,
                        "rgb(8,48,107)"
                      ]
                    ],
                    "line": {
                      "color": "Grey",
                      "width": 0.5
                    },
                    "showscale": false
                  },
                  "mode": "markers",
                  "name": "Feasible Trial",
                  "showlegend": false,
                  "type": "scatter",
                  "x": [
                    9,
                    10,
                    2,
                    8,
                    9,
                    5,
                    4,
                    7,
                    7,
                    7,
                    10,
                    10,
                    10,
                    8,
                    8,
                    5,
                    1,
                    8,
                    8,
                    6,
                    9,
                    9,
                    6,
                    3,
                    1,
                    3,
                    4,
                    2,
                    4
                  ],
                  "xaxis": "x8",
                  "y": [
                    0.7821229050279329,
                    0.7411545623836128,
                    0.74487895716946,
                    0.7635009310986964,
                    0.7579143389199254,
                    0.7541899441340782,
                    0.7653631284916201,
                    0.7690875232774674,
                    0.7672253258845437,
                    0.7690875232774674,
                    0.7728119180633147,
                    0.7690875232774674,
                    0.7541899441340781,
                    0.7746741154562384,
                    0.7746741154562384,
                    0.7709497206703911,
                    0.7635009310986964,
                    0.7765363128491621,
                    0.7765363128491621,
                    0.7635009310986964,
                    0.7746741154562384,
                    0.7746741154562384,
                    0.7541899441340781,
                    0.7467411545623835,
                    0.7635009310986964,
                    0.7579143389199255,
                    0.7467411545623835,
                    0.7467411545623835,
                    0.7355679702048418
                  ],
                  "yaxis": "y8"
                },
                {
                  "marker": {
                    "color": [
                      0,
                      2,
                      4,
                      5,
                      6,
                      7,
                      8,
                      10,
                      11,
                      12,
                      13,
                      14,
                      15,
                      16,
                      17,
                      18,
                      20,
                      21,
                      22,
                      23,
                      24,
                      25,
                      26,
                      43,
                      47,
                      55,
                      66,
                      79,
                      96
                    ],
                    "colorbar": {
                      "title": {
                        "text": "Trial"
                      },
                      "x": 1,
                      "xpad": 40
                    },
                    "colorscale": [
                      [
                        0,
                        "rgb(247,251,255)"
                      ],
                      [
                        0.125,
                        "rgb(222,235,247)"
                      ],
                      [
                        0.25,
                        "rgb(198,219,239)"
                      ],
                      [
                        0.375,
                        "rgb(158,202,225)"
                      ],
                      [
                        0.5,
                        "rgb(107,174,214)"
                      ],
                      [
                        0.625,
                        "rgb(66,146,198)"
                      ],
                      [
                        0.75,
                        "rgb(33,113,181)"
                      ],
                      [
                        0.875,
                        "rgb(8,81,156)"
                      ],
                      [
                        1,
                        "rgb(8,48,107)"
                      ]
                    ],
                    "line": {
                      "color": "Grey",
                      "width": 0.5
                    },
                    "showscale": false
                  },
                  "mode": "markers",
                  "name": "Feasible Trial",
                  "showlegend": false,
                  "type": "scatter",
                  "x": [
                    9,
                    9,
                    7,
                    4,
                    7,
                    7,
                    5,
                    10,
                    10,
                    2,
                    10,
                    9,
                    8,
                    10,
                    8,
                    9,
                    5,
                    8,
                    8,
                    8,
                    6,
                    8,
                    6,
                    2,
                    4,
                    3,
                    3,
                    5,
                    3
                  ],
                  "xaxis": "x9",
                  "y": [
                    0.7821229050279329,
                    0.7411545623836128,
                    0.74487895716946,
                    0.7635009310986964,
                    0.7579143389199254,
                    0.7541899441340782,
                    0.7653631284916201,
                    0.7690875232774674,
                    0.7672253258845437,
                    0.7690875232774674,
                    0.7728119180633147,
                    0.7690875232774674,
                    0.7541899441340781,
                    0.7746741154562384,
                    0.7746741154562384,
                    0.7709497206703911,
                    0.7635009310986964,
                    0.7765363128491621,
                    0.7765363128491621,
                    0.7635009310986964,
                    0.7746741154562384,
                    0.7746741154562384,
                    0.7541899441340781,
                    0.7467411545623835,
                    0.7635009310986964,
                    0.7579143389199255,
                    0.7467411545623835,
                    0.7467411545623835,
                    0.7355679702048418
                  ],
                  "yaxis": "y9"
                },
                {
                  "marker": {
                    "color": [
                      0,
                      2,
                      4,
                      5,
                      6,
                      7,
                      8,
                      10,
                      11,
                      12,
                      13,
                      14,
                      15,
                      16,
                      17,
                      18,
                      20,
                      21,
                      22,
                      23,
                      24,
                      25,
                      26,
                      43,
                      47,
                      55,
                      66,
                      79,
                      96
                    ],
                    "colorbar": {
                      "title": {
                        "text": "Trial"
                      },
                      "x": 1,
                      "xpad": 40
                    },
                    "colorscale": [
                      [
                        0,
                        "rgb(247,251,255)"
                      ],
                      [
                        0.125,
                        "rgb(222,235,247)"
                      ],
                      [
                        0.25,
                        "rgb(198,219,239)"
                      ],
                      [
                        0.375,
                        "rgb(158,202,225)"
                      ],
                      [
                        0.5,
                        "rgb(107,174,214)"
                      ],
                      [
                        0.625,
                        "rgb(66,146,198)"
                      ],
                      [
                        0.75,
                        "rgb(33,113,181)"
                      ],
                      [
                        0.875,
                        "rgb(8,81,156)"
                      ],
                      [
                        1,
                        "rgb(8,48,107)"
                      ]
                    ],
                    "line": {
                      "color": "Grey",
                      "width": 0.5
                    },
                    "showscale": false
                  },
                  "mode": "markers",
                  "name": "Feasible Trial",
                  "showlegend": false,
                  "type": "scatter",
                  "x": [
                    66,
                    80,
                    91,
                    164,
                    175,
                    170,
                    224,
                    55,
                    53,
                    120,
                    273,
                    295,
                    253,
                    220,
                    212,
                    132,
                    206,
                    221,
                    249,
                    245,
                    195,
                    254,
                    299,
                    129,
                    105,
                    156,
                    76,
                    142,
                    190
                  ],
                  "xaxis": "x10",
                  "y": [
                    0.7821229050279329,
                    0.7411545623836128,
                    0.74487895716946,
                    0.7635009310986964,
                    0.7579143389199254,
                    0.7541899441340782,
                    0.7653631284916201,
                    0.7690875232774674,
                    0.7672253258845437,
                    0.7690875232774674,
                    0.7728119180633147,
                    0.7690875232774674,
                    0.7541899441340781,
                    0.7746741154562384,
                    0.7746741154562384,
                    0.7709497206703911,
                    0.7635009310986964,
                    0.7765363128491621,
                    0.7765363128491621,
                    0.7635009310986964,
                    0.7746741154562384,
                    0.7746741154562384,
                    0.7541899441340781,
                    0.7467411545623835,
                    0.7635009310986964,
                    0.7579143389199255,
                    0.7467411545623835,
                    0.7467411545623835,
                    0.7355679702048418
                  ],
                  "yaxis": "y10"
                }
              ],
              "layout": {
                "template": {
                  "data": {
                    "bar": [
                      {
                        "error_x": {
                          "color": "#2a3f5f"
                        },
                        "error_y": {
                          "color": "#2a3f5f"
                        },
                        "marker": {
                          "line": {
                            "color": "#E5ECF6",
                            "width": 0.5
                          },
                          "pattern": {
                            "fillmode": "overlay",
                            "size": 10,
                            "solidity": 0.2
                          }
                        },
                        "type": "bar"
                      }
                    ],
                    "barpolar": [
                      {
                        "marker": {
                          "line": {
                            "color": "#E5ECF6",
                            "width": 0.5
                          },
                          "pattern": {
                            "fillmode": "overlay",
                            "size": 10,
                            "solidity": 0.2
                          }
                        },
                        "type": "barpolar"
                      }
                    ],
                    "carpet": [
                      {
                        "aaxis": {
                          "endlinecolor": "#2a3f5f",
                          "gridcolor": "white",
                          "linecolor": "white",
                          "minorgridcolor": "white",
                          "startlinecolor": "#2a3f5f"
                        },
                        "baxis": {
                          "endlinecolor": "#2a3f5f",
                          "gridcolor": "white",
                          "linecolor": "white",
                          "minorgridcolor": "white",
                          "startlinecolor": "#2a3f5f"
                        },
                        "type": "carpet"
                      }
                    ],
                    "choropleth": [
                      {
                        "colorbar": {
                          "outlinewidth": 0,
                          "ticks": ""
                        },
                        "type": "choropleth"
                      }
                    ],
                    "contour": [
                      {
                        "colorbar": {
                          "outlinewidth": 0,
                          "ticks": ""
                        },
                        "colorscale": [
                          [
                            0,
                            "#0d0887"
                          ],
                          [
                            0.1111111111111111,
                            "#46039f"
                          ],
                          [
                            0.2222222222222222,
                            "#7201a8"
                          ],
                          [
                            0.3333333333333333,
                            "#9c179e"
                          ],
                          [
                            0.4444444444444444,
                            "#bd3786"
                          ],
                          [
                            0.5555555555555556,
                            "#d8576b"
                          ],
                          [
                            0.6666666666666666,
                            "#ed7953"
                          ],
                          [
                            0.7777777777777778,
                            "#fb9f3a"
                          ],
                          [
                            0.8888888888888888,
                            "#fdca26"
                          ],
                          [
                            1,
                            "#f0f921"
                          ]
                        ],
                        "type": "contour"
                      }
                    ],
                    "contourcarpet": [
                      {
                        "colorbar": {
                          "outlinewidth": 0,
                          "ticks": ""
                        },
                        "type": "contourcarpet"
                      }
                    ],
                    "heatmap": [
                      {
                        "colorbar": {
                          "outlinewidth": 0,
                          "ticks": ""
                        },
                        "colorscale": [
                          [
                            0,
                            "#0d0887"
                          ],
                          [
                            0.1111111111111111,
                            "#46039f"
                          ],
                          [
                            0.2222222222222222,
                            "#7201a8"
                          ],
                          [
                            0.3333333333333333,
                            "#9c179e"
                          ],
                          [
                            0.4444444444444444,
                            "#bd3786"
                          ],
                          [
                            0.5555555555555556,
                            "#d8576b"
                          ],
                          [
                            0.6666666666666666,
                            "#ed7953"
                          ],
                          [
                            0.7777777777777778,
                            "#fb9f3a"
                          ],
                          [
                            0.8888888888888888,
                            "#fdca26"
                          ],
                          [
                            1,
                            "#f0f921"
                          ]
                        ],
                        "type": "heatmap"
                      }
                    ],
                    "histogram": [
                      {
                        "marker": {
                          "pattern": {
                            "fillmode": "overlay",
                            "size": 10,
                            "solidity": 0.2
                          }
                        },
                        "type": "histogram"
                      }
                    ],
                    "histogram2d": [
                      {
                        "colorbar": {
                          "outlinewidth": 0,
                          "ticks": ""
                        },
                        "colorscale": [
                          [
                            0,
                            "#0d0887"
                          ],
                          [
                            0.1111111111111111,
                            "#46039f"
                          ],
                          [
                            0.2222222222222222,
                            "#7201a8"
                          ],
                          [
                            0.3333333333333333,
                            "#9c179e"
                          ],
                          [
                            0.4444444444444444,
                            "#bd3786"
                          ],
                          [
                            0.5555555555555556,
                            "#d8576b"
                          ],
                          [
                            0.6666666666666666,
                            "#ed7953"
                          ],
                          [
                            0.7777777777777778,
                            "#fb9f3a"
                          ],
                          [
                            0.8888888888888888,
                            "#fdca26"
                          ],
                          [
                            1,
                            "#f0f921"
                          ]
                        ],
                        "type": "histogram2d"
                      }
                    ],
                    "histogram2dcontour": [
                      {
                        "colorbar": {
                          "outlinewidth": 0,
                          "ticks": ""
                        },
                        "colorscale": [
                          [
                            0,
                            "#0d0887"
                          ],
                          [
                            0.1111111111111111,
                            "#46039f"
                          ],
                          [
                            0.2222222222222222,
                            "#7201a8"
                          ],
                          [
                            0.3333333333333333,
                            "#9c179e"
                          ],
                          [
                            0.4444444444444444,
                            "#bd3786"
                          ],
                          [
                            0.5555555555555556,
                            "#d8576b"
                          ],
                          [
                            0.6666666666666666,
                            "#ed7953"
                          ],
                          [
                            0.7777777777777778,
                            "#fb9f3a"
                          ],
                          [
                            0.8888888888888888,
                            "#fdca26"
                          ],
                          [
                            1,
                            "#f0f921"
                          ]
                        ],
                        "type": "histogram2dcontour"
                      }
                    ],
                    "mesh3d": [
                      {
                        "colorbar": {
                          "outlinewidth": 0,
                          "ticks": ""
                        },
                        "type": "mesh3d"
                      }
                    ],
                    "parcoords": [
                      {
                        "line": {
                          "colorbar": {
                            "outlinewidth": 0,
                            "ticks": ""
                          }
                        },
                        "type": "parcoords"
                      }
                    ],
                    "pie": [
                      {
                        "automargin": true,
                        "type": "pie"
                      }
                    ],
                    "scatter": [
                      {
                        "fillpattern": {
                          "fillmode": "overlay",
                          "size": 10,
                          "solidity": 0.2
                        },
                        "type": "scatter"
                      }
                    ],
                    "scatter3d": [
                      {
                        "line": {
                          "colorbar": {
                            "outlinewidth": 0,
                            "ticks": ""
                          }
                        },
                        "marker": {
                          "colorbar": {
                            "outlinewidth": 0,
                            "ticks": ""
                          }
                        },
                        "type": "scatter3d"
                      }
                    ],
                    "scattercarpet": [
                      {
                        "marker": {
                          "colorbar": {
                            "outlinewidth": 0,
                            "ticks": ""
                          }
                        },
                        "type": "scattercarpet"
                      }
                    ],
                    "scattergeo": [
                      {
                        "marker": {
                          "colorbar": {
                            "outlinewidth": 0,
                            "ticks": ""
                          }
                        },
                        "type": "scattergeo"
                      }
                    ],
                    "scattergl": [
                      {
                        "marker": {
                          "colorbar": {
                            "outlinewidth": 0,
                            "ticks": ""
                          }
                        },
                        "type": "scattergl"
                      }
                    ],
                    "scattermap": [
                      {
                        "marker": {
                          "colorbar": {
                            "outlinewidth": 0,
                            "ticks": ""
                          }
                        },
                        "type": "scattermap"
                      }
                    ],
                    "scattermapbox": [
                      {
                        "marker": {
                          "colorbar": {
                            "outlinewidth": 0,
                            "ticks": ""
                          }
                        },
                        "type": "scattermapbox"
                      }
                    ],
                    "scatterpolar": [
                      {
                        "marker": {
                          "colorbar": {
                            "outlinewidth": 0,
                            "ticks": ""
                          }
                        },
                        "type": "scatterpolar"
                      }
                    ],
                    "scatterpolargl": [
                      {
                        "marker": {
                          "colorbar": {
                            "outlinewidth": 0,
                            "ticks": ""
                          }
                        },
                        "type": "scatterpolargl"
                      }
                    ],
                    "scatterternary": [
                      {
                        "marker": {
                          "colorbar": {
                            "outlinewidth": 0,
                            "ticks": ""
                          }
                        },
                        "type": "scatterternary"
                      }
                    ],
                    "surface": [
                      {
                        "colorbar": {
                          "outlinewidth": 0,
                          "ticks": ""
                        },
                        "colorscale": [
                          [
                            0,
                            "#0d0887"
                          ],
                          [
                            0.1111111111111111,
                            "#46039f"
                          ],
                          [
                            0.2222222222222222,
                            "#7201a8"
                          ],
                          [
                            0.3333333333333333,
                            "#9c179e"
                          ],
                          [
                            0.4444444444444444,
                            "#bd3786"
                          ],
                          [
                            0.5555555555555556,
                            "#d8576b"
                          ],
                          [
                            0.6666666666666666,
                            "#ed7953"
                          ],
                          [
                            0.7777777777777778,
                            "#fb9f3a"
                          ],
                          [
                            0.8888888888888888,
                            "#fdca26"
                          ],
                          [
                            1,
                            "#f0f921"
                          ]
                        ],
                        "type": "surface"
                      }
                    ],
                    "table": [
                      {
                        "cells": {
                          "fill": {
                            "color": "#EBF0F8"
                          },
                          "line": {
                            "color": "white"
                          }
                        },
                        "header": {
                          "fill": {
                            "color": "#C8D4E3"
                          },
                          "line": {
                            "color": "white"
                          }
                        },
                        "type": "table"
                      }
                    ]
                  },
                  "layout": {
                    "annotationdefaults": {
                      "arrowcolor": "#2a3f5f",
                      "arrowhead": 0,
                      "arrowwidth": 1
                    },
                    "autotypenumbers": "strict",
                    "coloraxis": {
                      "colorbar": {
                        "outlinewidth": 0,
                        "ticks": ""
                      }
                    },
                    "colorscale": {
                      "diverging": [
                        [
                          0,
                          "#8e0152"
                        ],
                        [
                          0.1,
                          "#c51b7d"
                        ],
                        [
                          0.2,
                          "#de77ae"
                        ],
                        [
                          0.3,
                          "#f1b6da"
                        ],
                        [
                          0.4,
                          "#fde0ef"
                        ],
                        [
                          0.5,
                          "#f7f7f7"
                        ],
                        [
                          0.6,
                          "#e6f5d0"
                        ],
                        [
                          0.7,
                          "#b8e186"
                        ],
                        [
                          0.8,
                          "#7fbc41"
                        ],
                        [
                          0.9,
                          "#4d9221"
                        ],
                        [
                          1,
                          "#276419"
                        ]
                      ],
                      "sequential": [
                        [
                          0,
                          "#0d0887"
                        ],
                        [
                          0.1111111111111111,
                          "#46039f"
                        ],
                        [
                          0.2222222222222222,
                          "#7201a8"
                        ],
                        [
                          0.3333333333333333,
                          "#9c179e"
                        ],
                        [
                          0.4444444444444444,
                          "#bd3786"
                        ],
                        [
                          0.5555555555555556,
                          "#d8576b"
                        ],
                        [
                          0.6666666666666666,
                          "#ed7953"
                        ],
                        [
                          0.7777777777777778,
                          "#fb9f3a"
                        ],
                        [
                          0.8888888888888888,
                          "#fdca26"
                        ],
                        [
                          1,
                          "#f0f921"
                        ]
                      ],
                      "sequentialminus": [
                        [
                          0,
                          "#0d0887"
                        ],
                        [
                          0.1111111111111111,
                          "#46039f"
                        ],
                        [
                          0.2222222222222222,
                          "#7201a8"
                        ],
                        [
                          0.3333333333333333,
                          "#9c179e"
                        ],
                        [
                          0.4444444444444444,
                          "#bd3786"
                        ],
                        [
                          0.5555555555555556,
                          "#d8576b"
                        ],
                        [
                          0.6666666666666666,
                          "#ed7953"
                        ],
                        [
                          0.7777777777777778,
                          "#fb9f3a"
                        ],
                        [
                          0.8888888888888888,
                          "#fdca26"
                        ],
                        [
                          1,
                          "#f0f921"
                        ]
                      ]
                    },
                    "colorway": [
                      "#636efa",
                      "#EF553B",
                      "#00cc96",
                      "#ab63fa",
                      "#FFA15A",
                      "#19d3f3",
                      "#FF6692",
                      "#B6E880",
                      "#FF97FF",
                      "#FECB52"
                    ],
                    "font": {
                      "color": "#2a3f5f"
                    },
                    "geo": {
                      "bgcolor": "white",
                      "lakecolor": "white",
                      "landcolor": "#E5ECF6",
                      "showlakes": true,
                      "showland": true,
                      "subunitcolor": "white"
                    },
                    "hoverlabel": {
                      "align": "left"
                    },
                    "hovermode": "closest",
                    "mapbox": {
                      "style": "light"
                    },
                    "paper_bgcolor": "white",
                    "plot_bgcolor": "#E5ECF6",
                    "polar": {
                      "angularaxis": {
                        "gridcolor": "white",
                        "linecolor": "white",
                        "ticks": ""
                      },
                      "bgcolor": "#E5ECF6",
                      "radialaxis": {
                        "gridcolor": "white",
                        "linecolor": "white",
                        "ticks": ""
                      }
                    },
                    "scene": {
                      "xaxis": {
                        "backgroundcolor": "#E5ECF6",
                        "gridcolor": "white",
                        "gridwidth": 2,
                        "linecolor": "white",
                        "showbackground": true,
                        "ticks": "",
                        "zerolinecolor": "white"
                      },
                      "yaxis": {
                        "backgroundcolor": "#E5ECF6",
                        "gridcolor": "white",
                        "gridwidth": 2,
                        "linecolor": "white",
                        "showbackground": true,
                        "ticks": "",
                        "zerolinecolor": "white"
                      },
                      "zaxis": {
                        "backgroundcolor": "#E5ECF6",
                        "gridcolor": "white",
                        "gridwidth": 2,
                        "linecolor": "white",
                        "showbackground": true,
                        "ticks": "",
                        "zerolinecolor": "white"
                      }
                    },
                    "shapedefaults": {
                      "line": {
                        "color": "#2a3f5f"
                      }
                    },
                    "ternary": {
                      "aaxis": {
                        "gridcolor": "white",
                        "linecolor": "white",
                        "ticks": ""
                      },
                      "baxis": {
                        "gridcolor": "white",
                        "linecolor": "white",
                        "ticks": ""
                      },
                      "bgcolor": "#E5ECF6",
                      "caxis": {
                        "gridcolor": "white",
                        "linecolor": "white",
                        "ticks": ""
                      }
                    },
                    "title": {
                      "x": 0.05
                    },
                    "xaxis": {
                      "automargin": true,
                      "gridcolor": "white",
                      "linecolor": "white",
                      "ticks": "",
                      "title": {
                        "standoff": 15
                      },
                      "zerolinecolor": "white",
                      "zerolinewidth": 2
                    },
                    "yaxis": {
                      "automargin": true,
                      "gridcolor": "white",
                      "linecolor": "white",
                      "ticks": "",
                      "title": {
                        "standoff": 15
                      },
                      "zerolinecolor": "white",
                      "zerolinewidth": 2
                    }
                  }
                },
                "title": {
                  "text": "Slice Plot"
                },
                "width": 3000,
                "xaxis": {
                  "anchor": "y",
                  "domain": [
                    0,
                    0.082
                  ],
                  "title": {
                    "text": "C"
                  },
                  "type": "log"
                },
                "xaxis10": {
                  "anchor": "y10",
                  "domain": [
                    0.9179999999999999,
                    0.9999999999999999
                  ],
                  "title": {
                    "text": "n_estimators"
                  }
                },
                "xaxis2": {
                  "anchor": "y2",
                  "categoryarray": [
                    true,
                    false
                  ],
                  "categoryorder": "array",
                  "domain": [
                    0.10200000000000001,
                    0.184
                  ],
                  "title": {
                    "text": "bootstrap"
                  },
                  "type": "category"
                },
                "xaxis3": {
                  "anchor": "y3",
                  "categoryarray": [
                    "SVM",
                    "RandomForest",
                    "GradientBoosting"
                  ],
                  "categoryorder": "array",
                  "domain": [
                    0.20400000000000001,
                    0.28600000000000003
                  ],
                  "title": {
                    "text": "classifier"
                  },
                  "type": "category"
                },
                "xaxis4": {
                  "anchor": "y4",
                  "categoryarray": [
                    "scale",
                    "auto"
                  ],
                  "categoryorder": "array",
                  "domain": [
                    0.306,
                    0.388
                  ],
                  "title": {
                    "text": "gamma"
                  },
                  "type": "category"
                },
                "xaxis5": {
                  "anchor": "y5",
                  "categoryarray": [
                    "linear",
                    "rbf",
                    "poly",
                    "sigmoid"
                  ],
                  "categoryorder": "array",
                  "domain": [
                    0.40800000000000003,
                    0.49000000000000005
                  ],
                  "title": {
                    "text": "kernel"
                  },
                  "type": "category"
                },
                "xaxis6": {
                  "anchor": "y6",
                  "domain": [
                    0.51,
                    0.592
                  ],
                  "title": {
                    "text": "learning_rate"
                  },
                  "type": "log"
                },
                "xaxis7": {
                  "anchor": "y7",
                  "domain": [
                    0.6120000000000001,
                    0.6940000000000001
                  ],
                  "title": {
                    "text": "max_depth"
                  }
                },
                "xaxis8": {
                  "anchor": "y8",
                  "domain": [
                    0.7140000000000001,
                    0.796
                  ],
                  "title": {
                    "text": "min_samples_leaf"
                  }
                },
                "xaxis9": {
                  "anchor": "y9",
                  "domain": [
                    0.8160000000000001,
                    0.898
                  ],
                  "title": {
                    "text": "min_samples_split"
                  }
                },
                "yaxis": {
                  "anchor": "x",
                  "domain": [
                    0,
                    1
                  ],
                  "title": {
                    "text": "Objective Value"
                  }
                },
                "yaxis10": {
                  "anchor": "x10",
                  "domain": [
                    0,
                    1
                  ],
                  "matches": "y",
                  "showticklabels": false
                },
                "yaxis2": {
                  "anchor": "x2",
                  "domain": [
                    0,
                    1
                  ],
                  "matches": "y",
                  "showticklabels": false
                },
                "yaxis3": {
                  "anchor": "x3",
                  "domain": [
                    0,
                    1
                  ],
                  "matches": "y",
                  "showticklabels": false
                },
                "yaxis4": {
                  "anchor": "x4",
                  "domain": [
                    0,
                    1
                  ],
                  "matches": "y",
                  "showticklabels": false
                },
                "yaxis5": {
                  "anchor": "x5",
                  "domain": [
                    0,
                    1
                  ],
                  "matches": "y",
                  "showticklabels": false
                },
                "yaxis6": {
                  "anchor": "x6",
                  "domain": [
                    0,
                    1
                  ],
                  "matches": "y",
                  "showticklabels": false
                },
                "yaxis7": {
                  "anchor": "x7",
                  "domain": [
                    0,
                    1
                  ],
                  "matches": "y",
                  "showticklabels": false
                },
                "yaxis8": {
                  "anchor": "x8",
                  "domain": [
                    0,
                    1
                  ],
                  "matches": "y",
                  "showticklabels": false
                },
                "yaxis9": {
                  "anchor": "x9",
                  "domain": [
                    0,
                    1
                  ],
                  "matches": "y",
                  "showticklabels": false
                }
              }
            }
          },
          "metadata": {},
          "output_type": "display_data"
        }
      ],
      "source": [
        "# 3. Slice Plot\n",
        "plot_slice(study).show()"
      ]
    },
    {
      "cell_type": "code",
      "execution_count": 32,
      "metadata": {
        "colab": {
          "base_uri": "https://localhost:8080/",
          "height": 542
        },
        "id": "rUhujoemC4hI",
        "outputId": "1928b7b9-16f5-4ac1-8370-a94e5e639bc6"
      },
      "outputs": [
        {
          "data": {
            "application/vnd.plotly.v1+json": {
              "config": {
                "plotlyServerURL": "https://plot.ly"
              },
              "data": [
                {
                  "cliponaxis": false,
                  "hovertemplate": [
                    "classifier (CategoricalDistribution): 1.0<extra></extra>"
                  ],
                  "name": "Objective Value",
                  "orientation": "h",
                  "text": [
                    "1.00"
                  ],
                  "textposition": "outside",
                  "type": "bar",
                  "x": [
                    1
                  ],
                  "y": [
                    "classifier"
                  ]
                }
              ],
              "layout": {
                "template": {
                  "data": {
                    "bar": [
                      {
                        "error_x": {
                          "color": "#2a3f5f"
                        },
                        "error_y": {
                          "color": "#2a3f5f"
                        },
                        "marker": {
                          "line": {
                            "color": "#E5ECF6",
                            "width": 0.5
                          },
                          "pattern": {
                            "fillmode": "overlay",
                            "size": 10,
                            "solidity": 0.2
                          }
                        },
                        "type": "bar"
                      }
                    ],
                    "barpolar": [
                      {
                        "marker": {
                          "line": {
                            "color": "#E5ECF6",
                            "width": 0.5
                          },
                          "pattern": {
                            "fillmode": "overlay",
                            "size": 10,
                            "solidity": 0.2
                          }
                        },
                        "type": "barpolar"
                      }
                    ],
                    "carpet": [
                      {
                        "aaxis": {
                          "endlinecolor": "#2a3f5f",
                          "gridcolor": "white",
                          "linecolor": "white",
                          "minorgridcolor": "white",
                          "startlinecolor": "#2a3f5f"
                        },
                        "baxis": {
                          "endlinecolor": "#2a3f5f",
                          "gridcolor": "white",
                          "linecolor": "white",
                          "minorgridcolor": "white",
                          "startlinecolor": "#2a3f5f"
                        },
                        "type": "carpet"
                      }
                    ],
                    "choropleth": [
                      {
                        "colorbar": {
                          "outlinewidth": 0,
                          "ticks": ""
                        },
                        "type": "choropleth"
                      }
                    ],
                    "contour": [
                      {
                        "colorbar": {
                          "outlinewidth": 0,
                          "ticks": ""
                        },
                        "colorscale": [
                          [
                            0,
                            "#0d0887"
                          ],
                          [
                            0.1111111111111111,
                            "#46039f"
                          ],
                          [
                            0.2222222222222222,
                            "#7201a8"
                          ],
                          [
                            0.3333333333333333,
                            "#9c179e"
                          ],
                          [
                            0.4444444444444444,
                            "#bd3786"
                          ],
                          [
                            0.5555555555555556,
                            "#d8576b"
                          ],
                          [
                            0.6666666666666666,
                            "#ed7953"
                          ],
                          [
                            0.7777777777777778,
                            "#fb9f3a"
                          ],
                          [
                            0.8888888888888888,
                            "#fdca26"
                          ],
                          [
                            1,
                            "#f0f921"
                          ]
                        ],
                        "type": "contour"
                      }
                    ],
                    "contourcarpet": [
                      {
                        "colorbar": {
                          "outlinewidth": 0,
                          "ticks": ""
                        },
                        "type": "contourcarpet"
                      }
                    ],
                    "heatmap": [
                      {
                        "colorbar": {
                          "outlinewidth": 0,
                          "ticks": ""
                        },
                        "colorscale": [
                          [
                            0,
                            "#0d0887"
                          ],
                          [
                            0.1111111111111111,
                            "#46039f"
                          ],
                          [
                            0.2222222222222222,
                            "#7201a8"
                          ],
                          [
                            0.3333333333333333,
                            "#9c179e"
                          ],
                          [
                            0.4444444444444444,
                            "#bd3786"
                          ],
                          [
                            0.5555555555555556,
                            "#d8576b"
                          ],
                          [
                            0.6666666666666666,
                            "#ed7953"
                          ],
                          [
                            0.7777777777777778,
                            "#fb9f3a"
                          ],
                          [
                            0.8888888888888888,
                            "#fdca26"
                          ],
                          [
                            1,
                            "#f0f921"
                          ]
                        ],
                        "type": "heatmap"
                      }
                    ],
                    "histogram": [
                      {
                        "marker": {
                          "pattern": {
                            "fillmode": "overlay",
                            "size": 10,
                            "solidity": 0.2
                          }
                        },
                        "type": "histogram"
                      }
                    ],
                    "histogram2d": [
                      {
                        "colorbar": {
                          "outlinewidth": 0,
                          "ticks": ""
                        },
                        "colorscale": [
                          [
                            0,
                            "#0d0887"
                          ],
                          [
                            0.1111111111111111,
                            "#46039f"
                          ],
                          [
                            0.2222222222222222,
                            "#7201a8"
                          ],
                          [
                            0.3333333333333333,
                            "#9c179e"
                          ],
                          [
                            0.4444444444444444,
                            "#bd3786"
                          ],
                          [
                            0.5555555555555556,
                            "#d8576b"
                          ],
                          [
                            0.6666666666666666,
                            "#ed7953"
                          ],
                          [
                            0.7777777777777778,
                            "#fb9f3a"
                          ],
                          [
                            0.8888888888888888,
                            "#fdca26"
                          ],
                          [
                            1,
                            "#f0f921"
                          ]
                        ],
                        "type": "histogram2d"
                      }
                    ],
                    "histogram2dcontour": [
                      {
                        "colorbar": {
                          "outlinewidth": 0,
                          "ticks": ""
                        },
                        "colorscale": [
                          [
                            0,
                            "#0d0887"
                          ],
                          [
                            0.1111111111111111,
                            "#46039f"
                          ],
                          [
                            0.2222222222222222,
                            "#7201a8"
                          ],
                          [
                            0.3333333333333333,
                            "#9c179e"
                          ],
                          [
                            0.4444444444444444,
                            "#bd3786"
                          ],
                          [
                            0.5555555555555556,
                            "#d8576b"
                          ],
                          [
                            0.6666666666666666,
                            "#ed7953"
                          ],
                          [
                            0.7777777777777778,
                            "#fb9f3a"
                          ],
                          [
                            0.8888888888888888,
                            "#fdca26"
                          ],
                          [
                            1,
                            "#f0f921"
                          ]
                        ],
                        "type": "histogram2dcontour"
                      }
                    ],
                    "mesh3d": [
                      {
                        "colorbar": {
                          "outlinewidth": 0,
                          "ticks": ""
                        },
                        "type": "mesh3d"
                      }
                    ],
                    "parcoords": [
                      {
                        "line": {
                          "colorbar": {
                            "outlinewidth": 0,
                            "ticks": ""
                          }
                        },
                        "type": "parcoords"
                      }
                    ],
                    "pie": [
                      {
                        "automargin": true,
                        "type": "pie"
                      }
                    ],
                    "scatter": [
                      {
                        "fillpattern": {
                          "fillmode": "overlay",
                          "size": 10,
                          "solidity": 0.2
                        },
                        "type": "scatter"
                      }
                    ],
                    "scatter3d": [
                      {
                        "line": {
                          "colorbar": {
                            "outlinewidth": 0,
                            "ticks": ""
                          }
                        },
                        "marker": {
                          "colorbar": {
                            "outlinewidth": 0,
                            "ticks": ""
                          }
                        },
                        "type": "scatter3d"
                      }
                    ],
                    "scattercarpet": [
                      {
                        "marker": {
                          "colorbar": {
                            "outlinewidth": 0,
                            "ticks": ""
                          }
                        },
                        "type": "scattercarpet"
                      }
                    ],
                    "scattergeo": [
                      {
                        "marker": {
                          "colorbar": {
                            "outlinewidth": 0,
                            "ticks": ""
                          }
                        },
                        "type": "scattergeo"
                      }
                    ],
                    "scattergl": [
                      {
                        "marker": {
                          "colorbar": {
                            "outlinewidth": 0,
                            "ticks": ""
                          }
                        },
                        "type": "scattergl"
                      }
                    ],
                    "scattermap": [
                      {
                        "marker": {
                          "colorbar": {
                            "outlinewidth": 0,
                            "ticks": ""
                          }
                        },
                        "type": "scattermap"
                      }
                    ],
                    "scattermapbox": [
                      {
                        "marker": {
                          "colorbar": {
                            "outlinewidth": 0,
                            "ticks": ""
                          }
                        },
                        "type": "scattermapbox"
                      }
                    ],
                    "scatterpolar": [
                      {
                        "marker": {
                          "colorbar": {
                            "outlinewidth": 0,
                            "ticks": ""
                          }
                        },
                        "type": "scatterpolar"
                      }
                    ],
                    "scatterpolargl": [
                      {
                        "marker": {
                          "colorbar": {
                            "outlinewidth": 0,
                            "ticks": ""
                          }
                        },
                        "type": "scatterpolargl"
                      }
                    ],
                    "scatterternary": [
                      {
                        "marker": {
                          "colorbar": {
                            "outlinewidth": 0,
                            "ticks": ""
                          }
                        },
                        "type": "scatterternary"
                      }
                    ],
                    "surface": [
                      {
                        "colorbar": {
                          "outlinewidth": 0,
                          "ticks": ""
                        },
                        "colorscale": [
                          [
                            0,
                            "#0d0887"
                          ],
                          [
                            0.1111111111111111,
                            "#46039f"
                          ],
                          [
                            0.2222222222222222,
                            "#7201a8"
                          ],
                          [
                            0.3333333333333333,
                            "#9c179e"
                          ],
                          [
                            0.4444444444444444,
                            "#bd3786"
                          ],
                          [
                            0.5555555555555556,
                            "#d8576b"
                          ],
                          [
                            0.6666666666666666,
                            "#ed7953"
                          ],
                          [
                            0.7777777777777778,
                            "#fb9f3a"
                          ],
                          [
                            0.8888888888888888,
                            "#fdca26"
                          ],
                          [
                            1,
                            "#f0f921"
                          ]
                        ],
                        "type": "surface"
                      }
                    ],
                    "table": [
                      {
                        "cells": {
                          "fill": {
                            "color": "#EBF0F8"
                          },
                          "line": {
                            "color": "white"
                          }
                        },
                        "header": {
                          "fill": {
                            "color": "#C8D4E3"
                          },
                          "line": {
                            "color": "white"
                          }
                        },
                        "type": "table"
                      }
                    ]
                  },
                  "layout": {
                    "annotationdefaults": {
                      "arrowcolor": "#2a3f5f",
                      "arrowhead": 0,
                      "arrowwidth": 1
                    },
                    "autotypenumbers": "strict",
                    "coloraxis": {
                      "colorbar": {
                        "outlinewidth": 0,
                        "ticks": ""
                      }
                    },
                    "colorscale": {
                      "diverging": [
                        [
                          0,
                          "#8e0152"
                        ],
                        [
                          0.1,
                          "#c51b7d"
                        ],
                        [
                          0.2,
                          "#de77ae"
                        ],
                        [
                          0.3,
                          "#f1b6da"
                        ],
                        [
                          0.4,
                          "#fde0ef"
                        ],
                        [
                          0.5,
                          "#f7f7f7"
                        ],
                        [
                          0.6,
                          "#e6f5d0"
                        ],
                        [
                          0.7,
                          "#b8e186"
                        ],
                        [
                          0.8,
                          "#7fbc41"
                        ],
                        [
                          0.9,
                          "#4d9221"
                        ],
                        [
                          1,
                          "#276419"
                        ]
                      ],
                      "sequential": [
                        [
                          0,
                          "#0d0887"
                        ],
                        [
                          0.1111111111111111,
                          "#46039f"
                        ],
                        [
                          0.2222222222222222,
                          "#7201a8"
                        ],
                        [
                          0.3333333333333333,
                          "#9c179e"
                        ],
                        [
                          0.4444444444444444,
                          "#bd3786"
                        ],
                        [
                          0.5555555555555556,
                          "#d8576b"
                        ],
                        [
                          0.6666666666666666,
                          "#ed7953"
                        ],
                        [
                          0.7777777777777778,
                          "#fb9f3a"
                        ],
                        [
                          0.8888888888888888,
                          "#fdca26"
                        ],
                        [
                          1,
                          "#f0f921"
                        ]
                      ],
                      "sequentialminus": [
                        [
                          0,
                          "#0d0887"
                        ],
                        [
                          0.1111111111111111,
                          "#46039f"
                        ],
                        [
                          0.2222222222222222,
                          "#7201a8"
                        ],
                        [
                          0.3333333333333333,
                          "#9c179e"
                        ],
                        [
                          0.4444444444444444,
                          "#bd3786"
                        ],
                        [
                          0.5555555555555556,
                          "#d8576b"
                        ],
                        [
                          0.6666666666666666,
                          "#ed7953"
                        ],
                        [
                          0.7777777777777778,
                          "#fb9f3a"
                        ],
                        [
                          0.8888888888888888,
                          "#fdca26"
                        ],
                        [
                          1,
                          "#f0f921"
                        ]
                      ]
                    },
                    "colorway": [
                      "#636efa",
                      "#EF553B",
                      "#00cc96",
                      "#ab63fa",
                      "#FFA15A",
                      "#19d3f3",
                      "#FF6692",
                      "#B6E880",
                      "#FF97FF",
                      "#FECB52"
                    ],
                    "font": {
                      "color": "#2a3f5f"
                    },
                    "geo": {
                      "bgcolor": "white",
                      "lakecolor": "white",
                      "landcolor": "#E5ECF6",
                      "showlakes": true,
                      "showland": true,
                      "subunitcolor": "white"
                    },
                    "hoverlabel": {
                      "align": "left"
                    },
                    "hovermode": "closest",
                    "mapbox": {
                      "style": "light"
                    },
                    "paper_bgcolor": "white",
                    "plot_bgcolor": "#E5ECF6",
                    "polar": {
                      "angularaxis": {
                        "gridcolor": "white",
                        "linecolor": "white",
                        "ticks": ""
                      },
                      "bgcolor": "#E5ECF6",
                      "radialaxis": {
                        "gridcolor": "white",
                        "linecolor": "white",
                        "ticks": ""
                      }
                    },
                    "scene": {
                      "xaxis": {
                        "backgroundcolor": "#E5ECF6",
                        "gridcolor": "white",
                        "gridwidth": 2,
                        "linecolor": "white",
                        "showbackground": true,
                        "ticks": "",
                        "zerolinecolor": "white"
                      },
                      "yaxis": {
                        "backgroundcolor": "#E5ECF6",
                        "gridcolor": "white",
                        "gridwidth": 2,
                        "linecolor": "white",
                        "showbackground": true,
                        "ticks": "",
                        "zerolinecolor": "white"
                      },
                      "zaxis": {
                        "backgroundcolor": "#E5ECF6",
                        "gridcolor": "white",
                        "gridwidth": 2,
                        "linecolor": "white",
                        "showbackground": true,
                        "ticks": "",
                        "zerolinecolor": "white"
                      }
                    },
                    "shapedefaults": {
                      "line": {
                        "color": "#2a3f5f"
                      }
                    },
                    "ternary": {
                      "aaxis": {
                        "gridcolor": "white",
                        "linecolor": "white",
                        "ticks": ""
                      },
                      "baxis": {
                        "gridcolor": "white",
                        "linecolor": "white",
                        "ticks": ""
                      },
                      "bgcolor": "#E5ECF6",
                      "caxis": {
                        "gridcolor": "white",
                        "linecolor": "white",
                        "ticks": ""
                      }
                    },
                    "title": {
                      "x": 0.05
                    },
                    "xaxis": {
                      "automargin": true,
                      "gridcolor": "white",
                      "linecolor": "white",
                      "ticks": "",
                      "title": {
                        "standoff": 15
                      },
                      "zerolinecolor": "white",
                      "zerolinewidth": 2
                    },
                    "yaxis": {
                      "automargin": true,
                      "gridcolor": "white",
                      "linecolor": "white",
                      "ticks": "",
                      "title": {
                        "standoff": 15
                      },
                      "zerolinecolor": "white",
                      "zerolinewidth": 2
                    }
                  }
                },
                "title": {
                  "text": "Hyperparameter Importances"
                },
                "xaxis": {
                  "title": {
                    "text": "Hyperparameter Importance"
                  }
                },
                "yaxis": {
                  "title": {
                    "text": "Hyperparameter"
                  }
                }
              }
            }
          },
          "metadata": {},
          "output_type": "display_data"
        }
      ],
      "source": [
        "# 5. Hyperparameter Importance\n",
        "plot_param_importances(study).show()"
      ]
    },
    {
      "cell_type": "code",
      "execution_count": 33,
      "metadata": {},
      "outputs": [],
      "source": [
        "# %pip install xgboost"
      ]
    },
    {
      "cell_type": "code",
      "execution_count": 34,
      "metadata": {},
      "outputs": [
        {
          "name": "stdout",
          "output_type": "stream",
          "text": [
            "Requirement already satisfied: optuna-integration[xgboost] in d:\\programming\\learn_pytorch_for_deep_learning\\.env\\lib\\site-packages (4.5.0)\n",
            "Requirement already satisfied: optuna in d:\\programming\\learn_pytorch_for_deep_learning\\.env\\lib\\site-packages (from optuna-integration[xgboost]) (4.5.0)\n",
            "Requirement already satisfied: xgboost in d:\\programming\\learn_pytorch_for_deep_learning\\.env\\lib\\site-packages (from optuna-integration[xgboost]) (3.0.5)\n",
            "Requirement already satisfied: alembic>=1.5.0 in d:\\programming\\learn_pytorch_for_deep_learning\\.env\\lib\\site-packages (from optuna->optuna-integration[xgboost]) (1.16.5)\n",
            "Requirement already satisfied: colorlog in d:\\programming\\learn_pytorch_for_deep_learning\\.env\\lib\\site-packages (from optuna->optuna-integration[xgboost]) (6.9.0)\n",
            "Requirement already satisfied: numpy in d:\\programming\\learn_pytorch_for_deep_learning\\.env\\lib\\site-packages (from optuna->optuna-integration[xgboost]) (2.1.2)\n",
            "Requirement already satisfied: packaging>=20.0 in d:\\programming\\learn_pytorch_for_deep_learning\\.env\\lib\\site-packages (from optuna->optuna-integration[xgboost]) (25.0)\n",
            "Requirement already satisfied: sqlalchemy>=1.4.2 in d:\\programming\\learn_pytorch_for_deep_learning\\.env\\lib\\site-packages (from optuna->optuna-integration[xgboost]) (2.0.43)\n",
            "Requirement already satisfied: tqdm in d:\\programming\\learn_pytorch_for_deep_learning\\.env\\lib\\site-packages (from optuna->optuna-integration[xgboost]) (4.67.1)\n",
            "Requirement already satisfied: PyYAML in d:\\programming\\learn_pytorch_for_deep_learning\\.env\\lib\\site-packages (from optuna->optuna-integration[xgboost]) (6.0.2)\n",
            "Requirement already satisfied: Mako in d:\\programming\\learn_pytorch_for_deep_learning\\.env\\lib\\site-packages (from alembic>=1.5.0->optuna->optuna-integration[xgboost]) (1.3.10)\n",
            "Requirement already satisfied: typing-extensions>=4.12 in d:\\programming\\learn_pytorch_for_deep_learning\\.env\\lib\\site-packages (from alembic>=1.5.0->optuna->optuna-integration[xgboost]) (4.15.0)\n",
            "Requirement already satisfied: tomli in d:\\programming\\learn_pytorch_for_deep_learning\\.env\\lib\\site-packages (from alembic>=1.5.0->optuna->optuna-integration[xgboost]) (2.2.1)\n",
            "Requirement already satisfied: greenlet>=1 in d:\\programming\\learn_pytorch_for_deep_learning\\.env\\lib\\site-packages (from sqlalchemy>=1.4.2->optuna->optuna-integration[xgboost]) (3.2.4)\n",
            "Requirement already satisfied: colorama in d:\\programming\\learn_pytorch_for_deep_learning\\.env\\lib\\site-packages (from colorlog->optuna->optuna-integration[xgboost]) (0.4.6)\n",
            "Requirement already satisfied: MarkupSafe>=0.9.2 in d:\\programming\\learn_pytorch_for_deep_learning\\.env\\lib\\site-packages (from Mako->alembic>=1.5.0->optuna->optuna-integration[xgboost]) (2.1.5)\n",
            "Requirement already satisfied: scipy in d:\\programming\\learn_pytorch_for_deep_learning\\.env\\lib\\site-packages (from xgboost->optuna-integration[xgboost]) (1.15.3)\n",
            "Note: you may need to restart the kernel to use updated packages.\n"
          ]
        }
      ],
      "source": [
        "%pip install optuna-integration[xgboost]"
      ]
    },
    {
      "cell_type": "code",
      "execution_count": 35,
      "metadata": {
        "colab": {
          "base_uri": "https://localhost:8080/"
        },
        "id": "APAwYNxkIwMf",
        "outputId": "204d3690-5f5e-444d-89fa-9c21e6552562"
      },
      "outputs": [
        {
          "name": "stderr",
          "output_type": "stream",
          "text": [
            "[I 2025-09-17 09:58:30,420] A new study created in memory with name: no-name-b92769c1-d07f-41ee-9f92-6097146fd427\n"
          ]
        },
        {
          "name": "stdout",
          "output_type": "stream",
          "text": [
            "[0]\ttrain-mlogloss:0.78414\teval-mlogloss:0.77606\n",
            "[1]\ttrain-mlogloss:0.58910\teval-mlogloss:0.56575\n",
            "[2]\ttrain-mlogloss:0.45816\teval-mlogloss:0.42436\n",
            "[3]\ttrain-mlogloss:0.36308\teval-mlogloss:0.32308\n",
            "[4]\ttrain-mlogloss:0.30313\teval-mlogloss:0.25701\n",
            "[5]\ttrain-mlogloss:0.25761\teval-mlogloss:0.20292\n",
            "[6]\ttrain-mlogloss:0.23097\teval-mlogloss:0.17255\n",
            "[7]\ttrain-mlogloss:0.21890\teval-mlogloss:0.15901\n",
            "[8]\ttrain-mlogloss:0.19965\teval-mlogloss:0.13436\n",
            "[9]\ttrain-mlogloss:0.19357\teval-mlogloss:0.12464\n",
            "[10]\ttrain-mlogloss:0.18801\teval-mlogloss:0.11884\n",
            "[11]\ttrain-mlogloss:0.18625\teval-mlogloss:0.11615\n",
            "[12]\ttrain-mlogloss:0.18582\teval-mlogloss:0.11572\n",
            "[13]\ttrain-mlogloss:0.18536\teval-mlogloss:0.11514\n",
            "[14]\ttrain-mlogloss:0.18527\teval-mlogloss:0.11480\n",
            "[15]\ttrain-mlogloss:0.18521\teval-mlogloss:0.11467\n",
            "[16]\ttrain-mlogloss:0.18453\teval-mlogloss:0.11424\n",
            "[17]\ttrain-mlogloss:0.18347\teval-mlogloss:0.11382\n",
            "[18]\ttrain-mlogloss:0.18332\teval-mlogloss:0.11456\n",
            "[19]\ttrain-mlogloss:0.18241\teval-mlogloss:0.11415\n",
            "[20]\ttrain-mlogloss:0.18170\teval-mlogloss:0.11360\n",
            "[21]\ttrain-mlogloss:0.18134\teval-mlogloss:0.11119\n",
            "[22]\ttrain-mlogloss:0.17953\teval-mlogloss:0.11180\n",
            "[23]\ttrain-mlogloss:0.17569\teval-mlogloss:0.10589\n",
            "[24]\ttrain-mlogloss:0.17505\teval-mlogloss:0.10538\n",
            "[25]\ttrain-mlogloss:0.17454\teval-mlogloss:0.10524\n",
            "[26]\ttrain-mlogloss:0.17403\teval-mlogloss:0.10523\n",
            "[27]\ttrain-mlogloss:0.17403\teval-mlogloss:0.10526\n",
            "[28]\ttrain-mlogloss:0.17383\teval-mlogloss:0.10542\n",
            "[29]\ttrain-mlogloss:0.17349\teval-mlogloss:0.10538\n",
            "[30]\ttrain-mlogloss:0.17334\teval-mlogloss:0.10545\n",
            "[31]\ttrain-mlogloss:0.17313\teval-mlogloss:0.10438\n",
            "[32]\ttrain-mlogloss:0.17270\teval-mlogloss:0.10407\n",
            "[33]\ttrain-mlogloss:0.17237\teval-mlogloss:0.10419\n",
            "[34]\ttrain-mlogloss:0.17205\teval-mlogloss:0.10393\n",
            "[35]\ttrain-mlogloss:0.17190\teval-mlogloss:0.10397\n",
            "[36]\ttrain-mlogloss:0.17172\teval-mlogloss:0.10378\n",
            "[37]\ttrain-mlogloss:0.17146\teval-mlogloss:0.10138\n",
            "[38]\ttrain-mlogloss:0.17155\teval-mlogloss:0.10131\n",
            "[39]\ttrain-mlogloss:0.17069\teval-mlogloss:0.10020\n",
            "[40]\ttrain-mlogloss:0.17058\teval-mlogloss:0.10016\n",
            "[41]\ttrain-mlogloss:0.17038\teval-mlogloss:0.10035\n",
            "[42]\ttrain-mlogloss:0.17010\teval-mlogloss:0.10068\n",
            "[43]\ttrain-mlogloss:0.17009\teval-mlogloss:0.10070\n",
            "[44]\ttrain-mlogloss:0.17007\teval-mlogloss:0.10061\n",
            "[45]\ttrain-mlogloss:0.16982\teval-mlogloss:0.10045\n",
            "[46]\ttrain-mlogloss:0.16968\teval-mlogloss:0.10015\n",
            "[47]\ttrain-mlogloss:0.16957\teval-mlogloss:0.10015\n",
            "[48]\ttrain-mlogloss:0.16952\teval-mlogloss:0.10009\n",
            "[49]\ttrain-mlogloss:0.16939\teval-mlogloss:0.09917\n",
            "[50]\ttrain-mlogloss:0.16941\teval-mlogloss:0.09914\n",
            "[51]\ttrain-mlogloss:0.16920\teval-mlogloss:0.09937\n",
            "[52]\ttrain-mlogloss:0.16910\teval-mlogloss:0.09950\n",
            "[53]\ttrain-mlogloss:0.16905\teval-mlogloss:0.09943\n",
            "[54]\ttrain-mlogloss:0.16908\teval-mlogloss:0.09927\n",
            "[55]\ttrain-mlogloss:0.16908\teval-mlogloss:0.09950\n",
            "[56]\ttrain-mlogloss:0.16892\teval-mlogloss:0.09957\n",
            "[57]\ttrain-mlogloss:0.16896\teval-mlogloss:0.09945\n",
            "[58]\ttrain-mlogloss:0.16899\teval-mlogloss:0.09942\n",
            "[59]\ttrain-mlogloss:0.16883\teval-mlogloss:0.09948\n",
            "[60]\ttrain-mlogloss:0.16877\teval-mlogloss:0.09965\n",
            "[61]\ttrain-mlogloss:0.16862\teval-mlogloss:0.09964\n",
            "[62]\ttrain-mlogloss:0.16848\teval-mlogloss:0.09959\n",
            "[63]\ttrain-mlogloss:0.16826\teval-mlogloss:0.09973\n",
            "[64]\ttrain-mlogloss:0.16816\teval-mlogloss:0.09853\n",
            "[65]\ttrain-mlogloss:0.16825\teval-mlogloss:0.09890\n",
            "[66]\ttrain-mlogloss:0.16811\teval-mlogloss:0.09803\n",
            "[67]\ttrain-mlogloss:0.16809\teval-mlogloss:0.09808\n",
            "[68]\ttrain-mlogloss:0.16794\teval-mlogloss:0.09817\n",
            "[69]\ttrain-mlogloss:0.16781\teval-mlogloss:0.09795\n",
            "[70]\ttrain-mlogloss:0.16776\teval-mlogloss:0.09795\n",
            "[71]\ttrain-mlogloss:0.16772\teval-mlogloss:0.09795\n",
            "[72]\ttrain-mlogloss:0.16773\teval-mlogloss:0.09770\n",
            "[73]\ttrain-mlogloss:0.16758\teval-mlogloss:0.09776\n",
            "[74]\ttrain-mlogloss:0.16745\teval-mlogloss:0.09790\n",
            "[75]\ttrain-mlogloss:0.16736\teval-mlogloss:0.09805\n",
            "[76]\ttrain-mlogloss:0.16746\teval-mlogloss:0.09834\n",
            "[77]\ttrain-mlogloss:0.16716\teval-mlogloss:0.09787\n",
            "[78]\ttrain-mlogloss:0.16769\teval-mlogloss:0.09834\n",
            "[79]\ttrain-mlogloss:0.16746\teval-mlogloss:0.09828\n",
            "[80]\ttrain-mlogloss:0.16730\teval-mlogloss:0.09765\n",
            "[81]\ttrain-mlogloss:0.16727\teval-mlogloss:0.09778\n",
            "[82]\ttrain-mlogloss:0.16721\teval-mlogloss:0.09765\n",
            "[83]\ttrain-mlogloss:0.16711\teval-mlogloss:0.09761\n",
            "[84]\ttrain-mlogloss:0.16695\teval-mlogloss:0.09750\n",
            "[85]\ttrain-mlogloss:0.16688\teval-mlogloss:0.09731\n",
            "[86]\ttrain-mlogloss:0.16689\teval-mlogloss:0.09729\n",
            "[87]\ttrain-mlogloss:0.16679\teval-mlogloss:0.09726\n",
            "[88]\ttrain-mlogloss:0.16673\teval-mlogloss:0.09721\n",
            "[89]\ttrain-mlogloss:0.16657\teval-mlogloss:0.09714\n",
            "[90]\ttrain-mlogloss:0.16654\teval-mlogloss:0.09729\n",
            "[91]\ttrain-mlogloss:0.16652\teval-mlogloss:0.09734\n",
            "[92]\ttrain-mlogloss:0.16646\teval-mlogloss:0.09705\n",
            "[93]\ttrain-mlogloss:0.16643\teval-mlogloss:0.09687\n",
            "[94]\ttrain-mlogloss:0.16637\teval-mlogloss:0.09702\n",
            "[95]\ttrain-mlogloss:0.16650\teval-mlogloss:0.09719\n",
            "[96]\ttrain-mlogloss:0.16627\teval-mlogloss:0.09674\n",
            "[97]\ttrain-mlogloss:0.16620\teval-mlogloss:0.09669\n",
            "[98]\ttrain-mlogloss:0.16625\teval-mlogloss:0.09675\n",
            "[99]\ttrain-mlogloss:0.16619\teval-mlogloss:0.09597\n",
            "[100]\ttrain-mlogloss:0.16621\teval-mlogloss:0.09600\n",
            "[101]\ttrain-mlogloss:0.16608\teval-mlogloss:0.09603\n",
            "[102]\ttrain-mlogloss:0.16607\teval-mlogloss:0.09601\n",
            "[103]\ttrain-mlogloss:0.16605\teval-mlogloss:0.09566\n",
            "[104]\ttrain-mlogloss:0.16612\teval-mlogloss:0.09594\n",
            "[105]\ttrain-mlogloss:0.16599\teval-mlogloss:0.09565\n",
            "[106]\ttrain-mlogloss:0.16587\teval-mlogloss:0.09549\n",
            "[107]\ttrain-mlogloss:0.16600\teval-mlogloss:0.09589\n",
            "[108]\ttrain-mlogloss:0.16580\teval-mlogloss:0.09581\n",
            "[109]\ttrain-mlogloss:0.16567\teval-mlogloss:0.09559\n",
            "[110]\ttrain-mlogloss:0.16570\teval-mlogloss:0.09594\n",
            "[111]\ttrain-mlogloss:0.16577\teval-mlogloss:0.09613\n",
            "[112]\ttrain-mlogloss:0.16560\teval-mlogloss:0.09583\n",
            "[113]\ttrain-mlogloss:0.16567\teval-mlogloss:0.09592\n",
            "[114]\ttrain-mlogloss:0.16563\teval-mlogloss:0.09578\n",
            "[115]\ttrain-mlogloss:0.16566\teval-mlogloss:0.09580\n",
            "[116]\ttrain-mlogloss:0.16560\teval-mlogloss:0.09576\n",
            "[117]\ttrain-mlogloss:0.16557\teval-mlogloss:0.09522\n",
            "[118]\ttrain-mlogloss:0.16550\teval-mlogloss:0.09526\n",
            "[119]\ttrain-mlogloss:0.16546\teval-mlogloss:0.09551\n",
            "[120]\ttrain-mlogloss:0.16549\teval-mlogloss:0.09554\n",
            "[121]\ttrain-mlogloss:0.16546\teval-mlogloss:0.09560\n",
            "[122]\ttrain-mlogloss:0.16552\teval-mlogloss:0.09577\n",
            "[123]\ttrain-mlogloss:0.16557\teval-mlogloss:0.09583\n",
            "[124]\ttrain-mlogloss:0.16532\teval-mlogloss:0.09564\n",
            "[125]\ttrain-mlogloss:0.16529\teval-mlogloss:0.09559\n",
            "[126]\ttrain-mlogloss:0.16515\teval-mlogloss:0.09559\n",
            "[127]\ttrain-mlogloss:0.16512\teval-mlogloss:0.09555\n",
            "[128]\ttrain-mlogloss:0.16506\teval-mlogloss:0.09571\n",
            "[129]\ttrain-mlogloss:0.16498\teval-mlogloss:0.09557\n",
            "[130]\ttrain-mlogloss:0.16499\teval-mlogloss:0.09563\n",
            "[131]\ttrain-mlogloss:0.16499\teval-mlogloss:0.09572\n",
            "[132]\ttrain-mlogloss:0.16487\teval-mlogloss:0.09493\n",
            "[133]\ttrain-mlogloss:0.16488\teval-mlogloss:0.09504\n",
            "[134]\ttrain-mlogloss:0.16492\teval-mlogloss:0.09520\n",
            "[135]\ttrain-mlogloss:0.16496\teval-mlogloss:0.09540\n",
            "[136]\ttrain-mlogloss:0.16496\teval-mlogloss:0.09532\n",
            "[137]\ttrain-mlogloss:0.16434\teval-mlogloss:0.09427\n",
            "[138]\ttrain-mlogloss:0.16412\teval-mlogloss:0.09398\n",
            "[139]\ttrain-mlogloss:0.16407\teval-mlogloss:0.09398\n",
            "[140]\ttrain-mlogloss:0.16406\teval-mlogloss:0.09411\n",
            "[141]\ttrain-mlogloss:0.16420\teval-mlogloss:0.09461\n",
            "[142]\ttrain-mlogloss:0.16422\teval-mlogloss:0.09470\n",
            "[143]\ttrain-mlogloss:0.16422\teval-mlogloss:0.09470\n",
            "[144]\ttrain-mlogloss:0.16424\teval-mlogloss:0.09477\n",
            "[145]\ttrain-mlogloss:0.16430\teval-mlogloss:0.09485\n",
            "[146]\ttrain-mlogloss:0.16384\teval-mlogloss:0.09398\n",
            "[147]\ttrain-mlogloss:0.16371\teval-mlogloss:0.09351\n",
            "[148]\ttrain-mlogloss:0.16369\teval-mlogloss:0.09349\n",
            "[149]\ttrain-mlogloss:0.16373\teval-mlogloss:0.09370\n",
            "[150]\ttrain-mlogloss:0.16369\teval-mlogloss:0.09338\n",
            "[151]\ttrain-mlogloss:0.16371\teval-mlogloss:0.09316\n",
            "[152]\ttrain-mlogloss:0.16376\teval-mlogloss:0.09334\n",
            "[153]\ttrain-mlogloss:0.16369\teval-mlogloss:0.09346\n",
            "[154]\ttrain-mlogloss:0.16375\teval-mlogloss:0.09323\n",
            "[155]\ttrain-mlogloss:0.16379\teval-mlogloss:0.09314\n",
            "[156]\ttrain-mlogloss:0.16389\teval-mlogloss:0.09307\n",
            "[157]\ttrain-mlogloss:0.16386\teval-mlogloss:0.09306\n",
            "[158]\ttrain-mlogloss:0.16380\teval-mlogloss:0.09296\n",
            "[159]\ttrain-mlogloss:0.16362\teval-mlogloss:0.09308\n",
            "[160]\ttrain-mlogloss:0.16359\teval-mlogloss:0.09320\n",
            "[161]\ttrain-mlogloss:0.16344\teval-mlogloss:0.09313\n",
            "[162]\ttrain-mlogloss:0.16343\teval-mlogloss:0.09320\n",
            "[163]\ttrain-mlogloss:0.16341\teval-mlogloss:0.09326\n",
            "[164]\ttrain-mlogloss:0.16347\teval-mlogloss:0.09355\n",
            "[165]\ttrain-mlogloss:0.16346\teval-mlogloss:0.09357\n",
            "[166]\ttrain-mlogloss:0.16338\teval-mlogloss:0.09354\n",
            "[167]\ttrain-mlogloss:0.16341\teval-mlogloss:0.09360\n",
            "[168]\ttrain-mlogloss:0.16339\teval-mlogloss:0.09356\n",
            "[169]\ttrain-mlogloss:0.16337\teval-mlogloss:0.09353\n",
            "[170]\ttrain-mlogloss:0.16333\teval-mlogloss:0.09334\n",
            "[171]\ttrain-mlogloss:0.16317\teval-mlogloss:0.09317\n",
            "[172]\ttrain-mlogloss:0.16320\teval-mlogloss:0.09300\n",
            "[173]\ttrain-mlogloss:0.16318\teval-mlogloss:0.09299\n",
            "[174]\ttrain-mlogloss:0.16323\teval-mlogloss:0.09368\n",
            "[175]\ttrain-mlogloss:0.16319\teval-mlogloss:0.09353\n",
            "[176]\ttrain-mlogloss:0.16319\teval-mlogloss:0.09276\n",
            "[177]\ttrain-mlogloss:0.16318\teval-mlogloss:0.09274\n",
            "[178]\ttrain-mlogloss:0.16316\teval-mlogloss:0.09271\n",
            "[179]\ttrain-mlogloss:0.16316\teval-mlogloss:0.09275\n",
            "[180]\ttrain-mlogloss:0.16324\teval-mlogloss:0.09303\n",
            "[181]\ttrain-mlogloss:0.16318\teval-mlogloss:0.09297\n",
            "[182]\ttrain-mlogloss:0.16324\teval-mlogloss:0.09249\n",
            "[183]\ttrain-mlogloss:0.16316\teval-mlogloss:0.09274\n",
            "[184]\ttrain-mlogloss:0.16317\teval-mlogloss:0.09268\n",
            "[185]\ttrain-mlogloss:0.16313\teval-mlogloss:0.09285\n",
            "[186]\ttrain-mlogloss:0.16308\teval-mlogloss:0.09288\n",
            "[187]\ttrain-mlogloss:0.16308\teval-mlogloss:0.09288\n",
            "[188]\ttrain-mlogloss:0.16308\teval-mlogloss:0.09296\n",
            "[189]\ttrain-mlogloss:0.16308\teval-mlogloss:0.09308\n",
            "[190]\ttrain-mlogloss:0.16312\teval-mlogloss:0.09318\n",
            "[191]\ttrain-mlogloss:0.16311\teval-mlogloss:0.09339\n",
            "[192]\ttrain-mlogloss:0.16311\teval-mlogloss:0.09325\n",
            "[193]\ttrain-mlogloss:0.16311\teval-mlogloss:0.09317\n",
            "[194]\ttrain-mlogloss:0.16316\teval-mlogloss:0.09336\n",
            "[195]\ttrain-mlogloss:0.16316\teval-mlogloss:0.09333\n",
            "[196]\ttrain-mlogloss:0.16309\teval-mlogloss:0.09348\n",
            "[197]\ttrain-mlogloss:0.16308\teval-mlogloss:0.09311\n",
            "[198]\ttrain-mlogloss:0.16312\teval-mlogloss:0.09276\n",
            "[199]\ttrain-mlogloss:0.16312\teval-mlogloss:0.09206\n",
            "[200]\ttrain-mlogloss:0.16306\teval-mlogloss:0.09194\n",
            "[201]\ttrain-mlogloss:0.16327\teval-mlogloss:0.09169\n",
            "[202]\ttrain-mlogloss:0.16320\teval-mlogloss:0.09175\n",
            "[203]\ttrain-mlogloss:0.16307\teval-mlogloss:0.09198\n",
            "[204]\ttrain-mlogloss:0.16293\teval-mlogloss:0.09209\n",
            "[205]\ttrain-mlogloss:0.16290\teval-mlogloss:0.09219\n",
            "[206]\ttrain-mlogloss:0.16289\teval-mlogloss:0.09238\n",
            "[207]\ttrain-mlogloss:0.16289\teval-mlogloss:0.09229\n",
            "[208]\ttrain-mlogloss:0.16287\teval-mlogloss:0.09289\n",
            "[209]\ttrain-mlogloss:0.16289\teval-mlogloss:0.09270\n",
            "[210]\ttrain-mlogloss:0.16289\teval-mlogloss:0.09274\n",
            "[211]\ttrain-mlogloss:0.16292\teval-mlogloss:0.09271\n",
            "[212]\ttrain-mlogloss:0.16282\teval-mlogloss:0.09250\n",
            "[213]\ttrain-mlogloss:0.16281\teval-mlogloss:0.09248\n",
            "[214]\ttrain-mlogloss:0.16280\teval-mlogloss:0.09255\n",
            "[215]\ttrain-mlogloss:0.16280\teval-mlogloss:0.09264\n",
            "[216]\ttrain-mlogloss:0.16281\teval-mlogloss:0.09277\n",
            "[217]\ttrain-mlogloss:0.16281\teval-mlogloss:0.09274\n",
            "[218]\ttrain-mlogloss:0.16280\teval-mlogloss:0.09268\n",
            "[219]\ttrain-mlogloss:0.16281\teval-mlogloss:0.09244\n",
            "[220]\ttrain-mlogloss:0.16283\teval-mlogloss:0.09239\n",
            "[221]\ttrain-mlogloss:0.16281\teval-mlogloss:0.09252\n",
            "[222]\ttrain-mlogloss:0.16281\teval-mlogloss:0.09262\n",
            "[223]\ttrain-mlogloss:0.16273\teval-mlogloss:0.09264\n",
            "[224]\ttrain-mlogloss:0.16257\teval-mlogloss:0.09252\n",
            "[225]\ttrain-mlogloss:0.16257\teval-mlogloss:0.09255\n",
            "[226]\ttrain-mlogloss:0.16256\teval-mlogloss:0.09247\n",
            "[227]\ttrain-mlogloss:0.16255\teval-mlogloss:0.09252\n",
            "[228]\ttrain-mlogloss:0.16255\teval-mlogloss:0.09249\n",
            "[229]\ttrain-mlogloss:0.16256\teval-mlogloss:0.09265\n",
            "[230]\ttrain-mlogloss:0.16256\teval-mlogloss:0.09261\n"
          ]
        },
        {
          "name": "stderr",
          "output_type": "stream",
          "text": [
            "[I 2025-09-17 09:58:30,902] Trial 0 finished with value: 1.0 and parameters: {'lambda': 4.057323911367664e-07, 'alpha': 0.15591987079988331, 'eta': 0.27167587789575615, 'gamma': 6.789690775557702e-05, 'max_depth': 4, 'min_child_weight': 7, 'subsample': 0.7827374274731098, 'colsample_bytree': 0.9794792471971193}. Best is trial 0 with value: 1.0.\n"
          ]
        },
        {
          "name": "stdout",
          "output_type": "stream",
          "text": [
            "[0]\ttrain-mlogloss:0.82168\teval-mlogloss:0.80540\n",
            "[1]\ttrain-mlogloss:0.72853\teval-mlogloss:0.70082\n",
            "[2]\ttrain-mlogloss:0.59228\teval-mlogloss:0.55228\n",
            "[3]\ttrain-mlogloss:0.47172\teval-mlogloss:0.42300\n",
            "[4]\ttrain-mlogloss:0.39696\teval-mlogloss:0.34391\n",
            "[5]\ttrain-mlogloss:0.33991\teval-mlogloss:0.28379\n",
            "[6]\ttrain-mlogloss:0.30463\teval-mlogloss:0.24546\n",
            "[7]\ttrain-mlogloss:0.30467\teval-mlogloss:0.24530\n",
            "[8]\ttrain-mlogloss:0.27576\teval-mlogloss:0.21067\n",
            "[9]\ttrain-mlogloss:0.26558\teval-mlogloss:0.19520\n",
            "[10]\ttrain-mlogloss:0.25905\teval-mlogloss:0.18571\n",
            "[11]\ttrain-mlogloss:0.25905\teval-mlogloss:0.18571\n",
            "[12]\ttrain-mlogloss:0.25892\teval-mlogloss:0.18587\n",
            "[13]\ttrain-mlogloss:0.25893\teval-mlogloss:0.18608\n",
            "[14]\ttrain-mlogloss:0.25895\teval-mlogloss:0.18586\n",
            "[15]\ttrain-mlogloss:0.25893\teval-mlogloss:0.18595\n",
            "[16]\ttrain-mlogloss:0.25892\teval-mlogloss:0.18595\n",
            "[17]\ttrain-mlogloss:0.25889\teval-mlogloss:0.18596\n",
            "[18]\ttrain-mlogloss:0.25904\teval-mlogloss:0.18572\n",
            "[19]\ttrain-mlogloss:0.25896\teval-mlogloss:0.18582\n",
            "[20]\ttrain-mlogloss:0.25900\teval-mlogloss:0.18565\n",
            "[21]\ttrain-mlogloss:0.25902\teval-mlogloss:0.18568\n",
            "[22]\ttrain-mlogloss:0.25897\teval-mlogloss:0.18588\n",
            "[23]\ttrain-mlogloss:0.23773\teval-mlogloss:0.16468\n",
            "[24]\ttrain-mlogloss:0.23784\teval-mlogloss:0.16484\n",
            "[25]\ttrain-mlogloss:0.23535\teval-mlogloss:0.16135\n",
            "[26]\ttrain-mlogloss:0.23530\teval-mlogloss:0.16128\n",
            "[27]\ttrain-mlogloss:0.23529\teval-mlogloss:0.16120\n",
            "[28]\ttrain-mlogloss:0.23526\teval-mlogloss:0.16138\n",
            "[29]\ttrain-mlogloss:0.23526\teval-mlogloss:0.16152\n",
            "[30]\ttrain-mlogloss:0.23396\teval-mlogloss:0.16045\n",
            "[31]\ttrain-mlogloss:0.23403\teval-mlogloss:0.16034\n",
            "[32]\ttrain-mlogloss:0.23406\teval-mlogloss:0.16062\n",
            "[33]\ttrain-mlogloss:0.23404\teval-mlogloss:0.16032\n",
            "[34]\ttrain-mlogloss:0.23395\teval-mlogloss:0.16041\n",
            "[35]\ttrain-mlogloss:0.23398\teval-mlogloss:0.16052\n",
            "[36]\ttrain-mlogloss:0.23409\teval-mlogloss:0.16061\n",
            "[37]\ttrain-mlogloss:0.23400\teval-mlogloss:0.16023\n",
            "[38]\ttrain-mlogloss:0.23405\teval-mlogloss:0.16014\n",
            "[39]\ttrain-mlogloss:0.23404\teval-mlogloss:0.16016\n",
            "[40]\ttrain-mlogloss:0.23403\teval-mlogloss:0.16017\n",
            "[41]\ttrain-mlogloss:0.23404\teval-mlogloss:0.16023\n",
            "[42]\ttrain-mlogloss:0.23399\teval-mlogloss:0.16037\n",
            "[43]\ttrain-mlogloss:0.23408\teval-mlogloss:0.16046\n",
            "[44]\ttrain-mlogloss:0.23394\teval-mlogloss:0.16059\n",
            "[45]\ttrain-mlogloss:0.23388\teval-mlogloss:0.16073\n",
            "[46]\ttrain-mlogloss:0.23397\teval-mlogloss:0.16041\n",
            "[47]\ttrain-mlogloss:0.23399\teval-mlogloss:0.16024\n",
            "[48]\ttrain-mlogloss:0.23402\teval-mlogloss:0.16017\n",
            "[49]\ttrain-mlogloss:0.23403\teval-mlogloss:0.16020\n",
            "[50]\ttrain-mlogloss:0.23411\teval-mlogloss:0.16005\n",
            "[51]\ttrain-mlogloss:0.23411\teval-mlogloss:0.16004\n",
            "[52]\ttrain-mlogloss:0.23411\teval-mlogloss:0.16015\n",
            "[53]\ttrain-mlogloss:0.23413\teval-mlogloss:0.16018\n",
            "[54]\ttrain-mlogloss:0.23399\teval-mlogloss:0.16025\n",
            "[55]\ttrain-mlogloss:0.23408\teval-mlogloss:0.16009\n",
            "[56]\ttrain-mlogloss:0.23401\teval-mlogloss:0.16024\n",
            "[57]\ttrain-mlogloss:0.23405\teval-mlogloss:0.16012\n",
            "[58]\ttrain-mlogloss:0.23413\teval-mlogloss:0.16002\n",
            "[59]\ttrain-mlogloss:0.23401\teval-mlogloss:0.16021\n",
            "[60]\ttrain-mlogloss:0.23389\teval-mlogloss:0.16069\n",
            "[61]\ttrain-mlogloss:0.23402\teval-mlogloss:0.16090\n",
            "[62]\ttrain-mlogloss:0.23398\teval-mlogloss:0.16087\n",
            "[63]\ttrain-mlogloss:0.23397\teval-mlogloss:0.16058\n",
            "[64]\ttrain-mlogloss:0.23394\teval-mlogloss:0.16050\n",
            "[65]\ttrain-mlogloss:0.23407\teval-mlogloss:0.16094\n",
            "[66]\ttrain-mlogloss:0.23396\teval-mlogloss:0.16066\n",
            "[67]\ttrain-mlogloss:0.23398\teval-mlogloss:0.16090\n",
            "[68]\ttrain-mlogloss:0.23392\teval-mlogloss:0.16071\n",
            "[69]\ttrain-mlogloss:0.23390\teval-mlogloss:0.16063\n",
            "[70]\ttrain-mlogloss:0.23390\teval-mlogloss:0.16063\n",
            "[71]\ttrain-mlogloss:0.23394\teval-mlogloss:0.16053\n",
            "[72]\ttrain-mlogloss:0.23398\teval-mlogloss:0.16027\n",
            "[73]\ttrain-mlogloss:0.23410\teval-mlogloss:0.16004\n",
            "[74]\ttrain-mlogloss:0.23401\teval-mlogloss:0.16021\n",
            "[75]\ttrain-mlogloss:0.23400\teval-mlogloss:0.16043\n",
            "[76]\ttrain-mlogloss:0.23404\teval-mlogloss:0.16045\n",
            "[77]\ttrain-mlogloss:0.23400\teval-mlogloss:0.16055\n",
            "[78]\ttrain-mlogloss:0.23420\teval-mlogloss:0.16088\n",
            "[79]\ttrain-mlogloss:0.23415\teval-mlogloss:0.16102\n",
            "[80]\ttrain-mlogloss:0.23423\teval-mlogloss:0.16108\n",
            "[81]\ttrain-mlogloss:0.23431\teval-mlogloss:0.16152\n",
            "[82]\ttrain-mlogloss:0.23439\teval-mlogloss:0.16173\n",
            "[83]\ttrain-mlogloss:0.23423\teval-mlogloss:0.16138\n",
            "[84]\ttrain-mlogloss:0.23417\teval-mlogloss:0.16129\n",
            "[85]\ttrain-mlogloss:0.23400\teval-mlogloss:0.16117\n",
            "[86]\ttrain-mlogloss:0.23411\teval-mlogloss:0.16136\n",
            "[87]\ttrain-mlogloss:0.23404\teval-mlogloss:0.16108\n",
            "[88]\ttrain-mlogloss:0.23397\teval-mlogloss:0.16093\n"
          ]
        },
        {
          "name": "stderr",
          "output_type": "stream",
          "text": [
            "[I 2025-09-17 09:58:31,056] Trial 1 finished with value: 1.0 and parameters: {'lambda': 0.03650007112184016, 'alpha': 0.0028278533066872892, 'eta': 0.2382266641299075, 'gamma': 0.7509705991067698, 'max_depth': 4, 'min_child_weight': 8, 'subsample': 0.6521413022527576, 'colsample_bytree': 0.5632251280097232}. Best is trial 0 with value: 1.0.\n"
          ]
        },
        {
          "name": "stdout",
          "output_type": "stream",
          "text": [
            "[0]\ttrain-mlogloss:1.01419\teval-mlogloss:1.01310\n",
            "[1]\ttrain-mlogloss:0.94019\teval-mlogloss:0.93392\n",
            "[2]\ttrain-mlogloss:0.87078\teval-mlogloss:0.86118\n",
            "[3]\ttrain-mlogloss:0.80941\teval-mlogloss:0.79876\n",
            "[4]\ttrain-mlogloss:0.75483\teval-mlogloss:0.74128\n",
            "[5]\ttrain-mlogloss:0.70427\teval-mlogloss:0.68662\n",
            "[6]\ttrain-mlogloss:0.65980\teval-mlogloss:0.63896\n",
            "[7]\ttrain-mlogloss:0.61801\teval-mlogloss:0.59490\n",
            "[8]\ttrain-mlogloss:0.58036\teval-mlogloss:0.55409\n",
            "[9]\ttrain-mlogloss:0.54474\teval-mlogloss:0.51872\n",
            "[10]\ttrain-mlogloss:0.51226\teval-mlogloss:0.48600\n",
            "[11]\ttrain-mlogloss:0.48268\teval-mlogloss:0.45319\n",
            "[12]\ttrain-mlogloss:0.45573\teval-mlogloss:0.42434\n",
            "[13]\ttrain-mlogloss:0.42984\teval-mlogloss:0.39768\n",
            "[14]\ttrain-mlogloss:0.40646\teval-mlogloss:0.37240\n",
            "[15]\ttrain-mlogloss:0.38491\teval-mlogloss:0.35012\n",
            "[16]\ttrain-mlogloss:0.36412\teval-mlogloss:0.32789\n",
            "[17]\ttrain-mlogloss:0.34549\teval-mlogloss:0.30823\n",
            "[18]\ttrain-mlogloss:0.32830\teval-mlogloss:0.29041\n",
            "[19]\ttrain-mlogloss:0.31203\teval-mlogloss:0.27401\n",
            "[20]\ttrain-mlogloss:0.29712\teval-mlogloss:0.25918\n",
            "[21]\ttrain-mlogloss:0.28250\teval-mlogloss:0.24365\n",
            "[22]\ttrain-mlogloss:0.26924\teval-mlogloss:0.22940\n",
            "[23]\ttrain-mlogloss:0.25610\teval-mlogloss:0.21667\n",
            "[24]\ttrain-mlogloss:0.24472\teval-mlogloss:0.20423\n",
            "[25]\ttrain-mlogloss:0.23364\teval-mlogloss:0.19264\n",
            "[26]\ttrain-mlogloss:0.22386\teval-mlogloss:0.18211\n",
            "[27]\ttrain-mlogloss:0.21439\teval-mlogloss:0.17221\n",
            "[28]\ttrain-mlogloss:0.20626\teval-mlogloss:0.16405\n",
            "[29]\ttrain-mlogloss:0.19853\teval-mlogloss:0.15516\n",
            "[30]\ttrain-mlogloss:0.19153\teval-mlogloss:0.14814\n",
            "[31]\ttrain-mlogloss:0.18495\teval-mlogloss:0.14022\n"
          ]
        },
        {
          "name": "stderr",
          "output_type": "stream",
          "text": [
            "[I 2025-09-17 09:58:31,111] Trial 2 pruned. Trial was pruned at iteration 32.\n"
          ]
        },
        {
          "name": "stdout",
          "output_type": "stream",
          "text": [
            "[0]\ttrain-mlogloss:1.04409\teval-mlogloss:1.04151\n",
            "[1]\ttrain-mlogloss:1.01974\teval-mlogloss:1.01439\n",
            "[2]\ttrain-mlogloss:1.00322\teval-mlogloss:1.00168\n",
            "[3]\ttrain-mlogloss:0.94706\teval-mlogloss:0.94277\n",
            "[4]\ttrain-mlogloss:0.92812\teval-mlogloss:0.92229\n",
            "[5]\ttrain-mlogloss:0.89465\teval-mlogloss:0.88895\n",
            "[6]\ttrain-mlogloss:0.86084\teval-mlogloss:0.85073\n",
            "[7]\ttrain-mlogloss:0.82522\teval-mlogloss:0.81368\n",
            "[8]\ttrain-mlogloss:0.80535\teval-mlogloss:0.79440\n",
            "[9]\ttrain-mlogloss:0.76333\teval-mlogloss:0.74885\n",
            "[10]\ttrain-mlogloss:0.73322\teval-mlogloss:0.71493\n",
            "[11]\ttrain-mlogloss:0.72139\teval-mlogloss:0.70295\n",
            "[12]\ttrain-mlogloss:0.69628\teval-mlogloss:0.67722\n",
            "[13]\ttrain-mlogloss:0.67328\teval-mlogloss:0.65191\n",
            "[14]\ttrain-mlogloss:0.65154\teval-mlogloss:0.62881\n",
            "[15]\ttrain-mlogloss:0.63982\teval-mlogloss:0.61946\n",
            "[16]\ttrain-mlogloss:0.62660\teval-mlogloss:0.60546\n",
            "[17]\ttrain-mlogloss:0.60539\teval-mlogloss:0.58255\n",
            "[18]\ttrain-mlogloss:0.58368\teval-mlogloss:0.55715\n",
            "[19]\ttrain-mlogloss:0.58076\teval-mlogloss:0.55507\n",
            "[20]\ttrain-mlogloss:0.57698\teval-mlogloss:0.55191\n",
            "[21]\ttrain-mlogloss:0.56713\teval-mlogloss:0.54310\n",
            "[22]\ttrain-mlogloss:0.54685\teval-mlogloss:0.52135\n",
            "[23]\ttrain-mlogloss:0.52895\teval-mlogloss:0.50301\n",
            "[24]\ttrain-mlogloss:0.51409\teval-mlogloss:0.48576\n",
            "[25]\ttrain-mlogloss:0.49913\teval-mlogloss:0.46819\n",
            "[26]\ttrain-mlogloss:0.49637\teval-mlogloss:0.46587\n",
            "[27]\ttrain-mlogloss:0.49227\teval-mlogloss:0.46166\n",
            "[28]\ttrain-mlogloss:0.48049\teval-mlogloss:0.44992\n",
            "[29]\ttrain-mlogloss:0.47702\teval-mlogloss:0.44647\n",
            "[30]\ttrain-mlogloss:0.47095\teval-mlogloss:0.43942\n",
            "[31]\ttrain-mlogloss:0.45890\teval-mlogloss:0.42767\n",
            "[32]\ttrain-mlogloss:0.45716\teval-mlogloss:0.42605\n",
            "[33]\ttrain-mlogloss:0.45338\teval-mlogloss:0.41864\n",
            "[34]\ttrain-mlogloss:0.44614\teval-mlogloss:0.41061\n",
            "[35]\ttrain-mlogloss:0.44610\teval-mlogloss:0.41070\n",
            "[36]\ttrain-mlogloss:0.44274\teval-mlogloss:0.40809\n",
            "[37]\ttrain-mlogloss:0.43623\teval-mlogloss:0.40088\n",
            "[38]\ttrain-mlogloss:0.43059\teval-mlogloss:0.39498\n",
            "[39]\ttrain-mlogloss:0.42404\teval-mlogloss:0.38774\n",
            "[40]\ttrain-mlogloss:0.42298\teval-mlogloss:0.38656\n",
            "[41]\ttrain-mlogloss:0.41803\teval-mlogloss:0.38065\n",
            "[42]\ttrain-mlogloss:0.41740\teval-mlogloss:0.37980\n",
            "[43]\ttrain-mlogloss:0.41169\teval-mlogloss:0.37462\n",
            "[44]\ttrain-mlogloss:0.40077\teval-mlogloss:0.36252\n",
            "[45]\ttrain-mlogloss:0.40028\teval-mlogloss:0.36180\n",
            "[46]\ttrain-mlogloss:0.40007\teval-mlogloss:0.36077\n",
            "[47]\ttrain-mlogloss:0.40002\teval-mlogloss:0.36091\n",
            "[48]\ttrain-mlogloss:0.39935\teval-mlogloss:0.36087\n",
            "[49]\ttrain-mlogloss:0.39808\teval-mlogloss:0.35961\n",
            "[50]\ttrain-mlogloss:0.39209\teval-mlogloss:0.35213\n",
            "[51]\ttrain-mlogloss:0.38660\teval-mlogloss:0.34677\n",
            "[52]\ttrain-mlogloss:0.38673\teval-mlogloss:0.34682\n",
            "[53]\ttrain-mlogloss:0.38283\teval-mlogloss:0.34262\n",
            "[54]\ttrain-mlogloss:0.38265\teval-mlogloss:0.34243\n",
            "[55]\ttrain-mlogloss:0.38227\teval-mlogloss:0.34183\n",
            "[56]\ttrain-mlogloss:0.38205\teval-mlogloss:0.34158\n",
            "[57]\ttrain-mlogloss:0.38044\teval-mlogloss:0.33989\n",
            "[58]\ttrain-mlogloss:0.38020\teval-mlogloss:0.33909\n",
            "[59]\ttrain-mlogloss:0.38016\teval-mlogloss:0.33915\n",
            "[60]\ttrain-mlogloss:0.37993\teval-mlogloss:0.33977\n",
            "[61]\ttrain-mlogloss:0.37946\teval-mlogloss:0.33941\n",
            "[62]\ttrain-mlogloss:0.37831\teval-mlogloss:0.33768\n",
            "[63]\ttrain-mlogloss:0.37835\teval-mlogloss:0.33755\n",
            "[64]\ttrain-mlogloss:0.37768\teval-mlogloss:0.33660\n",
            "[65]\ttrain-mlogloss:0.37769\teval-mlogloss:0.33679\n",
            "[66]\ttrain-mlogloss:0.37744\teval-mlogloss:0.33663\n",
            "[67]\ttrain-mlogloss:0.37708\teval-mlogloss:0.33648\n",
            "[68]\ttrain-mlogloss:0.37695\teval-mlogloss:0.33619\n",
            "[69]\ttrain-mlogloss:0.37652\teval-mlogloss:0.33605\n",
            "[70]\ttrain-mlogloss:0.37614\teval-mlogloss:0.33566\n",
            "[71]\ttrain-mlogloss:0.37585\teval-mlogloss:0.33555\n",
            "[72]\ttrain-mlogloss:0.37586\teval-mlogloss:0.33539\n",
            "[73]\ttrain-mlogloss:0.37526\teval-mlogloss:0.33516\n",
            "[74]\ttrain-mlogloss:0.37501\teval-mlogloss:0.33595\n",
            "[75]\ttrain-mlogloss:0.37408\teval-mlogloss:0.33498\n",
            "[76]\ttrain-mlogloss:0.37375\teval-mlogloss:0.33433\n",
            "[77]\ttrain-mlogloss:0.37313\teval-mlogloss:0.33324\n",
            "[78]\ttrain-mlogloss:0.37313\teval-mlogloss:0.33322\n",
            "[79]\ttrain-mlogloss:0.36888\teval-mlogloss:0.32855\n",
            "[80]\ttrain-mlogloss:0.36856\teval-mlogloss:0.32828\n",
            "[81]\ttrain-mlogloss:0.36854\teval-mlogloss:0.32851\n",
            "[82]\ttrain-mlogloss:0.36780\teval-mlogloss:0.32780\n",
            "[83]\ttrain-mlogloss:0.36780\teval-mlogloss:0.32759\n",
            "[84]\ttrain-mlogloss:0.36322\teval-mlogloss:0.32254\n",
            "[85]\ttrain-mlogloss:0.36294\teval-mlogloss:0.32196\n",
            "[86]\ttrain-mlogloss:0.36294\teval-mlogloss:0.32201\n",
            "[87]\ttrain-mlogloss:0.36273\teval-mlogloss:0.32145\n",
            "[88]\ttrain-mlogloss:0.36213\teval-mlogloss:0.32094\n",
            "[89]\ttrain-mlogloss:0.36192\teval-mlogloss:0.32097\n",
            "[90]\ttrain-mlogloss:0.36170\teval-mlogloss:0.32077\n",
            "[91]\ttrain-mlogloss:0.36178\teval-mlogloss:0.32087\n",
            "[92]\ttrain-mlogloss:0.36151\teval-mlogloss:0.32066\n",
            "[93]\ttrain-mlogloss:0.36148\teval-mlogloss:0.32066\n",
            "[94]\ttrain-mlogloss:0.36127\teval-mlogloss:0.32047\n",
            "[95]\ttrain-mlogloss:0.36134\teval-mlogloss:0.32075\n",
            "[96]\ttrain-mlogloss:0.36103\teval-mlogloss:0.32057\n",
            "[97]\ttrain-mlogloss:0.36013\teval-mlogloss:0.32044\n",
            "[98]\ttrain-mlogloss:0.35981\teval-mlogloss:0.32002\n",
            "[99]\ttrain-mlogloss:0.35953\teval-mlogloss:0.32014\n",
            "[100]\ttrain-mlogloss:0.35945\teval-mlogloss:0.31999\n",
            "[101]\ttrain-mlogloss:0.35899\teval-mlogloss:0.31966\n",
            "[102]\ttrain-mlogloss:0.35865\teval-mlogloss:0.31932\n",
            "[103]\ttrain-mlogloss:0.35567\teval-mlogloss:0.31534\n",
            "[104]\ttrain-mlogloss:0.35540\teval-mlogloss:0.31442\n",
            "[105]\ttrain-mlogloss:0.35525\teval-mlogloss:0.31419\n",
            "[106]\ttrain-mlogloss:0.35047\teval-mlogloss:0.30834\n",
            "[107]\ttrain-mlogloss:0.35028\teval-mlogloss:0.30851\n",
            "[108]\ttrain-mlogloss:0.35014\teval-mlogloss:0.30795\n",
            "[109]\ttrain-mlogloss:0.34969\teval-mlogloss:0.30679\n",
            "[110]\ttrain-mlogloss:0.34970\teval-mlogloss:0.30684\n",
            "[111]\ttrain-mlogloss:0.34969\teval-mlogloss:0.30666\n",
            "[112]\ttrain-mlogloss:0.34557\teval-mlogloss:0.30124\n",
            "[113]\ttrain-mlogloss:0.34556\teval-mlogloss:0.30120\n",
            "[114]\ttrain-mlogloss:0.34560\teval-mlogloss:0.30122\n",
            "[115]\ttrain-mlogloss:0.34544\teval-mlogloss:0.30102\n",
            "[116]\ttrain-mlogloss:0.34547\teval-mlogloss:0.30112\n",
            "[117]\ttrain-mlogloss:0.34532\teval-mlogloss:0.30131\n",
            "[118]\ttrain-mlogloss:0.34524\teval-mlogloss:0.30118\n",
            "[119]\ttrain-mlogloss:0.34497\teval-mlogloss:0.30093\n",
            "[120]\ttrain-mlogloss:0.34394\teval-mlogloss:0.29955\n",
            "[121]\ttrain-mlogloss:0.34367\teval-mlogloss:0.29915\n",
            "[122]\ttrain-mlogloss:0.34288\teval-mlogloss:0.29820\n",
            "[123]\ttrain-mlogloss:0.34277\teval-mlogloss:0.29859\n",
            "[124]\ttrain-mlogloss:0.33918\teval-mlogloss:0.29372\n",
            "[125]\ttrain-mlogloss:0.33911\teval-mlogloss:0.29368\n",
            "[126]\ttrain-mlogloss:0.33869\teval-mlogloss:0.29256\n",
            "[127]\ttrain-mlogloss:0.33782\teval-mlogloss:0.29144\n",
            "[128]\ttrain-mlogloss:0.33744\teval-mlogloss:0.29137\n",
            "[129]\ttrain-mlogloss:0.33730\teval-mlogloss:0.29101\n",
            "[130]\ttrain-mlogloss:0.33740\teval-mlogloss:0.29113\n",
            "[131]\ttrain-mlogloss:0.33742\teval-mlogloss:0.29127\n",
            "[132]\ttrain-mlogloss:0.33686\teval-mlogloss:0.29043\n",
            "[133]\ttrain-mlogloss:0.33681\teval-mlogloss:0.29031\n",
            "[134]\ttrain-mlogloss:0.33676\teval-mlogloss:0.29027\n",
            "[135]\ttrain-mlogloss:0.33628\teval-mlogloss:0.28946\n",
            "[136]\ttrain-mlogloss:0.33611\teval-mlogloss:0.28925\n",
            "[137]\ttrain-mlogloss:0.33610\teval-mlogloss:0.28911\n",
            "[138]\ttrain-mlogloss:0.33591\teval-mlogloss:0.28904\n",
            "[139]\ttrain-mlogloss:0.33567\teval-mlogloss:0.28859\n",
            "[140]\ttrain-mlogloss:0.33518\teval-mlogloss:0.28775\n",
            "[141]\ttrain-mlogloss:0.33487\teval-mlogloss:0.28767\n",
            "[142]\ttrain-mlogloss:0.33491\teval-mlogloss:0.28786\n",
            "[143]\ttrain-mlogloss:0.33491\teval-mlogloss:0.28796\n",
            "[144]\ttrain-mlogloss:0.33445\teval-mlogloss:0.28679\n",
            "[145]\ttrain-mlogloss:0.33434\teval-mlogloss:0.28677\n",
            "[146]\ttrain-mlogloss:0.33430\teval-mlogloss:0.28647\n",
            "[147]\ttrain-mlogloss:0.33107\teval-mlogloss:0.28297\n",
            "[148]\ttrain-mlogloss:0.33106\teval-mlogloss:0.28327\n",
            "[149]\ttrain-mlogloss:0.33109\teval-mlogloss:0.28326\n",
            "[150]\ttrain-mlogloss:0.33105\teval-mlogloss:0.28308\n",
            "[151]\ttrain-mlogloss:0.33100\teval-mlogloss:0.28317\n",
            "[152]\ttrain-mlogloss:0.33101\teval-mlogloss:0.28309\n",
            "[153]\ttrain-mlogloss:0.33098\teval-mlogloss:0.28300\n",
            "[154]\ttrain-mlogloss:0.33020\teval-mlogloss:0.28247\n",
            "[155]\ttrain-mlogloss:0.33028\teval-mlogloss:0.28260\n",
            "[156]\ttrain-mlogloss:0.33032\teval-mlogloss:0.28255\n",
            "[157]\ttrain-mlogloss:0.33033\teval-mlogloss:0.28247\n",
            "[158]\ttrain-mlogloss:0.33020\teval-mlogloss:0.28223\n",
            "[159]\ttrain-mlogloss:0.32987\teval-mlogloss:0.28191\n",
            "[160]\ttrain-mlogloss:0.32964\teval-mlogloss:0.28172\n",
            "[161]\ttrain-mlogloss:0.32942\teval-mlogloss:0.28116\n",
            "[162]\ttrain-mlogloss:0.32936\teval-mlogloss:0.28132\n",
            "[163]\ttrain-mlogloss:0.32936\teval-mlogloss:0.28129\n",
            "[164]\ttrain-mlogloss:0.32906\teval-mlogloss:0.28096\n",
            "[165]\ttrain-mlogloss:0.32905\teval-mlogloss:0.28098\n",
            "[166]\ttrain-mlogloss:0.32876\teval-mlogloss:0.28066\n",
            "[167]\ttrain-mlogloss:0.32877\teval-mlogloss:0.28064\n",
            "[168]\ttrain-mlogloss:0.32877\teval-mlogloss:0.28066\n",
            "[169]\ttrain-mlogloss:0.32833\teval-mlogloss:0.27999\n",
            "[170]\ttrain-mlogloss:0.32833\teval-mlogloss:0.28013\n",
            "[171]\ttrain-mlogloss:0.32834\teval-mlogloss:0.28033\n",
            "[172]\ttrain-mlogloss:0.32831\teval-mlogloss:0.28024\n",
            "[173]\ttrain-mlogloss:0.32830\teval-mlogloss:0.28022\n",
            "[174]\ttrain-mlogloss:0.32828\teval-mlogloss:0.28042\n",
            "[175]\ttrain-mlogloss:0.32831\teval-mlogloss:0.28015\n",
            "[176]\ttrain-mlogloss:0.32833\teval-mlogloss:0.28007\n",
            "[177]\ttrain-mlogloss:0.32817\teval-mlogloss:0.27986\n",
            "[178]\ttrain-mlogloss:0.32824\teval-mlogloss:0.28002\n",
            "[179]\ttrain-mlogloss:0.32831\teval-mlogloss:0.27995\n",
            "[180]\ttrain-mlogloss:0.32839\teval-mlogloss:0.27985\n",
            "[181]\ttrain-mlogloss:0.32835\teval-mlogloss:0.27985\n",
            "[182]\ttrain-mlogloss:0.32834\teval-mlogloss:0.27978\n",
            "[183]\ttrain-mlogloss:0.32835\teval-mlogloss:0.27970\n",
            "[184]\ttrain-mlogloss:0.32819\teval-mlogloss:0.27988\n",
            "[185]\ttrain-mlogloss:0.32798\teval-mlogloss:0.27971\n",
            "[186]\ttrain-mlogloss:0.32795\teval-mlogloss:0.27951\n",
            "[187]\ttrain-mlogloss:0.32798\teval-mlogloss:0.27935\n",
            "[188]\ttrain-mlogloss:0.32795\teval-mlogloss:0.27952\n",
            "[189]\ttrain-mlogloss:0.32779\teval-mlogloss:0.27971\n",
            "[190]\ttrain-mlogloss:0.32787\teval-mlogloss:0.27998\n",
            "[191]\ttrain-mlogloss:0.32787\teval-mlogloss:0.27990\n",
            "[192]\ttrain-mlogloss:0.32784\teval-mlogloss:0.28008\n",
            "[193]\ttrain-mlogloss:0.32744\teval-mlogloss:0.27875\n",
            "[194]\ttrain-mlogloss:0.32744\teval-mlogloss:0.27893\n",
            "[195]\ttrain-mlogloss:0.32747\teval-mlogloss:0.27871\n",
            "[196]\ttrain-mlogloss:0.32751\teval-mlogloss:0.27874\n",
            "[197]\ttrain-mlogloss:0.32745\teval-mlogloss:0.27866\n",
            "[198]\ttrain-mlogloss:0.32724\teval-mlogloss:0.27892\n",
            "[199]\ttrain-mlogloss:0.32442\teval-mlogloss:0.27562\n",
            "[200]\ttrain-mlogloss:0.32442\teval-mlogloss:0.27560\n",
            "[201]\ttrain-mlogloss:0.32447\teval-mlogloss:0.27542\n",
            "[202]\ttrain-mlogloss:0.32447\teval-mlogloss:0.27542\n",
            "[203]\ttrain-mlogloss:0.32446\teval-mlogloss:0.27548\n",
            "[204]\ttrain-mlogloss:0.32431\teval-mlogloss:0.27523\n",
            "[205]\ttrain-mlogloss:0.32432\teval-mlogloss:0.27517\n",
            "[206]\ttrain-mlogloss:0.32426\teval-mlogloss:0.27536\n",
            "[207]\ttrain-mlogloss:0.32420\teval-mlogloss:0.27524\n",
            "[208]\ttrain-mlogloss:0.32403\teval-mlogloss:0.27529\n",
            "[209]\ttrain-mlogloss:0.32381\teval-mlogloss:0.27436\n",
            "[210]\ttrain-mlogloss:0.32381\teval-mlogloss:0.27436\n",
            "[211]\ttrain-mlogloss:0.32354\teval-mlogloss:0.27434\n",
            "[212]\ttrain-mlogloss:0.32354\teval-mlogloss:0.27436\n",
            "[213]\ttrain-mlogloss:0.32328\teval-mlogloss:0.27416\n",
            "[214]\ttrain-mlogloss:0.32332\teval-mlogloss:0.27398\n",
            "[215]\ttrain-mlogloss:0.32300\teval-mlogloss:0.27311\n",
            "[216]\ttrain-mlogloss:0.32283\teval-mlogloss:0.27274\n",
            "[217]\ttrain-mlogloss:0.32266\teval-mlogloss:0.27213\n",
            "[218]\ttrain-mlogloss:0.32265\teval-mlogloss:0.27226\n",
            "[219]\ttrain-mlogloss:0.32267\teval-mlogloss:0.27206\n",
            "[220]\ttrain-mlogloss:0.32262\teval-mlogloss:0.27186\n",
            "[221]\ttrain-mlogloss:0.32189\teval-mlogloss:0.27101\n",
            "[222]\ttrain-mlogloss:0.32190\teval-mlogloss:0.27104\n",
            "[223]\ttrain-mlogloss:0.32188\teval-mlogloss:0.27112\n",
            "[224]\ttrain-mlogloss:0.32161\teval-mlogloss:0.27095\n",
            "[225]\ttrain-mlogloss:0.32137\teval-mlogloss:0.27100\n",
            "[226]\ttrain-mlogloss:0.32138\teval-mlogloss:0.27072\n",
            "[227]\ttrain-mlogloss:0.32138\teval-mlogloss:0.27083\n",
            "[228]\ttrain-mlogloss:0.32138\teval-mlogloss:0.27080\n",
            "[229]\ttrain-mlogloss:0.32123\teval-mlogloss:0.27057\n",
            "[230]\ttrain-mlogloss:0.32076\teval-mlogloss:0.27048\n",
            "[231]\ttrain-mlogloss:0.32080\teval-mlogloss:0.27043\n",
            "[232]\ttrain-mlogloss:0.32078\teval-mlogloss:0.27052\n",
            "[233]\ttrain-mlogloss:0.32076\teval-mlogloss:0.27039\n",
            "[234]\ttrain-mlogloss:0.32080\teval-mlogloss:0.27063\n",
            "[235]\ttrain-mlogloss:0.32081\teval-mlogloss:0.27080\n",
            "[236]\ttrain-mlogloss:0.32066\teval-mlogloss:0.27046\n",
            "[237]\ttrain-mlogloss:0.32068\teval-mlogloss:0.27050\n",
            "[238]\ttrain-mlogloss:0.32067\teval-mlogloss:0.27054\n",
            "[239]\ttrain-mlogloss:0.32062\teval-mlogloss:0.27055\n",
            "[240]\ttrain-mlogloss:0.32035\teval-mlogloss:0.27028\n",
            "[241]\ttrain-mlogloss:0.32029\teval-mlogloss:0.27009\n",
            "[242]\ttrain-mlogloss:0.32033\teval-mlogloss:0.27030\n",
            "[243]\ttrain-mlogloss:0.32029\teval-mlogloss:0.27018\n",
            "[244]\ttrain-mlogloss:0.32029\teval-mlogloss:0.27010\n",
            "[245]\ttrain-mlogloss:0.32027\teval-mlogloss:0.27017\n",
            "[246]\ttrain-mlogloss:0.32021\teval-mlogloss:0.26978\n",
            "[247]\ttrain-mlogloss:0.31694\teval-mlogloss:0.26602\n",
            "[248]\ttrain-mlogloss:0.31695\teval-mlogloss:0.26602\n",
            "[249]\ttrain-mlogloss:0.31692\teval-mlogloss:0.26585\n",
            "[250]\ttrain-mlogloss:0.31680\teval-mlogloss:0.26512\n",
            "[251]\ttrain-mlogloss:0.31682\teval-mlogloss:0.26494\n",
            "[252]\ttrain-mlogloss:0.31682\teval-mlogloss:0.26479\n",
            "[253]\ttrain-mlogloss:0.31681\teval-mlogloss:0.26482\n",
            "[254]\ttrain-mlogloss:0.31679\teval-mlogloss:0.26499\n",
            "[255]\ttrain-mlogloss:0.31679\teval-mlogloss:0.26503\n",
            "[256]\ttrain-mlogloss:0.31665\teval-mlogloss:0.26463\n",
            "[257]\ttrain-mlogloss:0.31664\teval-mlogloss:0.26463\n",
            "[258]\ttrain-mlogloss:0.31340\teval-mlogloss:0.26079\n",
            "[259]\ttrain-mlogloss:0.31343\teval-mlogloss:0.26067\n",
            "[260]\ttrain-mlogloss:0.31345\teval-mlogloss:0.26062\n",
            "[261]\ttrain-mlogloss:0.31338\teval-mlogloss:0.26043\n",
            "[262]\ttrain-mlogloss:0.31317\teval-mlogloss:0.26025\n",
            "[263]\ttrain-mlogloss:0.31315\teval-mlogloss:0.26034\n",
            "[264]\ttrain-mlogloss:0.31303\teval-mlogloss:0.26019\n",
            "[265]\ttrain-mlogloss:0.31301\teval-mlogloss:0.26024\n",
            "[266]\ttrain-mlogloss:0.31301\teval-mlogloss:0.26029\n",
            "[267]\ttrain-mlogloss:0.31301\teval-mlogloss:0.26026\n",
            "[268]\ttrain-mlogloss:0.31162\teval-mlogloss:0.25884\n",
            "[269]\ttrain-mlogloss:0.31162\teval-mlogloss:0.25887\n",
            "[270]\ttrain-mlogloss:0.31151\teval-mlogloss:0.25815\n",
            "[271]\ttrain-mlogloss:0.31147\teval-mlogloss:0.25834\n",
            "[272]\ttrain-mlogloss:0.31147\teval-mlogloss:0.25838\n",
            "[273]\ttrain-mlogloss:0.31146\teval-mlogloss:0.25841\n",
            "[274]\ttrain-mlogloss:0.31146\teval-mlogloss:0.25854\n",
            "[275]\ttrain-mlogloss:0.31147\teval-mlogloss:0.25854\n",
            "[276]\ttrain-mlogloss:0.31147\teval-mlogloss:0.25851\n",
            "[277]\ttrain-mlogloss:0.31146\teval-mlogloss:0.25866\n",
            "[278]\ttrain-mlogloss:0.31148\teval-mlogloss:0.25856\n",
            "[279]\ttrain-mlogloss:0.31149\teval-mlogloss:0.25849\n",
            "[280]\ttrain-mlogloss:0.31149\teval-mlogloss:0.25830\n",
            "[281]\ttrain-mlogloss:0.31148\teval-mlogloss:0.25839\n",
            "[282]\ttrain-mlogloss:0.31150\teval-mlogloss:0.25819\n",
            "[283]\ttrain-mlogloss:0.31148\teval-mlogloss:0.25827\n",
            "[284]\ttrain-mlogloss:0.31147\teval-mlogloss:0.25838\n",
            "[285]\ttrain-mlogloss:0.31146\teval-mlogloss:0.25846\n",
            "[286]\ttrain-mlogloss:0.31136\teval-mlogloss:0.25851\n",
            "[287]\ttrain-mlogloss:0.31135\teval-mlogloss:0.25834\n",
            "[288]\ttrain-mlogloss:0.31134\teval-mlogloss:0.25850\n",
            "[289]\ttrain-mlogloss:0.31122\teval-mlogloss:0.25830\n",
            "[290]\ttrain-mlogloss:0.31123\teval-mlogloss:0.25845\n",
            "[291]\ttrain-mlogloss:0.31125\teval-mlogloss:0.25854\n",
            "[292]\ttrain-mlogloss:0.31126\teval-mlogloss:0.25866\n",
            "[293]\ttrain-mlogloss:0.31126\teval-mlogloss:0.25855\n",
            "[294]\ttrain-mlogloss:0.31114\teval-mlogloss:0.25830\n",
            "[295]\ttrain-mlogloss:0.31113\teval-mlogloss:0.25817\n",
            "[296]\ttrain-mlogloss:0.31116\teval-mlogloss:0.25839\n",
            "[297]\ttrain-mlogloss:0.31114\teval-mlogloss:0.25842\n",
            "[298]\ttrain-mlogloss:0.31108\teval-mlogloss:0.25824\n",
            "[299]\ttrain-mlogloss:0.31103\teval-mlogloss:0.25813\n"
          ]
        },
        {
          "name": "stderr",
          "output_type": "stream",
          "text": [
            "[I 2025-09-17 09:58:31,536] Trial 3 finished with value: 0.9666666666666667 and parameters: {'lambda': 7.70540859651835e-07, 'alpha': 0.006741068841681867, 'eta': 0.05937278776868164, 'gamma': 0.1279679297539093, 'max_depth': 4, 'min_child_weight': 8, 'subsample': 0.4803050025368706, 'colsample_bytree': 0.4636745531434123}. Best is trial 0 with value: 1.0.\n"
          ]
        },
        {
          "name": "stdout",
          "output_type": "stream",
          "text": [
            "[0]\ttrain-mlogloss:0.83166\teval-mlogloss:0.82615\n",
            "[1]\ttrain-mlogloss:0.65420\teval-mlogloss:0.63512\n"
          ]
        },
        {
          "name": "stderr",
          "output_type": "stream",
          "text": [
            "[I 2025-09-17 09:58:31,544] Trial 4 pruned. Trial was pruned at iteration 2.\n"
          ]
        },
        {
          "name": "stdout",
          "output_type": "stream",
          "text": [
            "[0]\ttrain-mlogloss:0.94204\teval-mlogloss:0.93438\n",
            "[1]\ttrain-mlogloss:0.85938\teval-mlogloss:0.85429\n"
          ]
        },
        {
          "name": "stderr",
          "output_type": "stream",
          "text": [
            "[I 2025-09-17 09:58:31,551] Trial 5 pruned. Trial was pruned at iteration 2.\n"
          ]
        },
        {
          "name": "stdout",
          "output_type": "stream",
          "text": [
            "[0]\ttrain-mlogloss:0.76586\teval-mlogloss:0.75494\n",
            "[1]\ttrain-mlogloss:0.63536\teval-mlogloss:0.62517\n"
          ]
        },
        {
          "name": "stderr",
          "output_type": "stream",
          "text": [
            "[I 2025-09-17 09:58:31,558] Trial 6 pruned. Trial was pruned at iteration 2.\n"
          ]
        },
        {
          "name": "stdout",
          "output_type": "stream",
          "text": [
            "[0]\ttrain-mlogloss:0.85288\teval-mlogloss:0.83739\n",
            "[1]\ttrain-mlogloss:0.76189\teval-mlogloss:0.75521\n",
            "[2]\ttrain-mlogloss:0.65953\teval-mlogloss:0.65980\n"
          ]
        },
        {
          "name": "stderr",
          "output_type": "stream",
          "text": [
            "[I 2025-09-17 09:58:31,565] Trial 7 pruned. Trial was pruned at iteration 2.\n"
          ]
        },
        {
          "name": "stdout",
          "output_type": "stream",
          "text": [
            "[0]\ttrain-mlogloss:0.91978\teval-mlogloss:0.91354\n",
            "[1]\ttrain-mlogloss:0.84303\teval-mlogloss:0.81527\n"
          ]
        },
        {
          "name": "stderr",
          "output_type": "stream",
          "text": [
            "[I 2025-09-17 09:58:31,572] Trial 8 pruned. Trial was pruned at iteration 2.\n"
          ]
        },
        {
          "name": "stdout",
          "output_type": "stream",
          "text": [
            "[0]\ttrain-mlogloss:1.08516\teval-mlogloss:1.08453\n",
            "[1]\ttrain-mlogloss:1.07739\teval-mlogloss:1.07695\n",
            "[2]\ttrain-mlogloss:1.06573\teval-mlogloss:1.06499\n",
            "[3]\ttrain-mlogloss:1.05245\teval-mlogloss:1.05125\n",
            "[4]\ttrain-mlogloss:1.03983\teval-mlogloss:1.03830\n",
            "[5]\ttrain-mlogloss:1.02709\teval-mlogloss:1.02491\n",
            "[6]\ttrain-mlogloss:1.01523\teval-mlogloss:1.01230\n",
            "[7]\ttrain-mlogloss:1.00331\teval-mlogloss:0.99981\n",
            "[8]\ttrain-mlogloss:0.99158\teval-mlogloss:0.98718\n",
            "[9]\ttrain-mlogloss:0.97995\teval-mlogloss:0.97504\n",
            "[10]\ttrain-mlogloss:0.96987\teval-mlogloss:0.96500\n",
            "[11]\ttrain-mlogloss:0.95853\teval-mlogloss:0.95327\n",
            "[12]\ttrain-mlogloss:0.94892\teval-mlogloss:0.94344\n",
            "[13]\ttrain-mlogloss:0.93811\teval-mlogloss:0.93202\n",
            "[14]\ttrain-mlogloss:0.92762\teval-mlogloss:0.92071\n",
            "[15]\ttrain-mlogloss:0.91886\teval-mlogloss:0.91137\n",
            "[16]\ttrain-mlogloss:0.90995\teval-mlogloss:0.90219\n",
            "[17]\ttrain-mlogloss:0.89995\teval-mlogloss:0.89183\n",
            "[18]\ttrain-mlogloss:0.89158\teval-mlogloss:0.88316\n",
            "[19]\ttrain-mlogloss:0.88260\teval-mlogloss:0.87447\n",
            "[20]\ttrain-mlogloss:0.87447\teval-mlogloss:0.86616\n",
            "[21]\ttrain-mlogloss:0.86617\teval-mlogloss:0.85744\n",
            "[22]\ttrain-mlogloss:0.85663\teval-mlogloss:0.84706\n",
            "[23]\ttrain-mlogloss:0.84704\teval-mlogloss:0.83700\n",
            "[24]\ttrain-mlogloss:0.83796\teval-mlogloss:0.82724\n",
            "[25]\ttrain-mlogloss:0.82885\teval-mlogloss:0.81762\n",
            "[26]\ttrain-mlogloss:0.82067\teval-mlogloss:0.80908\n",
            "[27]\ttrain-mlogloss:0.81184\teval-mlogloss:0.79971\n",
            "[28]\ttrain-mlogloss:0.80326\teval-mlogloss:0.79077\n",
            "[29]\ttrain-mlogloss:0.79616\teval-mlogloss:0.78313\n",
            "[30]\ttrain-mlogloss:0.79056\teval-mlogloss:0.77812\n",
            "[31]\ttrain-mlogloss:0.78338\teval-mlogloss:0.77076\n",
            "[32]\ttrain-mlogloss:0.77519\teval-mlogloss:0.76209\n",
            "[33]\ttrain-mlogloss:0.76699\teval-mlogloss:0.75318\n",
            "[34]\ttrain-mlogloss:0.76050\teval-mlogloss:0.74638\n",
            "[35]\ttrain-mlogloss:0.75276\teval-mlogloss:0.73790\n",
            "[36]\ttrain-mlogloss:0.74558\teval-mlogloss:0.73071\n",
            "[37]\ttrain-mlogloss:0.73776\teval-mlogloss:0.72239\n",
            "[38]\ttrain-mlogloss:0.73041\teval-mlogloss:0.71435\n",
            "[39]\ttrain-mlogloss:0.72278\teval-mlogloss:0.70659\n",
            "[40]\ttrain-mlogloss:0.71668\teval-mlogloss:0.70042\n",
            "[41]\ttrain-mlogloss:0.70943\teval-mlogloss:0.69251\n",
            "[42]\ttrain-mlogloss:0.70228\teval-mlogloss:0.68467\n",
            "[43]\ttrain-mlogloss:0.69514\teval-mlogloss:0.67702\n",
            "[44]\ttrain-mlogloss:0.68970\teval-mlogloss:0.67134\n",
            "[45]\ttrain-mlogloss:0.68282\teval-mlogloss:0.66414\n",
            "[46]\ttrain-mlogloss:0.67590\teval-mlogloss:0.65683\n",
            "[47]\ttrain-mlogloss:0.66982\teval-mlogloss:0.65067\n",
            "[48]\ttrain-mlogloss:0.66309\teval-mlogloss:0.64383\n",
            "[49]\ttrain-mlogloss:0.65648\teval-mlogloss:0.63660\n",
            "[50]\ttrain-mlogloss:0.65006\teval-mlogloss:0.62967\n",
            "[51]\ttrain-mlogloss:0.64442\teval-mlogloss:0.62366\n",
            "[52]\ttrain-mlogloss:0.64017\teval-mlogloss:0.61931\n",
            "[53]\ttrain-mlogloss:0.63396\teval-mlogloss:0.61255\n",
            "[54]\ttrain-mlogloss:0.62923\teval-mlogloss:0.60782\n",
            "[55]\ttrain-mlogloss:0.62401\teval-mlogloss:0.60271\n",
            "[56]\ttrain-mlogloss:0.61893\teval-mlogloss:0.59732\n",
            "[57]\ttrain-mlogloss:0.61389\teval-mlogloss:0.59234\n",
            "[58]\ttrain-mlogloss:0.60939\teval-mlogloss:0.58771\n",
            "[59]\ttrain-mlogloss:0.60359\teval-mlogloss:0.58132\n",
            "[60]\ttrain-mlogloss:0.59786\teval-mlogloss:0.57537\n",
            "[61]\ttrain-mlogloss:0.59325\teval-mlogloss:0.57042\n",
            "[62]\ttrain-mlogloss:0.58769\teval-mlogloss:0.56449\n",
            "[63]\ttrain-mlogloss:0.58229\teval-mlogloss:0.55865\n",
            "[64]\ttrain-mlogloss:0.57675\teval-mlogloss:0.55274\n",
            "[65]\ttrain-mlogloss:0.57136\teval-mlogloss:0.54710\n",
            "[66]\ttrain-mlogloss:0.56594\teval-mlogloss:0.54127\n",
            "[67]\ttrain-mlogloss:0.56176\teval-mlogloss:0.53717\n",
            "[68]\ttrain-mlogloss:0.55752\teval-mlogloss:0.53286\n",
            "[69]\ttrain-mlogloss:0.55301\teval-mlogloss:0.52853\n",
            "[70]\ttrain-mlogloss:0.54865\teval-mlogloss:0.52371\n",
            "[71]\ttrain-mlogloss:0.54339\teval-mlogloss:0.51789\n",
            "[72]\ttrain-mlogloss:0.54018\teval-mlogloss:0.51472\n",
            "[73]\ttrain-mlogloss:0.53526\teval-mlogloss:0.50957\n",
            "[74]\ttrain-mlogloss:0.53051\teval-mlogloss:0.50448\n",
            "[75]\ttrain-mlogloss:0.52559\teval-mlogloss:0.49912\n",
            "[76]\ttrain-mlogloss:0.52268\teval-mlogloss:0.49620\n",
            "[77]\ttrain-mlogloss:0.51802\teval-mlogloss:0.49134\n",
            "[78]\ttrain-mlogloss:0.51406\teval-mlogloss:0.48712\n",
            "[79]\ttrain-mlogloss:0.50945\teval-mlogloss:0.48197\n",
            "[80]\ttrain-mlogloss:0.50552\teval-mlogloss:0.47757\n",
            "[81]\ttrain-mlogloss:0.50106\teval-mlogloss:0.47283\n",
            "[82]\ttrain-mlogloss:0.49678\teval-mlogloss:0.46839\n",
            "[83]\ttrain-mlogloss:0.49239\teval-mlogloss:0.46350\n",
            "[84]\ttrain-mlogloss:0.48815\teval-mlogloss:0.45880\n",
            "[85]\ttrain-mlogloss:0.48510\teval-mlogloss:0.45597\n",
            "[86]\ttrain-mlogloss:0.48082\teval-mlogloss:0.45121\n",
            "[87]\ttrain-mlogloss:0.47735\teval-mlogloss:0.44774\n",
            "[88]\ttrain-mlogloss:0.47362\teval-mlogloss:0.44363\n",
            "[89]\ttrain-mlogloss:0.46935\teval-mlogloss:0.43906\n",
            "[90]\ttrain-mlogloss:0.46523\teval-mlogloss:0.43474\n",
            "[91]\ttrain-mlogloss:0.46177\teval-mlogloss:0.43100\n",
            "[92]\ttrain-mlogloss:0.45817\teval-mlogloss:0.42738\n",
            "[93]\ttrain-mlogloss:0.45418\teval-mlogloss:0.42310\n",
            "[94]\ttrain-mlogloss:0.45026\teval-mlogloss:0.41884\n",
            "[95]\ttrain-mlogloss:0.44694\teval-mlogloss:0.41511\n",
            "[96]\ttrain-mlogloss:0.44315\teval-mlogloss:0.41084\n",
            "[97]\ttrain-mlogloss:0.43941\teval-mlogloss:0.40684\n",
            "[98]\ttrain-mlogloss:0.43573\teval-mlogloss:0.40293\n",
            "[99]\ttrain-mlogloss:0.43212\teval-mlogloss:0.39887\n",
            "[100]\ttrain-mlogloss:0.42907\teval-mlogloss:0.39565\n",
            "[101]\ttrain-mlogloss:0.42539\teval-mlogloss:0.39181\n",
            "[102]\ttrain-mlogloss:0.42175\teval-mlogloss:0.38810\n",
            "[103]\ttrain-mlogloss:0.41894\teval-mlogloss:0.38524\n",
            "[104]\ttrain-mlogloss:0.41623\teval-mlogloss:0.38250\n",
            "[105]\ttrain-mlogloss:0.41323\teval-mlogloss:0.37919\n",
            "[106]\ttrain-mlogloss:0.40980\teval-mlogloss:0.37568\n",
            "[107]\ttrain-mlogloss:0.40644\teval-mlogloss:0.37199\n",
            "[108]\ttrain-mlogloss:0.40316\teval-mlogloss:0.36840\n",
            "[109]\ttrain-mlogloss:0.40069\teval-mlogloss:0.36582\n",
            "[110]\ttrain-mlogloss:0.39738\teval-mlogloss:0.36206\n",
            "[111]\ttrain-mlogloss:0.39415\teval-mlogloss:0.35844\n",
            "[112]\ttrain-mlogloss:0.39173\teval-mlogloss:0.35601\n",
            "[113]\ttrain-mlogloss:0.38902\teval-mlogloss:0.35299\n",
            "[114]\ttrain-mlogloss:0.38588\teval-mlogloss:0.34955\n",
            "[115]\ttrain-mlogloss:0.38283\teval-mlogloss:0.34609\n",
            "[116]\ttrain-mlogloss:0.38040\teval-mlogloss:0.34358\n",
            "[117]\ttrain-mlogloss:0.37754\teval-mlogloss:0.34054\n",
            "[118]\ttrain-mlogloss:0.37449\teval-mlogloss:0.33740\n",
            "[119]\ttrain-mlogloss:0.37219\teval-mlogloss:0.33514\n",
            "[120]\ttrain-mlogloss:0.36959\teval-mlogloss:0.33251\n",
            "[121]\ttrain-mlogloss:0.36668\teval-mlogloss:0.32926\n",
            "[122]\ttrain-mlogloss:0.36387\teval-mlogloss:0.32623\n",
            "[123]\ttrain-mlogloss:0.36163\teval-mlogloss:0.32388\n",
            "[124]\ttrain-mlogloss:0.35949\teval-mlogloss:0.32176\n",
            "[125]\ttrain-mlogloss:0.35725\teval-mlogloss:0.31941\n",
            "[126]\ttrain-mlogloss:0.35521\teval-mlogloss:0.31743\n",
            "[127]\ttrain-mlogloss:0.35294\teval-mlogloss:0.31499\n",
            "[128]\ttrain-mlogloss:0.35017\teval-mlogloss:0.31181\n",
            "[129]\ttrain-mlogloss:0.34744\teval-mlogloss:0.30890\n",
            "[130]\ttrain-mlogloss:0.34489\teval-mlogloss:0.30643\n",
            "[131]\ttrain-mlogloss:0.34295\teval-mlogloss:0.30429\n",
            "[132]\ttrain-mlogloss:0.34023\teval-mlogloss:0.30150\n",
            "[133]\ttrain-mlogloss:0.33858\teval-mlogloss:0.29981\n",
            "[134]\ttrain-mlogloss:0.33612\teval-mlogloss:0.29724\n",
            "[135]\ttrain-mlogloss:0.33427\teval-mlogloss:0.29532\n",
            "[136]\ttrain-mlogloss:0.33180\teval-mlogloss:0.29259\n",
            "[137]\ttrain-mlogloss:0.32931\teval-mlogloss:0.28985\n",
            "[138]\ttrain-mlogloss:0.32723\teval-mlogloss:0.28756\n",
            "[139]\ttrain-mlogloss:0.32533\teval-mlogloss:0.28570\n",
            "[140]\ttrain-mlogloss:0.32325\teval-mlogloss:0.28341\n",
            "[141]\ttrain-mlogloss:0.32081\teval-mlogloss:0.28070\n",
            "[142]\ttrain-mlogloss:0.31845\teval-mlogloss:0.27813\n",
            "[143]\ttrain-mlogloss:0.31616\teval-mlogloss:0.27555\n",
            "[144]\ttrain-mlogloss:0.31397\teval-mlogloss:0.27311\n",
            "[145]\ttrain-mlogloss:0.31175\teval-mlogloss:0.27064\n",
            "[146]\ttrain-mlogloss:0.30953\teval-mlogloss:0.26821\n",
            "[147]\ttrain-mlogloss:0.30725\teval-mlogloss:0.26561\n",
            "[148]\ttrain-mlogloss:0.30500\teval-mlogloss:0.26316\n",
            "[149]\ttrain-mlogloss:0.30295\teval-mlogloss:0.26086\n",
            "[150]\ttrain-mlogloss:0.30127\teval-mlogloss:0.25908\n",
            "[151]\ttrain-mlogloss:0.29927\teval-mlogloss:0.25686\n",
            "[152]\ttrain-mlogloss:0.29713\teval-mlogloss:0.25445\n",
            "[153]\ttrain-mlogloss:0.29502\teval-mlogloss:0.25201\n",
            "[154]\ttrain-mlogloss:0.29292\teval-mlogloss:0.24978\n",
            "[155]\ttrain-mlogloss:0.29111\teval-mlogloss:0.24787\n",
            "[156]\ttrain-mlogloss:0.28912\teval-mlogloss:0.24554\n",
            "[157]\ttrain-mlogloss:0.28701\teval-mlogloss:0.24328\n",
            "[158]\ttrain-mlogloss:0.28491\teval-mlogloss:0.24102\n",
            "[159]\ttrain-mlogloss:0.28347\teval-mlogloss:0.23944\n",
            "[160]\ttrain-mlogloss:0.28151\teval-mlogloss:0.23718\n",
            "[161]\ttrain-mlogloss:0.27984\teval-mlogloss:0.23546\n",
            "[162]\ttrain-mlogloss:0.27798\teval-mlogloss:0.23338\n",
            "[163]\ttrain-mlogloss:0.27661\teval-mlogloss:0.23194\n",
            "[164]\ttrain-mlogloss:0.27476\teval-mlogloss:0.22978\n",
            "[165]\ttrain-mlogloss:0.27304\teval-mlogloss:0.22776\n",
            "[166]\ttrain-mlogloss:0.27183\teval-mlogloss:0.22639\n",
            "[167]\ttrain-mlogloss:0.27037\teval-mlogloss:0.22483\n",
            "[168]\ttrain-mlogloss:0.26895\teval-mlogloss:0.22326\n",
            "[169]\ttrain-mlogloss:0.26716\teval-mlogloss:0.22129\n",
            "[170]\ttrain-mlogloss:0.26548\teval-mlogloss:0.21939\n",
            "[171]\ttrain-mlogloss:0.26392\teval-mlogloss:0.21759\n",
            "[172]\ttrain-mlogloss:0.26277\teval-mlogloss:0.21623\n",
            "[173]\ttrain-mlogloss:0.26139\teval-mlogloss:0.21475\n",
            "[174]\ttrain-mlogloss:0.26018\teval-mlogloss:0.21319\n",
            "[175]\ttrain-mlogloss:0.25877\teval-mlogloss:0.21178\n",
            "[176]\ttrain-mlogloss:0.25800\teval-mlogloss:0.21097\n",
            "[177]\ttrain-mlogloss:0.25708\teval-mlogloss:0.21007\n",
            "[178]\ttrain-mlogloss:0.25547\teval-mlogloss:0.20838\n",
            "[179]\ttrain-mlogloss:0.25405\teval-mlogloss:0.20665\n",
            "[180]\ttrain-mlogloss:0.25255\teval-mlogloss:0.20473\n",
            "[181]\ttrain-mlogloss:0.25095\teval-mlogloss:0.20299\n",
            "[182]\ttrain-mlogloss:0.24982\teval-mlogloss:0.20168\n",
            "[183]\ttrain-mlogloss:0.24867\teval-mlogloss:0.20052\n",
            "[184]\ttrain-mlogloss:0.24747\teval-mlogloss:0.19947\n",
            "[185]\ttrain-mlogloss:0.24646\teval-mlogloss:0.19827\n",
            "[186]\ttrain-mlogloss:0.24568\teval-mlogloss:0.19750\n",
            "[187]\ttrain-mlogloss:0.24490\teval-mlogloss:0.19669\n",
            "[188]\ttrain-mlogloss:0.24346\teval-mlogloss:0.19515\n",
            "[189]\ttrain-mlogloss:0.24236\teval-mlogloss:0.19391\n",
            "[190]\ttrain-mlogloss:0.24087\teval-mlogloss:0.19225\n",
            "[191]\ttrain-mlogloss:0.23986\teval-mlogloss:0.19108\n",
            "[192]\ttrain-mlogloss:0.23843\teval-mlogloss:0.18958\n",
            "[193]\ttrain-mlogloss:0.23740\teval-mlogloss:0.18830\n",
            "[194]\ttrain-mlogloss:0.23643\teval-mlogloss:0.18714\n",
            "[195]\ttrain-mlogloss:0.23540\teval-mlogloss:0.18582\n",
            "[196]\ttrain-mlogloss:0.23413\teval-mlogloss:0.18432\n",
            "[197]\ttrain-mlogloss:0.23286\teval-mlogloss:0.18269\n",
            "[198]\ttrain-mlogloss:0.23148\teval-mlogloss:0.18125\n",
            "[199]\ttrain-mlogloss:0.23028\teval-mlogloss:0.17984\n",
            "[200]\ttrain-mlogloss:0.22935\teval-mlogloss:0.17877\n",
            "[201]\ttrain-mlogloss:0.22840\teval-mlogloss:0.17777\n",
            "[202]\ttrain-mlogloss:0.22714\teval-mlogloss:0.17643\n",
            "[203]\ttrain-mlogloss:0.22587\teval-mlogloss:0.17491\n",
            "[204]\ttrain-mlogloss:0.22463\teval-mlogloss:0.17362\n",
            "[205]\ttrain-mlogloss:0.22343\teval-mlogloss:0.17230\n",
            "[206]\ttrain-mlogloss:0.22251\teval-mlogloss:0.17136\n",
            "[207]\ttrain-mlogloss:0.22147\teval-mlogloss:0.17021\n",
            "[208]\ttrain-mlogloss:0.22053\teval-mlogloss:0.16919\n",
            "[209]\ttrain-mlogloss:0.21960\teval-mlogloss:0.16829\n",
            "[210]\ttrain-mlogloss:0.21868\teval-mlogloss:0.16734\n",
            "[211]\ttrain-mlogloss:0.21787\teval-mlogloss:0.16647\n",
            "[212]\ttrain-mlogloss:0.21678\teval-mlogloss:0.16522\n",
            "[213]\ttrain-mlogloss:0.21560\teval-mlogloss:0.16385\n",
            "[214]\ttrain-mlogloss:0.21463\teval-mlogloss:0.16286\n",
            "[215]\ttrain-mlogloss:0.21355\teval-mlogloss:0.16176\n",
            "[216]\ttrain-mlogloss:0.21248\teval-mlogloss:0.16042\n",
            "[217]\ttrain-mlogloss:0.21166\teval-mlogloss:0.15946\n",
            "[218]\ttrain-mlogloss:0.21056\teval-mlogloss:0.15817\n",
            "[219]\ttrain-mlogloss:0.20999\teval-mlogloss:0.15757\n",
            "[220]\ttrain-mlogloss:0.20890\teval-mlogloss:0.15631\n",
            "[221]\ttrain-mlogloss:0.20858\teval-mlogloss:0.15610\n",
            "[222]\ttrain-mlogloss:0.20770\teval-mlogloss:0.15505\n",
            "[223]\ttrain-mlogloss:0.20694\teval-mlogloss:0.15412\n",
            "[224]\ttrain-mlogloss:0.20581\teval-mlogloss:0.15286\n",
            "[225]\ttrain-mlogloss:0.20489\teval-mlogloss:0.15182\n",
            "[226]\ttrain-mlogloss:0.20397\teval-mlogloss:0.15090\n",
            "[227]\ttrain-mlogloss:0.20292\teval-mlogloss:0.14977\n",
            "[228]\ttrain-mlogloss:0.20196\teval-mlogloss:0.14867\n",
            "[229]\ttrain-mlogloss:0.20145\teval-mlogloss:0.14813\n",
            "[230]\ttrain-mlogloss:0.20042\teval-mlogloss:0.14708\n",
            "[231]\ttrain-mlogloss:0.19978\teval-mlogloss:0.14632\n",
            "[232]\ttrain-mlogloss:0.19900\teval-mlogloss:0.14546\n",
            "[233]\ttrain-mlogloss:0.19827\teval-mlogloss:0.14465\n",
            "[234]\ttrain-mlogloss:0.19732\teval-mlogloss:0.14387\n",
            "[235]\ttrain-mlogloss:0.19661\teval-mlogloss:0.14299\n",
            "[236]\ttrain-mlogloss:0.19596\teval-mlogloss:0.14219\n",
            "[237]\ttrain-mlogloss:0.19517\teval-mlogloss:0.14146\n",
            "[238]\ttrain-mlogloss:0.19454\teval-mlogloss:0.14082\n",
            "[239]\ttrain-mlogloss:0.19407\teval-mlogloss:0.14025\n",
            "[240]\ttrain-mlogloss:0.19348\teval-mlogloss:0.13961\n",
            "[241]\ttrain-mlogloss:0.19310\teval-mlogloss:0.13924\n",
            "[242]\ttrain-mlogloss:0.19235\teval-mlogloss:0.13854\n",
            "[243]\ttrain-mlogloss:0.19154\teval-mlogloss:0.13753\n",
            "[244]\ttrain-mlogloss:0.19098\teval-mlogloss:0.13683\n",
            "[245]\ttrain-mlogloss:0.19016\teval-mlogloss:0.13583\n",
            "[246]\ttrain-mlogloss:0.18937\teval-mlogloss:0.13484\n",
            "[247]\ttrain-mlogloss:0.18873\teval-mlogloss:0.13428\n",
            "[248]\ttrain-mlogloss:0.18816\teval-mlogloss:0.13368\n",
            "[249]\ttrain-mlogloss:0.18736\teval-mlogloss:0.13261\n",
            "[250]\ttrain-mlogloss:0.18656\teval-mlogloss:0.13160\n",
            "[251]\ttrain-mlogloss:0.18619\teval-mlogloss:0.13115\n",
            "[252]\ttrain-mlogloss:0.18553\teval-mlogloss:0.13039\n",
            "[253]\ttrain-mlogloss:0.18553\teval-mlogloss:0.13040\n",
            "[254]\ttrain-mlogloss:0.18487\teval-mlogloss:0.12959\n",
            "[255]\ttrain-mlogloss:0.18429\teval-mlogloss:0.12891\n",
            "[256]\ttrain-mlogloss:0.18384\teval-mlogloss:0.12838\n",
            "[257]\ttrain-mlogloss:0.18315\teval-mlogloss:0.12759\n",
            "[258]\ttrain-mlogloss:0.18280\teval-mlogloss:0.12712\n",
            "[259]\ttrain-mlogloss:0.18224\teval-mlogloss:0.12650\n",
            "[260]\ttrain-mlogloss:0.18168\teval-mlogloss:0.12592\n",
            "[261]\ttrain-mlogloss:0.18108\teval-mlogloss:0.12522\n",
            "[262]\ttrain-mlogloss:0.18056\teval-mlogloss:0.12467\n",
            "[263]\ttrain-mlogloss:0.17999\teval-mlogloss:0.12405\n",
            "[264]\ttrain-mlogloss:0.17950\teval-mlogloss:0.12348\n",
            "[265]\ttrain-mlogloss:0.17911\teval-mlogloss:0.12304\n",
            "[266]\ttrain-mlogloss:0.17867\teval-mlogloss:0.12257\n",
            "[267]\ttrain-mlogloss:0.17813\teval-mlogloss:0.12195\n",
            "[268]\ttrain-mlogloss:0.17760\teval-mlogloss:0.12140\n",
            "[269]\ttrain-mlogloss:0.17706\teval-mlogloss:0.12083\n",
            "[270]\ttrain-mlogloss:0.17653\teval-mlogloss:0.12021\n",
            "[271]\ttrain-mlogloss:0.17631\teval-mlogloss:0.11990\n",
            "[272]\ttrain-mlogloss:0.17569\teval-mlogloss:0.11916\n",
            "[273]\ttrain-mlogloss:0.17507\teval-mlogloss:0.11851\n",
            "[274]\ttrain-mlogloss:0.17459\teval-mlogloss:0.11798\n",
            "[275]\ttrain-mlogloss:0.17435\teval-mlogloss:0.11772\n",
            "[276]\ttrain-mlogloss:0.17417\teval-mlogloss:0.11746\n",
            "[277]\ttrain-mlogloss:0.17355\teval-mlogloss:0.11681\n",
            "[278]\ttrain-mlogloss:0.17349\teval-mlogloss:0.11672\n",
            "[279]\ttrain-mlogloss:0.17323\teval-mlogloss:0.11638\n",
            "[280]\ttrain-mlogloss:0.17299\teval-mlogloss:0.11604\n",
            "[281]\ttrain-mlogloss:0.17255\teval-mlogloss:0.11552\n",
            "[282]\ttrain-mlogloss:0.17208\teval-mlogloss:0.11499\n",
            "[283]\ttrain-mlogloss:0.17178\teval-mlogloss:0.11459\n",
            "[284]\ttrain-mlogloss:0.17155\teval-mlogloss:0.11433\n",
            "[285]\ttrain-mlogloss:0.17130\teval-mlogloss:0.11409\n",
            "[286]\ttrain-mlogloss:0.17111\teval-mlogloss:0.11381\n",
            "[287]\ttrain-mlogloss:0.17088\teval-mlogloss:0.11356\n",
            "[288]\ttrain-mlogloss:0.17066\teval-mlogloss:0.11324\n",
            "[289]\ttrain-mlogloss:0.17023\teval-mlogloss:0.11273\n",
            "[290]\ttrain-mlogloss:0.16981\teval-mlogloss:0.11222\n",
            "[291]\ttrain-mlogloss:0.16960\teval-mlogloss:0.11192\n",
            "[292]\ttrain-mlogloss:0.16951\teval-mlogloss:0.11179\n",
            "[293]\ttrain-mlogloss:0.16929\teval-mlogloss:0.11154\n",
            "[294]\ttrain-mlogloss:0.16912\teval-mlogloss:0.11134\n",
            "[295]\ttrain-mlogloss:0.16854\teval-mlogloss:0.11068\n",
            "[296]\ttrain-mlogloss:0.16840\teval-mlogloss:0.11068\n",
            "[297]\ttrain-mlogloss:0.16816\teval-mlogloss:0.11035\n",
            "[298]\ttrain-mlogloss:0.16810\teval-mlogloss:0.11025\n",
            "[299]\ttrain-mlogloss:0.16771\teval-mlogloss:0.10974\n"
          ]
        },
        {
          "name": "stderr",
          "output_type": "stream",
          "text": [
            "[I 2025-09-17 09:58:32,063] Trial 9 finished with value: 1.0 and parameters: {'lambda': 1.633148084517427e-08, 'alpha': 1.846172905670542e-06, 'eta': 0.010241396288449075, 'gamma': 0.6515962374867216, 'max_depth': 4, 'min_child_weight': 5, 'subsample': 0.7729078584068712, 'colsample_bytree': 0.6380003472299854}. Best is trial 0 with value: 1.0.\n"
          ]
        },
        {
          "name": "stdout",
          "output_type": "stream",
          "text": [
            "[0]\ttrain-mlogloss:0.92099\teval-mlogloss:0.91665\n",
            "[1]\ttrain-mlogloss:0.78552\teval-mlogloss:0.76989\n"
          ]
        },
        {
          "name": "stderr",
          "output_type": "stream",
          "text": [
            "[I 2025-09-17 09:58:32,077] Trial 10 pruned. Trial was pruned at iteration 2.\n"
          ]
        },
        {
          "name": "stdout",
          "output_type": "stream",
          "text": [
            "[0]\ttrain-mlogloss:0.83773\teval-mlogloss:0.82259\n",
            "[1]\ttrain-mlogloss:0.74930\teval-mlogloss:0.72044\n",
            "[2]\ttrain-mlogloss:0.61681\teval-mlogloss:0.57659\n"
          ]
        },
        {
          "name": "stderr",
          "output_type": "stream",
          "text": [
            "[I 2025-09-17 09:58:32,102] Trial 11 pruned. Trial was pruned at iteration 2.\n"
          ]
        },
        {
          "name": "stdout",
          "output_type": "stream",
          "text": [
            "[0]\ttrain-mlogloss:0.80101\teval-mlogloss:0.78851\n",
            "[1]\ttrain-mlogloss:0.61163\teval-mlogloss:0.58402\n",
            "[2]\ttrain-mlogloss:0.47660\teval-mlogloss:0.44548\n"
          ]
        },
        {
          "name": "stderr",
          "output_type": "stream",
          "text": [
            "[I 2025-09-17 09:58:32,126] Trial 12 pruned. Trial was pruned at iteration 2.\n"
          ]
        },
        {
          "name": "stdout",
          "output_type": "stream",
          "text": [
            "[0]\ttrain-mlogloss:0.86712\teval-mlogloss:0.85839\n",
            "[1]\ttrain-mlogloss:0.78986\teval-mlogloss:0.75942\n"
          ]
        },
        {
          "name": "stderr",
          "output_type": "stream",
          "text": [
            "[I 2025-09-17 09:58:32,144] Trial 13 pruned. Trial was pruned at iteration 2.\n"
          ]
        },
        {
          "name": "stdout",
          "output_type": "stream",
          "text": [
            "[0]\ttrain-mlogloss:0.76369\teval-mlogloss:0.75171\n",
            "[1]\ttrain-mlogloss:0.56300\teval-mlogloss:0.53670\n",
            "[2]\ttrain-mlogloss:0.46384\teval-mlogloss:0.43372\n"
          ]
        },
        {
          "name": "stderr",
          "output_type": "stream",
          "text": [
            "[I 2025-09-17 09:58:32,160] Trial 14 pruned. Trial was pruned at iteration 2.\n"
          ]
        },
        {
          "name": "stdout",
          "output_type": "stream",
          "text": [
            "[0]\ttrain-mlogloss:0.84990\teval-mlogloss:0.83546\n",
            "[1]\ttrain-mlogloss:0.75153\teval-mlogloss:0.73298\n",
            "[2]\ttrain-mlogloss:0.61760\teval-mlogloss:0.59020\n"
          ]
        },
        {
          "name": "stderr",
          "output_type": "stream",
          "text": [
            "[I 2025-09-17 09:58:32,182] Trial 15 pruned. Trial was pruned at iteration 2.\n"
          ]
        },
        {
          "name": "stdout",
          "output_type": "stream",
          "text": [
            "[0]\ttrain-mlogloss:0.89969\teval-mlogloss:0.90255\n",
            "[1]\ttrain-mlogloss:0.74443\teval-mlogloss:0.73371\n"
          ]
        },
        {
          "name": "stderr",
          "output_type": "stream",
          "text": [
            "[I 2025-09-17 09:58:32,205] Trial 16 pruned. Trial was pruned at iteration 2.\n"
          ]
        },
        {
          "name": "stdout",
          "output_type": "stream",
          "text": [
            "[0]\ttrain-mlogloss:0.79897\teval-mlogloss:0.78463\n",
            "[1]\ttrain-mlogloss:0.70193\teval-mlogloss:0.68992\n",
            "[2]\ttrain-mlogloss:0.56201\teval-mlogloss:0.54182\n"
          ]
        },
        {
          "name": "stderr",
          "output_type": "stream",
          "text": [
            "[I 2025-09-17 09:58:32,220] Trial 17 pruned. Trial was pruned at iteration 2.\n"
          ]
        },
        {
          "name": "stdout",
          "output_type": "stream",
          "text": [
            "[0]\ttrain-mlogloss:0.97098\teval-mlogloss:0.96741\n",
            "[1]\ttrain-mlogloss:0.86443\teval-mlogloss:0.85301\n",
            "[2]\ttrain-mlogloss:0.77394\teval-mlogloss:0.75676\n",
            "[3]\ttrain-mlogloss:0.69417\teval-mlogloss:0.67363\n",
            "[4]\ttrain-mlogloss:0.62881\teval-mlogloss:0.60669\n",
            "[5]\ttrain-mlogloss:0.56919\teval-mlogloss:0.54127\n",
            "[6]\ttrain-mlogloss:0.51964\teval-mlogloss:0.48831\n",
            "[7]\ttrain-mlogloss:0.47444\teval-mlogloss:0.44143\n"
          ]
        },
        {
          "name": "stderr",
          "output_type": "stream",
          "text": [
            "[I 2025-09-17 09:58:32,254] Trial 18 pruned. Trial was pruned at iteration 8.\n"
          ]
        },
        {
          "name": "stdout",
          "output_type": "stream",
          "text": [
            "[0]\ttrain-mlogloss:0.82418\teval-mlogloss:0.81365\n",
            "[1]\ttrain-mlogloss:0.73483\teval-mlogloss:0.70565\n"
          ]
        },
        {
          "name": "stderr",
          "output_type": "stream",
          "text": [
            "[I 2025-09-17 09:58:32,271] Trial 19 pruned. Trial was pruned at iteration 2.\n"
          ]
        },
        {
          "name": "stdout",
          "output_type": "stream",
          "text": [
            "[0]\ttrain-mlogloss:0.76371\teval-mlogloss:0.75003\n",
            "[1]\ttrain-mlogloss:0.56313\teval-mlogloss:0.53485\n",
            "[2]\ttrain-mlogloss:0.42195\teval-mlogloss:0.38393\n"
          ]
        },
        {
          "name": "stderr",
          "output_type": "stream",
          "text": [
            "[I 2025-09-17 09:58:32,292] Trial 20 pruned. Trial was pruned at iteration 2.\n"
          ]
        },
        {
          "name": "stdout",
          "output_type": "stream",
          "text": [
            "[0]\ttrain-mlogloss:0.97947\teval-mlogloss:0.97385\n",
            "[1]\ttrain-mlogloss:0.91887\teval-mlogloss:0.91295\n",
            "[2]\ttrain-mlogloss:0.83482\teval-mlogloss:0.82388\n",
            "[3]\ttrain-mlogloss:0.75206\teval-mlogloss:0.73760\n",
            "[4]\ttrain-mlogloss:0.68275\teval-mlogloss:0.66569\n",
            "[5]\ttrain-mlogloss:0.62088\teval-mlogloss:0.60022\n",
            "[6]\ttrain-mlogloss:0.56806\teval-mlogloss:0.54320\n",
            "[7]\ttrain-mlogloss:0.52085\teval-mlogloss:0.49323\n",
            "[8]\ttrain-mlogloss:0.47914\teval-mlogloss:0.44796\n"
          ]
        },
        {
          "name": "stderr",
          "output_type": "stream",
          "text": [
            "[I 2025-09-17 09:58:32,334] Trial 21 pruned. Trial was pruned at iteration 8.\n"
          ]
        },
        {
          "name": "stdout",
          "output_type": "stream",
          "text": [
            "[0]\ttrain-mlogloss:1.07528\teval-mlogloss:1.07412\n",
            "[1]\ttrain-mlogloss:1.06213\teval-mlogloss:1.06202\n",
            "[2]\ttrain-mlogloss:1.04203\teval-mlogloss:1.04189\n",
            "[3]\ttrain-mlogloss:1.02010\teval-mlogloss:1.01968\n",
            "[4]\ttrain-mlogloss:0.99901\teval-mlogloss:0.99801\n",
            "[5]\ttrain-mlogloss:0.97863\teval-mlogloss:0.97649\n",
            "[6]\ttrain-mlogloss:0.95921\teval-mlogloss:0.95555\n",
            "[7]\ttrain-mlogloss:0.93990\teval-mlogloss:0.93520\n",
            "[8]\ttrain-mlogloss:0.92177\teval-mlogloss:0.91554\n"
          ]
        },
        {
          "name": "stderr",
          "output_type": "stream",
          "text": [
            "[I 2025-09-17 09:58:32,367] Trial 22 pruned. Trial was pruned at iteration 8.\n"
          ]
        },
        {
          "name": "stdout",
          "output_type": "stream",
          "text": [
            "[0]\ttrain-mlogloss:0.89782\teval-mlogloss:0.88916\n",
            "[1]\ttrain-mlogloss:0.74635\teval-mlogloss:0.72782\n"
          ]
        },
        {
          "name": "stderr",
          "output_type": "stream",
          "text": [
            "[I 2025-09-17 09:58:32,386] Trial 23 pruned. Trial was pruned at iteration 2.\n"
          ]
        },
        {
          "name": "stdout",
          "output_type": "stream",
          "text": [
            "[0]\ttrain-mlogloss:0.93575\teval-mlogloss:0.92697\n",
            "[1]\ttrain-mlogloss:0.87040\teval-mlogloss:0.85133\n"
          ]
        },
        {
          "name": "stderr",
          "output_type": "stream",
          "text": [
            "[I 2025-09-17 09:58:32,413] Trial 24 pruned. Trial was pruned at iteration 2.\n"
          ]
        },
        {
          "name": "stdout",
          "output_type": "stream",
          "text": [
            "[0]\ttrain-mlogloss:1.06150\teval-mlogloss:1.05980\n",
            "[1]\ttrain-mlogloss:1.04158\teval-mlogloss:1.03967\n",
            "[2]\ttrain-mlogloss:1.01034\teval-mlogloss:1.00705\n",
            "[3]\ttrain-mlogloss:0.97600\teval-mlogloss:0.97192\n",
            "[4]\ttrain-mlogloss:0.94496\teval-mlogloss:0.94024\n",
            "[5]\ttrain-mlogloss:0.91460\teval-mlogloss:0.90834\n",
            "[6]\ttrain-mlogloss:0.88625\teval-mlogloss:0.87770\n",
            "[7]\ttrain-mlogloss:0.85901\teval-mlogloss:0.84887\n"
          ]
        },
        {
          "name": "stderr",
          "output_type": "stream",
          "text": [
            "[I 2025-09-17 09:58:32,436] Trial 25 pruned. Trial was pruned at iteration 8.\n"
          ]
        },
        {
          "name": "stdout",
          "output_type": "stream",
          "text": [
            "[0]\ttrain-mlogloss:0.92748\teval-mlogloss:0.91779\n",
            "[1]\ttrain-mlogloss:0.85541\teval-mlogloss:0.84420\n",
            "[2]\ttrain-mlogloss:0.76913\teval-mlogloss:0.76602\n"
          ]
        },
        {
          "name": "stderr",
          "output_type": "stream",
          "text": [
            "[I 2025-09-17 09:58:32,454] Trial 26 pruned. Trial was pruned at iteration 2.\n"
          ]
        },
        {
          "name": "stdout",
          "output_type": "stream",
          "text": [
            "[0]\ttrain-mlogloss:0.81710\teval-mlogloss:0.80534\n",
            "[1]\ttrain-mlogloss:0.70806\teval-mlogloss:0.68349\n",
            "[2]\ttrain-mlogloss:0.57055\teval-mlogloss:0.53493\n"
          ]
        },
        {
          "name": "stderr",
          "output_type": "stream",
          "text": [
            "[I 2025-09-17 09:58:32,470] Trial 27 pruned. Trial was pruned at iteration 2.\n"
          ]
        },
        {
          "name": "stdout",
          "output_type": "stream",
          "text": [
            "[0]\ttrain-mlogloss:1.03620\teval-mlogloss:1.03340\n",
            "[1]\ttrain-mlogloss:1.00618\teval-mlogloss:1.00605\n",
            "[2]\ttrain-mlogloss:0.95697\teval-mlogloss:0.95306\n",
            "[3]\ttrain-mlogloss:0.90482\teval-mlogloss:0.89830\n",
            "[4]\ttrain-mlogloss:0.85779\teval-mlogloss:0.85016\n",
            "[5]\ttrain-mlogloss:0.81385\teval-mlogloss:0.80358\n",
            "[6]\ttrain-mlogloss:0.77394\teval-mlogloss:0.76058\n",
            "[7]\ttrain-mlogloss:0.73624\teval-mlogloss:0.72031\n",
            "[8]\ttrain-mlogloss:0.70132\teval-mlogloss:0.68184\n"
          ]
        },
        {
          "name": "stderr",
          "output_type": "stream",
          "text": [
            "[I 2025-09-17 09:58:32,503] Trial 28 pruned. Trial was pruned at iteration 8.\n"
          ]
        },
        {
          "name": "stdout",
          "output_type": "stream",
          "text": [
            "[0]\ttrain-mlogloss:0.98525\teval-mlogloss:0.98274\n",
            "[1]\ttrain-mlogloss:0.88995\teval-mlogloss:0.87995\n"
          ]
        },
        {
          "name": "stderr",
          "output_type": "stream",
          "text": [
            "[I 2025-09-17 09:58:32,528] Trial 29 pruned. Trial was pruned at iteration 2.\n"
          ]
        },
        {
          "name": "stdout",
          "output_type": "stream",
          "text": [
            "[0]\ttrain-mlogloss:0.86164\teval-mlogloss:0.84370\n",
            "[1]\ttrain-mlogloss:0.76489\teval-mlogloss:0.73860\n"
          ]
        },
        {
          "name": "stderr",
          "output_type": "stream",
          "text": [
            "[I 2025-09-17 09:58:32,552] Trial 30 pruned. Trial was pruned at iteration 2.\n"
          ]
        },
        {
          "name": "stdout",
          "output_type": "stream",
          "text": [
            "[0]\ttrain-mlogloss:1.04813\teval-mlogloss:1.04453\n",
            "[1]\ttrain-mlogloss:1.02422\teval-mlogloss:1.01518\n",
            "[2]\ttrain-mlogloss:1.00966\teval-mlogloss:1.00451\n",
            "[3]\ttrain-mlogloss:0.96106\teval-mlogloss:0.95139\n",
            "[4]\ttrain-mlogloss:0.94386\teval-mlogloss:0.93415\n",
            "[5]\ttrain-mlogloss:0.91147\teval-mlogloss:0.89700\n",
            "[6]\ttrain-mlogloss:0.88594\teval-mlogloss:0.87117\n",
            "[7]\ttrain-mlogloss:0.85093\teval-mlogloss:0.83516\n",
            "[8]\ttrain-mlogloss:0.83214\teval-mlogloss:0.81609\n"
          ]
        },
        {
          "name": "stderr",
          "output_type": "stream",
          "text": [
            "[I 2025-09-17 09:58:32,584] Trial 31 pruned. Trial was pruned at iteration 8.\n"
          ]
        },
        {
          "name": "stdout",
          "output_type": "stream",
          "text": [
            "[0]\ttrain-mlogloss:1.06283\teval-mlogloss:1.06100\n",
            "[1]\ttrain-mlogloss:1.04507\teval-mlogloss:1.04212\n",
            "[2]\ttrain-mlogloss:1.02235\teval-mlogloss:1.02170\n",
            "[3]\ttrain-mlogloss:0.98371\teval-mlogloss:0.98077\n",
            "[4]\ttrain-mlogloss:0.96906\teval-mlogloss:0.96434\n",
            "[5]\ttrain-mlogloss:0.94579\teval-mlogloss:0.94043\n",
            "[6]\ttrain-mlogloss:0.92027\teval-mlogloss:0.91197\n",
            "[7]\ttrain-mlogloss:0.88646\teval-mlogloss:0.87634\n",
            "[8]\ttrain-mlogloss:0.87133\teval-mlogloss:0.86168\n"
          ]
        },
        {
          "name": "stderr",
          "output_type": "stream",
          "text": [
            "[I 2025-09-17 09:58:32,623] Trial 32 pruned. Trial was pruned at iteration 8.\n"
          ]
        },
        {
          "name": "stdout",
          "output_type": "stream",
          "text": [
            "[0]\ttrain-mlogloss:1.08887\teval-mlogloss:1.08833\n",
            "[1]\ttrain-mlogloss:1.08328\teval-mlogloss:1.08135\n",
            "[2]\ttrain-mlogloss:1.07764\teval-mlogloss:1.07563\n",
            "[3]\ttrain-mlogloss:1.06605\teval-mlogloss:1.06331\n",
            "[4]\ttrain-mlogloss:1.05693\teval-mlogloss:1.05388\n",
            "[5]\ttrain-mlogloss:1.04777\teval-mlogloss:1.04410\n",
            "[6]\ttrain-mlogloss:1.03956\teval-mlogloss:1.03590\n",
            "[7]\ttrain-mlogloss:1.03184\teval-mlogloss:1.02804\n",
            "[8]\ttrain-mlogloss:1.02299\teval-mlogloss:1.01876\n",
            "[9]\ttrain-mlogloss:1.01491\teval-mlogloss:1.01016\n",
            "[10]\ttrain-mlogloss:1.00856\teval-mlogloss:1.00309\n",
            "[11]\ttrain-mlogloss:0.99827\teval-mlogloss:0.99249\n",
            "[12]\ttrain-mlogloss:0.99099\teval-mlogloss:0.98516\n",
            "[13]\ttrain-mlogloss:0.98132\teval-mlogloss:0.97493\n",
            "[14]\ttrain-mlogloss:0.97364\teval-mlogloss:0.96721\n",
            "[15]\ttrain-mlogloss:0.96733\teval-mlogloss:0.96102\n",
            "[16]\ttrain-mlogloss:0.96127\teval-mlogloss:0.95474\n",
            "[17]\ttrain-mlogloss:0.95437\teval-mlogloss:0.94745\n",
            "[18]\ttrain-mlogloss:0.94571\teval-mlogloss:0.93836\n",
            "[19]\ttrain-mlogloss:0.93917\teval-mlogloss:0.93142\n",
            "[20]\ttrain-mlogloss:0.93375\teval-mlogloss:0.92575\n",
            "[21]\ttrain-mlogloss:0.92842\teval-mlogloss:0.91991\n",
            "[22]\ttrain-mlogloss:0.92143\teval-mlogloss:0.91195\n",
            "[23]\ttrain-mlogloss:0.91380\teval-mlogloss:0.90413\n",
            "[24]\ttrain-mlogloss:0.90463\teval-mlogloss:0.89373\n",
            "[25]\ttrain-mlogloss:0.89797\teval-mlogloss:0.88617\n",
            "[26]\ttrain-mlogloss:0.89058\teval-mlogloss:0.87740\n",
            "[27]\ttrain-mlogloss:0.88450\teval-mlogloss:0.87123\n",
            "[28]\ttrain-mlogloss:0.87729\teval-mlogloss:0.86361\n",
            "[29]\ttrain-mlogloss:0.87229\teval-mlogloss:0.85842\n",
            "[30]\ttrain-mlogloss:0.86743\teval-mlogloss:0.85384\n",
            "[31]\ttrain-mlogloss:0.86127\teval-mlogloss:0.84767\n",
            "[32]\ttrain-mlogloss:0.85549\teval-mlogloss:0.84231\n",
            "[33]\ttrain-mlogloss:0.84885\teval-mlogloss:0.83438\n",
            "[34]\ttrain-mlogloss:0.84236\teval-mlogloss:0.82706\n",
            "[35]\ttrain-mlogloss:0.83631\teval-mlogloss:0.82057\n",
            "[36]\ttrain-mlogloss:0.83191\teval-mlogloss:0.81629\n",
            "[37]\ttrain-mlogloss:0.82391\teval-mlogloss:0.80761\n",
            "[38]\ttrain-mlogloss:0.81807\teval-mlogloss:0.80138\n",
            "[39]\ttrain-mlogloss:0.81213\teval-mlogloss:0.79532\n",
            "[40]\ttrain-mlogloss:0.80549\teval-mlogloss:0.78844\n",
            "[41]\ttrain-mlogloss:0.79752\teval-mlogloss:0.77981\n",
            "[42]\ttrain-mlogloss:0.79208\teval-mlogloss:0.77406\n",
            "[43]\ttrain-mlogloss:0.78650\teval-mlogloss:0.76804\n",
            "[44]\ttrain-mlogloss:0.78053\teval-mlogloss:0.76149\n",
            "[45]\ttrain-mlogloss:0.77547\teval-mlogloss:0.75660\n",
            "[46]\ttrain-mlogloss:0.76964\teval-mlogloss:0.75022\n",
            "[47]\ttrain-mlogloss:0.76559\teval-mlogloss:0.74626\n",
            "[48]\ttrain-mlogloss:0.75992\teval-mlogloss:0.74019\n",
            "[49]\ttrain-mlogloss:0.75206\teval-mlogloss:0.73167\n",
            "[50]\ttrain-mlogloss:0.74685\teval-mlogloss:0.72584\n",
            "[51]\ttrain-mlogloss:0.74230\teval-mlogloss:0.72031\n",
            "[52]\ttrain-mlogloss:0.73884\teval-mlogloss:0.71683\n",
            "[53]\ttrain-mlogloss:0.73372\teval-mlogloss:0.71150\n",
            "[54]\ttrain-mlogloss:0.73036\teval-mlogloss:0.70806\n",
            "[55]\ttrain-mlogloss:0.72463\teval-mlogloss:0.70202\n",
            "[56]\ttrain-mlogloss:0.71947\teval-mlogloss:0.69575\n",
            "[57]\ttrain-mlogloss:0.71565\teval-mlogloss:0.69147\n",
            "[58]\ttrain-mlogloss:0.71095\teval-mlogloss:0.68659\n",
            "[59]\ttrain-mlogloss:0.70601\teval-mlogloss:0.68094\n",
            "[60]\ttrain-mlogloss:0.70207\teval-mlogloss:0.67680\n",
            "[61]\ttrain-mlogloss:0.69861\teval-mlogloss:0.67296\n",
            "[62]\ttrain-mlogloss:0.69331\teval-mlogloss:0.66761\n",
            "[63]\ttrain-mlogloss:0.68955\teval-mlogloss:0.66366\n",
            "[64]\ttrain-mlogloss:0.68552\teval-mlogloss:0.65921\n",
            "[65]\ttrain-mlogloss:0.68047\teval-mlogloss:0.65398\n",
            "[66]\ttrain-mlogloss:0.67604\teval-mlogloss:0.64927\n",
            "[67]\ttrain-mlogloss:0.67291\teval-mlogloss:0.64592\n",
            "[68]\ttrain-mlogloss:0.66867\teval-mlogloss:0.64126\n",
            "[69]\ttrain-mlogloss:0.66536\teval-mlogloss:0.63717\n",
            "[70]\ttrain-mlogloss:0.66195\teval-mlogloss:0.63329\n",
            "[71]\ttrain-mlogloss:0.65822\teval-mlogloss:0.62954\n",
            "[72]\ttrain-mlogloss:0.65550\teval-mlogloss:0.62668\n",
            "[73]\ttrain-mlogloss:0.64958\teval-mlogloss:0.62002\n",
            "[74]\ttrain-mlogloss:0.64508\teval-mlogloss:0.61535\n",
            "[75]\ttrain-mlogloss:0.64017\teval-mlogloss:0.60975\n",
            "[76]\ttrain-mlogloss:0.63712\teval-mlogloss:0.60685\n",
            "[77]\ttrain-mlogloss:0.63189\teval-mlogloss:0.60131\n",
            "[78]\ttrain-mlogloss:0.62890\teval-mlogloss:0.59794\n",
            "[79]\ttrain-mlogloss:0.62553\teval-mlogloss:0.59396\n",
            "[80]\ttrain-mlogloss:0.62212\teval-mlogloss:0.59032\n",
            "[81]\ttrain-mlogloss:0.61835\teval-mlogloss:0.58620\n",
            "[82]\ttrain-mlogloss:0.61445\teval-mlogloss:0.58206\n",
            "[83]\ttrain-mlogloss:0.61034\teval-mlogloss:0.57751\n",
            "[84]\ttrain-mlogloss:0.60675\teval-mlogloss:0.57369\n",
            "[85]\ttrain-mlogloss:0.60474\teval-mlogloss:0.57146\n",
            "[86]\ttrain-mlogloss:0.60146\teval-mlogloss:0.56786\n",
            "[87]\ttrain-mlogloss:0.59828\teval-mlogloss:0.56466\n",
            "[88]\ttrain-mlogloss:0.59539\teval-mlogloss:0.56167\n",
            "[89]\ttrain-mlogloss:0.59202\teval-mlogloss:0.55820\n",
            "[90]\ttrain-mlogloss:0.58874\teval-mlogloss:0.55494\n",
            "[91]\ttrain-mlogloss:0.58615\teval-mlogloss:0.55245\n",
            "[92]\ttrain-mlogloss:0.58310\teval-mlogloss:0.54911\n",
            "[93]\ttrain-mlogloss:0.58103\teval-mlogloss:0.54721\n",
            "[94]\ttrain-mlogloss:0.57845\teval-mlogloss:0.54428\n",
            "[95]\ttrain-mlogloss:0.57707\teval-mlogloss:0.54299\n",
            "[96]\ttrain-mlogloss:0.57384\teval-mlogloss:0.53928\n",
            "[97]\ttrain-mlogloss:0.57040\teval-mlogloss:0.53560\n",
            "[98]\ttrain-mlogloss:0.56748\teval-mlogloss:0.53264\n",
            "[99]\ttrain-mlogloss:0.56430\teval-mlogloss:0.52916\n",
            "[100]\ttrain-mlogloss:0.56170\teval-mlogloss:0.52638\n",
            "[101]\ttrain-mlogloss:0.55811\teval-mlogloss:0.52260\n",
            "[102]\ttrain-mlogloss:0.55484\teval-mlogloss:0.51921\n",
            "[103]\ttrain-mlogloss:0.55176\teval-mlogloss:0.51563\n",
            "[104]\ttrain-mlogloss:0.54997\teval-mlogloss:0.51360\n",
            "[105]\ttrain-mlogloss:0.54770\teval-mlogloss:0.51108\n",
            "[106]\ttrain-mlogloss:0.54482\teval-mlogloss:0.50784\n",
            "[107]\ttrain-mlogloss:0.54190\teval-mlogloss:0.50470\n",
            "[108]\ttrain-mlogloss:0.53877\teval-mlogloss:0.50147\n",
            "[109]\ttrain-mlogloss:0.53536\teval-mlogloss:0.49769\n",
            "[110]\ttrain-mlogloss:0.53217\teval-mlogloss:0.49422\n",
            "[111]\ttrain-mlogloss:0.52904\teval-mlogloss:0.49069\n",
            "[112]\ttrain-mlogloss:0.52747\teval-mlogloss:0.48858\n",
            "[113]\ttrain-mlogloss:0.52547\teval-mlogloss:0.48651\n",
            "[114]\ttrain-mlogloss:0.52279\teval-mlogloss:0.48387\n",
            "[115]\ttrain-mlogloss:0.51962\teval-mlogloss:0.48043\n",
            "[116]\ttrain-mlogloss:0.51936\teval-mlogloss:0.48017\n",
            "[117]\ttrain-mlogloss:0.51655\teval-mlogloss:0.47699\n",
            "[118]\ttrain-mlogloss:0.51534\teval-mlogloss:0.47568\n",
            "[119]\ttrain-mlogloss:0.51236\teval-mlogloss:0.47240\n",
            "[120]\ttrain-mlogloss:0.51006\teval-mlogloss:0.46998\n",
            "[121]\ttrain-mlogloss:0.50758\teval-mlogloss:0.46737\n",
            "[122]\ttrain-mlogloss:0.50517\teval-mlogloss:0.46462\n",
            "[123]\ttrain-mlogloss:0.50489\teval-mlogloss:0.46427\n",
            "[124]\ttrain-mlogloss:0.50239\teval-mlogloss:0.46132\n",
            "[125]\ttrain-mlogloss:0.50151\teval-mlogloss:0.46008\n",
            "[126]\ttrain-mlogloss:0.50026\teval-mlogloss:0.45873\n",
            "[127]\ttrain-mlogloss:0.49966\teval-mlogloss:0.45799\n",
            "[128]\ttrain-mlogloss:0.49914\teval-mlogloss:0.45718\n",
            "[129]\ttrain-mlogloss:0.49744\teval-mlogloss:0.45511\n",
            "[130]\ttrain-mlogloss:0.49599\teval-mlogloss:0.45373\n",
            "[131]\ttrain-mlogloss:0.49514\teval-mlogloss:0.45294\n",
            "[132]\ttrain-mlogloss:0.49263\teval-mlogloss:0.45039\n",
            "[133]\ttrain-mlogloss:0.49061\teval-mlogloss:0.44820\n",
            "[134]\ttrain-mlogloss:0.48961\teval-mlogloss:0.44712\n",
            "[135]\ttrain-mlogloss:0.48697\teval-mlogloss:0.44439\n",
            "[136]\ttrain-mlogloss:0.48569\teval-mlogloss:0.44289\n",
            "[137]\ttrain-mlogloss:0.48307\teval-mlogloss:0.44000\n",
            "[138]\ttrain-mlogloss:0.48100\teval-mlogloss:0.43767\n",
            "[139]\ttrain-mlogloss:0.47980\teval-mlogloss:0.43594\n",
            "[140]\ttrain-mlogloss:0.47970\teval-mlogloss:0.43581\n",
            "[141]\ttrain-mlogloss:0.47756\teval-mlogloss:0.43347\n",
            "[142]\ttrain-mlogloss:0.47525\teval-mlogloss:0.43109\n",
            "[143]\ttrain-mlogloss:0.47412\teval-mlogloss:0.42982\n",
            "[144]\ttrain-mlogloss:0.47282\teval-mlogloss:0.42824\n",
            "[145]\ttrain-mlogloss:0.47139\teval-mlogloss:0.42677\n",
            "[146]\ttrain-mlogloss:0.47131\teval-mlogloss:0.42665\n",
            "[147]\ttrain-mlogloss:0.47022\teval-mlogloss:0.42552\n",
            "[148]\ttrain-mlogloss:0.46756\teval-mlogloss:0.42257\n",
            "[149]\ttrain-mlogloss:0.46595\teval-mlogloss:0.42096\n",
            "[150]\ttrain-mlogloss:0.46460\teval-mlogloss:0.41957\n",
            "[151]\ttrain-mlogloss:0.46460\teval-mlogloss:0.41958\n",
            "[152]\ttrain-mlogloss:0.46460\teval-mlogloss:0.41956\n",
            "[153]\ttrain-mlogloss:0.46243\teval-mlogloss:0.41723\n",
            "[154]\ttrain-mlogloss:0.46078\teval-mlogloss:0.41554\n",
            "[155]\ttrain-mlogloss:0.46071\teval-mlogloss:0.41560\n",
            "[156]\ttrain-mlogloss:0.45871\teval-mlogloss:0.41344\n",
            "[157]\ttrain-mlogloss:0.45809\teval-mlogloss:0.41289\n",
            "[158]\ttrain-mlogloss:0.45732\teval-mlogloss:0.41210\n",
            "[159]\ttrain-mlogloss:0.45636\teval-mlogloss:0.41106\n",
            "[160]\ttrain-mlogloss:0.45455\teval-mlogloss:0.40891\n",
            "[161]\ttrain-mlogloss:0.45417\teval-mlogloss:0.40840\n",
            "[162]\ttrain-mlogloss:0.45414\teval-mlogloss:0.40836\n",
            "[163]\ttrain-mlogloss:0.45328\teval-mlogloss:0.40750\n",
            "[164]\ttrain-mlogloss:0.45304\teval-mlogloss:0.40703\n",
            "[165]\ttrain-mlogloss:0.45203\teval-mlogloss:0.40574\n",
            "[166]\ttrain-mlogloss:0.45169\teval-mlogloss:0.40531\n",
            "[167]\ttrain-mlogloss:0.45065\teval-mlogloss:0.40416\n",
            "[168]\ttrain-mlogloss:0.44947\teval-mlogloss:0.40287\n",
            "[169]\ttrain-mlogloss:0.44845\teval-mlogloss:0.40174\n",
            "[170]\ttrain-mlogloss:0.44731\teval-mlogloss:0.40064\n",
            "[171]\ttrain-mlogloss:0.44612\teval-mlogloss:0.39934\n",
            "[172]\ttrain-mlogloss:0.44533\teval-mlogloss:0.39835\n",
            "[173]\ttrain-mlogloss:0.44363\teval-mlogloss:0.39644\n",
            "[174]\ttrain-mlogloss:0.44235\teval-mlogloss:0.39490\n",
            "[175]\ttrain-mlogloss:0.44132\teval-mlogloss:0.39355\n",
            "[176]\ttrain-mlogloss:0.44102\teval-mlogloss:0.39300\n",
            "[177]\ttrain-mlogloss:0.43940\teval-mlogloss:0.39128\n",
            "[178]\ttrain-mlogloss:0.43826\teval-mlogloss:0.39007\n",
            "[179]\ttrain-mlogloss:0.43687\teval-mlogloss:0.38856\n",
            "[180]\ttrain-mlogloss:0.43665\teval-mlogloss:0.38806\n",
            "[181]\ttrain-mlogloss:0.43658\teval-mlogloss:0.38795\n",
            "[182]\ttrain-mlogloss:0.43560\teval-mlogloss:0.38684\n",
            "[183]\ttrain-mlogloss:0.43415\teval-mlogloss:0.38515\n",
            "[184]\ttrain-mlogloss:0.43290\teval-mlogloss:0.38397\n",
            "[185]\ttrain-mlogloss:0.43165\teval-mlogloss:0.38271\n",
            "[186]\ttrain-mlogloss:0.43153\teval-mlogloss:0.38240\n",
            "[187]\ttrain-mlogloss:0.43041\teval-mlogloss:0.38131\n",
            "[188]\ttrain-mlogloss:0.43031\teval-mlogloss:0.38112\n",
            "[189]\ttrain-mlogloss:0.43019\teval-mlogloss:0.38094\n",
            "[190]\ttrain-mlogloss:0.43013\teval-mlogloss:0.38093\n",
            "[191]\ttrain-mlogloss:0.42994\teval-mlogloss:0.38049\n",
            "[192]\ttrain-mlogloss:0.42989\teval-mlogloss:0.38046\n",
            "[193]\ttrain-mlogloss:0.42948\teval-mlogloss:0.37973\n",
            "[194]\ttrain-mlogloss:0.42830\teval-mlogloss:0.37864\n",
            "[195]\ttrain-mlogloss:0.42697\teval-mlogloss:0.37735\n",
            "[196]\ttrain-mlogloss:0.42696\teval-mlogloss:0.37737\n",
            "[197]\ttrain-mlogloss:0.42620\teval-mlogloss:0.37650\n",
            "[198]\ttrain-mlogloss:0.42615\teval-mlogloss:0.37653\n",
            "[199]\ttrain-mlogloss:0.42506\teval-mlogloss:0.37543\n",
            "[200]\ttrain-mlogloss:0.42507\teval-mlogloss:0.37542\n",
            "[201]\ttrain-mlogloss:0.42311\teval-mlogloss:0.37357\n",
            "[202]\ttrain-mlogloss:0.42298\teval-mlogloss:0.37342\n",
            "[203]\ttrain-mlogloss:0.42279\teval-mlogloss:0.37300\n",
            "[204]\ttrain-mlogloss:0.42207\teval-mlogloss:0.37209\n",
            "[205]\ttrain-mlogloss:0.42108\teval-mlogloss:0.37093\n",
            "[206]\ttrain-mlogloss:0.42102\teval-mlogloss:0.37090\n",
            "[207]\ttrain-mlogloss:0.42085\teval-mlogloss:0.37073\n",
            "[208]\ttrain-mlogloss:0.42054\teval-mlogloss:0.37041\n",
            "[209]\ttrain-mlogloss:0.41839\teval-mlogloss:0.36795\n",
            "[210]\ttrain-mlogloss:0.41824\teval-mlogloss:0.36759\n",
            "[211]\ttrain-mlogloss:0.41795\teval-mlogloss:0.36716\n",
            "[212]\ttrain-mlogloss:0.41703\teval-mlogloss:0.36614\n",
            "[213]\ttrain-mlogloss:0.41686\teval-mlogloss:0.36592\n",
            "[214]\ttrain-mlogloss:0.41594\teval-mlogloss:0.36505\n",
            "[215]\ttrain-mlogloss:0.41474\teval-mlogloss:0.36368\n",
            "[216]\ttrain-mlogloss:0.41384\teval-mlogloss:0.36262\n",
            "[217]\ttrain-mlogloss:0.41373\teval-mlogloss:0.36237\n",
            "[218]\ttrain-mlogloss:0.41287\teval-mlogloss:0.36142\n",
            "[219]\ttrain-mlogloss:0.41182\teval-mlogloss:0.36040\n",
            "[220]\ttrain-mlogloss:0.41174\teval-mlogloss:0.36035\n",
            "[221]\ttrain-mlogloss:0.41148\teval-mlogloss:0.36007\n",
            "[222]\ttrain-mlogloss:0.41142\teval-mlogloss:0.36003\n",
            "[223]\ttrain-mlogloss:0.41124\teval-mlogloss:0.35980\n",
            "[224]\ttrain-mlogloss:0.41013\teval-mlogloss:0.35839\n",
            "[225]\ttrain-mlogloss:0.40921\teval-mlogloss:0.35729\n",
            "[226]\ttrain-mlogloss:0.40846\teval-mlogloss:0.35626\n",
            "[227]\ttrain-mlogloss:0.40739\teval-mlogloss:0.35518\n",
            "[228]\ttrain-mlogloss:0.40665\teval-mlogloss:0.35431\n",
            "[229]\ttrain-mlogloss:0.40635\teval-mlogloss:0.35400\n",
            "[230]\ttrain-mlogloss:0.40613\teval-mlogloss:0.35377\n",
            "[231]\ttrain-mlogloss:0.40614\teval-mlogloss:0.35378\n",
            "[232]\ttrain-mlogloss:0.40613\teval-mlogloss:0.35379\n",
            "[233]\ttrain-mlogloss:0.40608\teval-mlogloss:0.35373\n",
            "[234]\ttrain-mlogloss:0.40602\teval-mlogloss:0.35383\n",
            "[235]\ttrain-mlogloss:0.40602\teval-mlogloss:0.35385\n",
            "[236]\ttrain-mlogloss:0.40516\teval-mlogloss:0.35299\n",
            "[237]\ttrain-mlogloss:0.40498\teval-mlogloss:0.35260\n",
            "[238]\ttrain-mlogloss:0.40490\teval-mlogloss:0.35259\n",
            "[239]\ttrain-mlogloss:0.40475\teval-mlogloss:0.35242\n",
            "[240]\ttrain-mlogloss:0.40365\teval-mlogloss:0.35092\n",
            "[241]\ttrain-mlogloss:0.40346\teval-mlogloss:0.35062\n",
            "[242]\ttrain-mlogloss:0.40346\teval-mlogloss:0.35066\n",
            "[243]\ttrain-mlogloss:0.40336\teval-mlogloss:0.35060\n",
            "[244]\ttrain-mlogloss:0.40291\teval-mlogloss:0.35018\n",
            "[245]\ttrain-mlogloss:0.40281\teval-mlogloss:0.34997\n",
            "[246]\ttrain-mlogloss:0.40282\teval-mlogloss:0.34991\n",
            "[247]\ttrain-mlogloss:0.40197\teval-mlogloss:0.34884\n",
            "[248]\ttrain-mlogloss:0.40197\teval-mlogloss:0.34885\n",
            "[249]\ttrain-mlogloss:0.40198\teval-mlogloss:0.34882\n",
            "[250]\ttrain-mlogloss:0.40189\teval-mlogloss:0.34858\n",
            "[251]\ttrain-mlogloss:0.40185\teval-mlogloss:0.34851\n",
            "[252]\ttrain-mlogloss:0.40166\teval-mlogloss:0.34838\n",
            "[253]\ttrain-mlogloss:0.40165\teval-mlogloss:0.34837\n",
            "[254]\ttrain-mlogloss:0.40096\teval-mlogloss:0.34775\n",
            "[255]\ttrain-mlogloss:0.40096\teval-mlogloss:0.34775\n",
            "[256]\ttrain-mlogloss:0.40081\teval-mlogloss:0.34756\n",
            "[257]\ttrain-mlogloss:0.40077\teval-mlogloss:0.34759\n",
            "[258]\ttrain-mlogloss:0.39988\teval-mlogloss:0.34627\n",
            "[259]\ttrain-mlogloss:0.39905\teval-mlogloss:0.34528\n",
            "[260]\ttrain-mlogloss:0.39900\teval-mlogloss:0.34520\n",
            "[261]\ttrain-mlogloss:0.39893\teval-mlogloss:0.34514\n",
            "[262]\ttrain-mlogloss:0.39728\teval-mlogloss:0.34345\n",
            "[263]\ttrain-mlogloss:0.39718\teval-mlogloss:0.34338\n",
            "[264]\ttrain-mlogloss:0.39643\teval-mlogloss:0.34241\n",
            "[265]\ttrain-mlogloss:0.39643\teval-mlogloss:0.34242\n",
            "[266]\ttrain-mlogloss:0.39627\teval-mlogloss:0.34227\n",
            "[267]\ttrain-mlogloss:0.39620\teval-mlogloss:0.34221\n",
            "[268]\ttrain-mlogloss:0.39581\teval-mlogloss:0.34167\n",
            "[269]\ttrain-mlogloss:0.39571\teval-mlogloss:0.34158\n",
            "[270]\ttrain-mlogloss:0.39561\teval-mlogloss:0.34128\n",
            "[271]\ttrain-mlogloss:0.39470\teval-mlogloss:0.34017\n",
            "[272]\ttrain-mlogloss:0.39470\teval-mlogloss:0.34018\n",
            "[273]\ttrain-mlogloss:0.39407\teval-mlogloss:0.33944\n",
            "[274]\ttrain-mlogloss:0.39406\teval-mlogloss:0.33947\n",
            "[275]\ttrain-mlogloss:0.39399\teval-mlogloss:0.33941\n",
            "[276]\ttrain-mlogloss:0.39399\teval-mlogloss:0.33939\n",
            "[277]\ttrain-mlogloss:0.39391\teval-mlogloss:0.33936\n",
            "[278]\ttrain-mlogloss:0.39369\teval-mlogloss:0.33903\n",
            "[279]\ttrain-mlogloss:0.39364\teval-mlogloss:0.33896\n",
            "[280]\ttrain-mlogloss:0.39365\teval-mlogloss:0.33894\n",
            "[281]\ttrain-mlogloss:0.39359\teval-mlogloss:0.33892\n",
            "[282]\ttrain-mlogloss:0.39353\teval-mlogloss:0.33883\n",
            "[283]\ttrain-mlogloss:0.39281\teval-mlogloss:0.33792\n",
            "[284]\ttrain-mlogloss:0.39280\teval-mlogloss:0.33793\n",
            "[285]\ttrain-mlogloss:0.39280\teval-mlogloss:0.33794\n",
            "[286]\ttrain-mlogloss:0.39274\teval-mlogloss:0.33792\n",
            "[287]\ttrain-mlogloss:0.39191\teval-mlogloss:0.33686\n",
            "[288]\ttrain-mlogloss:0.39190\teval-mlogloss:0.33686\n",
            "[289]\ttrain-mlogloss:0.39184\teval-mlogloss:0.33676\n",
            "[290]\ttrain-mlogloss:0.39175\teval-mlogloss:0.33676\n",
            "[291]\ttrain-mlogloss:0.39170\teval-mlogloss:0.33674\n",
            "[292]\ttrain-mlogloss:0.39164\teval-mlogloss:0.33661\n",
            "[293]\ttrain-mlogloss:0.39089\teval-mlogloss:0.33569\n",
            "[294]\ttrain-mlogloss:0.39076\teval-mlogloss:0.33549\n",
            "[295]\ttrain-mlogloss:0.38980\teval-mlogloss:0.33453\n",
            "[296]\ttrain-mlogloss:0.38979\teval-mlogloss:0.33456\n",
            "[297]\ttrain-mlogloss:0.38979\teval-mlogloss:0.33458\n",
            "[298]\ttrain-mlogloss:0.38970\teval-mlogloss:0.33453\n",
            "[299]\ttrain-mlogloss:0.38965\teval-mlogloss:0.33447\n"
          ]
        },
        {
          "name": "stderr",
          "output_type": "stream",
          "text": [
            "[I 2025-09-17 09:58:33,101] Trial 33 finished with value: 0.9666666666666667 and parameters: {'lambda': 3.32532273927588e-07, 'alpha': 0.028589038196269723, 'eta': 0.010060132668257041, 'gamma': 0.2238349659950469, 'max_depth': 4, 'min_child_weight': 9, 'subsample': 0.49892767738343957, 'colsample_bytree': 0.7441835434428082}. Best is trial 0 with value: 1.0.\n"
          ]
        },
        {
          "name": "stdout",
          "output_type": "stream",
          "text": [
            "[0]\ttrain-mlogloss:1.03134\teval-mlogloss:1.02765\n",
            "[1]\ttrain-mlogloss:0.99869\teval-mlogloss:0.99431\n",
            "[2]\ttrain-mlogloss:0.95794\teval-mlogloss:0.95825\n",
            "[3]\ttrain-mlogloss:0.89241\teval-mlogloss:0.88533\n",
            "[4]\ttrain-mlogloss:0.86713\teval-mlogloss:0.85782\n",
            "[5]\ttrain-mlogloss:0.82890\teval-mlogloss:0.81544\n",
            "[6]\ttrain-mlogloss:0.77301\teval-mlogloss:0.75394\n",
            "[7]\ttrain-mlogloss:0.72274\teval-mlogloss:0.69938\n",
            "[8]\ttrain-mlogloss:0.70200\teval-mlogloss:0.67899\n"
          ]
        },
        {
          "name": "stderr",
          "output_type": "stream",
          "text": [
            "[I 2025-09-17 09:58:33,141] Trial 34 pruned. Trial was pruned at iteration 8.\n"
          ]
        },
        {
          "name": "stdout",
          "output_type": "stream",
          "text": [
            "[0]\ttrain-mlogloss:1.02829\teval-mlogloss:1.02539\n",
            "[1]\ttrain-mlogloss:0.99298\teval-mlogloss:0.99671\n",
            "[2]\ttrain-mlogloss:0.95024\teval-mlogloss:0.95907\n",
            "[3]\ttrain-mlogloss:0.88583\teval-mlogloss:0.88984\n",
            "[4]\ttrain-mlogloss:0.85992\teval-mlogloss:0.86788\n",
            "[5]\ttrain-mlogloss:0.82184\teval-mlogloss:0.83315\n",
            "[6]\ttrain-mlogloss:0.76894\teval-mlogloss:0.77423\n",
            "[7]\ttrain-mlogloss:0.71614\teval-mlogloss:0.71668\n"
          ]
        },
        {
          "name": "stderr",
          "output_type": "stream",
          "text": [
            "[I 2025-09-17 09:58:33,170] Trial 35 pruned. Trial was pruned at iteration 8.\n"
          ]
        },
        {
          "name": "stdout",
          "output_type": "stream",
          "text": [
            "[0]\ttrain-mlogloss:0.95274\teval-mlogloss:0.94596\n",
            "[1]\ttrain-mlogloss:0.88159\teval-mlogloss:0.87928\n"
          ]
        },
        {
          "name": "stderr",
          "output_type": "stream",
          "text": [
            "[I 2025-09-17 09:58:33,195] Trial 36 pruned. Trial was pruned at iteration 2.\n"
          ]
        },
        {
          "name": "stdout",
          "output_type": "stream",
          "text": [
            "[0]\ttrain-mlogloss:0.78422\teval-mlogloss:0.76559\n",
            "[1]\ttrain-mlogloss:0.69506\teval-mlogloss:0.66539\n"
          ]
        },
        {
          "name": "stderr",
          "output_type": "stream",
          "text": [
            "[I 2025-09-17 09:58:33,220] Trial 37 pruned. Trial was pruned at iteration 2.\n"
          ]
        },
        {
          "name": "stdout",
          "output_type": "stream",
          "text": [
            "[0]\ttrain-mlogloss:1.06298\teval-mlogloss:1.06140\n",
            "[1]\ttrain-mlogloss:1.04529\teval-mlogloss:1.04094\n",
            "[2]\ttrain-mlogloss:1.01518\teval-mlogloss:1.00946\n",
            "[3]\ttrain-mlogloss:0.98161\teval-mlogloss:0.97338\n",
            "[4]\ttrain-mlogloss:0.95167\teval-mlogloss:0.94235\n",
            "[5]\ttrain-mlogloss:0.92170\teval-mlogloss:0.91133\n",
            "[6]\ttrain-mlogloss:0.89268\teval-mlogloss:0.87974\n",
            "[7]\ttrain-mlogloss:0.86809\teval-mlogloss:0.85545\n",
            "[8]\ttrain-mlogloss:0.84242\teval-mlogloss:0.82803\n"
          ]
        },
        {
          "name": "stderr",
          "output_type": "stream",
          "text": [
            "[I 2025-09-17 09:58:33,257] Trial 38 pruned. Trial was pruned at iteration 8.\n"
          ]
        },
        {
          "name": "stdout",
          "output_type": "stream",
          "text": [
            "[0]\ttrain-mlogloss:0.80439\teval-mlogloss:0.79340\n",
            "[1]\ttrain-mlogloss:0.70349\teval-mlogloss:0.67527\n",
            "[2]\ttrain-mlogloss:0.56123\teval-mlogloss:0.52260\n"
          ]
        },
        {
          "name": "stderr",
          "output_type": "stream",
          "text": [
            "[I 2025-09-17 09:58:33,276] Trial 39 pruned. Trial was pruned at iteration 2.\n"
          ]
        },
        {
          "name": "stdout",
          "output_type": "stream",
          "text": [
            "[0]\ttrain-mlogloss:0.96669\teval-mlogloss:0.95880\n",
            "[1]\ttrain-mlogloss:0.90873\teval-mlogloss:0.90451\n",
            "[2]\ttrain-mlogloss:0.83897\teval-mlogloss:0.83711\n"
          ]
        },
        {
          "name": "stderr",
          "output_type": "stream",
          "text": [
            "[I 2025-09-17 09:58:33,306] Trial 40 pruned. Trial was pruned at iteration 2.\n"
          ]
        },
        {
          "name": "stdout",
          "output_type": "stream",
          "text": [
            "[0]\ttrain-mlogloss:1.08803\teval-mlogloss:1.08743\n",
            "[1]\ttrain-mlogloss:1.08023\teval-mlogloss:1.07832\n",
            "[2]\ttrain-mlogloss:1.07194\teval-mlogloss:1.06988\n",
            "[3]\ttrain-mlogloss:1.05882\teval-mlogloss:1.05581\n",
            "[4]\ttrain-mlogloss:1.04890\teval-mlogloss:1.04532\n",
            "[5]\ttrain-mlogloss:1.03903\teval-mlogloss:1.03479\n",
            "[6]\ttrain-mlogloss:1.03021\teval-mlogloss:1.02599\n",
            "[7]\ttrain-mlogloss:1.02174\teval-mlogloss:1.01739\n",
            "[8]\ttrain-mlogloss:1.01225\teval-mlogloss:1.00743\n",
            "[9]\ttrain-mlogloss:1.00343\teval-mlogloss:0.99805\n",
            "[10]\ttrain-mlogloss:0.99565\teval-mlogloss:0.99015\n",
            "[11]\ttrain-mlogloss:0.98464\teval-mlogloss:0.97881\n",
            "[12]\ttrain-mlogloss:0.97522\teval-mlogloss:0.96955\n",
            "[13]\ttrain-mlogloss:0.96411\teval-mlogloss:0.95746\n",
            "[14]\ttrain-mlogloss:0.95594\teval-mlogloss:0.94924\n",
            "[15]\ttrain-mlogloss:0.94724\teval-mlogloss:0.94044\n",
            "[16]\ttrain-mlogloss:0.93888\teval-mlogloss:0.93158\n",
            "[17]\ttrain-mlogloss:0.93159\teval-mlogloss:0.92389\n",
            "[18]\ttrain-mlogloss:0.92094\teval-mlogloss:0.91290\n",
            "[19]\ttrain-mlogloss:0.91268\teval-mlogloss:0.90406\n",
            "[20]\ttrain-mlogloss:0.90553\teval-mlogloss:0.89614\n",
            "[21]\ttrain-mlogloss:0.89775\teval-mlogloss:0.88791\n",
            "[22]\ttrain-mlogloss:0.88825\teval-mlogloss:0.87768\n",
            "[23]\ttrain-mlogloss:0.88033\teval-mlogloss:0.86957\n",
            "[24]\ttrain-mlogloss:0.87073\teval-mlogloss:0.85884\n",
            "[25]\ttrain-mlogloss:0.86414\teval-mlogloss:0.85122\n",
            "[26]\ttrain-mlogloss:0.85482\teval-mlogloss:0.84079\n",
            "[27]\ttrain-mlogloss:0.84769\teval-mlogloss:0.83343\n",
            "[28]\ttrain-mlogloss:0.84029\teval-mlogloss:0.82563\n",
            "[29]\ttrain-mlogloss:0.83332\teval-mlogloss:0.81760\n",
            "[30]\ttrain-mlogloss:0.82512\teval-mlogloss:0.80925\n",
            "[31]\ttrain-mlogloss:0.81740\teval-mlogloss:0.80099\n"
          ]
        },
        {
          "name": "stderr",
          "output_type": "stream",
          "text": [
            "[I 2025-09-17 09:58:33,372] Trial 41 pruned. Trial was pruned at iteration 32.\n"
          ]
        },
        {
          "name": "stdout",
          "output_type": "stream",
          "text": [
            "[0]\ttrain-mlogloss:1.05558\teval-mlogloss:1.05317\n",
            "[1]\ttrain-mlogloss:1.02084\teval-mlogloss:1.01134\n",
            "[2]\ttrain-mlogloss:0.98929\teval-mlogloss:0.97852\n",
            "[3]\ttrain-mlogloss:0.93939\teval-mlogloss:0.92591\n",
            "[4]\ttrain-mlogloss:0.90635\teval-mlogloss:0.89231\n",
            "[5]\ttrain-mlogloss:0.86578\teval-mlogloss:0.84888\n",
            "[6]\ttrain-mlogloss:0.83644\teval-mlogloss:0.81860\n",
            "[7]\ttrain-mlogloss:0.80780\teval-mlogloss:0.78864\n",
            "[8]\ttrain-mlogloss:0.78146\teval-mlogloss:0.76000\n"
          ]
        },
        {
          "name": "stderr",
          "output_type": "stream",
          "text": [
            "[I 2025-09-17 09:58:33,400] Trial 42 pruned. Trial was pruned at iteration 8.\n"
          ]
        },
        {
          "name": "stdout",
          "output_type": "stream",
          "text": [
            "[0]\ttrain-mlogloss:1.07976\teval-mlogloss:1.07924\n",
            "[1]\ttrain-mlogloss:1.06802\teval-mlogloss:1.06647\n",
            "[2]\ttrain-mlogloss:1.05316\teval-mlogloss:1.05142\n",
            "[3]\ttrain-mlogloss:1.03515\teval-mlogloss:1.03389\n",
            "[4]\ttrain-mlogloss:1.01506\teval-mlogloss:1.01382\n",
            "[5]\ttrain-mlogloss:0.99612\teval-mlogloss:0.99319\n",
            "[6]\ttrain-mlogloss:0.97962\teval-mlogloss:0.97644\n",
            "[7]\ttrain-mlogloss:0.96308\teval-mlogloss:0.95948\n",
            "[8]\ttrain-mlogloss:0.95152\teval-mlogloss:0.94680\n",
            "[9]\ttrain-mlogloss:0.93434\teval-mlogloss:0.93040\n",
            "[10]\ttrain-mlogloss:0.92173\teval-mlogloss:0.91565\n",
            "[11]\ttrain-mlogloss:0.90414\teval-mlogloss:0.89651\n",
            "[12]\ttrain-mlogloss:0.89084\teval-mlogloss:0.88297\n",
            "[13]\ttrain-mlogloss:0.87860\teval-mlogloss:0.86956\n",
            "[14]\ttrain-mlogloss:0.86813\teval-mlogloss:0.85777\n",
            "[15]\ttrain-mlogloss:0.85564\teval-mlogloss:0.84554\n",
            "[16]\ttrain-mlogloss:0.84512\teval-mlogloss:0.83478\n",
            "[17]\ttrain-mlogloss:0.83268\teval-mlogloss:0.82275\n",
            "[18]\ttrain-mlogloss:0.82200\teval-mlogloss:0.81104\n",
            "[19]\ttrain-mlogloss:0.80912\teval-mlogloss:0.79681\n",
            "[20]\ttrain-mlogloss:0.79951\teval-mlogloss:0.78673\n",
            "[21]\ttrain-mlogloss:0.79064\teval-mlogloss:0.77703\n",
            "[22]\ttrain-mlogloss:0.78058\teval-mlogloss:0.76541\n",
            "[23]\ttrain-mlogloss:0.76811\teval-mlogloss:0.75167\n",
            "[24]\ttrain-mlogloss:0.75499\teval-mlogloss:0.73768\n",
            "[25]\ttrain-mlogloss:0.74449\teval-mlogloss:0.72591\n",
            "[26]\ttrain-mlogloss:0.73178\teval-mlogloss:0.71070\n",
            "[27]\ttrain-mlogloss:0.72489\teval-mlogloss:0.70319\n",
            "[28]\ttrain-mlogloss:0.71395\teval-mlogloss:0.69206\n",
            "[29]\ttrain-mlogloss:0.70810\teval-mlogloss:0.68543\n",
            "[30]\ttrain-mlogloss:0.70045\teval-mlogloss:0.67730\n",
            "[31]\ttrain-mlogloss:0.69056\teval-mlogloss:0.66728\n"
          ]
        },
        {
          "name": "stderr",
          "output_type": "stream",
          "text": [
            "[I 2025-09-17 09:58:33,470] Trial 43 pruned. Trial was pruned at iteration 32.\n"
          ]
        },
        {
          "name": "stdout",
          "output_type": "stream",
          "text": [
            "[0]\ttrain-mlogloss:1.08203\teval-mlogloss:1.08147\n",
            "[1]\ttrain-mlogloss:1.07385\teval-mlogloss:1.07267\n",
            "[2]\ttrain-mlogloss:1.06003\teval-mlogloss:1.05826\n",
            "[3]\ttrain-mlogloss:1.04381\teval-mlogloss:1.04140\n",
            "[4]\ttrain-mlogloss:1.02882\teval-mlogloss:1.02623\n",
            "[5]\ttrain-mlogloss:1.01321\teval-mlogloss:1.00971\n",
            "[6]\ttrain-mlogloss:0.99815\teval-mlogloss:0.99329\n",
            "[7]\ttrain-mlogloss:0.98495\teval-mlogloss:0.97913\n",
            "[8]\ttrain-mlogloss:0.97080\teval-mlogloss:0.96406\n",
            "[9]\ttrain-mlogloss:0.95688\teval-mlogloss:0.94955\n",
            "[10]\ttrain-mlogloss:0.94566\teval-mlogloss:0.93743\n",
            "[11]\ttrain-mlogloss:0.93215\teval-mlogloss:0.92295\n",
            "[12]\ttrain-mlogloss:0.92111\teval-mlogloss:0.91179\n",
            "[13]\ttrain-mlogloss:0.90818\teval-mlogloss:0.89811\n",
            "[14]\ttrain-mlogloss:0.89565\teval-mlogloss:0.88489\n",
            "[15]\ttrain-mlogloss:0.88600\teval-mlogloss:0.87531\n",
            "[16]\ttrain-mlogloss:0.87602\teval-mlogloss:0.86475\n",
            "[17]\ttrain-mlogloss:0.86406\teval-mlogloss:0.85184\n",
            "[18]\ttrain-mlogloss:0.85433\teval-mlogloss:0.84156\n",
            "[19]\ttrain-mlogloss:0.84410\teval-mlogloss:0.83105\n",
            "[20]\ttrain-mlogloss:0.83484\teval-mlogloss:0.82079\n",
            "[21]\ttrain-mlogloss:0.82560\teval-mlogloss:0.81068\n",
            "[22]\ttrain-mlogloss:0.81427\teval-mlogloss:0.79819\n",
            "[23]\ttrain-mlogloss:0.80317\teval-mlogloss:0.78627\n",
            "[24]\ttrain-mlogloss:0.79457\teval-mlogloss:0.77756\n",
            "[25]\ttrain-mlogloss:0.78469\teval-mlogloss:0.76699\n",
            "[26]\ttrain-mlogloss:0.77569\teval-mlogloss:0.75677\n",
            "[27]\ttrain-mlogloss:0.76614\teval-mlogloss:0.74684\n",
            "[28]\ttrain-mlogloss:0.75623\teval-mlogloss:0.73658\n",
            "[29]\ttrain-mlogloss:0.74816\teval-mlogloss:0.72815\n",
            "[30]\ttrain-mlogloss:0.74269\teval-mlogloss:0.72326\n",
            "[31]\ttrain-mlogloss:0.73513\teval-mlogloss:0.71529\n"
          ]
        },
        {
          "name": "stderr",
          "output_type": "stream",
          "text": [
            "[I 2025-09-17 09:58:33,543] Trial 44 pruned. Trial was pruned at iteration 32.\n"
          ]
        },
        {
          "name": "stdout",
          "output_type": "stream",
          "text": [
            "[0]\ttrain-mlogloss:1.02448\teval-mlogloss:1.02562\n",
            "[1]\ttrain-mlogloss:0.95527\teval-mlogloss:0.95112\n"
          ]
        },
        {
          "name": "stderr",
          "output_type": "stream",
          "text": [
            "[I 2025-09-17 09:58:33,570] Trial 45 pruned. Trial was pruned at iteration 2.\n"
          ]
        },
        {
          "name": "stdout",
          "output_type": "stream",
          "text": [
            "[0]\ttrain-mlogloss:0.76715\teval-mlogloss:0.76989\n",
            "[1]\ttrain-mlogloss:0.60411\teval-mlogloss:0.57880\n",
            "[2]\ttrain-mlogloss:0.47097\teval-mlogloss:0.43179\n"
          ]
        },
        {
          "name": "stderr",
          "output_type": "stream",
          "text": [
            "[I 2025-09-17 09:58:33,597] Trial 46 pruned. Trial was pruned at iteration 2.\n"
          ]
        },
        {
          "name": "stdout",
          "output_type": "stream",
          "text": [
            "[0]\ttrain-mlogloss:1.04920\teval-mlogloss:1.04649\n",
            "[1]\ttrain-mlogloss:1.02618\teval-mlogloss:1.02014\n",
            "[2]\ttrain-mlogloss:0.98624\teval-mlogloss:0.97742\n"
          ]
        },
        {
          "name": "stderr",
          "output_type": "stream",
          "text": [
            "[I 2025-09-17 09:58:33,616] Trial 47 pruned. Trial was pruned at iteration 2.\n"
          ]
        },
        {
          "name": "stdout",
          "output_type": "stream",
          "text": [
            "[0]\ttrain-mlogloss:0.92374\teval-mlogloss:0.91875\n",
            "[1]\ttrain-mlogloss:0.81136\teval-mlogloss:0.79658\n"
          ]
        },
        {
          "name": "stderr",
          "output_type": "stream",
          "text": [
            "[I 2025-09-17 09:58:33,643] Trial 48 pruned. Trial was pruned at iteration 2.\n"
          ]
        },
        {
          "name": "stdout",
          "output_type": "stream",
          "text": [
            "[0]\ttrain-mlogloss:1.00495\teval-mlogloss:1.00173\n",
            "[1]\ttrain-mlogloss:0.96346\teval-mlogloss:0.95433\n"
          ]
        },
        {
          "name": "stderr",
          "output_type": "stream",
          "text": [
            "[I 2025-09-17 09:58:33,669] Trial 49 pruned. Trial was pruned at iteration 2.\n"
          ]
        },
        {
          "name": "stdout",
          "output_type": "stream",
          "text": [
            "Best trial: {'lambda': 4.057323911367664e-07, 'alpha': 0.15591987079988331, 'eta': 0.27167587789575615, 'gamma': 6.789690775557702e-05, 'max_depth': 4, 'min_child_weight': 7, 'subsample': 0.7827374274731098, 'colsample_bytree': 0.9794792471971193}\n",
            "Best accuracy: 1.0\n"
          ]
        }
      ],
      "source": [
        "import optuna\n",
        "import xgboost as xgb\n",
        "from sklearn.model_selection import train_test_split\n",
        "from sklearn.datasets import load_iris\n",
        "from sklearn.metrics import accuracy_score\n",
        "import numpy as np\n",
        "\n",
        "# Load the Iris dataset\n",
        "X, y = load_iris(return_X_y=True)\n",
        "\n",
        "# Split the dataset into training and test sets\n",
        "X_train, X_test, y_train, y_test = train_test_split(X, y, test_size=0.2, random_state=42)\n",
        "\n",
        "# Define the objective function for XGBoost\n",
        "def objective(trial):\n",
        "    # Hyperparameter search space\n",
        "    param = {\n",
        "        'verbosity': 0,\n",
        "        'objective': 'multi:softprob',\n",
        "        'num_class': 3,\n",
        "        'eval_metric': 'mlogloss',  # Ensure that the eval_metric is specified here\n",
        "        'booster': 'gbtree',\n",
        "        'lambda': trial.suggest_float('lambda', 1e-8, 1.0, log=True),\n",
        "        'alpha': trial.suggest_float('alpha', 1e-8, 1.0, log=True),\n",
        "        'eta': trial.suggest_float('eta', 0.01, 0.3),\n",
        "        'gamma': trial.suggest_float('gamma', 1e-8, 1.0, log=True),\n",
        "        'max_depth': trial.suggest_int('max_depth', 3, 9),\n",
        "        'min_child_weight': trial.suggest_int('min_child_weight', 1, 10),\n",
        "        'subsample': trial.suggest_float('subsample', 0.4, 1.0),\n",
        "        'colsample_bytree': trial.suggest_float('colsample_bytree', 0.4, 1.0),\n",
        "        'n_estimators': 300,\n",
        "    }\n",
        "\n",
        "    # Create DMatrix for XGBoost\n",
        "    dtrain = xgb.DMatrix(X_train, label=y_train)\n",
        "    dtest = xgb.DMatrix(X_test, label=y_test)\n",
        "\n",
        "    # Define a pruning callback based on evaluation metrics\n",
        "    pruning_callback = optuna.integration.XGBoostPruningCallback(trial, \"eval-mlogloss\")  # Match the metric name in the evals list\n",
        "\n",
        "    # Train the model\n",
        "    bst = xgb.train(\n",
        "        param,\n",
        "        dtrain,\n",
        "        num_boost_round=300,\n",
        "        evals=[(dtrain, \"train\"), (dtest, \"eval\")],  # Ensure the eval datasets and names are specified\n",
        "        early_stopping_rounds=30,\n",
        "        callbacks=[pruning_callback]\n",
        "    )\n",
        "\n",
        "    # Predict on the test set\n",
        "    preds = bst.predict(dtest)\n",
        "    best_preds = [int(np.argmax(line)) for line in preds]\n",
        "\n",
        "    # Return accuracy as the objective value\n",
        "    accuracy = accuracy_score(y_test, best_preds)\n",
        "    return accuracy\n",
        "\n",
        "# Create a study with pruning\n",
        "study = optuna.create_study(direction='maximize', pruner=optuna.pruners.SuccessiveHalvingPruner())\n",
        "study.optimize(objective, n_trials=50)\n",
        "\n",
        "# Output the best trial\n",
        "print(f\"Best trial: {study.best_trial.params}\")\n",
        "print(f\"Best accuracy: {study.best_value}\")\n"
      ]
    },
    {
      "cell_type": "code",
      "execution_count": 36,
      "metadata": {
        "colab": {
          "base_uri": "https://localhost:8080/"
        },
        "id": "e0mTqXEpSiI_",
        "outputId": "01349f95-c4cf-4d6c-8a99-6300a3c1183e"
      },
      "outputs": [],
      "source": [
        "# ! pip install optuna-integration[xgboost]"
      ]
    },
    {
      "cell_type": "code",
      "execution_count": 37,
      "metadata": {
        "colab": {
          "base_uri": "https://localhost:8080/",
          "height": 542
        },
        "id": "TkIG5Cf6SoZ_",
        "outputId": "c9a5efa3-84a8-4d38-fe48-3a1fd6422f76"
      },
      "outputs": [
        {
          "data": {
            "application/vnd.plotly.v1+json": {
              "config": {
                "plotlyServerURL": "https://plot.ly"
              },
              "data": [
                {
                  "marker": {
                    "maxdisplayed": 10
                  },
                  "mode": "lines+markers",
                  "name": "Trial0",
                  "type": "scatter",
                  "x": [
                    0,
                    1,
                    2,
                    3,
                    4,
                    5,
                    6,
                    7,
                    8,
                    9,
                    10,
                    11,
                    12,
                    13,
                    14,
                    15,
                    16,
                    17,
                    18,
                    19,
                    20,
                    21,
                    22,
                    23,
                    24,
                    25,
                    26,
                    27,
                    28,
                    29,
                    30,
                    31,
                    32,
                    33,
                    34,
                    35,
                    36,
                    37,
                    38,
                    39,
                    40,
                    41,
                    42,
                    43,
                    44,
                    45,
                    46,
                    47,
                    48,
                    49,
                    50,
                    51,
                    52,
                    53,
                    54,
                    55,
                    56,
                    57,
                    58,
                    59,
                    60,
                    61,
                    62,
                    63,
                    64,
                    65,
                    66,
                    67,
                    68,
                    69,
                    70,
                    71,
                    72,
                    73,
                    74,
                    75,
                    76,
                    77,
                    78,
                    79,
                    80,
                    81,
                    82,
                    83,
                    84,
                    85,
                    86,
                    87,
                    88,
                    89,
                    90,
                    91,
                    92,
                    93,
                    94,
                    95,
                    96,
                    97,
                    98,
                    99,
                    100,
                    101,
                    102,
                    103,
                    104,
                    105,
                    106,
                    107,
                    108,
                    109,
                    110,
                    111,
                    112,
                    113,
                    114,
                    115,
                    116,
                    117,
                    118,
                    119,
                    120,
                    121,
                    122,
                    123,
                    124,
                    125,
                    126,
                    127,
                    128,
                    129,
                    130,
                    131,
                    132,
                    133,
                    134,
                    135,
                    136,
                    137,
                    138,
                    139,
                    140,
                    141,
                    142,
                    143,
                    144,
                    145,
                    146,
                    147,
                    148,
                    149,
                    150,
                    151,
                    152,
                    153,
                    154,
                    155,
                    156,
                    157,
                    158,
                    159,
                    160,
                    161,
                    162,
                    163,
                    164,
                    165,
                    166,
                    167,
                    168,
                    169,
                    170,
                    171,
                    172,
                    173,
                    174,
                    175,
                    176,
                    177,
                    178,
                    179,
                    180,
                    181,
                    182,
                    183,
                    184,
                    185,
                    186,
                    187,
                    188,
                    189,
                    190,
                    191,
                    192,
                    193,
                    194,
                    195,
                    196,
                    197,
                    198,
                    199,
                    200,
                    201,
                    202,
                    203,
                    204,
                    205,
                    206,
                    207,
                    208,
                    209,
                    210,
                    211,
                    212,
                    213,
                    214,
                    215,
                    216,
                    217,
                    218,
                    219,
                    220,
                    221,
                    222,
                    223,
                    224,
                    225,
                    226,
                    227,
                    228,
                    229,
                    230
                  ],
                  "y": [
                    0.7760577301184336,
                    0.5657498935858408,
                    0.4243621071179708,
                    0.32308251957098644,
                    0.25700775037209195,
                    0.2029202774167061,
                    0.17255430618921916,
                    0.15900710274775823,
                    0.13436293055613835,
                    0.12463797554373741,
                    0.11884198014934858,
                    0.11615013206998508,
                    0.11571837266286214,
                    0.11514498218894005,
                    0.11479948485891024,
                    0.11467091391483943,
                    0.11423793012897174,
                    0.11381598760684332,
                    0.11455667689442635,
                    0.11415379966298739,
                    0.11360011051098505,
                    0.11119258726636569,
                    0.11180253525575003,
                    0.10589234530925751,
                    0.10538168872396152,
                    0.10524433155854543,
                    0.10523296346267065,
                    0.10526262943943342,
                    0.10542125701904297,
                    0.105382090061903,
                    0.1054483823478222,
                    0.10438275163372358,
                    0.1040663868188858,
                    0.10418514435489973,
                    0.10392689829071362,
                    0.10396610001722971,
                    0.10378442034125328,
                    0.10138390163580577,
                    0.10131066516041756,
                    0.10020167355736097,
                    0.10016010701656342,
                    0.10035166988770167,
                    0.10067869002620379,
                    0.10069640477498372,
                    0.10060856739679973,
                    0.10045002376039823,
                    0.10014948298533757,
                    0.10015101432800293,
                    0.10008896465102832,
                    0.09917186324795087,
                    0.09913583199183146,
                    0.09936914096275966,
                    0.09949581647912661,
                    0.0994251122077306,
                    0.09926584189136824,
                    0.09949593494335811,
                    0.09956696256995201,
                    0.09945356423656146,
                    0.09941714853048325,
                    0.0994849589963754,
                    0.0996518390874068,
                    0.09963747399548689,
                    0.09959361143410206,
                    0.0997268870472908,
                    0.09853219191233317,
                    0.0989015631377697,
                    0.09803155834476153,
                    0.09807853226860365,
                    0.098165529469649,
                    0.09795367692907651,
                    0.09794822583595912,
                    0.09795046423872313,
                    0.09769916757941247,
                    0.09776130144794783,
                    0.09790193041165669,
                    0.09804612398147583,
                    0.09833601961533228,
                    0.09786657802760601,
                    0.09833545448879401,
                    0.09828497618436813,
                    0.09765295969943205,
                    0.09777957946062088,
                    0.09764650538563728,
                    0.09761088093121846,
                    0.09749845017989477,
                    0.09731312257548173,
                    0.09729104327658812,
                    0.09726187499860922,
                    0.09721019466718038,
                    0.09713596614698569,
                    0.0972941692918539,
                    0.09734408222138882,
                    0.097051273783048,
                    0.09686646709839503,
                    0.09702098096410433,
                    0.09719173423945904,
                    0.09673763724664847,
                    0.09669242426753044,
                    0.09674755781888962,
                    0.09597388704617818,
                    0.09600057813028494,
                    0.096027198061347,
                    0.09601454225679239,
                    0.09566158366700013,
                    0.0959402084350586,
                    0.09565017856657505,
                    0.09548763086398443,
                    0.09588751668731371,
                    0.09581212277213733,
                    0.09558673414091269,
                    0.09593890123069286,
                    0.09613229148089886,
                    0.09582618611554304,
                    0.09591659431656202,
                    0.09577808951338132,
                    0.09580371727546057,
                    0.09575646743178368,
                    0.0952173879990975,
                    0.09525803613166015,
                    0.09550672844052314,
                    0.0955411537239949,
                    0.09560272966821988,
                    0.09576978757977486,
                    0.09582633612056574,
                    0.095643878976504,
                    0.09558617994189263,
                    0.09558665069441001,
                    0.0955456517636776,
                    0.09570895830790202,
                    0.09556910395622253,
                    0.09562622246642907,
                    0.09572067136565844,
                    0.09492724786202113,
                    0.09503616442282994,
                    0.09519996618231137,
                    0.09539651138087114,
                    0.09531942742566267,
                    0.09427455837527911,
                    0.09398329406976699,
                    0.09397965259850025,
                    0.09410750021537145,
                    0.09460596318046252,
                    0.09470462339619795,
                    0.09469872787594795,
                    0.09476528701682886,
                    0.09484670000771682,
                    0.0939834926277399,
                    0.09351187062760194,
                    0.0934926719715198,
                    0.09370419159531593,
                    0.0933751077701648,
                    0.09315584364036719,
                    0.09334308405717213,
                    0.09345517084002494,
                    0.09323187991976738,
                    0.09314267088969548,
                    0.09306834253172079,
                    0.09306343036393325,
                    0.09296112321317196,
                    0.09307755964497726,
                    0.09319928102195263,
                    0.09312674316267172,
                    0.09319643502434095,
                    0.09325904709597428,
                    0.09354908938209215,
                    0.09357184631129106,
                    0.0935431374857823,
                    0.09360216620067756,
                    0.09356116230289141,
                    0.09353243174652258,
                    0.09333617438872656,
                    0.0931746410826842,
                    0.09300423351426919,
                    0.0929853913684686,
                    0.09367598096529643,
                    0.09352670001486937,
                    0.09276261751850447,
                    0.09273841604590416,
                    0.09270998475452265,
                    0.09275191264847914,
                    0.09303083457052708,
                    0.09296728322903315,
                    0.09248577058315277,
                    0.09273932985961438,
                    0.09267997803787391,
                    0.09285056653122108,
                    0.09287634479502836,
                    0.09287634479502836,
                    0.09296458115180334,
                    0.09307930755118529,
                    0.09318008944392205,
                    0.09338801155487696,
                    0.09324931676189105,
                    0.09316982738673688,
                    0.09336334081987539,
                    0.0933282678325971,
                    0.0934830229729414,
                    0.09310953343907992,
                    0.09276440652708212,
                    0.09206261796255906,
                    0.09193623003860314,
                    0.09168741914133231,
                    0.09175002761185169,
                    0.0919802105675141,
                    0.09209101436038812,
                    0.09219497727851073,
                    0.09237926552693049,
                    0.09229194844762484,
                    0.09289363486071428,
                    0.0926991527279218,
                    0.09274397020538648,
                    0.09270709082484245,
                    0.09250107382734617,
                    0.09247738470633825,
                    0.09254814585049947,
                    0.09263586439192295,
                    0.09276847057044506,
                    0.09273898700873057,
                    0.09267770387232303,
                    0.09243683132032553,
                    0.09239082857966423,
                    0.09252398622532686,
                    0.09262403945128123,
                    0.09263727938135465,
                    0.09252025124927361,
                    0.09254895063738028,
                    0.09246841929852963,
                    0.09252351485192775,
                    0.09249208929638068,
                    0.09264805714289347,
                    0.09261000578602155
                  ]
                },
                {
                  "marker": {
                    "maxdisplayed": 10
                  },
                  "mode": "lines+markers",
                  "name": "Trial1",
                  "type": "scatter",
                  "x": [
                    0,
                    1,
                    2,
                    3,
                    4,
                    5,
                    6,
                    7,
                    8,
                    9,
                    10,
                    11,
                    12,
                    13,
                    14,
                    15,
                    16,
                    17,
                    18,
                    19,
                    20,
                    21,
                    22,
                    23,
                    24,
                    25,
                    26,
                    27,
                    28,
                    29,
                    30,
                    31,
                    32,
                    33,
                    34,
                    35,
                    36,
                    37,
                    38,
                    39,
                    40,
                    41,
                    42,
                    43,
                    44,
                    45,
                    46,
                    47,
                    48,
                    49,
                    50,
                    51,
                    52,
                    53,
                    54,
                    55,
                    56,
                    57,
                    58,
                    59,
                    60,
                    61,
                    62,
                    63,
                    64,
                    65,
                    66,
                    67,
                    68,
                    69,
                    70,
                    71,
                    72,
                    73,
                    74,
                    75,
                    76,
                    77,
                    78,
                    79,
                    80,
                    81,
                    82,
                    83,
                    84,
                    85,
                    86,
                    87,
                    88
                  ],
                  "y": [
                    0.8054007987181345,
                    0.7008183936278025,
                    0.5522753397623698,
                    0.422997643550237,
                    0.34391462107499443,
                    0.2837884013851484,
                    0.245458356042703,
                    0.24529782483975093,
                    0.21067473789056143,
                    0.19519702593485513,
                    0.18571004619201023,
                    0.18571294198433558,
                    0.1858682130773862,
                    0.18607582797606786,
                    0.18585962305466333,
                    0.18595228741566341,
                    0.18594683905442555,
                    0.18596145063638686,
                    0.18572123646736144,
                    0.18581712692976,
                    0.1856536313891411,
                    0.18567532350619634,
                    0.18588089247544606,
                    0.1646764174103737,
                    0.16484025840957958,
                    0.16135060489177705,
                    0.16127783780296642,
                    0.16120126446088154,
                    0.16138483261068662,
                    0.16151752372582753,
                    0.1604453667998314,
                    0.16034358292818068,
                    0.16062019591530163,
                    0.16032174651821454,
                    0.1604135756691297,
                    0.1605209377904733,
                    0.160614001005888,
                    0.1602260912458102,
                    0.16014397889375687,
                    0.16016237710913023,
                    0.16016917179028192,
                    0.16023299098014832,
                    0.16036945482095083,
                    0.16046144316593805,
                    0.16058834219972293,
                    0.1607349862655004,
                    0.16041347260276476,
                    0.1602406402428945,
                    0.16017328550418217,
                    0.16020327856143315,
                    0.16004632463057836,
                    0.16003709733486177,
                    0.16014779483278593,
                    0.1601780856649081,
                    0.16025319894154866,
                    0.16009275540709494,
                    0.16024176304539045,
                    0.16012168750166894,
                    0.16001791482170422,
                    0.1602070748806,
                    0.16068755313754082,
                    0.16090293924013774,
                    0.1608692894379298,
                    0.1605781704187393,
                    0.16049623663226764,
                    0.16094416876633963,
                    0.16065553724765777,
                    0.16089991753300031,
                    0.16070570225516956,
                    0.1606329709291458,
                    0.16062548632423082,
                    0.16052881628274918,
                    0.16027358000477154,
                    0.16004407132665316,
                    0.16020769625902176,
                    0.16042690897981327,
                    0.16044959351420401,
                    0.16055362224578856,
                    0.16088358610868453,
                    0.1610159451762835,
                    0.16108445674180985,
                    0.1615153615673383,
                    0.16172833094994227,
                    0.16138301342725753,
                    0.16128870944182078,
                    0.1611715316772461,
                    0.16136044710874559,
                    0.16107934415340425,
                    0.16093261018395424
                  ]
                },
                {
                  "marker": {
                    "maxdisplayed": 10
                  },
                  "mode": "lines+markers",
                  "name": "Trial2",
                  "type": "scatter",
                  "x": [
                    0,
                    1,
                    2,
                    3,
                    4,
                    5,
                    6,
                    7,
                    8,
                    9,
                    10,
                    11,
                    12,
                    13,
                    14,
                    15,
                    16,
                    17,
                    18,
                    19,
                    20,
                    21,
                    22,
                    23,
                    24,
                    25,
                    26,
                    27,
                    28,
                    29,
                    30,
                    31,
                    32
                  ],
                  "y": [
                    1.0131037751833598,
                    0.9339181403319041,
                    0.8611820777257283,
                    0.7987560749053955,
                    0.7412837088108063,
                    0.6866232375303905,
                    0.6389574865500133,
                    0.5949004431565602,
                    0.5540900369485219,
                    0.5187173674503962,
                    0.4860029002030691,
                    0.4531867851813634,
                    0.4243373761574427,
                    0.3976759483416875,
                    0.3724013457695643,
                    0.3501217355330785,
                    0.32789416710535685,
                    0.3082330971956253,
                    0.2904134844740232,
                    0.2740081106623014,
                    0.2591814731558164,
                    0.24364696840445202,
                    0.22940147966146468,
                    0.2166739856203397,
                    0.20423492143551508,
                    0.19263532161712646,
                    0.18211422165234883,
                    0.17221485823392868,
                    0.16404725164175032,
                    0.1551644203563531,
                    0.1481374057630698,
                    0.14022008329629898,
                    0.13449191426237425
                  ]
                },
                {
                  "marker": {
                    "maxdisplayed": 10
                  },
                  "mode": "lines+markers",
                  "name": "Trial3",
                  "type": "scatter",
                  "x": [
                    0,
                    1,
                    2,
                    3,
                    4,
                    5,
                    6,
                    7,
                    8,
                    9,
                    10,
                    11,
                    12,
                    13,
                    14,
                    15,
                    16,
                    17,
                    18,
                    19,
                    20,
                    21,
                    22,
                    23,
                    24,
                    25,
                    26,
                    27,
                    28,
                    29,
                    30,
                    31,
                    32,
                    33,
                    34,
                    35,
                    36,
                    37,
                    38,
                    39,
                    40,
                    41,
                    42,
                    43,
                    44,
                    45,
                    46,
                    47,
                    48,
                    49,
                    50,
                    51,
                    52,
                    53,
                    54,
                    55,
                    56,
                    57,
                    58,
                    59,
                    60,
                    61,
                    62,
                    63,
                    64,
                    65,
                    66,
                    67,
                    68,
                    69,
                    70,
                    71,
                    72,
                    73,
                    74,
                    75,
                    76,
                    77,
                    78,
                    79,
                    80,
                    81,
                    82,
                    83,
                    84,
                    85,
                    86,
                    87,
                    88,
                    89,
                    90,
                    91,
                    92,
                    93,
                    94,
                    95,
                    96,
                    97,
                    98,
                    99,
                    100,
                    101,
                    102,
                    103,
                    104,
                    105,
                    106,
                    107,
                    108,
                    109,
                    110,
                    111,
                    112,
                    113,
                    114,
                    115,
                    116,
                    117,
                    118,
                    119,
                    120,
                    121,
                    122,
                    123,
                    124,
                    125,
                    126,
                    127,
                    128,
                    129,
                    130,
                    131,
                    132,
                    133,
                    134,
                    135,
                    136,
                    137,
                    138,
                    139,
                    140,
                    141,
                    142,
                    143,
                    144,
                    145,
                    146,
                    147,
                    148,
                    149,
                    150,
                    151,
                    152,
                    153,
                    154,
                    155,
                    156,
                    157,
                    158,
                    159,
                    160,
                    161,
                    162,
                    163,
                    164,
                    165,
                    166,
                    167,
                    168,
                    169,
                    170,
                    171,
                    172,
                    173,
                    174,
                    175,
                    176,
                    177,
                    178,
                    179,
                    180,
                    181,
                    182,
                    183,
                    184,
                    185,
                    186,
                    187,
                    188,
                    189,
                    190,
                    191,
                    192,
                    193,
                    194,
                    195,
                    196,
                    197,
                    198,
                    199,
                    200,
                    201,
                    202,
                    203,
                    204,
                    205,
                    206,
                    207,
                    208,
                    209,
                    210,
                    211,
                    212,
                    213,
                    214,
                    215,
                    216,
                    217,
                    218,
                    219,
                    220,
                    221,
                    222,
                    223,
                    224,
                    225,
                    226,
                    227,
                    228,
                    229,
                    230,
                    231,
                    232,
                    233,
                    234,
                    235,
                    236,
                    237,
                    238,
                    239,
                    240,
                    241,
                    242,
                    243,
                    244,
                    245,
                    246,
                    247,
                    248,
                    249,
                    250,
                    251,
                    252,
                    253,
                    254,
                    255,
                    256,
                    257,
                    258,
                    259,
                    260,
                    261,
                    262,
                    263,
                    264,
                    265,
                    266,
                    267,
                    268,
                    269,
                    270,
                    271,
                    272,
                    273,
                    274,
                    275,
                    276,
                    277,
                    278,
                    279,
                    280,
                    281,
                    282,
                    283,
                    284,
                    285,
                    286,
                    287,
                    288,
                    289,
                    290,
                    291,
                    292,
                    293,
                    294,
                    295,
                    296,
                    297,
                    298,
                    299
                  ],
                  "y": [
                    1.0415148297945658,
                    1.0143945078055063,
                    1.0016752521197,
                    0.9427739262580872,
                    0.9222879866758983,
                    0.8889546453952789,
                    0.850731752316157,
                    0.813676404953003,
                    0.7943971594174702,
                    0.7488495369752248,
                    0.7149314800898234,
                    0.7029539267222087,
                    0.6772169331709544,
                    0.6519074618816376,
                    0.6288136174281438,
                    0.6194574425617854,
                    0.6054632117350897,
                    0.5825538525978724,
                    0.5571504294872284,
                    0.5550717055797577,
                    0.5519132067759832,
                    0.5431042561928431,
                    0.5213523854811987,
                    0.5030075162649155,
                    0.4857576847076416,
                    0.4681883990764618,
                    0.46586580673853556,
                    0.4616621802250544,
                    0.44992009500662483,
                    0.4464660574992498,
                    0.43942399322986603,
                    0.4276675363381704,
                    0.4260530526439349,
                    0.41864255368709563,
                    0.41060852458079655,
                    0.4106985554099083,
                    0.4080945943792661,
                    0.40088068644205727,
                    0.39497849394877754,
                    0.38773811360200244,
                    0.38656446437040964,
                    0.38065356214841206,
                    0.37979526122411095,
                    0.37461832414070767,
                    0.362519804139932,
                    0.36180080970128375,
                    0.36076814780632654,
                    0.36091264684995017,
                    0.3608653103311857,
                    0.35960726539293925,
                    0.35213498026132584,
                    0.34677145729462305,
                    0.34681924631198247,
                    0.3426197941104571,
                    0.34243072718381884,
                    0.34182750185330707,
                    0.34158238569895427,
                    0.3398862138390541,
                    0.3390919665495555,
                    0.3391486783822378,
                    0.33977101544539134,
                    0.33940871606270473,
                    0.33767506927251817,
                    0.33754651695489885,
                    0.3366014222304026,
                    0.33678599148988725,
                    0.33662684907515844,
                    0.3364816794792811,
                    0.3361851841211319,
                    0.3360456625620524,
                    0.3356606637438138,
                    0.3355516389012337,
                    0.335388387242953,
                    0.3351644784212112,
                    0.335949070751667,
                    0.3349805161356926,
                    0.33433306713898975,
                    0.3332390069961548,
                    0.33322149217128755,
                    0.3285506799817085,
                    0.3282793119549751,
                    0.3285072728991508,
                    0.3277950962384542,
                    0.3275874972343445,
                    0.32254028966029485,
                    0.32196200142304104,
                    0.32201056331396105,
                    0.3214540764689445,
                    0.32094331334034604,
                    0.3209696566065153,
                    0.32076765249172845,
                    0.3208723271886508,
                    0.32066475997368493,
                    0.3206642210483551,
                    0.32047288318475087,
                    0.32075289338827134,
                    0.32057368805011116,
                    0.320440969367822,
                    0.3200168798367182,
                    0.32014020284016925,
                    0.3199896489580472,
                    0.3196607530117035,
                    0.31931860248247784,
                    0.31533944805463154,
                    0.3144179885586103,
                    0.3141938462853432,
                    0.3083353375395139,
                    0.3085075562198957,
                    0.30794793367385864,
                    0.3067900155981382,
                    0.30683926691611607,
                    0.30666161378224693,
                    0.30124229739109676,
                    0.30119568556547166,
                    0.3012206862370173,
                    0.301020947098732,
                    0.30112037658691404,
                    0.3013063778479894,
                    0.3011827771862348,
                    0.3009325583775838,
                    0.2995496039589246,
                    0.29914599110682805,
                    0.2982008283336957,
                    0.2985888471206029,
                    0.2937223648031553,
                    0.2936808799703916,
                    0.2925551990667979,
                    0.2914443487922351,
                    0.29137362241744996,
                    0.29101035445928575,
                    0.29112576047579447,
                    0.2912705451250076,
                    0.29042530804872513,
                    0.2903095553318659,
                    0.2902680719892184,
                    0.28946493268013,
                    0.28924664159615837,
                    0.28911115080118177,
                    0.2890417903661728,
                    0.2885898292064667,
                    0.2877528597911199,
                    0.287665160993735,
                    0.28785660713911054,
                    0.2879556437333425,
                    0.2867864807446798,
                    0.28677271157503126,
                    0.28646839211384456,
                    0.28296998689572017,
                    0.2832741305232048,
                    0.28325928350289664,
                    0.2830778852105141,
                    0.2831669236222903,
                    0.28309352894624074,
                    0.28299726247787477,
                    0.28246928155422213,
                    0.2826010172565778,
                    0.2825468838214874,
                    0.28247393717368446,
                    0.2822337433695793,
                    0.28191403100887935,
                    0.28172065516312916,
                    0.2811619152625402,
                    0.2813183565934499,
                    0.2812949945529302,
                    0.2809639329711596,
                    0.2809759999314944,
                    0.28066475490729015,
                    0.2806406448284785,
                    0.2806624283393224,
                    0.27999028861522673,
                    0.2801304817199707,
                    0.28032502929369607,
                    0.28023766179879506,
                    0.280224767824014,
                    0.28041623135407767,
                    0.2801542500654856,
                    0.28006571829319,
                    0.27986444532871246,
                    0.2800247554977735,
                    0.2799471547206243,
                    0.27985452165206276,
                    0.2798489694794019,
                    0.2797817687193553,
                    0.27970465322335564,
                    0.2798761417468389,
                    0.2797072390715281,
                    0.27950930992762246,
                    0.27935171872377396,
                    0.2795154318213463,
                    0.27970884342988334,
                    0.27998407880465187,
                    0.27990212937196096,
                    0.2800782695412636,
                    0.27874691039323807,
                    0.27892759491999947,
                    0.27871137410402297,
                    0.27874118437369666,
                    0.27865736732880275,
                    0.2789193039139112,
                    0.275618739426136,
                    0.27560333559910455,
                    0.27541548013687134,
                    0.2754239151875178,
                    0.27547728568315505,
                    0.27523030042648317,
                    0.27517285843690237,
                    0.2753646453221639,
                    0.2752403204639753,
                    0.27528881827990215,
                    0.2743622541427612,
                    0.27436375319957734,
                    0.2743397836883863,
                    0.2743607307473818,
                    0.27415972501039504,
                    0.2739819730321566,
                    0.2731113692124685,
                    0.27273503442605335,
                    0.2721289952596029,
                    0.2722648118933042,
                    0.27205737978219985,
                    0.27185619821151097,
                    0.27101233750581744,
                    0.27104038298130034,
                    0.27112416277329127,
                    0.2709465612967809,
                    0.27099504818518955,
                    0.27072024991114935,
                    0.27082566122213997,
                    0.2707994684576988,
                    0.27057458062966666,
                    0.27048113296429316,
                    0.27043400208155316,
                    0.27051921089490255,
                    0.2703911970059077,
                    0.2706295609474182,
                    0.27079518338044484,
                    0.2704644948244095,
                    0.270495926340421,
                    0.2705420608321826,
                    0.2705508346358935,
                    0.2702762102087339,
                    0.27009193748235705,
                    0.2702950229247411,
                    0.27018284797668457,
                    0.2700977514187495,
                    0.2701659311850866,
                    0.2697812293966611,
                    0.2660206248362859,
                    0.2660204713543256,
                    0.2658496181170146,
                    0.2651152397195498,
                    0.26494319885969164,
                    0.26478771567344667,
                    0.26482173204422,
                    0.26499190032482145,
                    0.2650276010235151,
                    0.26462999284267424,
                    0.2646254320939382,
                    0.26078793505827585,
                    0.26066663712263105,
                    0.26061991850535077,
                    0.26043060918649036,
                    0.2602502723534902,
                    0.26034081826607386,
                    0.26018788913885754,
                    0.26024448027213415,
                    0.2602902258435885,
                    0.2602571134765943,
                    0.25883928189675015,
                    0.25887184192736945,
                    0.25814980318148933,
                    0.2583419978618622,
                    0.2583839729428291,
                    0.2584069659312566,
                    0.2585356886188189,
                    0.2585356652736664,
                    0.2585099225242933,
                    0.2586621522903442,
                    0.2585613419612249,
                    0.25848787973324455,
                    0.2582986931006114,
                    0.2583850622177124,
                    0.258189395070076,
                    0.25826973617076876,
                    0.25838474730650585,
                    0.25846167604128517,
                    0.25851129243771237,
                    0.25833635181188586,
                    0.2585047761599223,
                    0.25830325186252595,
                    0.2584491262833277,
                    0.2585445448756218,
                    0.2586569607257843,
                    0.25855133682489395,
                    0.2582982117931048,
                    0.25816566348075864,
                    0.25838744789361956,
                    0.2584171906113625,
                    0.2582358996073405,
                    0.2581296354532242
                  ]
                },
                {
                  "marker": {
                    "maxdisplayed": 10
                  },
                  "mode": "lines+markers",
                  "name": "Trial4",
                  "type": "scatter",
                  "x": [
                    0,
                    1,
                    2
                  ],
                  "y": [
                    0.826152088244756,
                    0.6351234972476959,
                    0.4929068664709727
                  ]
                },
                {
                  "marker": {
                    "maxdisplayed": 10
                  },
                  "mode": "lines+markers",
                  "name": "Trial5",
                  "type": "scatter",
                  "x": [
                    0,
                    1,
                    2
                  ],
                  "y": [
                    0.9343764464060466,
                    0.8542860845724741,
                    0.7436442971229553
                  ]
                },
                {
                  "marker": {
                    "maxdisplayed": 10
                  },
                  "mode": "lines+markers",
                  "name": "Trial6",
                  "type": "scatter",
                  "x": [
                    0,
                    1,
                    2
                  ],
                  "y": [
                    0.754944904645284,
                    0.6251730700333913,
                    0.4692283123731613
                  ]
                },
                {
                  "marker": {
                    "maxdisplayed": 10
                  },
                  "mode": "lines+markers",
                  "name": "Trial7",
                  "type": "scatter",
                  "x": [
                    0,
                    1,
                    2
                  ],
                  "y": [
                    0.8373940646648407,
                    0.7552060107390086,
                    0.6597993085781734
                  ]
                },
                {
                  "marker": {
                    "maxdisplayed": 10
                  },
                  "mode": "lines+markers",
                  "name": "Trial8",
                  "type": "scatter",
                  "x": [
                    0,
                    1,
                    2
                  ],
                  "y": [
                    0.913537206252416,
                    0.8152717451254526,
                    0.7321827034155528
                  ]
                },
                {
                  "marker": {
                    "maxdisplayed": 10
                  },
                  "mode": "lines+markers",
                  "name": "Trial9",
                  "type": "scatter",
                  "x": [
                    0,
                    1,
                    2,
                    3,
                    4,
                    5,
                    6,
                    7,
                    8,
                    9,
                    10,
                    11,
                    12,
                    13,
                    14,
                    15,
                    16,
                    17,
                    18,
                    19,
                    20,
                    21,
                    22,
                    23,
                    24,
                    25,
                    26,
                    27,
                    28,
                    29,
                    30,
                    31,
                    32,
                    33,
                    34,
                    35,
                    36,
                    37,
                    38,
                    39,
                    40,
                    41,
                    42,
                    43,
                    44,
                    45,
                    46,
                    47,
                    48,
                    49,
                    50,
                    51,
                    52,
                    53,
                    54,
                    55,
                    56,
                    57,
                    58,
                    59,
                    60,
                    61,
                    62,
                    63,
                    64,
                    65,
                    66,
                    67,
                    68,
                    69,
                    70,
                    71,
                    72,
                    73,
                    74,
                    75,
                    76,
                    77,
                    78,
                    79,
                    80,
                    81,
                    82,
                    83,
                    84,
                    85,
                    86,
                    87,
                    88,
                    89,
                    90,
                    91,
                    92,
                    93,
                    94,
                    95,
                    96,
                    97,
                    98,
                    99,
                    100,
                    101,
                    102,
                    103,
                    104,
                    105,
                    106,
                    107,
                    108,
                    109,
                    110,
                    111,
                    112,
                    113,
                    114,
                    115,
                    116,
                    117,
                    118,
                    119,
                    120,
                    121,
                    122,
                    123,
                    124,
                    125,
                    126,
                    127,
                    128,
                    129,
                    130,
                    131,
                    132,
                    133,
                    134,
                    135,
                    136,
                    137,
                    138,
                    139,
                    140,
                    141,
                    142,
                    143,
                    144,
                    145,
                    146,
                    147,
                    148,
                    149,
                    150,
                    151,
                    152,
                    153,
                    154,
                    155,
                    156,
                    157,
                    158,
                    159,
                    160,
                    161,
                    162,
                    163,
                    164,
                    165,
                    166,
                    167,
                    168,
                    169,
                    170,
                    171,
                    172,
                    173,
                    174,
                    175,
                    176,
                    177,
                    178,
                    179,
                    180,
                    181,
                    182,
                    183,
                    184,
                    185,
                    186,
                    187,
                    188,
                    189,
                    190,
                    191,
                    192,
                    193,
                    194,
                    195,
                    196,
                    197,
                    198,
                    199,
                    200,
                    201,
                    202,
                    203,
                    204,
                    205,
                    206,
                    207,
                    208,
                    209,
                    210,
                    211,
                    212,
                    213,
                    214,
                    215,
                    216,
                    217,
                    218,
                    219,
                    220,
                    221,
                    222,
                    223,
                    224,
                    225,
                    226,
                    227,
                    228,
                    229,
                    230,
                    231,
                    232,
                    233,
                    234,
                    235,
                    236,
                    237,
                    238,
                    239,
                    240,
                    241,
                    242,
                    243,
                    244,
                    245,
                    246,
                    247,
                    248,
                    249,
                    250,
                    251,
                    252,
                    253,
                    254,
                    255,
                    256,
                    257,
                    258,
                    259,
                    260,
                    261,
                    262,
                    263,
                    264,
                    265,
                    266,
                    267,
                    268,
                    269,
                    270,
                    271,
                    272,
                    273,
                    274,
                    275,
                    276,
                    277,
                    278,
                    279,
                    280,
                    281,
                    282,
                    283,
                    284,
                    285,
                    286,
                    287,
                    288,
                    289,
                    290,
                    291,
                    292,
                    293,
                    294,
                    295,
                    296,
                    297,
                    298,
                    299
                  ],
                  "y": [
                    1.084530774752299,
                    1.0769518534342448,
                    1.0649885058403015,
                    1.0512490391731262,
                    1.0382970770200093,
                    1.0249125639597574,
                    1.0123037954171499,
                    0.9998086770375569,
                    0.9871816595395406,
                    0.9750371913115183,
                    0.9650007466475169,
                    0.9532659331957499,
                    0.9434372345606487,
                    0.9320246199766795,
                    0.9207054416338603,
                    0.9113719622294109,
                    0.9021940648555755,
                    0.8918274899323781,
                    0.8831610679626465,
                    0.8744714339574178,
                    0.8661607503890991,
                    0.8574374457200368,
                    0.8470581531524658,
                    0.8369983017444611,
                    0.8272387882073721,
                    0.8176151712735494,
                    0.8090803126494089,
                    0.7997056722640992,
                    0.7907732407251994,
                    0.7831312040487926,
                    0.7781173268953959,
                    0.7707561512788137,
                    0.7620875517527262,
                    0.7531750520070394,
                    0.7463768919308981,
                    0.7378992676734925,
                    0.730709042151769,
                    0.7223921358585358,
                    0.7143498202164967,
                    0.7065934658050537,
                    0.7004172722498576,
                    0.6925083438555399,
                    0.6846724669138591,
                    0.677016282081604,
                    0.671342537800471,
                    0.6641417364279429,
                    0.6568258047103882,
                    0.6506749212741851,
                    0.6438297847906749,
                    0.6366042693456014,
                    0.6296653330326081,
                    0.6236646334330241,
                    0.6193055609862009,
                    0.6125511229038239,
                    0.6078211665153503,
                    0.6027139107386271,
                    0.5973197042942047,
                    0.592340232928594,
                    0.5877092878023783,
                    0.5813217381636302,
                    0.5753673156102498,
                    0.5704192698001862,
                    0.5644912709792455,
                    0.5586502263943355,
                    0.5527401755253474,
                    0.5471044262250264,
                    0.5412732740243276,
                    0.5371658315261205,
                    0.5328649799029033,
                    0.5285346696774165,
                    0.5237135589122772,
                    0.5178945163885752,
                    0.5147167841593424,
                    0.5095711469650268,
                    0.5044770032167435,
                    0.4991188257932663,
                    0.4962025413910548,
                    0.4913407037655512,
                    0.4871200611193975,
                    0.4819732775290807,
                    0.47757083773612974,
                    0.47283196449279785,
                    0.4683898766835531,
                    0.46349611282348635,
                    0.458798290292422,
                    0.4559716512759527,
                    0.451208159327507,
                    0.4477366993824641,
                    0.44362855752309166,
                    0.4390598018964132,
                    0.4347395191589991,
                    0.4310039609670639,
                    0.42738151252269746,
                    0.4230964332818985,
                    0.4188369403282801,
                    0.41511394679546354,
                    0.41084387302398684,
                    0.40684389173984525,
                    0.4029269258181254,
                    0.39887481927871704,
                    0.39565476576487224,
                    0.39180961549282073,
                    0.3880967259407043,
                    0.38523537119229634,
                    0.38250003854433695,
                    0.3791899840037028,
                    0.3756824175516764,
                    0.3719917118549347,
                    0.3683995962142944,
                    0.3658169647057851,
                    0.3620555301507314,
                    0.35843558609485626,
                    0.35600594580173495,
                    0.3529912779728572,
                    0.34955221315224966,
                    0.34608670373757683,
                    0.3435769538084666,
                    0.3405361086130142,
                    0.3373976747194926,
                    0.33514123062292733,
                    0.33250974814097084,
                    0.3292589674393336,
                    0.32622514267762504,
                    0.32387630840142567,
                    0.32175562977790834,
                    0.31941138257582985,
                    0.31743367314338683,
                    0.3149873639146487,
                    0.31180722018082935,
                    0.308898585041364,
                    0.3064293806751569,
                    0.30429160296916963,
                    0.30150191485881805,
                    0.2998084952433904,
                    0.29724406252304714,
                    0.2953227187196414,
                    0.2925932213664055,
                    0.28984638104836147,
                    0.2875624507665634,
                    0.2856966584920883,
                    0.2834084426363309,
                    0.28070443073908485,
                    0.2781331544121107,
                    0.2755462884902954,
                    0.27310540427764257,
                    0.27063635289669036,
                    0.26821051388978956,
                    0.26561382462581,
                    0.2631599043806394,
                    0.26086150656143825,
                    0.2590752214193344,
                    0.25686440120140713,
                    0.25445245802402494,
                    0.2520083437363307,
                    0.24978097478548686,
                    0.24787419488032658,
                    0.24553704559803008,
                    0.24328013906876247,
                    0.2410169372955958,
                    0.23943900565306345,
                    0.237178864578406,
                    0.2354576940337817,
                    0.2333783432841301,
                    0.23194148540496826,
                    0.229777688284715,
                    0.2277562881509463,
                    0.22638817876577377,
                    0.2248252034187317,
                    0.22326201299826304,
                    0.22129012842973073,
                    0.21938782433668771,
                    0.21758690079053242,
                    0.21623388081789016,
                    0.21475342760483423,
                    0.21319475571314495,
                    0.21177925616502763,
                    0.21096748660008113,
                    0.2100654979546865,
                    0.20838497479756674,
                    0.20665051241715748,
                    0.20472791542609534,
                    0.2029899721344312,
                    0.20167518903811774,
                    0.2005181406935056,
                    0.1994740312298139,
                    0.19826654295126597,
                    0.19749933381875356,
                    0.19668506135543187,
                    0.19515061974525452,
                    0.1939057558774948,
                    0.19224584052960078,
                    0.19108333587646484,
                    0.18958019316196442,
                    0.18830265154441198,
                    0.18713704347610474,
                    0.18581971128781635,
                    0.18431705981492996,
                    0.1826916883389155,
                    0.18125062982241313,
                    0.17984301795562108,
                    0.17876897876461348,
                    0.1777687889834245,
                    0.1764315351843834,
                    0.1749134697020054,
                    0.17361509824792545,
                    0.1723045421143373,
                    0.1713616987069448,
                    0.1702116956313451,
                    0.16919278676311175,
                    0.16829299355546634,
                    0.16733767390251159,
                    0.1664708654085795,
                    0.1652232031027476,
                    0.16385475943485897,
                    0.16285663967331251,
                    0.1617555094261964,
                    0.16041958456238112,
                    0.15946238115429878,
                    0.15817442561189335,
                    0.15756822029749554,
                    0.15630735705296198,
                    0.1560954347252846,
                    0.15505469664931298,
                    0.15411717146635057,
                    0.15286341284712154,
                    0.1518184167643388,
                    0.15090126767754555,
                    0.1497703696290652,
                    0.14866757343212764,
                    0.14813049559791883,
                    0.14707536821564038,
                    0.14632481808463732,
                    0.14545739044745762,
                    0.1446492686867714,
                    0.14386881664395332,
                    0.14298734143376352,
                    0.1421909858783086,
                    0.14146417106191317,
                    0.14081755379835764,
                    0.14025429636240005,
                    0.1396096681555112,
                    0.13923707827925683,
                    0.1385353776315848,
                    0.1375266393025716,
                    0.1368306592106819,
                    0.13582586298386257,
                    0.13484123771389325,
                    0.13427911698818207,
                    0.13367903431256611,
                    0.13260503833492596,
                    0.13159533590078354,
                    0.131148324906826,
                    0.13039314796527227,
                    0.13039592728018762,
                    0.12958649868766467,
                    0.12891247967878977,
                    0.1283793071905772,
                    0.1275918225447337,
                    0.1271183619896571,
                    0.1264982556303342,
                    0.12592438459396363,
                    0.12521902844309807,
                    0.124674275269111,
                    0.1240532398223877,
                    0.12347984462976455,
                    0.12304023976127307,
                    0.12256723294655482,
                    0.1219497005144755,
                    0.12139793684085211,
                    0.12082746078570684,
                    0.12021248092254003,
                    0.11989693467815717,
                    0.11915953184167544,
                    0.1185140773653984,
                    0.11798217395941417,
                    0.11771937534213066,
                    0.11746120179692904,
                    0.11680944586793582,
                    0.11671506116787593,
                    0.11637735466162363,
                    0.11603687902291616,
                    0.11551709473133087,
                    0.11499139815568923,
                    0.1145935316880544,
                    0.11433366785446802,
                    0.11408992633223533,
                    0.11380739609400431,
                    0.1135599655409654,
                    0.1132407953341802,
                    0.11272742748260497,
                    0.11221961230039597,
                    0.11191973065336545,
                    0.11178655177354813,
                    0.11153587723771731,
                    0.11134239758054415,
                    0.11067713374892871,
                    0.11068020860354105,
                    0.11035241161783536,
                    0.11024522135655085,
                    0.10973845943808555
                  ]
                },
                {
                  "marker": {
                    "maxdisplayed": 10
                  },
                  "mode": "lines+markers",
                  "name": "Trial10",
                  "type": "scatter",
                  "x": [
                    0,
                    1,
                    2
                  ],
                  "y": [
                    0.9166487197081248,
                    0.7698863267898559,
                    0.6574105143547058
                  ]
                },
                {
                  "marker": {
                    "maxdisplayed": 10
                  },
                  "mode": "lines+markers",
                  "name": "Trial11",
                  "type": "scatter",
                  "x": [
                    0,
                    1,
                    2
                  ],
                  "y": [
                    0.8225949843724568,
                    0.7204376935958863,
                    0.5765932261943817
                  ]
                },
                {
                  "marker": {
                    "maxdisplayed": 10
                  },
                  "mode": "lines+markers",
                  "name": "Trial12",
                  "type": "scatter",
                  "x": [
                    0,
                    1,
                    2
                  ],
                  "y": [
                    0.788508935769399,
                    0.5840152184168498,
                    0.4454755087693532
                  ]
                },
                {
                  "marker": {
                    "maxdisplayed": 10
                  },
                  "mode": "lines+markers",
                  "name": "Trial13",
                  "type": "scatter",
                  "x": [
                    0,
                    1,
                    2
                  ],
                  "y": [
                    0.8583946665128072,
                    0.7594206273555756,
                    0.684947955608368
                  ]
                },
                {
                  "marker": {
                    "maxdisplayed": 10
                  },
                  "mode": "lines+markers",
                  "name": "Trial14",
                  "type": "scatter",
                  "x": [
                    0,
                    1,
                    2
                  ],
                  "y": [
                    0.7517064313093821,
                    0.5367031514644622,
                    0.4337155491113663
                  ]
                },
                {
                  "marker": {
                    "maxdisplayed": 10
                  },
                  "mode": "lines+markers",
                  "name": "Trial15",
                  "type": "scatter",
                  "x": [
                    0,
                    1,
                    2
                  ],
                  "y": [
                    0.8354571719964345,
                    0.7329775770505269,
                    0.5902004609505336
                  ]
                },
                {
                  "marker": {
                    "maxdisplayed": 10
                  },
                  "mode": "lines+markers",
                  "name": "Trial16",
                  "type": "scatter",
                  "x": [
                    0,
                    1,
                    2
                  ],
                  "y": [
                    0.90254847407341,
                    0.7337100684642792,
                    0.6082961976528167
                  ]
                },
                {
                  "marker": {
                    "maxdisplayed": 10
                  },
                  "mode": "lines+markers",
                  "name": "Trial17",
                  "type": "scatter",
                  "x": [
                    0,
                    1,
                    2
                  ],
                  "y": [
                    0.784634510676066,
                    0.6899214168389638,
                    0.5418158123890559
                  ]
                },
                {
                  "marker": {
                    "maxdisplayed": 10
                  },
                  "mode": "lines+markers",
                  "name": "Trial18",
                  "type": "scatter",
                  "x": [
                    0,
                    1,
                    2,
                    3,
                    4,
                    5,
                    6,
                    7,
                    8
                  ],
                  "y": [
                    0.9674132307370503,
                    0.8530088623364767,
                    0.756764688094457,
                    0.6736280918121338,
                    0.6066906611124675,
                    0.5412693480650584,
                    0.4883103320995967,
                    0.44142616391181944,
                    0.3987178613742193
                  ]
                },
                {
                  "marker": {
                    "maxdisplayed": 10
                  },
                  "mode": "lines+markers",
                  "name": "Trial19",
                  "type": "scatter",
                  "x": [
                    0,
                    1,
                    2
                  ],
                  "y": [
                    0.8136506140232086,
                    0.7056536634763082,
                    0.5591786821683248
                  ]
                },
                {
                  "marker": {
                    "maxdisplayed": 10
                  },
                  "mode": "lines+markers",
                  "name": "Trial20",
                  "type": "scatter",
                  "x": [
                    0,
                    1,
                    2
                  ],
                  "y": [
                    0.7500278989473979,
                    0.5348483820756277,
                    0.38393143713474276
                  ]
                },
                {
                  "marker": {
                    "maxdisplayed": 10
                  },
                  "mode": "lines+markers",
                  "name": "Trial21",
                  "type": "scatter",
                  "x": [
                    0,
                    1,
                    2,
                    3,
                    4,
                    5,
                    6,
                    7,
                    8
                  ],
                  "y": [
                    0.9738542854785919,
                    0.9129536569118499,
                    0.8238833546638489,
                    0.7376046518484751,
                    0.6656863927841187,
                    0.600217737754186,
                    0.5431988537311554,
                    0.49322757522265115,
                    0.447956911722819
                  ]
                },
                {
                  "marker": {
                    "maxdisplayed": 10
                  },
                  "mode": "lines+markers",
                  "name": "Trial22",
                  "type": "scatter",
                  "x": [
                    0,
                    1,
                    2,
                    3,
                    4,
                    5,
                    6,
                    7,
                    8
                  ],
                  "y": [
                    1.074117410182953,
                    1.0620163599650065,
                    1.041894539197286,
                    1.0196829418341318,
                    0.9980075875918071,
                    0.9764881312847138,
                    0.9555469950040182,
                    0.935202584664027,
                    0.9155394196510315
                  ]
                },
                {
                  "marker": {
                    "maxdisplayed": 10
                  },
                  "mode": "lines+markers",
                  "name": "Trial23",
                  "type": "scatter",
                  "x": [
                    0,
                    1,
                    2
                  ],
                  "y": [
                    0.8891628364721934,
                    0.7278196295102437,
                    0.5994362135728201
                  ]
                },
                {
                  "marker": {
                    "maxdisplayed": 10
                  },
                  "mode": "lines+markers",
                  "name": "Trial24",
                  "type": "scatter",
                  "x": [
                    0,
                    1,
                    2
                  ],
                  "y": [
                    0.9269650717576344,
                    0.8513255039850871,
                    0.7373727480570476
                  ]
                },
                {
                  "marker": {
                    "maxdisplayed": 10
                  },
                  "mode": "lines+markers",
                  "name": "Trial25",
                  "type": "scatter",
                  "x": [
                    0,
                    1,
                    2,
                    3,
                    4,
                    5,
                    6,
                    7,
                    8
                  ],
                  "y": [
                    1.0597979307174683,
                    1.0396657824516295,
                    1.0070503294467925,
                    0.9719215134779612,
                    0.9402385373910268,
                    0.9083412170410157,
                    0.8776964048544565,
                    0.848872164885203,
                    0.8206082145373027
                  ]
                },
                {
                  "marker": {
                    "maxdisplayed": 10
                  },
                  "mode": "lines+markers",
                  "name": "Trial26",
                  "type": "scatter",
                  "x": [
                    0,
                    1,
                    2
                  ],
                  "y": [
                    0.9177895208199819,
                    0.8441959321498871,
                    0.7660243511199951
                  ]
                },
                {
                  "marker": {
                    "maxdisplayed": 10
                  },
                  "mode": "lines+markers",
                  "name": "Trial27",
                  "type": "scatter",
                  "x": [
                    0,
                    1,
                    2
                  ],
                  "y": [
                    0.8053416252136231,
                    0.6834895213445028,
                    0.5349303195873897
                  ]
                },
                {
                  "marker": {
                    "maxdisplayed": 10
                  },
                  "mode": "lines+markers",
                  "name": "Trial28",
                  "type": "scatter",
                  "x": [
                    0,
                    1,
                    2,
                    3,
                    4,
                    5,
                    6,
                    7,
                    8
                  ],
                  "y": [
                    1.0333998759587606,
                    1.006054162979126,
                    0.9530582547187805,
                    0.8983025352160136,
                    0.8501628418763478,
                    0.8035808205604553,
                    0.7605846265951792,
                    0.7203069607416789,
                    0.6818350692590077
                  ]
                },
                {
                  "marker": {
                    "maxdisplayed": 10
                  },
                  "mode": "lines+markers",
                  "name": "Trial29",
                  "type": "scatter",
                  "x": [
                    0,
                    1,
                    2
                  ],
                  "y": [
                    0.9827425360679627,
                    0.8799475391705831,
                    0.7896802226702372
                  ]
                },
                {
                  "marker": {
                    "maxdisplayed": 10
                  },
                  "mode": "lines+markers",
                  "name": "Trial30",
                  "type": "scatter",
                  "x": [
                    0,
                    1,
                    2
                  ],
                  "y": [
                    0.8437043527762095,
                    0.7386005322138468,
                    0.6032781442006429
                  ]
                },
                {
                  "marker": {
                    "maxdisplayed": 10
                  },
                  "mode": "lines+markers",
                  "name": "Trial31",
                  "type": "scatter",
                  "x": [
                    0,
                    1,
                    2,
                    3,
                    4,
                    5,
                    6,
                    7,
                    8
                  ],
                  "y": [
                    1.0445334275563558,
                    1.0151832759380341,
                    1.0045072853565216,
                    0.9513944228490193,
                    0.9341491679350535,
                    0.8969994187355042,
                    0.8711653451124827,
                    0.8351623316605886,
                    0.8160919427871705
                  ]
                },
                {
                  "marker": {
                    "maxdisplayed": 10
                  },
                  "mode": "lines+markers",
                  "name": "Trial32",
                  "type": "scatter",
                  "x": [
                    0,
                    1,
                    2,
                    3,
                    4,
                    5,
                    6,
                    7,
                    8
                  ],
                  "y": [
                    1.061001177628835,
                    1.0421165466308593,
                    1.021695343653361,
                    0.9807717720667521,
                    0.964343124628067,
                    0.9404326061407725,
                    0.9119695842266082,
                    0.8763387640317281,
                    0.8616764307022095
                  ]
                },
                {
                  "marker": {
                    "maxdisplayed": 10
                  },
                  "mode": "lines+markers",
                  "name": "Trial33",
                  "type": "scatter",
                  "x": [
                    0,
                    1,
                    2,
                    3,
                    4,
                    5,
                    6,
                    7,
                    8,
                    9,
                    10,
                    11,
                    12,
                    13,
                    14,
                    15,
                    16,
                    17,
                    18,
                    19,
                    20,
                    21,
                    22,
                    23,
                    24,
                    25,
                    26,
                    27,
                    28,
                    29,
                    30,
                    31,
                    32,
                    33,
                    34,
                    35,
                    36,
                    37,
                    38,
                    39,
                    40,
                    41,
                    42,
                    43,
                    44,
                    45,
                    46,
                    47,
                    48,
                    49,
                    50,
                    51,
                    52,
                    53,
                    54,
                    55,
                    56,
                    57,
                    58,
                    59,
                    60,
                    61,
                    62,
                    63,
                    64,
                    65,
                    66,
                    67,
                    68,
                    69,
                    70,
                    71,
                    72,
                    73,
                    74,
                    75,
                    76,
                    77,
                    78,
                    79,
                    80,
                    81,
                    82,
                    83,
                    84,
                    85,
                    86,
                    87,
                    88,
                    89,
                    90,
                    91,
                    92,
                    93,
                    94,
                    95,
                    96,
                    97,
                    98,
                    99,
                    100,
                    101,
                    102,
                    103,
                    104,
                    105,
                    106,
                    107,
                    108,
                    109,
                    110,
                    111,
                    112,
                    113,
                    114,
                    115,
                    116,
                    117,
                    118,
                    119,
                    120,
                    121,
                    122,
                    123,
                    124,
                    125,
                    126,
                    127,
                    128,
                    129,
                    130,
                    131,
                    132,
                    133,
                    134,
                    135,
                    136,
                    137,
                    138,
                    139,
                    140,
                    141,
                    142,
                    143,
                    144,
                    145,
                    146,
                    147,
                    148,
                    149,
                    150,
                    151,
                    152,
                    153,
                    154,
                    155,
                    156,
                    157,
                    158,
                    159,
                    160,
                    161,
                    162,
                    163,
                    164,
                    165,
                    166,
                    167,
                    168,
                    169,
                    170,
                    171,
                    172,
                    173,
                    174,
                    175,
                    176,
                    177,
                    178,
                    179,
                    180,
                    181,
                    182,
                    183,
                    184,
                    185,
                    186,
                    187,
                    188,
                    189,
                    190,
                    191,
                    192,
                    193,
                    194,
                    195,
                    196,
                    197,
                    198,
                    199,
                    200,
                    201,
                    202,
                    203,
                    204,
                    205,
                    206,
                    207,
                    208,
                    209,
                    210,
                    211,
                    212,
                    213,
                    214,
                    215,
                    216,
                    217,
                    218,
                    219,
                    220,
                    221,
                    222,
                    223,
                    224,
                    225,
                    226,
                    227,
                    228,
                    229,
                    230,
                    231,
                    232,
                    233,
                    234,
                    235,
                    236,
                    237,
                    238,
                    239,
                    240,
                    241,
                    242,
                    243,
                    244,
                    245,
                    246,
                    247,
                    248,
                    249,
                    250,
                    251,
                    252,
                    253,
                    254,
                    255,
                    256,
                    257,
                    258,
                    259,
                    260,
                    261,
                    262,
                    263,
                    264,
                    265,
                    266,
                    267,
                    268,
                    269,
                    270,
                    271,
                    272,
                    273,
                    274,
                    275,
                    276,
                    277,
                    278,
                    279,
                    280,
                    281,
                    282,
                    283,
                    284,
                    285,
                    286,
                    287,
                    288,
                    289,
                    290,
                    291,
                    292,
                    293,
                    294,
                    295,
                    296,
                    297,
                    298,
                    299
                  ],
                  "y": [
                    1.0883296807607015,
                    1.081354033946991,
                    1.0756333112716674,
                    1.0633123834927878,
                    1.0538756688435873,
                    1.044099998474121,
                    1.0359025041262309,
                    1.0280442674954733,
                    1.0187568386395773,
                    1.0101592461268107,
                    1.0030945042769115,
                    0.9924883564313253,
                    0.9851643482844035,
                    0.9749320467313131,
                    0.9672078390916189,
                    0.9610206524531046,
                    0.9547351757685344,
                    0.9474520325660706,
                    0.9383587221304576,
                    0.9314208606878916,
                    0.9257478654384613,
                    0.9199098606904348,
                    0.9119513551394145,
                    0.9041289587815603,
                    0.8937315225601197,
                    0.8861690501372019,
                    0.8773966213067372,
                    0.8712336083253225,
                    0.8636117617289225,
                    0.8584177076816559,
                    0.8538377205530803,
                    0.8476680596669515,
                    0.8423076053460439,
                    0.8343836307525635,
                    0.8270619591077168,
                    0.8205685913562775,
                    0.816293615102768,
                    0.8076137860616048,
                    0.8013838072617848,
                    0.7953207929929097,
                    0.7884446183840433,
                    0.779806258281072,
                    0.7740611672401428,
                    0.7680434683958689,
                    0.761487074693044,
                    0.7565991640090942,
                    0.7502226769924164,
                    0.746258529027303,
                    0.7401876608530681,
                    0.7316654443740844,
                    0.7258438924948375,
                    0.7203144868214925,
                    0.7168269038200379,
                    0.711501024166743,
                    0.7080635368824005,
                    0.7020240187644958,
                    0.6957541326681773,
                    0.6914673407872518,
                    0.6865942200024923,
                    0.6809429486592611,
                    0.6768043239911398,
                    0.6729604621728261,
                    0.667610377073288,
                    0.6636594216028849,
                    0.6592123945554097,
                    0.6539844373861948,
                    0.6492724080880483,
                    0.6459234456221262,
                    0.6412644485632578,
                    0.6371669590473175,
                    0.633292027314504,
                    0.6295434971650441,
                    0.6266815543174744,
                    0.6200153231620789,
                    0.6153544187545776,
                    0.6097496032714844,
                    0.606854663292567,
                    0.601313109199206,
                    0.5979379187027614,
                    0.5939633458852768,
                    0.590321284532547,
                    0.5861987322568893,
                    0.5820617973804474,
                    0.577505224943161,
                    0.5736893604199091,
                    0.5714571555455525,
                    0.5678604722023011,
                    0.5646600663661957,
                    0.5616742710272471,
                    0.5581953605016072,
                    0.5549367755651474,
                    0.5524477551380793,
                    0.5491113762060801,
                    0.5472137639919917,
                    0.5442836195230484,
                    0.5429896702369054,
                    0.5392796436945597,
                    0.5355976551771164,
                    0.5326438844203949,
                    0.5291578571001688,
                    0.5263771722714107,
                    0.5226006776094436,
                    0.5192056248585383,
                    0.5156253506739934,
                    0.5136001994212468,
                    0.511075888077418,
                    0.5078362266222636,
                    0.5047015190124512,
                    0.5014731625715891,
                    0.49768807788689934,
                    0.4942188113927841,
                    0.4906909962495168,
                    0.48857661386330925,
                    0.486505596836408,
                    0.4838739275932312,
                    0.48042932053407034,
                    0.48016849557558694,
                    0.47698649366696677,
                    0.47567677895228067,
                    0.4724041610956192,
                    0.469977002342542,
                    0.46737335820992787,
                    0.46461750169595084,
                    0.4642661412556966,
                    0.4613243520259857,
                    0.4600825786590576,
                    0.45872947573661804,
                    0.4579947640498479,
                    0.4571773111820221,
                    0.4551108052333196,
                    0.45373132030169167,
                    0.4529421706994375,
                    0.450393216808637,
                    0.4481994420289993,
                    0.44712319374084475,
                    0.4443913946549098,
                    0.44289429982503253,
                    0.43999853332837424,
                    0.4376672565937042,
                    0.43594439526398976,
                    0.43581087489922843,
                    0.43346960047880806,
                    0.431088728706042,
                    0.42981908917427064,
                    0.42824224730332694,
                    0.42677296499411266,
                    0.4266548623641332,
                    0.4255180915196737,
                    0.4225729723771413,
                    0.4209640820821126,
                    0.4195733318726222,
                    0.4195813645919164,
                    0.41956429978211723,
                    0.4172281195720037,
                    0.415535365541776,
                    0.4155966947476069,
                    0.41344143748283385,
                    0.4128866175810496,
                    0.4121018479267756,
                    0.41106267670790353,
                    0.4089103668928146,
                    0.4083994289239248,
                    0.4083557705084483,
                    0.40749879280726115,
                    0.4070302903652191,
                    0.40573596556981406,
                    0.4053139140208562,
                    0.404162343343099,
                    0.4028745303551356,
                    0.401739302277565,
                    0.4006441464026769,
                    0.3993436902761459,
                    0.3983460575342178,
                    0.3964445690313975,
                    0.3948994030555089,
                    0.3935504366954168,
                    0.3930044025182724,
                    0.39127747615178426,
                    0.39006559749444325,
                    0.38855950931708017,
                    0.38806232213974,
                    0.3879526416460673,
                    0.38683830201625824,
                    0.38514906068642935,
                    0.3839657912651698,
                    0.3827141175667445,
                    0.382396470506986,
                    0.3813082605600357,
                    0.3811220993598302,
                    0.38094026943047843,
                    0.38092633088429767,
                    0.38049401839574176,
                    0.3804641346136729,
                    0.379729696114858,
                    0.3786410669485728,
                    0.37734998762607574,
                    0.37737093567848207,
                    0.37649635076522825,
                    0.3765335390965144,
                    0.3754258394241333,
                    0.3754218558470408,
                    0.37356638511021933,
                    0.37341652313868207,
                    0.3730036050081253,
                    0.3720867305994034,
                    0.37093068460623424,
                    0.3709005167086919,
                    0.3707261264324188,
                    0.3704093078772227,
                    0.3679453402757645,
                    0.36758774518966675,
                    0.36716053982575736,
                    0.36614271998405457,
                    0.3659176756938299,
                    0.36504549185434976,
                    0.3636769493420919,
                    0.3626201291879018,
                    0.36236572662989297,
                    0.36141744752724964,
                    0.36040013531843823,
                    0.3603473663330078,
                    0.3600657929976781,
                    0.36002563337484994,
                    0.35980209211508435,
                    0.35839218497276304,
                    0.3572872986396154,
                    0.35626087884108226,
                    0.35517849822839104,
                    0.35430808961391447,
                    0.3539971192677816,
                    0.35377246538798013,
                    0.35377686520417534,
                    0.3537903408209483,
                    0.3537292112906774,
                    0.3538292189439138,
                    0.3538546860218048,
                    0.35299255748589836,
                    0.35260003606478374,
                    0.35259059965610506,
                    0.352419325709343,
                    0.3509156515200933,
                    0.35061686535676323,
                    0.35065708657105765,
                    0.3505959997574488,
                    0.35018308262030284,
                    0.3499716619650523,
                    0.34991239110628763,
                    0.34884078403313956,
                    0.34884756604830425,
                    0.3488208909829458,
                    0.34857955972353616,
                    0.34851191838582357,
                    0.3483761052290599,
                    0.3483735760052999,
                    0.34774597684542335,
                    0.347748809059461,
                    0.3475647568702698,
                    0.3475920428832372,
                    0.346268596748511,
                    0.3452793717384338,
                    0.3451963951190313,
                    0.3451389089226723,
                    0.3434529940287272,
                    0.3433767755826314,
                    0.3424108068148295,
                    0.3424245576063792,
                    0.34226685017347336,
                    0.34221158027648924,
                    0.3416663080453873,
                    0.341577872633934,
                    0.34127666701873144,
                    0.34017425576845806,
                    0.3401814157764117,
                    0.3394431347648303,
                    0.33946573634942373,
                    0.3394100601474444,
                    0.33939445267121,
                    0.3393632595737775,
                    0.3390293175975482,
                    0.33896325478951134,
                    0.3389418308933576,
                    0.3389200339714686,
                    0.33883136957883836,
                    0.3379176010688146,
                    0.3379253253340721,
                    0.33794436156749724,
                    0.33792407164971033,
                    0.3368592008948326,
                    0.336863545080026,
                    0.33676181932290394,
                    0.3367567966381709,
                    0.3367408812046051,
                    0.3366085981329282,
                    0.33569003542264303,
                    0.3354894975821177,
                    0.3345258553822835,
                    0.3345595965782801,
                    0.33458247482776643,
                    0.3345253253976504,
                    0.3344681198398272
                  ]
                },
                {
                  "marker": {
                    "maxdisplayed": 10
                  },
                  "mode": "lines+markers",
                  "name": "Trial34",
                  "type": "scatter",
                  "x": [
                    0,
                    1,
                    2,
                    3,
                    4,
                    5,
                    6,
                    7,
                    8
                  ],
                  "y": [
                    1.027647848924001,
                    0.9943119327227274,
                    0.9582533220450083,
                    0.8853331486384074,
                    0.8578220804532369,
                    0.8154410938421885,
                    0.75394393603007,
                    0.6993796904881795,
                    0.6789919515450795
                  ]
                },
                {
                  "marker": {
                    "maxdisplayed": 10
                  },
                  "mode": "lines+markers",
                  "name": "Trial35",
                  "type": "scatter",
                  "x": [
                    0,
                    1,
                    2,
                    3,
                    4,
                    5,
                    6,
                    7,
                    8
                  ],
                  "y": [
                    1.0253857453664144,
                    0.9967081447442373,
                    0.9590734541416168,
                    0.8898350199063619,
                    0.8678791304429372,
                    0.8331490218639374,
                    0.7742261866728465,
                    0.7166805028915405,
                    0.6980152289072673
                  ]
                },
                {
                  "marker": {
                    "maxdisplayed": 10
                  },
                  "mode": "lines+markers",
                  "name": "Trial36",
                  "type": "scatter",
                  "x": [
                    0,
                    1,
                    2
                  ],
                  "y": [
                    0.9459636668364207,
                    0.8792782525221506,
                    0.7789526462554932
                  ]
                },
                {
                  "marker": {
                    "maxdisplayed": 10
                  },
                  "mode": "lines+markers",
                  "name": "Trial37",
                  "type": "scatter",
                  "x": [
                    0,
                    1,
                    2
                  ],
                  "y": [
                    0.7655934115250905,
                    0.6653912723064422,
                    0.556893362601598
                  ]
                },
                {
                  "marker": {
                    "maxdisplayed": 10
                  },
                  "mode": "lines+markers",
                  "name": "Trial38",
                  "type": "scatter",
                  "x": [
                    0,
                    1,
                    2,
                    3,
                    4,
                    5,
                    6,
                    7,
                    8
                  ],
                  "y": [
                    1.06140030225118,
                    1.0409404039382935,
                    1.0094581584135691,
                    0.9733848134676616,
                    0.9423495988051097,
                    0.9113263388474783,
                    0.8797407408555349,
                    0.8554541051387787,
                    0.8280279656251271
                  ]
                },
                {
                  "marker": {
                    "maxdisplayed": 10
                  },
                  "mode": "lines+markers",
                  "name": "Trial39",
                  "type": "scatter",
                  "x": [
                    0,
                    1,
                    2
                  ],
                  "y": [
                    0.7933991988499959,
                    0.6752673268318177,
                    0.5225966662168503
                  ]
                },
                {
                  "marker": {
                    "maxdisplayed": 10
                  },
                  "mode": "lines+markers",
                  "name": "Trial40",
                  "type": "scatter",
                  "x": [
                    0,
                    1,
                    2
                  ],
                  "y": [
                    0.9587994456291199,
                    0.9045075794061025,
                    0.8371120989322662
                  ]
                },
                {
                  "marker": {
                    "maxdisplayed": 10
                  },
                  "mode": "lines+markers",
                  "name": "Trial41",
                  "type": "scatter",
                  "x": [
                    0,
                    1,
                    2,
                    3,
                    4,
                    5,
                    6,
                    7,
                    8,
                    9,
                    10,
                    11,
                    12,
                    13,
                    14,
                    15,
                    16,
                    17,
                    18,
                    19,
                    20,
                    21,
                    22,
                    23,
                    24,
                    25,
                    26,
                    27,
                    28,
                    29,
                    30,
                    31,
                    32
                  ],
                  "y": [
                    1.0874272346496583,
                    1.078317387898763,
                    1.0698829134305319,
                    1.0558067599932353,
                    1.0453184723854065,
                    1.0347944378852845,
                    1.0259883960088094,
                    1.0173874934514364,
                    1.0074291189511617,
                    0.9980456590652466,
                    0.9901499807834625,
                    0.9788130184014638,
                    0.9695467829704285,
                    0.9574554979801178,
                    0.9492414196332296,
                    0.9404423435529073,
                    0.9315757175286611,
                    0.9238945126533509,
                    0.9129015366236369,
                    0.9040595233440399,
                    0.8961413423220317,
                    0.8879124561945597,
                    0.8776809096336364,
                    0.8695673088232676,
                    0.858837616443634,
                    0.8512157519658407,
                    0.8407934069633484,
                    0.8334262311458588,
                    0.8256260057290395,
                    0.8175955255826314,
                    0.809246853987376,
                    0.80098810394605,
                    0.7955237428347269
                  ]
                },
                {
                  "marker": {
                    "maxdisplayed": 10
                  },
                  "mode": "lines+markers",
                  "name": "Trial42",
                  "type": "scatter",
                  "x": [
                    0,
                    1,
                    2,
                    3,
                    4,
                    5,
                    6,
                    7,
                    8
                  ],
                  "y": [
                    1.0531678716341655,
                    1.0113443374633788,
                    0.9785205841064453,
                    0.9259065727392832,
                    0.8923120478789012,
                    0.8488756239414215,
                    0.8185954014460246,
                    0.7886400004227956,
                    0.7600046634674072
                  ]
                },
                {
                  "marker": {
                    "maxdisplayed": 10
                  },
                  "mode": "lines+markers",
                  "name": "Trial43",
                  "type": "scatter",
                  "x": [
                    0,
                    1,
                    2,
                    3,
                    4,
                    5,
                    6,
                    7,
                    8,
                    9,
                    10,
                    11,
                    12,
                    13,
                    14,
                    15,
                    16,
                    17,
                    18,
                    19,
                    20,
                    21,
                    22,
                    23,
                    24,
                    25,
                    26,
                    27,
                    28,
                    29,
                    30,
                    31,
                    32
                  ],
                  "y": [
                    1.0792430877685546,
                    1.0664726893107097,
                    1.0514175057411195,
                    1.0338927229245505,
                    1.01381676197052,
                    0.993185818195343,
                    0.9764372746149699,
                    0.9594840963681539,
                    0.9468007147312164,
                    0.9304038385550181,
                    0.9156525135040283,
                    0.8965109566847483,
                    0.8829662462075551,
                    0.8695612688859303,
                    0.8577666580677032,
                    0.845543215672175,
                    0.834778610865275,
                    0.8227474311987559,
                    0.8110352436701457,
                    0.7968118906021118,
                    0.786725119749705,
                    0.7770309468110402,
                    0.7654111425081889,
                    0.75167396068573,
                    0.7376792589823405,
                    0.7259130716323853,
                    0.7106955846150717,
                    0.7031873782475789,
                    0.6920637369155884,
                    0.6854288498560588,
                    0.6772976020971934,
                    0.6672758042812348,
                    0.6624805629253387
                  ]
                },
                {
                  "marker": {
                    "maxdisplayed": 10
                  },
                  "mode": "lines+markers",
                  "name": "Trial44",
                  "type": "scatter",
                  "x": [
                    0,
                    1,
                    2,
                    3,
                    4,
                    5,
                    6,
                    7,
                    8,
                    9,
                    10,
                    11,
                    12,
                    13,
                    14,
                    15,
                    16,
                    17,
                    18,
                    19,
                    20,
                    21,
                    22,
                    23,
                    24,
                    25,
                    26,
                    27,
                    28,
                    29,
                    30,
                    31,
                    32
                  ],
                  "y": [
                    1.0814669887224833,
                    1.0726667960484824,
                    1.0582645177841186,
                    1.0413991649945578,
                    1.0262252966562906,
                    1.0097076416015625,
                    0.9932918588320414,
                    0.9791301687558492,
                    0.9640609045823415,
                    0.9495502889156342,
                    0.9374348958333333,
                    0.9229452033837636,
                    0.9117906173070272,
                    0.8981091340382894,
                    0.8848940014839173,
                    0.8753132522106171,
                    0.864753923813502,
                    0.8518375933170319,
                    0.84156058828036,
                    0.8310459733009339,
                    0.8207938452561696,
                    0.8106815079847972,
                    0.7981870750586192,
                    0.7862723131974538,
                    0.7775578419367473,
                    0.7669865032037099,
                    0.7567669848601023,
                    0.7468391994635264,
                    0.7365824242432912,
                    0.7281536161899567,
                    0.7232633054256439,
                    0.7152863184611002,
                    0.7061750590801239
                  ]
                },
                {
                  "marker": {
                    "maxdisplayed": 10
                  },
                  "mode": "lines+markers",
                  "name": "Trial45",
                  "type": "scatter",
                  "x": [
                    0,
                    1,
                    2
                  ],
                  "y": [
                    1.0256178418795268,
                    0.9511249164740244,
                    0.8923209587732951
                  ]
                },
                {
                  "marker": {
                    "maxdisplayed": 10
                  },
                  "mode": "lines+markers",
                  "name": "Trial46",
                  "type": "scatter",
                  "x": [
                    0,
                    1,
                    2
                  ],
                  "y": [
                    0.7698942999045054,
                    0.578801699479421,
                    0.43178830842177074
                  ]
                },
                {
                  "marker": {
                    "maxdisplayed": 10
                  },
                  "mode": "lines+markers",
                  "name": "Trial47",
                  "type": "scatter",
                  "x": [
                    0,
                    1,
                    2
                  ],
                  "y": [
                    1.0464946746826171,
                    1.0201378504435221,
                    0.9774186352888743
                  ]
                },
                {
                  "marker": {
                    "maxdisplayed": 10
                  },
                  "mode": "lines+markers",
                  "name": "Trial48",
                  "type": "scatter",
                  "x": [
                    0,
                    1,
                    2
                  ],
                  "y": [
                    0.9187500099341075,
                    0.7965780178705851,
                    0.7084043423334757
                  ]
                },
                {
                  "marker": {
                    "maxdisplayed": 10
                  },
                  "mode": "lines+markers",
                  "name": "Trial49",
                  "type": "scatter",
                  "x": [
                    0,
                    1,
                    2
                  ],
                  "y": [
                    1.001727678378423,
                    0.9543300926685333,
                    0.8802667180697124
                  ]
                }
              ],
              "layout": {
                "showlegend": false,
                "template": {
                  "data": {
                    "bar": [
                      {
                        "error_x": {
                          "color": "#2a3f5f"
                        },
                        "error_y": {
                          "color": "#2a3f5f"
                        },
                        "marker": {
                          "line": {
                            "color": "#E5ECF6",
                            "width": 0.5
                          },
                          "pattern": {
                            "fillmode": "overlay",
                            "size": 10,
                            "solidity": 0.2
                          }
                        },
                        "type": "bar"
                      }
                    ],
                    "barpolar": [
                      {
                        "marker": {
                          "line": {
                            "color": "#E5ECF6",
                            "width": 0.5
                          },
                          "pattern": {
                            "fillmode": "overlay",
                            "size": 10,
                            "solidity": 0.2
                          }
                        },
                        "type": "barpolar"
                      }
                    ],
                    "carpet": [
                      {
                        "aaxis": {
                          "endlinecolor": "#2a3f5f",
                          "gridcolor": "white",
                          "linecolor": "white",
                          "minorgridcolor": "white",
                          "startlinecolor": "#2a3f5f"
                        },
                        "baxis": {
                          "endlinecolor": "#2a3f5f",
                          "gridcolor": "white",
                          "linecolor": "white",
                          "minorgridcolor": "white",
                          "startlinecolor": "#2a3f5f"
                        },
                        "type": "carpet"
                      }
                    ],
                    "choropleth": [
                      {
                        "colorbar": {
                          "outlinewidth": 0,
                          "ticks": ""
                        },
                        "type": "choropleth"
                      }
                    ],
                    "contour": [
                      {
                        "colorbar": {
                          "outlinewidth": 0,
                          "ticks": ""
                        },
                        "colorscale": [
                          [
                            0,
                            "#0d0887"
                          ],
                          [
                            0.1111111111111111,
                            "#46039f"
                          ],
                          [
                            0.2222222222222222,
                            "#7201a8"
                          ],
                          [
                            0.3333333333333333,
                            "#9c179e"
                          ],
                          [
                            0.4444444444444444,
                            "#bd3786"
                          ],
                          [
                            0.5555555555555556,
                            "#d8576b"
                          ],
                          [
                            0.6666666666666666,
                            "#ed7953"
                          ],
                          [
                            0.7777777777777778,
                            "#fb9f3a"
                          ],
                          [
                            0.8888888888888888,
                            "#fdca26"
                          ],
                          [
                            1,
                            "#f0f921"
                          ]
                        ],
                        "type": "contour"
                      }
                    ],
                    "contourcarpet": [
                      {
                        "colorbar": {
                          "outlinewidth": 0,
                          "ticks": ""
                        },
                        "type": "contourcarpet"
                      }
                    ],
                    "heatmap": [
                      {
                        "colorbar": {
                          "outlinewidth": 0,
                          "ticks": ""
                        },
                        "colorscale": [
                          [
                            0,
                            "#0d0887"
                          ],
                          [
                            0.1111111111111111,
                            "#46039f"
                          ],
                          [
                            0.2222222222222222,
                            "#7201a8"
                          ],
                          [
                            0.3333333333333333,
                            "#9c179e"
                          ],
                          [
                            0.4444444444444444,
                            "#bd3786"
                          ],
                          [
                            0.5555555555555556,
                            "#d8576b"
                          ],
                          [
                            0.6666666666666666,
                            "#ed7953"
                          ],
                          [
                            0.7777777777777778,
                            "#fb9f3a"
                          ],
                          [
                            0.8888888888888888,
                            "#fdca26"
                          ],
                          [
                            1,
                            "#f0f921"
                          ]
                        ],
                        "type": "heatmap"
                      }
                    ],
                    "histogram": [
                      {
                        "marker": {
                          "pattern": {
                            "fillmode": "overlay",
                            "size": 10,
                            "solidity": 0.2
                          }
                        },
                        "type": "histogram"
                      }
                    ],
                    "histogram2d": [
                      {
                        "colorbar": {
                          "outlinewidth": 0,
                          "ticks": ""
                        },
                        "colorscale": [
                          [
                            0,
                            "#0d0887"
                          ],
                          [
                            0.1111111111111111,
                            "#46039f"
                          ],
                          [
                            0.2222222222222222,
                            "#7201a8"
                          ],
                          [
                            0.3333333333333333,
                            "#9c179e"
                          ],
                          [
                            0.4444444444444444,
                            "#bd3786"
                          ],
                          [
                            0.5555555555555556,
                            "#d8576b"
                          ],
                          [
                            0.6666666666666666,
                            "#ed7953"
                          ],
                          [
                            0.7777777777777778,
                            "#fb9f3a"
                          ],
                          [
                            0.8888888888888888,
                            "#fdca26"
                          ],
                          [
                            1,
                            "#f0f921"
                          ]
                        ],
                        "type": "histogram2d"
                      }
                    ],
                    "histogram2dcontour": [
                      {
                        "colorbar": {
                          "outlinewidth": 0,
                          "ticks": ""
                        },
                        "colorscale": [
                          [
                            0,
                            "#0d0887"
                          ],
                          [
                            0.1111111111111111,
                            "#46039f"
                          ],
                          [
                            0.2222222222222222,
                            "#7201a8"
                          ],
                          [
                            0.3333333333333333,
                            "#9c179e"
                          ],
                          [
                            0.4444444444444444,
                            "#bd3786"
                          ],
                          [
                            0.5555555555555556,
                            "#d8576b"
                          ],
                          [
                            0.6666666666666666,
                            "#ed7953"
                          ],
                          [
                            0.7777777777777778,
                            "#fb9f3a"
                          ],
                          [
                            0.8888888888888888,
                            "#fdca26"
                          ],
                          [
                            1,
                            "#f0f921"
                          ]
                        ],
                        "type": "histogram2dcontour"
                      }
                    ],
                    "mesh3d": [
                      {
                        "colorbar": {
                          "outlinewidth": 0,
                          "ticks": ""
                        },
                        "type": "mesh3d"
                      }
                    ],
                    "parcoords": [
                      {
                        "line": {
                          "colorbar": {
                            "outlinewidth": 0,
                            "ticks": ""
                          }
                        },
                        "type": "parcoords"
                      }
                    ],
                    "pie": [
                      {
                        "automargin": true,
                        "type": "pie"
                      }
                    ],
                    "scatter": [
                      {
                        "fillpattern": {
                          "fillmode": "overlay",
                          "size": 10,
                          "solidity": 0.2
                        },
                        "type": "scatter"
                      }
                    ],
                    "scatter3d": [
                      {
                        "line": {
                          "colorbar": {
                            "outlinewidth": 0,
                            "ticks": ""
                          }
                        },
                        "marker": {
                          "colorbar": {
                            "outlinewidth": 0,
                            "ticks": ""
                          }
                        },
                        "type": "scatter3d"
                      }
                    ],
                    "scattercarpet": [
                      {
                        "marker": {
                          "colorbar": {
                            "outlinewidth": 0,
                            "ticks": ""
                          }
                        },
                        "type": "scattercarpet"
                      }
                    ],
                    "scattergeo": [
                      {
                        "marker": {
                          "colorbar": {
                            "outlinewidth": 0,
                            "ticks": ""
                          }
                        },
                        "type": "scattergeo"
                      }
                    ],
                    "scattergl": [
                      {
                        "marker": {
                          "colorbar": {
                            "outlinewidth": 0,
                            "ticks": ""
                          }
                        },
                        "type": "scattergl"
                      }
                    ],
                    "scattermap": [
                      {
                        "marker": {
                          "colorbar": {
                            "outlinewidth": 0,
                            "ticks": ""
                          }
                        },
                        "type": "scattermap"
                      }
                    ],
                    "scattermapbox": [
                      {
                        "marker": {
                          "colorbar": {
                            "outlinewidth": 0,
                            "ticks": ""
                          }
                        },
                        "type": "scattermapbox"
                      }
                    ],
                    "scatterpolar": [
                      {
                        "marker": {
                          "colorbar": {
                            "outlinewidth": 0,
                            "ticks": ""
                          }
                        },
                        "type": "scatterpolar"
                      }
                    ],
                    "scatterpolargl": [
                      {
                        "marker": {
                          "colorbar": {
                            "outlinewidth": 0,
                            "ticks": ""
                          }
                        },
                        "type": "scatterpolargl"
                      }
                    ],
                    "scatterternary": [
                      {
                        "marker": {
                          "colorbar": {
                            "outlinewidth": 0,
                            "ticks": ""
                          }
                        },
                        "type": "scatterternary"
                      }
                    ],
                    "surface": [
                      {
                        "colorbar": {
                          "outlinewidth": 0,
                          "ticks": ""
                        },
                        "colorscale": [
                          [
                            0,
                            "#0d0887"
                          ],
                          [
                            0.1111111111111111,
                            "#46039f"
                          ],
                          [
                            0.2222222222222222,
                            "#7201a8"
                          ],
                          [
                            0.3333333333333333,
                            "#9c179e"
                          ],
                          [
                            0.4444444444444444,
                            "#bd3786"
                          ],
                          [
                            0.5555555555555556,
                            "#d8576b"
                          ],
                          [
                            0.6666666666666666,
                            "#ed7953"
                          ],
                          [
                            0.7777777777777778,
                            "#fb9f3a"
                          ],
                          [
                            0.8888888888888888,
                            "#fdca26"
                          ],
                          [
                            1,
                            "#f0f921"
                          ]
                        ],
                        "type": "surface"
                      }
                    ],
                    "table": [
                      {
                        "cells": {
                          "fill": {
                            "color": "#EBF0F8"
                          },
                          "line": {
                            "color": "white"
                          }
                        },
                        "header": {
                          "fill": {
                            "color": "#C8D4E3"
                          },
                          "line": {
                            "color": "white"
                          }
                        },
                        "type": "table"
                      }
                    ]
                  },
                  "layout": {
                    "annotationdefaults": {
                      "arrowcolor": "#2a3f5f",
                      "arrowhead": 0,
                      "arrowwidth": 1
                    },
                    "autotypenumbers": "strict",
                    "coloraxis": {
                      "colorbar": {
                        "outlinewidth": 0,
                        "ticks": ""
                      }
                    },
                    "colorscale": {
                      "diverging": [
                        [
                          0,
                          "#8e0152"
                        ],
                        [
                          0.1,
                          "#c51b7d"
                        ],
                        [
                          0.2,
                          "#de77ae"
                        ],
                        [
                          0.3,
                          "#f1b6da"
                        ],
                        [
                          0.4,
                          "#fde0ef"
                        ],
                        [
                          0.5,
                          "#f7f7f7"
                        ],
                        [
                          0.6,
                          "#e6f5d0"
                        ],
                        [
                          0.7,
                          "#b8e186"
                        ],
                        [
                          0.8,
                          "#7fbc41"
                        ],
                        [
                          0.9,
                          "#4d9221"
                        ],
                        [
                          1,
                          "#276419"
                        ]
                      ],
                      "sequential": [
                        [
                          0,
                          "#0d0887"
                        ],
                        [
                          0.1111111111111111,
                          "#46039f"
                        ],
                        [
                          0.2222222222222222,
                          "#7201a8"
                        ],
                        [
                          0.3333333333333333,
                          "#9c179e"
                        ],
                        [
                          0.4444444444444444,
                          "#bd3786"
                        ],
                        [
                          0.5555555555555556,
                          "#d8576b"
                        ],
                        [
                          0.6666666666666666,
                          "#ed7953"
                        ],
                        [
                          0.7777777777777778,
                          "#fb9f3a"
                        ],
                        [
                          0.8888888888888888,
                          "#fdca26"
                        ],
                        [
                          1,
                          "#f0f921"
                        ]
                      ],
                      "sequentialminus": [
                        [
                          0,
                          "#0d0887"
                        ],
                        [
                          0.1111111111111111,
                          "#46039f"
                        ],
                        [
                          0.2222222222222222,
                          "#7201a8"
                        ],
                        [
                          0.3333333333333333,
                          "#9c179e"
                        ],
                        [
                          0.4444444444444444,
                          "#bd3786"
                        ],
                        [
                          0.5555555555555556,
                          "#d8576b"
                        ],
                        [
                          0.6666666666666666,
                          "#ed7953"
                        ],
                        [
                          0.7777777777777778,
                          "#fb9f3a"
                        ],
                        [
                          0.8888888888888888,
                          "#fdca26"
                        ],
                        [
                          1,
                          "#f0f921"
                        ]
                      ]
                    },
                    "colorway": [
                      "#636efa",
                      "#EF553B",
                      "#00cc96",
                      "#ab63fa",
                      "#FFA15A",
                      "#19d3f3",
                      "#FF6692",
                      "#B6E880",
                      "#FF97FF",
                      "#FECB52"
                    ],
                    "font": {
                      "color": "#2a3f5f"
                    },
                    "geo": {
                      "bgcolor": "white",
                      "lakecolor": "white",
                      "landcolor": "#E5ECF6",
                      "showlakes": true,
                      "showland": true,
                      "subunitcolor": "white"
                    },
                    "hoverlabel": {
                      "align": "left"
                    },
                    "hovermode": "closest",
                    "mapbox": {
                      "style": "light"
                    },
                    "paper_bgcolor": "white",
                    "plot_bgcolor": "#E5ECF6",
                    "polar": {
                      "angularaxis": {
                        "gridcolor": "white",
                        "linecolor": "white",
                        "ticks": ""
                      },
                      "bgcolor": "#E5ECF6",
                      "radialaxis": {
                        "gridcolor": "white",
                        "linecolor": "white",
                        "ticks": ""
                      }
                    },
                    "scene": {
                      "xaxis": {
                        "backgroundcolor": "#E5ECF6",
                        "gridcolor": "white",
                        "gridwidth": 2,
                        "linecolor": "white",
                        "showbackground": true,
                        "ticks": "",
                        "zerolinecolor": "white"
                      },
                      "yaxis": {
                        "backgroundcolor": "#E5ECF6",
                        "gridcolor": "white",
                        "gridwidth": 2,
                        "linecolor": "white",
                        "showbackground": true,
                        "ticks": "",
                        "zerolinecolor": "white"
                      },
                      "zaxis": {
                        "backgroundcolor": "#E5ECF6",
                        "gridcolor": "white",
                        "gridwidth": 2,
                        "linecolor": "white",
                        "showbackground": true,
                        "ticks": "",
                        "zerolinecolor": "white"
                      }
                    },
                    "shapedefaults": {
                      "line": {
                        "color": "#2a3f5f"
                      }
                    },
                    "ternary": {
                      "aaxis": {
                        "gridcolor": "white",
                        "linecolor": "white",
                        "ticks": ""
                      },
                      "baxis": {
                        "gridcolor": "white",
                        "linecolor": "white",
                        "ticks": ""
                      },
                      "bgcolor": "#E5ECF6",
                      "caxis": {
                        "gridcolor": "white",
                        "linecolor": "white",
                        "ticks": ""
                      }
                    },
                    "title": {
                      "x": 0.05
                    },
                    "xaxis": {
                      "automargin": true,
                      "gridcolor": "white",
                      "linecolor": "white",
                      "ticks": "",
                      "title": {
                        "standoff": 15
                      },
                      "zerolinecolor": "white",
                      "zerolinewidth": 2
                    },
                    "yaxis": {
                      "automargin": true,
                      "gridcolor": "white",
                      "linecolor": "white",
                      "ticks": "",
                      "title": {
                        "standoff": 15
                      },
                      "zerolinecolor": "white",
                      "zerolinewidth": 2
                    }
                  }
                },
                "title": {
                  "text": "Intermediate Values Plot"
                },
                "xaxis": {
                  "title": {
                    "text": "Step"
                  }
                },
                "yaxis": {
                  "title": {
                    "text": "Intermediate Value"
                  }
                }
              }
            }
          },
          "metadata": {},
          "output_type": "display_data"
        }
      ],
      "source": [
        "from optuna.visualization import plot_intermediate_values\n",
        "\n",
        "# 1. Plot intermediate values during the trials\n",
        "plot_intermediate_values(study).show()"
      ]
    },
    {
      "cell_type": "code",
      "execution_count": null,
      "metadata": {
        "id": "iQ0mswalTZ7a"
      },
      "outputs": [],
      "source": []
    }
  ],
  "metadata": {
    "colab": {
      "provenance": []
    },
    "kernelspec": {
      "display_name": ".env",
      "language": "python",
      "name": "python3"
    },
    "language_info": {
      "codemirror_mode": {
        "name": "ipython",
        "version": 3
      },
      "file_extension": ".py",
      "mimetype": "text/x-python",
      "name": "python",
      "nbconvert_exporter": "python",
      "pygments_lexer": "ipython3",
      "version": "3.10.11"
    }
  },
  "nbformat": 4,
  "nbformat_minor": 0
}
