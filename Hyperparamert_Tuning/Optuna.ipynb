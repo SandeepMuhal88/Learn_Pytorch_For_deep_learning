{
 "cells": [
  {
   "cell_type": "code",
   "execution_count": 2,
   "id": "e501d8c6",
   "metadata": {},
   "outputs": [
    {
     "name": "stderr",
     "output_type": "stream",
     "text": [
      "d:\\Programming\\Learn_Pytorch_for_deep_learning\\.env\\lib\\site-packages\\tqdm\\auto.py:21: TqdmWarning: IProgress not found. Please update jupyter and ipywidgets. See https://ipywidgets.readthedocs.io/en/stable/user_install.html\n",
      "  from .autonotebook import tqdm as notebook_tqdm\n"
     ]
    },
    {
     "data": {
      "text/html": [
       "<div>\n",
       "<style scoped>\n",
       "    .dataframe tbody tr th:only-of-type {\n",
       "        vertical-align: middle;\n",
       "    }\n",
       "\n",
       "    .dataframe tbody tr th {\n",
       "        vertical-align: top;\n",
       "    }\n",
       "\n",
       "    .dataframe thead th {\n",
       "        text-align: right;\n",
       "    }\n",
       "</style>\n",
       "<table border=\"1\" class=\"dataframe\">\n",
       "  <thead>\n",
       "    <tr style=\"text-align: right;\">\n",
       "      <th></th>\n",
       "      <th>Pregnancies</th>\n",
       "      <th>Glucose</th>\n",
       "      <th>BloodPressure</th>\n",
       "      <th>SkinThickness</th>\n",
       "      <th>Insulin</th>\n",
       "      <th>BMI</th>\n",
       "      <th>DiabetesPedigreeFunction</th>\n",
       "      <th>Age</th>\n",
       "      <th>Outcome</th>\n",
       "    </tr>\n",
       "  </thead>\n",
       "  <tbody>\n",
       "    <tr>\n",
       "      <th>0</th>\n",
       "      <td>6</td>\n",
       "      <td>148</td>\n",
       "      <td>72</td>\n",
       "      <td>35</td>\n",
       "      <td>0</td>\n",
       "      <td>33.6</td>\n",
       "      <td>0.627</td>\n",
       "      <td>50</td>\n",
       "      <td>1</td>\n",
       "    </tr>\n",
       "    <tr>\n",
       "      <th>1</th>\n",
       "      <td>1</td>\n",
       "      <td>85</td>\n",
       "      <td>66</td>\n",
       "      <td>29</td>\n",
       "      <td>0</td>\n",
       "      <td>26.6</td>\n",
       "      <td>0.351</td>\n",
       "      <td>31</td>\n",
       "      <td>0</td>\n",
       "    </tr>\n",
       "    <tr>\n",
       "      <th>2</th>\n",
       "      <td>8</td>\n",
       "      <td>183</td>\n",
       "      <td>64</td>\n",
       "      <td>0</td>\n",
       "      <td>0</td>\n",
       "      <td>23.3</td>\n",
       "      <td>0.672</td>\n",
       "      <td>32</td>\n",
       "      <td>1</td>\n",
       "    </tr>\n",
       "    <tr>\n",
       "      <th>3</th>\n",
       "      <td>1</td>\n",
       "      <td>89</td>\n",
       "      <td>66</td>\n",
       "      <td>23</td>\n",
       "      <td>94</td>\n",
       "      <td>28.1</td>\n",
       "      <td>0.167</td>\n",
       "      <td>21</td>\n",
       "      <td>0</td>\n",
       "    </tr>\n",
       "    <tr>\n",
       "      <th>4</th>\n",
       "      <td>0</td>\n",
       "      <td>137</td>\n",
       "      <td>40</td>\n",
       "      <td>35</td>\n",
       "      <td>168</td>\n",
       "      <td>43.1</td>\n",
       "      <td>2.288</td>\n",
       "      <td>33</td>\n",
       "      <td>1</td>\n",
       "    </tr>\n",
       "  </tbody>\n",
       "</table>\n",
       "</div>"
      ],
      "text/plain": [
       "   Pregnancies  Glucose  BloodPressure  SkinThickness  Insulin   BMI  \\\n",
       "0            6      148             72             35        0  33.6   \n",
       "1            1       85             66             29        0  26.6   \n",
       "2            8      183             64              0        0  23.3   \n",
       "3            1       89             66             23       94  28.1   \n",
       "4            0      137             40             35      168  43.1   \n",
       "\n",
       "   DiabetesPedigreeFunction  Age  Outcome  \n",
       "0                     0.627   50        1  \n",
       "1                     0.351   31        0  \n",
       "2                     0.672   32        1  \n",
       "3                     0.167   21        0  \n",
       "4                     2.288   33        1  "
      ]
     },
     "execution_count": 2,
     "metadata": {},
     "output_type": "execute_result"
    }
   ],
   "source": [
    "import torch\n",
    "import optuna\n",
    "from sklearn.model_selection import train_test_split\n",
    "from sklearn.preprocessing import StandardScaler\n",
    "\n",
    "# Load the Pima Indian Diabetes dataset from sklearn\n",
    "# Note: Scikit-learn's built-in 'load_diabetes' is a regression dataset.\n",
    "# We will load the actual diabetes dataset from an external source\n",
    "import pandas as pd\n",
    "# Load the Pima Indian Diabetes dataset (from UCI repository)\n",
    "url = \"https://raw.githubusercontent.com/jbrownlee/Datasets/master/pima-indians-diabetes.data.csv\"\n",
    "columns = ['Pregnancies', 'Glucose', 'BloodPressure', 'SkinThickness', 'Insulin', 'BMI',\n",
    "           'DiabetesPedigreeFunction', 'Age', 'Outcome']\n",
    "dataset = pd.read_csv(url, names=columns)\n",
    "dataset.head()\n",
    "\n"
   ]
  },
  {
   "cell_type": "code",
   "execution_count": 3,
   "id": "7666536c",
   "metadata": {},
   "outputs": [
    {
     "data": {
      "text/plain": [
       "Pregnancies                 0\n",
       "Glucose                     0\n",
       "BloodPressure               0\n",
       "SkinThickness               0\n",
       "Insulin                     0\n",
       "BMI                         0\n",
       "DiabetesPedigreeFunction    0\n",
       "Age                         0\n",
       "Outcome                     0\n",
       "dtype: int64"
      ]
     },
     "execution_count": 3,
     "metadata": {},
     "output_type": "execute_result"
    }
   ],
   "source": [
    "import numpy as np \n",
    "\n",
    "# Replace zero values with NaN in columns where zero is not a valid value\n",
    "cols_with_missing_vals = ['Glucose', 'BloodPressure', 'SkinThickness', 'Insulin', 'BMI']\n",
    "dataset[cols_with_missing_vals] = dataset[cols_with_missing_vals].replace(0, np.nan)\n",
    "\n",
    "# Impute missing values with the median of each column\n",
    "dataset[cols_with_missing_vals] = dataset[cols_with_missing_vals].fillna(dataset[cols_with_missing_vals].median())\n",
    "\n",
    "dataset.isnull().sum()"
   ]
  },
  {
   "cell_type": "code",
   "execution_count": 4,
   "id": "0cb20f30",
   "metadata": {},
   "outputs": [
    {
     "data": {
      "text/html": [
       "<div>\n",
       "<style scoped>\n",
       "    .dataframe tbody tr th:only-of-type {\n",
       "        vertical-align: middle;\n",
       "    }\n",
       "\n",
       "    .dataframe tbody tr th {\n",
       "        vertical-align: top;\n",
       "    }\n",
       "\n",
       "    .dataframe thead th {\n",
       "        text-align: right;\n",
       "    }\n",
       "</style>\n",
       "<table border=\"1\" class=\"dataframe\">\n",
       "  <thead>\n",
       "    <tr style=\"text-align: right;\">\n",
       "      <th></th>\n",
       "      <th>Pregnancies</th>\n",
       "      <th>Glucose</th>\n",
       "      <th>BloodPressure</th>\n",
       "      <th>SkinThickness</th>\n",
       "      <th>Insulin</th>\n",
       "      <th>BMI</th>\n",
       "      <th>DiabetesPedigreeFunction</th>\n",
       "      <th>Age</th>\n",
       "    </tr>\n",
       "  </thead>\n",
       "  <tbody>\n",
       "    <tr>\n",
       "      <th>0</th>\n",
       "      <td>6</td>\n",
       "      <td>148.0</td>\n",
       "      <td>72.0</td>\n",
       "      <td>35.0</td>\n",
       "      <td>125.0</td>\n",
       "      <td>33.6</td>\n",
       "      <td>0.627</td>\n",
       "      <td>50</td>\n",
       "    </tr>\n",
       "    <tr>\n",
       "      <th>1</th>\n",
       "      <td>1</td>\n",
       "      <td>85.0</td>\n",
       "      <td>66.0</td>\n",
       "      <td>29.0</td>\n",
       "      <td>125.0</td>\n",
       "      <td>26.6</td>\n",
       "      <td>0.351</td>\n",
       "      <td>31</td>\n",
       "    </tr>\n",
       "    <tr>\n",
       "      <th>2</th>\n",
       "      <td>8</td>\n",
       "      <td>183.0</td>\n",
       "      <td>64.0</td>\n",
       "      <td>29.0</td>\n",
       "      <td>125.0</td>\n",
       "      <td>23.3</td>\n",
       "      <td>0.672</td>\n",
       "      <td>32</td>\n",
       "    </tr>\n",
       "    <tr>\n",
       "      <th>3</th>\n",
       "      <td>1</td>\n",
       "      <td>89.0</td>\n",
       "      <td>66.0</td>\n",
       "      <td>23.0</td>\n",
       "      <td>94.0</td>\n",
       "      <td>28.1</td>\n",
       "      <td>0.167</td>\n",
       "      <td>21</td>\n",
       "    </tr>\n",
       "    <tr>\n",
       "      <th>4</th>\n",
       "      <td>0</td>\n",
       "      <td>137.0</td>\n",
       "      <td>40.0</td>\n",
       "      <td>35.0</td>\n",
       "      <td>168.0</td>\n",
       "      <td>43.1</td>\n",
       "      <td>2.288</td>\n",
       "      <td>33</td>\n",
       "    </tr>\n",
       "    <tr>\n",
       "      <th>...</th>\n",
       "      <td>...</td>\n",
       "      <td>...</td>\n",
       "      <td>...</td>\n",
       "      <td>...</td>\n",
       "      <td>...</td>\n",
       "      <td>...</td>\n",
       "      <td>...</td>\n",
       "      <td>...</td>\n",
       "    </tr>\n",
       "    <tr>\n",
       "      <th>763</th>\n",
       "      <td>10</td>\n",
       "      <td>101.0</td>\n",
       "      <td>76.0</td>\n",
       "      <td>48.0</td>\n",
       "      <td>180.0</td>\n",
       "      <td>32.9</td>\n",
       "      <td>0.171</td>\n",
       "      <td>63</td>\n",
       "    </tr>\n",
       "    <tr>\n",
       "      <th>764</th>\n",
       "      <td>2</td>\n",
       "      <td>122.0</td>\n",
       "      <td>70.0</td>\n",
       "      <td>27.0</td>\n",
       "      <td>125.0</td>\n",
       "      <td>36.8</td>\n",
       "      <td>0.340</td>\n",
       "      <td>27</td>\n",
       "    </tr>\n",
       "    <tr>\n",
       "      <th>765</th>\n",
       "      <td>5</td>\n",
       "      <td>121.0</td>\n",
       "      <td>72.0</td>\n",
       "      <td>23.0</td>\n",
       "      <td>112.0</td>\n",
       "      <td>26.2</td>\n",
       "      <td>0.245</td>\n",
       "      <td>30</td>\n",
       "    </tr>\n",
       "    <tr>\n",
       "      <th>766</th>\n",
       "      <td>1</td>\n",
       "      <td>126.0</td>\n",
       "      <td>60.0</td>\n",
       "      <td>29.0</td>\n",
       "      <td>125.0</td>\n",
       "      <td>30.1</td>\n",
       "      <td>0.349</td>\n",
       "      <td>47</td>\n",
       "    </tr>\n",
       "    <tr>\n",
       "      <th>767</th>\n",
       "      <td>1</td>\n",
       "      <td>93.0</td>\n",
       "      <td>70.0</td>\n",
       "      <td>31.0</td>\n",
       "      <td>125.0</td>\n",
       "      <td>30.4</td>\n",
       "      <td>0.315</td>\n",
       "      <td>23</td>\n",
       "    </tr>\n",
       "  </tbody>\n",
       "</table>\n",
       "<p>768 rows × 8 columns</p>\n",
       "</div>"
      ],
      "text/plain": [
       "     Pregnancies  Glucose  BloodPressure  SkinThickness  Insulin   BMI  \\\n",
       "0              6    148.0           72.0           35.0    125.0  33.6   \n",
       "1              1     85.0           66.0           29.0    125.0  26.6   \n",
       "2              8    183.0           64.0           29.0    125.0  23.3   \n",
       "3              1     89.0           66.0           23.0     94.0  28.1   \n",
       "4              0    137.0           40.0           35.0    168.0  43.1   \n",
       "..           ...      ...            ...            ...      ...   ...   \n",
       "763           10    101.0           76.0           48.0    180.0  32.9   \n",
       "764            2    122.0           70.0           27.0    125.0  36.8   \n",
       "765            5    121.0           72.0           23.0    112.0  26.2   \n",
       "766            1    126.0           60.0           29.0    125.0  30.1   \n",
       "767            1     93.0           70.0           31.0    125.0  30.4   \n",
       "\n",
       "     DiabetesPedigreeFunction  Age  \n",
       "0                       0.627   50  \n",
       "1                       0.351   31  \n",
       "2                       0.672   32  \n",
       "3                       0.167   21  \n",
       "4                       2.288   33  \n",
       "..                        ...  ...  \n",
       "763                     0.171   63  \n",
       "764                     0.340   27  \n",
       "765                     0.245   30  \n",
       "766                     0.349   47  \n",
       "767                     0.315   23  \n",
       "\n",
       "[768 rows x 8 columns]"
      ]
     },
     "execution_count": 4,
     "metadata": {},
     "output_type": "execute_result"
    }
   ],
   "source": [
    "X=dataset.drop('Outcome', axis=1)\n",
    "y=dataset['Outcome']\n",
    "\n",
    "X"
   ]
  },
  {
   "cell_type": "code",
   "execution_count": 5,
   "id": "0e0a4951",
   "metadata": {},
   "outputs": [
    {
     "data": {
      "text/plain": [
       "array([[-0.52639686, -1.25688146, -0.01899526, ..., -0.00745016,\n",
       "        -0.49073479, -1.03594038],\n",
       "       [ 1.58804586, -0.32605067,  0.8081742 , ..., -0.59909194,\n",
       "         2.41502991,  1.48710085],\n",
       "       [-0.82846011,  0.57153617, -2.16963585, ..., -0.52694051,\n",
       "         0.54916055, -0.94893896],\n",
       "       ...,\n",
       "       [ 1.8901091 , -0.69173419,  1.13904198, ...,  1.91177805,\n",
       "         1.981245  ,  0.44308379],\n",
       "       [-1.13052335,  0.63802409, -0.01899526, ...,  1.45000885,\n",
       "        -0.78487662, -0.33992901],\n",
       "       [-1.13052335,  0.10612077,  1.96621144, ..., -1.42161832,\n",
       "        -0.61552223, -1.03594038]])"
      ]
     },
     "execution_count": 5,
     "metadata": {},
     "output_type": "execute_result"
    }
   ],
   "source": [
    "X_train ,X_test ,y_train ,y_test = train_test_split(X,y,test_size=0.2,random_state=42)\n",
    "\n",
    "#Optional Scale the data for better model performance\n",
    "\n",
    "\n",
    "scaler=StandardScaler()\n",
    "X_train = scaler.fit_transform(X_train)\n",
    "X_test = scaler.transform(X_test)\n",
    "\n",
    "X_train"
   ]
  },
  {
   "cell_type": "code",
   "execution_count": 6,
   "id": "070cf500",
   "metadata": {},
   "outputs": [
    {
     "data": {
      "text/plain": [
       "(614, 8)"
      ]
     },
     "execution_count": 6,
     "metadata": {},
     "output_type": "execute_result"
    }
   ],
   "source": [
    "X_train.shape"
   ]
  },
  {
   "cell_type": "code",
   "execution_count": 7,
   "id": "1197d6e8",
   "metadata": {},
   "outputs": [
    {
     "data": {
      "text/plain": [
       "(154, 8)"
      ]
     },
     "execution_count": 7,
     "metadata": {},
     "output_type": "execute_result"
    }
   ],
   "source": [
    "X_test.shape"
   ]
  },
  {
   "cell_type": "code",
   "execution_count": 8,
   "id": "d86cd732",
   "metadata": {},
   "outputs": [],
   "source": [
    "from sklearn.ensemble import RandomForestClassifier\n",
    "from sklearn.model_selection import cross_val_score\n",
    "\n",
    "\n",
    "\n",
    "#Define the objective function\n",
    "\n",
    "def objective(trial):\n",
    "    #suggest hyperparameters\n",
    "    n_estimators = trial.suggest_int(\"n_estimators\", 50, 200)\n",
    "    max_depth = trial.suggest_int(\"max_depth\", 3, 20)\n",
    "\n",
    "    #create the Random Forest classifier\n",
    "    model = RandomForestClassifier(n_estimators=n_estimators, max_depth=max_depth, random_state=42)\n",
    "\n",
    "    #evaluate the model using cross-validation\n",
    "    scores = cross_val_score(model, X_train, y_train, cv=3,scoring=\"accuracy\")\n",
    "    return scores.mean()\n"
   ]
  },
  {
   "cell_type": "code",
   "execution_count": 9,
   "id": "9e6d125d",
   "metadata": {},
   "outputs": [
    {
     "name": "stderr",
     "output_type": "stream",
     "text": [
      "[I 2025-09-14 20:38:35,923] A new study created in memory with name: no-name-4043960c-6521-41e5-9ff8-5c6c9dec9965\n",
      "[I 2025-09-14 20:38:36,214] Trial 0 finished with value: 0.7736091184441256 and parameters: {'n_estimators': 91, 'max_depth': 9}. Best is trial 0 with value: 0.7736091184441256.\n",
      "[I 2025-09-14 20:38:36,573] Trial 1 finished with value: 0.7866491311971943 and parameters: {'n_estimators': 115, 'max_depth': 16}. Best is trial 1 with value: 0.7866491311971943.\n",
      "[I 2025-09-14 20:38:37,008] Trial 2 finished with value: 0.7784871672246134 and parameters: {'n_estimators': 153, 'max_depth': 17}. Best is trial 1 with value: 0.7866491311971943.\n",
      "[I 2025-09-14 20:38:37,258] Trial 3 finished with value: 0.7768770923003347 and parameters: {'n_estimators': 85, 'max_depth': 14}. Best is trial 1 with value: 0.7866491311971943.\n",
      "[I 2025-09-14 20:38:37,660] Trial 4 finished with value: 0.7670891120675912 and parameters: {'n_estimators': 142, 'max_depth': 7}. Best is trial 1 with value: 0.7866491311971943.\n",
      "[I 2025-09-14 20:38:38,043] Trial 5 finished with value: 0.7817631117487646 and parameters: {'n_estimators': 134, 'max_depth': 12}. Best is trial 1 with value: 0.7866491311971943.\n",
      "[I 2025-09-14 20:38:38,193] Trial 6 finished with value: 0.78012912482066 and parameters: {'n_estimators': 50, 'max_depth': 18}. Best is trial 1 with value: 0.7866491311971943.\n",
      "[I 2025-09-14 20:38:38,664] Trial 7 finished with value: 0.7752271640363463 and parameters: {'n_estimators': 168, 'max_depth': 11}. Best is trial 1 with value: 0.7866491311971943.\n",
      "[I 2025-09-14 20:38:39,045] Trial 8 finished with value: 0.7833811573409851 and parameters: {'n_estimators': 133, 'max_depth': 16}. Best is trial 1 with value: 0.7866491311971943.\n",
      "[I 2025-09-14 20:38:39,437] Trial 9 finished with value: 0.7866650725330784 and parameters: {'n_estimators': 139, 'max_depth': 13}. Best is trial 9 with value: 0.7866650725330784.\n",
      "[I 2025-09-14 20:38:39,919] Trial 10 finished with value: 0.760561135023115 and parameters: {'n_estimators': 200, 'max_depth': 4}. Best is trial 9 with value: 0.7866650725330784.\n",
      "[I 2025-09-14 20:38:40,229] Trial 11 finished with value: 0.7817631117487646 and parameters: {'n_estimators': 105, 'max_depth': 20}. Best is trial 9 with value: 0.7866650725330784.\n",
      "[I 2025-09-14 20:38:40,552] Trial 12 finished with value: 0.7833970986768691 and parameters: {'n_estimators': 110, 'max_depth': 13}. Best is trial 9 with value: 0.7866650725330784.\n",
      "[I 2025-09-14 20:38:41,037] Trial 13 finished with value: 0.78012912482066 and parameters: {'n_estimators': 168, 'max_depth': 15}. Best is trial 9 with value: 0.7866650725330784.\n",
      "[I 2025-09-14 20:38:41,228] Trial 14 finished with value: 0.7768850629682768 and parameters: {'n_estimators': 64, 'max_depth': 20}. Best is trial 9 with value: 0.7866650725330784.\n",
      "[I 2025-09-14 20:38:41,558] Trial 15 finished with value: 0.780121154152718 and parameters: {'n_estimators': 114, 'max_depth': 9}. Best is trial 9 with value: 0.7866650725330784.\n",
      "[I 2025-09-14 20:38:42,018] Trial 16 finished with value: 0.7768452096285668 and parameters: {'n_estimators': 160, 'max_depth': 10}. Best is trial 9 with value: 0.7866650725330784.\n",
      "[I 2025-09-14 20:38:42,534] Trial 17 finished with value: 0.78012912482066 and parameters: {'n_estimators': 183, 'max_depth': 18}. Best is trial 9 with value: 0.7866650725330784.\n",
      "[I 2025-09-14 20:38:42,883] Trial 18 finished with value: 0.7850231149370317 and parameters: {'n_estimators': 123, 'max_depth': 14}. Best is trial 9 with value: 0.7866650725330784.\n",
      "[I 2025-09-14 20:38:43,128] Trial 19 finished with value: 0.7589510600988363 and parameters: {'n_estimators': 90, 'max_depth': 7}. Best is trial 9 with value: 0.7866650725330784.\n",
      "[I 2025-09-14 20:38:43,540] Trial 20 finished with value: 0.7817551410808226 and parameters: {'n_estimators': 143, 'max_depth': 16}. Best is trial 9 with value: 0.7866650725330784.\n",
      "[I 2025-09-14 20:38:43,893] Trial 21 finished with value: 0.7866491311971943 and parameters: {'n_estimators': 124, 'max_depth': 14}. Best is trial 9 with value: 0.7866650725330784.\n",
      "[I 2025-09-14 20:38:44,246] Trial 22 finished with value: 0.7834130400127531 and parameters: {'n_estimators': 124, 'max_depth': 13}. Best is trial 9 with value: 0.7866650725330784.\n",
      "[I 2025-09-14 20:38:44,540] Trial 23 finished with value: 0.7817631117487646 and parameters: {'n_estimators': 102, 'max_depth': 15}. Best is trial 9 with value: 0.7866650725330784.\n",
      "[I 2025-09-14 20:38:44,879] Trial 24 finished with value: 0.7833891280089271 and parameters: {'n_estimators': 120, 'max_depth': 12}. Best is trial 9 with value: 0.7866650725330784.\n",
      "[I 2025-09-14 20:38:45,108] Trial 25 finished with value: 0.7736250597800095 and parameters: {'n_estimators': 79, 'max_depth': 18}. Best is trial 9 with value: 0.7866650725330784.\n",
      "[I 2025-09-14 20:38:45,537] Trial 26 finished with value: 0.7817471704128806 and parameters: {'n_estimators': 151, 'max_depth': 14}. Best is trial 9 with value: 0.7866650725330784.\n",
      "[I 2025-09-14 20:38:45,931] Trial 27 finished with value: 0.7833811573409851 and parameters: {'n_estimators': 136, 'max_depth': 16}. Best is trial 9 with value: 0.7866650725330784.\n",
      "[I 2025-09-14 20:38:46,217] Trial 28 finished with value: 0.7752431053722302 and parameters: {'n_estimators': 100, 'max_depth': 11}. Best is trial 9 with value: 0.7866650725330784.\n",
      "[I 2025-09-14 20:38:46,537] Trial 29 finished with value: 0.780121154152718 and parameters: {'n_estimators': 114, 'max_depth': 9}. Best is trial 9 with value: 0.7866650725330784.\n",
      "[I 2025-09-14 20:38:46,747] Trial 30 finished with value: 0.7866491311971943 and parameters: {'n_estimators': 73, 'max_depth': 13}. Best is trial 9 with value: 0.7866650725330784.\n",
      "[I 2025-09-14 20:38:46,950] Trial 31 finished with value: 0.783405069344811 and parameters: {'n_estimators': 71, 'max_depth': 13}. Best is trial 9 with value: 0.7866650725330784.\n",
      "[I 2025-09-14 20:38:47,121] Trial 32 finished with value: 0.7801370954886019 and parameters: {'n_estimators': 59, 'max_depth': 15}. Best is trial 9 with value: 0.7866650725330784.\n",
      "[I 2025-09-14 20:38:47,404] Trial 33 finished with value: 0.78012912482066 and parameters: {'n_estimators': 99, 'max_depth': 17}. Best is trial 9 with value: 0.7866650725330784.\n",
      "[I 2025-09-14 20:38:47,623] Trial 34 finished with value: 0.7833731866730432 and parameters: {'n_estimators': 77, 'max_depth': 10}. Best is trial 9 with value: 0.7866650725330784.\n",
      "[I 2025-09-14 20:38:48,043] Trial 35 finished with value: 0.7784951378925554 and parameters: {'n_estimators': 148, 'max_depth': 13}. Best is trial 9 with value: 0.7866650725330784.\n",
      "[I 2025-09-14 20:38:48,422] Trial 36 finished with value: 0.7866411605292524 and parameters: {'n_estimators': 134, 'max_depth': 14}. Best is trial 9 with value: 0.7866650725330784.\n",
      "[I 2025-09-14 20:38:48,674] Trial 37 finished with value: 0.7882831181252988 and parameters: {'n_estimators': 88, 'max_depth': 12}. Best is trial 37 with value: 0.7882831181252988.\n",
      "[I 2025-09-14 20:38:48,932] Trial 38 finished with value: 0.7589510600988363 and parameters: {'n_estimators': 90, 'max_depth': 7}. Best is trial 37 with value: 0.7882831181252988.\n",
      "[I 2025-09-14 20:38:49,370] Trial 39 finished with value: 0.7817391997449387 and parameters: {'n_estimators': 159, 'max_depth': 12}. Best is trial 37 with value: 0.7882831181252988.\n",
      "[I 2025-09-14 20:38:49,732] Trial 40 finished with value: 0.7817631117487646 and parameters: {'n_estimators': 128, 'max_depth': 17}. Best is trial 37 with value: 0.7882831181252988.\n",
      "[I 2025-09-14 20:38:49,969] Trial 41 finished with value: 0.7719910728519049 and parameters: {'n_estimators': 84, 'max_depth': 11}. Best is trial 37 with value: 0.7882831181252988.\n",
      "[I 2025-09-14 20:38:50,128] Trial 42 finished with value: 0.7850390562729158 and parameters: {'n_estimators': 51, 'max_depth': 12}. Best is trial 37 with value: 0.7882831181252988.\n",
      "[I 2025-09-14 20:38:50,330] Trial 43 finished with value: 0.7833891280089271 and parameters: {'n_estimators': 70, 'max_depth': 14}. Best is trial 37 with value: 0.7882831181252988.\n",
      "[I 2025-09-14 20:38:50,643] Trial 44 finished with value: 0.7882751474573569 and parameters: {'n_estimators': 108, 'max_depth': 15}. Best is trial 37 with value: 0.7882831181252988.\n",
      "[I 2025-09-14 20:38:50,897] Trial 45 finished with value: 0.744293001753547 and parameters: {'n_estimators': 108, 'max_depth': 3}. Best is trial 37 with value: 0.7882831181252988.\n",
      "[I 2025-09-14 20:38:51,242] Trial 46 finished with value: 0.7801370954886019 and parameters: {'n_estimators': 119, 'max_depth': 19}. Best is trial 37 with value: 0.7882831181252988.\n",
      "[I 2025-09-14 20:38:51,645] Trial 47 finished with value: 0.7817551410808226 and parameters: {'n_estimators': 140, 'max_depth': 16}. Best is trial 37 with value: 0.7882831181252988.\n",
      "[I 2025-09-14 20:38:51,919] Trial 48 finished with value: 0.7817551410808226 and parameters: {'n_estimators': 96, 'max_depth': 15}. Best is trial 37 with value: 0.7882831181252988.\n",
      "[I 2025-09-14 20:38:52,287] Trial 49 finished with value: 0.7833891280089271 and parameters: {'n_estimators': 129, 'max_depth': 17}. Best is trial 37 with value: 0.7882831181252988.\n"
     ]
    }
   ],
   "source": [
    "#create a study object and optimize the function\n",
    "\n",
    "study = optuna.create_study(direction=\"maximize\",sampler=optuna.samplers.TPESampler())\n",
    "#we aim to maximize the accuracy of the model\n",
    "\n",
    "study.optimize(objective, n_trials=50)\n",
    "\n"
   ]
  },
  {
   "cell_type": "code",
   "execution_count": 10,
   "id": "16150d9e",
   "metadata": {},
   "outputs": [
    {
     "name": "stdout",
     "output_type": "stream",
     "text": [
      "Best trial accuracy: 0.7882831181252988\n",
      "Best hyperparameters: {'n_estimators': 88, 'max_depth': 12}\n"
     ]
    }
   ],
   "source": [
    "\n",
    "# Print the best result\n",
    "print(f'Best trial accuracy: {study.best_trial.value}')\n",
    "print(f'Best hyperparameters: {study.best_trial.params}')"
   ]
  },
  {
   "cell_type": "code",
   "execution_count": 15,
   "id": "47318608",
   "metadata": {},
   "outputs": [
    {
     "name": "stdout",
     "output_type": "stream",
     "text": [
      "Accuracy: 0.7727\n"
     ]
    }
   ],
   "source": [
    "from sklearn.metrics import accuracy_score\n",
    "\n",
    "#Train a RandomForestClassifier Using the best hyperparameters from optuna \n",
    "\n",
    "best_model= RandomForestClassifier(**study.best_trial.params,random_state=42)\n",
    "best_model.fit(X_train, y_train)\n",
    "\n",
    "#Make predictions\n",
    "y_pred= best_model.predict(X_test)\n",
    "\n",
    "#Calculate accuracy\n",
    "test_accuracy= accuracy_score(y_test, y_pred)\n",
    "print(f\"Accuracy: {test_accuracy:.4f}\")"
   ]
  },
  {
   "cell_type": "code",
   "execution_count": 16,
   "id": "c7564bff",
   "metadata": {},
   "outputs": [],
   "source": [
    "from sklearn.ensemble import RandomForestClassifier\n",
    "from sklearn.model_selection import cross_val_score\n",
    "\n",
    "# Define the objective function\n",
    "def objective(trial):\n",
    "    # Suggest values for the hyperparameters\n",
    "    n_estimators = trial.suggest_int('n_estimators', 50, 200)\n",
    "    max_depth = trial.suggest_int('max_depth', 3, 20)\n",
    "\n",
    "    # Create the RandomForestClassifier with suggested hyperparameters\n",
    "    model = RandomForestClassifier(\n",
    "        n_estimators=n_estimators,\n",
    "        max_depth=max_depth,\n",
    "        random_state=42\n",
    "    )\n",
    "\n",
    "    # Perform 3-fold cross-validation and calculate accuracy\n",
    "    score = cross_val_score(model, X_train, y_train, cv=3, scoring='accuracy').mean()\n",
    "\n",
    "    return score  # Return the accuracy score for Optuna to maximize\n"
   ]
  },
  {
   "cell_type": "code",
   "execution_count": 17,
   "id": "3e139a92",
   "metadata": {},
   "outputs": [
    {
     "name": "stderr",
     "output_type": "stream",
     "text": [
      "[I 2025-09-14 20:41:51,621] A new study created in memory with name: no-name-00ae4375-141e-435b-bb10-4c0c0b738616\n",
      "[I 2025-09-14 20:41:51,977] Trial 0 finished with value: 0.7882751474573569 and parameters: {'n_estimators': 132, 'max_depth': 15}. Best is trial 0 with value: 0.7882751474573569.\n",
      "[I 2025-09-14 20:41:52,282] Trial 1 finished with value: 0.7703411445879165 and parameters: {'n_estimators': 120, 'max_depth': 7}. Best is trial 0 with value: 0.7882751474573569.\n",
      "[I 2025-09-14 20:41:52,422] Trial 2 finished with value: 0.7670811413996493 and parameters: {'n_estimators': 56, 'max_depth': 6}. Best is trial 0 with value: 0.7882751474573569.\n",
      "[I 2025-09-14 20:41:52,708] Trial 3 finished with value: 0.7736170891120676 and parameters: {'n_estimators': 99, 'max_depth': 9}. Best is trial 0 with value: 0.7882751474573569.\n",
      "[I 2025-09-14 20:41:53,009] Trial 4 finished with value: 0.7882671767894149 and parameters: {'n_estimators': 98, 'max_depth': 14}. Best is trial 0 with value: 0.7882751474573569.\n",
      "[I 2025-09-14 20:41:53,217] Trial 5 finished with value: 0.7719910728519049 and parameters: {'n_estimators': 71, 'max_depth': 18}. Best is trial 0 with value: 0.7882751474573569.\n",
      "[I 2025-09-14 20:41:53,644] Trial 6 finished with value: 0.7817471704128806 and parameters: {'n_estimators': 152, 'max_depth': 20}. Best is trial 0 with value: 0.7882751474573569.\n",
      "[I 2025-09-14 20:41:53,956] Trial 7 finished with value: 0.7833891280089271 and parameters: {'n_estimators': 110, 'max_depth': 18}. Best is trial 0 with value: 0.7882751474573569.\n",
      "[I 2025-09-14 20:41:54,313] Trial 8 finished with value: 0.7817631117487646 and parameters: {'n_estimators': 126, 'max_depth': 20}. Best is trial 0 with value: 0.7882751474573569.\n",
      "[I 2025-09-14 20:41:54,798] Trial 9 finished with value: 0.7817551410808226 and parameters: {'n_estimators': 171, 'max_depth': 15}. Best is trial 0 with value: 0.7882751474573569.\n",
      "[I 2025-09-14 20:41:55,364] Trial 10 finished with value: 0.7833731866730432 and parameters: {'n_estimators': 196, 'max_depth': 11}. Best is trial 0 with value: 0.7882751474573569.\n",
      "[I 2025-09-14 20:41:55,822] Trial 11 finished with value: 0.7736011477761836 and parameters: {'n_estimators': 165, 'max_depth': 9}. Best is trial 0 with value: 0.7882751474573569.\n",
      "[I 2025-09-14 20:41:56,195] Trial 12 finished with value: 0.7785110792284393 and parameters: {'n_estimators': 134, 'max_depth': 20}. Best is trial 0 with value: 0.7882751474573569.\n",
      "[I 2025-09-14 20:41:56,461] Trial 13 finished with value: 0.7735931771082417 and parameters: {'n_estimators': 98, 'max_depth': 8}. Best is trial 0 with value: 0.7882751474573569.\n",
      "[I 2025-09-14 20:41:56,610] Trial 14 finished with value: 0.7638291088793241 and parameters: {'n_estimators': 54, 'max_depth': 7}. Best is trial 0 with value: 0.7882751474573569.\n",
      "[I 2025-09-14 20:41:56,954] Trial 15 finished with value: 0.7670891120675912 and parameters: {'n_estimators': 128, 'max_depth': 7}. Best is trial 0 with value: 0.7882751474573569.\n",
      "[I 2025-09-14 20:41:57,280] Trial 16 finished with value: 0.7850231149370317 and parameters: {'n_estimators': 115, 'max_depth': 14}. Best is trial 0 with value: 0.7882751474573569.\n",
      "[I 2025-09-14 20:41:57,513] Trial 17 finished with value: 0.7573011318348478 and parameters: {'n_estimators': 99, 'max_depth': 4}. Best is trial 0 with value: 0.7882751474573569.\n",
      "[I 2025-09-14 20:41:57,978] Trial 18 finished with value: 0.7784951378925554 and parameters: {'n_estimators': 166, 'max_depth': 12}. Best is trial 0 with value: 0.7882751474573569.\n",
      "[I 2025-09-14 20:41:58,150] Trial 19 finished with value: 0.7703650565917424 and parameters: {'n_estimators': 63, 'max_depth': 17}. Best is trial 0 with value: 0.7882751474573569.\n",
      "[I 2025-09-14 20:41:58,390] Trial 20 finished with value: 0.7752590467081141 and parameters: {'n_estimators': 86, 'max_depth': 17}. Best is trial 0 with value: 0.7882751474573569.\n",
      "[I 2025-09-14 20:41:58,673] Trial 21 finished with value: 0.7687230989956958 and parameters: {'n_estimators': 113, 'max_depth': 6}. Best is trial 0 with value: 0.7882751474573569.\n",
      "[I 2025-09-14 20:41:59,153] Trial 22 finished with value: 0.7817391997449387 and parameters: {'n_estimators': 181, 'max_depth': 11}. Best is trial 0 with value: 0.7882751474573569.\n",
      "[I 2025-09-14 20:41:59,602] Trial 23 finished with value: 0.760561135023115 and parameters: {'n_estimators': 189, 'max_depth': 4}. Best is trial 0 with value: 0.7882751474573569.\n",
      "[I 2025-09-14 20:42:00,064] Trial 24 finished with value: 0.760561135023115 and parameters: {'n_estimators': 193, 'max_depth': 4}. Best is trial 0 with value: 0.7882751474573569.\n",
      "[I 2025-09-14 20:42:00,320] Trial 25 finished with value: 0.7638051968754982 and parameters: {'n_estimators': 102, 'max_depth': 5}. Best is trial 0 with value: 0.7882751474573569.\n",
      "[I 2025-09-14 20:42:00,779] Trial 26 finished with value: 0.7784871672246134 and parameters: {'n_estimators': 162, 'max_depth': 18}. Best is trial 0 with value: 0.7882751474573569.\n",
      "[I 2025-09-14 20:42:00,978] Trial 27 finished with value: 0.7719990435198469 and parameters: {'n_estimators': 65, 'max_depth': 16}. Best is trial 0 with value: 0.7882751474573569.\n",
      "[I 2025-09-14 20:42:01,191] Trial 28 finished with value: 0.7817710824167065 and parameters: {'n_estimators': 77, 'max_depth': 15}. Best is trial 0 with value: 0.7882751474573569.\n",
      "[I 2025-09-14 20:42:01,689] Trial 29 finished with value: 0.78012912482066 and parameters: {'n_estimators': 185, 'max_depth': 20}. Best is trial 0 with value: 0.7882751474573569.\n",
      "[I 2025-09-14 20:42:01,925] Trial 30 finished with value: 0.7752191933684043 and parameters: {'n_estimators': 86, 'max_depth': 8}. Best is trial 0 with value: 0.7882751474573569.\n",
      "[I 2025-09-14 20:42:02,248] Trial 31 finished with value: 0.7850231149370317 and parameters: {'n_estimators': 112, 'max_depth': 20}. Best is trial 0 with value: 0.7882751474573569.\n",
      "[I 2025-09-14 20:42:02,622] Trial 32 finished with value: 0.7573170731707317 and parameters: {'n_estimators': 153, 'max_depth': 4}. Best is trial 0 with value: 0.7882751474573569.\n",
      "[I 2025-09-14 20:42:03,064] Trial 33 finished with value: 0.780121154152718 and parameters: {'n_estimators': 156, 'max_depth': 19}. Best is trial 0 with value: 0.7882751474573569.\n",
      "[I 2025-09-14 20:42:03,354] Trial 34 finished with value: 0.7687151283277539 and parameters: {'n_estimators': 114, 'max_depth': 6}. Best is trial 0 with value: 0.7882751474573569.\n",
      "[I 2025-09-14 20:42:03,820] Trial 35 finished with value: 0.7817551410808226 and parameters: {'n_estimators': 171, 'max_depth': 15}. Best is trial 0 with value: 0.7882751474573569.\n",
      "[I 2025-09-14 20:42:04,100] Trial 36 finished with value: 0.7866411605292524 and parameters: {'n_estimators': 100, 'max_depth': 14}. Best is trial 0 with value: 0.7882751474573569.\n",
      "[I 2025-09-14 20:42:04,629] Trial 37 finished with value: 0.78012912482066 and parameters: {'n_estimators': 191, 'max_depth': 20}. Best is trial 0 with value: 0.7882751474573569.\n",
      "[I 2025-09-14 20:42:04,812] Trial 38 finished with value: 0.7589351187629524 and parameters: {'n_estimators': 73, 'max_depth': 4}. Best is trial 0 with value: 0.7882751474573569.\n",
      "[I 2025-09-14 20:42:05,061] Trial 39 finished with value: 0.7621791806153356 and parameters: {'n_estimators': 100, 'max_depth': 5}. Best is trial 0 with value: 0.7882751474573569.\n",
      "[I 2025-09-14 20:42:05,371] Trial 40 finished with value: 0.7687151283277539 and parameters: {'n_estimators': 115, 'max_depth': 6}. Best is trial 0 with value: 0.7882751474573569.\n",
      "[I 2025-09-14 20:42:05,550] Trial 41 finished with value: 0.7736330304479515 and parameters: {'n_estimators': 61, 'max_depth': 18}. Best is trial 0 with value: 0.7882751474573569.\n",
      "[I 2025-09-14 20:42:06,057] Trial 42 finished with value: 0.760561135023115 and parameters: {'n_estimators': 200, 'max_depth': 4}. Best is trial 0 with value: 0.7882751474573569.\n",
      "[I 2025-09-14 20:42:06,428] Trial 43 finished with value: 0.7834130400127531 and parameters: {'n_estimators': 125, 'max_depth': 13}. Best is trial 0 with value: 0.7882751474573569.\n",
      "[I 2025-09-14 20:42:06,859] Trial 44 finished with value: 0.7817631117487646 and parameters: {'n_estimators': 142, 'max_depth': 14}. Best is trial 0 with value: 0.7882751474573569.\n",
      "[I 2025-09-14 20:42:07,302] Trial 45 finished with value: 0.7703252032520326 and parameters: {'n_estimators': 174, 'max_depth': 5}. Best is trial 0 with value: 0.7882751474573569.\n",
      "[I 2025-09-14 20:42:07,460] Trial 46 finished with value: 0.7833970986768691 and parameters: {'n_estimators': 55, 'max_depth': 13}. Best is trial 0 with value: 0.7882751474573569.\n",
      "[I 2025-09-14 20:42:07,697] Trial 47 finished with value: 0.7735931771082417 and parameters: {'n_estimators': 87, 'max_depth': 8}. Best is trial 0 with value: 0.7882751474573569.\n",
      "[I 2025-09-14 20:42:07,930] Trial 48 finished with value: 0.7817471704128806 and parameters: {'n_estimators': 83, 'max_depth': 9}. Best is trial 0 with value: 0.7882751474573569.\n",
      "[I 2025-09-14 20:42:08,141] Trial 49 finished with value: 0.7589271480950104 and parameters: {'n_estimators': 84, 'max_depth': 4}. Best is trial 0 with value: 0.7882751474573569.\n"
     ]
    }
   ],
   "source": [
    "study = optuna.create_study(direction='maximize', sampler=optuna.samplers.RandomSampler())  # We aim to maximize accuracy\n",
    "study.optimize(objective, n_trials=50)  # Run 50 trials to find the best hyperparameters"
   ]
  },
  {
   "cell_type": "code",
   "execution_count": 18,
   "id": "5ecfd792",
   "metadata": {},
   "outputs": [
    {
     "name": "stdout",
     "output_type": "stream",
     "text": [
      "Best trial accuracy: 0.7882751474573569\n",
      "Best hyperparameters: {'n_estimators': 132, 'max_depth': 15}\n"
     ]
    }
   ],
   "source": [
    "\n",
    "# Print the best result\n",
    "print(f'Best trial accuracy: {study.best_trial.value}')\n",
    "print(f'Best hyperparameters: {study.best_trial.params}')"
   ]
  },
  {
   "cell_type": "code",
   "execution_count": 19,
   "id": "c710353d",
   "metadata": {},
   "outputs": [
    {
     "name": "stdout",
     "output_type": "stream",
     "text": [
      "Test Accuracy with best hyperparameters: 0.75\n"
     ]
    }
   ],
   "source": [
    "from sklearn.metrics import accuracy_score\n",
    "\n",
    "# Train a RandomForestClassifier using the best hyperparameters from Optuna\n",
    "best_model = RandomForestClassifier(**study.best_trial.params, random_state=42)\n",
    "\n",
    "# Fit the model to the training data\n",
    "best_model.fit(X_train, y_train)\n",
    "\n",
    "# Make predictions on the test set\n",
    "y_pred = best_model.predict(X_test)\n",
    "\n",
    "# Calculate the accuracy on the test set\n",
    "test_accuracy = accuracy_score(y_test, y_pred)\n",
    "\n",
    "# Print the test accuracy\n",
    "print(f'Test Accuracy with best hyperparameters: {test_accuracy:.2f}')\n"
   ]
  },
  {
   "cell_type": "code",
   "execution_count": 20,
   "id": "7fc92c7b",
   "metadata": {},
   "outputs": [],
   "source": [
    "search_space = {\n",
    "    'n_estimators': [50, 100, 150, 200],\n",
    "    'max_depth': [5, 10, 15, 20]\n",
    "}"
   ]
  },
  {
   "cell_type": "code",
   "execution_count": 21,
   "id": "a4dd00ab",
   "metadata": {},
   "outputs": [
    {
     "name": "stdout",
     "output_type": "stream",
     "text": [
      "Best trial accuracy: 0.7882751474573569\n",
      "Best hyperparameters: {'n_estimators': 132, 'max_depth': 15}\n"
     ]
    }
   ],
   "source": [
    "\n",
    "# Print the best result\n",
    "print(f'Best trial accuracy: {study.best_trial.value}')\n",
    "print(f'Best hyperparameters: {study.best_trial.params}')"
   ]
  },
  {
   "cell_type": "code",
   "execution_count": 22,
   "id": "5493f88d",
   "metadata": {},
   "outputs": [
    {
     "name": "stdout",
     "output_type": "stream",
     "text": [
      "Test Accuracy with best hyperparameters: 0.75\n"
     ]
    }
   ],
   "source": [
    "from sklearn.metrics import accuracy_score\n",
    "\n",
    "# Train a RandomForestClassifier using the best hyperparameters from Optuna\n",
    "best_model = RandomForestClassifier(**study.best_trial.params, random_state=42)\n",
    "\n",
    "# Fit the model to the training data\n",
    "best_model.fit(X_train, y_train)\n",
    "\n",
    "# Make predictions on the test set\n",
    "y_pred = best_model.predict(X_test)\n",
    "\n",
    "# Calculate the accuracy on the test set\n",
    "test_accuracy = accuracy_score(y_test, y_pred)\n",
    "\n",
    "# Print the test accuracy\n",
    "print(f'Test Accuracy with best hyperparameters: {test_accuracy:.2f}')\n"
   ]
  },
  {
   "cell_type": "markdown",
   "id": "e225c232",
   "metadata": {},
   "source": [
    "Optuna Visualization"
   ]
  },
  {
   "cell_type": "code",
   "execution_count": 32,
   "id": "a5ff6ed7",
   "metadata": {},
   "outputs": [],
   "source": [
    "# %pip install plotly\n",
    "import plotly"
   ]
  },
  {
   "cell_type": "code",
   "execution_count": 33,
   "id": "8eb39441",
   "metadata": {},
   "outputs": [],
   "source": [
    "# For visualizations\n",
    "from optuna.visualization import plot_optimization_history, plot_parallel_coordinate, plot_slice, plot_contour, plot_param_importances"
   ]
  },
  {
   "cell_type": "code",
   "execution_count": 66,
   "id": "a0c6574f",
   "metadata": {},
   "outputs": [
    {
     "name": "stdout",
     "output_type": "stream",
     "text": [
      "Requirement already satisfied: plotly in d:\\programming\\learn_pytorch_for_deep_learning\\.env\\lib\\site-packages (6.3.0)Note: you may need to restart the kernel to use updated packages.\n",
      "\n",
      "Requirement already satisfied: narwhals>=1.15.1 in d:\\programming\\learn_pytorch_for_deep_learning\\.env\\lib\\site-packages (from plotly) (2.5.0)\n",
      "Requirement already satisfied: packaging in d:\\programming\\learn_pytorch_for_deep_learning\\.env\\lib\\site-packages (from plotly) (25.0)\n"
     ]
    }
   ],
   "source": [
    "%pip install --upgrade plotly"
   ]
  },
  {
   "cell_type": "code",
   "execution_count": 69,
   "id": "3c65053e",
   "metadata": {},
   "outputs": [
    {
     "name": "stdout",
     "output_type": "stream",
     "text": [
      "d:\\Programming\\Learn_Pytorch_for_deep_learning\\.env\\Scripts\\python.exe\n"
     ]
    }
   ],
   "source": [
    "import sys\n",
    "print(sys.executable)\n"
   ]
  },
  {
   "cell_type": "code",
   "execution_count": 71,
   "id": "6f0b79bf",
   "metadata": {},
   "outputs": [
    {
     "name": "stdout",
     "output_type": "stream",
     "text": [
      "Requirement already satisfied: optuna[visualization] in d:\\programming\\learn_pytorch_for_deep_learning\\.env\\lib\\site-packages (4.5.0)\n",
      "Requirement already satisfied: alembic>=1.5.0 in d:\\programming\\learn_pytorch_for_deep_learning\\.env\\lib\\site-packages (from optuna[visualization]) (1.16.5)\n",
      "Requirement already satisfied: colorlog in d:\\programming\\learn_pytorch_for_deep_learning\\.env\\lib\\site-packages (from optuna[visualization]) (6.9.0)\n",
      "Requirement already satisfied: numpy in d:\\programming\\learn_pytorch_for_deep_learning\\.env\\lib\\site-packages (from optuna[visualization]) (2.1.2)\n",
      "Requirement already satisfied: packaging>=20.0 in d:\\programming\\learn_pytorch_for_deep_learning\\.env\\lib\\site-packages (from optuna[visualization]) (25.0)\n",
      "Requirement already satisfied: sqlalchemy>=1.4.2 in d:\\programming\\learn_pytorch_for_deep_learning\\.env\\lib\\site-packages (from optuna[visualization]) (2.0.43)\n",
      "Requirement already satisfied: tqdm in d:\\programming\\learn_pytorch_for_deep_learning\\.env\\lib\\site-packages (from optuna[visualization]) (4.67.1)\n",
      "Requirement already satisfied: PyYAML in d:\\programming\\learn_pytorch_for_deep_learning\\.env\\lib\\site-packages (from optuna[visualization]) (6.0.2)\n",
      "Requirement already satisfied: Mako in d:\\programming\\learn_pytorch_for_deep_learning\\.env\\lib\\site-packages (from alembic>=1.5.0->optuna[visualization]) (1.3.10)\n",
      "Requirement already satisfied: typing-extensions>=4.12 in d:\\programming\\learn_pytorch_for_deep_learning\\.env\\lib\\site-packages (from alembic>=1.5.0->optuna[visualization]) (4.15.0)\n",
      "Requirement already satisfied: tomli in d:\\programming\\learn_pytorch_for_deep_learning\\.env\\lib\\site-packages (from alembic>=1.5.0->optuna[visualization]) (2.2.1)\n",
      "Requirement already satisfied: greenlet>=1 in d:\\programming\\learn_pytorch_for_deep_learning\\.env\\lib\\site-packages (from sqlalchemy>=1.4.2->optuna[visualization]) (3.2.4)\n",
      "Requirement already satisfied: colorama in d:\\programming\\learn_pytorch_for_deep_learning\\.env\\lib\\site-packages (from colorlog->optuna[visualization]) (0.4.6)\n",
      "Requirement already satisfied: MarkupSafe>=0.9.2 in d:\\programming\\learn_pytorch_for_deep_learning\\.env\\lib\\site-packages (from Mako->alembic>=1.5.0->optuna[visualization]) (2.1.5)\n",
      "Note: you may need to restart the kernel to use updated packages.\n"
     ]
    },
    {
     "name": "stderr",
     "output_type": "stream",
     "text": [
      "WARNING: optuna 4.5.0 does not provide the extra 'visualization'\n"
     ]
    }
   ],
   "source": [
    "%pip install \"optuna[visualization]\"\n"
   ]
  },
  {
   "cell_type": "code",
   "execution_count": 70,
   "id": "0d928e9e",
   "metadata": {},
   "outputs": [
    {
     "ename": "ImportError",
     "evalue": "Tried to import 'plotly' but failed. Please make sure that the package is installed correctly to use this feature. Actual error: No module named 'plotly'.",
     "output_type": "error",
     "traceback": [
      "\u001b[1;31m---------------------------------------------------------------------------\u001b[0m",
      "\u001b[1;31mModuleNotFoundError\u001b[0m                       Traceback (most recent call last)",
      "File \u001b[1;32md:\\Programming\\Learn_Pytorch_for_deep_learning\\.env\\lib\\site-packages\\optuna\\visualization\\_plotly_imports.py:7\u001b[0m\n\u001b[0;32m      6\u001b[0m \u001b[38;5;28;01mwith\u001b[39;00m try_import() \u001b[38;5;28;01mas\u001b[39;00m _imports:\n\u001b[1;32m----> 7\u001b[0m     \u001b[38;5;28;01mimport\u001b[39;00m\u001b[38;5;250m \u001b[39m\u001b[38;5;21;01mplotly\u001b[39;00m\n\u001b[0;32m      8\u001b[0m     \u001b[38;5;28;01mfrom\u001b[39;00m\u001b[38;5;250m \u001b[39m\u001b[38;5;21;01mplotly\u001b[39;00m\u001b[38;5;250m \u001b[39m\u001b[38;5;28;01mimport\u001b[39;00m __version__ \u001b[38;5;28;01mas\u001b[39;00m plotly_version\n",
      "\u001b[1;31mModuleNotFoundError\u001b[0m: No module named 'plotly'",
      "\nThe above exception was the direct cause of the following exception:\n",
      "\u001b[1;31mImportError\u001b[0m                               Traceback (most recent call last)",
      "Cell \u001b[1;32mIn[70], line 2\u001b[0m\n\u001b[0;32m      1\u001b[0m \u001b[38;5;66;03m# 1. Optimization History\u001b[39;00m\n\u001b[1;32m----> 2\u001b[0m \u001b[43mplot_optimization_history\u001b[49m\u001b[43m(\u001b[49m\u001b[43mstudy\u001b[49m\u001b[43m)\u001b[49m\u001b[38;5;241m.\u001b[39mshow()\n",
      "File \u001b[1;32md:\\Programming\\Learn_Pytorch_for_deep_learning\\.env\\lib\\site-packages\\optuna\\visualization\\_optimization_history.py:200\u001b[0m, in \u001b[0;36mplot_optimization_history\u001b[1;34m(study, target, target_name, error_bar)\u001b[0m\n\u001b[0;32m    172\u001b[0m \u001b[38;5;28;01mdef\u001b[39;00m\u001b[38;5;250m \u001b[39m\u001b[38;5;21mplot_optimization_history\u001b[39m(\n\u001b[0;32m    173\u001b[0m     study: Study \u001b[38;5;241m|\u001b[39m Sequence[Study],\n\u001b[0;32m    174\u001b[0m     \u001b[38;5;241m*\u001b[39m,\n\u001b[1;32m   (...)\u001b[0m\n\u001b[0;32m    177\u001b[0m     error_bar: \u001b[38;5;28mbool\u001b[39m \u001b[38;5;241m=\u001b[39m \u001b[38;5;28;01mFalse\u001b[39;00m,\n\u001b[0;32m    178\u001b[0m ) \u001b[38;5;241m-\u001b[39m\u001b[38;5;241m>\u001b[39m \u001b[38;5;124m\"\u001b[39m\u001b[38;5;124mgo.Figure\u001b[39m\u001b[38;5;124m\"\u001b[39m:\n\u001b[0;32m    179\u001b[0m \u001b[38;5;250m    \u001b[39m\u001b[38;5;124;03m\"\"\"Plot optimization history of all trials in a study.\u001b[39;00m\n\u001b[0;32m    180\u001b[0m \n\u001b[0;32m    181\u001b[0m \u001b[38;5;124;03m    Args:\u001b[39;00m\n\u001b[1;32m   (...)\u001b[0m\n\u001b[0;32m    197\u001b[0m \u001b[38;5;124;03m        A :class:`plotly.graph_objects.Figure` object.\u001b[39;00m\n\u001b[0;32m    198\u001b[0m \u001b[38;5;124;03m    \"\"\"\u001b[39;00m\n\u001b[1;32m--> 200\u001b[0m     \u001b[43m_imports\u001b[49m\u001b[38;5;241;43m.\u001b[39;49m\u001b[43mcheck\u001b[49m\u001b[43m(\u001b[49m\u001b[43m)\u001b[49m\n\u001b[0;32m    202\u001b[0m     info_list \u001b[38;5;241m=\u001b[39m _get_optimization_history_info_list(study, target, target_name, error_bar)\n\u001b[0;32m    203\u001b[0m     \u001b[38;5;28;01mreturn\u001b[39;00m _get_optimization_history_plot(info_list, target_name)\n",
      "File \u001b[1;32md:\\Programming\\Learn_Pytorch_for_deep_learning\\.env\\lib\\site-packages\\optuna\\_imports.py:97\u001b[0m, in \u001b[0;36m_DeferredImportExceptionContextManager.check\u001b[1;34m(self)\u001b[0m\n\u001b[0;32m     95\u001b[0m \u001b[38;5;28;01mif\u001b[39;00m \u001b[38;5;28mself\u001b[39m\u001b[38;5;241m.\u001b[39m_deferred \u001b[38;5;129;01mis\u001b[39;00m \u001b[38;5;129;01mnot\u001b[39;00m \u001b[38;5;28;01mNone\u001b[39;00m:\n\u001b[0;32m     96\u001b[0m     exc_value, message \u001b[38;5;241m=\u001b[39m \u001b[38;5;28mself\u001b[39m\u001b[38;5;241m.\u001b[39m_deferred\n\u001b[1;32m---> 97\u001b[0m     \u001b[38;5;28;01mraise\u001b[39;00m \u001b[38;5;167;01mImportError\u001b[39;00m(message) \u001b[38;5;28;01mfrom\u001b[39;00m\u001b[38;5;250m \u001b[39m\u001b[38;5;21;01mexc_value\u001b[39;00m\n",
      "\u001b[1;31mImportError\u001b[0m: Tried to import 'plotly' but failed. Please make sure that the package is installed correctly to use this feature. Actual error: No module named 'plotly'."
     ]
    }
   ],
   "source": [
    "# 1. Optimization History\n",
    "plot_optimization_history(study).show()"
   ]
  },
  {
   "cell_type": "code",
   "execution_count": null,
   "id": "49b52627",
   "metadata": {},
   "outputs": [],
   "source": [
    "# 2. Parallel Coordinates Plot\n",
    "plot_parallel_coordinate(study).show()"
   ]
  },
  {
   "cell_type": "code",
   "execution_count": null,
   "id": "922b3d94",
   "metadata": {},
   "outputs": [],
   "source": [
    "# 3. Slice Plot\n",
    "plot_slice(study).show()"
   ]
  },
  {
   "cell_type": "code",
   "execution_count": null,
   "id": "24f7ad84",
   "metadata": {},
   "outputs": [],
   "source": [
    "# 4. Contour Plot\n",
    "plot_contour(study).show()"
   ]
  }
 ],
 "metadata": {
  "kernelspec": {
   "display_name": ".env",
   "language": "python",
   "name": "python3"
  },
  "language_info": {
   "codemirror_mode": {
    "name": "ipython",
    "version": 3
   },
   "file_extension": ".py",
   "mimetype": "text/x-python",
   "name": "python",
   "nbconvert_exporter": "python",
   "pygments_lexer": "ipython3",
   "version": "3.10.11"
  }
 },
 "nbformat": 4,
 "nbformat_minor": 5
}
