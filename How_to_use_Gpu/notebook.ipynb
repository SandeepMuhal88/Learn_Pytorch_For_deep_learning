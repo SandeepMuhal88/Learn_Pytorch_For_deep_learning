{
 "cells": [
  {
   "cell_type": "code",
   "execution_count": 2,
   "id": "74596430",
   "metadata": {},
   "outputs": [
    {
     "name": "stdout",
     "output_type": "stream",
     "text": [
      "CUDA is available. Using GPU.\n",
      "Using device: NVIDIA GeForce RTX 4060 Laptop GPU\n"
     ]
    }
   ],
   "source": [
    "import torch\n",
    "\n",
    "# Check if CUDA is available\n",
    "if torch.cuda.is_available():\n",
    "    print(\"CUDA is available. Using GPU.\")\n",
    "    print(\"Using device:\", torch.cuda.get_device_name(0))\n",
    "else:\n",
    "    print(\"CUDA is not available. Using CPU.\")"
   ]
  },
  {
   "cell_type": "code",
   "execution_count": 4,
   "id": "48cdf6ae",
   "metadata": {},
   "outputs": [
    {
     "data": {
      "text/plain": [
       "tensor([[0.6413, 0.6084, 0.7021],\n",
       "        [0.2774, 0.1166, 0.7032]], device='cuda:0')"
      ]
     },
     "execution_count": 4,
     "metadata": {},
     "output_type": "execute_result"
    }
   ],
   "source": [
    "device=torch.device('cuda')\n",
    "torch.rand(2,3,device=device)"
   ]
  },
  {
   "cell_type": "code",
   "execution_count": 7,
   "id": "523c4f2f",
   "metadata": {},
   "outputs": [
    {
     "name": "stdout",
     "output_type": "stream",
     "text": [
      "Tensor x created on CPU: tensor([[0.2295, 0.5238, 0.7104],\n",
      "        [0.7387, 0.3531, 0.7192]])\n",
      "Tensor x moved to device: tensor([[0.2295, 0.5238, 0.7104],\n",
      "        [0.7387, 0.3531, 0.7192]], device='cuda:0')\n"
     ]
    }
   ],
   "source": [
    "# Moving tensors to GPU\n",
    "\n",
    "x = torch.rand(2, 3)\n",
    "print(\"Tensor x created on CPU:\", x)\n",
    "x = x.to(device)\n",
    "print(\"Tensor x moved to device:\", x)\n"
   ]
  },
  {
   "cell_type": "code",
   "execution_count": 8,
   "id": "8b6743b3",
   "metadata": {},
   "outputs": [
    {
     "data": {
      "text/plain": [
       "tensor([[8.2295, 8.5238, 8.7104],\n",
       "        [8.7387, 8.3531, 8.7192]], device='cuda:0')"
      ]
     },
     "execution_count": 8,
     "metadata": {},
     "output_type": "execute_result"
    }
   ],
   "source": [
    "x+8"
   ]
  },
  {
   "cell_type": "markdown",
   "id": "8cd1cf11",
   "metadata": {},
   "source": [
    "# We Comparision To CPU and GPU traing"
   ]
  },
  {
   "cell_type": "code",
   "execution_count": 13,
   "id": "65c5e5f5",
   "metadata": {},
   "outputs": [],
   "source": [
    "import time\n",
    "# Timing operations on GPU\n",
    "device = torch.device('cuda')\n",
    "size = 10000\n",
    "M1_CPU=torch.randn(size,size)\n",
    "M2_CPU=torch.randn(size,size)"
   ]
  },
  {
   "cell_type": "code",
   "execution_count": 14,
   "id": "141d0740",
   "metadata": {},
   "outputs": [
    {
     "name": "stdout",
     "output_type": "stream",
     "text": [
      "CPU operation time: 1.916344 seconds\n"
     ]
    }
   ],
   "source": [
    "# Measure time for CPU operation\n",
    "start_time = time.time()\n",
    "result_CPU = torch.matmul(M1_CPU, M2_CPU)\n",
    "end_time = time.time()\n",
    "print(f\"CPU operation time: {end_time - start_time:.6f} seconds\")"
   ]
  },
  {
   "cell_type": "code",
   "execution_count": 18,
   "id": "4a3a9218",
   "metadata": {},
   "outputs": [
    {
     "name": "stdout",
     "output_type": "stream",
     "text": [
      "GPU operation time: 0.000000 seconds\n"
     ]
    }
   ],
   "source": [
    "m1_GPU = M1_CPU.to(device)\n",
    "m2_GPU = M2_CPU.to(device)\n",
    "# Measure time for GPU operation\n",
    "start_time = time.time()\n",
    "result_GPU = torch.matmul(m1_GPU, m2_GPU)\n",
    "end_time = time.time()\n",
    "print(f\"GPU operation time: {end_time - start_time:.6f} seconds\")\n",
    "# Check if the results are the same"
   ]
  }
 ],
 "metadata": {
  "kernelspec": {
   "display_name": ".env",
   "language": "python",
   "name": "python3"
  },
  "language_info": {
   "codemirror_mode": {
    "name": "ipython",
    "version": 3
   },
   "file_extension": ".py",
   "mimetype": "text/x-python",
   "name": "python",
   "nbconvert_exporter": "python",
   "pygments_lexer": "ipython3",
   "version": "3.10.10"
  }
 },
 "nbformat": 4,
 "nbformat_minor": 5
}
