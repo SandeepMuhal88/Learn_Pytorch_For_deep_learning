{
 "cells": [
  {
   "cell_type": "code",
   "execution_count": null,
   "id": "d51b67fd",
   "metadata": {},
   "outputs": [],
   "source": [
    "import torch"
   ]
  }
 ],
 "metadata": {
  "kernelspec": {
   "display_name": ".env",
   "language": "python",
   "name": "python3"
  },
  "language_info": {
   "name": "python",
   "version": "3.10.10"
  }
 },
 "nbformat": 4,
 "nbformat_minor": 5
}
