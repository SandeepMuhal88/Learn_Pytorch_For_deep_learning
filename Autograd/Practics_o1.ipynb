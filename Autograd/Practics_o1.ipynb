{
 "cells": [
  {
   "cell_type": "code",
   "execution_count": 1,
   "id": "7ed0f417",
   "metadata": {},
   "outputs": [],
   "source": [
    "import torch"
   ]
  },
  {
   "cell_type": "code",
   "execution_count": 2,
   "id": "a6e6331e",
   "metadata": {},
   "outputs": [],
   "source": [
    "a=float(input(\"Enter a number: \"))\n",
    "x = torch.tensor(a, requires_grad=True)"
   ]
  },
  {
   "cell_type": "code",
   "execution_count": 3,
   "id": "e1062d4a",
   "metadata": {},
   "outputs": [],
   "source": [
    "# x= torch.tensor(a, requires_grad=True)\n",
    "\n",
    "# dy/dx = 3*x^3+2**x^2+x\n",
    "\n",
    "# y=3*x**3+2**x*2+x\n",
    "y = 3 * x**3 + 2 * x**2 + x"
   ]
  },
  {
   "cell_type": "code",
   "execution_count": 4,
   "id": "f29eed3d",
   "metadata": {},
   "outputs": [],
   "source": [
    "y.backward()"
   ]
  },
  {
   "cell_type": "code",
   "execution_count": 5,
   "id": "b0ed3d2f",
   "metadata": {},
   "outputs": [
    {
     "name": "stdout",
     "output_type": "stream",
     "text": [
      "Value of x: 3.0\n",
      "Value of y: 102.0\n",
      "Computed dy/dx: 94.0\n"
     ]
    }
   ],
   "source": [
    "# print(f\"Gradient of y with respect to x: {x.grad}\")\n",
    "print(f\"Value of x: {x.item()}\")\n",
    "print(f\"Value of y: {y.item()}\")\n",
    "print(f\"Computed dy/dx: {x.grad.item()}\")"
   ]
  },
  {
   "cell_type": "code",
   "execution_count": 6,
   "id": "f2f7f92d",
   "metadata": {},
   "outputs": [],
   "source": [
    "# How it works\n",
    "# requires_grad=True tells PyTorch to build a computation graph for x.\n",
    "\n",
    "# .backward() computes the gradients for all tensors with requires_grad=True.\n",
    "\n",
    "# x.grad stores the gradient of y with respect to x. dy/dx\n",
    "#  for the function y = 3*x^3 + 2*x^2 + x, the gradient is computed as dy/dx = 3*x^2 + 2*x + 1.\n",
    "# The output will show the value of x, the value of y, and the computed gradient dy/dx.\n",
    "\n",
    "# x=2\n",
    "\n",
    "# y=3*2**3+2*2**2+2=24+8+2=34\n"
   ]
  },
  {
   "cell_type": "code",
   "execution_count": 7,
   "id": "1f0d577d",
   "metadata": {},
   "outputs": [
    {
     "name": "stdout",
     "output_type": "stream",
     "text": [
      "x: tensor([1., 1., 1.], requires_grad=True)\n",
      "Gradients: tensor([2., 4., 6.])\n"
     ]
    }
   ],
   "source": [
    "# Vector example\n",
    "x = torch.ones(3, requires_grad=True)\n",
    "\n",
    "# Define a function: y = x1^2 + 2*x2^2 + 3*x3^2\n",
    "y = x[0]**2 + 2*x[1]**2 + 3*x[2]**2\n",
    "\n",
    "y.backward()\n",
    "\n",
    "print(f\"x: {x}\")\n",
    "print(f\"Gradients: {x.grad}\")  # Expected: [2*x1, 4*x2, 6*x3]\n"
   ]
  }
 ],
 "metadata": {
  "kernelspec": {
   "display_name": ".env (3.10.10)",
   "language": "python",
   "name": "python3"
  },
  "language_info": {
   "codemirror_mode": {
    "name": "ipython",
    "version": 3
   },
   "file_extension": ".py",
   "mimetype": "text/x-python",
   "name": "python",
   "nbconvert_exporter": "python",
   "pygments_lexer": "ipython3",
   "version": "3.10.11"
  }
 },
 "nbformat": 4,
 "nbformat_minor": 5
}
