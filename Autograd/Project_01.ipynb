{
 "cells": [
  {
   "cell_type": "markdown",
   "id": "dffe9b86",
   "metadata": {},
   "source": [
    "### Mini Project: Linear Regression with Autograd"
   ]
  },
  {
   "cell_type": "code",
   "execution_count": 1,
   "id": "fb021930",
   "metadata": {},
   "outputs": [],
   "source": [
    "import torch\n",
    "import torch.nn as nn"
   ]
  },
  {
   "cell_type": "code",
   "execution_count": 2,
   "id": "e0f4835a",
   "metadata": {},
   "outputs": [],
   "source": [
    "x=torch.tensor([[1.0],[2.0],[3.0],[4.0]]) \n",
    "y=torch.tensor([[5.0],[9.0],[6.0],[8.0]])"
   ]
  },
  {
   "cell_type": "code",
   "execution_count": 3,
   "id": "bc3af0b3",
   "metadata": {},
   "outputs": [
    {
     "data": {
      "text/plain": [
       "tensor([[1.],\n",
       "        [2.],\n",
       "        [3.],\n",
       "        [4.]])"
      ]
     },
     "execution_count": 3,
     "metadata": {},
     "output_type": "execute_result"
    }
   ],
   "source": [
    "x"
   ]
  },
  {
   "cell_type": "code",
   "execution_count": 4,
   "id": "ce2b1d09",
   "metadata": {},
   "outputs": [
    {
     "data": {
      "text/plain": [
       "tensor([[5.],\n",
       "        [9.],\n",
       "        [6.],\n",
       "        [8.]])"
      ]
     },
     "execution_count": 4,
     "metadata": {},
     "output_type": "execute_result"
    }
   ],
   "source": [
    "y"
   ]
  },
  {
   "cell_type": "code",
   "execution_count": 5,
   "id": "cd1ecbb1",
   "metadata": {},
   "outputs": [
    {
     "name": "stdout",
     "output_type": "stream",
     "text": [
      "Initial weight: 1.1427333354949951, Initial bias: 0.25232505798339844\n"
     ]
    }
   ],
   "source": [
    "w= torch.randn(1, requires_grad=True)\n",
    "b= torch.randn(1, requires_grad=True)\n",
    "print(f\"Initial weight: {w.item()}, Initial bias: {b.item()}\")"
   ]
  },
  {
   "cell_type": "code",
   "execution_count": 6,
   "id": "4efcb428",
   "metadata": {},
   "outputs": [
    {
     "data": {
      "text/plain": [
       "tensor([1.1427], requires_grad=True)"
      ]
     },
     "execution_count": 6,
     "metadata": {},
     "output_type": "execute_result"
    }
   ],
   "source": [
    "w"
   ]
  },
  {
   "cell_type": "code",
   "execution_count": 7,
   "id": "585c98aa",
   "metadata": {},
   "outputs": [],
   "source": [
    "lr=0.01\n",
    "epochs=1000"
   ]
  },
  {
   "cell_type": "code",
   "execution_count": 8,
   "id": "217c6f83",
   "metadata": {},
   "outputs": [
    {
     "name": "stdout",
     "output_type": "stream",
     "text": [
      "Epoch 10: w = 2.0281, b = 0.7139, loss = 6.231939\n",
      "Epoch 20: w = 2.1309, b = 0.9046, loss = 5.594164\n",
      "Epoch 30: w = 2.1090, b = 1.0483, loss = 5.377671\n",
      "Epoch 40: w = 2.0681, b = 1.1810, loss = 5.183720\n",
      "Epoch 50: w = 2.0254, b = 1.3088, loss = 5.001314\n",
      "Epoch 60: w = 1.9834, b = 1.4327, loss = 4.829532\n",
      "Epoch 70: w = 1.9425, b = 1.5528, loss = 4.667749\n",
      "Epoch 80: w = 1.9029, b = 1.6694, loss = 4.515382\n",
      "Epoch 90: w = 1.8644, b = 1.7826, loss = 4.371884\n",
      "Epoch 100: w = 1.8270, b = 1.8924, loss = 4.236739\n",
      "Epoch 110: w = 1.7908, b = 1.9989, loss = 4.109459\n",
      "Epoch 120: w = 1.7556, b = 2.1024, loss = 3.989588\n",
      "Epoch 130: w = 1.7215, b = 2.2027, loss = 3.876694\n",
      "Epoch 140: w = 1.6884, b = 2.3001, loss = 3.770371\n",
      "Epoch 150: w = 1.6562, b = 2.3946, loss = 3.670237\n",
      "Epoch 160: w = 1.6250, b = 2.4864, loss = 3.575930\n",
      "Epoch 170: w = 1.5947, b = 2.5754, loss = 3.487114\n",
      "Epoch 180: w = 1.5653, b = 2.6618, loss = 3.403466\n",
      "Epoch 190: w = 1.5368, b = 2.7456, loss = 3.324687\n",
      "Epoch 200: w = 1.5092, b = 2.8270, loss = 3.250494\n",
      "Epoch 210: w = 1.4823, b = 2.9059, loss = 3.180619\n",
      "Epoch 220: w = 1.4562, b = 2.9826, loss = 3.114811\n",
      "Epoch 230: w = 1.4309, b = 3.0569, loss = 3.052834\n",
      "Epoch 240: w = 1.4064, b = 3.1291, loss = 2.994463\n",
      "Epoch 250: w = 1.3826, b = 3.1991, loss = 2.939491\n",
      "Epoch 260: w = 1.3595, b = 3.2671, loss = 2.887717\n",
      "Epoch 270: w = 1.3370, b = 3.3330, loss = 2.838958\n",
      "Epoch 280: w = 1.3153, b = 3.3971, loss = 2.793037\n",
      "Epoch 290: w = 1.2941, b = 3.4592, loss = 2.749787\n",
      "Epoch 300: w = 1.2736, b = 3.5195, loss = 2.709056\n",
      "Epoch 310: w = 1.2537, b = 3.5780, loss = 2.670696\n",
      "Epoch 320: w = 1.2344, b = 3.6347, loss = 2.634568\n",
      "Epoch 330: w = 1.2157, b = 3.6898, loss = 2.600543\n",
      "Epoch 340: w = 1.1975, b = 3.7433, loss = 2.568498\n",
      "Epoch 350: w = 1.1798, b = 3.7952, loss = 2.538320\n",
      "Epoch 360: w = 1.1627, b = 3.8455, loss = 2.509897\n",
      "Epoch 370: w = 1.1461, b = 3.8944, loss = 2.483129\n",
      "Epoch 380: w = 1.1300, b = 3.9418, loss = 2.457919\n",
      "Epoch 390: w = 1.1143, b = 3.9879, loss = 2.434175\n",
      "Epoch 400: w = 1.0991, b = 4.0325, loss = 2.411815\n",
      "Epoch 410: w = 1.0844, b = 4.0759, loss = 2.390755\n",
      "Epoch 420: w = 1.0701, b = 4.1180, loss = 2.370921\n",
      "Epoch 430: w = 1.0562, b = 4.1588, loss = 2.352242\n",
      "Epoch 440: w = 1.0427, b = 4.1984, loss = 2.334650\n",
      "Epoch 450: w = 1.0296, b = 4.2368, loss = 2.318081\n",
      "Epoch 460: w = 1.0169, b = 4.2742, loss = 2.302478\n",
      "Epoch 470: w = 1.0046, b = 4.3104, loss = 2.287782\n",
      "Epoch 480: w = 0.9927, b = 4.3455, loss = 2.273942\n",
      "Epoch 490: w = 0.9811, b = 4.3796, loss = 2.260908\n",
      "Epoch 500: w = 0.9698, b = 4.4127, loss = 2.248632\n",
      "Epoch 510: w = 0.9589, b = 4.4448, loss = 2.237070\n",
      "Epoch 520: w = 0.9483, b = 4.4760, loss = 2.226181\n",
      "Epoch 530: w = 0.9380, b = 4.5062, loss = 2.215927\n",
      "Epoch 540: w = 0.9280, b = 4.5356, loss = 2.206269\n",
      "Epoch 550: w = 0.9183, b = 4.5641, loss = 2.197173\n",
      "Epoch 560: w = 0.9089, b = 4.5917, loss = 2.188607\n",
      "Epoch 570: w = 0.8998, b = 4.6186, loss = 2.180540\n",
      "Epoch 580: w = 0.8909, b = 4.6446, loss = 2.172941\n",
      "Epoch 590: w = 0.8823, b = 4.6699, loss = 2.165785\n",
      "Epoch 600: w = 0.8740, b = 4.6944, loss = 2.159046\n",
      "Epoch 610: w = 0.8659, b = 4.7182, loss = 2.152699\n",
      "Epoch 620: w = 0.8581, b = 4.7413, loss = 2.146721\n",
      "Epoch 630: w = 0.8504, b = 4.7637, loss = 2.141091\n",
      "Epoch 640: w = 0.8430, b = 4.7854, loss = 2.135790\n",
      "Epoch 650: w = 0.8359, b = 4.8065, loss = 2.130796\n",
      "Epoch 660: w = 0.8289, b = 4.8270, loss = 2.126093\n",
      "Epoch 670: w = 0.8221, b = 4.8469, loss = 2.121664\n",
      "Epoch 680: w = 0.8156, b = 4.8662, loss = 2.117494\n",
      "Epoch 690: w = 0.8092, b = 4.8849, loss = 2.113564\n",
      "Epoch 700: w = 0.8030, b = 4.9031, loss = 2.109865\n",
      "Epoch 710: w = 0.7970, b = 4.9207, loss = 2.106380\n",
      "Epoch 720: w = 0.7912, b = 4.9378, loss = 2.103099\n",
      "Epoch 730: w = 0.7856, b = 4.9544, loss = 2.100008\n",
      "Epoch 740: w = 0.7801, b = 4.9706, loss = 2.097098\n",
      "Epoch 750: w = 0.7748, b = 4.9862, loss = 2.094356\n",
      "Epoch 760: w = 0.7696, b = 5.0014, loss = 2.091775\n",
      "Epoch 770: w = 0.7646, b = 5.0161, loss = 2.089343\n",
      "Epoch 780: w = 0.7597, b = 5.0304, loss = 2.087053\n",
      "Epoch 790: w = 0.7550, b = 5.0443, loss = 2.084897\n",
      "Epoch 800: w = 0.7504, b = 5.0577, loss = 2.082865\n",
      "Epoch 810: w = 0.7460, b = 5.0708, loss = 2.080952\n",
      "Epoch 820: w = 0.7417, b = 5.0835, loss = 2.079150\n",
      "Epoch 830: w = 0.7375, b = 5.0958, loss = 2.077454\n",
      "Epoch 840: w = 0.7334, b = 5.1077, loss = 2.075856\n",
      "Epoch 850: w = 0.7295, b = 5.1193, loss = 2.074351\n",
      "Epoch 860: w = 0.7257, b = 5.1305, loss = 2.072933\n",
      "Epoch 870: w = 0.7219, b = 5.1415, loss = 2.071599\n",
      "Epoch 880: w = 0.7183, b = 5.1521, loss = 2.070342\n",
      "Epoch 890: w = 0.7148, b = 5.1623, loss = 2.069157\n",
      "Epoch 900: w = 0.7115, b = 5.1723, loss = 2.068042\n",
      "Epoch 910: w = 0.7082, b = 5.1820, loss = 2.066992\n",
      "Epoch 920: w = 0.7050, b = 5.1914, loss = 2.066003\n",
      "Epoch 930: w = 0.7019, b = 5.2005, loss = 2.065072\n",
      "Epoch 940: w = 0.6989, b = 5.2093, loss = 2.064195\n",
      "Epoch 950: w = 0.6959, b = 5.2179, loss = 2.063368\n",
      "Epoch 960: w = 0.6931, b = 5.2263, loss = 2.062590\n",
      "Epoch 970: w = 0.6904, b = 5.2343, loss = 2.061857\n",
      "Epoch 980: w = 0.6877, b = 5.2422, loss = 2.061167\n",
      "Epoch 990: w = 0.6851, b = 5.2498, loss = 2.060517\n",
      "Epoch 1000: w = 0.6826, b = 5.2572, loss = 2.059905\n"
     ]
    }
   ],
   "source": [
    "#Training loop\n",
    "\n",
    "for epoch in range(epochs): \n",
    "    # Forward pass: predict y\n",
    "    y_pred = x * w + b\n",
    "    \n",
    "    # Compute loss mse(mean squared error)\n",
    "    loss = torch.mean((y_pred - y) ** 2)\n",
    "    \n",
    "    # Backward pass\n",
    "    loss.backward()\n",
    "    \n",
    "    # Update weights\n",
    "    with torch.no_grad():\n",
    "        w -= lr * w.grad\n",
    "        b -= lr * b.grad\n",
    "        \n",
    "        # Zero gradients after update\n",
    "        w.grad.zero_()\n",
    "        b.grad.zero_()\n",
    "    # Print progress\n",
    "    if (epoch + 1) % 10 == 0:\n",
    "        print(f\"Epoch {epoch+1}: w = {w.item():.4f}, b = {b.item():.4f}, loss = {loss.item():.6f}\")"
   ]
  },
  {
   "cell_type": "code",
   "execution_count": 9,
   "id": "85295890",
   "metadata": {},
   "outputs": [
    {
     "name": "stdout",
     "output_type": "stream",
     "text": [
      "\n",
      "Final Model: y = 0.6826x + 5.2572\n"
     ]
    }
   ],
   "source": [
    "print(\"\\nFinal Model: y = {:.4f}x + {:.4f}\".format(w.item(), b.item()))"
   ]
  }
 ],
 "metadata": {
  "kernelspec": {
   "display_name": ".env",
   "language": "python",
   "name": "python3"
  },
  "language_info": {
   "codemirror_mode": {
    "name": "ipython",
    "version": 3
   },
   "file_extension": ".py",
   "mimetype": "text/x-python",
   "name": "python",
   "nbconvert_exporter": "python",
   "pygments_lexer": "ipython3",
   "version": "3.10.11"
  }
 },
 "nbformat": 4,
 "nbformat_minor": 5
}
