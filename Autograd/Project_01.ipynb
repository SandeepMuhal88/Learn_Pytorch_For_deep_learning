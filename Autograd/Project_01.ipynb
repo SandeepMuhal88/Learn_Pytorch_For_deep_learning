{
 "cells": [
  {
   "cell_type": "markdown",
   "id": "dffe9b86",
   "metadata": {},
   "source": [
    "### Mini Project: Linear Regression with Autograd"
   ]
  },
  {
   "cell_type": "code",
   "execution_count": 2,
   "id": "fb021930",
   "metadata": {},
   "outputs": [],
   "source": [
    "import torch\n",
    "import torch.nn as nn"
   ]
  },
  {
   "cell_type": "code",
   "execution_count": 6,
   "id": "e0f4835a",
   "metadata": {},
   "outputs": [],
   "source": [
    "x=torch.tensor([[1.0],[2.0],[3.0],[4.0]]) \n",
    "y=torch.tensor([[5.0],[9.0],[6.0],[8.0]])"
   ]
  },
  {
   "cell_type": "code",
   "execution_count": 7,
   "id": "bc3af0b3",
   "metadata": {},
   "outputs": [
    {
     "data": {
      "text/plain": [
       "tensor([[1.],\n",
       "        [2.],\n",
       "        [3.],\n",
       "        [4.]])"
      ]
     },
     "execution_count": 7,
     "metadata": {},
     "output_type": "execute_result"
    }
   ],
   "source": [
    "x"
   ]
  },
  {
   "cell_type": "code",
   "execution_count": 10,
   "id": "ce2b1d09",
   "metadata": {},
   "outputs": [
    {
     "data": {
      "text/plain": [
       "tensor([[5.],\n",
       "        [9.],\n",
       "        [6.],\n",
       "        [8.]])"
      ]
     },
     "execution_count": 10,
     "metadata": {},
     "output_type": "execute_result"
    }
   ],
   "source": [
    "y"
   ]
  },
  {
   "cell_type": "code",
   "execution_count": 41,
   "id": "cd1ecbb1",
   "metadata": {},
   "outputs": [
    {
     "name": "stdout",
     "output_type": "stream",
     "text": [
      "Initial weight: -1.200311303138733, Initial bias: -0.17421944439411163\n"
     ]
    }
   ],
   "source": [
    "w= torch.randn(1, requires_grad=True)\n",
    "b= torch.randn(1, requires_grad=True)\n",
    "print(f\"Initial weight: {w.item()}, Initial bias: {b.item()}\")"
   ]
  },
  {
   "cell_type": "code",
   "execution_count": 42,
   "id": "4efcb428",
   "metadata": {},
   "outputs": [
    {
     "data": {
      "text/plain": [
       "tensor([-1.2003], requires_grad=True)"
      ]
     },
     "execution_count": 42,
     "metadata": {},
     "output_type": "execute_result"
    }
   ],
   "source": [
    "w"
   ]
  },
  {
   "cell_type": "code",
   "execution_count": 54,
   "id": "585c98aa",
   "metadata": {},
   "outputs": [],
   "source": [
    "lr=0.01\n",
    "epochs=1000"
   ]
  },
  {
   "cell_type": "code",
   "execution_count": 55,
   "id": "217c6f83",
   "metadata": {},
   "outputs": [
    {
     "name": "stdout",
     "output_type": "stream",
     "text": [
      "Epoch 10: w = 0.8493, b = 4.7671, loss = 2.140249\n",
      "Epoch 20: w = 0.8419, b = 4.7887, loss = 2.134996\n",
      "Epoch 30: w = 0.8348, b = 4.8098, loss = 2.130049\n",
      "Epoch 40: w = 0.8278, b = 4.8301, loss = 2.125390\n",
      "Epoch 50: w = 0.8211, b = 4.8499, loss = 2.121002\n",
      "Epoch 60: w = 0.8146, b = 4.8691, loss = 2.116869\n",
      "Epoch 70: w = 0.8082, b = 4.8878, loss = 2.112977\n",
      "Epoch 80: w = 0.8021, b = 4.9059, loss = 2.109311\n",
      "Epoch 90: w = 0.7961, b = 4.9234, loss = 2.105859\n",
      "Epoch 100: w = 0.7903, b = 4.9404, loss = 2.102608\n",
      "Epoch 110: w = 0.7847, b = 4.9570, loss = 2.099546\n",
      "Epoch 120: w = 0.7792, b = 4.9730, loss = 2.096662\n",
      "Epoch 130: w = 0.7739, b = 4.9886, loss = 2.093946\n",
      "Epoch 140: w = 0.7688, b = 5.0037, loss = 2.091388\n",
      "Epoch 150: w = 0.7638, b = 5.0183, loss = 2.088979\n",
      "Epoch 160: w = 0.7590, b = 5.0326, loss = 2.086710\n",
      "Epoch 170: w = 0.7543, b = 5.0464, loss = 2.084574\n",
      "Epoch 180: w = 0.7497, b = 5.0598, loss = 2.082561\n",
      "Epoch 190: w = 0.7453, b = 5.0728, loss = 2.080666\n",
      "Epoch 200: w = 0.7410, b = 5.0854, loss = 2.078881\n",
      "Epoch 210: w = 0.7368, b = 5.0976, loss = 2.077200\n",
      "Epoch 220: w = 0.7328, b = 5.1095, loss = 2.075617\n",
      "Epoch 230: w = 0.7289, b = 5.1211, loss = 2.074126\n",
      "Epoch 240: w = 0.7251, b = 5.1323, loss = 2.072721\n",
      "Epoch 250: w = 0.7214, b = 5.1431, loss = 2.071399\n",
      "Epoch 260: w = 0.7178, b = 5.1537, loss = 2.070153\n",
      "Epoch 270: w = 0.7143, b = 5.1639, loss = 2.068981\n",
      "Epoch 280: w = 0.7109, b = 5.1738, loss = 2.067876\n",
      "Epoch 290: w = 0.7077, b = 5.1835, loss = 2.066836\n",
      "Epoch 300: w = 0.7045, b = 5.1928, loss = 2.065855\n",
      "Epoch 310: w = 0.7014, b = 5.2019, loss = 2.064933\n",
      "Epoch 320: w = 0.6984, b = 5.2107, loss = 2.064064\n",
      "Epoch 330: w = 0.6955, b = 5.2192, loss = 2.063244\n",
      "Epoch 340: w = 0.6927, b = 5.2275, loss = 2.062474\n",
      "Epoch 350: w = 0.6899, b = 5.2356, loss = 2.061748\n",
      "Epoch 360: w = 0.6873, b = 5.2434, loss = 2.061064\n",
      "Epoch 370: w = 0.6847, b = 5.2510, loss = 2.060421\n",
      "Epoch 380: w = 0.6822, b = 5.2583, loss = 2.059813\n",
      "Epoch 390: w = 0.6798, b = 5.2655, loss = 2.059242\n",
      "Epoch 400: w = 0.6774, b = 5.2724, loss = 2.058705\n",
      "Epoch 410: w = 0.6751, b = 5.2791, loss = 2.058198\n",
      "Epoch 420: w = 0.6729, b = 5.2856, loss = 2.057721\n",
      "Epoch 430: w = 0.6708, b = 5.2920, loss = 2.057271\n",
      "Epoch 440: w = 0.6687, b = 5.2981, loss = 2.056849\n",
      "Epoch 450: w = 0.6666, b = 5.3041, loss = 2.056450\n",
      "Epoch 460: w = 0.6647, b = 5.3099, loss = 2.056074\n",
      "Epoch 470: w = 0.6628, b = 5.3155, loss = 2.055720\n",
      "Epoch 480: w = 0.6609, b = 5.3209, loss = 2.055387\n",
      "Epoch 490: w = 0.6591, b = 5.3262, loss = 2.055073\n",
      "Epoch 500: w = 0.6574, b = 5.3314, loss = 2.054779\n",
      "Epoch 510: w = 0.6557, b = 5.3363, loss = 2.054500\n",
      "Epoch 520: w = 0.6540, b = 5.3412, loss = 2.054239\n",
      "Epoch 530: w = 0.6524, b = 5.3459, loss = 2.053992\n",
      "Epoch 540: w = 0.6509, b = 5.3504, loss = 2.053760\n",
      "Epoch 550: w = 0.6494, b = 5.3548, loss = 2.053540\n",
      "Epoch 560: w = 0.6479, b = 5.3591, loss = 2.053335\n",
      "Epoch 570: w = 0.6465, b = 5.3633, loss = 2.053140\n",
      "Epoch 580: w = 0.6451, b = 5.3673, loss = 2.052957\n",
      "Epoch 590: w = 0.6438, b = 5.3712, loss = 2.052786\n",
      "Epoch 600: w = 0.6425, b = 5.3750, loss = 2.052623\n",
      "Epoch 610: w = 0.6412, b = 5.3787, loss = 2.052470\n",
      "Epoch 620: w = 0.6400, b = 5.3823, loss = 2.052327\n",
      "Epoch 630: w = 0.6388, b = 5.3858, loss = 2.052191\n",
      "Epoch 640: w = 0.6377, b = 5.3892, loss = 2.052064\n",
      "Epoch 650: w = 0.6366, b = 5.3924, loss = 2.051944\n",
      "Epoch 660: w = 0.6355, b = 5.3956, loss = 2.051831\n",
      "Epoch 670: w = 0.6345, b = 5.3987, loss = 2.051724\n",
      "Epoch 680: w = 0.6334, b = 5.4017, loss = 2.051624\n",
      "Epoch 690: w = 0.6324, b = 5.4046, loss = 2.051529\n",
      "Epoch 700: w = 0.6315, b = 5.4074, loss = 2.051440\n",
      "Epoch 710: w = 0.6306, b = 5.4102, loss = 2.051357\n",
      "Epoch 720: w = 0.6297, b = 5.4128, loss = 2.051277\n",
      "Epoch 730: w = 0.6288, b = 5.4154, loss = 2.051203\n",
      "Epoch 740: w = 0.6279, b = 5.4179, loss = 2.051133\n",
      "Epoch 750: w = 0.6271, b = 5.4203, loss = 2.051067\n",
      "Epoch 760: w = 0.6263, b = 5.4227, loss = 2.051005\n",
      "Epoch 770: w = 0.6255, b = 5.4249, loss = 2.050946\n",
      "Epoch 780: w = 0.6248, b = 5.4272, loss = 2.050892\n",
      "Epoch 790: w = 0.6240, b = 5.4293, loss = 2.050840\n",
      "Epoch 800: w = 0.6233, b = 5.4314, loss = 2.050791\n",
      "Epoch 810: w = 0.6226, b = 5.4334, loss = 2.050745\n",
      "Epoch 820: w = 0.6220, b = 5.4354, loss = 2.050701\n",
      "Epoch 830: w = 0.6213, b = 5.4373, loss = 2.050660\n",
      "Epoch 840: w = 0.6207, b = 5.4392, loss = 2.050622\n",
      "Epoch 850: w = 0.6201, b = 5.4409, loss = 2.050586\n",
      "Epoch 860: w = 0.6195, b = 5.4427, loss = 2.050552\n",
      "Epoch 870: w = 0.6189, b = 5.4444, loss = 2.050519\n",
      "Epoch 880: w = 0.6184, b = 5.4460, loss = 2.050489\n",
      "Epoch 890: w = 0.6178, b = 5.4476, loss = 2.050461\n",
      "Epoch 900: w = 0.6173, b = 5.4492, loss = 2.050434\n",
      "Epoch 910: w = 0.6168, b = 5.4507, loss = 2.050409\n",
      "Epoch 920: w = 0.6163, b = 5.4521, loss = 2.050385\n",
      "Epoch 930: w = 0.6158, b = 5.4535, loss = 2.050362\n",
      "Epoch 940: w = 0.6153, b = 5.4549, loss = 2.050342\n",
      "Epoch 950: w = 0.6149, b = 5.4562, loss = 2.050322\n",
      "Epoch 960: w = 0.6144, b = 5.4575, loss = 2.050303\n",
      "Epoch 970: w = 0.6140, b = 5.4588, loss = 2.050285\n",
      "Epoch 980: w = 0.6136, b = 5.4600, loss = 2.050268\n",
      "Epoch 990: w = 0.6132, b = 5.4612, loss = 2.050253\n",
      "Epoch 1000: w = 0.6128, b = 5.4623, loss = 2.050239\n"
     ]
    }
   ],
   "source": [
    "#Training loop\n",
    "\n",
    "for epoch in range(epochs): \n",
    "    # Forward pass: predict y\n",
    "    y_pred = x * w + b\n",
    "    \n",
    "    # Compute loss mse(mean squared error)\n",
    "    loss = torch.mean((y_pred - y) ** 2)\n",
    "    \n",
    "    # Backward pass\n",
    "    loss.backward()\n",
    "    \n",
    "    # Update weights\n",
    "    with torch.no_grad():\n",
    "        w -= lr * w.grad\n",
    "        b -= lr * b.grad\n",
    "        \n",
    "        # Zero gradients after update\n",
    "        w.grad.zero_()\n",
    "        b.grad.zero_()\n",
    "    # Print progress\n",
    "    if (epoch + 1) % 10 == 0:\n",
    "        print(f\"Epoch {epoch+1}: w = {w.item():.4f}, b = {b.item():.4f}, loss = {loss.item():.6f}\")"
   ]
  },
  {
   "cell_type": "code",
   "execution_count": 56,
   "id": "85295890",
   "metadata": {},
   "outputs": [
    {
     "name": "stdout",
     "output_type": "stream",
     "text": [
      "\n",
      "Final Model: y = 0.6128x + 5.4623\n"
     ]
    }
   ],
   "source": [
    "print(\"\\nFinal Model: y = {:.4f}x + {:.4f}\".format(w.item(), b.item()))"
   ]
  }
 ],
 "metadata": {
  "kernelspec": {
   "display_name": ".env (3.10.10)",
   "language": "python",
   "name": "python3"
  },
  "language_info": {
   "codemirror_mode": {
    "name": "ipython",
    "version": 3
   },
   "file_extension": ".py",
   "mimetype": "text/x-python",
   "name": "python",
   "nbconvert_exporter": "python",
   "pygments_lexer": "ipython3",
   "version": "3.10.11"
  }
 },
 "nbformat": 4,
 "nbformat_minor": 5
}
