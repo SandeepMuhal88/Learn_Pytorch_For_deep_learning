{
 "cells": [
  {
   "cell_type": "markdown",
   "id": "dffe9b86",
   "metadata": {},
   "source": [
    "### Mini Project: Linear Regression with Autograd"
   ]
  },
  {
   "cell_type": "code",
   "execution_count": 1,
   "id": "fb021930",
   "metadata": {},
   "outputs": [],
   "source": [
    "import torch\n",
    "import torch.nn as nn"
   ]
  },
  {
   "cell_type": "code",
   "execution_count": 2,
   "id": "e0f4835a",
   "metadata": {},
   "outputs": [],
   "source": [
    "x=torch.tensor([[1.0],[2.0],[3.0],[4.0]]) \n",
    "y=torch.tensor([[5.0],[9.0],[6.0],[8.0]])"
   ]
  },
  {
   "cell_type": "code",
   "execution_count": 3,
   "id": "bc3af0b3",
   "metadata": {},
   "outputs": [
    {
     "data": {
      "text/plain": [
       "tensor([[1.],\n",
       "        [2.],\n",
       "        [3.],\n",
       "        [4.]])"
      ]
     },
     "execution_count": 3,
     "metadata": {},
     "output_type": "execute_result"
    }
   ],
   "source": [
    "x"
   ]
  },
  {
   "cell_type": "code",
   "execution_count": 4,
   "id": "ce2b1d09",
   "metadata": {},
   "outputs": [
    {
     "data": {
      "text/plain": [
       "tensor([[5.],\n",
       "        [9.],\n",
       "        [6.],\n",
       "        [8.]])"
      ]
     },
     "execution_count": 4,
     "metadata": {},
     "output_type": "execute_result"
    }
   ],
   "source": [
    "y"
   ]
  },
  {
   "cell_type": "code",
   "execution_count": 5,
   "id": "cd1ecbb1",
   "metadata": {},
   "outputs": [
    {
     "name": "stdout",
     "output_type": "stream",
     "text": [
      "Initial weight: -0.45076873898506165, Initial bias: 0.32777124643325806\n"
     ]
    }
   ],
   "source": [
    "w= torch.randn(1, requires_grad=True)\n",
    "b= torch.randn(1, requires_grad=True)\n",
    "print(f\"Initial weight: {w.item()}, Initial bias: {b.item()}\")"
   ]
  },
  {
   "cell_type": "code",
   "execution_count": 6,
   "id": "4efcb428",
   "metadata": {},
   "outputs": [
    {
     "data": {
      "text/plain": [
       "tensor([-0.4508], requires_grad=True)"
      ]
     },
     "execution_count": 6,
     "metadata": {},
     "output_type": "execute_result"
    }
   ],
   "source": [
    "w"
   ]
  },
  {
   "cell_type": "code",
   "execution_count": 7,
   "id": "585c98aa",
   "metadata": {},
   "outputs": [],
   "source": [
    "lr=0.01\n",
    "epochs=1000"
   ]
  },
  {
   "cell_type": "code",
   "execution_count": 8,
   "id": "217c6f83",
   "metadata": {},
   "outputs": [
    {
     "name": "stdout",
     "output_type": "stream",
     "text": [
      "Epoch 10: w = 1.6194, b = 1.1741, loss = 7.200577\n",
      "Epoch 20: w = 1.9172, b = 1.4134, loss = 4.882549\n",
      "Epoch 30: w = 1.9311, b = 1.5521, loss = 4.665463\n",
      "Epoch 40: w = 1.9002, b = 1.6716, loss = 4.511879\n",
      "Epoch 50: w = 1.8632, b = 1.7851, loss = 4.368550\n",
      "Epoch 60: w = 1.8261, b = 1.8949, loss = 4.233597\n",
      "Epoch 70: w = 1.7899, b = 2.0014, loss = 4.106501\n",
      "Epoch 80: w = 1.7548, b = 2.1048, loss = 3.986801\n",
      "Epoch 90: w = 1.7207, b = 2.2051, loss = 3.874069\n",
      "Epoch 100: w = 1.6876, b = 2.3024, loss = 3.767900\n",
      "Epoch 110: w = 1.6554, b = 2.3969, loss = 3.667909\n",
      "Epoch 120: w = 1.6243, b = 2.4885, loss = 3.573738\n",
      "Epoch 130: w = 1.5940, b = 2.5775, loss = 3.485048\n",
      "Epoch 140: w = 1.5646, b = 2.6638, loss = 3.401522\n",
      "Epoch 150: w = 1.5362, b = 2.7476, loss = 3.322856\n",
      "Epoch 160: w = 1.5085, b = 2.8289, loss = 3.248769\n",
      "Epoch 170: w = 1.4817, b = 2.9078, loss = 3.178994\n",
      "Epoch 180: w = 1.4556, b = 2.9844, loss = 3.113281\n",
      "Epoch 190: w = 1.4303, b = 3.0587, loss = 3.051392\n",
      "Epoch 200: w = 1.4058, b = 3.1308, loss = 2.993106\n",
      "Epoch 210: w = 1.3820, b = 3.2008, loss = 2.938211\n",
      "Epoch 220: w = 1.3589, b = 3.2687, loss = 2.886513\n",
      "Epoch 230: w = 1.3365, b = 3.3346, loss = 2.837824\n",
      "Epoch 240: w = 1.3147, b = 3.3986, loss = 2.791969\n",
      "Epoch 250: w = 1.2936, b = 3.4606, loss = 2.748782\n",
      "Epoch 260: w = 1.2731, b = 3.5209, loss = 2.708109\n",
      "Epoch 270: w = 1.2533, b = 3.5793, loss = 2.669804\n",
      "Epoch 280: w = 1.2340, b = 3.6361, loss = 2.633728\n",
      "Epoch 290: w = 1.2152, b = 3.6911, loss = 2.599752\n",
      "Epoch 300: w = 1.1971, b = 3.7446, loss = 2.567754\n",
      "Epoch 310: w = 1.1794, b = 3.7964, loss = 2.537618\n",
      "Epoch 320: w = 1.1623, b = 3.8467, loss = 2.509236\n",
      "Epoch 330: w = 1.1457, b = 3.8956, loss = 2.482506\n",
      "Epoch 340: w = 1.1296, b = 3.9430, loss = 2.457332\n",
      "Epoch 350: w = 1.1139, b = 3.9890, loss = 2.433623\n",
      "Epoch 360: w = 1.0988, b = 4.0336, loss = 2.411294\n",
      "Epoch 370: w = 1.0840, b = 4.0769, loss = 2.390265\n",
      "Epoch 380: w = 1.0697, b = 4.1189, loss = 2.370460\n",
      "Epoch 390: w = 1.0559, b = 4.1597, loss = 2.351807\n",
      "Epoch 400: w = 1.0424, b = 4.1993, loss = 2.334240\n",
      "Epoch 410: w = 1.0293, b = 4.2378, loss = 2.317696\n",
      "Epoch 420: w = 1.0166, b = 4.2750, loss = 2.302114\n",
      "Epoch 430: w = 1.0043, b = 4.3112, loss = 2.287441\n",
      "Epoch 440: w = 0.9924, b = 4.3463, loss = 2.273620\n",
      "Epoch 450: w = 0.9808, b = 4.3804, loss = 2.260604\n",
      "Epoch 460: w = 0.9695, b = 4.4135, loss = 2.248346\n",
      "Epoch 470: w = 0.9586, b = 4.4456, loss = 2.236801\n",
      "Epoch 480: w = 0.9480, b = 4.4767, loss = 2.225929\n",
      "Epoch 490: w = 0.9378, b = 4.5070, loss = 2.215689\n",
      "Epoch 500: w = 0.9278, b = 4.5363, loss = 2.206045\n",
      "Epoch 510: w = 0.9181, b = 4.5648, loss = 2.196962\n",
      "Epoch 520: w = 0.9087, b = 4.5924, loss = 2.188408\n",
      "Epoch 530: w = 0.8996, b = 4.6192, loss = 2.180352\n",
      "Epoch 540: w = 0.8907, b = 4.6452, loss = 2.172764\n",
      "Epoch 550: w = 0.8821, b = 4.6705, loss = 2.165619\n",
      "Epoch 560: w = 0.8738, b = 4.6950, loss = 2.158889\n",
      "Epoch 570: w = 0.8657, b = 4.7187, loss = 2.152552\n",
      "Epoch 580: w = 0.8579, b = 4.7418, loss = 2.146582\n",
      "Epoch 590: w = 0.8503, b = 4.7642, loss = 2.140961\n",
      "Epoch 600: w = 0.8429, b = 4.7859, loss = 2.135667\n",
      "Epoch 610: w = 0.8357, b = 4.8070, loss = 2.130680\n",
      "Epoch 620: w = 0.8287, b = 4.8275, loss = 2.125985\n",
      "Epoch 630: w = 0.8220, b = 4.8474, loss = 2.121562\n",
      "Epoch 640: w = 0.8154, b = 4.8667, loss = 2.117396\n",
      "Epoch 650: w = 0.8091, b = 4.8854, loss = 2.113474\n",
      "Epoch 660: w = 0.8029, b = 4.9035, loss = 2.109779\n",
      "Epoch 670: w = 0.7969, b = 4.9211, loss = 2.106300\n",
      "Epoch 680: w = 0.7911, b = 4.9382, loss = 2.103023\n",
      "Epoch 690: w = 0.7854, b = 4.9548, loss = 2.099936\n",
      "Epoch 700: w = 0.7799, b = 4.9709, loss = 2.097030\n",
      "Epoch 710: w = 0.7746, b = 4.9866, loss = 2.094293\n",
      "Epoch 720: w = 0.7695, b = 5.0017, loss = 2.091714\n",
      "Epoch 730: w = 0.7645, b = 5.0164, loss = 2.089287\n",
      "Epoch 740: w = 0.7596, b = 5.0307, loss = 2.086999\n",
      "Epoch 750: w = 0.7549, b = 5.0446, loss = 2.084846\n",
      "Epoch 760: w = 0.7503, b = 5.0580, loss = 2.082818\n",
      "Epoch 770: w = 0.7459, b = 5.0711, loss = 2.080908\n",
      "Epoch 780: w = 0.7416, b = 5.0838, loss = 2.079109\n",
      "Epoch 790: w = 0.7374, b = 5.0961, loss = 2.077415\n",
      "Epoch 800: w = 0.7333, b = 5.1080, loss = 2.075819\n",
      "Epoch 810: w = 0.7294, b = 5.1196, loss = 2.074316\n",
      "Epoch 820: w = 0.7256, b = 5.1308, loss = 2.072901\n",
      "Epoch 830: w = 0.7219, b = 5.1417, loss = 2.071568\n",
      "Epoch 840: w = 0.7183, b = 5.1523, loss = 2.070313\n",
      "Epoch 850: w = 0.7148, b = 5.1626, loss = 2.069130\n",
      "Epoch 860: w = 0.7114, b = 5.1725, loss = 2.068017\n",
      "Epoch 870: w = 0.7081, b = 5.1822, loss = 2.066968\n",
      "Epoch 880: w = 0.7049, b = 5.1916, loss = 2.065981\n",
      "Epoch 890: w = 0.7018, b = 5.2007, loss = 2.065050\n",
      "Epoch 900: w = 0.6988, b = 5.2095, loss = 2.064174\n",
      "Epoch 910: w = 0.6959, b = 5.2181, loss = 2.063349\n",
      "Epoch 920: w = 0.6930, b = 5.2265, loss = 2.062572\n",
      "Epoch 930: w = 0.6903, b = 5.2345, loss = 2.061841\n",
      "Epoch 940: w = 0.6876, b = 5.2424, loss = 2.061152\n",
      "Epoch 950: w = 0.6850, b = 5.2500, loss = 2.060502\n",
      "Epoch 960: w = 0.6825, b = 5.2574, loss = 2.059891\n",
      "Epoch 970: w = 0.6801, b = 5.2645, loss = 2.059315\n",
      "Epoch 980: w = 0.6777, b = 5.2715, loss = 2.058773\n",
      "Epoch 990: w = 0.6754, b = 5.2782, loss = 2.058262\n",
      "Epoch 1000: w = 0.6732, b = 5.2848, loss = 2.057781\n"
     ]
    }
   ],
   "source": [
    "#Training loop\n",
    "\n",
    "for epoch in range(epochs): \n",
    "    # Forward pass: predict y\n",
    "    y_pred = x * w + b\n",
    "    \n",
    "    # Compute loss mse(mean squared error)\n",
    "    loss = torch.mean((y_pred - y) ** 2)\n",
    "    \n",
    "    # Backward pass\n",
    "    loss.backward()\n",
    "    \n",
    "    # Update weights\n",
    "    with torch.no_grad():\n",
    "        w -= lr * w.grad\n",
    "        b -= lr * b.grad\n",
    "        \n",
    "        # Zero gradients after update\n",
    "        w.grad.zero_()\n",
    "        b.grad.zero_()\n",
    "    # Print progress\n",
    "    if (epoch + 1) % 10 == 0:\n",
    "        print(f\"Epoch {epoch+1}: w = {w.item():.4f}, b = {b.item():.4f}, loss = {loss.item():.6f}\")"
   ]
  },
  {
   "cell_type": "code",
   "execution_count": 9,
   "id": "85295890",
   "metadata": {},
   "outputs": [
    {
     "name": "stdout",
     "output_type": "stream",
     "text": [
      "\n",
      "Final Model: y = 0.6732x + 5.2848\n"
     ]
    }
   ],
   "source": [
    "print(\"\\nFinal Model: y = {:.4f}x + {:.4f}\".format(w.item(), b.item()))"
   ]
  }
 ],
 "metadata": {
  "kernelspec": {
   "display_name": ".env (3.10.10)",
   "language": "python",
   "name": "python3"
  },
  "language_info": {
   "codemirror_mode": {
    "name": "ipython",
    "version": 3
   },
   "file_extension": ".py",
   "mimetype": "text/x-python",
   "name": "python",
   "nbconvert_exporter": "python",
   "pygments_lexer": "ipython3",
   "version": "3.10.10"
  }
 },
 "nbformat": 4,
 "nbformat_minor": 5
}
