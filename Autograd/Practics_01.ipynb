{
 "cells": [
  {
   "cell_type": "code",
   "execution_count": 47,
   "id": "79e9533b",
   "metadata": {},
   "outputs": [],
   "source": [
    "import torch"
   ]
  },
  {
   "cell_type": "code",
   "execution_count": 48,
   "id": "c0062d67",
   "metadata": {},
   "outputs": [],
   "source": [
    "m=9"
   ]
  },
  {
   "cell_type": "code",
   "execution_count": 49,
   "id": "40518c89",
   "metadata": {},
   "outputs": [
    {
     "data": {
      "text/plain": [
       "18"
      ]
     },
     "execution_count": 49,
     "metadata": {},
     "output_type": "execute_result"
    }
   ],
   "source": [
    "def dy_dx(n):\n",
    "    return 2*n\n",
    "\n",
    "\n",
    "# y=x^2\n",
    "\n",
    "dy_dx(m)"
   ]
  },
  {
   "cell_type": "code",
   "execution_count": 50,
   "id": "75c85b48",
   "metadata": {},
   "outputs": [
    {
     "data": {
      "text/plain": [
       "tensor(3., requires_grad=True)"
      ]
     },
     "execution_count": 50,
     "metadata": {},
     "output_type": "execute_result"
    }
   ],
   "source": [
    "x=torch.tensor(3.0,requires_grad=True)\n",
    "x"
   ]
  },
  {
   "cell_type": "code",
   "execution_count": 51,
   "id": "45503b54",
   "metadata": {},
   "outputs": [
    {
     "data": {
      "text/plain": [
       "tensor(6., grad_fn=<SubBackward0>)"
      ]
     },
     "execution_count": 51,
     "metadata": {},
     "output_type": "execute_result"
    }
   ],
   "source": [
    "y=x*x-x\n",
    "y\n"
   ]
  },
  {
   "cell_type": "code",
   "execution_count": 52,
   "id": "8e5438da",
   "metadata": {},
   "outputs": [],
   "source": [
    "y.backward()\n"
   ]
  },
  {
   "cell_type": "code",
   "execution_count": 53,
   "id": "89dcaee9",
   "metadata": {},
   "outputs": [
    {
     "data": {
      "text/plain": [
       "tensor(5.)"
      ]
     },
     "execution_count": 53,
     "metadata": {},
     "output_type": "execute_result"
    }
   ],
   "source": [
    "x.grad"
   ]
  },
  {
   "cell_type": "markdown",
   "id": "fce5f304",
   "metadata": {},
   "source": [
    "Use some partial value"
   ]
  },
  {
   "cell_type": "code",
   "execution_count": 54,
   "id": "a5cf41d4",
   "metadata": {},
   "outputs": [
    {
     "data": {
      "text/plain": [
       "4.208295612410919"
      ]
     },
     "execution_count": 54,
     "metadata": {},
     "output_type": "execute_result"
    }
   ],
   "source": [
    "import math\n",
    "\n",
    "def dz_dx(x):\n",
    "    return 2*x*math.cos(x**2)\n",
    "\n",
    "\n",
    "dz_dx(7)"
   ]
  },
  {
   "cell_type": "code",
   "execution_count": 55,
   "id": "a1d204bd",
   "metadata": {},
   "outputs": [
    {
     "data": {
      "text/plain": [
       "tensor(49., grad_fn=<PowBackward0>)"
      ]
     },
     "execution_count": 55,
     "metadata": {},
     "output_type": "execute_result"
    }
   ],
   "source": [
    "# usig pytorch\n",
    "\n",
    "m=torch.tensor(7.0,requires_grad=True)\n",
    "\n",
    "k=m**2\n",
    "k\n"
   ]
  },
  {
   "cell_type": "code",
   "execution_count": 56,
   "id": "1a39d57a",
   "metadata": {},
   "outputs": [
    {
     "data": {
      "text/plain": [
       "tensor(-0.9538, grad_fn=<SinBackward0>)"
      ]
     },
     "execution_count": 56,
     "metadata": {},
     "output_type": "execute_result"
    }
   ],
   "source": [
    "L=torch.sin(k)\n",
    "L"
   ]
  },
  {
   "cell_type": "code",
   "execution_count": 57,
   "id": "b6d9f3a6",
   "metadata": {},
   "outputs": [],
   "source": [
    "L.backward()"
   ]
  },
  {
   "cell_type": "code",
   "execution_count": 58,
   "id": "835d974c",
   "metadata": {},
   "outputs": [
    {
     "data": {
      "text/plain": [
       "tensor(4.2083)"
      ]
     },
     "execution_count": 58,
     "metadata": {},
     "output_type": "execute_result"
    }
   ],
   "source": [
    "m.grad"
   ]
  },
  {
   "cell_type": "code",
   "execution_count": 61,
   "id": "3d49419d",
   "metadata": {},
   "outputs": [],
   "source": [
    "# k.gradrWarning: The .grad attribute of a Tensor that is not a leaf Tensor is being accessed. \n",
    "# Its .grad attribute won't be populated during autograd.backward(). \n",
    "# If you indeed want the .grad field to be populated for a non-leaf Tensor, use .retain_grad() on the non-leaf Tensor. \n",
    "# If you access the non-leaf Tensor by mistake, make sure you access the leaf Tensor instead.\n",
    "# See github.com/pytorch/pytorch/pull/30531 for more informations. \n",
    "# (Triggered internally at C:\\actions-runner\\_work\\pytorch\\pytorch\\builder\\windows\\pytorch\\build\\aten\\src\\ATen/core/TensorBody.h:494.)\n",
    "#   k.grad"
   ]
  },
  {
   "cell_type": "markdown",
   "id": "bd62310d",
   "metadata": {},
   "source": [
    "That is use A NN module (Neural Network)"
   ]
  }
 ],
 "metadata": {
  "kernelspec": {
   "display_name": ".env",
   "language": "python",
   "name": "python3"
  },
  "language_info": {
   "codemirror_mode": {
    "name": "ipython",
    "version": 3
   },
   "file_extension": ".py",
   "mimetype": "text/x-python",
   "name": "python",
   "nbconvert_exporter": "python",
   "pygments_lexer": "ipython3",
   "version": "3.10.11"
  }
 },
 "nbformat": 4,
 "nbformat_minor": 5
}
