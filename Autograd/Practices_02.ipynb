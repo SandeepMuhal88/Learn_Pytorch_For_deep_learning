{
 "cells": [
  {
   "cell_type": "code",
   "execution_count": 45,
   "id": "998f0efe",
   "metadata": {},
   "outputs": [],
   "source": [
    "import torch\n",
    "\n",
    "\n",
    "# We take a placemant dataset there a student have cgpa and that y negative\n",
    "\n",
    "X=torch.tensor(6.7)\n",
    "y=torch.tensor(0.0)\n",
    "\n",
    "\n",
    "w=torch.tensor(1.0)  # weights\n",
    "b=torch.tensor(0.0)  #bias "
   ]
  },
  {
   "cell_type": "code",
   "execution_count": 46,
   "id": "03adc6bc",
   "metadata": {},
   "outputs": [],
   "source": [
    "# binary cross entropy \n",
    "\n",
    "def binary_cross_entropy_loss(y_pred,y_true):\n",
    "    epsilon = 1e-8  # To prevent log(0)\n",
    "    y_pred=torch.clamp(y_pred,epsilon,1-epsilon)\n",
    "    return -(y_true*torch.log(y_pred)+(1 - y_true) * torch.log( 1 -y_pred))\n",
    "\n"
   ]
  },
  {
   "cell_type": "code",
   "execution_count": 47,
   "id": "66154da8",
   "metadata": {},
   "outputs": [
    {
     "data": {
      "text/plain": [
       "tensor(6.7012)"
      ]
     },
     "execution_count": 47,
     "metadata": {},
     "output_type": "execute_result"
    }
   ],
   "source": [
    "#ForwardPass\n",
    "\n",
    "z=w*X+b\n",
    "y_pred=torch.sigmoid(z)\n",
    "\n",
    "\n",
    "#compute binary cross entropy loss\n",
    "loss=binary_cross_entropy_loss(y_pred,y)\n",
    "\n",
    "loss"
   ]
  },
  {
   "cell_type": "code",
   "execution_count": 48,
   "id": "34b91bb7",
   "metadata": {},
   "outputs": [
    {
     "data": {
      "text/plain": [
       "tensor(6.7012)"
      ]
     },
     "execution_count": 48,
     "metadata": {},
     "output_type": "execute_result"
    }
   ],
   "source": [
    "loss"
   ]
  },
  {
   "cell_type": "code",
   "execution_count": 49,
   "id": "81d1d338",
   "metadata": {},
   "outputs": [],
   "source": [
    "# # Derivatives:\n",
    "# 1. dL/d(y_pred): Loss with respect to the prediction (y_pred)\n",
    "dl_dy_pred=(y_pred-y)/(y_pred*(1-y_pred))\n",
    "# for y_pred=y_hate\n",
    "dy_pred_dz=y_pred *(1-y_pred)\n",
    "# For weight \n",
    "dz_dw=X\n",
    "dz_db=1\n",
    "\n",
    "dl_dw=dl_dy_pred*dy_pred_dz*dz_dw\n",
    "dl_db=dl_dy_pred*dy_pred_dz*dz_db"
   ]
  },
  {
   "cell_type": "code",
   "execution_count": 50,
   "id": "04194018",
   "metadata": {},
   "outputs": [
    {
     "name": "stdout",
     "output_type": "stream",
     "text": [
      "Manual Gradient of loss w.r.t weight (dw): 6.691762447357178\n",
      "Manual Gradient of loss w.r.t bias (db): 0.998770534992218\n"
     ]
    }
   ],
   "source": [
    "print(f\"Manual Gradient of loss w.r.t weight (dw): {dl_dw}\")\n",
    "print(f\"Manual Gradient of loss w.r.t bias (db): {dl_db}\")"
   ]
  },
  {
   "cell_type": "code",
   "execution_count": 51,
   "id": "1c8a512e",
   "metadata": {},
   "outputs": [
    {
     "data": {
      "text/plain": [
       "tensor(1., requires_grad=True)"
      ]
     },
     "execution_count": 51,
     "metadata": {},
     "output_type": "execute_result"
    }
   ],
   "source": [
    "# Use Autograd to compute the gradient\n",
    "\n",
    "\n",
    "X=torch.tensor(6.7)\n",
    "y=torch.tensor(0.0)\n",
    "\n",
    "w=torch.tensor(1.0,requires_grad=True)\n",
    "b=torch.tensor(0.0,requires_grad=True)\n",
    "w\n"
   ]
  },
  {
   "cell_type": "code",
   "execution_count": 52,
   "id": "bb704d3c",
   "metadata": {},
   "outputs": [
    {
     "data": {
      "text/plain": [
       "tensor(0., requires_grad=True)"
      ]
     },
     "execution_count": 52,
     "metadata": {},
     "output_type": "execute_result"
    }
   ],
   "source": [
    "b"
   ]
  },
  {
   "cell_type": "code",
   "execution_count": 53,
   "id": "2fcfb04d",
   "metadata": {},
   "outputs": [
    {
     "data": {
      "text/plain": [
       "tensor(6.7000, grad_fn=<AddBackward0>)"
      ]
     },
     "execution_count": 53,
     "metadata": {},
     "output_type": "execute_result"
    }
   ],
   "source": [
    "z=w*X+b\n",
    "\n",
    "z"
   ]
  },
  {
   "cell_type": "code",
   "execution_count": 54,
   "id": "de748158",
   "metadata": {},
   "outputs": [
    {
     "data": {
      "text/plain": [
       "tensor(0.9988, grad_fn=<SigmoidBackward0>)"
      ]
     },
     "execution_count": 54,
     "metadata": {},
     "output_type": "execute_result"
    }
   ],
   "source": [
    "y_pred=torch.sigmoid(z)\n",
    "y_pred"
   ]
  },
  {
   "cell_type": "code",
   "execution_count": 55,
   "id": "3617936d",
   "metadata": {},
   "outputs": [
    {
     "data": {
      "text/plain": [
       "tensor(6.7012, grad_fn=<NegBackward0>)"
      ]
     },
     "execution_count": 55,
     "metadata": {},
     "output_type": "execute_result"
    }
   ],
   "source": [
    "loss=binary_cross_entropy_loss(y_pred,y)\n",
    "loss"
   ]
  },
  {
   "cell_type": "code",
   "execution_count": 56,
   "id": "8d1be2b5",
   "metadata": {},
   "outputs": [
    {
     "name": "stdout",
     "output_type": "stream",
     "text": [
      "tensor(6.6918)\n",
      "tensor(0.9988)\n"
     ]
    }
   ],
   "source": [
    "loss.backward()\n",
    "\n",
    "print(w.grad)\n",
    "print(b.grad)\n"
   ]
  },
  {
   "cell_type": "code",
   "execution_count": 62,
   "id": "8ec9c1bc",
   "metadata": {},
   "outputs": [
    {
     "data": {
      "text/plain": [
       "tensor([1., 2., 3., 4.], requires_grad=True)"
      ]
     },
     "execution_count": 62,
     "metadata": {},
     "output_type": "execute_result"
    }
   ],
   "source": [
    "x=torch.tensor([1.0,2.0,3.0,4.0],requires_grad=True)\n",
    "x"
   ]
  },
  {
   "cell_type": "code",
   "execution_count": 63,
   "id": "3f095e1d",
   "metadata": {},
   "outputs": [
    {
     "data": {
      "text/plain": [
       "tensor(1., grad_fn=<MinBackward1>)"
      ]
     },
     "execution_count": 63,
     "metadata": {},
     "output_type": "execute_result"
    }
   ],
   "source": [
    "k=(x**2).min()\n",
    "k"
   ]
  },
  {
   "cell_type": "code",
   "execution_count": 64,
   "id": "17b02aa1",
   "metadata": {},
   "outputs": [],
   "source": [
    "k.backward()"
   ]
  },
  {
   "cell_type": "code",
   "execution_count": 65,
   "id": "d15accf0",
   "metadata": {},
   "outputs": [
    {
     "data": {
      "text/plain": [
       "tensor([2., 0., 0., 0.])"
      ]
     },
     "execution_count": 65,
     "metadata": {},
     "output_type": "execute_result"
    }
   ],
   "source": [
    "x.grad"
   ]
  },
  {
   "cell_type": "code",
   "execution_count": 81,
   "id": "7f6249f5",
   "metadata": {},
   "outputs": [
    {
     "data": {
      "text/plain": [
       "tensor(2., requires_grad=True)"
      ]
     },
     "execution_count": 81,
     "metadata": {},
     "output_type": "execute_result"
    }
   ],
   "source": [
    "#clearing grad\n",
    "c=torch.tensor(2.0,requires_grad=True)\n",
    "\n",
    "c\n"
   ]
  },
  {
   "cell_type": "code",
   "execution_count": 110,
   "id": "81b9c944",
   "metadata": {},
   "outputs": [
    {
     "data": {
      "text/plain": [
       "tensor(4., grad_fn=<PowBackward0>)"
      ]
     },
     "execution_count": 110,
     "metadata": {},
     "output_type": "execute_result"
    }
   ],
   "source": [
    "j=c**2\n",
    "j"
   ]
  },
  {
   "cell_type": "code",
   "execution_count": 111,
   "id": "e208718c",
   "metadata": {},
   "outputs": [],
   "source": [
    "j.backward()\n"
   ]
  },
  {
   "cell_type": "code",
   "execution_count": 112,
   "id": "7f0164a8",
   "metadata": {},
   "outputs": [
    {
     "data": {
      "text/plain": [
       "tensor(4.)"
      ]
     },
     "execution_count": 112,
     "metadata": {},
     "output_type": "execute_result"
    }
   ],
   "source": [
    "c.grad"
   ]
  },
  {
   "cell_type": "code",
   "execution_count": 113,
   "id": "f334c983",
   "metadata": {},
   "outputs": [
    {
     "data": {
      "text/plain": [
       "tensor(0.)"
      ]
     },
     "execution_count": 113,
     "metadata": {},
     "output_type": "execute_result"
    }
   ],
   "source": [
    "c.grad.zero_()"
   ]
  },
  {
   "cell_type": "code",
   "execution_count": 121,
   "id": "f2f8b7a4",
   "metadata": {},
   "outputs": [
    {
     "data": {
      "text/plain": [
       "tensor(2., requires_grad=True)"
      ]
     },
     "execution_count": 121,
     "metadata": {},
     "output_type": "execute_result"
    }
   ],
   "source": [
    "#Disabling gradient tracking\n",
    "c1=torch.tensor(2.0,requires_grad=True)\n",
    "c1\n"
   ]
  },
  {
   "cell_type": "code",
   "execution_count": 122,
   "id": "b9d95914",
   "metadata": {},
   "outputs": [
    {
     "data": {
      "text/plain": [
       "tensor(4., grad_fn=<PowBackward0>)"
      ]
     },
     "execution_count": 122,
     "metadata": {},
     "output_type": "execute_result"
    }
   ],
   "source": [
    "c3=c1**2\n",
    "c3"
   ]
  },
  {
   "cell_type": "code",
   "execution_count": 123,
   "id": "f8189d3a",
   "metadata": {},
   "outputs": [],
   "source": [
    "c3.backward()"
   ]
  },
  {
   "cell_type": "code",
   "execution_count": 125,
   "id": "4e064675",
   "metadata": {},
   "outputs": [
    {
     "data": {
      "text/plain": [
       "tensor(4.)"
      ]
     },
     "execution_count": 125,
     "metadata": {},
     "output_type": "execute_result"
    }
   ],
   "source": [
    "c1.grad"
   ]
  },
  {
   "cell_type": "code",
   "execution_count": 126,
   "id": "3eed03ac",
   "metadata": {},
   "outputs": [],
   "source": [
    "#option 1=Requires_grad\n",
    "# option 2: torch.no_grad()\n",
    "# option 3: detach()"
   ]
  }
 ],
 "metadata": {
  "kernelspec": {
   "display_name": ".env",
   "language": "python",
   "name": "python3"
  },
  "language_info": {
   "codemirror_mode": {
    "name": "ipython",
    "version": 3
   },
   "file_extension": ".py",
   "mimetype": "text/x-python",
   "name": "python",
   "nbconvert_exporter": "python",
   "pygments_lexer": "ipython3",
   "version": "3.10.11"
  }
 },
 "nbformat": 4,
 "nbformat_minor": 5
}
