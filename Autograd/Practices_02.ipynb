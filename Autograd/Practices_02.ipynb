{
 "cells": [
  {
   "cell_type": "code",
   "execution_count": 86,
   "id": "998f0efe",
   "metadata": {},
   "outputs": [],
   "source": [
    "import torch\n",
    "\n",
    "\n",
    "# We take a placemant dataset there a student have cgpa and that y negative\n",
    "\n",
    "X=torch.tensor(6.7)\n",
    "y=torch.tensor(0.0)\n",
    "\n",
    "\n",
    "w=torch.tensor(1.0)  # weights\n",
    "b=torch.tensor(0.0)  #bias "
   ]
  },
  {
   "cell_type": "code",
   "execution_count": 87,
   "id": "03adc6bc",
   "metadata": {},
   "outputs": [],
   "source": [
    "# binary cross entropy \n",
    "\n",
    "def binary_cross_entropy_loss(y_pred,y_true):\n",
    "    epsilon = 1e-8  # To prevent log(0)\n",
    "    y_pred=torch.clamp(y_pred,epsilon,1-epsilon)\n",
    "    return -(y_true*torch.log(y_pred)+(1 - y_true) * torch.log( 1 -y_pred))\n",
    "\n"
   ]
  },
  {
   "cell_type": "code",
   "execution_count": 88,
   "id": "66154da8",
   "metadata": {},
   "outputs": [
    {
     "data": {
      "text/plain": [
       "tensor(6.7012)"
      ]
     },
     "execution_count": 88,
     "metadata": {},
     "output_type": "execute_result"
    }
   ],
   "source": [
    "#ForwardPass\n",
    "\n",
    "z=w*X+b\n",
    "y_pred=torch.sigmoid(z)\n",
    "\n",
    "\n",
    "#compute binary cross entropy loss\n",
    "loss=binary_cross_entropy_loss(y_pred,y)\n",
    "\n",
    "loss"
   ]
  },
  {
   "cell_type": "code",
   "execution_count": 89,
   "id": "34b91bb7",
   "metadata": {},
   "outputs": [
    {
     "data": {
      "text/plain": [
       "tensor(6.7012)"
      ]
     },
     "execution_count": 89,
     "metadata": {},
     "output_type": "execute_result"
    }
   ],
   "source": [
    "loss"
   ]
  },
  {
   "cell_type": "code",
   "execution_count": 90,
   "id": "81d1d338",
   "metadata": {},
   "outputs": [],
   "source": [
    "# # Derivatives:\n",
    "# 1. dL/d(y_pred): Loss with respect to the prediction (y_pred)\n",
    "dl_dy_pred=(y_pred-y)/(y_pred*(1-y_pred))\n",
    "# for y_pred=y_hate\n",
    "dy_pred_dz=y_pred *(1-y_pred)\n",
    "# For weight \n",
    "dz_dw=X\n",
    "dz_db=1\n",
    "\n",
    "dl_dw=dl_dy_pred*dy_pred_dz*dz_dw\n",
    "dl_db=dl_dy_pred*dy_pred_dz*dz_db"
   ]
  },
  {
   "cell_type": "code",
   "execution_count": 91,
   "id": "04194018",
   "metadata": {},
   "outputs": [
    {
     "name": "stdout",
     "output_type": "stream",
     "text": [
      "Manual Gradient of loss w.r.t weight (dw): 6.691762447357178\n",
      "Manual Gradient of loss w.r.t bias (db): 0.998770534992218\n"
     ]
    }
   ],
   "source": [
    "print(f\"Manual Gradient of loss w.r.t weight (dw): {dl_dw}\")\n",
    "print(f\"Manual Gradient of loss w.r.t bias (db): {dl_db}\")"
   ]
  },
  {
   "cell_type": "code",
   "execution_count": 92,
   "id": "1c8a512e",
   "metadata": {},
   "outputs": [
    {
     "data": {
      "text/plain": [
       "tensor(1., requires_grad=True)"
      ]
     },
     "execution_count": 92,
     "metadata": {},
     "output_type": "execute_result"
    }
   ],
   "source": [
    "# Use Autograd to compute the gradient\n",
    "\n",
    "\n",
    "X=torch.tensor(6.7)\n",
    "y=torch.tensor(0.0)\n",
    "\n",
    "w=torch.tensor(1.0,requires_grad=True)\n",
    "b=torch.tensor(0.0,requires_grad=True)\n",
    "w\n"
   ]
  },
  {
   "cell_type": "code",
   "execution_count": 93,
   "id": "bb704d3c",
   "metadata": {},
   "outputs": [
    {
     "data": {
      "text/plain": [
       "tensor(0., requires_grad=True)"
      ]
     },
     "execution_count": 93,
     "metadata": {},
     "output_type": "execute_result"
    }
   ],
   "source": [
    "b"
   ]
  },
  {
   "cell_type": "code",
   "execution_count": 94,
   "id": "2fcfb04d",
   "metadata": {},
   "outputs": [
    {
     "data": {
      "text/plain": [
       "tensor(6.7000, grad_fn=<AddBackward0>)"
      ]
     },
     "execution_count": 94,
     "metadata": {},
     "output_type": "execute_result"
    }
   ],
   "source": [
    "z=w*X+b\n",
    "\n",
    "z"
   ]
  },
  {
   "cell_type": "code",
   "execution_count": 95,
   "id": "de748158",
   "metadata": {},
   "outputs": [
    {
     "data": {
      "text/plain": [
       "tensor(0.9988, grad_fn=<SigmoidBackward0>)"
      ]
     },
     "execution_count": 95,
     "metadata": {},
     "output_type": "execute_result"
    }
   ],
   "source": [
    "y_pred=torch.sigmoid(z)\n",
    "y_pred"
   ]
  },
  {
   "cell_type": "code",
   "execution_count": 96,
   "id": "3617936d",
   "metadata": {},
   "outputs": [
    {
     "data": {
      "text/plain": [
       "tensor(6.7012, grad_fn=<NegBackward0>)"
      ]
     },
     "execution_count": 96,
     "metadata": {},
     "output_type": "execute_result"
    }
   ],
   "source": [
    "loss=binary_cross_entropy_loss(y_pred,y)\n",
    "loss"
   ]
  },
  {
   "cell_type": "code",
   "execution_count": 97,
   "id": "8d1be2b5",
   "metadata": {},
   "outputs": [
    {
     "name": "stdout",
     "output_type": "stream",
     "text": [
      "tensor(6.6918)\n",
      "tensor(0.9988)\n"
     ]
    }
   ],
   "source": [
    "loss.backward()\n",
    "\n",
    "print(w.grad)\n",
    "print(b.grad)\n"
   ]
  }
 ],
 "metadata": {
  "kernelspec": {
   "display_name": ".env",
   "language": "python",
   "name": "python3"
  },
  "language_info": {
   "codemirror_mode": {
    "name": "ipython",
    "version": 3
   },
   "file_extension": ".py",
   "mimetype": "text/x-python",
   "name": "python",
   "nbconvert_exporter": "python",
   "pygments_lexer": "ipython3",
   "version": "3.10.11"
  }
 },
 "nbformat": 4,
 "nbformat_minor": 5
}
