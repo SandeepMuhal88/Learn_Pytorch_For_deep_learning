{
 "cells": [
  {
   "cell_type": "code",
   "execution_count": 1,
   "id": "529a8e2b",
   "metadata": {},
   "outputs": [
    {
     "name": "stdout",
     "output_type": "stream",
     "text": [
      "2.5.1+cu118\n",
      "Cuda True\n"
     ]
    }
   ],
   "source": [
    "import torch\n",
    "print(torch.__version__)\n",
    "\n",
    "print(\"Cuda\",torch.cuda.is_available())\n"
   ]
  },
  {
   "cell_type": "code",
   "execution_count": 2,
   "id": "379927cc",
   "metadata": {},
   "outputs": [
    {
     "name": "stdout",
     "output_type": "stream",
     "text": [
      "Cuda version 11.8\n",
      "using  device NVIDIA GeForce RTX 4060 Laptop GPU\n"
     ]
    }
   ],
   "source": [
    "if torch.cuda.is_available():\n",
    "    print(\"Cuda version\",torch.version.cuda)\n",
    "    print(\"using  device\",torch.cuda.get_device_name())\n",
    "else:\n",
    "    print(\"Cuda not available, using CPU\")"
   ]
  },
  {
   "cell_type": "markdown",
   "id": "83397f88",
   "metadata": {},
   "source": [
    "## Scaler_Operation"
   ]
  },
  {
   "cell_type": "code",
   "execution_count": 3,
   "id": "c4df7edf",
   "metadata": {},
   "outputs": [
    {
     "name": "stdout",
     "output_type": "stream",
     "text": [
      "a: tensor([[0.6294, 0.2174, 0.1480],\n",
      "        [0.9994, 0.8314, 0.1658]])\n",
      "b: tensor([[0.3763, 0.9914, 0.7014],\n",
      "        [0.5263, 0.7209, 0.2824]])\n"
     ]
    }
   ],
   "source": [
    "a=torch.rand(2, 3)\n",
    "b=torch.rand(2, 3)\n",
    "\n",
    "print(\"a:\", a)\n",
    "print(\"b:\", b)"
   ]
  },
  {
   "cell_type": "code",
   "execution_count": 4,
   "id": "13218ae7",
   "metadata": {},
   "outputs": [
    {
     "name": "stdout",
     "output_type": "stream",
     "text": [
      "a + b: tensor([[1.0056, 1.2089, 0.8494],\n",
      "        [1.5257, 1.5523, 0.4481]])\n"
     ]
    }
   ],
   "source": [
    "##addition\n",
    "c = a + b\n",
    "print(\"a + b:\", c)"
   ]
  },
  {
   "cell_type": "code",
   "execution_count": 5,
   "id": "9fc8bce7",
   "metadata": {},
   "outputs": [
    {
     "data": {
      "text/plain": [
       "tensor([[ 0.2531, -0.7740, -0.5535],\n",
       "        [ 0.4731,  0.1105, -0.1166]])"
      ]
     },
     "execution_count": 5,
     "metadata": {},
     "output_type": "execute_result"
    }
   ],
   "source": [
    "#Subtraction\n",
    "a-b"
   ]
  },
  {
   "cell_type": "code",
   "execution_count": 6,
   "id": "730f58d5",
   "metadata": {},
   "outputs": [
    {
     "name": "stdout",
     "output_type": "stream",
     "text": [
      "a * b: tensor([[0.2368, 0.2156, 0.1038],\n",
      "        [0.5260, 0.5994, 0.0468]])\n",
      "a / b: tensor([[1.6726, 0.2193, 0.2110],\n",
      "        [1.8990, 1.1533, 0.5871]])\n",
      "a @ b.T: tensor([[0.5562, 0.5298],\n",
      "        [1.3166, 1.1722]])\n"
     ]
    }
   ],
   "source": [
    "#Multiplication\n",
    "d = a * b\n",
    "print(\"a * b:\", d)\n",
    "#Division\n",
    "e = a / b\n",
    "print(\"a / b:\", e)\n",
    "#Matrix multiplication\n",
    "f = torch.matmul(a, b.T)\n",
    "print(\"a @ b.T:\", f)"
   ]
  },
  {
   "cell_type": "code",
   "execution_count": 7,
   "id": "df5f746a",
   "metadata": {},
   "outputs": [],
   "source": [
    "x=torch.tensor([1,26,9,6,4,8,9])"
   ]
  },
  {
   "cell_type": "code",
   "execution_count": 8,
   "id": "8ddd2a2e",
   "metadata": {},
   "outputs": [
    {
     "data": {
      "text/plain": [
       "tensor([ 1, 26,  9,  6,  4,  8,  9])"
      ]
     },
     "execution_count": 8,
     "metadata": {},
     "output_type": "execute_result"
    }
   ],
   "source": [
    "torch.abs(x)  # Absolute values"
   ]
  },
  {
   "cell_type": "code",
   "execution_count": 9,
   "id": "137d1e6c",
   "metadata": {},
   "outputs": [
    {
     "data": {
      "text/plain": [
       "tensor([ -1, -26,  -9,  -6,  -4,  -8,  -9])"
      ]
     },
     "execution_count": 9,
     "metadata": {},
     "output_type": "execute_result"
    }
   ],
   "source": [
    "torch.neg(x)  # Negation"
   ]
  },
  {
   "cell_type": "code",
   "execution_count": 10,
   "id": "92b394e1",
   "metadata": {},
   "outputs": [
    {
     "data": {
      "text/plain": [
       "tensor([2.7183e+00, 1.9573e+11, 8.1031e+03, 4.0343e+02, 5.4598e+01, 2.9810e+03,\n",
       "        8.1031e+03])"
      ]
     },
     "execution_count": 10,
     "metadata": {},
     "output_type": "execute_result"
    }
   ],
   "source": [
    "torch.exp(x)  # Exponential"
   ]
  },
  {
   "cell_type": "code",
   "execution_count": 11,
   "id": "0f9dd46c",
   "metadata": {},
   "outputs": [
    {
     "data": {
      "text/plain": [
       "tensor([ 1, 26,  9,  6,  4,  8,  9])"
      ]
     },
     "execution_count": 11,
     "metadata": {},
     "output_type": "execute_result"
    }
   ],
   "source": [
    "torch.round(x)  # Rounding"
   ]
  },
  {
   "cell_type": "code",
   "execution_count": 12,
   "id": "cf7ad495",
   "metadata": {},
   "outputs": [
    {
     "data": {
      "text/plain": [
       "tensor([ 5, 10,  9,  6,  5,  8,  9])"
      ]
     },
     "execution_count": 12,
     "metadata": {},
     "output_type": "execute_result"
    }
   ],
   "source": [
    "torch.clamp(x, min=5, max=10)  # Clamping values between 5 and 10"
   ]
  },
  {
   "cell_type": "code",
   "execution_count": 13,
   "id": "9ac6e45b",
   "metadata": {},
   "outputs": [
    {
     "data": {
      "text/plain": [
       "tensor([1.9000, 2.3000, 3.7000, 4.4000])"
      ]
     },
     "execution_count": 13,
     "metadata": {},
     "output_type": "execute_result"
    }
   ],
   "source": [
    "d = torch.tensor([1.9, 2.3, 3.7, 4.4])\n",
    "d"
   ]
  },
  {
   "cell_type": "code",
   "execution_count": 14,
   "id": "823bb055",
   "metadata": {},
   "outputs": [
    {
     "data": {
      "text/plain": [
       "tensor([2., 2., 4., 4.])"
      ]
     },
     "execution_count": 14,
     "metadata": {},
     "output_type": "execute_result"
    }
   ],
   "source": [
    "torch.round(d)  # Rounding to nearest integer"
   ]
  },
  {
   "cell_type": "code",
   "execution_count": 15,
   "id": "7d0a156f",
   "metadata": {},
   "outputs": [
    {
     "data": {
      "text/plain": [
       "tensor([1., 2., 3., 4.])"
      ]
     },
     "execution_count": 15,
     "metadata": {},
     "output_type": "execute_result"
    }
   ],
   "source": [
    "torch.floor(d)  # Rounding down to nearest integer"
   ]
  },
  {
   "cell_type": "code",
   "execution_count": 16,
   "id": "905252ae",
   "metadata": {},
   "outputs": [
    {
     "data": {
      "text/plain": [
       "tensor([2., 3., 4., 5.])"
      ]
     },
     "execution_count": 16,
     "metadata": {},
     "output_type": "execute_result"
    }
   ],
   "source": [
    "torch.ceil(d)  # Ceiling maxmimum to nearest integer"
   ]
  },
  {
   "cell_type": "code",
   "execution_count": 17,
   "id": "ec9cfc3a",
   "metadata": {},
   "outputs": [
    {
     "data": {
      "text/plain": [
       "tensor([5., 5., 5., 5.])"
      ]
     },
     "execution_count": 17,
     "metadata": {},
     "output_type": "execute_result"
    }
   ],
   "source": [
    "torch.clamp(d, min=5, max=10)  # Clamping values between 5 and 10"
   ]
  },
  {
   "cell_type": "markdown",
   "id": "6e4bf54c",
   "metadata": {},
   "source": [
    "## Reuction Operation"
   ]
  },
  {
   "cell_type": "code",
   "execution_count": 18,
   "id": "32e56264",
   "metadata": {},
   "outputs": [],
   "source": [
    "e=torch.randint(size=(2,3),low=0,high=10,dtype=torch.float32)"
   ]
  },
  {
   "cell_type": "code",
   "execution_count": 19,
   "id": "ab265ba0",
   "metadata": {},
   "outputs": [
    {
     "name": "stdout",
     "output_type": "stream",
     "text": [
      "tensor(29.)\n",
      "tensor([11.,  4., 14.])\n",
      "tensor(9.)\n",
      "tensor(4.8333)\n"
     ]
    }
   ],
   "source": [
    "print(torch.sum(e)) # Sum of all elements\n",
    "print(torch.sum(e, dim=0))  # Sum along the first dimension\n",
    "  # Sum along the second dimension\n",
    "print(torch.max(e))  # Maximum value in the tensor\n",
    "print(torch.mean(e))  # Mean of all elements"
   ]
  },
  {
   "cell_type": "code",
   "execution_count": 20,
   "id": "1118a7ee",
   "metadata": {},
   "outputs": [
    {
     "name": "stdout",
     "output_type": "stream",
     "text": [
      "Standard Deviation tensor(3.4303)\n",
      "tensor(11.7667)\n",
      "tensor(1)\n"
     ]
    }
   ],
   "source": [
    "torch.median(e)  # Median of all elements\n",
    "print(\"Standard Deviation\",torch.std(e))  # Standard deviation of all elements\n",
    "print(torch.var(e))  # Variance of all elements\n",
    "print(torch.argmin(e))  # Index of the minimum value"
   ]
  },
  {
   "cell_type": "code",
   "execution_count": 21,
   "id": "62710d7e",
   "metadata": {},
   "outputs": [
    {
     "data": {
      "text/plain": [
       "tensor(0.)"
      ]
     },
     "execution_count": 21,
     "metadata": {},
     "output_type": "execute_result"
    }
   ],
   "source": [
    "# product\n",
    "torch.prod(e)"
   ]
  },
  {
   "cell_type": "markdown",
   "id": "fc7b7788",
   "metadata": {},
   "source": [
    "### Metrix Operation"
   ]
  },
  {
   "cell_type": "code",
   "execution_count": 22,
   "id": "db30e665",
   "metadata": {},
   "outputs": [
    {
     "name": "stdout",
     "output_type": "stream",
     "text": [
      "Matrix 1:\n",
      " tensor([[6., 1., 2., 7.],\n",
      "        [9., 1., 3., 1.],\n",
      "        [1., 1., 6., 4.]])\n",
      "Matrix 2:\n",
      " tensor([[0., 1., 6., 0.],\n",
      "        [7., 5., 6., 0.],\n",
      "        [4., 9., 0., 8.]])\n"
     ]
    }
   ],
   "source": [
    "m1=torch.randint(size=(3,4),low=0,high=10,dtype=torch.float32)\n",
    "m2=torch.randint(size=(3,4),low=0,high=10,dtype=torch.float32)\n",
    "print(\"Matrix 1:\\n\", m1)\n",
    "print(\"Matrix 2:\\n\", m2)\n"
   ]
  },
  {
   "cell_type": "code",
   "execution_count": 23,
   "id": "43165168",
   "metadata": {},
   "outputs": [
    {
     "name": "stdout",
     "output_type": "stream",
     "text": [
      "Matrix addition:\n",
      " tensor([[ 6.,  2.,  8.,  7.],\n",
      "        [16.,  6.,  9.,  1.],\n",
      "        [ 5., 10.,  6., 12.]])\n",
      "Matrix subtraction:\n",
      " tensor([[ 6.,  0., -4.,  7.],\n",
      "        [ 2., -4., -3.,  1.],\n",
      "        [-3., -8.,  6., -4.]])\n",
      "Matrix multiplication:\n",
      " tensor([[ 0.,  1., 12.,  0.],\n",
      "        [63.,  5., 18.,  0.],\n",
      "        [ 4.,  9.,  0., 32.]])\n",
      "Matrix division:\n",
      " tensor([[   inf, 1.0000, 0.3333,    inf],\n",
      "        [1.2857, 0.2000, 0.5000,    inf],\n",
      "        [0.2500, 0.1111,    inf, 0.5000]])\n",
      "Matrix transpose:\n",
      " tensor([[6., 9., 1.],\n",
      "        [1., 1., 1.],\n",
      "        [2., 3., 6.],\n",
      "        [7., 1., 4.]])\n",
      "Matrix dot product:\n",
      " tensor([[13., 59., 89.],\n",
      "        [19., 86., 53.],\n",
      "        [37., 48., 45.]])\n"
     ]
    }
   ],
   "source": [
    "## Matrix operations\n",
    "print(\"Matrix addition:\\n\", m1 + m2)\n",
    "print(\"Matrix subtraction:\\n\", m1 - m2)\n",
    "print(\"Matrix multiplication:\\n\", m1 * m2)\n",
    "print(\"Matrix division:\\n\", m1 / m2)\n",
    "print(\"Matrix transpose:\\n\", m1.T)\n",
    "print(\"Matrix dot product:\\n\", torch.matmul(m1, m2.T))"
   ]
  },
  {
   "cell_type": "markdown",
   "id": "e8254ff5",
   "metadata": {},
   "source": [
    "Element wise operation"
   ]
  },
  {
   "cell_type": "code",
   "execution_count": 24,
   "id": "ddf70eb7",
   "metadata": {},
   "outputs": [
    {
     "name": "stdout",
     "output_type": "stream",
     "text": [
      "Matrix A:\n",
      " tensor([[7., 5., 8., 4.],\n",
      "        [5., 3., 4., 4.],\n",
      "        [7., 2., 8., 6.]])\n",
      "Matrix B:\n",
      " tensor([[2., 5., 2.],\n",
      "        [9., 8., 4.],\n",
      "        [0., 2., 1.],\n",
      "        [5., 4., 5.]])\n",
      "Matrix multiplication result:\n",
      " tensor([[ 79., 107.,  62.],\n",
      "        [ 57.,  73.,  46.],\n",
      "        [ 62.,  91.,  60.]])\n",
      "Element-wise addition:\n",
      " tensor([[ 9., 14.,  8.,  9.],\n",
      "        [10., 11.,  6.,  8.],\n",
      "        [ 9.,  6.,  9., 11.]])\n",
      "Element-wise subtraction:\n",
      " tensor([[ 5., -4.,  8., -1.],\n",
      "        [ 0., -5.,  2.,  0.],\n",
      "        [ 5., -2.,  7.,  1.]])\n"
     ]
    }
   ],
   "source": [
    "a=torch.randint(size=(3,4),low=0,high=10,dtype=torch.float32)\n",
    "b=torch.randint(size=(4,3),low=0,high=10,dtype=torch.float32)\n",
    "print(\"Matrix A:\\n\", a)\n",
    "print(\"Matrix B:\\n\", b)\n",
    "\n",
    "# Matrix multiplication\n",
    "c = torch.matmul(a, b)\n",
    "print(\"Matrix multiplication result:\\n\", c)\n",
    "# Element-wise operations\n",
    "print(\"Element-wise addition:\\n\", a + b.T)\n",
    "print(\"Element-wise subtraction:\\n\", a - b.T)"
   ]
  },
  {
   "cell_type": "code",
   "execution_count": 25,
   "id": "ce2c2cf5",
   "metadata": {},
   "outputs": [
    {
     "data": {
      "text/plain": [
       "tensor(258.)"
      ]
     },
     "execution_count": 25,
     "metadata": {},
     "output_type": "execute_result"
    }
   ],
   "source": [
    "M1= torch.randint(size=(3,3), low=0, high=10, dtype=torch.float32)\n",
    "torch.det(M1)  # Determinant of a square matrix"
   ]
  },
  {
   "cell_type": "markdown",
   "id": "ae0b011c",
   "metadata": {},
   "source": [
    "## Comaprasion Methods"
   ]
  },
  {
   "cell_type": "code",
   "execution_count": 26,
   "id": "69880d6c",
   "metadata": {},
   "outputs": [],
   "source": [
    "i = torch.randint(size=(2,3), low=0, high=10)\n",
    "j = torch.randint(size=(2,3), low=0, high=10)"
   ]
  },
  {
   "cell_type": "code",
   "execution_count": 27,
   "id": "efd4b723",
   "metadata": {},
   "outputs": [
    {
     "name": "stdout",
     "output_type": "stream",
     "text": [
      "Tensor i:\n",
      " tensor([[9, 2, 8],\n",
      "        [7, 8, 5]])\n",
      "Tensor j:\n",
      " tensor([[5, 2, 7],\n",
      "        [4, 5, 7]])\n"
     ]
    }
   ],
   "source": [
    "print(\"Tensor i:\\n\", i)\n",
    "print(\"Tensor j:\\n\", j)\n"
   ]
  },
  {
   "cell_type": "code",
   "execution_count": 28,
   "id": "795b7484",
   "metadata": {},
   "outputs": [
    {
     "name": "stdout",
     "output_type": "stream",
     "text": [
      "tensor([[ True, False,  True],\n",
      "        [ True,  True, False]])\n",
      "tensor([[False, False, False],\n",
      "        [False, False,  True]])\n",
      "tensor([[False,  True, False],\n",
      "        [False, False, False]])\n",
      "tensor([[ True, False,  True],\n",
      "        [ True,  True,  True]])\n",
      "tensor([[ True,  True,  True],\n",
      "        [ True,  True, False]])\n",
      "tensor([[False,  True, False],\n",
      "        [False, False,  True]])\n",
      "tensor(False)\n",
      "tensor(True)\n",
      "tensor([[False, False, False],\n",
      "        [ True, False, False]])\n",
      "tensor([[False,  True,  True],\n",
      "        [False, False,  True]])\n"
     ]
    }
   ],
   "source": [
    "print(i>j)  # Element-wise comparison\n",
    "print(i < j)  # Element-wise comparison\n",
    "print(i == j)  # Element-wise equality check\n",
    "print(i != j)  # Element-wise inequality check\n",
    "print(i >= j)  # Element-wise greater than or equal to\n",
    "print(i <= j)  # Element-wise less than or equal to\n",
    "print(torch.all(i > j))  # Check if all elements in i are greater than j\n",
    "print(torch.any(i < j))  # Check if any element in i is less than j\n",
    "print(torch.logical_and(i > 5, j < 5))  # Element-wise logical AND\n",
    "print(torch.logical_or(i < 5, j > 5))  # Element-wise logical OR"
   ]
  },
  {
   "cell_type": "markdown",
   "id": "b5e1107c",
   "metadata": {},
   "source": [
    "6. Special Function"
   ]
  },
  {
   "cell_type": "code",
   "execution_count": 29,
   "id": "2056e98f",
   "metadata": {},
   "outputs": [
    {
     "name": "stdout",
     "output_type": "stream",
     "text": [
      "Tensor k:\n",
      " tensor([[5., 8., 6.],\n",
      "        [6., 1., 9.]])\n"
     ]
    }
   ],
   "source": [
    "k=torch.randint(size=(2,3), low=0, high=10, dtype=torch.float32)\n",
    "\n",
    "print(\"Tensor k:\\n\", k)\n"
   ]
  },
  {
   "cell_type": "code",
   "execution_count": 30,
   "id": "e788324d",
   "metadata": {},
   "outputs": [
    {
     "name": "stdout",
     "output_type": "stream",
     "text": [
      "tensor([[1.6094, 2.0794, 1.7918],\n",
      "        [1.7918, 0.0000, 2.1972]])\n",
      "tensor([[0.6990, 0.9031, 0.7782],\n",
      "        [0.7782, 0.0000, 0.9542]])\n"
     ]
    }
   ],
   "source": [
    "#log\n",
    "\n",
    "print(torch.log(k))  # Natural logarithm\n",
    "print(torch.log10(k))  # Base-10 logarithm"
   ]
  },
  {
   "cell_type": "code",
   "execution_count": 31,
   "id": "acd2f815",
   "metadata": {},
   "outputs": [
    {
     "name": "stdout",
     "output_type": "stream",
     "text": [
      "tensor([[1.4841e+02, 2.9810e+03, 4.0343e+02],\n",
      "        [4.0343e+02, 2.7183e+00, 8.1031e+03]])\n",
      "tensor([[1.4741e+02, 2.9800e+03, 4.0243e+02],\n",
      "        [4.0243e+02, 1.7183e+00, 8.1021e+03]])\n"
     ]
    }
   ],
   "source": [
    "#exp\n",
    "\n",
    "print(torch.exp(k))  # Exponential function\n",
    "print(torch.expm1(k))  # Exponential minus one"
   ]
  },
  {
   "cell_type": "code",
   "execution_count": 32,
   "id": "cdd81594",
   "metadata": {},
   "outputs": [
    {
     "name": "stdout",
     "output_type": "stream",
     "text": [
      "tensor([[2.2361, 2.8284, 2.4495],\n",
      "        [2.4495, 1.0000, 3.0000]])\n",
      "tensor([[0.4472, 0.3536, 0.4082],\n",
      "        [0.4082, 1.0000, 0.3333]])\n"
     ]
    }
   ],
   "source": [
    "print(torch.sqrt(k) ) # Square root\n",
    "print(torch.rsqrt(k))  # Reciprocal square root"
   ]
  },
  {
   "cell_type": "code",
   "execution_count": 33,
   "id": "e5634b56",
   "metadata": {},
   "outputs": [
    {
     "name": "stdout",
     "output_type": "stream",
     "text": [
      "tensor([[5., 8., 6.],\n",
      "        [6., 1., 9.]])\n"
     ]
    }
   ],
   "source": [
    "#relu\n",
    "\n",
    "print(torch.relu(k))  # Rectified Linear Unit (ReLU)"
   ]
  },
  {
   "cell_type": "code",
   "execution_count": 34,
   "id": "faf0a79b",
   "metadata": {},
   "outputs": [],
   "source": [
    "#softmax"
   ]
  }
 ],
 "metadata": {
  "kernelspec": {
   "display_name": ".env",
   "language": "python",
   "name": "python3"
  },
  "language_info": {
   "codemirror_mode": {
    "name": "ipython",
    "version": 3
   },
   "file_extension": ".py",
   "mimetype": "text/x-python",
   "name": "python",
   "nbconvert_exporter": "python",
   "pygments_lexer": "ipython3",
   "version": "3.10.10"
  }
 },
 "nbformat": 4,
 "nbformat_minor": 5
}
