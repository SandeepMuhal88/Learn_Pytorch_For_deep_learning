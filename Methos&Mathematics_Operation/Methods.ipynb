{
 "cells": [
  {
   "cell_type": "code",
   "execution_count": 56,
   "id": "529a8e2b",
   "metadata": {},
   "outputs": [
    {
     "name": "stdout",
     "output_type": "stream",
     "text": [
      "2.5.1+cu118\n",
      "Cuda True\n"
     ]
    }
   ],
   "source": [
    "import torch\n",
    "print(torch.__version__)\n",
    "\n",
    "print(\"Cuda\",torch.cuda.is_available())\n"
   ]
  },
  {
   "cell_type": "code",
   "execution_count": 57,
   "id": "379927cc",
   "metadata": {},
   "outputs": [
    {
     "name": "stdout",
     "output_type": "stream",
     "text": [
      "Cuda version 11.8\n",
      "using  device NVIDIA GeForce RTX 4060 Laptop GPU\n"
     ]
    }
   ],
   "source": [
    "if torch.cuda.is_available():\n",
    "    print(\"Cuda version\",torch.version.cuda)\n",
    "    print(\"using  device\",torch.cuda.get_device_name())\n",
    "else:\n",
    "    print(\"Cuda not available, using CPU\")"
   ]
  },
  {
   "cell_type": "markdown",
   "id": "83397f88",
   "metadata": {},
   "source": [
    "## Scaler_Operation"
   ]
  },
  {
   "cell_type": "code",
   "execution_count": 58,
   "id": "c4df7edf",
   "metadata": {},
   "outputs": [
    {
     "name": "stdout",
     "output_type": "stream",
     "text": [
      "a: tensor([[0.6616, 0.7098, 0.2644],\n",
      "        [0.9871, 0.1392, 0.4786]])\n",
      "b: tensor([[0.7621, 0.5586, 0.6459],\n",
      "        [0.8934, 0.1481, 0.7861]])\n"
     ]
    }
   ],
   "source": [
    "a=torch.rand(2, 3)\n",
    "b=torch.rand(2, 3)\n",
    "\n",
    "print(\"a:\", a)\n",
    "print(\"b:\", b)"
   ]
  },
  {
   "cell_type": "code",
   "execution_count": 59,
   "id": "13218ae7",
   "metadata": {},
   "outputs": [
    {
     "name": "stdout",
     "output_type": "stream",
     "text": [
      "a + b: tensor([[1.4237, 1.2684, 0.9103],\n",
      "        [1.8804, 0.2872, 1.2648]])\n"
     ]
    }
   ],
   "source": [
    "##addition\n",
    "c = a + b\n",
    "print(\"a + b:\", c)"
   ]
  },
  {
   "cell_type": "code",
   "execution_count": 60,
   "id": "9fc8bce7",
   "metadata": {},
   "outputs": [
    {
     "data": {
      "text/plain": [
       "tensor([[-0.1005,  0.1512, -0.3814],\n",
       "        [ 0.0937, -0.0089, -0.3075]])"
      ]
     },
     "execution_count": 60,
     "metadata": {},
     "output_type": "execute_result"
    }
   ],
   "source": [
    "#Subtraction\n",
    "a-b"
   ]
  },
  {
   "cell_type": "code",
   "execution_count": 61,
   "id": "730f58d5",
   "metadata": {},
   "outputs": [
    {
     "name": "stdout",
     "output_type": "stream",
     "text": [
      "a * b: tensor([[0.5042, 0.3965, 0.1708],\n",
      "        [0.8818, 0.0206, 0.3763]])\n",
      "a / b: tensor([[0.8682, 1.2707, 0.4094],\n",
      "        [1.1049, 0.9399, 0.6088]])\n",
      "a @ b.T: tensor([[1.0715, 0.9041],\n",
      "        [1.1391, 1.2787]])\n"
     ]
    }
   ],
   "source": [
    "#Multiplication\n",
    "d = a * b\n",
    "print(\"a * b:\", d)\n",
    "#Division\n",
    "e = a / b\n",
    "print(\"a / b:\", e)\n",
    "#Matrix multiplication\n",
    "f = torch.matmul(a, b.T)\n",
    "print(\"a @ b.T:\", f)"
   ]
  },
  {
   "cell_type": "code",
   "execution_count": 62,
   "id": "df5f746a",
   "metadata": {},
   "outputs": [],
   "source": [
    "x=torch.tensor([1,26,9,6,4,8,9])"
   ]
  },
  {
   "cell_type": "code",
   "execution_count": 63,
   "id": "8ddd2a2e",
   "metadata": {},
   "outputs": [
    {
     "data": {
      "text/plain": [
       "tensor([ 1, 26,  9,  6,  4,  8,  9])"
      ]
     },
     "execution_count": 63,
     "metadata": {},
     "output_type": "execute_result"
    }
   ],
   "source": [
    "torch.abs(x)  # Absolute values"
   ]
  },
  {
   "cell_type": "code",
   "execution_count": 64,
   "id": "137d1e6c",
   "metadata": {},
   "outputs": [
    {
     "data": {
      "text/plain": [
       "tensor([ -1, -26,  -9,  -6,  -4,  -8,  -9])"
      ]
     },
     "execution_count": 64,
     "metadata": {},
     "output_type": "execute_result"
    }
   ],
   "source": [
    "torch.neg(x)  # Negation"
   ]
  },
  {
   "cell_type": "code",
   "execution_count": 65,
   "id": "92b394e1",
   "metadata": {},
   "outputs": [
    {
     "data": {
      "text/plain": [
       "tensor([2.7183e+00, 1.9573e+11, 8.1031e+03, 4.0343e+02, 5.4598e+01, 2.9810e+03,\n",
       "        8.1031e+03])"
      ]
     },
     "execution_count": 65,
     "metadata": {},
     "output_type": "execute_result"
    }
   ],
   "source": [
    "torch.exp(x)  # Exponential"
   ]
  },
  {
   "cell_type": "code",
   "execution_count": 66,
   "id": "0f9dd46c",
   "metadata": {},
   "outputs": [
    {
     "data": {
      "text/plain": [
       "tensor([ 1, 26,  9,  6,  4,  8,  9])"
      ]
     },
     "execution_count": 66,
     "metadata": {},
     "output_type": "execute_result"
    }
   ],
   "source": [
    "torch.round(x)  # Rounding"
   ]
  },
  {
   "cell_type": "code",
   "execution_count": 67,
   "id": "cf7ad495",
   "metadata": {},
   "outputs": [
    {
     "data": {
      "text/plain": [
       "tensor([ 5, 10,  9,  6,  5,  8,  9])"
      ]
     },
     "execution_count": 67,
     "metadata": {},
     "output_type": "execute_result"
    }
   ],
   "source": [
    "torch.clamp(x, min=5, max=10)  # Clamping values between 5 and 10"
   ]
  },
  {
   "cell_type": "code",
   "execution_count": 68,
   "id": "9ac6e45b",
   "metadata": {},
   "outputs": [
    {
     "data": {
      "text/plain": [
       "tensor([1.9000, 2.3000, 3.7000, 4.4000])"
      ]
     },
     "execution_count": 68,
     "metadata": {},
     "output_type": "execute_result"
    }
   ],
   "source": [
    "d = torch.tensor([1.9, 2.3, 3.7, 4.4])\n",
    "d"
   ]
  },
  {
   "cell_type": "code",
   "execution_count": 69,
   "id": "823bb055",
   "metadata": {},
   "outputs": [
    {
     "data": {
      "text/plain": [
       "tensor([2., 2., 4., 4.])"
      ]
     },
     "execution_count": 69,
     "metadata": {},
     "output_type": "execute_result"
    }
   ],
   "source": [
    "torch.round(d)  # Rounding to nearest integer"
   ]
  },
  {
   "cell_type": "code",
   "execution_count": 70,
   "id": "7d0a156f",
   "metadata": {},
   "outputs": [
    {
     "data": {
      "text/plain": [
       "tensor([1., 2., 3., 4.])"
      ]
     },
     "execution_count": 70,
     "metadata": {},
     "output_type": "execute_result"
    }
   ],
   "source": [
    "torch.floor(d)  # Rounding down to nearest integer"
   ]
  },
  {
   "cell_type": "code",
   "execution_count": 71,
   "id": "905252ae",
   "metadata": {},
   "outputs": [
    {
     "data": {
      "text/plain": [
       "tensor([2., 3., 4., 5.])"
      ]
     },
     "execution_count": 71,
     "metadata": {},
     "output_type": "execute_result"
    }
   ],
   "source": [
    "torch.ceil(d)  # Ceiling maxmimum to nearest integer"
   ]
  },
  {
   "cell_type": "code",
   "execution_count": 72,
   "id": "ec9cfc3a",
   "metadata": {},
   "outputs": [
    {
     "data": {
      "text/plain": [
       "tensor([5., 5., 5., 5.])"
      ]
     },
     "execution_count": 72,
     "metadata": {},
     "output_type": "execute_result"
    }
   ],
   "source": [
    "torch.clamp(d, min=5, max=10)  # Clamping values between 5 and 10"
   ]
  },
  {
   "cell_type": "markdown",
   "id": "6e4bf54c",
   "metadata": {},
   "source": [
    "## Reuction Operation"
   ]
  },
  {
   "cell_type": "code",
   "execution_count": 78,
   "id": "32e56264",
   "metadata": {},
   "outputs": [],
   "source": [
    "e=torch.randint(size=(2,3),low=0,high=10,dtype=torch.float32)"
   ]
  },
  {
   "cell_type": "code",
   "execution_count": 79,
   "id": "ab265ba0",
   "metadata": {},
   "outputs": [
    {
     "name": "stdout",
     "output_type": "stream",
     "text": [
      "tensor(30.)\n",
      "tensor([12., 14.,  4.])\n",
      "tensor(8.)\n",
      "tensor(5.)\n"
     ]
    }
   ],
   "source": [
    "print(torch.sum(e)) # Sum of all elements\n",
    "print(torch.sum(e, dim=0))  # Sum along the first dimension\n",
    "  # Sum along the second dimension\n",
    "print(torch.max(e))  # Maximum value in the tensor\n",
    "print(torch.mean(e))  # Mean of all elements"
   ]
  },
  {
   "cell_type": "code",
   "execution_count": 81,
   "id": "1118a7ee",
   "metadata": {},
   "outputs": [
    {
     "name": "stdout",
     "output_type": "stream",
     "text": [
      "Standard Deviation tensor(2.8284)\n",
      "tensor(8.)\n",
      "tensor(2)\n"
     ]
    }
   ],
   "source": [
    "torch.median(e)  # Median of all elements\n",
    "print(\"Standard Deviation\",torch.std(e))  # Standard deviation of all elements\n",
    "print(torch.var(e))  # Variance of all elements\n",
    "print(torch.argmin(e))  # Index of the minimum value"
   ]
  },
  {
   "cell_type": "code",
   "execution_count": 82,
   "id": "62710d7e",
   "metadata": {},
   "outputs": [
    {
     "data": {
      "text/plain": [
       "tensor(4608.)"
      ]
     },
     "execution_count": 82,
     "metadata": {},
     "output_type": "execute_result"
    }
   ],
   "source": [
    "# product\n",
    "torch.prod(e)"
   ]
  },
  {
   "cell_type": "markdown",
   "id": "fc7b7788",
   "metadata": {},
   "source": [
    "### Metrix Operation"
   ]
  },
  {
   "cell_type": "code",
   "execution_count": 92,
   "id": "db30e665",
   "metadata": {},
   "outputs": [
    {
     "name": "stdout",
     "output_type": "stream",
     "text": [
      "Matrix 1:\n",
      " tensor([[6., 9., 6., 7.],\n",
      "        [1., 1., 7., 2.],\n",
      "        [4., 1., 6., 5.]])\n",
      "Matrix 2:\n",
      " tensor([[3., 9., 4., 8.],\n",
      "        [6., 5., 0., 6.],\n",
      "        [4., 8., 2., 5.]])\n"
     ]
    }
   ],
   "source": [
    "m1=torch.randint(size=(3,4),low=0,high=10,dtype=torch.float32)\n",
    "m2=torch.randint(size=(3,4),low=0,high=10,dtype=torch.float32)\n",
    "print(\"Matrix 1:\\n\", m1)\n",
    "print(\"Matrix 2:\\n\", m2)\n"
   ]
  },
  {
   "cell_type": "code",
   "execution_count": 93,
   "id": "43165168",
   "metadata": {},
   "outputs": [
    {
     "name": "stdout",
     "output_type": "stream",
     "text": [
      "Matrix addition:\n",
      " tensor([[ 9., 18., 10., 15.],\n",
      "        [ 7.,  6.,  7.,  8.],\n",
      "        [ 8.,  9.,  8., 10.]])\n",
      "Matrix subtraction:\n",
      " tensor([[ 3.,  0.,  2., -1.],\n",
      "        [-5., -4.,  7., -4.],\n",
      "        [ 0., -7.,  4.,  0.]])\n",
      "Matrix multiplication:\n",
      " tensor([[18., 81., 24., 56.],\n",
      "        [ 6.,  5.,  0., 12.],\n",
      "        [16.,  8., 12., 25.]])\n",
      "Matrix division:\n",
      " tensor([[2.0000, 1.0000, 1.5000, 0.8750],\n",
      "        [0.1667, 0.2000,    inf, 0.3333],\n",
      "        [1.0000, 0.1250, 3.0000, 1.0000]])\n",
      "Matrix transpose:\n",
      " tensor([[6., 1., 4.],\n",
      "        [9., 1., 1.],\n",
      "        [6., 7., 6.],\n",
      "        [7., 2., 5.]])\n",
      "Matrix dot product:\n",
      " tensor([[179., 123., 143.],\n",
      "        [ 56.,  23.,  36.],\n",
      "        [ 85.,  59.,  61.]])\n"
     ]
    }
   ],
   "source": [
    "## Matrix operations\n",
    "print(\"Matrix addition:\\n\", m1 + m2)\n",
    "print(\"Matrix subtraction:\\n\", m1 - m2)\n",
    "print(\"Matrix multiplication:\\n\", m1 * m2)\n",
    "print(\"Matrix division:\\n\", m1 / m2)\n",
    "print(\"Matrix transpose:\\n\", m1.T)\n",
    "print(\"Matrix dot product:\\n\", torch.matmul(m1, m2.T))"
   ]
  },
  {
   "cell_type": "markdown",
   "id": "e8254ff5",
   "metadata": {},
   "source": [
    "Element wise operation"
   ]
  },
  {
   "cell_type": "code",
   "execution_count": 95,
   "id": "ddf70eb7",
   "metadata": {},
   "outputs": [
    {
     "name": "stdout",
     "output_type": "stream",
     "text": [
      "Matrix A:\n",
      " tensor([[3., 4., 8., 9.],\n",
      "        [3., 7., 1., 2.],\n",
      "        [5., 7., 2., 6.]])\n",
      "Matrix B:\n",
      " tensor([[3., 7., 5.],\n",
      "        [7., 5., 7.],\n",
      "        [9., 8., 8.],\n",
      "        [7., 7., 6.]])\n",
      "Matrix multiplication result:\n",
      " tensor([[172., 168., 161.],\n",
      "        [ 81.,  78.,  84.],\n",
      "        [124., 128., 126.]])\n",
      "Element-wise addition:\n",
      " tensor([[ 6., 11., 17., 16.],\n",
      "        [10., 12.,  9.,  9.],\n",
      "        [10., 14., 10., 12.]])\n",
      "Element-wise subtraction:\n",
      " tensor([[ 0., -3., -1.,  2.],\n",
      "        [-4.,  2., -7., -5.],\n",
      "        [ 0.,  0., -6.,  0.]])\n"
     ]
    }
   ],
   "source": [
    "a=torch.randint(size=(3,4),low=0,high=10,dtype=torch.float32)\n",
    "b=torch.randint(size=(4,3),low=0,high=10,dtype=torch.float32)\n",
    "print(\"Matrix A:\\n\", a)\n",
    "print(\"Matrix B:\\n\", b)\n",
    "\n",
    "# Matrix multiplication\n",
    "c = torch.matmul(a, b)\n",
    "print(\"Matrix multiplication result:\\n\", c)\n",
    "# Element-wise operations\n",
    "print(\"Element-wise addition:\\n\", a + b.T)\n",
    "print(\"Element-wise subtraction:\\n\", a - b.T)"
   ]
  },
  {
   "cell_type": "code",
   "execution_count": 97,
   "id": "ce2c2cf5",
   "metadata": {},
   "outputs": [
    {
     "data": {
      "text/plain": [
       "tensor(94.)"
      ]
     },
     "execution_count": 97,
     "metadata": {},
     "output_type": "execute_result"
    }
   ],
   "source": [
    "M1= torch.randint(size=(3,3), low=0, high=10, dtype=torch.float32)\n",
    "torch.det(M1)  # Determinant of a square matrix"
   ]
  },
  {
   "cell_type": "markdown",
   "id": "ae0b011c",
   "metadata": {},
   "source": [
    "## Comaprasion Methods"
   ]
  },
  {
   "cell_type": "code",
   "execution_count": 98,
   "id": "69880d6c",
   "metadata": {},
   "outputs": [],
   "source": [
    "i = torch.randint(size=(2,3), low=0, high=10)\n",
    "j = torch.randint(size=(2,3), low=0, high=10)"
   ]
  },
  {
   "cell_type": "code",
   "execution_count": 99,
   "id": "efd4b723",
   "metadata": {},
   "outputs": [
    {
     "name": "stdout",
     "output_type": "stream",
     "text": [
      "Tensor i:\n",
      " tensor([[9, 3, 8],\n",
      "        [2, 8, 2]])\n",
      "Tensor j:\n",
      " tensor([[2, 2, 5],\n",
      "        [8, 6, 5]])\n"
     ]
    }
   ],
   "source": [
    "print(\"Tensor i:\\n\", i)\n",
    "print(\"Tensor j:\\n\", j)\n"
   ]
  },
  {
   "cell_type": "code",
   "execution_count": 102,
   "id": "795b7484",
   "metadata": {},
   "outputs": [
    {
     "name": "stdout",
     "output_type": "stream",
     "text": [
      "tensor([[ True,  True,  True],\n",
      "        [False,  True, False]])\n",
      "tensor([[False, False, False],\n",
      "        [ True, False,  True]])\n",
      "tensor([[False, False, False],\n",
      "        [False, False, False]])\n",
      "tensor([[True, True, True],\n",
      "        [True, True, True]])\n",
      "tensor([[ True,  True,  True],\n",
      "        [False,  True, False]])\n",
      "tensor([[False, False, False],\n",
      "        [ True, False,  True]])\n",
      "tensor(False)\n",
      "tensor(True)\n",
      "tensor([[ True, False, False],\n",
      "        [False, False, False]])\n",
      "tensor([[False,  True, False],\n",
      "        [ True,  True,  True]])\n"
     ]
    }
   ],
   "source": [
    "print(i>j)  # Element-wise comparison\n",
    "print(i < j)  # Element-wise comparison\n",
    "print(i == j)  # Element-wise equality check\n",
    "print(i != j)  # Element-wise inequality check\n",
    "print(i >= j)  # Element-wise greater than or equal to\n",
    "print(i <= j)  # Element-wise less than or equal to\n",
    "print(torch.all(i > j))  # Check if all elements in i are greater than j\n",
    "print(torch.any(i < j))  # Check if any element in i is less than j\n",
    "print(torch.logical_and(i > 5, j < 5))  # Element-wise logical AND\n",
    "print(torch.logical_or(i < 5, j > 5))  # Element-wise logical OR"
   ]
  },
  {
   "cell_type": "markdown",
   "id": "b5e1107c",
   "metadata": {},
   "source": [
    "6. Special Function"
   ]
  },
  {
   "cell_type": "code",
   "execution_count": 104,
   "id": "2056e98f",
   "metadata": {},
   "outputs": [
    {
     "name": "stdout",
     "output_type": "stream",
     "text": [
      "Tensor k:\n",
      " tensor([[0., 5., 7.],\n",
      "        [4., 1., 5.]])\n"
     ]
    }
   ],
   "source": [
    "k=torch.randint(size=(2,3), low=0, high=10, dtype=torch.float32)\n",
    "\n",
    "print(\"Tensor k:\\n\", k)\n"
   ]
  },
  {
   "cell_type": "code",
   "execution_count": 105,
   "id": "e788324d",
   "metadata": {},
   "outputs": [
    {
     "name": "stdout",
     "output_type": "stream",
     "text": [
      "tensor([[  -inf, 1.6094, 1.9459],\n",
      "        [1.3863, 0.0000, 1.6094]])\n",
      "tensor([[  -inf, 0.6990, 0.8451],\n",
      "        [0.6021, 0.0000, 0.6990]])\n"
     ]
    }
   ],
   "source": [
    "#log\n",
    "\n",
    "print(torch.log(k))  # Natural logarithm\n",
    "print(torch.log10(k))  # Base-10 logarithm"
   ]
  },
  {
   "cell_type": "code",
   "execution_count": 106,
   "id": "acd2f815",
   "metadata": {},
   "outputs": [
    {
     "name": "stdout",
     "output_type": "stream",
     "text": [
      "tensor([[1.0000e+00, 1.4841e+02, 1.0966e+03],\n",
      "        [5.4598e+01, 2.7183e+00, 1.4841e+02]])\n",
      "tensor([[   0.0000,  147.4132, 1095.6332],\n",
      "        [  53.5981,    1.7183,  147.4132]])\n"
     ]
    }
   ],
   "source": [
    "#exp\n",
    "\n",
    "print(torch.exp(k))  # Exponential function\n",
    "print(torch.expm1(k))  # Exponential minus one"
   ]
  },
  {
   "cell_type": "code",
   "execution_count": 109,
   "id": "cdd81594",
   "metadata": {},
   "outputs": [
    {
     "name": "stdout",
     "output_type": "stream",
     "text": [
      "tensor([[0.0000, 2.2361, 2.6458],\n",
      "        [2.0000, 1.0000, 2.2361]])\n",
      "tensor([[   inf, 0.4472, 0.3780],\n",
      "        [0.5000, 1.0000, 0.4472]])\n"
     ]
    }
   ],
   "source": [
    "print(torch.sqrt(k) ) # Square root\n",
    "print(torch.rsqrt(k))  # Reciprocal square root"
   ]
  },
  {
   "cell_type": "code",
   "execution_count": 110,
   "id": "e5634b56",
   "metadata": {},
   "outputs": [
    {
     "name": "stdout",
     "output_type": "stream",
     "text": [
      "tensor([[0., 5., 7.],\n",
      "        [4., 1., 5.]])\n"
     ]
    }
   ],
   "source": [
    "#relu\n",
    "\n",
    "print(torch.relu(k))  # Rectified Linear Unit (ReLU)"
   ]
  },
  {
   "cell_type": "code",
   "execution_count": 111,
   "id": "faf0a79b",
   "metadata": {},
   "outputs": [],
   "source": [
    "#softmax"
   ]
  }
 ],
 "metadata": {
  "kernelspec": {
   "display_name": ".env",
   "language": "python",
   "name": "python3"
  },
  "language_info": {
   "codemirror_mode": {
    "name": "ipython",
    "version": 3
   },
   "file_extension": ".py",
   "mimetype": "text/x-python",
   "name": "python",
   "nbconvert_exporter": "python",
   "pygments_lexer": "ipython3",
   "version": "3.10.10"
  }
 },
 "nbformat": 4,
 "nbformat_minor": 5
}
