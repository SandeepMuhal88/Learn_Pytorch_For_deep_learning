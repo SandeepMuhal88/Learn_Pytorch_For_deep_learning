{
  "nbformat": 4,
  "nbformat_minor": 0,
  "metadata": {
    "colab": {
      "provenance": [],
      "gpuType": "T4"
    },
    "kernelspec": {
      "name": "python3",
      "display_name": "Python 3"
    },
    "language_info": {
      "name": "python"
    },
    "accelerator": "GPU"
  },
  "cells": [
    {
      "cell_type": "code",
      "execution_count": 1,
      "metadata": {
        "id": "CgXm9hilS5-L"
      },
      "outputs": [],
      "source": [
        "import torch"
      ]
    },
    {
      "cell_type": "code",
      "source": [
        "print(torch.__version__)"
      ],
      "metadata": {
        "colab": {
          "base_uri": "https://localhost:8080/"
        },
        "id": "KqRaYm3QWVLR",
        "outputId": "4a2fdba1-cb9a-41e2-f280-edbda9ed66ad"
      },
      "execution_count": 3,
      "outputs": [
        {
          "output_type": "stream",
          "name": "stdout",
          "text": [
            "2.6.0+cu124\n"
          ]
        }
      ]
    },
    {
      "cell_type": "code",
      "source": [
        "print(\"GPU Avialabilty\",torch.cuda.is_available())\n",
        "print(\"GPU Device Count\",torch.cuda.device_count())\n",
        "print(\"GPU Device Name\",torch.cuda.get_device_name(0))"
      ],
      "metadata": {
        "colab": {
          "base_uri": "https://localhost:8080/"
        },
        "id": "Ecr2_xf_WiyC",
        "outputId": "2c726d9e-4033-4d5b-9429-644c7d5a30eb"
      },
      "execution_count": 4,
      "outputs": [
        {
          "output_type": "stream",
          "name": "stdout",
          "text": [
            "GPU Avialabilty True\n",
            "GPU Device Count 1\n",
            "GPU Device Name Tesla T4\n"
          ]
        }
      ]
    },
    {
      "cell_type": "markdown",
      "source": [
        "Cretaing Tesors and Metods"
      ],
      "metadata": {
        "id": "De1FyuPNWzO2"
      }
    },
    {
      "cell_type": "code",
      "source": [
        "torch.empty(2,3)"
      ],
      "metadata": {
        "colab": {
          "base_uri": "https://localhost:8080/"
        },
        "id": "hKupMa_RW7hQ",
        "outputId": "a850b479-ae30-4e86-f295-7aa2122aa7eb"
      },
      "execution_count": 7,
      "outputs": [
        {
          "output_type": "execute_result",
          "data": {
            "text/plain": [
              "tensor([[2.8183e+20, 6.1972e-04, 1.4588e-19],\n",
              "        [7.2708e+31, 7.1430e+31, 1.5766e-19]])"
            ]
          },
          "metadata": {},
          "execution_count": 7
        }
      ]
    },
    {
      "cell_type": "code",
      "source": [
        "a=torch.empty(4,5)\n",
        "print(\"Types\",type(a))"
      ],
      "metadata": {
        "colab": {
          "base_uri": "https://localhost:8080/"
        },
        "id": "naYTxUksXAUb",
        "outputId": "15e3591b-6ced-46c0-8bb7-e4235751226f"
      },
      "execution_count": 8,
      "outputs": [
        {
          "output_type": "stream",
          "name": "stdout",
          "text": [
            "Types <class 'torch.Tensor'>\n"
          ]
        }
      ]
    },
    {
      "cell_type": "code",
      "source": [
        "#using zeros\n",
        "torch.zeros(2,6)"
      ],
      "metadata": {
        "colab": {
          "base_uri": "https://localhost:8080/"
        },
        "id": "_ItJUNiwXim1",
        "outputId": "d7f66357-dd5a-4eed-8a1f-681ddd27b85e"
      },
      "execution_count": 10,
      "outputs": [
        {
          "output_type": "execute_result",
          "data": {
            "text/plain": [
              "tensor([[0., 0., 0., 0., 0., 0.],\n",
              "        [0., 0., 0., 0., 0., 0.]])"
            ]
          },
          "metadata": {},
          "execution_count": 10
        }
      ]
    },
    {
      "cell_type": "code",
      "source": [
        "#using Ones\n",
        "torch.ones(2,3)"
      ],
      "metadata": {
        "colab": {
          "base_uri": "https://localhost:8080/"
        },
        "id": "fC0GZLxeXvGI",
        "outputId": "c3e1234e-efda-41b6-f0e6-d78fc2b970aa"
      },
      "execution_count": 11,
      "outputs": [
        {
          "output_type": "execute_result",
          "data": {
            "text/plain": [
              "tensor([[1., 1., 1.],\n",
              "        [1., 1., 1.]])"
            ]
          },
          "metadata": {},
          "execution_count": 11
        }
      ]
    },
    {
      "cell_type": "code",
      "source": [
        "torch.rand(3,6)"
      ],
      "metadata": {
        "colab": {
          "base_uri": "https://localhost:8080/"
        },
        "id": "cfCBIUlWX3yG",
        "outputId": "fda2a4cd-d0f7-4987-ed0c-fd0ca400b52f"
      },
      "execution_count": 12,
      "outputs": [
        {
          "output_type": "execute_result",
          "data": {
            "text/plain": [
              "tensor([[0.0595, 0.8053, 0.3800, 0.7995, 0.5950, 0.5324],\n",
              "        [0.3235, 0.5354, 0.0612, 0.5778, 0.1587, 0.9545],\n",
              "        [0.3191, 0.7166, 0.3933, 0.7861, 0.9787, 0.5011]])"
            ]
          },
          "metadata": {},
          "execution_count": 12
        }
      ]
    },
    {
      "cell_type": "code",
      "source": [
        "torch.rand(3,6)"
      ],
      "metadata": {
        "colab": {
          "base_uri": "https://localhost:8080/"
        },
        "id": "EfexUeNGYOr-",
        "outputId": "9a0f141a-aecc-44e5-c7e5-ddd66fdf34c9"
      },
      "execution_count": 15,
      "outputs": [
        {
          "output_type": "execute_result",
          "data": {
            "text/plain": [
              "tensor([[0.5858, 0.7911, 0.5986, 0.3322, 0.3564, 0.2020],\n",
              "        [0.2942, 0.2891, 0.2449, 0.4904, 0.4813, 0.1547],\n",
              "        [0.6387, 0.6663, 0.0782, 0.1822, 0.3371, 0.6073]])"
            ]
          },
          "metadata": {},
          "execution_count": 15
        }
      ]
    },
    {
      "cell_type": "code",
      "source": [
        "#using seed\n",
        "torch.manual_seed(42)\n",
        "torch.rand(5,6)"
      ],
      "metadata": {
        "colab": {
          "base_uri": "https://localhost:8080/"
        },
        "id": "rqxzW7GMX_Rs",
        "outputId": "97a0ca1d-cc3e-41da-a8f0-83d16c53eaa1"
      },
      "execution_count": 16,
      "outputs": [
        {
          "output_type": "execute_result",
          "data": {
            "text/plain": [
              "tensor([[0.8823, 0.9150, 0.3829, 0.9593, 0.3904, 0.6009],\n",
              "        [0.2566, 0.7936, 0.9408, 0.1332, 0.9346, 0.5936],\n",
              "        [0.8694, 0.5677, 0.7411, 0.4294, 0.8854, 0.5739],\n",
              "        [0.2666, 0.6274, 0.2696, 0.4414, 0.2969, 0.8317],\n",
              "        [0.1053, 0.2695, 0.3588, 0.1994, 0.5472, 0.0062]])"
            ]
          },
          "metadata": {},
          "execution_count": 16
        }
      ]
    },
    {
      "cell_type": "code",
      "source": [
        "torch.manual_seed(42)\n",
        "torch.rand(5,6)"
      ],
      "metadata": {
        "colab": {
          "base_uri": "https://localhost:8080/"
        },
        "id": "wvFFd2uHYGZT",
        "outputId": "0376d8dc-8e22-4fb2-a857-c6a5423ca692"
      },
      "execution_count": 18,
      "outputs": [
        {
          "output_type": "execute_result",
          "data": {
            "text/plain": [
              "tensor([[0.8823, 0.9150, 0.3829, 0.9593, 0.3904, 0.6009],\n",
              "        [0.2566, 0.7936, 0.9408, 0.1332, 0.9346, 0.5936],\n",
              "        [0.8694, 0.5677, 0.7411, 0.4294, 0.8854, 0.5739],\n",
              "        [0.2666, 0.6274, 0.2696, 0.4414, 0.2969, 0.8317],\n",
              "        [0.1053, 0.2695, 0.3588, 0.1994, 0.5472, 0.0062]])"
            ]
          },
          "metadata": {},
          "execution_count": 18
        }
      ]
    },
    {
      "cell_type": "code",
      "source": [
        "torch.tensor([[1,2,3,4],[4,5,6,9]])"
      ],
      "metadata": {
        "colab": {
          "base_uri": "https://localhost:8080/"
        },
        "id": "g9Zdm08oYd4h",
        "outputId": "db09e550-cb24-460d-c4ea-64989ca020a3"
      },
      "execution_count": 21,
      "outputs": [
        {
          "output_type": "execute_result",
          "data": {
            "text/plain": [
              "tensor([[1, 2, 3, 4],\n",
              "        [4, 5, 6, 9]])"
            ]
          },
          "metadata": {},
          "execution_count": 21
        }
      ]
    },
    {
      "cell_type": "code",
      "source": [
        "#Other Ways\n",
        "\n",
        "print(\"Arrange:-\",torch.arange(0,10000,1000))"
      ],
      "metadata": {
        "colab": {
          "base_uri": "https://localhost:8080/"
        },
        "id": "aViSphx7Y1GQ",
        "outputId": "63a4b98e-a4e3-4ad1-b188-44b8e590ac91"
      },
      "execution_count": 27,
      "outputs": [
        {
          "output_type": "stream",
          "name": "stdout",
          "text": [
            "Arrange:- tensor([   0, 1000, 2000, 3000, 4000, 5000, 6000, 7000, 8000, 9000])\n"
          ]
        }
      ]
    },
    {
      "cell_type": "code",
      "source": [
        "print(\"Linespace\",torch.linspace(0,100,10))"
      ],
      "metadata": {
        "colab": {
          "base_uri": "https://localhost:8080/"
        },
        "id": "eXc42IlxZIiE",
        "outputId": "178a577d-33ce-4d04-86ca-036a729bb6f2"
      },
      "execution_count": 28,
      "outputs": [
        {
          "output_type": "stream",
          "name": "stdout",
          "text": [
            "Linespace tensor([  0.0000,  11.1111,  22.2222,  33.3333,  44.4444,  55.5556,  66.6667,\n",
            "         77.7778,  88.8889, 100.0000])\n"
          ]
        }
      ]
    },
    {
      "cell_type": "code",
      "source": [
        "print(\"Eye(Identity)\",torch.eye(5))"
      ],
      "metadata": {
        "colab": {
          "base_uri": "https://localhost:8080/"
        },
        "id": "7DD5X2FSZcTX",
        "outputId": "951ae36d-70f3-40cb-f10e-3bb60b9df6f9"
      },
      "execution_count": 29,
      "outputs": [
        {
          "output_type": "stream",
          "name": "stdout",
          "text": [
            "Eye(Identity) tensor([[1., 0., 0., 0., 0.],\n",
            "        [0., 1., 0., 0., 0.],\n",
            "        [0., 0., 1., 0., 0.],\n",
            "        [0., 0., 0., 1., 0.],\n",
            "        [0., 0., 0., 0., 1.]])\n"
          ]
        }
      ]
    },
    {
      "cell_type": "code",
      "source": [
        "print(\"Using Full\",torch.full((10,7),5))"
      ],
      "metadata": {
        "colab": {
          "base_uri": "https://localhost:8080/"
        },
        "id": "ee_O1pUUZplj",
        "outputId": "bf15bb6c-8625-4efe-8eb5-b5e0de760b19"
      },
      "execution_count": 31,
      "outputs": [
        {
          "output_type": "stream",
          "name": "stdout",
          "text": [
            "Using Full tensor([[5, 5, 5, 5, 5, 5, 5],\n",
            "        [5, 5, 5, 5, 5, 5, 5],\n",
            "        [5, 5, 5, 5, 5, 5, 5],\n",
            "        [5, 5, 5, 5, 5, 5, 5],\n",
            "        [5, 5, 5, 5, 5, 5, 5],\n",
            "        [5, 5, 5, 5, 5, 5, 5],\n",
            "        [5, 5, 5, 5, 5, 5, 5],\n",
            "        [5, 5, 5, 5, 5, 5, 5],\n",
            "        [5, 5, 5, 5, 5, 5, 5],\n",
            "        [5, 5, 5, 5, 5, 5, 5]])\n"
          ]
        }
      ]
    },
    {
      "cell_type": "code",
      "source": [],
      "metadata": {
        "id": "899YOn-eZykE"
      },
      "execution_count": null,
      "outputs": []
    }
  ]
}