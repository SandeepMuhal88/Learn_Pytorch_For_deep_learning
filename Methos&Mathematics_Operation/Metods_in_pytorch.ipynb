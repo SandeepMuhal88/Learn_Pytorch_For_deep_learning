{
  "cells": [
    {
      "cell_type": "code",
      "execution_count": 1,
      "metadata": {
        "id": "CgXm9hilS5-L"
      },
      "outputs": [],
      "source": [
        "import torch"
      ]
    },
    {
      "cell_type": "code",
      "execution_count": 2,
      "metadata": {
        "colab": {
          "base_uri": "https://localhost:8080/"
        },
        "id": "KqRaYm3QWVLR",
        "outputId": "4a2fdba1-cb9a-41e2-f280-edbda9ed66ad"
      },
      "outputs": [
        {
          "name": "stdout",
          "output_type": "stream",
          "text": [
            "2.5.1+cu118\n"
          ]
        }
      ],
      "source": [
        "print(torch.__version__)"
      ]
    },
    {
      "cell_type": "code",
      "execution_count": 3,
      "metadata": {
        "colab": {
          "base_uri": "https://localhost:8080/"
        },
        "id": "Ecr2_xf_WiyC",
        "outputId": "2c726d9e-4033-4d5b-9429-644c7d5a30eb"
      },
      "outputs": [
        {
          "name": "stdout",
          "output_type": "stream",
          "text": [
            "GPU Avialabilty True\n",
            "GPU Device Count 1\n",
            "GPU Device Name NVIDIA GeForce RTX 4060 Laptop GPU\n"
          ]
        }
      ],
      "source": [
        "print(\"GPU Avialabilty\",torch.cuda.is_available())\n",
        "print(\"GPU Device Count\",torch.cuda.device_count())\n",
        "print(\"GPU Device Name\",torch.cuda.get_device_name(0))"
      ]
    },
    {
      "cell_type": "markdown",
      "metadata": {
        "id": "De1FyuPNWzO2"
      },
      "source": [
        "Cretaing Tesors and Metods"
      ]
    },
    {
      "cell_type": "code",
      "execution_count": 4,
      "metadata": {
        "colab": {
          "base_uri": "https://localhost:8080/"
        },
        "id": "hKupMa_RW7hQ",
        "outputId": "a850b479-ae30-4e86-f295-7aa2122aa7eb"
      },
      "outputs": [
        {
          "data": {
            "text/plain": [
              "tensor([[0., 0., 0.],\n",
              "        [0., 0., 0.]])"
            ]
          },
          "execution_count": 4,
          "metadata": {},
          "output_type": "execute_result"
        }
      ],
      "source": [
        "torch.empty(2,3)"
      ]
    },
    {
      "cell_type": "code",
      "execution_count": 5,
      "metadata": {
        "colab": {
          "base_uri": "https://localhost:8080/"
        },
        "id": "naYTxUksXAUb",
        "outputId": "15e3591b-6ced-46c0-8bb7-e4235751226f"
      },
      "outputs": [
        {
          "name": "stdout",
          "output_type": "stream",
          "text": [
            "Types <class 'torch.Tensor'>\n"
          ]
        }
      ],
      "source": [
        "a=torch.empty(4,5)\n",
        "print(\"Types\",type(a))"
      ]
    },
    {
      "cell_type": "code",
      "execution_count": 6,
      "metadata": {
        "colab": {
          "base_uri": "https://localhost:8080/"
        },
        "id": "_ItJUNiwXim1",
        "outputId": "d7f66357-dd5a-4eed-8a1f-681ddd27b85e"
      },
      "outputs": [
        {
          "data": {
            "text/plain": [
              "tensor([[0., 0., 0., 0., 0., 0.],\n",
              "        [0., 0., 0., 0., 0., 0.]])"
            ]
          },
          "execution_count": 6,
          "metadata": {},
          "output_type": "execute_result"
        }
      ],
      "source": [
        "#using zeros\n",
        "torch.zeros(2,6)"
      ]
    },
    {
      "cell_type": "code",
      "execution_count": 7,
      "metadata": {
        "colab": {
          "base_uri": "https://localhost:8080/"
        },
        "id": "fC0GZLxeXvGI",
        "outputId": "c3e1234e-efda-41b6-f0e6-d78fc2b970aa"
      },
      "outputs": [
        {
          "data": {
            "text/plain": [
              "tensor([[1., 1., 1.],\n",
              "        [1., 1., 1.]])"
            ]
          },
          "execution_count": 7,
          "metadata": {},
          "output_type": "execute_result"
        }
      ],
      "source": [
        "#using Ones\n",
        "torch.ones(2,3)"
      ]
    },
    {
      "cell_type": "code",
      "execution_count": 8,
      "metadata": {
        "colab": {
          "base_uri": "https://localhost:8080/"
        },
        "id": "cfCBIUlWX3yG",
        "outputId": "fda2a4cd-d0f7-4987-ed0c-fd0ca400b52f"
      },
      "outputs": [
        {
          "data": {
            "text/plain": [
              "tensor([[0.9650, 0.9482, 0.2345, 0.1672, 0.3770, 0.5499],\n",
              "        [0.9649, 0.4303, 0.8685, 0.3188, 0.9377, 0.7377],\n",
              "        [0.0040, 0.7689, 0.8054, 0.3132, 0.9295, 0.5239]])"
            ]
          },
          "execution_count": 8,
          "metadata": {},
          "output_type": "execute_result"
        }
      ],
      "source": [
        "torch.rand(3,6)"
      ]
    },
    {
      "cell_type": "code",
      "execution_count": 9,
      "metadata": {
        "colab": {
          "base_uri": "https://localhost:8080/"
        },
        "id": "EfexUeNGYOr-",
        "outputId": "9a0f141a-aecc-44e5-c7e5-ddd66fdf34c9"
      },
      "outputs": [
        {
          "data": {
            "text/plain": [
              "tensor([[0.6307, 0.9214, 0.2244, 0.1911, 0.3277, 0.2319],\n",
              "        [0.1310, 0.3326, 0.7585, 0.1837, 0.4478, 0.6101],\n",
              "        [0.6473, 0.5673, 0.5355, 0.8381, 0.7659, 0.9315]])"
            ]
          },
          "execution_count": 9,
          "metadata": {},
          "output_type": "execute_result"
        }
      ],
      "source": [
        "torch.rand(3,6)"
      ]
    },
    {
      "cell_type": "code",
      "execution_count": 10,
      "metadata": {
        "colab": {
          "base_uri": "https://localhost:8080/"
        },
        "id": "rqxzW7GMX_Rs",
        "outputId": "97a0ca1d-cc3e-41da-a8f0-83d16c53eaa1"
      },
      "outputs": [
        {
          "data": {
            "text/plain": [
              "tensor([[0.8823, 0.9150, 0.3829, 0.9593, 0.3904, 0.6009],\n",
              "        [0.2566, 0.7936, 0.9408, 0.1332, 0.9346, 0.5936],\n",
              "        [0.8694, 0.5677, 0.7411, 0.4294, 0.8854, 0.5739],\n",
              "        [0.2666, 0.6274, 0.2696, 0.4414, 0.2969, 0.8317],\n",
              "        [0.1053, 0.2695, 0.3588, 0.1994, 0.5472, 0.0062]])"
            ]
          },
          "execution_count": 10,
          "metadata": {},
          "output_type": "execute_result"
        }
      ],
      "source": [
        "#using seed\n",
        "torch.manual_seed(42)\n",
        "torch.rand(5,6)"
      ]
    },
    {
      "cell_type": "code",
      "execution_count": 11,
      "metadata": {
        "colab": {
          "base_uri": "https://localhost:8080/"
        },
        "id": "wvFFd2uHYGZT",
        "outputId": "0376d8dc-8e22-4fb2-a857-c6a5423ca692"
      },
      "outputs": [
        {
          "data": {
            "text/plain": [
              "tensor([[0.8823, 0.9150, 0.3829, 0.9593, 0.3904, 0.6009],\n",
              "        [0.2566, 0.7936, 0.9408, 0.1332, 0.9346, 0.5936],\n",
              "        [0.8694, 0.5677, 0.7411, 0.4294, 0.8854, 0.5739],\n",
              "        [0.2666, 0.6274, 0.2696, 0.4414, 0.2969, 0.8317],\n",
              "        [0.1053, 0.2695, 0.3588, 0.1994, 0.5472, 0.0062]])"
            ]
          },
          "execution_count": 11,
          "metadata": {},
          "output_type": "execute_result"
        }
      ],
      "source": [
        "torch.manual_seed(42)\n",
        "torch.rand(5,6)"
      ]
    },
    {
      "cell_type": "code",
      "execution_count": 12,
      "metadata": {
        "colab": {
          "base_uri": "https://localhost:8080/"
        },
        "id": "g9Zdm08oYd4h",
        "outputId": "db09e550-cb24-460d-c4ea-64989ca020a3"
      },
      "outputs": [
        {
          "data": {
            "text/plain": [
              "tensor([[1, 2, 3, 4],\n",
              "        [4, 5, 6, 9]])"
            ]
          },
          "execution_count": 12,
          "metadata": {},
          "output_type": "execute_result"
        }
      ],
      "source": [
        "torch.tensor([[1,2,3,4],[4,5,6,9]])"
      ]
    },
    {
      "cell_type": "code",
      "execution_count": 13,
      "metadata": {
        "colab": {
          "base_uri": "https://localhost:8080/"
        },
        "id": "aViSphx7Y1GQ",
        "outputId": "63a4b98e-a4e3-4ad1-b188-44b8e590ac91"
      },
      "outputs": [
        {
          "name": "stdout",
          "output_type": "stream",
          "text": [
            "Arrange:- tensor([   0, 1000, 2000, 3000, 4000, 5000, 6000, 7000, 8000, 9000])\n"
          ]
        }
      ],
      "source": [
        "#Other Ways\n",
        "\n",
        "print(\"Arrange:-\",torch.arange(0,10000,1000))"
      ]
    },
    {
      "cell_type": "code",
      "execution_count": 14,
      "metadata": {
        "colab": {
          "base_uri": "https://localhost:8080/"
        },
        "id": "eXc42IlxZIiE",
        "outputId": "178a577d-33ce-4d04-86ca-036a729bb6f2"
      },
      "outputs": [
        {
          "name": "stdout",
          "output_type": "stream",
          "text": [
            "Linespace tensor([  0.0000,  11.1111,  22.2222,  33.3333,  44.4444,  55.5556,  66.6667,\n",
            "         77.7778,  88.8889, 100.0000])\n"
          ]
        }
      ],
      "source": [
        "print(\"Linespace\",torch.linspace(0,100,10))"
      ]
    },
    {
      "cell_type": "code",
      "execution_count": 15,
      "metadata": {
        "colab": {
          "base_uri": "https://localhost:8080/"
        },
        "id": "7DD5X2FSZcTX",
        "outputId": "951ae36d-70f3-40cb-f10e-3bb60b9df6f9"
      },
      "outputs": [
        {
          "name": "stdout",
          "output_type": "stream",
          "text": [
            "Eye(Identity) tensor([[1., 0., 0., 0., 0.],\n",
            "        [0., 1., 0., 0., 0.],\n",
            "        [0., 0., 1., 0., 0.],\n",
            "        [0., 0., 0., 1., 0.],\n",
            "        [0., 0., 0., 0., 1.]])\n"
          ]
        }
      ],
      "source": [
        "print(\"Eye(Identity)\",torch.eye(5))"
      ]
    },
    {
      "cell_type": "code",
      "execution_count": 16,
      "metadata": {
        "colab": {
          "base_uri": "https://localhost:8080/"
        },
        "id": "ee_O1pUUZplj",
        "outputId": "bf15bb6c-8625-4efe-8eb5-b5e0de760b19"
      },
      "outputs": [
        {
          "name": "stdout",
          "output_type": "stream",
          "text": [
            "Using Full tensor([[5, 5, 5, 5, 5, 5, 5],\n",
            "        [5, 5, 5, 5, 5, 5, 5],\n",
            "        [5, 5, 5, 5, 5, 5, 5],\n",
            "        [5, 5, 5, 5, 5, 5, 5],\n",
            "        [5, 5, 5, 5, 5, 5, 5],\n",
            "        [5, 5, 5, 5, 5, 5, 5],\n",
            "        [5, 5, 5, 5, 5, 5, 5],\n",
            "        [5, 5, 5, 5, 5, 5, 5],\n",
            "        [5, 5, 5, 5, 5, 5, 5],\n",
            "        [5, 5, 5, 5, 5, 5, 5]])\n"
          ]
        }
      ],
      "source": [
        "print(\"Using Full\",torch.full((10,7),5))"
      ]
    }
  ],
  "metadata": {
    "accelerator": "GPU",
    "colab": {
      "gpuType": "T4",
      "provenance": []
    },
    "kernelspec": {
      "display_name": ".env",
      "language": "python",
      "name": "python3"
    },
    "language_info": {
      "codemirror_mode": {
        "name": "ipython",
        "version": 3
      },
      "file_extension": ".py",
      "mimetype": "text/x-python",
      "name": "python",
      "nbconvert_exporter": "python",
      "pygments_lexer": "ipython3",
      "version": "3.10.10"
    }
  },
  "nbformat": 4,
  "nbformat_minor": 0
}
