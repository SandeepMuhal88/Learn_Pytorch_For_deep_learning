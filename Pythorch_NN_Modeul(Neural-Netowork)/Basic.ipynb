{
 "cells": [
  {
   "cell_type": "code",
   "execution_count": 1,
   "id": "a86a6e72",
   "metadata": {},
   "outputs": [],
   "source": [
    "import torch\n",
    "import torch.nn as nn"
   ]
  },
  {
   "cell_type": "code",
   "execution_count": 2,
   "id": "cdd54361",
   "metadata": {},
   "outputs": [],
   "source": [
    "class Model(nn.Module):\n",
    "    def __init__(self,num_features):\n",
    "\n",
    "        super().__init__()\n",
    "        self.linear1= nn.Linear(num_features,1)\n",
    "        self.sigmoid= nn.Sigmoid()\n",
    "\n",
    "    def forward(self,features):\n",
    "        out=self.linear1(features)\n",
    "        out=self.sigmoid(out)\n",
    "\n",
    "        return out"
   ]
  },
  {
   "cell_type": "code",
   "execution_count": 3,
   "id": "e02a0c8c",
   "metadata": {},
   "outputs": [],
   "source": [
    "#Crete a datasets\n",
    "x=torch.rand(10, 5)\n",
    "#Create a model\n",
    "# Model(fetures.shape[1])\n",
    "\n",
    "# #Forward pass\n",
    "# Model(features)\n",
    "# fetures.shape[1]\n"
   ]
  },
  {
   "cell_type": "code",
   "execution_count": 4,
   "id": "0b2a90dc",
   "metadata": {},
   "outputs": [
    {
     "data": {
      "text/plain": [
       "tensor([[0.4375],\n",
       "        [0.4925],\n",
       "        [0.5626],\n",
       "        [0.4928],\n",
       "        [0.5497],\n",
       "        [0.5062],\n",
       "        [0.4644],\n",
       "        [0.4686],\n",
       "        [0.5643],\n",
       "        [0.5192]], grad_fn=<SigmoidBackward0>)"
      ]
     },
     "execution_count": 4,
     "metadata": {},
     "output_type": "execute_result"
    }
   ],
   "source": [
    "model = Model(x.shape[1])\n",
    "# Forward pass\n",
    "model(x)"
   ]
  },
  {
   "cell_type": "code",
   "execution_count": 5,
   "id": "9753711a",
   "metadata": {},
   "outputs": [
    {
     "data": {
      "text/plain": [
       "Parameter containing:\n",
       "tensor([[ 0.3005,  0.0559, -0.0181,  0.1081,  0.4429]], requires_grad=True)"
      ]
     },
     "execution_count": 5,
     "metadata": {},
     "output_type": "execute_result"
    }
   ],
   "source": [
    "model.linear1.weight\n",
    "# model.linear1.weight.shapes"
   ]
  },
  {
   "cell_type": "code",
   "execution_count": 6,
   "id": "1d2ab7d4",
   "metadata": {},
   "outputs": [
    {
     "data": {
      "text/plain": [
       "Parameter containing:\n",
       "tensor([-0.4402], requires_grad=True)"
      ]
     },
     "execution_count": 6,
     "metadata": {},
     "output_type": "execute_result"
    }
   ],
   "source": [
    "model.linear1.bias"
   ]
  },
  {
   "cell_type": "code",
   "execution_count": 7,
   "id": "0266ca45",
   "metadata": {},
   "outputs": [],
   "source": [
    "# %pip install torchinfo    "
   ]
  },
  {
   "cell_type": "code",
   "execution_count": 8,
   "id": "05ebab03",
   "metadata": {},
   "outputs": [
    {
     "data": {
      "text/plain": [
       "==========================================================================================\n",
       "Layer (type:depth-idx)                   Output Shape              Param #\n",
       "==========================================================================================\n",
       "Model                                    [10, 1]                   --\n",
       "├─Linear: 1-1                            [10, 1]                   6\n",
       "├─Sigmoid: 1-2                           [10, 1]                   --\n",
       "==========================================================================================\n",
       "Total params: 6\n",
       "Trainable params: 6\n",
       "Non-trainable params: 0\n",
       "Total mult-adds (M): 0.00\n",
       "==========================================================================================\n",
       "Input size (MB): 0.00\n",
       "Forward/backward pass size (MB): 0.00\n",
       "Params size (MB): 0.00\n",
       "Estimated Total Size (MB): 0.00\n",
       "=========================================================================================="
      ]
     },
     "execution_count": 8,
     "metadata": {},
     "output_type": "execute_result"
    }
   ],
   "source": [
    "from torchinfo import summary\n",
    "# Model summary\n",
    "summary(model, input_size=(10, 5))"
   ]
  },
  {
   "cell_type": "code",
   "execution_count": null,
   "id": "ccd7f8b2",
   "metadata": {},
   "outputs": [],
   "source": []
  }
 ],
 "metadata": {
  "kernelspec": {
   "display_name": ".env",
   "language": "python",
   "name": "python3"
  },
  "language_info": {
   "codemirror_mode": {
    "name": "ipython",
    "version": 3
   },
   "file_extension": ".py",
   "mimetype": "text/x-python",
   "name": "python",
   "nbconvert_exporter": "python",
   "pygments_lexer": "ipython3",
   "version": "3.10.11"
  }
 },
 "nbformat": 4,
 "nbformat_minor": 5
}
