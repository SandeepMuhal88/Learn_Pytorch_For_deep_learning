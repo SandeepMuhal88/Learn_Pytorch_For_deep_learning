{
 "cells": [
  {
   "cell_type": "code",
   "execution_count": 1,
   "id": "0634521b",
   "metadata": {},
   "outputs": [],
   "source": [
    "import torch\n",
    "import torch.nn as nn\n"
   ]
  },
  {
   "cell_type": "code",
   "execution_count": 11,
   "id": "051dc26f",
   "metadata": {},
   "outputs": [],
   "source": [
    "class MLP(nn.Module):\n",
    "    def __init__(self, input_features):\n",
    "\n",
    "        super().__init__()\n",
    "        self.hidden1= nn.Linear(input_features,3)\n",
    "        self.relu= nn.ReLU()\n",
    "        self.hidden2=nn.Linear(3,1)\n",
    "        self.sigmoid=nn.Sigmoid()\n",
    "    def forward(self, x):\n",
    "        out= self.hidden1(x)\n",
    "        out= self.relu(out)\n",
    "        out= self.hidden2(out)\n",
    "        out= self.sigmoid(out)\n",
    "        return out\n",
    "\n"
   ]
  },
  {
   "cell_type": "code",
   "execution_count": 12,
   "id": "2dfd97c6",
   "metadata": {},
   "outputs": [],
   "source": [
    "#Create a model instance\n",
    "fetures = torch.rand(100, 5)\n",
    "\n",
    "model = MLP(fetures.shape[1])"
   ]
  },
  {
   "cell_type": "code",
   "execution_count": 14,
   "id": "52b693cc",
   "metadata": {},
   "outputs": [
    {
     "data": {
      "text/plain": [
       "tensor([[0.4598],\n",
       "        [0.4276],\n",
       "        [0.4612],\n",
       "        [0.4346],\n",
       "        [0.4445],\n",
       "        [0.4216],\n",
       "        [0.4443],\n",
       "        [0.4514],\n",
       "        [0.4757],\n",
       "        [0.4568],\n",
       "        [0.4604],\n",
       "        [0.4494],\n",
       "        [0.4074],\n",
       "        [0.4346],\n",
       "        [0.4147],\n",
       "        [0.4462],\n",
       "        [0.4159],\n",
       "        [0.4603],\n",
       "        [0.4175],\n",
       "        [0.4031],\n",
       "        [0.4459],\n",
       "        [0.4139],\n",
       "        [0.4299],\n",
       "        [0.4423],\n",
       "        [0.4689],\n",
       "        [0.4430],\n",
       "        [0.4357],\n",
       "        [0.4370],\n",
       "        [0.4705],\n",
       "        [0.4355],\n",
       "        [0.4429],\n",
       "        [0.4643],\n",
       "        [0.4522],\n",
       "        [0.4562],\n",
       "        [0.4374],\n",
       "        [0.4404],\n",
       "        [0.4275],\n",
       "        [0.4538],\n",
       "        [0.4464],\n",
       "        [0.4871],\n",
       "        [0.4315],\n",
       "        [0.4221],\n",
       "        [0.4298],\n",
       "        [0.4429],\n",
       "        [0.4249],\n",
       "        [0.4222],\n",
       "        [0.4643],\n",
       "        [0.4383],\n",
       "        [0.4494],\n",
       "        [0.4360],\n",
       "        [0.4601],\n",
       "        [0.4582],\n",
       "        [0.4229],\n",
       "        [0.4501],\n",
       "        [0.4356],\n",
       "        [0.4591],\n",
       "        [0.4243],\n",
       "        [0.4159],\n",
       "        [0.4228],\n",
       "        [0.4130],\n",
       "        [0.4407],\n",
       "        [0.4333],\n",
       "        [0.4107],\n",
       "        [0.4409],\n",
       "        [0.4363],\n",
       "        [0.4631],\n",
       "        [0.4915],\n",
       "        [0.4113],\n",
       "        [0.4710],\n",
       "        [0.4410],\n",
       "        [0.4230],\n",
       "        [0.4454],\n",
       "        [0.4550],\n",
       "        [0.4446],\n",
       "        [0.4308],\n",
       "        [0.4321],\n",
       "        [0.4511],\n",
       "        [0.4257],\n",
       "        [0.4578],\n",
       "        [0.4627],\n",
       "        [0.4474],\n",
       "        [0.4550],\n",
       "        [0.4514],\n",
       "        [0.4321],\n",
       "        [0.4287],\n",
       "        [0.4202],\n",
       "        [0.4685],\n",
       "        [0.4816],\n",
       "        [0.4602],\n",
       "        [0.4702],\n",
       "        [0.4379],\n",
       "        [0.4545],\n",
       "        [0.4667],\n",
       "        [0.4288],\n",
       "        [0.4385],\n",
       "        [0.4240],\n",
       "        [0.4605],\n",
       "        [0.4499],\n",
       "        [0.4269],\n",
       "        [0.4232]], grad_fn=<SigmoidBackward0>)"
      ]
     },
     "execution_count": 14,
     "metadata": {},
     "output_type": "execute_result"
    }
   ],
   "source": [
    "model(fetures)"
   ]
  },
  {
   "cell_type": "code",
   "execution_count": 16,
   "id": "86c80e7c",
   "metadata": {},
   "outputs": [
    {
     "data": {
      "text/plain": [
       "Parameter containing:\n",
       "tensor([[0.5000, 0.5000, 0.5000, 0.5000, 0.5000],\n",
       "        [0.5000, 0.5000, 0.5000, 0.5000, 0.5000],\n",
       "        [0.5000, 0.5000, 0.5000, 0.5000, 0.5000]], requires_grad=True)"
      ]
     },
     "execution_count": 16,
     "metadata": {},
     "output_type": "execute_result"
    }
   ],
   "source": [
    "model.hidden1.weight"
   ]
  },
  {
   "cell_type": "code",
   "execution_count": 17,
   "id": "f8238b51",
   "metadata": {},
   "outputs": [
    {
     "data": {
      "text/plain": [
       "========================================================================================================================\n",
       "Layer (type:depth-idx)                   Input Shape          Output Shape         Param #              Trainable\n",
       "========================================================================================================================\n",
       "MLP                                      [100, 5]             [100, 1]             --                   True\n",
       "├─Linear: 1-1                            [100, 5]             [100, 3]             18                   True\n",
       "├─ReLU: 1-2                              [100, 3]             [100, 3]             --                   --\n",
       "├─Linear: 1-3                            [100, 3]             [100, 1]             4                    True\n",
       "├─Sigmoid: 1-4                           [100, 1]             [100, 1]             --                   --\n",
       "========================================================================================================================\n",
       "Total params: 22\n",
       "Trainable params: 22\n",
       "Non-trainable params: 0\n",
       "Total mult-adds (M): 0.00\n",
       "========================================================================================================================\n",
       "Input size (MB): 0.00\n",
       "Forward/backward pass size (MB): 0.00\n",
       "Params size (MB): 0.00\n",
       "Estimated Total Size (MB): 0.01\n",
       "========================================================================================================================"
      ]
     },
     "execution_count": 17,
     "metadata": {},
     "output_type": "execute_result"
    }
   ],
   "source": [
    "from torchinfo import summary\n",
    "summary(model, input_size=(100, 5), col_names=[\"input_size\", \"output_size\", \"num_params\", \"trainable\"], col_width=20)"
   ]
  }
 ],
 "metadata": {
  "kernelspec": {
   "display_name": ".env",
   "language": "python",
   "name": "python3"
  },
  "language_info": {
   "codemirror_mode": {
    "name": "ipython",
    "version": 3
   },
   "file_extension": ".py",
   "mimetype": "text/x-python",
   "name": "python",
   "nbconvert_exporter": "python",
   "pygments_lexer": "ipython3",
   "version": "3.10.10"
  }
 },
 "nbformat": 4,
 "nbformat_minor": 5
}
