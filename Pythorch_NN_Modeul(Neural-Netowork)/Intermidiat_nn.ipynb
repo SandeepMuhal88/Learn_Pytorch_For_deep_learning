{
 "cells": [
  {
   "cell_type": "code",
   "execution_count": 1,
   "id": "0634521b",
   "metadata": {},
   "outputs": [],
   "source": [
    "import torch\n",
    "import torch.nn as nn\n"
   ]
  },
  {
   "cell_type": "code",
   "execution_count": 2,
   "id": "051dc26f",
   "metadata": {},
   "outputs": [],
   "source": [
    "class MLP(nn.Module):\n",
    "    def __init__(self, input_features):\n",
    "\n",
    "        super().__init__()\n",
    "        self.hidden1= nn.Linear(input_features,3)\n",
    "        self.relu= nn.ReLU()\n",
    "        self.hidden2=nn.Linear(3,1)\n",
    "        self.sigmoid=nn.Sigmoid()\n",
    "    def forward(self, x):\n",
    "        out= self.hidden1(x)\n",
    "        out= self.relu(out)\n",
    "        out= self.hidden2(out)\n",
    "        out= self.sigmoid(out)\n",
    "        return out\n",
    "\n"
   ]
  },
  {
   "cell_type": "code",
   "execution_count": 3,
   "id": "2dfd97c6",
   "metadata": {},
   "outputs": [],
   "source": [
    "#Create a model instance\n",
    "fetures = torch.rand(100, 5)\n",
    "\n",
    "model = MLP(fetures.shape[1])"
   ]
  },
  {
   "cell_type": "code",
   "execution_count": 4,
   "id": "52b693cc",
   "metadata": {},
   "outputs": [
    {
     "data": {
      "text/plain": [
       "tensor([[0.5974],\n",
       "        [0.5517],\n",
       "        [0.5876],\n",
       "        [0.5462],\n",
       "        [0.5852],\n",
       "        [0.6113],\n",
       "        [0.5723],\n",
       "        [0.6033],\n",
       "        [0.5561],\n",
       "        [0.6112],\n",
       "        [0.6157],\n",
       "        [0.6139],\n",
       "        [0.5746],\n",
       "        [0.5974],\n",
       "        [0.6023],\n",
       "        [0.5761],\n",
       "        [0.5714],\n",
       "        [0.5726],\n",
       "        [0.6138],\n",
       "        [0.6193],\n",
       "        [0.5560],\n",
       "        [0.5622],\n",
       "        [0.5629],\n",
       "        [0.6224],\n",
       "        [0.5840],\n",
       "        [0.6163],\n",
       "        [0.5796],\n",
       "        [0.5737],\n",
       "        [0.5817],\n",
       "        [0.6146],\n",
       "        [0.6061],\n",
       "        [0.5910],\n",
       "        [0.6181],\n",
       "        [0.5936],\n",
       "        [0.5756],\n",
       "        [0.6102],\n",
       "        [0.5796],\n",
       "        [0.5874],\n",
       "        [0.5881],\n",
       "        [0.5850],\n",
       "        [0.5766],\n",
       "        [0.5292],\n",
       "        [0.6109],\n",
       "        [0.5954],\n",
       "        [0.6098],\n",
       "        [0.5693],\n",
       "        [0.6516],\n",
       "        [0.6346],\n",
       "        [0.5865],\n",
       "        [0.5674],\n",
       "        [0.5514],\n",
       "        [0.6043],\n",
       "        [0.5782],\n",
       "        [0.5709],\n",
       "        [0.5593],\n",
       "        [0.5896],\n",
       "        [0.6079],\n",
       "        [0.6272],\n",
       "        [0.5890],\n",
       "        [0.5602],\n",
       "        [0.5804],\n",
       "        [0.5601],\n",
       "        [0.6100],\n",
       "        [0.5490],\n",
       "        [0.6077],\n",
       "        [0.6016],\n",
       "        [0.5883],\n",
       "        [0.5688],\n",
       "        [0.5910],\n",
       "        [0.5801],\n",
       "        [0.5645],\n",
       "        [0.5885],\n",
       "        [0.5775],\n",
       "        [0.5896],\n",
       "        [0.5823],\n",
       "        [0.6290],\n",
       "        [0.6005],\n",
       "        [0.5694],\n",
       "        [0.5410],\n",
       "        [0.5636],\n",
       "        [0.5412],\n",
       "        [0.5837],\n",
       "        [0.5785],\n",
       "        [0.5742],\n",
       "        [0.5886],\n",
       "        [0.5862],\n",
       "        [0.5738],\n",
       "        [0.5870],\n",
       "        [0.5415],\n",
       "        [0.6005],\n",
       "        [0.5807],\n",
       "        [0.5793],\n",
       "        [0.6284],\n",
       "        [0.6019],\n",
       "        [0.5471],\n",
       "        [0.6217],\n",
       "        [0.5904],\n",
       "        [0.6207],\n",
       "        [0.5230],\n",
       "        [0.5797]], grad_fn=<SigmoidBackward0>)"
      ]
     },
     "execution_count": 4,
     "metadata": {},
     "output_type": "execute_result"
    }
   ],
   "source": [
    "model(fetures)"
   ]
  },
  {
   "cell_type": "code",
   "execution_count": 5,
   "id": "86c80e7c",
   "metadata": {},
   "outputs": [
    {
     "data": {
      "text/plain": [
       "Parameter containing:\n",
       "tensor([[ 0.3546,  0.2686,  0.1236,  0.2780, -0.3383],\n",
       "        [ 0.2454, -0.2728, -0.1083, -0.4299,  0.1926],\n",
       "        [ 0.0225, -0.2726, -0.0129,  0.4462, -0.2377]], requires_grad=True)"
      ]
     },
     "execution_count": 5,
     "metadata": {},
     "output_type": "execute_result"
    }
   ],
   "source": [
    "model.hidden1.weight"
   ]
  },
  {
   "cell_type": "code",
   "execution_count": 6,
   "id": "f8238b51",
   "metadata": {},
   "outputs": [
    {
     "data": {
      "text/plain": [
       "========================================================================================================================\n",
       "Layer (type:depth-idx)                   Input Shape          Output Shape         Param #              Trainable\n",
       "========================================================================================================================\n",
       "MLP                                      [100, 5]             [100, 1]             --                   True\n",
       "├─Linear: 1-1                            [100, 5]             [100, 3]             18                   True\n",
       "├─ReLU: 1-2                              [100, 3]             [100, 3]             --                   --\n",
       "├─Linear: 1-3                            [100, 3]             [100, 1]             4                    True\n",
       "├─Sigmoid: 1-4                           [100, 1]             [100, 1]             --                   --\n",
       "========================================================================================================================\n",
       "Total params: 22\n",
       "Trainable params: 22\n",
       "Non-trainable params: 0\n",
       "Total mult-adds (M): 0.00\n",
       "========================================================================================================================\n",
       "Input size (MB): 0.00\n",
       "Forward/backward pass size (MB): 0.00\n",
       "Params size (MB): 0.00\n",
       "Estimated Total Size (MB): 0.01\n",
       "========================================================================================================================"
      ]
     },
     "execution_count": 6,
     "metadata": {},
     "output_type": "execute_result"
    }
   ],
   "source": [
    "from torchinfo import summary\n",
    "summary(model, input_size=(100, 5), col_names=[\"input_size\", \"output_size\", \"num_params\", \"trainable\"], col_width=20)"
   ]
  }
 ],
 "metadata": {
  "kernelspec": {
   "display_name": ".env",
   "language": "python",
   "name": "python3"
  },
  "language_info": {
   "codemirror_mode": {
    "name": "ipython",
    "version": 3
   },
   "file_extension": ".py",
   "mimetype": "text/x-python",
   "name": "python",
   "nbconvert_exporter": "python",
   "pygments_lexer": "ipython3",
   "version": "3.10.11"
  }
 },
 "nbformat": 4,
 "nbformat_minor": 5
}
