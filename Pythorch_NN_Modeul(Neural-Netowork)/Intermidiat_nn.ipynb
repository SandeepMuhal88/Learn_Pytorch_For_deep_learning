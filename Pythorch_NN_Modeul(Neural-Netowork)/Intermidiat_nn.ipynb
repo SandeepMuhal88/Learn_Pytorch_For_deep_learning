{
 "cells": [
  {
   "cell_type": "code",
   "execution_count": 1,
   "id": "0634521b",
   "metadata": {},
   "outputs": [],
   "source": [
    "import torch\n",
    "import torch.nn as nn\n"
   ]
  },
  {
   "cell_type": "code",
   "execution_count": 2,
   "id": "051dc26f",
   "metadata": {},
   "outputs": [],
   "source": [
    "class MLP(nn.Module):\n",
    "    def __init__(self, input_features):\n",
    "\n",
    "        super().__init__()\n",
    "        self.hidden1= nn.Linear(input_features,3)\n",
    "        self.relu= nn.ReLU()\n",
    "        self.hidden2=nn.Linear(3,1)\n",
    "        self.sigmoid=nn.Sigmoid()\n",
    "    def forward(self, x):\n",
    "        out= self.hidden1(x)\n",
    "        out= self.relu(out)\n",
    "        out= self.hidden2(out)\n",
    "        out= self.sigmoid(out)\n",
    "        return out\n",
    "\n"
   ]
  },
  {
   "cell_type": "code",
   "execution_count": 3,
   "id": "2dfd97c6",
   "metadata": {},
   "outputs": [],
   "source": [
    "#Create a model instance\n",
    "fetures = torch.rand(100, 5)\n",
    "\n",
    "model = MLP(fetures.shape[1])"
   ]
  },
  {
   "cell_type": "code",
   "execution_count": 4,
   "id": "52b693cc",
   "metadata": {},
   "outputs": [
    {
     "data": {
      "text/plain": [
       "tensor([[0.3840],\n",
       "        [0.3842],\n",
       "        [0.3816],\n",
       "        [0.3837],\n",
       "        [0.3846],\n",
       "        [0.3825],\n",
       "        [0.3846],\n",
       "        [0.3846],\n",
       "        [0.3842],\n",
       "        [0.3835],\n",
       "        [0.3831],\n",
       "        [0.3839],\n",
       "        [0.3846],\n",
       "        [0.3821],\n",
       "        [0.3845],\n",
       "        [0.3846],\n",
       "        [0.3845],\n",
       "        [0.3846],\n",
       "        [0.3846],\n",
       "        [0.3840],\n",
       "        [0.3815],\n",
       "        [0.3846],\n",
       "        [0.3845],\n",
       "        [0.3823],\n",
       "        [0.3822],\n",
       "        [0.3846],\n",
       "        [0.3837],\n",
       "        [0.3846],\n",
       "        [0.3846],\n",
       "        [0.3846],\n",
       "        [0.3846],\n",
       "        [0.3824],\n",
       "        [0.3820],\n",
       "        [0.3832],\n",
       "        [0.3828],\n",
       "        [0.3841],\n",
       "        [0.3844],\n",
       "        [0.3824],\n",
       "        [0.3846],\n",
       "        [0.3844],\n",
       "        [0.3846],\n",
       "        [0.3814],\n",
       "        [0.3834],\n",
       "        [0.3837],\n",
       "        [0.3817],\n",
       "        [0.3846],\n",
       "        [0.3846],\n",
       "        [0.3842],\n",
       "        [0.3822],\n",
       "        [0.3825],\n",
       "        [0.3835],\n",
       "        [0.3824],\n",
       "        [0.3846],\n",
       "        [0.3846],\n",
       "        [0.3846],\n",
       "        [0.3815],\n",
       "        [0.3821],\n",
       "        [0.3833],\n",
       "        [0.3844],\n",
       "        [0.3846],\n",
       "        [0.3846],\n",
       "        [0.3822],\n",
       "        [0.3843],\n",
       "        [0.3825],\n",
       "        [0.3802],\n",
       "        [0.3835],\n",
       "        [0.3830],\n",
       "        [0.3846],\n",
       "        [0.3835],\n",
       "        [0.3840],\n",
       "        [0.3842],\n",
       "        [0.3846],\n",
       "        [0.3825],\n",
       "        [0.3823],\n",
       "        [0.3836],\n",
       "        [0.3836],\n",
       "        [0.3832],\n",
       "        [0.3832],\n",
       "        [0.3829],\n",
       "        [0.3846],\n",
       "        [0.3833],\n",
       "        [0.3830],\n",
       "        [0.3844],\n",
       "        [0.3846],\n",
       "        [0.3846],\n",
       "        [0.3840],\n",
       "        [0.3846],\n",
       "        [0.3846],\n",
       "        [0.3834],\n",
       "        [0.3841],\n",
       "        [0.3828],\n",
       "        [0.3843],\n",
       "        [0.3825],\n",
       "        [0.3846],\n",
       "        [0.3817],\n",
       "        [0.3840],\n",
       "        [0.3831],\n",
       "        [0.3842],\n",
       "        [0.3828],\n",
       "        [0.3820]], grad_fn=<SigmoidBackward0>)"
      ]
     },
     "execution_count": 4,
     "metadata": {},
     "output_type": "execute_result"
    }
   ],
   "source": [
    "model(fetures)"
   ]
  },
  {
   "cell_type": "code",
   "execution_count": 5,
   "id": "86c80e7c",
   "metadata": {},
   "outputs": [
    {
     "data": {
      "text/plain": [
       "Parameter containing:\n",
       "tensor([[-0.1457, -0.1702, -0.3682, -0.2671,  0.1323],\n",
       "        [-0.2411,  0.0758,  0.1139, -0.0989, -0.0372],\n",
       "        [ 0.3991,  0.3510,  0.1646, -0.2583, -0.2789]], requires_grad=True)"
      ]
     },
     "execution_count": 5,
     "metadata": {},
     "output_type": "execute_result"
    }
   ],
   "source": [
    "model.hidden1.weight"
   ]
  },
  {
   "cell_type": "code",
   "execution_count": 6,
   "id": "f8238b51",
   "metadata": {},
   "outputs": [
    {
     "data": {
      "text/plain": [
       "========================================================================================================================\n",
       "Layer (type:depth-idx)                   Input Shape          Output Shape         Param #              Trainable\n",
       "========================================================================================================================\n",
       "MLP                                      [100, 5]             [100, 1]             --                   True\n",
       "├─Linear: 1-1                            [100, 5]             [100, 3]             18                   True\n",
       "├─ReLU: 1-2                              [100, 3]             [100, 3]             --                   --\n",
       "├─Linear: 1-3                            [100, 3]             [100, 1]             4                    True\n",
       "├─Sigmoid: 1-4                           [100, 1]             [100, 1]             --                   --\n",
       "========================================================================================================================\n",
       "Total params: 22\n",
       "Trainable params: 22\n",
       "Non-trainable params: 0\n",
       "Total mult-adds (M): 0.00\n",
       "========================================================================================================================\n",
       "Input size (MB): 0.00\n",
       "Forward/backward pass size (MB): 0.00\n",
       "Params size (MB): 0.00\n",
       "Estimated Total Size (MB): 0.01\n",
       "========================================================================================================================"
      ]
     },
     "execution_count": 6,
     "metadata": {},
     "output_type": "execute_result"
    }
   ],
   "source": [
    "from torchinfo import summary\n",
    "summary(model, input_size=(100, 5), col_names=[\"input_size\", \"output_size\", \"num_params\", \"trainable\"], col_width=20)"
   ]
  }
 ],
 "metadata": {
  "kernelspec": {
   "display_name": ".env",
   "language": "python",
   "name": "python3"
  },
  "language_info": {
   "codemirror_mode": {
    "name": "ipython",
    "version": 3
   },
   "file_extension": ".py",
   "mimetype": "text/x-python",
   "name": "python",
   "nbconvert_exporter": "python",
   "pygments_lexer": "ipython3",
   "version": "3.10.10"
  }
 },
 "nbformat": 4,
 "nbformat_minor": 5
}
