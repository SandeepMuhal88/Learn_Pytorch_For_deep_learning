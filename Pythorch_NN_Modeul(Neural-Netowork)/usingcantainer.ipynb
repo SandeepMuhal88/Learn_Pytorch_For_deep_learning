{
 "cells": [
  {
   "cell_type": "code",
   "execution_count": 10,
   "id": "fcd229c3",
   "metadata": {},
   "outputs": [
    {
     "name": "stdout",
     "output_type": "stream",
     "text": [
      "2.5.1+cu118\n"
     ]
    }
   ],
   "source": [
    "import torch\n",
    "\n",
    "print(torch.__version__)\n",
    "\n",
    "import torch.nn as nn"
   ]
  },
  {
   "cell_type": "code",
   "execution_count": 11,
   "id": "da8c3602",
   "metadata": {},
   "outputs": [],
   "source": [
    "features = torch.randn(100, 5)\n",
    "num_features = features.shape[1]\n"
   ]
  },
  {
   "cell_type": "code",
   "execution_count": 12,
   "id": "9045854b",
   "metadata": {},
   "outputs": [],
   "source": [
    "class Model(nn.Module):\n",
    "    def __init__(self, num_features):\n",
    "        super().__init__()\n",
    "        self.network=nn.Sequential(\n",
    "            nn.Linear(num_features, 3),\n",
    "            nn.ReLU(),\n",
    "            nn.Linear(3, 1),\n",
    "            nn.Sigmoid()\n",
    "        )\n",
    "    \n",
    "    def forward(self, x):\n",
    "        x = self.network(x)\n",
    "        return x\n",
    "    "
   ]
  },
  {
   "cell_type": "code",
   "execution_count": 13,
   "id": "d2956565",
   "metadata": {},
   "outputs": [
    {
     "data": {
      "text/plain": [
       "tensor([[0.6397],\n",
       "        [0.4956],\n",
       "        [0.5983],\n",
       "        [0.5834],\n",
       "        [0.6277],\n",
       "        [0.5358],\n",
       "        [0.5020],\n",
       "        [0.5827],\n",
       "        [0.5821],\n",
       "        [0.6045],\n",
       "        [0.5971],\n",
       "        [0.5989],\n",
       "        [0.5475],\n",
       "        [0.5821],\n",
       "        [0.5862],\n",
       "        [0.6247],\n",
       "        [0.5830],\n",
       "        [0.6378],\n",
       "        [0.4523],\n",
       "        [0.5198],\n",
       "        [0.6240],\n",
       "        [0.5805],\n",
       "        [0.6329],\n",
       "        [0.5777],\n",
       "        [0.5650],\n",
       "        [0.5290],\n",
       "        [0.5813],\n",
       "        [0.5302],\n",
       "        [0.6742],\n",
       "        [0.5476],\n",
       "        [0.6177],\n",
       "        [0.6119],\n",
       "        [0.5839],\n",
       "        [0.5622],\n",
       "        [0.5817],\n",
       "        [0.4696],\n",
       "        [0.4269],\n",
       "        [0.4739],\n",
       "        [0.5060],\n",
       "        [0.3759],\n",
       "        [0.4543],\n",
       "        [0.4747],\n",
       "        [0.5826],\n",
       "        [0.5684],\n",
       "        [0.5345],\n",
       "        [0.4599],\n",
       "        [0.5950],\n",
       "        [0.5817],\n",
       "        [0.6120],\n",
       "        [0.6111],\n",
       "        [0.5810],\n",
       "        [0.5572],\n",
       "        [0.4775],\n",
       "        [0.5288],\n",
       "        [0.5911],\n",
       "        [0.6017],\n",
       "        [0.5846],\n",
       "        [0.5139],\n",
       "        [0.6104],\n",
       "        [0.6079],\n",
       "        [0.6235],\n",
       "        [0.5146],\n",
       "        [0.7006],\n",
       "        [0.5801],\n",
       "        [0.5760],\n",
       "        [0.5835],\n",
       "        [0.4053],\n",
       "        [0.5798],\n",
       "        [0.6080],\n",
       "        [0.5813],\n",
       "        [0.6634],\n",
       "        [0.4433],\n",
       "        [0.6110],\n",
       "        [0.6049],\n",
       "        [0.4517],\n",
       "        [0.5813],\n",
       "        [0.5818],\n",
       "        [0.5058],\n",
       "        [0.6588],\n",
       "        [0.5756],\n",
       "        [0.6660],\n",
       "        [0.5570],\n",
       "        [0.6198],\n",
       "        [0.5601],\n",
       "        [0.5626],\n",
       "        [0.6496],\n",
       "        [0.5731],\n",
       "        [0.5832],\n",
       "        [0.5822],\n",
       "        [0.5833],\n",
       "        [0.5831],\n",
       "        [0.6069],\n",
       "        [0.5806],\n",
       "        [0.6302],\n",
       "        [0.5812],\n",
       "        [0.5388],\n",
       "        [0.5544],\n",
       "        [0.5939],\n",
       "        [0.5822],\n",
       "        [0.5826]], grad_fn=<SigmoidBackward0>)"
      ]
     },
     "execution_count": 13,
     "metadata": {},
     "output_type": "execute_result"
    }
   ],
   "source": [
    "model = Model(num_features)\n",
    "model(features)"
   ]
  },
  {
   "cell_type": "code",
   "execution_count": 16,
   "id": "ae91ca50",
   "metadata": {},
   "outputs": [
    {
     "data": {
      "text/plain": [
       "Parameter containing:\n",
       "tensor([[ 0.4307, -0.1419,  0.0672, -0.1922,  0.3767],\n",
       "        [-0.3140,  0.2564,  0.3697,  0.3653, -0.1673],\n",
       "        [-0.2031, -0.0587, -0.3588,  0.0695, -0.3155]], requires_grad=True)"
      ]
     },
     "execution_count": 16,
     "metadata": {},
     "output_type": "execute_result"
    }
   ],
   "source": [
    "model.network[0].weight"
   ]
  },
  {
   "cell_type": "code",
   "execution_count": 18,
   "id": "c2965624",
   "metadata": {},
   "outputs": [
    {
     "data": {
      "text/plain": [
       "Parameter containing:\n",
       "tensor([[-0.0174, -0.4071,  0.4605]], requires_grad=True)"
      ]
     },
     "execution_count": 18,
     "metadata": {},
     "output_type": "execute_result"
    }
   ],
   "source": [
    "model.network[2].weight"
   ]
  },
  {
   "cell_type": "code",
   "execution_count": 19,
   "id": "5818f262",
   "metadata": {},
   "outputs": [
    {
     "data": {
      "text/plain": [
       "==========================================================================================\n",
       "Layer (type:depth-idx)                   Output Shape              Param #\n",
       "==========================================================================================\n",
       "Model                                    [100, 1]                  --\n",
       "├─Sequential: 1-1                        [100, 1]                  --\n",
       "│    └─Linear: 2-1                       [100, 3]                  18\n",
       "│    └─ReLU: 2-2                         [100, 3]                  --\n",
       "│    └─Linear: 2-3                       [100, 1]                  4\n",
       "│    └─Sigmoid: 2-4                      [100, 1]                  --\n",
       "==========================================================================================\n",
       "Total params: 22\n",
       "Trainable params: 22\n",
       "Non-trainable params: 0\n",
       "Total mult-adds (M): 0.00\n",
       "==========================================================================================\n",
       "Input size (MB): 0.00\n",
       "Forward/backward pass size (MB): 0.00\n",
       "Params size (MB): 0.00\n",
       "Estimated Total Size (MB): 0.01\n",
       "=========================================================================================="
      ]
     },
     "execution_count": 19,
     "metadata": {},
     "output_type": "execute_result"
    }
   ],
   "source": [
    "from torchinfo import summary\n",
    "summary(model, input_size=(features.shape[0],features.shape[1]))"
   ]
  }
 ],
 "metadata": {
  "kernelspec": {
   "display_name": ".env",
   "language": "python",
   "name": "python3"
  },
  "language_info": {
   "codemirror_mode": {
    "name": "ipython",
    "version": 3
   },
   "file_extension": ".py",
   "mimetype": "text/x-python",
   "name": "python",
   "nbconvert_exporter": "python",
   "pygments_lexer": "ipython3",
   "version": "3.10.11"
  }
 },
 "nbformat": 4,
 "nbformat_minor": 5
}
