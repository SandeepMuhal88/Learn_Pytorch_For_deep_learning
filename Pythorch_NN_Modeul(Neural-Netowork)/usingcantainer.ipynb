{
 "cells": [
  {
   "cell_type": "code",
   "execution_count": 1,
   "id": "fcd229c3",
   "metadata": {},
   "outputs": [
    {
     "name": "stdout",
     "output_type": "stream",
     "text": [
      "2.5.1+cu118\n"
     ]
    }
   ],
   "source": [
    "import torch\n",
    "\n",
    "print(torch.__version__)\n",
    "\n",
    "import torch.nn as nn"
   ]
  },
  {
   "cell_type": "code",
   "execution_count": 2,
   "id": "da8c3602",
   "metadata": {},
   "outputs": [],
   "source": [
    "features = torch.randn(100, 5)\n",
    "num_features = features.shape[1]\n"
   ]
  },
  {
   "cell_type": "code",
   "execution_count": 3,
   "id": "9045854b",
   "metadata": {},
   "outputs": [],
   "source": [
    "class Model(nn.Module):\n",
    "    def __init__(self, num_features):\n",
    "        super().__init__()\n",
    "        self.network=nn.Sequential(\n",
    "            nn.Linear(num_features, 3),\n",
    "            nn.ReLU(),\n",
    "            nn.Linear(3, 1),\n",
    "            nn.Sigmoid()\n",
    "        )\n",
    "    \n",
    "    def forward(self, x):\n",
    "        x = self.network(x)\n",
    "        return x\n",
    "    "
   ]
  },
  {
   "cell_type": "code",
   "execution_count": 4,
   "id": "d2956565",
   "metadata": {},
   "outputs": [
    {
     "data": {
      "text/plain": [
       "tensor([[0.3520],\n",
       "        [0.3414],\n",
       "        [0.3776],\n",
       "        [0.3325],\n",
       "        [0.4870],\n",
       "        [0.3638],\n",
       "        [0.3870],\n",
       "        [0.4065],\n",
       "        [0.3567],\n",
       "        [0.4417],\n",
       "        [0.3881],\n",
       "        [0.4292],\n",
       "        [0.4615],\n",
       "        [0.3952],\n",
       "        [0.4703],\n",
       "        [0.3988],\n",
       "        [0.4210],\n",
       "        [0.4163],\n",
       "        [0.3585],\n",
       "        [0.3804],\n",
       "        [0.4195],\n",
       "        [0.3599],\n",
       "        [0.4655],\n",
       "        [0.3360],\n",
       "        [0.4665],\n",
       "        [0.4962],\n",
       "        [0.4367],\n",
       "        [0.4730],\n",
       "        [0.4844],\n",
       "        [0.4580],\n",
       "        [0.3908],\n",
       "        [0.3686],\n",
       "        [0.3849],\n",
       "        [0.4016],\n",
       "        [0.4136],\n",
       "        [0.3784],\n",
       "        [0.4072],\n",
       "        [0.4195],\n",
       "        [0.4162],\n",
       "        [0.3985],\n",
       "        [0.3992],\n",
       "        [0.4237],\n",
       "        [0.3183],\n",
       "        [0.4410],\n",
       "        [0.3954],\n",
       "        [0.4274],\n",
       "        [0.3994],\n",
       "        [0.5040],\n",
       "        [0.3694],\n",
       "        [0.4323],\n",
       "        [0.3763],\n",
       "        [0.4862],\n",
       "        [0.4146],\n",
       "        [0.4174],\n",
       "        [0.4131],\n",
       "        [0.3845],\n",
       "        [0.4378],\n",
       "        [0.4465],\n",
       "        [0.2884],\n",
       "        [0.3957],\n",
       "        [0.4504],\n",
       "        [0.4364],\n",
       "        [0.3042],\n",
       "        [0.3742],\n",
       "        [0.4543],\n",
       "        [0.4104],\n",
       "        [0.4169],\n",
       "        [0.4178],\n",
       "        [0.4300],\n",
       "        [0.4211],\n",
       "        [0.3720],\n",
       "        [0.3698],\n",
       "        [0.4871],\n",
       "        [0.4911],\n",
       "        [0.3941],\n",
       "        [0.3545],\n",
       "        [0.4621],\n",
       "        [0.3807],\n",
       "        [0.3671],\n",
       "        [0.3239],\n",
       "        [0.4053],\n",
       "        [0.4237],\n",
       "        [0.2616],\n",
       "        [0.3860],\n",
       "        [0.3436],\n",
       "        [0.3454],\n",
       "        [0.3859],\n",
       "        [0.3680],\n",
       "        [0.4210],\n",
       "        [0.4553],\n",
       "        [0.4556],\n",
       "        [0.3459],\n",
       "        [0.4281],\n",
       "        [0.3477],\n",
       "        [0.4736],\n",
       "        [0.4088],\n",
       "        [0.4344],\n",
       "        [0.3322],\n",
       "        [0.4604],\n",
       "        [0.4129]], grad_fn=<SigmoidBackward0>)"
      ]
     },
     "execution_count": 4,
     "metadata": {},
     "output_type": "execute_result"
    }
   ],
   "source": [
    "model = Model(num_features)\n",
    "model(features)"
   ]
  },
  {
   "cell_type": "code",
   "execution_count": 5,
   "id": "ae91ca50",
   "metadata": {},
   "outputs": [
    {
     "data": {
      "text/plain": [
       "Parameter containing:\n",
       "tensor([[-0.0728,  0.3307,  0.3670, -0.2710, -0.0201],\n",
       "        [-0.2362, -0.3563, -0.1161, -0.1238, -0.2363],\n",
       "        [ 0.1087, -0.0208, -0.3988,  0.2032, -0.1017]], requires_grad=True)"
      ]
     },
     "execution_count": 5,
     "metadata": {},
     "output_type": "execute_result"
    }
   ],
   "source": [
    "model.network[0].weight"
   ]
  },
  {
   "cell_type": "code",
   "execution_count": 6,
   "id": "c2965624",
   "metadata": {},
   "outputs": [
    {
     "data": {
      "text/plain": [
       "Parameter containing:\n",
       "tensor([[-0.3100, -0.4103,  0.2698]], requires_grad=True)"
      ]
     },
     "execution_count": 6,
     "metadata": {},
     "output_type": "execute_result"
    }
   ],
   "source": [
    "model.network[2].weight"
   ]
  },
  {
   "cell_type": "code",
   "execution_count": 7,
   "id": "5818f262",
   "metadata": {},
   "outputs": [
    {
     "data": {
      "text/plain": [
       "==========================================================================================\n",
       "Layer (type:depth-idx)                   Output Shape              Param #\n",
       "==========================================================================================\n",
       "Model                                    [100, 1]                  --\n",
       "├─Sequential: 1-1                        [100, 1]                  --\n",
       "│    └─Linear: 2-1                       [100, 3]                  18\n",
       "│    └─ReLU: 2-2                         [100, 3]                  --\n",
       "│    └─Linear: 2-3                       [100, 1]                  4\n",
       "│    └─Sigmoid: 2-4                      [100, 1]                  --\n",
       "==========================================================================================\n",
       "Total params: 22\n",
       "Trainable params: 22\n",
       "Non-trainable params: 0\n",
       "Total mult-adds (M): 0.00\n",
       "==========================================================================================\n",
       "Input size (MB): 0.00\n",
       "Forward/backward pass size (MB): 0.00\n",
       "Params size (MB): 0.00\n",
       "Estimated Total Size (MB): 0.01\n",
       "=========================================================================================="
      ]
     },
     "execution_count": 7,
     "metadata": {},
     "output_type": "execute_result"
    }
   ],
   "source": [
    "from torchinfo import summary\n",
    "summary(model, input_size=(features.shape[0],features.shape[1]))"
   ]
  }
 ],
 "metadata": {
  "kernelspec": {
   "display_name": ".env",
   "language": "python",
   "name": "python3"
  },
  "language_info": {
   "codemirror_mode": {
    "name": "ipython",
    "version": 3
   },
   "file_extension": ".py",
   "mimetype": "text/x-python",
   "name": "python",
   "nbconvert_exporter": "python",
   "pygments_lexer": "ipython3",
   "version": "3.10.11"
  }
 },
 "nbformat": 4,
 "nbformat_minor": 5
}
