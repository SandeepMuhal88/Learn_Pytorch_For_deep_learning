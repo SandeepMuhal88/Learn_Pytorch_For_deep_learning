{
 "cells": [
  {
   "cell_type": "code",
   "execution_count": null,
   "id": "f4e306e2",
   "metadata": {},
   "outputs": [],
   "source": [
    "import torch\n",
    "import torch.nn as nn\n",
    "# import torch.optim as optim\n",
    "\n",
    "\n"
   ]
  },
  {
   "cell_type": "code",
   "execution_count": null,
   "id": "e8aef335",
   "metadata": {},
   "outputs": [],
   "source": [
    "class Model(nn.Module):\n",
    "    def __init__(self, num_features):\n",
    "\n",
    "        super().__init__()\n",
    "        self.l1 = nn.Linear(num_features, 3)\n",
    "        self.relu = nn.ReLU()\n",
    "        self.l2=nn.Linear(3,1)\n",
    "        self.sigmoid=nn.Sigmoid()\n",
    "\n",
    "    def forward(self, x):\n",
    "        out=self.l1(x)\n",
    "        out=self.relu(out)\n",
    "        out=self.l2(out)\n",
    "        out=self.sigmoid(out)\n",
    "        return out\n",
    "        "
   ]
  },
  {
   "cell_type": "code",
   "execution_count": 2,
   "id": "e164d4fb",
   "metadata": {},
   "outputs": [
    {
     "data": {
      "text/plain": [
       "torch.Size([100, 5])"
      ]
     },
     "execution_count": 2,
     "metadata": {},
     "output_type": "execute_result"
    }
   ],
   "source": [
    "features = torch.randn(100, 5)\n",
    "\n",
    "\n",
    "features.shape\n"
   ]
  },
  {
   "cell_type": "code",
   "execution_count": 11,
   "id": "f2336bdd",
   "metadata": {},
   "outputs": [
    {
     "data": {
      "text/plain": [
       "tensor([[0.5140],\n",
       "        [0.4201],\n",
       "        [0.3740],\n",
       "        [0.4538],\n",
       "        [0.4381],\n",
       "        [0.4788],\n",
       "        [0.3834],\n",
       "        [0.5544],\n",
       "        [0.4438],\n",
       "        [0.3740],\n",
       "        [0.4217],\n",
       "        [0.4279],\n",
       "        [0.3870],\n",
       "        [0.4289],\n",
       "        [0.3805],\n",
       "        [0.4349],\n",
       "        [0.4328],\n",
       "        [0.3906],\n",
       "        [0.3996],\n",
       "        [0.4003],\n",
       "        [0.4610],\n",
       "        [0.4093],\n",
       "        [0.4729],\n",
       "        [0.3988],\n",
       "        [0.5118],\n",
       "        [0.3844],\n",
       "        [0.4218],\n",
       "        [0.5174],\n",
       "        [0.4061],\n",
       "        [0.3759],\n",
       "        [0.3740],\n",
       "        [0.3873],\n",
       "        [0.4049],\n",
       "        [0.5359],\n",
       "        [0.4084],\n",
       "        [0.4120],\n",
       "        [0.4536],\n",
       "        [0.4754],\n",
       "        [0.4157],\n",
       "        [0.3740],\n",
       "        [0.5018],\n",
       "        [0.5594],\n",
       "        [0.4297],\n",
       "        [0.4083],\n",
       "        [0.5089],\n",
       "        [0.3740],\n",
       "        [0.3757],\n",
       "        [0.5116],\n",
       "        [0.3740],\n",
       "        [0.4300],\n",
       "        [0.4495],\n",
       "        [0.4867],\n",
       "        [0.4397],\n",
       "        [0.4516],\n",
       "        [0.3894],\n",
       "        [0.4724],\n",
       "        [0.3740],\n",
       "        [0.5098],\n",
       "        [0.5306],\n",
       "        [0.3740],\n",
       "        [0.3822],\n",
       "        [0.3740],\n",
       "        [0.5020],\n",
       "        [0.3740],\n",
       "        [0.4234],\n",
       "        [0.3860],\n",
       "        [0.4815],\n",
       "        [0.4147],\n",
       "        [0.4207],\n",
       "        [0.4571],\n",
       "        [0.4650],\n",
       "        [0.3859],\n",
       "        [0.3973],\n",
       "        [0.4046],\n",
       "        [0.4194],\n",
       "        [0.3778],\n",
       "        [0.3961],\n",
       "        [0.4949],\n",
       "        [0.3740],\n",
       "        [0.3740],\n",
       "        [0.4155],\n",
       "        [0.4793],\n",
       "        [0.4041],\n",
       "        [0.3740],\n",
       "        [0.4347],\n",
       "        [0.4325],\n",
       "        [0.4048],\n",
       "        [0.4016],\n",
       "        [0.4591],\n",
       "        [0.4064],\n",
       "        [0.3868],\n",
       "        [0.4210],\n",
       "        [0.3740],\n",
       "        [0.3740],\n",
       "        [0.3740],\n",
       "        [0.4800],\n",
       "        [0.3740],\n",
       "        [0.4828],\n",
       "        [0.4046],\n",
       "        [0.3854]], grad_fn=<SigmoidBackward0>)"
      ]
     },
     "execution_count": 11,
     "metadata": {},
     "output_type": "execute_result"
    }
   ],
   "source": [
    "num_features = 5\n",
    "\n",
    "model = Model(num_features)\n",
    "model(features)\n"
   ]
  },
  {
   "cell_type": "code",
   "execution_count": 12,
   "id": "efdce8e2",
   "metadata": {},
   "outputs": [
    {
     "data": {
      "text/plain": [
       "Parameter containing:\n",
       "tensor([[ 0.4423, -0.0037,  0.1215, -0.0547,  0.2453],\n",
       "        [-0.0594, -0.1503, -0.2383, -0.3206,  0.0498],\n",
       "        [-0.3919,  0.1412,  0.1066,  0.2147,  0.2219]], requires_grad=True)"
      ]
     },
     "execution_count": 12,
     "metadata": {},
     "output_type": "execute_result"
    }
   ],
   "source": [
    "model.l1.weight"
   ]
  },
  {
   "cell_type": "code",
   "execution_count": 13,
   "id": "eb1f8286",
   "metadata": {},
   "outputs": [
    {
     "data": {
      "text/plain": [
       "==========================================================================================\n",
       "Layer (type:depth-idx)                   Output Shape              Param #\n",
       "==========================================================================================\n",
       "Model                                    [100, 1]                  --\n",
       "├─Linear: 1-1                            [100, 3]                  18\n",
       "├─ReLU: 1-2                              [100, 3]                  --\n",
       "├─Linear: 1-3                            [100, 1]                  4\n",
       "├─Sigmoid: 1-4                           [100, 1]                  --\n",
       "==========================================================================================\n",
       "Total params: 22\n",
       "Trainable params: 22\n",
       "Non-trainable params: 0\n",
       "Total mult-adds (M): 0.00\n",
       "==========================================================================================\n",
       "Input size (MB): 0.00\n",
       "Forward/backward pass size (MB): 0.00\n",
       "Params size (MB): 0.00\n",
       "Estimated Total Size (MB): 0.01\n",
       "=========================================================================================="
      ]
     },
     "execution_count": 13,
     "metadata": {},
     "output_type": "execute_result"
    }
   ],
   "source": [
    "from torchinfo import summary\n",
    "summary(model, input_size=(features.shape[0], features.shape[1]))"
   ]
  }
 ],
 "metadata": {
  "kernelspec": {
   "display_name": ".env",
   "language": "python",
   "name": "python3"
  },
  "language_info": {
   "codemirror_mode": {
    "name": "ipython",
    "version": 3
   },
   "file_extension": ".py",
   "mimetype": "text/x-python",
   "name": "python",
   "nbconvert_exporter": "python",
   "pygments_lexer": "ipython3",
   "version": "3.10.11"
  }
 },
 "nbformat": 4,
 "nbformat_minor": 5
}
